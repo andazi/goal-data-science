{
 "cells": [
  {
   "cell_type": "code",
   "execution_count": 70,
   "id": "57e3907c",
   "metadata": {},
   "outputs": [],
   "source": [
    "# import library\n",
    "import pandas as pd\n",
    "import numpy as np\n",
    "import plotly.graph_objects as go\n",
    "import plotly.express as px\n",
    "from datetime import datetime\n",
    "import streamlit as st"
   ]
  },
  {
   "cell_type": "code",
   "execution_count": 122,
   "id": "01ce8714",
   "metadata": {},
   "outputs": [],
   "source": [
    "# define functions\n",
    "\n",
    "# load data\n",
    "df_vid = pd.read_csv('resource/Video_Performance_Over_Time.csv')\n",
    "\n",
    "# dropping row Total to avoid issue with calculations\n",
    "df_agg = pd.read_csv('resource/Aggregated_Metrics_By_Video.csv').iloc[1:,:]\n",
    "\n",
    "df_agg_sub = pd.read_csv('resource/Aggregated_Metrics_By_Country_And_Subscriber_Status.csv')\n",
    "\n",
    "df_com = pd.read_csv('resource/All_Comments_Final.csv')"
   ]
  },
  {
   "cell_type": "code",
   "execution_count": 123,
   "id": "73922cb7",
   "metadata": {},
   "outputs": [],
   "source": [
    "# clean our data"
   ]
  },
  {
   "cell_type": "code",
   "execution_count": 124,
   "id": "b61becab",
   "metadata": {},
   "outputs": [],
   "source": [
    "# converting all columns to uppercase\n",
    "for df in [df_agg,df_vid,df_agg_sub, df_com]:\n",
    "    df.columns = df.columns.str.upper()\n"
   ]
  },
  {
   "cell_type": "code",
   "execution_count": 125,
   "id": "a5d9b575",
   "metadata": {},
   "outputs": [
    {
     "data": {
      "text/plain": [
       "Index(['COMMENTS', 'COMMENT_ID', 'REPLY_COUNT', 'LIKE_COUNT', 'DATE', 'VIDID',\n",
       "       'USER_ID'],\n",
       "      dtype='object')"
      ]
     },
     "execution_count": 125,
     "metadata": {},
     "output_type": "execute_result"
    }
   ],
   "source": [
    "# checking\n",
    "df_com.columns"
   ]
  },
  {
   "cell_type": "markdown",
   "id": "45e55c5b",
   "metadata": {},
   "source": [
    "__Cleaning df_agg__ dataset"
   ]
  },
  {
   "cell_type": "code",
   "execution_count": 126,
   "id": "f59c2e23",
   "metadata": {},
   "outputs": [
    {
     "name": "stdout",
     "output_type": "stream",
     "text": [
      "<class 'pandas.core.frame.DataFrame'>\n",
      "RangeIndex: 223 entries, 1 to 223\n",
      "Data columns (total 19 columns):\n",
      " #   Column                                Non-Null Count  Dtype  \n",
      "---  ------                                --------------  -----  \n",
      " 0   VIDEO                                 223 non-null    object \n",
      " 1   VIDEO TITLE                           223 non-null    object \n",
      " 2   VIDEO PUB­LISH TIME                   223 non-null    object \n",
      " 3   COM­MENTS AD­DED                      223 non-null    int64  \n",
      " 4   SHARES                                223 non-null    int64  \n",
      " 5   DIS­LIKES                             223 non-null    int64  \n",
      " 6   LIKES                                 223 non-null    int64  \n",
      " 7   SUB­SCRIBERS LOST                     223 non-null    int64  \n",
      " 8   SUB­SCRIBERS GAINED                   223 non-null    int64  \n",
      " 9   RPM (USD)                             223 non-null    float64\n",
      " 10  CPM (USD)                             221 non-null    float64\n",
      " 11  AV­ER­AGE PER­CENT­AGE VIEWED (%)     223 non-null    float64\n",
      " 12  AV­ER­AGE VIEW DUR­A­TION             223 non-null    object \n",
      " 13  VIEWS                                 223 non-null    int64  \n",
      " 14  WATCH TIME (HOURS)                    223 non-null    float64\n",
      " 15  SUB­SCRIBERS                          223 non-null    int64  \n",
      " 16  YOUR ES­TIM­ATED REV­EN­UE (USD)      223 non-null    float64\n",
      " 17  IM­PRES­SIONS                         223 non-null    int64  \n",
      " 18  IM­PRES­SIONS CLICK-THROUGH RATE (%)  223 non-null    float64\n",
      "dtypes: float64(6), int64(9), object(4)\n",
      "memory usage: 33.2+ KB\n"
     ]
    }
   ],
   "source": [
    "df_agg.info()"
   ]
  },
  {
   "cell_type": "code",
   "execution_count": 127,
   "id": "1f9cd935",
   "metadata": {},
   "outputs": [
    {
     "data": {
      "text/html": [
       "<div>\n",
       "<style scoped>\n",
       "    .dataframe tbody tr th:only-of-type {\n",
       "        vertical-align: middle;\n",
       "    }\n",
       "\n",
       "    .dataframe tbody tr th {\n",
       "        vertical-align: top;\n",
       "    }\n",
       "\n",
       "    .dataframe thead th {\n",
       "        text-align: right;\n",
       "    }\n",
       "</style>\n",
       "<table border=\"1\" class=\"dataframe\">\n",
       "  <thead>\n",
       "    <tr style=\"text-align: right;\">\n",
       "      <th></th>\n",
       "      <th>VIDEO</th>\n",
       "      <th>VIDEO TITLE</th>\n",
       "      <th>VIDEO PUB­LISH TIME</th>\n",
       "      <th>COM­MENTS AD­DED</th>\n",
       "      <th>SHARES</th>\n",
       "      <th>DIS­LIKES</th>\n",
       "      <th>LIKES</th>\n",
       "      <th>SUB­SCRIBERS LOST</th>\n",
       "      <th>SUB­SCRIBERS GAINED</th>\n",
       "      <th>RPM (USD)</th>\n",
       "      <th>CPM (USD)</th>\n",
       "      <th>AV­ER­AGE PER­CENT­AGE VIEWED (%)</th>\n",
       "      <th>AV­ER­AGE VIEW DUR­A­TION</th>\n",
       "      <th>VIEWS</th>\n",
       "      <th>WATCH TIME (HOURS)</th>\n",
       "      <th>SUB­SCRIBERS</th>\n",
       "      <th>YOUR ES­TIM­ATED REV­EN­UE (USD)</th>\n",
       "      <th>IM­PRES­SIONS</th>\n",
       "      <th>IM­PRES­SIONS CLICK-THROUGH RATE (%)</th>\n",
       "    </tr>\n",
       "  </thead>\n",
       "  <tbody>\n",
       "    <tr>\n",
       "      <th>1</th>\n",
       "      <td>4OZip0cgOho</td>\n",
       "      <td>How I Would Learn Data Science (If I Had to St...</td>\n",
       "      <td>May 8, 2020</td>\n",
       "      <td>907</td>\n",
       "      <td>9583</td>\n",
       "      <td>942</td>\n",
       "      <td>46903</td>\n",
       "      <td>451</td>\n",
       "      <td>46904</td>\n",
       "      <td>6.353</td>\n",
       "      <td>12.835</td>\n",
       "      <td>36.65</td>\n",
       "      <td>0:03:09</td>\n",
       "      <td>1253559</td>\n",
       "      <td>65850.7042</td>\n",
       "      <td>46453</td>\n",
       "      <td>7959.533</td>\n",
       "      <td>26498799</td>\n",
       "      <td>3.14</td>\n",
       "    </tr>\n",
       "  </tbody>\n",
       "</table>\n",
       "</div>"
      ],
      "text/plain": [
       "         VIDEO                                        VIDEO TITLE  \\\n",
       "1  4OZip0cgOho  How I Would Learn Data Science (If I Had to St...   \n",
       "\n",
       "  VIDEO PUB­LISH TIME  COM­MENTS AD­DED  SHARES  DIS­LIKES  LIKES  \\\n",
       "1         May 8, 2020               907    9583        942  46903   \n",
       "\n",
       "   SUB­SCRIBERS LOST  SUB­SCRIBERS GAINED  RPM (USD)  CPM (USD)  \\\n",
       "1                451                46904      6.353     12.835   \n",
       "\n",
       "   AV­ER­AGE PER­CENT­AGE VIEWED (%) AV­ER­AGE VIEW DUR­A­TION    VIEWS  \\\n",
       "1                              36.65                   0:03:09  1253559   \n",
       "\n",
       "   WATCH TIME (HOURS)  SUB­SCRIBERS  YOUR ES­TIM­ATED REV­EN­UE (USD)  \\\n",
       "1          65850.7042         46453                          7959.533   \n",
       "\n",
       "   IM­PRES­SIONS  IM­PRES­SIONS CLICK-THROUGH RATE (%)  \n",
       "1       26498799                                  3.14  "
      ]
     },
     "execution_count": 127,
     "metadata": {},
     "output_type": "execute_result"
    }
   ],
   "source": [
    "df_agg.head(1)"
   ]
  },
  {
   "cell_type": "code",
   "execution_count": 128,
   "id": "0da29c34",
   "metadata": {},
   "outputs": [
    {
     "data": {
      "text/plain": [
       "['VIDEO',\n",
       " 'VIDEO TITLE',\n",
       " 'VIDEO PUB\\xadLISH TIME',\n",
       " 'COM\\xadMENTS AD\\xadDED',\n",
       " 'SHARES',\n",
       " 'DIS\\xadLIKES',\n",
       " 'LIKES',\n",
       " 'SUB\\xadSCRIBERS LOST',\n",
       " 'SUB\\xadSCRIBERS GAINED',\n",
       " 'RPM (USD)',\n",
       " 'CPM (USD)',\n",
       " 'AV\\xadER\\xadAGE PER\\xadCENT\\xadAGE VIEWED (%)',\n",
       " 'AV\\xadER\\xadAGE VIEW DUR\\xadA\\xadTION',\n",
       " 'VIEWS',\n",
       " 'WATCH TIME (HOURS)',\n",
       " 'SUB\\xadSCRIBERS',\n",
       " 'YOUR ES\\xadTIM\\xadATED REV\\xadEN\\xadUE (USD)',\n",
       " 'IM\\xadPRES\\xadSIONS',\n",
       " 'IM\\xadPRES\\xadSIONS CLICK-THROUGH RATE (%)']"
      ]
     },
     "execution_count": 128,
     "metadata": {},
     "output_type": "execute_result"
    }
   ],
   "source": [
    "# checking columns\n",
    "df_agg.columns.tolist() # notice \\xad in our columns"
   ]
  },
  {
   "cell_type": "code",
   "execution_count": 129,
   "id": "33f7cb09",
   "metadata": {},
   "outputs": [],
   "source": [
    "# remove \\xad\n",
    "df_agg.columns = df_agg.columns.str.replace('\\xad','')"
   ]
  },
  {
   "cell_type": "code",
   "execution_count": 130,
   "id": "d6991833",
   "metadata": {},
   "outputs": [
    {
     "data": {
      "text/plain": [
       "['VIDEO',\n",
       " 'VIDEO TITLE',\n",
       " 'VIDEO PUBLISH TIME',\n",
       " 'COMMENTS ADDED',\n",
       " 'SHARES',\n",
       " 'DISLIKES',\n",
       " 'LIKES',\n",
       " 'SUBSCRIBERS LOST',\n",
       " 'SUBSCRIBERS GAINED',\n",
       " 'RPM (USD)',\n",
       " 'CPM (USD)',\n",
       " 'AVERAGE PERCENTAGE VIEWED (%)',\n",
       " 'AVERAGE VIEW DURATION',\n",
       " 'VIEWS',\n",
       " 'WATCH TIME (HOURS)',\n",
       " 'SUBSCRIBERS',\n",
       " 'YOUR ESTIMATED REVENUE (USD)',\n",
       " 'IMPRESSIONS',\n",
       " 'IMPRESSIONS CLICK-THROUGH RATE (%)']"
      ]
     },
     "execution_count": 130,
     "metadata": {},
     "output_type": "execute_result"
    }
   ],
   "source": [
    "# check \n",
    "df_agg.columns.tolist()"
   ]
  },
  {
   "cell_type": "code",
   "execution_count": 131,
   "id": "139c62af",
   "metadata": {},
   "outputs": [],
   "source": [
    "# convert date to datetype\n",
    "\n",
    "df_agg['VIDEO PUBLISH TIME'] = pd.to_datetime(df_agg['VIDEO PUBLISH TIME'], format='mixed')"
   ]
  },
  {
   "cell_type": "code",
   "execution_count": 132,
   "id": "461335f8",
   "metadata": {},
   "outputs": [
    {
     "data": {
      "text/plain": [
       "dtype('<M8[ns]')"
      ]
     },
     "execution_count": 132,
     "metadata": {},
     "output_type": "execute_result"
    }
   ],
   "source": [
    "df_agg['VIDEO PUBLISH TIME'].dtype #datetime dtype"
   ]
  },
  {
   "cell_type": "code",
   "execution_count": 133,
   "id": "9c9772e3",
   "metadata": {},
   "outputs": [
    {
     "data": {
      "text/plain": [
       "'0:04:56'"
      ]
     },
     "execution_count": 133,
     "metadata": {},
     "output_type": "execute_result"
    }
   ],
   "source": [
    "# AVERAGE VIEW DURATION is an object meaning it contains numbers and string\n",
    "df_agg['AVERAGE VIEW DURATION'][9] # a string"
   ]
  },
  {
   "cell_type": "code",
   "execution_count": 159,
   "id": "ea48f20f",
   "metadata": {},
   "outputs": [
    {
     "data": {
      "text/plain": [
       "datetime.datetime(1900, 1, 1, 0, 4, 56)"
      ]
     },
     "execution_count": 159,
     "metadata": {},
     "output_type": "execute_result"
    }
   ],
   "source": [
    "x = df_agg['AVERAGE VIEW DURATION'][9]\n",
    "\n",
    "datetime.strptime(x,'%H:%M:%S')\n"
   ]
  },
  {
   "cell_type": "code",
   "execution_count": 155,
   "id": "9bd0e417",
   "metadata": {},
   "outputs": [
    {
     "name": "stdout",
     "output_type": "stream",
     "text": [
      "Help on built-in function strptime:\n",
      "\n",
      "strptime(...) method of builtins.type instance\n",
      "    string, format -> new datetime parsed from a string (like time.strptime()).\n",
      "\n"
     ]
    }
   ],
   "source": [
    "help(datetime.strptime)"
   ]
  },
  {
   "cell_type": "code",
   "execution_count": null,
   "id": "ad9620ea",
   "metadata": {},
   "outputs": [],
   "source": []
  },
  {
   "cell_type": "code",
   "execution_count": 138,
   "id": "9e1e8669",
   "metadata": {},
   "outputs": [
    {
     "data": {
      "text/plain": [
       "'0:04:56'"
      ]
     },
     "execution_count": 138,
     "metadata": {},
     "output_type": "execute_result"
    }
   ],
   "source": [
    "time_component = df_agg['AVERAGE VIEW DURATION'][9]\n",
    "time_component"
   ]
  },
  {
   "cell_type": "code",
   "execution_count": 109,
   "id": "6ef86b0f",
   "metadata": {},
   "outputs": [],
   "source": [
    "df_agg['AVERAGE VIEW DURATION'] = df_agg['AVERAGE VIEW DURATION'].apply(lambda x: datetime.strptime(x, '%H:%M:%S'))"
   ]
  },
  {
   "cell_type": "code",
   "execution_count": 119,
   "id": "5c09bf0b",
   "metadata": {},
   "outputs": [
    {
     "data": {
      "text/plain": [
       "Timestamp('1900-01-01 00:04:56')"
      ]
     },
     "execution_count": 119,
     "metadata": {},
     "output_type": "execute_result"
    }
   ],
   "source": [
    "df_agg['AVERAGE VIEW DURATION'][9]"
   ]
  },
  {
   "cell_type": "code",
   "execution_count": 111,
   "id": "7d2b8983",
   "metadata": {},
   "outputs": [
    {
     "data": {
      "text/html": [
       "<div>\n",
       "<style scoped>\n",
       "    .dataframe tbody tr th:only-of-type {\n",
       "        vertical-align: middle;\n",
       "    }\n",
       "\n",
       "    .dataframe tbody tr th {\n",
       "        vertical-align: top;\n",
       "    }\n",
       "\n",
       "    .dataframe thead th {\n",
       "        text-align: right;\n",
       "    }\n",
       "</style>\n",
       "<table border=\"1\" class=\"dataframe\">\n",
       "  <thead>\n",
       "    <tr style=\"text-align: right;\">\n",
       "      <th></th>\n",
       "      <th>VIDEO</th>\n",
       "      <th>VIDEO TITLE</th>\n",
       "      <th>VIDEO PUBLISH TIME</th>\n",
       "      <th>COMMENTS ADDED</th>\n",
       "      <th>SHARES</th>\n",
       "      <th>DISLIKES</th>\n",
       "      <th>LIKES</th>\n",
       "      <th>SUBSCRIBERS LOST</th>\n",
       "      <th>SUBSCRIBERS GAINED</th>\n",
       "      <th>RPM (USD)</th>\n",
       "      <th>CPM (USD)</th>\n",
       "      <th>AVERAGE PERCENTAGE VIEWED (%)</th>\n",
       "      <th>AVERAGE VIEW DURATION</th>\n",
       "      <th>VIEWS</th>\n",
       "      <th>WATCH TIME (HOURS)</th>\n",
       "      <th>SUBSCRIBERS</th>\n",
       "      <th>YOUR ESTIMATED REVENUE (USD)</th>\n",
       "      <th>IMPRESSIONS</th>\n",
       "      <th>IMPRESSIONS CLICK-THROUGH RATE (%)</th>\n",
       "    </tr>\n",
       "  </thead>\n",
       "  <tbody>\n",
       "    <tr>\n",
       "      <th>1</th>\n",
       "      <td>4OZip0cgOho</td>\n",
       "      <td>How I Would Learn Data Science (If I Had to St...</td>\n",
       "      <td>2020-05-08</td>\n",
       "      <td>907</td>\n",
       "      <td>9583</td>\n",
       "      <td>942</td>\n",
       "      <td>46903</td>\n",
       "      <td>451</td>\n",
       "      <td>46904</td>\n",
       "      <td>6.353</td>\n",
       "      <td>12.835</td>\n",
       "      <td>36.65</td>\n",
       "      <td>1900-01-01 00:03:09</td>\n",
       "      <td>1253559</td>\n",
       "      <td>65850.7042</td>\n",
       "      <td>46453</td>\n",
       "      <td>7959.533</td>\n",
       "      <td>26498799</td>\n",
       "      <td>3.14</td>\n",
       "    </tr>\n",
       "  </tbody>\n",
       "</table>\n",
       "</div>"
      ],
      "text/plain": [
       "         VIDEO                                        VIDEO TITLE  \\\n",
       "1  4OZip0cgOho  How I Would Learn Data Science (If I Had to St...   \n",
       "\n",
       "  VIDEO PUBLISH TIME  COMMENTS ADDED  SHARES  DISLIKES  LIKES  \\\n",
       "1         2020-05-08             907    9583       942  46903   \n",
       "\n",
       "   SUBSCRIBERS LOST  SUBSCRIBERS GAINED  RPM (USD)  CPM (USD)  \\\n",
       "1               451               46904      6.353     12.835   \n",
       "\n",
       "   AVERAGE PERCENTAGE VIEWED (%) AVERAGE VIEW DURATION    VIEWS  \\\n",
       "1                          36.65   1900-01-01 00:03:09  1253559   \n",
       "\n",
       "   WATCH TIME (HOURS)  SUBSCRIBERS  YOUR ESTIMATED REVENUE (USD)  IMPRESSIONS  \\\n",
       "1          65850.7042        46453                      7959.533     26498799   \n",
       "\n",
       "   IMPRESSIONS CLICK-THROUGH RATE (%)  \n",
       "1                                3.14  "
      ]
     },
     "execution_count": 111,
     "metadata": {},
     "output_type": "execute_result"
    }
   ],
   "source": [
    "df_agg.head(1)"
   ]
  },
  {
   "cell_type": "code",
   "execution_count": 45,
   "id": "a99614e2",
   "metadata": {},
   "outputs": [
    {
     "data": {
      "text/plain": [
       "VIDEO                                   0\n",
       "VIDEO TITLE                             0\n",
       "VIDEO PUB­LISH TIME                     0\n",
       "COM­MENTS AD­DED                        0\n",
       "SHARES                                  0\n",
       "DIS­LIKES                               0\n",
       "LIKES                                   0\n",
       "SUB­SCRIBERS LOST                       0\n",
       "SUB­SCRIBERS GAINED                     0\n",
       "RPM (USD)                               0\n",
       "CPM (USD)                               2\n",
       "AV­ER­AGE PER­CENT­AGE VIEWED (%)       0\n",
       "AV­ER­AGE VIEW DUR­A­TION               0\n",
       "VIEWS                                   0\n",
       "WATCH TIME (HOURS)                      0\n",
       "SUB­SCRIBERS                            0\n",
       "YOUR ES­TIM­ATED REV­EN­UE (USD)        0\n",
       "IM­PRES­SIONS                           0\n",
       "IM­PRES­SIONS CLICK-THROUGH RATE (%)    0\n",
       "dtype: int64"
      ]
     },
     "execution_count": 45,
     "metadata": {},
     "output_type": "execute_result"
    }
   ],
   "source": [
    "# checking for missing value\n",
    "\n",
    "df_agg.isna().sum()"
   ]
  },
  {
   "cell_type": "code",
   "execution_count": 24,
   "id": "e106f8af",
   "metadata": {},
   "outputs": [],
   "source": [
    "# engineer data\n",
    "## what metrics wil be relevant\n",
    "## difference from baseline\n",
    "## percent change\n",
    "\n",
    "# build dashboard\n",
    "## local picture\n",
    "## individual video\n",
    "\n",
    "# improvement"
   ]
  },
  {
   "cell_type": "code",
   "execution_count": null,
   "id": "f133d67f",
   "metadata": {},
   "outputs": [],
   "source": []
  }
 ],
 "metadata": {
  "kernelspec": {
   "display_name": "Python 3 (ipykernel)",
   "language": "python",
   "name": "python3"
  },
  "language_info": {
   "codemirror_mode": {
    "name": "ipython",
    "version": 3
   },
   "file_extension": ".py",
   "mimetype": "text/x-python",
   "name": "python",
   "nbconvert_exporter": "python",
   "pygments_lexer": "ipython3",
   "version": "3.11.5"
  }
 },
 "nbformat": 4,
 "nbformat_minor": 5
}
