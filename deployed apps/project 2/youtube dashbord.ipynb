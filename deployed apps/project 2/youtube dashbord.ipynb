{
 "cells": [
  {
   "cell_type": "code",
   "execution_count": 295,
   "id": "11bd1939",
   "metadata": {},
   "outputs": [],
   "source": [
    "# import library\n",
    "import pandas as pd\n",
    "import numpy as np\n",
    "import plotly.graph_objects as go\n",
    "import plotly.express as px\n",
    "from datetime import datetime\n",
    "import streamlit as st\n",
    "from pandas.tseries.offsets import DateOffset"
   ]
  },
  {
   "cell_type": "code",
   "execution_count": 296,
   "id": "2b74b5cf",
   "metadata": {},
   "outputs": [],
   "source": [
    "# define functions\n",
    "\n",
    "# load data\n",
    "df_vid = pd.read_csv('resource/Video_Performance_Over_Time.csv')\n",
    "\n",
    "# dropping row Total to avoid issue with calculations\n",
    "df_agg = pd.read_csv('resource/Aggregated_Metrics_By_Video.csv').iloc[1:,:]\n",
    "\n",
    "df_agg_sub = pd.read_csv('resource/Aggregated_Metrics_By_Country_And_Subscriber_Status.csv')\n",
    "\n",
    "df_com = pd.read_csv('resource/All_Comments_Final.csv')"
   ]
  },
  {
   "cell_type": "code",
   "execution_count": 297,
   "id": "c47ff7b8",
   "metadata": {},
   "outputs": [],
   "source": [
    "# clean our data"
   ]
  },
  {
   "cell_type": "code",
   "execution_count": 298,
   "id": "f93d198a",
   "metadata": {},
   "outputs": [],
   "source": [
    "# converting all columns to uppercase\n",
    "for df in [df_agg,df_vid,df_agg_sub, df_com]:\n",
    "    df.columns = df.columns.str.upper()\n"
   ]
  },
  {
   "cell_type": "code",
   "execution_count": 299,
   "id": "a48c76de",
   "metadata": {},
   "outputs": [
    {
     "data": {
      "text/plain": [
       "Index(['COMMENTS', 'COMMENT_ID', 'REPLY_COUNT', 'LIKE_COUNT', 'DATE', 'VIDID',\n",
       "       'USER_ID'],\n",
       "      dtype='object')"
      ]
     },
     "execution_count": 299,
     "metadata": {},
     "output_type": "execute_result"
    }
   ],
   "source": [
    "# checking\n",
    "df_com.columns"
   ]
  },
  {
   "cell_type": "code",
   "execution_count": 300,
   "id": "553138fe",
   "metadata": {},
   "outputs": [
    {
     "name": "stdout",
     "output_type": "stream",
     "text": [
      "<class 'pandas.core.frame.DataFrame'>\n",
      "RangeIndex: 223 entries, 1 to 223\n",
      "Data columns (total 19 columns):\n",
      " #   Column                                Non-Null Count  Dtype  \n",
      "---  ------                                --------------  -----  \n",
      " 0   VIDEO                                 223 non-null    object \n",
      " 1   VIDEO TITLE                           223 non-null    object \n",
      " 2   VIDEO PUB­LISH TIME                   223 non-null    object \n",
      " 3   COM­MENTS AD­DED                      223 non-null    int64  \n",
      " 4   SHARES                                223 non-null    int64  \n",
      " 5   DIS­LIKES                             223 non-null    int64  \n",
      " 6   LIKES                                 223 non-null    int64  \n",
      " 7   SUB­SCRIBERS LOST                     223 non-null    int64  \n",
      " 8   SUB­SCRIBERS GAINED                   223 non-null    int64  \n",
      " 9   RPM (USD)                             223 non-null    float64\n",
      " 10  CPM (USD)                             221 non-null    float64\n",
      " 11  AV­ER­AGE PER­CENT­AGE VIEWED (%)     223 non-null    float64\n",
      " 12  AV­ER­AGE VIEW DUR­A­TION             223 non-null    object \n",
      " 13  VIEWS                                 223 non-null    int64  \n",
      " 14  WATCH TIME (HOURS)                    223 non-null    float64\n",
      " 15  SUB­SCRIBERS                          223 non-null    int64  \n",
      " 16  YOUR ES­TIM­ATED REV­EN­UE (USD)      223 non-null    float64\n",
      " 17  IM­PRES­SIONS                         223 non-null    int64  \n",
      " 18  IM­PRES­SIONS CLICK-THROUGH RATE (%)  223 non-null    float64\n",
      "dtypes: float64(6), int64(9), object(4)\n",
      "memory usage: 33.2+ KB\n"
     ]
    }
   ],
   "source": [
    "df_agg.info()"
   ]
  },
  {
   "cell_type": "code",
   "execution_count": 301,
   "id": "9703c383",
   "metadata": {},
   "outputs": [
    {
     "data": {
      "text/html": [
       "<div>\n",
       "<style scoped>\n",
       "    .dataframe tbody tr th:only-of-type {\n",
       "        vertical-align: middle;\n",
       "    }\n",
       "\n",
       "    .dataframe tbody tr th {\n",
       "        vertical-align: top;\n",
       "    }\n",
       "\n",
       "    .dataframe thead th {\n",
       "        text-align: right;\n",
       "    }\n",
       "</style>\n",
       "<table border=\"1\" class=\"dataframe\">\n",
       "  <thead>\n",
       "    <tr style=\"text-align: right;\">\n",
       "      <th></th>\n",
       "      <th>VIDEO</th>\n",
       "      <th>VIDEO TITLE</th>\n",
       "      <th>VIDEO PUB­LISH TIME</th>\n",
       "      <th>COM­MENTS AD­DED</th>\n",
       "      <th>SHARES</th>\n",
       "      <th>DIS­LIKES</th>\n",
       "      <th>LIKES</th>\n",
       "      <th>SUB­SCRIBERS LOST</th>\n",
       "      <th>SUB­SCRIBERS GAINED</th>\n",
       "      <th>RPM (USD)</th>\n",
       "      <th>CPM (USD)</th>\n",
       "      <th>AV­ER­AGE PER­CENT­AGE VIEWED (%)</th>\n",
       "      <th>AV­ER­AGE VIEW DUR­A­TION</th>\n",
       "      <th>VIEWS</th>\n",
       "      <th>WATCH TIME (HOURS)</th>\n",
       "      <th>SUB­SCRIBERS</th>\n",
       "      <th>YOUR ES­TIM­ATED REV­EN­UE (USD)</th>\n",
       "      <th>IM­PRES­SIONS</th>\n",
       "      <th>IM­PRES­SIONS CLICK-THROUGH RATE (%)</th>\n",
       "    </tr>\n",
       "  </thead>\n",
       "  <tbody>\n",
       "    <tr>\n",
       "      <th>1</th>\n",
       "      <td>4OZip0cgOho</td>\n",
       "      <td>How I Would Learn Data Science (If I Had to St...</td>\n",
       "      <td>May 8, 2020</td>\n",
       "      <td>907</td>\n",
       "      <td>9583</td>\n",
       "      <td>942</td>\n",
       "      <td>46903</td>\n",
       "      <td>451</td>\n",
       "      <td>46904</td>\n",
       "      <td>6.353</td>\n",
       "      <td>12.835</td>\n",
       "      <td>36.65</td>\n",
       "      <td>0:03:09</td>\n",
       "      <td>1253559</td>\n",
       "      <td>65850.7042</td>\n",
       "      <td>46453</td>\n",
       "      <td>7959.533</td>\n",
       "      <td>26498799</td>\n",
       "      <td>3.14</td>\n",
       "    </tr>\n",
       "  </tbody>\n",
       "</table>\n",
       "</div>"
      ],
      "text/plain": [
       "         VIDEO                                        VIDEO TITLE  \\\n",
       "1  4OZip0cgOho  How I Would Learn Data Science (If I Had to St...   \n",
       "\n",
       "  VIDEO PUB­LISH TIME  COM­MENTS AD­DED  SHARES  DIS­LIKES  LIKES  \\\n",
       "1         May 8, 2020               907    9583        942  46903   \n",
       "\n",
       "   SUB­SCRIBERS LOST  SUB­SCRIBERS GAINED  RPM (USD)  CPM (USD)  \\\n",
       "1                451                46904      6.353     12.835   \n",
       "\n",
       "   AV­ER­AGE PER­CENT­AGE VIEWED (%) AV­ER­AGE VIEW DUR­A­TION    VIEWS  \\\n",
       "1                              36.65                   0:03:09  1253559   \n",
       "\n",
       "   WATCH TIME (HOURS)  SUB­SCRIBERS  YOUR ES­TIM­ATED REV­EN­UE (USD)  \\\n",
       "1          65850.7042         46453                          7959.533   \n",
       "\n",
       "   IM­PRES­SIONS  IM­PRES­SIONS CLICK-THROUGH RATE (%)  \n",
       "1       26498799                                  3.14  "
      ]
     },
     "execution_count": 301,
     "metadata": {},
     "output_type": "execute_result"
    }
   ],
   "source": [
    "df_agg.head(1)"
   ]
  },
  {
   "cell_type": "code",
   "execution_count": 302,
   "id": "1ce21787",
   "metadata": {},
   "outputs": [
    {
     "data": {
      "text/plain": [
       "['VIDEO',\n",
       " 'VIDEO TITLE',\n",
       " 'VIDEO PUB\\xadLISH TIME',\n",
       " 'COM\\xadMENTS AD\\xadDED',\n",
       " 'SHARES',\n",
       " 'DIS\\xadLIKES',\n",
       " 'LIKES',\n",
       " 'SUB\\xadSCRIBERS LOST',\n",
       " 'SUB\\xadSCRIBERS GAINED',\n",
       " 'RPM (USD)',\n",
       " 'CPM (USD)',\n",
       " 'AV\\xadER\\xadAGE PER\\xadCENT\\xadAGE VIEWED (%)',\n",
       " 'AV\\xadER\\xadAGE VIEW DUR\\xadA\\xadTION',\n",
       " 'VIEWS',\n",
       " 'WATCH TIME (HOURS)',\n",
       " 'SUB\\xadSCRIBERS',\n",
       " 'YOUR ES\\xadTIM\\xadATED REV\\xadEN\\xadUE (USD)',\n",
       " 'IM\\xadPRES\\xadSIONS',\n",
       " 'IM\\xadPRES\\xadSIONS CLICK-THROUGH RATE (%)']"
      ]
     },
     "execution_count": 302,
     "metadata": {},
     "output_type": "execute_result"
    }
   ],
   "source": [
    "# checking columns\n",
    "df_agg.columns.tolist() # notice \\xad in our columns"
   ]
  },
  {
   "cell_type": "code",
   "execution_count": 303,
   "id": "67020352",
   "metadata": {},
   "outputs": [],
   "source": [
    "# remove \\xad\n",
    "df_agg.columns = df_agg.columns.str.replace('\\xad','')"
   ]
  },
  {
   "cell_type": "code",
   "execution_count": 304,
   "id": "3c2f453f",
   "metadata": {},
   "outputs": [
    {
     "data": {
      "text/plain": [
       "['VIDEO',\n",
       " 'VIDEO TITLE',\n",
       " 'VIDEO PUBLISH TIME',\n",
       " 'COMMENTS ADDED',\n",
       " 'SHARES',\n",
       " 'DISLIKES',\n",
       " 'LIKES',\n",
       " 'SUBSCRIBERS LOST',\n",
       " 'SUBSCRIBERS GAINED',\n",
       " 'RPM (USD)',\n",
       " 'CPM (USD)',\n",
       " 'AVERAGE PERCENTAGE VIEWED (%)',\n",
       " 'AVERAGE VIEW DURATION',\n",
       " 'VIEWS',\n",
       " 'WATCH TIME (HOURS)',\n",
       " 'SUBSCRIBERS',\n",
       " 'YOUR ESTIMATED REVENUE (USD)',\n",
       " 'IMPRESSIONS',\n",
       " 'IMPRESSIONS CLICK-THROUGH RATE (%)']"
      ]
     },
     "execution_count": 304,
     "metadata": {},
     "output_type": "execute_result"
    }
   ],
   "source": [
    "# check \n",
    "df_agg.columns.tolist()"
   ]
  },
  {
   "cell_type": "code",
   "execution_count": 305,
   "id": "392fd5e4",
   "metadata": {},
   "outputs": [],
   "source": [
    "# convert date to datetype\n",
    "\n",
    "df_agg['VIDEO PUBLISH TIME'] = pd.to_datetime(df_agg['VIDEO PUBLISH TIME'], format='mixed')"
   ]
  },
  {
   "cell_type": "code",
   "execution_count": 306,
   "id": "1a1555e4",
   "metadata": {},
   "outputs": [
    {
     "data": {
      "text/plain": [
       "1     2020-05-08\n",
       "2     2020-11-12\n",
       "3     2020-07-16\n",
       "4     2020-08-29\n",
       "5     2020-08-05\n",
       "         ...    \n",
       "219   2018-11-30\n",
       "220   2019-05-25\n",
       "221   2018-12-18\n",
       "222   2019-05-05\n",
       "223   2017-06-06\n",
       "Name: VIDEO PUBLISH TIME, Length: 223, dtype: datetime64[ns]"
      ]
     },
     "execution_count": 306,
     "metadata": {},
     "output_type": "execute_result"
    }
   ],
   "source": [
    "df_agg['VIDEO PUBLISH TIME']"
   ]
  },
  {
   "cell_type": "code",
   "execution_count": 307,
   "id": "42055cbf",
   "metadata": {},
   "outputs": [
    {
     "data": {
      "text/plain": [
       "Timestamp('2020-07-01 00:00:00')"
      ]
     },
     "execution_count": 307,
     "metadata": {},
     "output_type": "execute_result"
    }
   ],
   "source": [
    "df_agg['VIDEO PUBLISH TIME'][9]"
   ]
  },
  {
   "cell_type": "code",
   "execution_count": 308,
   "id": "a3ff575c",
   "metadata": {},
   "outputs": [
    {
     "data": {
      "text/html": [
       "<div>\n",
       "<style scoped>\n",
       "    .dataframe tbody tr th:only-of-type {\n",
       "        vertical-align: middle;\n",
       "    }\n",
       "\n",
       "    .dataframe tbody tr th {\n",
       "        vertical-align: top;\n",
       "    }\n",
       "\n",
       "    .dataframe thead th {\n",
       "        text-align: right;\n",
       "    }\n",
       "</style>\n",
       "<table border=\"1\" class=\"dataframe\">\n",
       "  <thead>\n",
       "    <tr style=\"text-align: right;\">\n",
       "      <th></th>\n",
       "      <th>VIDEO</th>\n",
       "      <th>VIDEO TITLE</th>\n",
       "      <th>VIDEO PUBLISH TIME</th>\n",
       "      <th>COMMENTS ADDED</th>\n",
       "      <th>SHARES</th>\n",
       "      <th>DISLIKES</th>\n",
       "      <th>LIKES</th>\n",
       "      <th>SUBSCRIBERS LOST</th>\n",
       "      <th>SUBSCRIBERS GAINED</th>\n",
       "      <th>RPM (USD)</th>\n",
       "      <th>CPM (USD)</th>\n",
       "      <th>AVERAGE PERCENTAGE VIEWED (%)</th>\n",
       "      <th>AVERAGE VIEW DURATION</th>\n",
       "      <th>VIEWS</th>\n",
       "      <th>WATCH TIME (HOURS)</th>\n",
       "      <th>SUBSCRIBERS</th>\n",
       "      <th>YOUR ESTIMATED REVENUE (USD)</th>\n",
       "      <th>IMPRESSIONS</th>\n",
       "      <th>IMPRESSIONS CLICK-THROUGH RATE (%)</th>\n",
       "    </tr>\n",
       "  </thead>\n",
       "  <tbody>\n",
       "    <tr>\n",
       "      <th>1</th>\n",
       "      <td>4OZip0cgOho</td>\n",
       "      <td>How I Would Learn Data Science (If I Had to St...</td>\n",
       "      <td>2020-05-08</td>\n",
       "      <td>907</td>\n",
       "      <td>9583</td>\n",
       "      <td>942</td>\n",
       "      <td>46903</td>\n",
       "      <td>451</td>\n",
       "      <td>46904</td>\n",
       "      <td>6.353</td>\n",
       "      <td>12.835</td>\n",
       "      <td>36.65</td>\n",
       "      <td>0:03:09</td>\n",
       "      <td>1253559</td>\n",
       "      <td>65850.7042</td>\n",
       "      <td>46453</td>\n",
       "      <td>7959.533</td>\n",
       "      <td>26498799</td>\n",
       "      <td>3.14</td>\n",
       "    </tr>\n",
       "  </tbody>\n",
       "</table>\n",
       "</div>"
      ],
      "text/plain": [
       "         VIDEO                                        VIDEO TITLE  \\\n",
       "1  4OZip0cgOho  How I Would Learn Data Science (If I Had to St...   \n",
       "\n",
       "  VIDEO PUBLISH TIME  COMMENTS ADDED  SHARES  DISLIKES  LIKES  \\\n",
       "1         2020-05-08             907    9583       942  46903   \n",
       "\n",
       "   SUBSCRIBERS LOST  SUBSCRIBERS GAINED  RPM (USD)  CPM (USD)  \\\n",
       "1               451               46904      6.353     12.835   \n",
       "\n",
       "   AVERAGE PERCENTAGE VIEWED (%) AVERAGE VIEW DURATION    VIEWS  \\\n",
       "1                          36.65               0:03:09  1253559   \n",
       "\n",
       "   WATCH TIME (HOURS)  SUBSCRIBERS  YOUR ESTIMATED REVENUE (USD)  IMPRESSIONS  \\\n",
       "1          65850.7042        46453                      7959.533     26498799   \n",
       "\n",
       "   IMPRESSIONS CLICK-THROUGH RATE (%)  \n",
       "1                                3.14  "
      ]
     },
     "execution_count": 308,
     "metadata": {},
     "output_type": "execute_result"
    }
   ],
   "source": [
    "df_agg.head(1)"
   ]
  },
  {
   "cell_type": "code",
   "execution_count": 309,
   "id": "d2c81066",
   "metadata": {},
   "outputs": [
    {
     "data": {
      "text/plain": [
       "VIDEO                                 0\n",
       "VIDEO TITLE                           0\n",
       "VIDEO PUBLISH TIME                    0\n",
       "COMMENTS ADDED                        0\n",
       "SHARES                                0\n",
       "DISLIKES                              0\n",
       "LIKES                                 0\n",
       "SUBSCRIBERS LOST                      0\n",
       "SUBSCRIBERS GAINED                    0\n",
       "RPM (USD)                             0\n",
       "CPM (USD)                             2\n",
       "AVERAGE PERCENTAGE VIEWED (%)         0\n",
       "AVERAGE VIEW DURATION                 0\n",
       "VIEWS                                 0\n",
       "WATCH TIME (HOURS)                    0\n",
       "SUBSCRIBERS                           0\n",
       "YOUR ESTIMATED REVENUE (USD)          0\n",
       "IMPRESSIONS                           0\n",
       "IMPRESSIONS CLICK-THROUGH RATE (%)    0\n",
       "dtype: int64"
      ]
     },
     "execution_count": 309,
     "metadata": {},
     "output_type": "execute_result"
    }
   ],
   "source": [
    "df_agg.isna().sum()"
   ]
  },
  {
   "cell_type": "code",
   "execution_count": 310,
   "id": "864f6e0e",
   "metadata": {},
   "outputs": [],
   "source": [
    "# dropping Nan value\n",
    "df_agg.dropna(inplace=True)"
   ]
  },
  {
   "cell_type": "code",
   "execution_count": 311,
   "id": "ee857989",
   "metadata": {},
   "outputs": [
    {
     "data": {
      "text/plain": [
       "VIDEO                                 0\n",
       "VIDEO TITLE                           0\n",
       "VIDEO PUBLISH TIME                    0\n",
       "COMMENTS ADDED                        0\n",
       "SHARES                                0\n",
       "DISLIKES                              0\n",
       "LIKES                                 0\n",
       "SUBSCRIBERS LOST                      0\n",
       "SUBSCRIBERS GAINED                    0\n",
       "RPM (USD)                             0\n",
       "CPM (USD)                             0\n",
       "AVERAGE PERCENTAGE VIEWED (%)         0\n",
       "AVERAGE VIEW DURATION                 0\n",
       "VIEWS                                 0\n",
       "WATCH TIME (HOURS)                    0\n",
       "SUBSCRIBERS                           0\n",
       "YOUR ESTIMATED REVENUE (USD)          0\n",
       "IMPRESSIONS                           0\n",
       "IMPRESSIONS CLICK-THROUGH RATE (%)    0\n",
       "dtype: int64"
      ]
     },
     "execution_count": 311,
     "metadata": {},
     "output_type": "execute_result"
    }
   ],
   "source": [
    "df_agg.isna().sum()"
   ]
  },
  {
   "cell_type": "code",
   "execution_count": 316,
   "id": "b4e72120",
   "metadata": {},
   "outputs": [
    {
     "data": {
      "text/plain": [
       "'0:04:56'"
      ]
     },
     "execution_count": 316,
     "metadata": {},
     "output_type": "execute_result"
    }
   ],
   "source": [
    "# AVERAGE VIEW DURATION is an object meaning it contains numbers and string\n",
    "df_agg['AVERAGE VIEW DURATION'][9] # a string"
   ]
  },
  {
   "cell_type": "code",
   "execution_count": 317,
   "id": "d90337aa",
   "metadata": {},
   "outputs": [
    {
     "name": "stderr",
     "output_type": "stream",
     "text": [
      "/tmp/ipykernel_55684/2397845352.py:1: UserWarning: Could not infer format, so each element will be parsed individually, falling back to `dateutil`. To ensure parsing is consistent and as-expected, please specify a format.\n",
      "  df_agg['AVERAGE VIEW DURATION'] = pd.to_datetime(df_agg['AVERAGE VIEW DURATION']).dt.time\n"
     ]
    },
    {
     "data": {
      "text/plain": [
       "datetime.time(0, 4, 56)"
      ]
     },
     "execution_count": 317,
     "metadata": {},
     "output_type": "execute_result"
    }
   ],
   "source": [
    "df_agg['AVERAGE VIEW DURATION'] = pd.to_datetime(df_agg['AVERAGE VIEW DURATION']).dt.time\n",
    "\n",
    "\n",
    "# check\n",
    "df_agg['AVERAGE VIEW DURATION'][9]"
   ]
  },
  {
   "cell_type": "code",
   "execution_count": 318,
   "id": "478a404c",
   "metadata": {},
   "outputs": [
    {
     "data": {
      "text/plain": [
       "296"
      ]
     },
     "execution_count": 318,
     "metadata": {},
     "output_type": "execute_result"
    }
   ],
   "source": [
    "# create new column for df_agg['AVERAGE VIEW SECONDS'\n",
    "df_agg['AVERAGE VIEW SECONDS'] = df_agg['AVERAGE VIEW DURATION'].apply(lambda x: x.second + x.minute * 60 + x.hour * 60 * 60)\n",
    "\n",
    "# check\n",
    "df_agg['AVERAGE VIEW SECONDS'][9]"
   ]
  },
  {
   "cell_type": "code",
   "execution_count": 319,
   "id": "e7fbbc35",
   "metadata": {},
   "outputs": [
    {
     "data": {
      "text/html": [
       "<div>\n",
       "<style scoped>\n",
       "    .dataframe tbody tr th:only-of-type {\n",
       "        vertical-align: middle;\n",
       "    }\n",
       "\n",
       "    .dataframe tbody tr th {\n",
       "        vertical-align: top;\n",
       "    }\n",
       "\n",
       "    .dataframe thead th {\n",
       "        text-align: right;\n",
       "    }\n",
       "</style>\n",
       "<table border=\"1\" class=\"dataframe\">\n",
       "  <thead>\n",
       "    <tr style=\"text-align: right;\">\n",
       "      <th></th>\n",
       "      <th>VIDEO</th>\n",
       "      <th>VIDEO TITLE</th>\n",
       "      <th>VIDEO PUBLISH TIME</th>\n",
       "      <th>COMMENTS ADDED</th>\n",
       "      <th>SHARES</th>\n",
       "      <th>DISLIKES</th>\n",
       "      <th>LIKES</th>\n",
       "      <th>SUBSCRIBERS LOST</th>\n",
       "      <th>SUBSCRIBERS GAINED</th>\n",
       "      <th>RPM (USD)</th>\n",
       "      <th>CPM (USD)</th>\n",
       "      <th>AVERAGE PERCENTAGE VIEWED (%)</th>\n",
       "      <th>AVERAGE VIEW DURATION</th>\n",
       "      <th>VIEWS</th>\n",
       "      <th>WATCH TIME (HOURS)</th>\n",
       "      <th>SUBSCRIBERS</th>\n",
       "      <th>YOUR ESTIMATED REVENUE (USD)</th>\n",
       "      <th>IMPRESSIONS</th>\n",
       "      <th>IMPRESSIONS CLICK-THROUGH RATE (%)</th>\n",
       "      <th>AVERAGE VIEW SECONDS</th>\n",
       "    </tr>\n",
       "  </thead>\n",
       "  <tbody>\n",
       "    <tr>\n",
       "      <th>1</th>\n",
       "      <td>4OZip0cgOho</td>\n",
       "      <td>How I Would Learn Data Science (If I Had to St...</td>\n",
       "      <td>2020-05-08</td>\n",
       "      <td>907</td>\n",
       "      <td>9583</td>\n",
       "      <td>942</td>\n",
       "      <td>46903</td>\n",
       "      <td>451</td>\n",
       "      <td>46904</td>\n",
       "      <td>6.353</td>\n",
       "      <td>12.835</td>\n",
       "      <td>36.65</td>\n",
       "      <td>00:03:09</td>\n",
       "      <td>1253559</td>\n",
       "      <td>65850.7042</td>\n",
       "      <td>46453</td>\n",
       "      <td>7959.533</td>\n",
       "      <td>26498799</td>\n",
       "      <td>3.14</td>\n",
       "      <td>189</td>\n",
       "    </tr>\n",
       "  </tbody>\n",
       "</table>\n",
       "</div>"
      ],
      "text/plain": [
       "         VIDEO                                        VIDEO TITLE  \\\n",
       "1  4OZip0cgOho  How I Would Learn Data Science (If I Had to St...   \n",
       "\n",
       "  VIDEO PUBLISH TIME  COMMENTS ADDED  SHARES  DISLIKES  LIKES  \\\n",
       "1         2020-05-08             907    9583       942  46903   \n",
       "\n",
       "   SUBSCRIBERS LOST  SUBSCRIBERS GAINED  RPM (USD)  CPM (USD)  \\\n",
       "1               451               46904      6.353     12.835   \n",
       "\n",
       "   AVERAGE PERCENTAGE VIEWED (%) AVERAGE VIEW DURATION    VIEWS  \\\n",
       "1                          36.65              00:03:09  1253559   \n",
       "\n",
       "   WATCH TIME (HOURS)  SUBSCRIBERS  YOUR ESTIMATED REVENUE (USD)  IMPRESSIONS  \\\n",
       "1          65850.7042        46453                      7959.533     26498799   \n",
       "\n",
       "   IMPRESSIONS CLICK-THROUGH RATE (%)  AVERAGE VIEW SECONDS  \n",
       "1                                3.14                   189  "
      ]
     },
     "execution_count": 319,
     "metadata": {},
     "output_type": "execute_result"
    }
   ],
   "source": [
    "df_agg.head(1)"
   ]
  },
  {
   "cell_type": "code",
   "execution_count": 320,
   "id": "342eb166",
   "metadata": {},
   "outputs": [
    {
     "name": "stdout",
     "output_type": "stream",
     "text": [
      "<class 'pandas.core.frame.DataFrame'>\n",
      "Index: 221 entries, 1 to 222\n",
      "Data columns (total 20 columns):\n",
      " #   Column                              Non-Null Count  Dtype         \n",
      "---  ------                              --------------  -----         \n",
      " 0   VIDEO                               221 non-null    object        \n",
      " 1   VIDEO TITLE                         221 non-null    object        \n",
      " 2   VIDEO PUBLISH TIME                  221 non-null    datetime64[ns]\n",
      " 3   COMMENTS ADDED                      221 non-null    int64         \n",
      " 4   SHARES                              221 non-null    int64         \n",
      " 5   DISLIKES                            221 non-null    int64         \n",
      " 6   LIKES                               221 non-null    int64         \n",
      " 7   SUBSCRIBERS LOST                    221 non-null    int64         \n",
      " 8   SUBSCRIBERS GAINED                  221 non-null    int64         \n",
      " 9   RPM (USD)                           221 non-null    float64       \n",
      " 10  CPM (USD)                           221 non-null    float64       \n",
      " 11  AVERAGE PERCENTAGE VIEWED (%)       221 non-null    float64       \n",
      " 12  AVERAGE VIEW DURATION               221 non-null    object        \n",
      " 13  VIEWS                               221 non-null    int64         \n",
      " 14  WATCH TIME (HOURS)                  221 non-null    float64       \n",
      " 15  SUBSCRIBERS                         221 non-null    int64         \n",
      " 16  YOUR ESTIMATED REVENUE (USD)        221 non-null    float64       \n",
      " 17  IMPRESSIONS                         221 non-null    int64         \n",
      " 18  IMPRESSIONS CLICK-THROUGH RATE (%)  221 non-null    float64       \n",
      " 19  AVERAGE VIEW SECONDS                221 non-null    int64         \n",
      "dtypes: datetime64[ns](1), float64(6), int64(10), object(3)\n",
      "memory usage: 44.4+ KB\n"
     ]
    }
   ],
   "source": [
    "df_agg.info() # our data type is corrected"
   ]
  },
  {
   "cell_type": "code",
   "execution_count": 321,
   "id": "1567854f",
   "metadata": {},
   "outputs": [],
   "source": [
    "# engagement ration, every engagement a view could do divided by the number of viewrs\n",
    "df_agg['ENGAGEMENT RATIO'] = (df_agg['SHARES'] + df_agg['LIKES'] + df_agg['DISLIKES'] + df_agg['COMMENTS ADDED']) / df_agg['VIEWS'] \n",
    "\n",
    "# ratio of views to subscribers gained\n",
    "df_agg['VIEW TO SUBSCRIBER RATIO'] = df_agg['VIEWS'] / df_agg['SUBSCRIBERS GAINED'] # how views does it take to gain a subscriber\n",
    "\n",
    "# ratio of views to subscribers lost, \n",
    "df_agg['VIEW TO SUBSCRIBER LOST RATIO'] = df_agg['VIEWS'] / df_agg['SUBSCRIBERS LOST'] # how views does it take to lose a subscriber"
   ]
  },
  {
   "cell_type": "code",
   "execution_count": 322,
   "id": "3ea24401",
   "metadata": {},
   "outputs": [
    {
     "data": {
      "text/html": [
       "<div>\n",
       "<style scoped>\n",
       "    .dataframe tbody tr th:only-of-type {\n",
       "        vertical-align: middle;\n",
       "    }\n",
       "\n",
       "    .dataframe tbody tr th {\n",
       "        vertical-align: top;\n",
       "    }\n",
       "\n",
       "    .dataframe thead th {\n",
       "        text-align: right;\n",
       "    }\n",
       "</style>\n",
       "<table border=\"1\" class=\"dataframe\">\n",
       "  <thead>\n",
       "    <tr style=\"text-align: right;\">\n",
       "      <th></th>\n",
       "      <th>VIDEO</th>\n",
       "      <th>VIDEO TITLE</th>\n",
       "      <th>VIDEO PUBLISH TIME</th>\n",
       "      <th>COMMENTS ADDED</th>\n",
       "      <th>SHARES</th>\n",
       "      <th>DISLIKES</th>\n",
       "      <th>LIKES</th>\n",
       "      <th>SUBSCRIBERS LOST</th>\n",
       "      <th>SUBSCRIBERS GAINED</th>\n",
       "      <th>RPM (USD)</th>\n",
       "      <th>...</th>\n",
       "      <th>VIEWS</th>\n",
       "      <th>WATCH TIME (HOURS)</th>\n",
       "      <th>SUBSCRIBERS</th>\n",
       "      <th>YOUR ESTIMATED REVENUE (USD)</th>\n",
       "      <th>IMPRESSIONS</th>\n",
       "      <th>IMPRESSIONS CLICK-THROUGH RATE (%)</th>\n",
       "      <th>AVERAGE VIEW SECONDS</th>\n",
       "      <th>ENGAGEMENT RATIO</th>\n",
       "      <th>VIEW TO SUBSCRIBER RATIO</th>\n",
       "      <th>VIEW TO SUBSCRIBER LOST RATIO</th>\n",
       "    </tr>\n",
       "  </thead>\n",
       "  <tbody>\n",
       "    <tr>\n",
       "      <th>1</th>\n",
       "      <td>4OZip0cgOho</td>\n",
       "      <td>How I Would Learn Data Science (If I Had to St...</td>\n",
       "      <td>2020-05-08</td>\n",
       "      <td>907</td>\n",
       "      <td>9583</td>\n",
       "      <td>942</td>\n",
       "      <td>46903</td>\n",
       "      <td>451</td>\n",
       "      <td>46904</td>\n",
       "      <td>6.353</td>\n",
       "      <td>...</td>\n",
       "      <td>1253559</td>\n",
       "      <td>65850.7042</td>\n",
       "      <td>46453</td>\n",
       "      <td>7959.533</td>\n",
       "      <td>26498799</td>\n",
       "      <td>3.14</td>\n",
       "      <td>189</td>\n",
       "      <td>0.046536</td>\n",
       "      <td>26.726057</td>\n",
       "      <td>2779.509978</td>\n",
       "    </tr>\n",
       "  </tbody>\n",
       "</table>\n",
       "<p>1 rows × 23 columns</p>\n",
       "</div>"
      ],
      "text/plain": [
       "         VIDEO                                        VIDEO TITLE  \\\n",
       "1  4OZip0cgOho  How I Would Learn Data Science (If I Had to St...   \n",
       "\n",
       "  VIDEO PUBLISH TIME  COMMENTS ADDED  SHARES  DISLIKES  LIKES  \\\n",
       "1         2020-05-08             907    9583       942  46903   \n",
       "\n",
       "   SUBSCRIBERS LOST  SUBSCRIBERS GAINED  RPM (USD)  ...    VIEWS  \\\n",
       "1               451               46904      6.353  ...  1253559   \n",
       "\n",
       "   WATCH TIME (HOURS) SUBSCRIBERS  YOUR ESTIMATED REVENUE (USD)  IMPRESSIONS  \\\n",
       "1          65850.7042       46453                      7959.533     26498799   \n",
       "\n",
       "   IMPRESSIONS CLICK-THROUGH RATE (%)  AVERAGE VIEW SECONDS  ENGAGEMENT RATIO  \\\n",
       "1                                3.14                   189          0.046536   \n",
       "\n",
       "   VIEW TO SUBSCRIBER RATIO  VIEW TO SUBSCRIBER LOST RATIO  \n",
       "1                 26.726057                    2779.509978  \n",
       "\n",
       "[1 rows x 23 columns]"
      ]
     },
     "execution_count": 322,
     "metadata": {},
     "output_type": "execute_result"
    }
   ],
   "source": [
    "df_agg.head(1)"
   ]
  },
  {
   "cell_type": "code",
   "execution_count": 323,
   "id": "74018331",
   "metadata": {},
   "outputs": [],
   "source": [
    "# sort data by 'VIDEO PUBLISH TIME'\n",
    "df_agg.sort_values(by = 'VIDEO PUBLISH TIME', ascending=False, inplace=True)\n",
    "\n",
    "df_agg = df_agg.reset_index(drop=True)"
   ]
  },
  {
   "cell_type": "code",
   "execution_count": 324,
   "id": "81140e2c",
   "metadata": {},
   "outputs": [
    {
     "data": {
      "text/html": [
       "<div>\n",
       "<style scoped>\n",
       "    .dataframe tbody tr th:only-of-type {\n",
       "        vertical-align: middle;\n",
       "    }\n",
       "\n",
       "    .dataframe tbody tr th {\n",
       "        vertical-align: top;\n",
       "    }\n",
       "\n",
       "    .dataframe thead th {\n",
       "        text-align: right;\n",
       "    }\n",
       "</style>\n",
       "<table border=\"1\" class=\"dataframe\">\n",
       "  <thead>\n",
       "    <tr style=\"text-align: right;\">\n",
       "      <th></th>\n",
       "      <th>VIDEO</th>\n",
       "      <th>VIDEO TITLE</th>\n",
       "      <th>VIDEO PUBLISH TIME</th>\n",
       "      <th>COMMENTS ADDED</th>\n",
       "      <th>SHARES</th>\n",
       "      <th>DISLIKES</th>\n",
       "      <th>LIKES</th>\n",
       "      <th>SUBSCRIBERS LOST</th>\n",
       "      <th>SUBSCRIBERS GAINED</th>\n",
       "      <th>RPM (USD)</th>\n",
       "      <th>...</th>\n",
       "      <th>VIEWS</th>\n",
       "      <th>WATCH TIME (HOURS)</th>\n",
       "      <th>SUBSCRIBERS</th>\n",
       "      <th>YOUR ESTIMATED REVENUE (USD)</th>\n",
       "      <th>IMPRESSIONS</th>\n",
       "      <th>IMPRESSIONS CLICK-THROUGH RATE (%)</th>\n",
       "      <th>AVERAGE VIEW SECONDS</th>\n",
       "      <th>ENGAGEMENT RATIO</th>\n",
       "      <th>VIEW TO SUBSCRIBER RATIO</th>\n",
       "      <th>VIEW TO SUBSCRIBER LOST RATIO</th>\n",
       "    </tr>\n",
       "  </thead>\n",
       "  <tbody>\n",
       "    <tr>\n",
       "      <th>0</th>\n",
       "      <td>0jTtHYie3CU</td>\n",
       "      <td>Should You Be Excited About Web 3? (As a Data ...</td>\n",
       "      <td>2022-01-17</td>\n",
       "      <td>37</td>\n",
       "      <td>43</td>\n",
       "      <td>8</td>\n",
       "      <td>267</td>\n",
       "      <td>14</td>\n",
       "      <td>18</td>\n",
       "      <td>4.055</td>\n",
       "      <td>...</td>\n",
       "      <td>4383</td>\n",
       "      <td>192.5779</td>\n",
       "      <td>4</td>\n",
       "      <td>16.549</td>\n",
       "      <td>65130</td>\n",
       "      <td>2.95</td>\n",
       "      <td>158</td>\n",
       "      <td>0.080995</td>\n",
       "      <td>243.5</td>\n",
       "      <td>313.071429</td>\n",
       "    </tr>\n",
       "    <tr>\n",
       "      <th>1</th>\n",
       "      <td>2RWwN5ZT4tA</td>\n",
       "      <td>Should  @Luke Barousse Take This Data Analyst ...</td>\n",
       "      <td>2022-01-14</td>\n",
       "      <td>12</td>\n",
       "      <td>2</td>\n",
       "      <td>3</td>\n",
       "      <td>78</td>\n",
       "      <td>1</td>\n",
       "      <td>1</td>\n",
       "      <td>1.882</td>\n",
       "      <td>...</td>\n",
       "      <td>2401</td>\n",
       "      <td>25.9375</td>\n",
       "      <td>0</td>\n",
       "      <td>1.720</td>\n",
       "      <td>25094</td>\n",
       "      <td>2.64</td>\n",
       "      <td>38</td>\n",
       "      <td>0.039567</td>\n",
       "      <td>2401.0</td>\n",
       "      <td>2401.000000</td>\n",
       "    </tr>\n",
       "  </tbody>\n",
       "</table>\n",
       "<p>2 rows × 23 columns</p>\n",
       "</div>"
      ],
      "text/plain": [
       "         VIDEO                                        VIDEO TITLE  \\\n",
       "0  0jTtHYie3CU  Should You Be Excited About Web 3? (As a Data ...   \n",
       "1  2RWwN5ZT4tA  Should  @Luke Barousse Take This Data Analyst ...   \n",
       "\n",
       "  VIDEO PUBLISH TIME  COMMENTS ADDED  SHARES  DISLIKES  LIKES  \\\n",
       "0         2022-01-17              37      43         8    267   \n",
       "1         2022-01-14              12       2         3     78   \n",
       "\n",
       "   SUBSCRIBERS LOST  SUBSCRIBERS GAINED  RPM (USD)  ...  VIEWS  \\\n",
       "0                14                  18      4.055  ...   4383   \n",
       "1                 1                   1      1.882  ...   2401   \n",
       "\n",
       "   WATCH TIME (HOURS) SUBSCRIBERS  YOUR ESTIMATED REVENUE (USD)  IMPRESSIONS  \\\n",
       "0            192.5779           4                        16.549        65130   \n",
       "1             25.9375           0                         1.720        25094   \n",
       "\n",
       "   IMPRESSIONS CLICK-THROUGH RATE (%)  AVERAGE VIEW SECONDS  ENGAGEMENT RATIO  \\\n",
       "0                                2.95                   158          0.080995   \n",
       "1                                2.64                    38          0.039567   \n",
       "\n",
       "   VIEW TO SUBSCRIBER RATIO  VIEW TO SUBSCRIBER LOST RATIO  \n",
       "0                     243.5                     313.071429  \n",
       "1                    2401.0                    2401.000000  \n",
       "\n",
       "[2 rows x 23 columns]"
      ]
     },
     "execution_count": 324,
     "metadata": {},
     "output_type": "execute_result"
    }
   ],
   "source": [
    "df_agg.head(2)"
   ]
  },
  {
   "cell_type": "code",
   "execution_count": 325,
   "id": "b87fbd1a",
   "metadata": {},
   "outputs": [
    {
     "data": {
      "text/html": [
       "<div>\n",
       "<style scoped>\n",
       "    .dataframe tbody tr th:only-of-type {\n",
       "        vertical-align: middle;\n",
       "    }\n",
       "\n",
       "    .dataframe tbody tr th {\n",
       "        vertical-align: top;\n",
       "    }\n",
       "\n",
       "    .dataframe thead th {\n",
       "        text-align: right;\n",
       "    }\n",
       "</style>\n",
       "<table border=\"1\" class=\"dataframe\">\n",
       "  <thead>\n",
       "    <tr style=\"text-align: right;\">\n",
       "      <th></th>\n",
       "      <th>DATE</th>\n",
       "      <th>VIDEO TITLE</th>\n",
       "      <th>EXTERNAL VIDEO ID</th>\n",
       "      <th>VIDEO LENGTH</th>\n",
       "      <th>THUMBNAIL LINK</th>\n",
       "      <th>VIEWS</th>\n",
       "      <th>VIDEO LIKES ADDED</th>\n",
       "      <th>VIDEO DISLIKES ADDED</th>\n",
       "      <th>VIDEO LIKES REMOVED</th>\n",
       "      <th>USER SUBSCRIPTIONS ADDED</th>\n",
       "      <th>USER SUBSCRIPTIONS REMOVED</th>\n",
       "      <th>AVERAGE VIEW PERCENTAGE</th>\n",
       "      <th>AVERAGE WATCH TIME</th>\n",
       "      <th>USER COMMENTS ADDED</th>\n",
       "    </tr>\n",
       "  </thead>\n",
       "  <tbody>\n",
       "    <tr>\n",
       "      <th>0</th>\n",
       "      <td>19 Jan 2022</td>\n",
       "      <td>Kaggle Project From Scratch - Part 2 (Explorat...</td>\n",
       "      <td>KQ80oD_boBM</td>\n",
       "      <td>2191</td>\n",
       "      <td>https://i.ytimg.com/vi/KQ80oD_boBM/hqdefault.jpg</td>\n",
       "      <td>13</td>\n",
       "      <td>0</td>\n",
       "      <td>0</td>\n",
       "      <td>0</td>\n",
       "      <td>0</td>\n",
       "      <td>0</td>\n",
       "      <td>0.069055</td>\n",
       "      <td>151.300154</td>\n",
       "      <td>0</td>\n",
       "    </tr>\n",
       "  </tbody>\n",
       "</table>\n",
       "</div>"
      ],
      "text/plain": [
       "          DATE                                        VIDEO TITLE  \\\n",
       "0  19 Jan 2022  Kaggle Project From Scratch - Part 2 (Explorat...   \n",
       "\n",
       "  EXTERNAL VIDEO ID  VIDEO LENGTH  \\\n",
       "0       KQ80oD_boBM          2191   \n",
       "\n",
       "                                     THUMBNAIL LINK  VIEWS  VIDEO LIKES ADDED  \\\n",
       "0  https://i.ytimg.com/vi/KQ80oD_boBM/hqdefault.jpg     13                  0   \n",
       "\n",
       "   VIDEO DISLIKES ADDED  VIDEO LIKES REMOVED  USER SUBSCRIPTIONS ADDED  \\\n",
       "0                     0                    0                         0   \n",
       "\n",
       "   USER SUBSCRIPTIONS REMOVED  AVERAGE VIEW PERCENTAGE  AVERAGE WATCH TIME  \\\n",
       "0                           0                 0.069055          151.300154   \n",
       "\n",
       "   USER COMMENTS ADDED  \n",
       "0                    0  "
      ]
     },
     "execution_count": 325,
     "metadata": {},
     "output_type": "execute_result"
    }
   ],
   "source": [
    "df_vid.head(1)"
   ]
  },
  {
   "cell_type": "code",
   "execution_count": 326,
   "id": "b11a3550",
   "metadata": {},
   "outputs": [],
   "source": [
    "# CONVERTING DATE to datetime\n",
    "df_vid['DATE'] = pd.to_datetime(df_vid['DATE'], format='mixed').dt.date"
   ]
  },
  {
   "cell_type": "code",
   "execution_count": 327,
   "id": "ef928487",
   "metadata": {},
   "outputs": [
    {
     "data": {
      "text/html": [
       "<div>\n",
       "<style scoped>\n",
       "    .dataframe tbody tr th:only-of-type {\n",
       "        vertical-align: middle;\n",
       "    }\n",
       "\n",
       "    .dataframe tbody tr th {\n",
       "        vertical-align: top;\n",
       "    }\n",
       "\n",
       "    .dataframe thead th {\n",
       "        text-align: right;\n",
       "    }\n",
       "</style>\n",
       "<table border=\"1\" class=\"dataframe\">\n",
       "  <thead>\n",
       "    <tr style=\"text-align: right;\">\n",
       "      <th></th>\n",
       "      <th>VIDEO TITLE</th>\n",
       "      <th>EXTERNAL VIDEO ID</th>\n",
       "      <th>VIDEO LENGTH</th>\n",
       "      <th>THUMBNAIL LINK</th>\n",
       "      <th>COUNTRY CODE</th>\n",
       "      <th>IS SUBSCRIBED</th>\n",
       "      <th>VIEWS</th>\n",
       "      <th>VIDEO LIKES ADDED</th>\n",
       "      <th>VIDEO DISLIKES ADDED</th>\n",
       "      <th>VIDEO LIKES REMOVED</th>\n",
       "      <th>USER SUBSCRIPTIONS ADDED</th>\n",
       "      <th>USER SUBSCRIPTIONS REMOVED</th>\n",
       "      <th>AVERAGE VIEW PERCENTAGE</th>\n",
       "      <th>AVERAGE WATCH TIME</th>\n",
       "      <th>USER COMMENTS ADDED</th>\n",
       "    </tr>\n",
       "  </thead>\n",
       "  <tbody>\n",
       "    <tr>\n",
       "      <th>0</th>\n",
       "      <td>🌶 Hot Topics in Tech: Data Science Explained #...</td>\n",
       "      <td>OtqQYqRNDGI</td>\n",
       "      <td>59</td>\n",
       "      <td>https://i.ytimg.com/vi/OtqQYqRNDGI/hqdefault.jpg</td>\n",
       "      <td>HK</td>\n",
       "      <td>True</td>\n",
       "      <td>23</td>\n",
       "      <td>1</td>\n",
       "      <td>0</td>\n",
       "      <td>0</td>\n",
       "      <td>2</td>\n",
       "      <td>0</td>\n",
       "      <td>0.67187</td>\n",
       "      <td>39.640348</td>\n",
       "      <td>0</td>\n",
       "    </tr>\n",
       "  </tbody>\n",
       "</table>\n",
       "</div>"
      ],
      "text/plain": [
       "                                         VIDEO TITLE EXTERNAL VIDEO ID  \\\n",
       "0  🌶 Hot Topics in Tech: Data Science Explained #...       OtqQYqRNDGI   \n",
       "\n",
       "   VIDEO LENGTH                                    THUMBNAIL LINK  \\\n",
       "0            59  https://i.ytimg.com/vi/OtqQYqRNDGI/hqdefault.jpg   \n",
       "\n",
       "  COUNTRY CODE  IS SUBSCRIBED  VIEWS  VIDEO LIKES ADDED  VIDEO DISLIKES ADDED  \\\n",
       "0           HK           True     23                  1                     0   \n",
       "\n",
       "   VIDEO LIKES REMOVED  USER SUBSCRIPTIONS ADDED  USER SUBSCRIPTIONS REMOVED  \\\n",
       "0                    0                         2                           0   \n",
       "\n",
       "   AVERAGE VIEW PERCENTAGE  AVERAGE WATCH TIME  USER COMMENTS ADDED  \n",
       "0                  0.67187           39.640348                    0  "
      ]
     },
     "execution_count": 327,
     "metadata": {},
     "output_type": "execute_result"
    }
   ],
   "source": [
    "df_agg_sub.head(1)"
   ]
  },
  {
   "cell_type": "code",
   "execution_count": 328,
   "id": "55f5e7b3",
   "metadata": {},
   "outputs": [
    {
     "data": {
      "text/html": [
       "<div>\n",
       "<style scoped>\n",
       "    .dataframe tbody tr th:only-of-type {\n",
       "        vertical-align: middle;\n",
       "    }\n",
       "\n",
       "    .dataframe tbody tr th {\n",
       "        vertical-align: top;\n",
       "    }\n",
       "\n",
       "    .dataframe thead th {\n",
       "        text-align: right;\n",
       "    }\n",
       "</style>\n",
       "<table border=\"1\" class=\"dataframe\">\n",
       "  <thead>\n",
       "    <tr style=\"text-align: right;\">\n",
       "      <th></th>\n",
       "      <th>COMMENTS</th>\n",
       "      <th>COMMENT_ID</th>\n",
       "      <th>REPLY_COUNT</th>\n",
       "      <th>LIKE_COUNT</th>\n",
       "      <th>DATE</th>\n",
       "      <th>VIDID</th>\n",
       "      <th>USER_ID</th>\n",
       "    </tr>\n",
       "  </thead>\n",
       "  <tbody>\n",
       "    <tr>\n",
       "      <th>0</th>\n",
       "      <td>Thanks for this video Ken.\\n\\nI decided to go ...</td>\n",
       "      <td>UgxFZTIzC4UPyhhX_PZ4AaABAg</td>\n",
       "      <td>0</td>\n",
       "      <td>0</td>\n",
       "      <td>2022-01-22T08:13:29Z</td>\n",
       "      <td>xpIFS6jZbe8</td>\n",
       "      <td>user_981</td>\n",
       "    </tr>\n",
       "  </tbody>\n",
       "</table>\n",
       "</div>"
      ],
      "text/plain": [
       "                                            COMMENTS  \\\n",
       "0  Thanks for this video Ken.\\n\\nI decided to go ...   \n",
       "\n",
       "                   COMMENT_ID  REPLY_COUNT  LIKE_COUNT                  DATE  \\\n",
       "0  UgxFZTIzC4UPyhhX_PZ4AaABAg            0           0  2022-01-22T08:13:29Z   \n",
       "\n",
       "         VIDID   USER_ID  \n",
       "0  xpIFS6jZbe8  user_981  "
      ]
     },
     "execution_count": 328,
     "metadata": {},
     "output_type": "execute_result"
    }
   ],
   "source": [
    "df_com.head(1)"
   ]
  },
  {
   "cell_type": "code",
   "execution_count": 329,
   "id": "72256c21",
   "metadata": {},
   "outputs": [
    {
     "name": "stdout",
     "output_type": "stream",
     "text": [
      "<class 'pandas.core.frame.DataFrame'>\n",
      "RangeIndex: 10240 entries, 0 to 10239\n",
      "Data columns (total 7 columns):\n",
      " #   Column       Non-Null Count  Dtype \n",
      "---  ------       --------------  ----- \n",
      " 0   COMMENTS     10239 non-null  object\n",
      " 1   COMMENT_ID   10240 non-null  object\n",
      " 2   REPLY_COUNT  10240 non-null  int64 \n",
      " 3   LIKE_COUNT   10240 non-null  int64 \n",
      " 4   DATE         10240 non-null  object\n",
      " 5   VIDID        10240 non-null  object\n",
      " 6   USER_ID      10240 non-null  object\n",
      "dtypes: int64(2), object(5)\n",
      "memory usage: 560.1+ KB\n"
     ]
    }
   ],
   "source": [
    "df_com.info()"
   ]
  },
  {
   "cell_type": "code",
   "execution_count": 330,
   "id": "92c1b4d0",
   "metadata": {},
   "outputs": [],
   "source": [
    "df_com['DATE'] = pd.to_datetime(df_com['DATE']).dt.date"
   ]
  },
  {
   "cell_type": "code",
   "execution_count": 331,
   "id": "9a593458",
   "metadata": {},
   "outputs": [
    {
     "data": {
      "text/html": [
       "<div>\n",
       "<style scoped>\n",
       "    .dataframe tbody tr th:only-of-type {\n",
       "        vertical-align: middle;\n",
       "    }\n",
       "\n",
       "    .dataframe tbody tr th {\n",
       "        vertical-align: top;\n",
       "    }\n",
       "\n",
       "    .dataframe thead th {\n",
       "        text-align: right;\n",
       "    }\n",
       "</style>\n",
       "<table border=\"1\" class=\"dataframe\">\n",
       "  <thead>\n",
       "    <tr style=\"text-align: right;\">\n",
       "      <th></th>\n",
       "      <th>COMMENTS</th>\n",
       "      <th>COMMENT_ID</th>\n",
       "      <th>REPLY_COUNT</th>\n",
       "      <th>LIKE_COUNT</th>\n",
       "      <th>DATE</th>\n",
       "      <th>VIDID</th>\n",
       "      <th>USER_ID</th>\n",
       "    </tr>\n",
       "  </thead>\n",
       "  <tbody>\n",
       "    <tr>\n",
       "      <th>0</th>\n",
       "      <td>Thanks for this video Ken.\\n\\nI decided to go ...</td>\n",
       "      <td>UgxFZTIzC4UPyhhX_PZ4AaABAg</td>\n",
       "      <td>0</td>\n",
       "      <td>0</td>\n",
       "      <td>2022-01-22</td>\n",
       "      <td>xpIFS6jZbe8</td>\n",
       "      <td>user_981</td>\n",
       "    </tr>\n",
       "  </tbody>\n",
       "</table>\n",
       "</div>"
      ],
      "text/plain": [
       "                                            COMMENTS  \\\n",
       "0  Thanks for this video Ken.\\n\\nI decided to go ...   \n",
       "\n",
       "                   COMMENT_ID  REPLY_COUNT  LIKE_COUNT        DATE  \\\n",
       "0  UgxFZTIzC4UPyhhX_PZ4AaABAg            0           0  2022-01-22   \n",
       "\n",
       "         VIDID   USER_ID  \n",
       "0  xpIFS6jZbe8  user_981  "
      ]
     },
     "execution_count": 331,
     "metadata": {},
     "output_type": "execute_result"
    }
   ],
   "source": [
    "df_com.head(1)"
   ]
  },
  {
   "cell_type": "code",
   "execution_count": 332,
   "id": "7244e30c",
   "metadata": {},
   "outputs": [
    {
     "name": "stdout",
     "output_type": "stream",
     "text": [
      "<class 'pandas.core.frame.DataFrame'>\n",
      "RangeIndex: 10240 entries, 0 to 10239\n",
      "Data columns (total 7 columns):\n",
      " #   Column       Non-Null Count  Dtype \n",
      "---  ------       --------------  ----- \n",
      " 0   COMMENTS     10239 non-null  object\n",
      " 1   COMMENT_ID   10240 non-null  object\n",
      " 2   REPLY_COUNT  10240 non-null  int64 \n",
      " 3   LIKE_COUNT   10240 non-null  int64 \n",
      " 4   DATE         10240 non-null  object\n",
      " 5   VIDID        10240 non-null  object\n",
      " 6   USER_ID      10240 non-null  object\n",
      "dtypes: int64(2), object(5)\n",
      "memory usage: 560.1+ KB\n"
     ]
    }
   ],
   "source": [
    "df_com.info()"
   ]
  },
  {
   "cell_type": "code",
   "execution_count": 333,
   "id": "5c0fbb2e",
   "metadata": {},
   "outputs": [],
   "source": [
    "# engineer data\n",
    "## what metrics wil be relevant\n",
    "## difference from baseline\n",
    "## percent change\n",
    "\n",
    "# build dashboard\n",
    "## local picture\n",
    "## individual video\n",
    "\n",
    "# improvement"
   ]
  },
  {
   "cell_type": "code",
   "execution_count": 334,
   "id": "4cfdeb29",
   "metadata": {},
   "outputs": [],
   "source": [
    "def load_data():\n",
    "\n",
    "    # load data\n",
    "    df_vid = pd.read_csv('resource/Video_Performance_Over_Time.csv')\n",
    "\n",
    "    # dropping row Total to avoid issue with calculations\n",
    "    df_agg = pd.read_csv('resource/Aggregated_Metrics_By_Video.csv').iloc[1:,:]\n",
    "\n",
    "    df_agg_sub = pd.read_csv('resource/Aggregated_Metrics_By_Country_And_Subscriber_Status.csv')\n",
    "\n",
    "    df_com = pd.read_csv('resource/All_Comments_Final.csv')\n",
    "\n",
    "    # converting all columns to uppercase\n",
    "    for df in [df_agg,df_vid,df_agg_sub, df_com]:\n",
    "        df.columns = df.columns.str.upper()\n",
    "        \n",
    "    # remove \\xad\n",
    "    df_agg.columns = df_agg.columns.str.replace('\\xad','')\n",
    "    # convert date to datetype\n",
    "\n",
    "    df_agg['VIDEO PUBLISH TIME'] = pd.to_datetime(df_agg['VIDEO PUBLISH TIME'], format='mixed')\n",
    "\n",
    "    df_agg['AVERAGE VIEW DURATION'] = df_agg['AVERAGE VIEW DURATION'].apply(lambda x: datetime.strptime(x, '%H:%M:%S'))\n",
    "\n",
    "    # create new column for df_agg['AVERAGE VIEW SECONDS'\n",
    "    df_agg['AVERAGE VIEW SECONDS'] = df_agg['AVERAGE VIEW DURATION'].apply(lambda x: x.second + x.minute * 60 + x.hour * 60 * 60)\n",
    "\n",
    "    # engagement ration, every engagement a view could do divided by the number of viewrs\n",
    "    df_agg['ENGAGEMENT RATIO'] = (df_agg['SHARES'] + df_agg['LIKES'] + df_agg['DISLIKES'] + df_agg['COMMENTS ADDED']) / df_agg['VIEWS'] \n",
    "\n",
    "    # ratio of views to subscribers gained\n",
    "    df_agg['VIEW TO SUBSCRIBER RATIO'] = df_agg['VIEWS'] / df_agg['SUBSCRIBERS GAINED'] # how views does it take to gain a subscriber\n",
    "\n",
    "    # ratio of views to subscribers lost, \n",
    "    df_agg['VIEW TO SUBSCRIBER LOST RATIO'] = df_agg['VIEWS'] / df_agg['SUBSCRIBERS LOST'] # how views does it take to lose a subscriber\n",
    "\n",
    "    # sort data by 'VIDEO PUBLISH TIME'\n",
    "    df_agg.sort_values(by = 'VIDEO PUBLISH TIME', ascending=False, inplace=True)\n",
    "\n",
    "    # CONVERTING DATE to datetime\n",
    "    df_vid['DATE'] = pd.to_datetime(df_vid['DATE'], format='mixed')\n",
    "\n",
    "    df_com['DATE'] = pd.to_datetime(df_com['DATE'])\n",
    "    \n",
    "    return df_vid, df_agg, df_agg_sub, df_com"
   ]
  },
  {
   "cell_type": "code",
   "execution_count": 335,
   "id": "f8d11017",
   "metadata": {},
   "outputs": [],
   "source": [
    "    \n",
    "df_vid, df_agg, df_agg_sub, df_com = load_data()"
   ]
  },
  {
   "cell_type": "code",
   "execution_count": 336,
   "id": "733548d8",
   "metadata": {},
   "outputs": [],
   "source": [
    "# aggregated differential \n",
    "\n",
    "# create a copy of our dataframe\n",
    "df_agg_diff = df_agg.copy()"
   ]
  },
  {
   "cell_type": "code",
   "execution_count": 337,
   "id": "40125014",
   "metadata": {},
   "outputs": [
    {
     "data": {
      "text/plain": [
       "Timestamp('2021-01-17 00:00:00')"
      ]
     },
     "execution_count": 337,
     "metadata": {},
     "output_type": "execute_result"
    }
   ],
   "source": [
    "# for the last 12 months, most recently date back to 12 months\n",
    "metric_date_12mo = df_agg_diff['VIDEO PUBLISH TIME'].max() - DateOffset(months=12)\n",
    "metric_date_12mo # 12 months early date"
   ]
  },
  {
   "cell_type": "code",
   "execution_count": 338,
   "id": "f4b1ba8a",
   "metadata": {},
   "outputs": [
    {
     "data": {
      "text/plain": [
       "(48, 23)"
      ]
     },
     "execution_count": 338,
     "metadata": {},
     "output_type": "execute_result"
    }
   ],
   "source": [
    "# dataframe from metric_date_12mo to df_agg_diff['VIDEO PUBLISH TIME'].max()\n",
    "# that is, from 12 monts early to current date\n",
    "\n",
    "df_agg_diff_12mo = df_agg_diff[df_agg_diff['VIDEO PUBLISH TIME'] >= metric_date_12mo] # we have 48 rows\n",
    "df_agg_diff_12mo.shape"
   ]
  },
  {
   "cell_type": "code",
   "execution_count": 339,
   "id": "826a49cf",
   "metadata": {},
   "outputs": [
    {
     "data": {
      "text/plain": [
       "VIDEO PUBLISH TIME                    2021-07-06 00:00:00\n",
       "COMMENTS ADDED                                       43.5\n",
       "SHARES                                               42.5\n",
       "DISLIKES                                              5.0\n",
       "LIKES                                               382.5\n",
       "SUBSCRIBERS LOST                                     13.0\n",
       "SUBSCRIBERS GAINED                                   56.5\n",
       "RPM (USD)                                            4.37\n",
       "CPM (USD)                                          10.573\n",
       "AVERAGE PERCENTAGE VIEWED (%)                      41.175\n",
       "AVERAGE VIEW DURATION                 1900-01-01 00:02:46\n",
       "VIEWS                                              7417.0\n",
       "WATCH TIME (HOURS)                               279.9851\n",
       "SUBSCRIBERS                                          38.5\n",
       "YOUR ESTIMATED REVENUE (USD)                      24.7995\n",
       "IMPRESSIONS                                      155102.5\n",
       "IMPRESSIONS CLICK-THROUGH RATE (%)                   2.43\n",
       "AVERAGE VIEW SECONDS                                166.0\n",
       "ENGAGEMENT RATIO                                 0.060285\n",
       "VIEW TO SUBSCRIBER RATIO                       140.146406\n",
       "VIEW TO SUBSCRIBER LOST RATIO                  974.642857\n",
       "dtype: object"
      ]
     },
     "execution_count": 339,
     "metadata": {},
     "output_type": "execute_result"
    }
   ],
   "source": [
    "median_agg = df_agg_diff_12mo[df_agg_diff_12mo.columns[2:]].median()\n",
    "median_agg"
   ]
  },
  {
   "cell_type": "code",
   "execution_count": null,
   "id": "15a469cf",
   "metadata": {},
   "outputs": [],
   "source": []
  },
  {
   "cell_type": "code",
   "execution_count": null,
   "id": "a8846ffa",
   "metadata": {},
   "outputs": [],
   "source": []
  },
  {
   "cell_type": "code",
   "execution_count": 340,
   "id": "1b16f177",
   "metadata": {},
   "outputs": [],
   "source": [
    "# aggregated differential \n",
    "\n",
    "# create a copy of our dataframe\n",
    "df_agg_diff = df_agg.copy()"
   ]
  },
  {
   "cell_type": "code",
   "execution_count": 341,
   "id": "c739f82e",
   "metadata": {},
   "outputs": [
    {
     "data": {
      "text/plain": [
       "111   2022-01-17\n",
       "187   2022-01-14\n",
       "64    2022-01-10\n",
       "59    2022-01-03\n",
       "32    2021-12-27\n",
       "         ...    \n",
       "75    2018-11-14\n",
       "190   2018-11-12\n",
       "204   2018-07-10\n",
       "138   2017-11-18\n",
       "223   2017-06-06\n",
       "Name: VIDEO PUBLISH TIME, Length: 223, dtype: datetime64[ns]"
      ]
     },
     "execution_count": 341,
     "metadata": {},
     "output_type": "execute_result"
    }
   ],
   "source": [
    "df_agg['VIDEO PUBLISH TIME']"
   ]
  },
  {
   "cell_type": "code",
   "execution_count": 342,
   "id": "e9caf875",
   "metadata": {},
   "outputs": [],
   "source": [
    "# for the last 12 months, most recently date back to 12 months\n",
    "metric_date_12mo = df_agg_diff['VIDEO PUBLISH TIME'].max() - DateOffset(months=12)\n",
    "\n",
    "metric_date_12mo = metric_date_12mo\n",
    "\n",
    "# dataframe from metric_date_12mo to df_agg_diff['VIDEO PUBLISH TIME'].max()\n",
    "# that is, from 12 months early to current date\n",
    "\n",
    "df_agg_diff_12mo = df_agg_diff[df_agg_diff['VIDEO PUBLISH TIME'] >= metric_date_12mo]\n",
    "# median \n",
    "median_agg = df_agg_diff_12mo[df_agg_diff_12mo.columns[2:]].median()"
   ]
  },
  {
   "cell_type": "code",
   "execution_count": 343,
   "id": "c2a80ffc",
   "metadata": {},
   "outputs": [
    {
     "data": {
      "text/plain": [
       "VIDEO PUBLISH TIME                    2021-07-06 00:00:00\n",
       "COMMENTS ADDED                                       43.5\n",
       "SHARES                                               42.5\n",
       "DISLIKES                                              5.0\n",
       "LIKES                                               382.5\n",
       "SUBSCRIBERS LOST                                     13.0\n",
       "SUBSCRIBERS GAINED                                   56.5\n",
       "RPM (USD)                                            4.37\n",
       "CPM (USD)                                          10.573\n",
       "AVERAGE PERCENTAGE VIEWED (%)                      41.175\n",
       "AVERAGE VIEW DURATION                 1900-01-01 00:02:46\n",
       "VIEWS                                              7417.0\n",
       "WATCH TIME (HOURS)                               279.9851\n",
       "SUBSCRIBERS                                          38.5\n",
       "YOUR ESTIMATED REVENUE (USD)                      24.7995\n",
       "IMPRESSIONS                                      155102.5\n",
       "IMPRESSIONS CLICK-THROUGH RATE (%)                   2.43\n",
       "AVERAGE VIEW SECONDS                                166.0\n",
       "ENGAGEMENT RATIO                                 0.060285\n",
       "VIEW TO SUBSCRIBER RATIO                       140.146406\n",
       "VIEW TO SUBSCRIBER LOST RATIO                  974.642857\n",
       "dtype: object"
      ]
     },
     "execution_count": 343,
     "metadata": {},
     "output_type": "execute_result"
    }
   ],
   "source": [
    "median_agg"
   ]
  },
  {
   "cell_type": "code",
   "execution_count": 344,
   "id": "271060ad",
   "metadata": {},
   "outputs": [],
   "source": [
    "# local picture\n",
    "\n",
    "metric_agg = df_agg[[\n",
    "    'VIDEO PUBLISH TIME',\n",
    "    'COMMENTS ADDED', \n",
    "    'SHARES', \n",
    "    'DISLIKES', \n",
    "    'LIKES', \n",
    "    'SUBSCRIBERS GAINED', \n",
    "    'RPM (USD)', \n",
    "    'VIEWS', \n",
    "    'YOUR ESTIMATED REVENUE (USD)',\n",
    "    'AVERAGE VIEW SECONDS', \n",
    "    'ENGAGEMENT RATIO', \n",
    "    'VIEW TO SUBSCRIBER RATIO',\n",
    "]]\n",
    "\n",
    "def metric_median(n):\n",
    "    # \n",
    "    metric_date_n = metric_agg['VIDEO PUBLISH TIME'].max() - DateOffset(months=n)\n",
    "    median_date_n = metric_agg[metric_agg['VIDEO PUBLISH TIME'] >= metric_date_n].median()\n",
    "    \n",
    "    return metric_date_n,median_date_n\n",
    "\n",
    "metric_12mo, median_12mo = metric_median(12)\n",
    "metric_6mo, median_6mo = metric_median(6)"
   ]
  },
  {
   "cell_type": "code",
   "execution_count": 345,
   "id": "2649d58e",
   "metadata": {},
   "outputs": [
    {
     "data": {
      "text/plain": [
       "12"
      ]
     },
     "execution_count": 345,
     "metadata": {},
     "output_type": "execute_result"
    }
   ],
   "source": [
    "len(metric_agg.columns)"
   ]
  },
  {
   "cell_type": "code",
   "execution_count": null,
   "id": "847de483",
   "metadata": {},
   "outputs": [],
   "source": []
  },
  {
   "cell_type": "code",
   "execution_count": 346,
   "id": "c7b9e280",
   "metadata": {},
   "outputs": [
    {
     "data": {
      "text/plain": [
       "Index(['VIDEO PUBLISH TIME', 'COMMENTS ADDED', 'SHARES', 'DISLIKES', 'LIKES',\n",
       "       'SUBSCRIBERS GAINED', 'RPM (USD)', 'VIEWS',\n",
       "       'YOUR ESTIMATED REVENUE (USD)', 'AVERAGE VIEW SECONDS',\n",
       "       'ENGAGEMENT RATIO', 'VIEW TO SUBSCRIBER RATIO'],\n",
       "      dtype='object')"
      ]
     },
     "execution_count": 346,
     "metadata": {},
     "output_type": "execute_result"
    }
   ],
   "source": [
    "median_6mo.index"
   ]
  },
  {
   "cell_type": "code",
   "execution_count": 347,
   "id": "c497fceb",
   "metadata": {},
   "outputs": [
    {
     "data": {
      "text/plain": [
       "6062.0"
      ]
     },
     "execution_count": 347,
     "metadata": {},
     "output_type": "execute_result"
    }
   ],
   "source": [
    "median_6mo['VIEWS']"
   ]
  },
  {
   "cell_type": "code",
   "execution_count": 348,
   "id": "3d53a763",
   "metadata": {},
   "outputs": [
    {
     "name": "stdout",
     "output_type": "stream",
     "text": [
      "125 days 12:00:00\n",
      "125\n",
      "-7.5\n",
      "-1.5\n",
      "-0.5\n",
      "-77.5\n",
      "-21.0\n",
      "0.024999999999999467\n",
      "-1355.0\n",
      "0.0\n",
      "9.0\n",
      "0.00682825754484416\n",
      "6.723321127484667\n"
     ]
    }
   ],
   "source": [
    "for i in median_6mo.index:\n",
    "    if i != 'VIDEO PUBLISH TIME':\n",
    "        pass\n",
    "        print(median_6mo[i] - median_12mo[i])\n",
    "        #print((median_6mo[i] - median_12mo[i])/median_12mo[i])\n",
    "    else:\n",
    "        delta = median_6mo[i] - median_12mo[i]\n",
    "        print(delta)\n",
    "        print(delta.days)\n",
    "        \n",
    "        #st.metric(label = 'Duration', value = delta, delta=f\"{delta} Days\")"
   ]
  },
  {
   "cell_type": "code",
   "execution_count": null,
   "id": "88b44871",
   "metadata": {},
   "outputs": [],
   "source": []
  },
  {
   "cell_type": "code",
   "execution_count": 349,
   "id": "5e6f82d3",
   "metadata": {},
   "outputs": [
    {
     "data": {
      "text/plain": [
       "VIDEO                                         object\n",
       "VIDEO TITLE                                   object\n",
       "VIDEO PUBLISH TIME                    datetime64[ns]\n",
       "COMMENTS ADDED                                 int64\n",
       "SHARES                                         int64\n",
       "DISLIKES                                       int64\n",
       "LIKES                                          int64\n",
       "SUBSCRIBERS LOST                               int64\n",
       "SUBSCRIBERS GAINED                             int64\n",
       "RPM (USD)                                    float64\n",
       "CPM (USD)                                    float64\n",
       "AVERAGE PERCENTAGE VIEWED (%)                float64\n",
       "AVERAGE VIEW DURATION                 datetime64[ns]\n",
       "VIEWS                                          int64\n",
       "WATCH TIME (HOURS)                           float64\n",
       "SUBSCRIBERS                                    int64\n",
       "YOUR ESTIMATED REVENUE (USD)                 float64\n",
       "IMPRESSIONS                                    int64\n",
       "IMPRESSIONS CLICK-THROUGH RATE (%)           float64\n",
       "AVERAGE VIEW SECONDS                           int64\n",
       "ENGAGEMENT RATIO                             float64\n",
       "VIEW TO SUBSCRIBER RATIO                     float64\n",
       "VIEW TO SUBSCRIBER LOST RATIO                float64\n",
       "dtype: object"
      ]
     },
     "execution_count": 349,
     "metadata": {},
     "output_type": "execute_result"
    }
   ],
   "source": [
    "df_agg_diff.dtypes"
   ]
  },
  {
   "cell_type": "code",
   "execution_count": 350,
   "id": "1f8b94d6",
   "metadata": {},
   "outputs": [
    {
     "data": {
      "text/plain": [
       "['VIDEO',\n",
       " 'VIDEO TITLE',\n",
       " 'VIDEO PUBLISH TIME',\n",
       " 'COMMENTS ADDED',\n",
       " 'SHARES',\n",
       " 'DISLIKES',\n",
       " 'LIKES',\n",
       " 'SUBSCRIBERS LOST',\n",
       " 'SUBSCRIBERS GAINED',\n",
       " 'RPM (USD)',\n",
       " 'CPM (USD)',\n",
       " 'AVERAGE PERCENTAGE VIEWED (%)',\n",
       " 'AVERAGE VIEW DURATION',\n",
       " 'VIEWS',\n",
       " 'WATCH TIME (HOURS)',\n",
       " 'SUBSCRIBERS',\n",
       " 'YOUR ESTIMATED REVENUE (USD)',\n",
       " 'IMPRESSIONS',\n",
       " 'IMPRESSIONS CLICK-THROUGH RATE (%)',\n",
       " 'AVERAGE VIEW SECONDS',\n",
       " 'ENGAGEMENT RATIO',\n",
       " 'VIEW TO SUBSCRIBER RATIO',\n",
       " 'VIEW TO SUBSCRIBER LOST RATIO']"
      ]
     },
     "execution_count": 350,
     "metadata": {},
     "output_type": "execute_result"
    }
   ],
   "source": [
    "df_agg_diff.columns.tolist()"
   ]
  },
  {
   "cell_type": "code",
   "execution_count": 383,
   "id": "aebe3d31",
   "metadata": {},
   "outputs": [
    {
     "data": {
      "text/html": [
       "<div>\n",
       "<style scoped>\n",
       "    .dataframe tbody tr th:only-of-type {\n",
       "        vertical-align: middle;\n",
       "    }\n",
       "\n",
       "    .dataframe tbody tr th {\n",
       "        vertical-align: top;\n",
       "    }\n",
       "\n",
       "    .dataframe thead th {\n",
       "        text-align: right;\n",
       "    }\n",
       "</style>\n",
       "<table border=\"1\" class=\"dataframe\">\n",
       "  <thead>\n",
       "    <tr style=\"text-align: right;\">\n",
       "      <th></th>\n",
       "      <th>VIDEO</th>\n",
       "      <th>VIDEO TITLE</th>\n",
       "      <th>VIDEO PUBLISH TIME</th>\n",
       "      <th>COMMENTS ADDED</th>\n",
       "      <th>SHARES</th>\n",
       "      <th>DISLIKES</th>\n",
       "      <th>LIKES</th>\n",
       "      <th>SUBSCRIBERS LOST</th>\n",
       "      <th>SUBSCRIBERS GAINED</th>\n",
       "      <th>VIEWS</th>\n",
       "      <th>SUBSCRIBERS</th>\n",
       "      <th>YOUR ESTIMATED REVENUE (USD)</th>\n",
       "      <th>IMPRESSIONS</th>\n",
       "      <th>IMPRESSIONS CLICK-THROUGH RATE (%)</th>\n",
       "      <th>AVERAGE VIEW SECONDS</th>\n",
       "      <th>ENGAGEMENT RATIO</th>\n",
       "      <th>VIEW TO SUBSCRIBER RATIO</th>\n",
       "      <th>VIEW TO SUBSCRIBER LOST RATIO</th>\n",
       "    </tr>\n",
       "  </thead>\n",
       "  <tbody>\n",
       "    <tr>\n",
       "      <th>111</th>\n",
       "      <td>0jTtHYie3CU</td>\n",
       "      <td>Should You Be Excited About Web 3? (As a Data ...</td>\n",
       "      <td>2022-01-17</td>\n",
       "      <td>37</td>\n",
       "      <td>43</td>\n",
       "      <td>8</td>\n",
       "      <td>267</td>\n",
       "      <td>14</td>\n",
       "      <td>18</td>\n",
       "      <td>4383</td>\n",
       "      <td>4</td>\n",
       "      <td>16.549</td>\n",
       "      <td>65130</td>\n",
       "      <td>2.95</td>\n",
       "      <td>158</td>\n",
       "      <td>0.080995</td>\n",
       "      <td>243.5</td>\n",
       "      <td>313.071429</td>\n",
       "    </tr>\n",
       "  </tbody>\n",
       "</table>\n",
       "</div>"
      ],
      "text/plain": [
       "           VIDEO                                        VIDEO TITLE  \\\n",
       "111  0jTtHYie3CU  Should You Be Excited About Web 3? (As a Data ...   \n",
       "\n",
       "    VIDEO PUBLISH TIME  COMMENTS ADDED  SHARES  DISLIKES  LIKES  \\\n",
       "111         2022-01-17              37      43         8    267   \n",
       "\n",
       "     SUBSCRIBERS LOST  SUBSCRIBERS GAINED  VIEWS  SUBSCRIBERS  \\\n",
       "111                14                  18   4383            4   \n",
       "\n",
       "     YOUR ESTIMATED REVENUE (USD)  IMPRESSIONS  \\\n",
       "111                        16.549        65130   \n",
       "\n",
       "     IMPRESSIONS CLICK-THROUGH RATE (%)  AVERAGE VIEW SECONDS  \\\n",
       "111                                2.95                   158   \n",
       "\n",
       "     ENGAGEMENT RATIO  VIEW TO SUBSCRIBER RATIO  VIEW TO SUBSCRIBER LOST RATIO  \n",
       "111          0.080995                     243.5                     313.071429  "
      ]
     },
     "execution_count": 383,
     "metadata": {},
     "output_type": "execute_result"
    }
   ],
   "source": [
    "df_agg_diff_final = df_agg_diff.loc[:,[\n",
    " 'VIDEO',\n",
    " 'VIDEO TITLE',\n",
    " 'VIDEO PUBLISH TIME',\n",
    " 'COMMENTS ADDED',\n",
    " 'SHARES',\n",
    " 'DISLIKES',\n",
    " 'LIKES',\n",
    " 'SUBSCRIBERS LOST',\n",
    " 'SUBSCRIBERS GAINED',\n",
    " 'VIEWS',\n",
    " 'SUBSCRIBERS',\n",
    " 'YOUR ESTIMATED REVENUE (USD)',\n",
    " 'IMPRESSIONS',\n",
    " 'IMPRESSIONS CLICK-THROUGH RATE (%)',\n",
    " 'AVERAGE VIEW SECONDS',\n",
    " 'ENGAGEMENT RATIO',\n",
    " 'VIEW TO SUBSCRIBER RATIO',\n",
    " 'VIEW TO SUBSCRIBER LOST RATIO']\n",
    "]\n",
    "df_agg_diff_final.head(1)"
   ]
  },
  {
   "cell_type": "code",
   "execution_count": 352,
   "id": "cd9dbaf6",
   "metadata": {},
   "outputs": [],
   "source": [
    "df_agg['PUBLISH DATE'] = df_agg.loc[:,'VIDEO PUBLISH TIME']"
   ]
  },
  {
   "cell_type": "code",
   "execution_count": 353,
   "id": "b3985b53",
   "metadata": {},
   "outputs": [
    {
     "data": {
      "text/plain": [
       "Timestamp('2020-07-01 00:00:00')"
      ]
     },
     "execution_count": 353,
     "metadata": {},
     "output_type": "execute_result"
    }
   ],
   "source": [
    "df_agg['VIDEO PUBLISH TIME'][9]"
   ]
  },
  {
   "cell_type": "code",
   "execution_count": 354,
   "id": "1129cbee",
   "metadata": {},
   "outputs": [
    {
     "data": {
      "text/plain": [
       "Timestamp('2020-07-01 00:00:00')"
      ]
     },
     "execution_count": 354,
     "metadata": {},
     "output_type": "execute_result"
    }
   ],
   "source": [
    "df_agg['PUBLISH DATE'][9]"
   ]
  },
  {
   "cell_type": "code",
   "execution_count": 355,
   "id": "35a732fd",
   "metadata": {},
   "outputs": [
    {
     "data": {
      "text/html": [
       "<div>\n",
       "<style scoped>\n",
       "    .dataframe tbody tr th:only-of-type {\n",
       "        vertical-align: middle;\n",
       "    }\n",
       "\n",
       "    .dataframe tbody tr th {\n",
       "        vertical-align: top;\n",
       "    }\n",
       "\n",
       "    .dataframe thead th {\n",
       "        text-align: right;\n",
       "    }\n",
       "</style>\n",
       "<table border=\"1\" class=\"dataframe\">\n",
       "  <thead>\n",
       "    <tr style=\"text-align: right;\">\n",
       "      <th></th>\n",
       "      <th>VIDEO</th>\n",
       "      <th>VIDEO TITLE</th>\n",
       "      <th>VIDEO PUBLISH TIME</th>\n",
       "      <th>COMMENTS ADDED</th>\n",
       "      <th>SHARES</th>\n",
       "      <th>DISLIKES</th>\n",
       "      <th>LIKES</th>\n",
       "      <th>SUBSCRIBERS LOST</th>\n",
       "      <th>SUBSCRIBERS GAINED</th>\n",
       "      <th>RPM (USD)</th>\n",
       "      <th>...</th>\n",
       "      <th>WATCH TIME (HOURS)</th>\n",
       "      <th>SUBSCRIBERS</th>\n",
       "      <th>YOUR ESTIMATED REVENUE (USD)</th>\n",
       "      <th>IMPRESSIONS</th>\n",
       "      <th>IMPRESSIONS CLICK-THROUGH RATE (%)</th>\n",
       "      <th>AVERAGE VIEW SECONDS</th>\n",
       "      <th>ENGAGEMENT RATIO</th>\n",
       "      <th>VIEW TO SUBSCRIBER RATIO</th>\n",
       "      <th>VIEW TO SUBSCRIBER LOST RATIO</th>\n",
       "      <th>PUBLISH DATE</th>\n",
       "    </tr>\n",
       "  </thead>\n",
       "  <tbody>\n",
       "    <tr>\n",
       "      <th>111</th>\n",
       "      <td>0jTtHYie3CU</td>\n",
       "      <td>Should You Be Excited About Web 3? (As a Data ...</td>\n",
       "      <td>2022-01-17</td>\n",
       "      <td>37</td>\n",
       "      <td>43</td>\n",
       "      <td>8</td>\n",
       "      <td>267</td>\n",
       "      <td>14</td>\n",
       "      <td>18</td>\n",
       "      <td>4.055</td>\n",
       "      <td>...</td>\n",
       "      <td>192.5779</td>\n",
       "      <td>4</td>\n",
       "      <td>16.549</td>\n",
       "      <td>65130</td>\n",
       "      <td>2.95</td>\n",
       "      <td>158</td>\n",
       "      <td>0.080995</td>\n",
       "      <td>243.5</td>\n",
       "      <td>313.071429</td>\n",
       "      <td>2022-01-17</td>\n",
       "    </tr>\n",
       "  </tbody>\n",
       "</table>\n",
       "<p>1 rows × 24 columns</p>\n",
       "</div>"
      ],
      "text/plain": [
       "           VIDEO                                        VIDEO TITLE  \\\n",
       "111  0jTtHYie3CU  Should You Be Excited About Web 3? (As a Data ...   \n",
       "\n",
       "    VIDEO PUBLISH TIME  COMMENTS ADDED  SHARES  DISLIKES  LIKES  \\\n",
       "111         2022-01-17              37      43         8    267   \n",
       "\n",
       "     SUBSCRIBERS LOST  SUBSCRIBERS GAINED  RPM (USD)  ...  WATCH TIME (HOURS)  \\\n",
       "111                14                  18      4.055  ...            192.5779   \n",
       "\n",
       "     SUBSCRIBERS YOUR ESTIMATED REVENUE (USD)  IMPRESSIONS  \\\n",
       "111            4                       16.549        65130   \n",
       "\n",
       "     IMPRESSIONS CLICK-THROUGH RATE (%)  AVERAGE VIEW SECONDS  \\\n",
       "111                                2.95                   158   \n",
       "\n",
       "     ENGAGEMENT RATIO  VIEW TO SUBSCRIBER RATIO  \\\n",
       "111          0.080995                     243.5   \n",
       "\n",
       "     VIEW TO SUBSCRIBER LOST RATIO  PUBLISH DATE  \n",
       "111                     313.071429    2022-01-17  \n",
       "\n",
       "[1 rows x 24 columns]"
      ]
     },
     "execution_count": 355,
     "metadata": {},
     "output_type": "execute_result"
    }
   ],
   "source": [
    "df_agg.head(1)"
   ]
  },
  {
   "cell_type": "code",
   "execution_count": 356,
   "id": "2b2584ea",
   "metadata": {},
   "outputs": [
    {
     "data": {
      "text/plain": [
       "['VIDEO PUBLISH TIME',\n",
       " 'COMMENTS ADDED',\n",
       " 'SHARES',\n",
       " 'DISLIKES',\n",
       " 'LIKES',\n",
       " 'SUBSCRIBERS LOST',\n",
       " 'SUBSCRIBERS GAINED',\n",
       " 'VIEWS',\n",
       " 'SUBSCRIBERS',\n",
       " 'YOUR ESTIMATED REVENUE (USD)',\n",
       " 'IMPRESSIONS',\n",
       " 'IMPRESSIONS CLICK-THROUGH RATE (%)',\n",
       " 'AVERAGE VIEW SECONDS',\n",
       " 'ENGAGEMENT RATIO',\n",
       " 'VIEW TO SUBSCRIBER RATIO',\n",
       " 'VIEW TO SUBSCRIBER LOST RATIO']"
      ]
     },
     "execution_count": 356,
     "metadata": {},
     "output_type": "execute_result"
    }
   ],
   "source": [
    "# list of numerical columns\n",
    "df_agg_numeric_lst = df_agg_diff_final[df_agg_diff_final.columns[2:]].columns.tolist()\n",
    "df_agg_numeric_lst"
   ]
  },
  {
   "cell_type": "code",
   "execution_count": 357,
   "id": "92ae8581",
   "metadata": {},
   "outputs": [],
   "source": [
    "df_to_percent = {}\n",
    "for i in df_agg_numeric_lst:\n",
    "    df_to_percent[i] = '{:.1%}'.format"
   ]
  },
  {
   "cell_type": "code",
   "execution_count": 358,
   "id": "02fdd290",
   "metadata": {},
   "outputs": [
    {
     "data": {
      "text/plain": [
       "{'VIDEO PUBLISH TIME': <function str.format>,\n",
       " 'COMMENTS ADDED': <function str.format>,\n",
       " 'SHARES': <function str.format>,\n",
       " 'DISLIKES': <function str.format>,\n",
       " 'LIKES': <function str.format>,\n",
       " 'SUBSCRIBERS LOST': <function str.format>,\n",
       " 'SUBSCRIBERS GAINED': <function str.format>,\n",
       " 'VIEWS': <function str.format>,\n",
       " 'SUBSCRIBERS': <function str.format>,\n",
       " 'YOUR ESTIMATED REVENUE (USD)': <function str.format>,\n",
       " 'IMPRESSIONS': <function str.format>,\n",
       " 'IMPRESSIONS CLICK-THROUGH RATE (%)': <function str.format>,\n",
       " 'AVERAGE VIEW SECONDS': <function str.format>,\n",
       " 'ENGAGEMENT RATIO': <function str.format>,\n",
       " 'VIEW TO SUBSCRIBER RATIO': <function str.format>,\n",
       " 'VIEW TO SUBSCRIBER LOST RATIO': <function str.format>}"
      ]
     },
     "execution_count": 358,
     "metadata": {},
     "output_type": "execute_result"
    }
   ],
   "source": [
    "df_to_percent"
   ]
  },
  {
   "cell_type": "code",
   "execution_count": null,
   "id": "166d0b83",
   "metadata": {},
   "outputs": [],
   "source": [
    "numeric_columns = df_agg_diff_final.select_dtypes(include=['number'])"
   ]
  },
  {
   "cell_type": "code",
   "execution_count": 387,
   "id": "8083542f",
   "metadata": {},
   "outputs": [],
   "source": [
    "# rename column\n",
    "df_agg.rename(columns={'VIDEO PUBLISH TIME': 'PUBLISH DATE', 'COMMENTS ADDED' : 'COMMENTS'}, inplace=True)"
   ]
  },
  {
   "cell_type": "code",
   "execution_count": 388,
   "id": "e893d69b",
   "metadata": {},
   "outputs": [
    {
     "data": {
      "text/plain": [
       "Index(['VIDEO', 'VIDEO TITLE', 'PUBLISH DATE', 'COMMENTS', 'SHARES',\n",
       "       'DISLIKES', 'LIKES', 'SUBSCRIBERS LOST', 'SUBSCRIBERS GAINED',\n",
       "       'RPM (USD)', 'CPM (USD)', 'AVERAGE PERCENTAGE VIEWED (%)',\n",
       "       'AVERAGE VIEW DURATION', 'VIEWS', 'WATCH TIME (HOURS)', 'SUBSCRIBERS',\n",
       "       'YOUR ESTIMATED REVENUE (USD)', 'IMPRESSIONS',\n",
       "       'IMPRESSIONS CLICK-THROUGH RATE (%)', 'AVERAGE VIEW SECONDS',\n",
       "       'ENGAGEMENT RATIO', 'VIEW TO SUBSCRIBER RATIO',\n",
       "       'VIEW TO SUBSCRIBER LOST RATIO'],\n",
       "      dtype='object')"
      ]
     },
     "execution_count": 388,
     "metadata": {},
     "output_type": "execute_result"
    }
   ],
   "source": [
    "df_agg.columns"
   ]
  },
  {
   "cell_type": "code",
   "execution_count": 374,
   "id": "80f17e27",
   "metadata": {},
   "outputs": [
    {
     "data": {
      "text/plain": [
       "{'PUBLISH DATE': <function str.format>,\n",
       " 'COMMENTS ADDED': <function str.format>,\n",
       " 'SHARES': <function str.format>,\n",
       " 'DISLIKES': <function str.format>,\n",
       " 'LIKES': <function str.format>,\n",
       " 'SUBSCRIBERS LOST': <function str.format>,\n",
       " 'SUBSCRIBERS GAINED': <function str.format>,\n",
       " 'VIEWS': <function str.format>,\n",
       " 'SUBSCRIBERS': <function str.format>,\n",
       " 'YOUR ESTIMATED REVENUE (USD)': <function str.format>,\n",
       " 'IMPRESSIONS': <function str.format>,\n",
       " 'IMPRESSIONS CLICK-THROUGH RATE (%)': <function str.format>,\n",
       " 'AVERAGE VIEW DURATION': <function str.format>,\n",
       " 'AVERAGE VIEW SECONDS': <function str.format>,\n",
       " 'ENGAGEMENT RATIO': <function str.format>,\n",
       " 'VIEW TO SUBSCRIBER RATIO': <function str.format>,\n",
       " 'VIEW TO SUBSCRIBER LOST RATIO': <function str.format>}"
      ]
     },
     "execution_count": 374,
     "metadata": {},
     "output_type": "execute_result"
    }
   ],
   "source": [
    "# list of numerical columns\n",
    "df_agg_numeric_lst = df_agg_diff_final[df_agg_diff_final.columns[2:]].columns.tolist()\n",
    "\n",
    "df_to_percent = {}\n",
    "for i in df_agg_numeric_lst:\n",
    "    df_to_percent[i] = '{:.1%}'.format\n",
    "    \n",
    "df_to_percent"
   ]
  },
  {
   "cell_type": "code",
   "execution_count": 360,
   "id": "2b04087b",
   "metadata": {},
   "outputs": [
    {
     "data": {
      "text/plain": [
       "5567998"
      ]
     },
     "execution_count": 360,
     "metadata": {},
     "output_type": "execute_result"
    }
   ],
   "source": [
    "df_agg_diff_final['VIEWS'].sum()"
   ]
  },
  {
   "cell_type": "code",
   "execution_count": 361,
   "id": "774b412d",
   "metadata": {},
   "outputs": [],
   "source": [
    "def ratio_percent(col):\n",
    "    col = col / col.sum()\n",
    "    return col"
   ]
  },
  {
   "cell_type": "code",
   "execution_count": null,
   "id": "7e21f93c",
   "metadata": {},
   "outputs": [],
   "source": []
  },
  {
   "cell_type": "code",
   "execution_count": 362,
   "id": "27d9abb5",
   "metadata": {},
   "outputs": [
    {
     "data": {
      "text/html": [
       "<div>\n",
       "<style scoped>\n",
       "    .dataframe tbody tr th:only-of-type {\n",
       "        vertical-align: middle;\n",
       "    }\n",
       "\n",
       "    .dataframe tbody tr th {\n",
       "        vertical-align: top;\n",
       "    }\n",
       "\n",
       "    .dataframe thead th {\n",
       "        text-align: right;\n",
       "    }\n",
       "</style>\n",
       "<table border=\"1\" class=\"dataframe\">\n",
       "  <thead>\n",
       "    <tr style=\"text-align: right;\">\n",
       "      <th></th>\n",
       "      <th>VIDEO</th>\n",
       "      <th>VIDEO TITLE</th>\n",
       "      <th>VIDEO PUBLISH TIME</th>\n",
       "      <th>COMMENTS ADDED</th>\n",
       "      <th>SHARES</th>\n",
       "      <th>DISLIKES</th>\n",
       "      <th>LIKES</th>\n",
       "      <th>SUBSCRIBERS LOST</th>\n",
       "      <th>SUBSCRIBERS GAINED</th>\n",
       "      <th>VIEWS</th>\n",
       "      <th>SUBSCRIBERS</th>\n",
       "      <th>YOUR ESTIMATED REVENUE (USD)</th>\n",
       "      <th>IMPRESSIONS</th>\n",
       "      <th>IMPRESSIONS CLICK-THROUGH RATE (%)</th>\n",
       "      <th>AVERAGE VIEW SECONDS</th>\n",
       "      <th>ENGAGEMENT RATIO</th>\n",
       "      <th>VIEW TO SUBSCRIBER RATIO</th>\n",
       "      <th>VIEW TO SUBSCRIBER LOST RATIO</th>\n",
       "    </tr>\n",
       "  </thead>\n",
       "  <tbody>\n",
       "    <tr>\n",
       "      <th>111</th>\n",
       "      <td>0jTtHYie3CU</td>\n",
       "      <td>Should You Be Excited About Web 3? (As a Data ...</td>\n",
       "      <td>2022-01-17</td>\n",
       "      <td>0.2607</td>\n",
       "      <td>0.1085</td>\n",
       "      <td>0.2050</td>\n",
       "      <td>0.1187</td>\n",
       "      <td>0.4735</td>\n",
       "      <td>0.0137</td>\n",
       "      <td>0.0787</td>\n",
       "      <td>0.0031</td>\n",
       "      <td>0.0569</td>\n",
       "      <td>0.0645</td>\n",
       "      <td>0.4290</td>\n",
       "      <td>0.3531</td>\n",
       "      <td>0.6290</td>\n",
       "      <td>0.0</td>\n",
       "      <td>0.0</td>\n",
       "    </tr>\n",
       "    <tr>\n",
       "      <th>187</th>\n",
       "      <td>2RWwN5ZT4tA</td>\n",
       "      <td>Should  @Luke Barousse Take This Data Analyst ...</td>\n",
       "      <td>2022-01-14</td>\n",
       "      <td>0.0845</td>\n",
       "      <td>0.0050</td>\n",
       "      <td>0.0769</td>\n",
       "      <td>0.0347</td>\n",
       "      <td>0.0338</td>\n",
       "      <td>0.0008</td>\n",
       "      <td>0.0431</td>\n",
       "      <td>0.0000</td>\n",
       "      <td>0.0059</td>\n",
       "      <td>0.0249</td>\n",
       "      <td>0.3839</td>\n",
       "      <td>0.0849</td>\n",
       "      <td>0.3073</td>\n",
       "      <td>0.0</td>\n",
       "      <td>0.0</td>\n",
       "    </tr>\n",
       "    <tr>\n",
       "      <th>64</th>\n",
       "      <td>rEWPqw6rMGI</td>\n",
       "      <td>The Only Data Science Explanation You Need</td>\n",
       "      <td>2022-01-10</td>\n",
       "      <td>0.4368</td>\n",
       "      <td>0.3557</td>\n",
       "      <td>0.1281</td>\n",
       "      <td>0.3209</td>\n",
       "      <td>0.9469</td>\n",
       "      <td>0.1038</td>\n",
       "      <td>0.1846</td>\n",
       "      <td>0.0844</td>\n",
       "      <td>0.2081</td>\n",
       "      <td>0.2135</td>\n",
       "      <td>0.3228</td>\n",
       "      <td>0.6257</td>\n",
       "      <td>0.7027</td>\n",
       "      <td>0.0</td>\n",
       "      <td>0.0</td>\n",
       "    </tr>\n",
       "    <tr>\n",
       "      <th>59</th>\n",
       "      <td>o-wsyxWbPOw</td>\n",
       "      <td>We Need to Talk About The LinkedIn Machine Lea...</td>\n",
       "      <td>2022-01-03</td>\n",
       "      <td>0.4579</td>\n",
       "      <td>0.0908</td>\n",
       "      <td>0.3075</td>\n",
       "      <td>0.2631</td>\n",
       "      <td>0.3382</td>\n",
       "      <td>0.0596</td>\n",
       "      <td>0.2121</td>\n",
       "      <td>0.0531</td>\n",
       "      <td>0.2152</td>\n",
       "      <td>0.1653</td>\n",
       "      <td>0.4828</td>\n",
       "      <td>0.3710</td>\n",
       "      <td>0.4637</td>\n",
       "      <td>0.0</td>\n",
       "      <td>0.0</td>\n",
       "    </tr>\n",
       "    <tr>\n",
       "      <th>32</th>\n",
       "      <td>xpIFS6jZbe8</td>\n",
       "      <td>How I Would Learn Data Science in 2022 (If I H...</td>\n",
       "      <td>2021-12-27</td>\n",
       "      <td>0.7679</td>\n",
       "      <td>1.9350</td>\n",
       "      <td>1.3583</td>\n",
       "      <td>1.9615</td>\n",
       "      <td>1.5556</td>\n",
       "      <td>1.9493</td>\n",
       "      <td>1.4239</td>\n",
       "      <td>1.9584</td>\n",
       "      <td>1.8174</td>\n",
       "      <td>1.4076</td>\n",
       "      <td>0.4813</td>\n",
       "      <td>0.6012</td>\n",
       "      <td>0.5232</td>\n",
       "      <td>0.0</td>\n",
       "      <td>0.0</td>\n",
       "    </tr>\n",
       "    <tr>\n",
       "      <th>...</th>\n",
       "      <td>...</td>\n",
       "      <td>...</td>\n",
       "      <td>...</td>\n",
       "      <td>...</td>\n",
       "      <td>...</td>\n",
       "      <td>...</td>\n",
       "      <td>...</td>\n",
       "      <td>...</td>\n",
       "      <td>...</td>\n",
       "      <td>...</td>\n",
       "      <td>...</td>\n",
       "      <td>...</td>\n",
       "      <td>...</td>\n",
       "      <td>...</td>\n",
       "      <td>...</td>\n",
       "      <td>...</td>\n",
       "      <td>...</td>\n",
       "      <td>...</td>\n",
       "    </tr>\n",
       "    <tr>\n",
       "      <th>75</th>\n",
       "      <td>RRSRKf9eQxc</td>\n",
       "      <td>Should You Get A Masters in Data Science?</td>\n",
       "      <td>2018-11-14</td>\n",
       "      <td>0.3945</td>\n",
       "      <td>0.1034</td>\n",
       "      <td>0.2563</td>\n",
       "      <td>0.1227</td>\n",
       "      <td>0.0676</td>\n",
       "      <td>0.0618</td>\n",
       "      <td>0.3320</td>\n",
       "      <td>0.0617</td>\n",
       "      <td>0.4703</td>\n",
       "      <td>0.1720</td>\n",
       "      <td>1.2215</td>\n",
       "      <td>0.3397</td>\n",
       "      <td>0.1609</td>\n",
       "      <td>0.0</td>\n",
       "      <td>0.0</td>\n",
       "    </tr>\n",
       "    <tr>\n",
       "      <th>190</th>\n",
       "      <td>IFceyuL6GZY</td>\n",
       "      <td>How I Became A Data Scientist From a Business ...</td>\n",
       "      <td>2018-11-12</td>\n",
       "      <td>0.0775</td>\n",
       "      <td>0.0833</td>\n",
       "      <td>0.1025</td>\n",
       "      <td>0.0747</td>\n",
       "      <td>0.0000</td>\n",
       "      <td>0.0618</td>\n",
       "      <td>0.0990</td>\n",
       "      <td>0.0633</td>\n",
       "      <td>0.0838</td>\n",
       "      <td>0.0583</td>\n",
       "      <td>0.8318</td>\n",
       "      <td>0.5296</td>\n",
       "      <td>0.3042</td>\n",
       "      <td>0.0</td>\n",
       "      <td>NaN</td>\n",
       "    </tr>\n",
       "    <tr>\n",
       "      <th>204</th>\n",
       "      <td>Y_SMU701qlA</td>\n",
       "      <td>Predicting Season Long NBA Wins Using Multiple...</td>\n",
       "      <td>2018-07-10</td>\n",
       "      <td>0.0493</td>\n",
       "      <td>0.1135</td>\n",
       "      <td>0.0513</td>\n",
       "      <td>0.0707</td>\n",
       "      <td>0.0338</td>\n",
       "      <td>0.0260</td>\n",
       "      <td>0.1233</td>\n",
       "      <td>0.0258</td>\n",
       "      <td>0.0680</td>\n",
       "      <td>0.0534</td>\n",
       "      <td>0.5860</td>\n",
       "      <td>0.3240</td>\n",
       "      <td>0.2410</td>\n",
       "      <td>0.0</td>\n",
       "      <td>0.0</td>\n",
       "    </tr>\n",
       "    <tr>\n",
       "      <th>138</th>\n",
       "      <td>qfRhKHV8-t4</td>\n",
       "      <td>Predicting Crypto-Currency Price Using RNN lST...</td>\n",
       "      <td>2017-11-18</td>\n",
       "      <td>0.1973</td>\n",
       "      <td>0.2876</td>\n",
       "      <td>0.4613</td>\n",
       "      <td>0.1098</td>\n",
       "      <td>0.0338</td>\n",
       "      <td>0.0848</td>\n",
       "      <td>0.2974</td>\n",
       "      <td>0.0859</td>\n",
       "      <td>0.0755</td>\n",
       "      <td>0.1669</td>\n",
       "      <td>0.8216</td>\n",
       "      <td>0.2347</td>\n",
       "      <td>0.1909</td>\n",
       "      <td>0.0</td>\n",
       "      <td>0.0</td>\n",
       "    </tr>\n",
       "    <tr>\n",
       "      <th>223</th>\n",
       "      <td>5p73cIRYCZg</td>\n",
       "      <td>ProjectDemoCSC478_UFCFightData</td>\n",
       "      <td>2017-06-06</td>\n",
       "      <td>0.0000</td>\n",
       "      <td>0.0050</td>\n",
       "      <td>0.0000</td>\n",
       "      <td>0.0004</td>\n",
       "      <td>0.0000</td>\n",
       "      <td>0.0000</td>\n",
       "      <td>0.0011</td>\n",
       "      <td>0.0000</td>\n",
       "      <td>0.0000</td>\n",
       "      <td>0.0004</td>\n",
       "      <td>1.6737</td>\n",
       "      <td>0.1430</td>\n",
       "      <td>0.3883</td>\n",
       "      <td>NaN</td>\n",
       "      <td>NaN</td>\n",
       "    </tr>\n",
       "  </tbody>\n",
       "</table>\n",
       "<p>223 rows × 18 columns</p>\n",
       "</div>"
      ],
      "text/plain": [
       "           VIDEO                                        VIDEO TITLE  \\\n",
       "111  0jTtHYie3CU  Should You Be Excited About Web 3? (As a Data ...   \n",
       "187  2RWwN5ZT4tA  Should  @Luke Barousse Take This Data Analyst ...   \n",
       "64   rEWPqw6rMGI         The Only Data Science Explanation You Need   \n",
       "59   o-wsyxWbPOw  We Need to Talk About The LinkedIn Machine Lea...   \n",
       "32   xpIFS6jZbe8  How I Would Learn Data Science in 2022 (If I H...   \n",
       "..           ...                                                ...   \n",
       "75   RRSRKf9eQxc          Should You Get A Masters in Data Science?   \n",
       "190  IFceyuL6GZY  How I Became A Data Scientist From a Business ...   \n",
       "204  Y_SMU701qlA  Predicting Season Long NBA Wins Using Multiple...   \n",
       "138  qfRhKHV8-t4  Predicting Crypto-Currency Price Using RNN lST...   \n",
       "223  5p73cIRYCZg                     ProjectDemoCSC478_UFCFightData   \n",
       "\n",
       "    VIDEO PUBLISH TIME  COMMENTS ADDED  SHARES  DISLIKES   LIKES  \\\n",
       "111         2022-01-17          0.2607  0.1085    0.2050  0.1187   \n",
       "187         2022-01-14          0.0845  0.0050    0.0769  0.0347   \n",
       "64          2022-01-10          0.4368  0.3557    0.1281  0.3209   \n",
       "59          2022-01-03          0.4579  0.0908    0.3075  0.2631   \n",
       "32          2021-12-27          0.7679  1.9350    1.3583  1.9615   \n",
       "..                 ...             ...     ...       ...     ...   \n",
       "75          2018-11-14          0.3945  0.1034    0.2563  0.1227   \n",
       "190         2018-11-12          0.0775  0.0833    0.1025  0.0747   \n",
       "204         2018-07-10          0.0493  0.1135    0.0513  0.0707   \n",
       "138         2017-11-18          0.1973  0.2876    0.4613  0.1098   \n",
       "223         2017-06-06          0.0000  0.0050    0.0000  0.0004   \n",
       "\n",
       "     SUBSCRIBERS LOST  SUBSCRIBERS GAINED   VIEWS  SUBSCRIBERS  \\\n",
       "111            0.4735              0.0137  0.0787       0.0031   \n",
       "187            0.0338              0.0008  0.0431       0.0000   \n",
       "64             0.9469              0.1038  0.1846       0.0844   \n",
       "59             0.3382              0.0596  0.2121       0.0531   \n",
       "32             1.5556              1.9493  1.4239       1.9584   \n",
       "..                ...                 ...     ...          ...   \n",
       "75             0.0676              0.0618  0.3320       0.0617   \n",
       "190            0.0000              0.0618  0.0990       0.0633   \n",
       "204            0.0338              0.0260  0.1233       0.0258   \n",
       "138            0.0338              0.0848  0.2974       0.0859   \n",
       "223            0.0000              0.0000  0.0011       0.0000   \n",
       "\n",
       "     YOUR ESTIMATED REVENUE (USD)  IMPRESSIONS  \\\n",
       "111                        0.0569       0.0645   \n",
       "187                        0.0059       0.0249   \n",
       "64                         0.2081       0.2135   \n",
       "59                         0.2152       0.1653   \n",
       "32                         1.8174       1.4076   \n",
       "..                            ...          ...   \n",
       "75                         0.4703       0.1720   \n",
       "190                        0.0838       0.0583   \n",
       "204                        0.0680       0.0534   \n",
       "138                        0.0755       0.1669   \n",
       "223                        0.0000       0.0004   \n",
       "\n",
       "     IMPRESSIONS CLICK-THROUGH RATE (%)  AVERAGE VIEW SECONDS  \\\n",
       "111                              0.4290                0.3531   \n",
       "187                              0.3839                0.0849   \n",
       "64                               0.3228                0.6257   \n",
       "59                               0.4828                0.3710   \n",
       "32                               0.4813                0.6012   \n",
       "..                                  ...                   ...   \n",
       "75                               1.2215                0.3397   \n",
       "190                              0.8318                0.5296   \n",
       "204                              0.5860                0.3240   \n",
       "138                              0.8216                0.2347   \n",
       "223                              1.6737                0.1430   \n",
       "\n",
       "     ENGAGEMENT RATIO  VIEW TO SUBSCRIBER RATIO  VIEW TO SUBSCRIBER LOST RATIO  \n",
       "111            0.6290                       0.0                            0.0  \n",
       "187            0.3073                       0.0                            0.0  \n",
       "64             0.7027                       0.0                            0.0  \n",
       "59             0.4637                       0.0                            0.0  \n",
       "32             0.5232                       0.0                            0.0  \n",
       "..                ...                       ...                            ...  \n",
       "75             0.1609                       0.0                            0.0  \n",
       "190            0.3042                       0.0                            NaN  \n",
       "204            0.2410                       0.0                            0.0  \n",
       "138            0.1909                       0.0                            0.0  \n",
       "223            0.3883                       NaN                            NaN  \n",
       "\n",
       "[223 rows x 18 columns]"
      ]
     },
     "execution_count": 362,
     "metadata": {},
     "output_type": "execute_result"
    }
   ],
   "source": [
    "df = df_agg_diff_final\n",
    "\n",
    "# Select only the numeric columns\n",
    "numeric_columns = df.select_dtypes(include=['number'])\n",
    "\n",
    "# Calculate column sums\n",
    "column_sums = numeric_columns.sum()\n",
    "\n",
    "# Divide each element by its column sum and multiply by 100 to get percentages\n",
    "df_percentage = (numeric_columns / column_sums) * 100\n",
    "\n",
    "# Round the percentages to 2 decimal places\n",
    "df_percentage = df_percentage.round(4)\n",
    "\n",
    "# Include the previously excluded non-numeric columns\n",
    "non_numeric_columns = df.select_dtypes(exclude=['number'])\n",
    "\n",
    "# Concatenate numeric and non-numeric columns\n",
    "df_result = pd.concat([non_numeric_columns, df_percentage], axis=1)\n",
    "\n",
    "df_result"
   ]
  },
  {
   "cell_type": "code",
   "execution_count": 363,
   "id": "8a8a845f",
   "metadata": {},
   "outputs": [
    {
     "data": {
      "text/html": [
       "<div>\n",
       "<style scoped>\n",
       "    .dataframe tbody tr th:only-of-type {\n",
       "        vertical-align: middle;\n",
       "    }\n",
       "\n",
       "    .dataframe tbody tr th {\n",
       "        vertical-align: top;\n",
       "    }\n",
       "\n",
       "    .dataframe thead th {\n",
       "        text-align: right;\n",
       "    }\n",
       "</style>\n",
       "<table border=\"1\" class=\"dataframe\">\n",
       "  <thead>\n",
       "    <tr style=\"text-align: right;\">\n",
       "      <th></th>\n",
       "      <th>VIDEO PUBLISH TIME</th>\n",
       "      <th>COMMENTS ADDED</th>\n",
       "      <th>SHARES</th>\n",
       "      <th>DISLIKES</th>\n",
       "      <th>LIKES</th>\n",
       "      <th>SUBSCRIBERS LOST</th>\n",
       "      <th>SUBSCRIBERS GAINED</th>\n",
       "      <th>VIEWS</th>\n",
       "      <th>SUBSCRIBERS</th>\n",
       "      <th>YOUR ESTIMATED REVENUE (USD)</th>\n",
       "      <th>IMPRESSIONS</th>\n",
       "      <th>IMPRESSIONS CLICK-THROUGH RATE (%)</th>\n",
       "      <th>AVERAGE VIEW SECONDS</th>\n",
       "      <th>ENGAGEMENT RATIO</th>\n",
       "      <th>VIEW TO SUBSCRIBER RATIO</th>\n",
       "      <th>VIEW TO SUBSCRIBER LOST RATIO</th>\n",
       "    </tr>\n",
       "  </thead>\n",
       "  <tbody>\n",
       "    <tr>\n",
       "      <th>111</th>\n",
       "      <td>2022-01-17</td>\n",
       "      <td>37</td>\n",
       "      <td>43</td>\n",
       "      <td>8</td>\n",
       "      <td>267</td>\n",
       "      <td>14</td>\n",
       "      <td>18</td>\n",
       "      <td>4383</td>\n",
       "      <td>4</td>\n",
       "      <td>16.549</td>\n",
       "      <td>65130</td>\n",
       "      <td>2.95</td>\n",
       "      <td>158</td>\n",
       "      <td>0.080995</td>\n",
       "      <td>243.500000</td>\n",
       "      <td>3.130714e+02</td>\n",
       "    </tr>\n",
       "    <tr>\n",
       "      <th>187</th>\n",
       "      <td>2022-01-14</td>\n",
       "      <td>12</td>\n",
       "      <td>2</td>\n",
       "      <td>3</td>\n",
       "      <td>78</td>\n",
       "      <td>1</td>\n",
       "      <td>1</td>\n",
       "      <td>2401</td>\n",
       "      <td>0</td>\n",
       "      <td>1.720</td>\n",
       "      <td>25094</td>\n",
       "      <td>2.64</td>\n",
       "      <td>38</td>\n",
       "      <td>0.039567</td>\n",
       "      <td>2401.000000</td>\n",
       "      <td>2.401000e+03</td>\n",
       "    </tr>\n",
       "    <tr>\n",
       "      <th>64</th>\n",
       "      <td>2022-01-10</td>\n",
       "      <td>62</td>\n",
       "      <td>141</td>\n",
       "      <td>5</td>\n",
       "      <td>722</td>\n",
       "      <td>28</td>\n",
       "      <td>136</td>\n",
       "      <td>10277</td>\n",
       "      <td>108</td>\n",
       "      <td>60.498</td>\n",
       "      <td>215491</td>\n",
       "      <td>2.22</td>\n",
       "      <td>280</td>\n",
       "      <td>0.090493</td>\n",
       "      <td>75.566176</td>\n",
       "      <td>3.670357e+02</td>\n",
       "    </tr>\n",
       "    <tr>\n",
       "      <th>59</th>\n",
       "      <td>2022-01-03</td>\n",
       "      <td>65</td>\n",
       "      <td>36</td>\n",
       "      <td>12</td>\n",
       "      <td>592</td>\n",
       "      <td>10</td>\n",
       "      <td>78</td>\n",
       "      <td>11808</td>\n",
       "      <td>68</td>\n",
       "      <td>62.568</td>\n",
       "      <td>166915</td>\n",
       "      <td>3.32</td>\n",
       "      <td>166</td>\n",
       "      <td>0.059705</td>\n",
       "      <td>151.384615</td>\n",
       "      <td>1.180800e+03</td>\n",
       "    </tr>\n",
       "    <tr>\n",
       "      <th>32</th>\n",
       "      <td>2021-12-27</td>\n",
       "      <td>109</td>\n",
       "      <td>767</td>\n",
       "      <td>53</td>\n",
       "      <td>4413</td>\n",
       "      <td>46</td>\n",
       "      <td>2553</td>\n",
       "      <td>79283</td>\n",
       "      <td>2507</td>\n",
       "      <td>528.286</td>\n",
       "      <td>1420968</td>\n",
       "      <td>3.31</td>\n",
       "      <td>269</td>\n",
       "      <td>0.067379</td>\n",
       "      <td>31.054837</td>\n",
       "      <td>1.723543e+03</td>\n",
       "    </tr>\n",
       "    <tr>\n",
       "      <th>...</th>\n",
       "      <td>...</td>\n",
       "      <td>...</td>\n",
       "      <td>...</td>\n",
       "      <td>...</td>\n",
       "      <td>...</td>\n",
       "      <td>...</td>\n",
       "      <td>...</td>\n",
       "      <td>...</td>\n",
       "      <td>...</td>\n",
       "      <td>...</td>\n",
       "      <td>...</td>\n",
       "      <td>...</td>\n",
       "      <td>...</td>\n",
       "      <td>...</td>\n",
       "      <td>...</td>\n",
       "      <td>...</td>\n",
       "    </tr>\n",
       "    <tr>\n",
       "      <th>75</th>\n",
       "      <td>2018-11-14</td>\n",
       "      <td>56</td>\n",
       "      <td>41</td>\n",
       "      <td>10</td>\n",
       "      <td>276</td>\n",
       "      <td>2</td>\n",
       "      <td>81</td>\n",
       "      <td>18488</td>\n",
       "      <td>79</td>\n",
       "      <td>136.708</td>\n",
       "      <td>173610</td>\n",
       "      <td>8.40</td>\n",
       "      <td>152</td>\n",
       "      <td>0.020716</td>\n",
       "      <td>228.246914</td>\n",
       "      <td>9.244000e+03</td>\n",
       "    </tr>\n",
       "    <tr>\n",
       "      <th>190</th>\n",
       "      <td>2018-11-12</td>\n",
       "      <td>11</td>\n",
       "      <td>33</td>\n",
       "      <td>4</td>\n",
       "      <td>168</td>\n",
       "      <td>0</td>\n",
       "      <td>81</td>\n",
       "      <td>5515</td>\n",
       "      <td>81</td>\n",
       "      <td>24.358</td>\n",
       "      <td>58816</td>\n",
       "      <td>5.72</td>\n",
       "      <td>237</td>\n",
       "      <td>0.039166</td>\n",
       "      <td>68.086420</td>\n",
       "      <td>inf</td>\n",
       "    </tr>\n",
       "    <tr>\n",
       "      <th>204</th>\n",
       "      <td>2018-07-10</td>\n",
       "      <td>7</td>\n",
       "      <td>45</td>\n",
       "      <td>2</td>\n",
       "      <td>159</td>\n",
       "      <td>1</td>\n",
       "      <td>34</td>\n",
       "      <td>6863</td>\n",
       "      <td>33</td>\n",
       "      <td>19.772</td>\n",
       "      <td>53865</td>\n",
       "      <td>4.03</td>\n",
       "      <td>145</td>\n",
       "      <td>0.031036</td>\n",
       "      <td>201.852941</td>\n",
       "      <td>6.863000e+03</td>\n",
       "    </tr>\n",
       "    <tr>\n",
       "      <th>138</th>\n",
       "      <td>2017-11-18</td>\n",
       "      <td>28</td>\n",
       "      <td>114</td>\n",
       "      <td>18</td>\n",
       "      <td>247</td>\n",
       "      <td>1</td>\n",
       "      <td>111</td>\n",
       "      <td>16558</td>\n",
       "      <td>110</td>\n",
       "      <td>21.944</td>\n",
       "      <td>168508</td>\n",
       "      <td>5.65</td>\n",
       "      <td>105</td>\n",
       "      <td>0.024580</td>\n",
       "      <td>149.171171</td>\n",
       "      <td>1.655800e+04</td>\n",
       "    </tr>\n",
       "    <tr>\n",
       "      <th>223</th>\n",
       "      <td>2017-06-06</td>\n",
       "      <td>0</td>\n",
       "      <td>2</td>\n",
       "      <td>0</td>\n",
       "      <td>1</td>\n",
       "      <td>0</td>\n",
       "      <td>0</td>\n",
       "      <td>60</td>\n",
       "      <td>0</td>\n",
       "      <td>0.003</td>\n",
       "      <td>365</td>\n",
       "      <td>11.51</td>\n",
       "      <td>64</td>\n",
       "      <td>0.050000</td>\n",
       "      <td>inf</td>\n",
       "      <td>inf</td>\n",
       "    </tr>\n",
       "  </tbody>\n",
       "</table>\n",
       "<p>223 rows × 16 columns</p>\n",
       "</div>"
      ],
      "text/plain": [
       "    VIDEO PUBLISH TIME  COMMENTS ADDED  SHARES  DISLIKES  LIKES  \\\n",
       "111         2022-01-17              37      43         8    267   \n",
       "187         2022-01-14              12       2         3     78   \n",
       "64          2022-01-10              62     141         5    722   \n",
       "59          2022-01-03              65      36        12    592   \n",
       "32          2021-12-27             109     767        53   4413   \n",
       "..                 ...             ...     ...       ...    ...   \n",
       "75          2018-11-14              56      41        10    276   \n",
       "190         2018-11-12              11      33         4    168   \n",
       "204         2018-07-10               7      45         2    159   \n",
       "138         2017-11-18              28     114        18    247   \n",
       "223         2017-06-06               0       2         0      1   \n",
       "\n",
       "     SUBSCRIBERS LOST  SUBSCRIBERS GAINED  VIEWS  SUBSCRIBERS  \\\n",
       "111                14                  18   4383            4   \n",
       "187                 1                   1   2401            0   \n",
       "64                 28                 136  10277          108   \n",
       "59                 10                  78  11808           68   \n",
       "32                 46                2553  79283         2507   \n",
       "..                ...                 ...    ...          ...   \n",
       "75                  2                  81  18488           79   \n",
       "190                 0                  81   5515           81   \n",
       "204                 1                  34   6863           33   \n",
       "138                 1                 111  16558          110   \n",
       "223                 0                   0     60            0   \n",
       "\n",
       "     YOUR ESTIMATED REVENUE (USD)  IMPRESSIONS  \\\n",
       "111                        16.549        65130   \n",
       "187                         1.720        25094   \n",
       "64                         60.498       215491   \n",
       "59                         62.568       166915   \n",
       "32                        528.286      1420968   \n",
       "..                            ...          ...   \n",
       "75                        136.708       173610   \n",
       "190                        24.358        58816   \n",
       "204                        19.772        53865   \n",
       "138                        21.944       168508   \n",
       "223                         0.003          365   \n",
       "\n",
       "     IMPRESSIONS CLICK-THROUGH RATE (%)  AVERAGE VIEW SECONDS  \\\n",
       "111                                2.95                   158   \n",
       "187                                2.64                    38   \n",
       "64                                 2.22                   280   \n",
       "59                                 3.32                   166   \n",
       "32                                 3.31                   269   \n",
       "..                                  ...                   ...   \n",
       "75                                 8.40                   152   \n",
       "190                                5.72                   237   \n",
       "204                                4.03                   145   \n",
       "138                                5.65                   105   \n",
       "223                               11.51                    64   \n",
       "\n",
       "     ENGAGEMENT RATIO  VIEW TO SUBSCRIBER RATIO  VIEW TO SUBSCRIBER LOST RATIO  \n",
       "111          0.080995                243.500000                   3.130714e+02  \n",
       "187          0.039567               2401.000000                   2.401000e+03  \n",
       "64           0.090493                 75.566176                   3.670357e+02  \n",
       "59           0.059705                151.384615                   1.180800e+03  \n",
       "32           0.067379                 31.054837                   1.723543e+03  \n",
       "..                ...                       ...                            ...  \n",
       "75           0.020716                228.246914                   9.244000e+03  \n",
       "190          0.039166                 68.086420                            inf  \n",
       "204          0.031036                201.852941                   6.863000e+03  \n",
       "138          0.024580                149.171171                   1.655800e+04  \n",
       "223          0.050000                       inf                            inf  \n",
       "\n",
       "[223 rows x 16 columns]"
      ]
     },
     "execution_count": 363,
     "metadata": {},
     "output_type": "execute_result"
    }
   ],
   "source": [
    "df.select_dtypes(include=['number','datetime'])"
   ]
  },
  {
   "cell_type": "code",
   "execution_count": 364,
   "id": "fff4f6b3",
   "metadata": {},
   "outputs": [
    {
     "data": {
      "text/plain": [
       "45"
      ]
     },
     "execution_count": 364,
     "metadata": {},
     "output_type": "execute_result"
    }
   ],
   "source": [
    "x = '45%'\n",
    "int(x.split('%')[0])"
   ]
  },
  {
   "cell_type": "code",
   "execution_count": 365,
   "id": "1ff7ef20",
   "metadata": {},
   "outputs": [
    {
     "name": "stdout",
     "output_type": "stream",
     "text": [
      "x\n"
     ]
    }
   ],
   "source": [
    "if '%' in x:\n",
    "    print('x')"
   ]
  },
  {
   "cell_type": "code",
   "execution_count": 366,
   "id": "4845d68b",
   "metadata": {},
   "outputs": [
    {
     "data": {
      "text/plain": [
       "45"
      ]
     },
     "execution_count": 366,
     "metadata": {},
     "output_type": "execute_result"
    }
   ],
   "source": [
    "int(x.split('%')[0]) if '%' in x else x"
   ]
  },
  {
   "cell_type": "code",
   "execution_count": 367,
   "id": "b6d9929d",
   "metadata": {},
   "outputs": [
    {
     "name": "stdout",
     "output_type": "stream",
     "text": [
      "1 greater than zero\n",
      "23 greater than zero\n",
      "56 was splited then converted\n"
     ]
    }
   ],
   "source": [
    "items = [1,23,'de','56%']\n",
    "for item in items:\n",
    "    if isinstance(item, int):\n",
    "        if item >= 0:\n",
    "            print(item, 'greater than zero')\n",
    "    else:\n",
    "        if '%' in item:\n",
    "            item = int(item.split('%')[0])\n",
    "            if item >= 0:\n",
    "                print(item, 'was splited then converted')\n",
    "        else:\n",
    "            None"
   ]
  },
  {
   "cell_type": "code",
   "execution_count": 368,
   "id": "e499c4c9",
   "metadata": {},
   "outputs": [
    {
     "ename": "SyntaxError",
     "evalue": "'return' outside function (2727128901.py, line 3)",
     "output_type": "error",
     "traceback": [
      "\u001b[0;36m  Cell \u001b[0;32mIn[368], line 3\u001b[0;36m\u001b[0m\n\u001b[0;31m    return props\u001b[0m\n\u001b[0m    ^\u001b[0m\n\u001b[0;31mSyntaxError\u001b[0m\u001b[0;31m:\u001b[0m 'return' outside function\n"
     ]
    }
   ],
   "source": [
    "if isinstance(value, int):\n",
    "    if value >= 0:\n",
    "        return props\n",
    "else:\n",
    "    if '%' in value:\n",
    "        value = int(value.split('%')[0])\n",
    "        if value >= 0:\n",
    "            return props\n",
    "    else:\n",
    "        None"
   ]
  },
  {
   "cell_type": "code",
   "execution_count": null,
   "id": "8689b0c1",
   "metadata": {},
   "outputs": [],
   "source": []
  },
  {
   "cell_type": "code",
   "execution_count": null,
   "id": "47dada0f",
   "metadata": {},
   "outputs": [],
   "source": []
  },
  {
   "cell_type": "code",
   "execution_count": null,
   "id": "be650b6b",
   "metadata": {},
   "outputs": [],
   "source": []
  },
  {
   "cell_type": "code",
   "execution_count": null,
   "id": "3512c118",
   "metadata": {},
   "outputs": [],
   "source": []
  },
  {
   "cell_type": "code",
   "execution_count": null,
   "id": "3b98d6f4",
   "metadata": {},
   "outputs": [],
   "source": []
  },
  {
   "cell_type": "code",
   "execution_count": 369,
   "id": "194c3f4b",
   "metadata": {},
   "outputs": [],
   "source": [
    "# define functions\n"
   ]
  },
  {
   "cell_type": "code",
   "execution_count": 370,
   "id": "12e63dc3",
   "metadata": {},
   "outputs": [],
   "source": [
    "# load data\n",
    "@st.cache_resource # loads this function once and doesn't reload everytime we reload our page\n",
    "def load_data():\n",
    "\n",
    "    # load data\n",
    "    df_vid = pd.read_csv('resource/Video_Performance_Over_Time.csv')\n",
    "\n",
    "    # dropping row Total to avoid issue with calculations\n",
    "    df_agg = pd.read_csv('resource/Aggregated_Metrics_By_Video.csv').iloc[1:,:]\n",
    "\n",
    "    df_agg_sub = pd.read_csv('resource/Aggregated_Metrics_By_Country_And_Subscriber_Status.csv')\n",
    "\n",
    "    df_com = pd.read_csv('resource/All_Comments_Final.csv')\n",
    "\n",
    "    # converting all columns to uppercase\n",
    "    for df in [df_agg,df_vid,df_agg_sub, df_com]:\n",
    "        df.columns = df.columns.str.upper()\n",
    "\n",
    "    # remove \\xad\n",
    "    df_agg.columns = df_agg.columns.str.replace('\\xad','')\n",
    "    # convert date to datetype\n",
    "\n",
    "    df_agg['VIDEO PUBLISH TIME'] = pd.to_datetime(df_agg['VIDEO PUBLISH TIME'], format='mixed')\n",
    "        \n",
    "    df_agg['AVERAGE VIEW DURATION'] = df_agg['AVERAGE VIEW DURATION'].apply(lambda x: datetime.strptime(x, '%H:%M:%S'))\n",
    "\n",
    "    # create new column for df_agg['AVERAGE VIEW SECONDS'\n",
    "    df_agg['AVERAGE VIEW SECONDS'] = df_agg['AVERAGE VIEW DURATION'].apply(lambda x: x.second + x.minute * 60 + x.hour * 60 * 60)\n",
    "\n",
    "    # engagement ration, every engagement a view could do divided by the number of viewrs\n",
    "    df_agg['ENGAGEMENT RATIO'] = (df_agg['SHARES'] + df_agg['LIKES'] + df_agg['DISLIKES'] + df_agg['COMMENTS ADDED']) / df_agg['VIEWS'] \n",
    "\n",
    "    # ratio of views to subscribers gained\n",
    "    df_agg['VIEW TO SUBSCRIBER RATIO'] = df_agg['VIEWS'] / df_agg['SUBSCRIBERS GAINED'] # how views does it take to gain a subscriber\n",
    "\n",
    "    # ratio of views to subscribers lost, \n",
    "    df_agg['VIEW TO SUBSCRIBER LOST RATIO'] = df_agg['VIEWS'] / df_agg['SUBSCRIBERS LOST'] # how views does it take to lose a subscriber\n",
    "\n",
    "    # sort data by 'VIDEO PUBLISH TIME'\n",
    "    df_agg.sort_values(by = 'VIDEO PUBLISH TIME', ascending=False, inplace=True)\n",
    "\n",
    "    # CONVERTING DATE to datetime\n",
    "    df_vid['DATE'] = pd.to_datetime(df_vid['DATE'], format='mixed')\n",
    "\n",
    "    df_com['DATE'] = pd.to_datetime(df_com['DATE'])\n",
    "\n",
    "    # create dataframe\n",
    "    return df_vid, df_agg, df_agg_sub, df_com\n",
    "\n",
    "df_vid, df_agg, df_agg_sub, df_com = load_data()\n",
    "\n",
    "\n",
    "# engineer data\n",
    "\n",
    "# aggregated differential \n",
    "\n",
    "# create a copy of our dataframe\n",
    "df_agg_diff = df_agg.copy()\n",
    "\n",
    "# for the last 12 months, most recently date back to 12 months\n",
    "metric_date_12mo = df_agg_diff['VIDEO PUBLISH TIME'].max() - DateOffset(months=12)\n",
    "\n",
    "# dataframe from metric_date_12mo to df_agg_diff['VIDEO PUBLISH TIME'].max()\n",
    "# that is, from 12 months early to current date\n",
    "\n",
    "df_agg_diff_12mo = df_agg_diff[df_agg_diff['VIDEO PUBLISH TIME'] >= metric_date_12mo]\n",
    "\n",
    "# median \n",
    "median_agg = df_agg_diff_12mo[df_agg_diff_12mo.columns[2:]].median()\n",
    "\n",
    "## what metrics wil be relevant\n",
    "## difference from baseline\n",
    "## percent change\n",
    "\n",
    "# build dashboard\n",
    "\n",
    "# sidebar\n",
    "add_sidebar = st.sidebar.selectbox(\"Aggregate or Individual Video\", (\"Aggregate Metrics\", \"Individual Video Analysis\"))\n",
    "\n",
    "# styling dataframe\n",
    "def styling_positive(value, props):\n",
    "    try:\n",
    "        return props if value >= 0 else None\n",
    "    except:\n",
    "        pass\n",
    "\n",
    "\n",
    "def styling_negative(value, props):\n",
    "    try:\n",
    "        return props if value < 0 else None\n",
    "    except:\n",
    "        pass\n",
    "\n",
    "## local picture\n",
    "if add_sidebar == \"Aggregate Metrics\":\n",
    "\n",
    "    metric_agg = df_agg[[\n",
    "        'VIDEO PUBLISH TIME',\n",
    "        'COMMENTS ADDED', \n",
    "        'SHARES', \n",
    "        'DISLIKES', \n",
    "        'LIKES', \n",
    "        'SUBSCRIBERS GAINED', \n",
    "        'RPM (USD)', \n",
    "        'VIEWS', \n",
    "        'YOUR ESTIMATED REVENUE (USD)',\n",
    "        'AVERAGE VIEW SECONDS', \n",
    "        'ENGAGEMENT RATIO', \n",
    "        'VIEW TO SUBSCRIBER RATIO',\n",
    "    ]]  \n",
    "\n",
    "    def metric_median(n):\n",
    "        # date range\n",
    "        metric_date_n = metric_agg['VIDEO PUBLISH TIME'].max() - DateOffset(months=n)\n",
    "        median_date_n = metric_agg[metric_agg['VIDEO PUBLISH TIME'] >= metric_date_n].median()\n",
    "        \n",
    "        return metric_date_n,median_date_n\n",
    "\n",
    "    metric_12mo, median_12mo = metric_median(12)\n",
    "    metric_6mo, median_6mo = metric_median(6)\n",
    "\n",
    "    col1, col2, col3,col4,col5,col6 = st.columns(6)\n",
    "    columns = [col1, col2, col3,col4,col5,col6]\n",
    "\n",
    "    count = 0\n",
    "    for i in median_6mo.index:\n",
    "        with columns[count]:\n",
    "            if i != 'VIDEO PUBLISH TIME':\n",
    "                delta = (median_6mo[i] - median_12mo[i])/median_12mo[i]\n",
    "                st.metric(label = i, value =round(median_6mo[i]), delta=\"{:.2%}\".format(delta))\n",
    "            else:\n",
    "                delta = median_6mo[i] - median_12mo[i]\n",
    "                st.metric(label = 'Duration', value = delta.days, delta=f\"{(delta//30)} Months\")\n",
    "            count += 1\n",
    "            if count >= 6:\n",
    "                count = 0\n",
    "\n",
    "\n",
    "    df_agg_diff_final = df_agg_diff.loc[:,[\n",
    "    'VIDEO',\n",
    "    'VIDEO TITLE',\n",
    "    'VIDEO PUBLISH TIME',\n",
    "    'COMMENTS ADDED',\n",
    "    'SHARES',\n",
    "    'DISLIKES',\n",
    "    'LIKES',\n",
    "    'SUBSCRIBERS LOST',\n",
    "    'SUBSCRIBERS GAINED',\n",
    "    'VIEWS',\n",
    "    'SUBSCRIBERS',\n",
    "    'YOUR ESTIMATED REVENUE (USD)',\n",
    "    'IMPRESSIONS',\n",
    "    'IMPRESSIONS CLICK-THROUGH RATE (%)',\n",
    "    'AVERAGE VIEW DURATION',\n",
    "    'AVERAGE VIEW SECONDS',\n",
    "    'ENGAGEMENT RATIO',\n",
    "    'VIEW TO SUBSCRIBER RATIO',\n",
    "    'VIEW TO SUBSCRIBER LOST RATIO']\n",
    "    ]\n",
    "    \n",
    "    # extract only date\n",
    "    df_agg_diff_final['VIDEO PUBLISH TIME'] = df_agg_diff_final['VIDEO PUBLISH TIME'].dt.date\n",
    "\n",
    "    # rename column\n",
    "\n",
    "    df_agg_diff_final.rename(columns={'VIDEO PUBLISH TIME': 'PUBLISH DATE'}, inplace=True)\n",
    "\n",
    "    # extracting time\n",
    "    df_agg_diff_final['AVERAGE VIEW DURATION'] = df_agg_diff_final['AVERAGE VIEW DURATION'].dt.time\n",
    "\n",
    "\n",
    "    # formating each data to percentage\n",
    "    \n",
    "\n",
    "    st.dataframe(df_agg_diff_final.style.hide().map(styling_positive, props = 'color:green;').map(styling_negative, props = 'color:red;'))\n",
    "\n",
    "elif add_sidebar ==\"Individual Video Analysis\":\n",
    "    st.write('Ind')\n",
    "\n",
    "\n",
    "## individual video\n",
    "\n",
    "# improvement\n",
    "\n",
    "# styling"
   ]
  },
  {
   "cell_type": "code",
   "execution_count": null,
   "id": "8f77c20a",
   "metadata": {},
   "outputs": [],
   "source": []
  }
 ],
 "metadata": {
  "kernelspec": {
   "display_name": "Python 3 (ipykernel)",
   "language": "python",
   "name": "python3"
  },
  "language_info": {
   "codemirror_mode": {
    "name": "ipython",
    "version": 3
   },
   "file_extension": ".py",
   "mimetype": "text/x-python",
   "name": "python",
   "nbconvert_exporter": "python",
   "pygments_lexer": "ipython3",
   "version": "3.11.5"
  }
 },
 "nbformat": 4,
 "nbformat_minor": 5
}
