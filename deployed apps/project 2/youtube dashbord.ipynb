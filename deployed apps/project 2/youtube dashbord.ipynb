{
 "cells": [
  {
   "cell_type": "code",
   "execution_count": 358,
   "id": "11bd1939",
   "metadata": {},
   "outputs": [],
   "source": [
    "# import library\n",
    "import pandas as pd\n",
    "import numpy as np\n",
    "import plotly.graph_objects as go\n",
    "import plotly.express as px\n",
    "from datetime import datetime\n",
    "import streamlit as st\n",
    "from pandas.tseries.offsets import DateOffset"
   ]
  },
  {
   "cell_type": "code",
   "execution_count": 359,
   "id": "2b74b5cf",
   "metadata": {},
   "outputs": [],
   "source": [
    "# define functions\n",
    "\n",
    "# load data\n",
    "df_vid = pd.read_csv('resource/Video_Performance_Over_Time.csv')\n",
    "\n",
    "# dropping row Total to avoid issue with calculations\n",
    "df_agg = pd.read_csv('resource/Aggregated_Metrics_By_Video.csv').iloc[1:,:]\n",
    "\n",
    "df_agg_sub = pd.read_csv('resource/Aggregated_Metrics_By_Country_And_Subscriber_Status.csv')\n",
    "\n",
    "df_com = pd.read_csv('resource/All_Comments_Final.csv')"
   ]
  },
  {
   "cell_type": "code",
   "execution_count": 360,
   "id": "c47ff7b8",
   "metadata": {},
   "outputs": [],
   "source": [
    "# clean our data"
   ]
  },
  {
   "cell_type": "code",
   "execution_count": 361,
   "id": "f93d198a",
   "metadata": {},
   "outputs": [],
   "source": [
    "# converting all columns to uppercase\n",
    "for df in [df_agg,df_vid,df_agg_sub, df_com]:\n",
    "    df.columns = df.columns.str.upper()\n"
   ]
  },
  {
   "cell_type": "code",
   "execution_count": 362,
   "id": "a48c76de",
   "metadata": {},
   "outputs": [
    {
     "data": {
      "text/plain": [
       "Index(['COMMENTS', 'COMMENT_ID', 'REPLY_COUNT', 'LIKE_COUNT', 'DATE', 'VIDID',\n",
       "       'USER_ID'],\n",
       "      dtype='object')"
      ]
     },
     "execution_count": 362,
     "metadata": {},
     "output_type": "execute_result"
    }
   ],
   "source": [
    "# checking\n",
    "df_com.columns"
   ]
  },
  {
   "cell_type": "code",
   "execution_count": 363,
   "id": "553138fe",
   "metadata": {},
   "outputs": [
    {
     "name": "stdout",
     "output_type": "stream",
     "text": [
      "<class 'pandas.core.frame.DataFrame'>\n",
      "RangeIndex: 223 entries, 1 to 223\n",
      "Data columns (total 19 columns):\n",
      " #   Column                                Non-Null Count  Dtype  \n",
      "---  ------                                --------------  -----  \n",
      " 0   VIDEO                                 223 non-null    object \n",
      " 1   VIDEO TITLE                           223 non-null    object \n",
      " 2   VIDEO PUB­LISH TIME                   223 non-null    object \n",
      " 3   COM­MENTS AD­DED                      223 non-null    int64  \n",
      " 4   SHARES                                223 non-null    int64  \n",
      " 5   DIS­LIKES                             223 non-null    int64  \n",
      " 6   LIKES                                 223 non-null    int64  \n",
      " 7   SUB­SCRIBERS LOST                     223 non-null    int64  \n",
      " 8   SUB­SCRIBERS GAINED                   223 non-null    int64  \n",
      " 9   RPM (USD)                             223 non-null    float64\n",
      " 10  CPM (USD)                             221 non-null    float64\n",
      " 11  AV­ER­AGE PER­CENT­AGE VIEWED (%)     223 non-null    float64\n",
      " 12  AV­ER­AGE VIEW DUR­A­TION             223 non-null    object \n",
      " 13  VIEWS                                 223 non-null    int64  \n",
      " 14  WATCH TIME (HOURS)                    223 non-null    float64\n",
      " 15  SUB­SCRIBERS                          223 non-null    int64  \n",
      " 16  YOUR ES­TIM­ATED REV­EN­UE (USD)      223 non-null    float64\n",
      " 17  IM­PRES­SIONS                         223 non-null    int64  \n",
      " 18  IM­PRES­SIONS CLICK-THROUGH RATE (%)  223 non-null    float64\n",
      "dtypes: float64(6), int64(9), object(4)\n",
      "memory usage: 33.2+ KB\n"
     ]
    }
   ],
   "source": [
    "df_agg.info()"
   ]
  },
  {
   "cell_type": "code",
   "execution_count": 364,
   "id": "9703c383",
   "metadata": {},
   "outputs": [
    {
     "data": {
      "text/html": [
       "<div>\n",
       "<style scoped>\n",
       "    .dataframe tbody tr th:only-of-type {\n",
       "        vertical-align: middle;\n",
       "    }\n",
       "\n",
       "    .dataframe tbody tr th {\n",
       "        vertical-align: top;\n",
       "    }\n",
       "\n",
       "    .dataframe thead th {\n",
       "        text-align: right;\n",
       "    }\n",
       "</style>\n",
       "<table border=\"1\" class=\"dataframe\">\n",
       "  <thead>\n",
       "    <tr style=\"text-align: right;\">\n",
       "      <th></th>\n",
       "      <th>VIDEO</th>\n",
       "      <th>VIDEO TITLE</th>\n",
       "      <th>VIDEO PUB­LISH TIME</th>\n",
       "      <th>COM­MENTS AD­DED</th>\n",
       "      <th>SHARES</th>\n",
       "      <th>DIS­LIKES</th>\n",
       "      <th>LIKES</th>\n",
       "      <th>SUB­SCRIBERS LOST</th>\n",
       "      <th>SUB­SCRIBERS GAINED</th>\n",
       "      <th>RPM (USD)</th>\n",
       "      <th>CPM (USD)</th>\n",
       "      <th>AV­ER­AGE PER­CENT­AGE VIEWED (%)</th>\n",
       "      <th>AV­ER­AGE VIEW DUR­A­TION</th>\n",
       "      <th>VIEWS</th>\n",
       "      <th>WATCH TIME (HOURS)</th>\n",
       "      <th>SUB­SCRIBERS</th>\n",
       "      <th>YOUR ES­TIM­ATED REV­EN­UE (USD)</th>\n",
       "      <th>IM­PRES­SIONS</th>\n",
       "      <th>IM­PRES­SIONS CLICK-THROUGH RATE (%)</th>\n",
       "    </tr>\n",
       "  </thead>\n",
       "  <tbody>\n",
       "    <tr>\n",
       "      <th>1</th>\n",
       "      <td>4OZip0cgOho</td>\n",
       "      <td>How I Would Learn Data Science (If I Had to St...</td>\n",
       "      <td>May 8, 2020</td>\n",
       "      <td>907</td>\n",
       "      <td>9583</td>\n",
       "      <td>942</td>\n",
       "      <td>46903</td>\n",
       "      <td>451</td>\n",
       "      <td>46904</td>\n",
       "      <td>6.353</td>\n",
       "      <td>12.835</td>\n",
       "      <td>36.65</td>\n",
       "      <td>0:03:09</td>\n",
       "      <td>1253559</td>\n",
       "      <td>65850.7042</td>\n",
       "      <td>46453</td>\n",
       "      <td>7959.533</td>\n",
       "      <td>26498799</td>\n",
       "      <td>3.14</td>\n",
       "    </tr>\n",
       "  </tbody>\n",
       "</table>\n",
       "</div>"
      ],
      "text/plain": [
       "         VIDEO                                        VIDEO TITLE  \\\n",
       "1  4OZip0cgOho  How I Would Learn Data Science (If I Had to St...   \n",
       "\n",
       "  VIDEO PUB­LISH TIME  COM­MENTS AD­DED  SHARES  DIS­LIKES  LIKES  \\\n",
       "1         May 8, 2020               907    9583        942  46903   \n",
       "\n",
       "   SUB­SCRIBERS LOST  SUB­SCRIBERS GAINED  RPM (USD)  CPM (USD)  \\\n",
       "1                451                46904      6.353     12.835   \n",
       "\n",
       "   AV­ER­AGE PER­CENT­AGE VIEWED (%) AV­ER­AGE VIEW DUR­A­TION    VIEWS  \\\n",
       "1                              36.65                   0:03:09  1253559   \n",
       "\n",
       "   WATCH TIME (HOURS)  SUB­SCRIBERS  YOUR ES­TIM­ATED REV­EN­UE (USD)  \\\n",
       "1          65850.7042         46453                          7959.533   \n",
       "\n",
       "   IM­PRES­SIONS  IM­PRES­SIONS CLICK-THROUGH RATE (%)  \n",
       "1       26498799                                  3.14  "
      ]
     },
     "execution_count": 364,
     "metadata": {},
     "output_type": "execute_result"
    }
   ],
   "source": [
    "df_agg.head(1)"
   ]
  },
  {
   "cell_type": "code",
   "execution_count": 365,
   "id": "1ce21787",
   "metadata": {},
   "outputs": [
    {
     "data": {
      "text/plain": [
       "['VIDEO',\n",
       " 'VIDEO TITLE',\n",
       " 'VIDEO PUB\\xadLISH TIME',\n",
       " 'COM\\xadMENTS AD\\xadDED',\n",
       " 'SHARES',\n",
       " 'DIS\\xadLIKES',\n",
       " 'LIKES',\n",
       " 'SUB\\xadSCRIBERS LOST',\n",
       " 'SUB\\xadSCRIBERS GAINED',\n",
       " 'RPM (USD)',\n",
       " 'CPM (USD)',\n",
       " 'AV\\xadER\\xadAGE PER\\xadCENT\\xadAGE VIEWED (%)',\n",
       " 'AV\\xadER\\xadAGE VIEW DUR\\xadA\\xadTION',\n",
       " 'VIEWS',\n",
       " 'WATCH TIME (HOURS)',\n",
       " 'SUB\\xadSCRIBERS',\n",
       " 'YOUR ES\\xadTIM\\xadATED REV\\xadEN\\xadUE (USD)',\n",
       " 'IM\\xadPRES\\xadSIONS',\n",
       " 'IM\\xadPRES\\xadSIONS CLICK-THROUGH RATE (%)']"
      ]
     },
     "execution_count": 365,
     "metadata": {},
     "output_type": "execute_result"
    }
   ],
   "source": [
    "# checking columns\n",
    "df_agg.columns.tolist() # notice \\xad in our columns"
   ]
  },
  {
   "cell_type": "code",
   "execution_count": 366,
   "id": "67020352",
   "metadata": {},
   "outputs": [],
   "source": [
    "# remove \\xad\n",
    "df_agg.columns = df_agg.columns.str.replace('\\xad','')"
   ]
  },
  {
   "cell_type": "code",
   "execution_count": 367,
   "id": "3c2f453f",
   "metadata": {},
   "outputs": [
    {
     "data": {
      "text/plain": [
       "['VIDEO',\n",
       " 'VIDEO TITLE',\n",
       " 'VIDEO PUBLISH TIME',\n",
       " 'COMMENTS ADDED',\n",
       " 'SHARES',\n",
       " 'DISLIKES',\n",
       " 'LIKES',\n",
       " 'SUBSCRIBERS LOST',\n",
       " 'SUBSCRIBERS GAINED',\n",
       " 'RPM (USD)',\n",
       " 'CPM (USD)',\n",
       " 'AVERAGE PERCENTAGE VIEWED (%)',\n",
       " 'AVERAGE VIEW DURATION',\n",
       " 'VIEWS',\n",
       " 'WATCH TIME (HOURS)',\n",
       " 'SUBSCRIBERS',\n",
       " 'YOUR ESTIMATED REVENUE (USD)',\n",
       " 'IMPRESSIONS',\n",
       " 'IMPRESSIONS CLICK-THROUGH RATE (%)']"
      ]
     },
     "execution_count": 367,
     "metadata": {},
     "output_type": "execute_result"
    }
   ],
   "source": [
    "# check \n",
    "df_agg.columns.tolist()"
   ]
  },
  {
   "cell_type": "code",
   "execution_count": 368,
   "id": "392fd5e4",
   "metadata": {},
   "outputs": [],
   "source": [
    "# convert date to datetype\n",
    "\n",
    "df_agg['VIDEO PUBLISH TIME'] = pd.to_datetime(df_agg['VIDEO PUBLISH TIME'], format='mixed')"
   ]
  },
  {
   "cell_type": "code",
   "execution_count": 369,
   "id": "42055cbf",
   "metadata": {},
   "outputs": [
    {
     "data": {
      "text/plain": [
       "dtype('<M8[ns]')"
      ]
     },
     "execution_count": 369,
     "metadata": {},
     "output_type": "execute_result"
    }
   ],
   "source": [
    "df_agg['VIDEO PUBLISH TIME'].dtype #datetime dtype"
   ]
  },
  {
   "cell_type": "code",
   "execution_count": 370,
   "id": "b4e72120",
   "metadata": {},
   "outputs": [
    {
     "data": {
      "text/plain": [
       "'0:04:56'"
      ]
     },
     "execution_count": 370,
     "metadata": {},
     "output_type": "execute_result"
    }
   ],
   "source": [
    "# AVERAGE VIEW DURATION is an object meaning it contains numbers and string\n",
    "df_agg['AVERAGE VIEW DURATION'][9] # a string"
   ]
  },
  {
   "cell_type": "code",
   "execution_count": 371,
   "id": "d90337aa",
   "metadata": {},
   "outputs": [],
   "source": [
    "df_agg['AVERAGE VIEW DURATION'] = df_agg['AVERAGE VIEW DURATION'].apply(lambda x: datetime.strptime(x, '%H:%M:%S'))"
   ]
  },
  {
   "cell_type": "code",
   "execution_count": 372,
   "id": "e92c2a70",
   "metadata": {},
   "outputs": [
    {
     "data": {
      "text/plain": [
       "Timestamp('1900-01-01 00:04:56')"
      ]
     },
     "execution_count": 372,
     "metadata": {},
     "output_type": "execute_result"
    }
   ],
   "source": [
    "# check\n",
    "df_agg['AVERAGE VIEW DURATION'][9]"
   ]
  },
  {
   "cell_type": "code",
   "execution_count": 373,
   "id": "478a404c",
   "metadata": {},
   "outputs": [],
   "source": [
    "# create new column for df_agg['AVERAGE VIEW SECONDS'\n",
    "df_agg['AVERAGE VIEW SECONDS'] = df_agg['AVERAGE VIEW DURATION'].apply(lambda x: x.second + x.minute * 60 + x.hour * 60 * 60)"
   ]
  },
  {
   "cell_type": "code",
   "execution_count": 374,
   "id": "cc2868aa",
   "metadata": {},
   "outputs": [
    {
     "data": {
      "text/plain": [
       "296"
      ]
     },
     "execution_count": 374,
     "metadata": {},
     "output_type": "execute_result"
    }
   ],
   "source": [
    "# check\n",
    "df_agg['AVERAGE VIEW SECONDS'][9]"
   ]
  },
  {
   "cell_type": "code",
   "execution_count": 375,
   "id": "e7fbbc35",
   "metadata": {},
   "outputs": [
    {
     "data": {
      "text/html": [
       "<div>\n",
       "<style scoped>\n",
       "    .dataframe tbody tr th:only-of-type {\n",
       "        vertical-align: middle;\n",
       "    }\n",
       "\n",
       "    .dataframe tbody tr th {\n",
       "        vertical-align: top;\n",
       "    }\n",
       "\n",
       "    .dataframe thead th {\n",
       "        text-align: right;\n",
       "    }\n",
       "</style>\n",
       "<table border=\"1\" class=\"dataframe\">\n",
       "  <thead>\n",
       "    <tr style=\"text-align: right;\">\n",
       "      <th></th>\n",
       "      <th>VIDEO</th>\n",
       "      <th>VIDEO TITLE</th>\n",
       "      <th>VIDEO PUBLISH TIME</th>\n",
       "      <th>COMMENTS ADDED</th>\n",
       "      <th>SHARES</th>\n",
       "      <th>DISLIKES</th>\n",
       "      <th>LIKES</th>\n",
       "      <th>SUBSCRIBERS LOST</th>\n",
       "      <th>SUBSCRIBERS GAINED</th>\n",
       "      <th>RPM (USD)</th>\n",
       "      <th>CPM (USD)</th>\n",
       "      <th>AVERAGE PERCENTAGE VIEWED (%)</th>\n",
       "      <th>AVERAGE VIEW DURATION</th>\n",
       "      <th>VIEWS</th>\n",
       "      <th>WATCH TIME (HOURS)</th>\n",
       "      <th>SUBSCRIBERS</th>\n",
       "      <th>YOUR ESTIMATED REVENUE (USD)</th>\n",
       "      <th>IMPRESSIONS</th>\n",
       "      <th>IMPRESSIONS CLICK-THROUGH RATE (%)</th>\n",
       "      <th>AVERAGE VIEW SECONDS</th>\n",
       "    </tr>\n",
       "  </thead>\n",
       "  <tbody>\n",
       "    <tr>\n",
       "      <th>1</th>\n",
       "      <td>4OZip0cgOho</td>\n",
       "      <td>How I Would Learn Data Science (If I Had to St...</td>\n",
       "      <td>2020-05-08</td>\n",
       "      <td>907</td>\n",
       "      <td>9583</td>\n",
       "      <td>942</td>\n",
       "      <td>46903</td>\n",
       "      <td>451</td>\n",
       "      <td>46904</td>\n",
       "      <td>6.353</td>\n",
       "      <td>12.835</td>\n",
       "      <td>36.65</td>\n",
       "      <td>1900-01-01 00:03:09</td>\n",
       "      <td>1253559</td>\n",
       "      <td>65850.7042</td>\n",
       "      <td>46453</td>\n",
       "      <td>7959.533</td>\n",
       "      <td>26498799</td>\n",
       "      <td>3.14</td>\n",
       "      <td>189</td>\n",
       "    </tr>\n",
       "  </tbody>\n",
       "</table>\n",
       "</div>"
      ],
      "text/plain": [
       "         VIDEO                                        VIDEO TITLE  \\\n",
       "1  4OZip0cgOho  How I Would Learn Data Science (If I Had to St...   \n",
       "\n",
       "  VIDEO PUBLISH TIME  COMMENTS ADDED  SHARES  DISLIKES  LIKES  \\\n",
       "1         2020-05-08             907    9583       942  46903   \n",
       "\n",
       "   SUBSCRIBERS LOST  SUBSCRIBERS GAINED  RPM (USD)  CPM (USD)  \\\n",
       "1               451               46904      6.353     12.835   \n",
       "\n",
       "   AVERAGE PERCENTAGE VIEWED (%) AVERAGE VIEW DURATION    VIEWS  \\\n",
       "1                          36.65   1900-01-01 00:03:09  1253559   \n",
       "\n",
       "   WATCH TIME (HOURS)  SUBSCRIBERS  YOUR ESTIMATED REVENUE (USD)  IMPRESSIONS  \\\n",
       "1          65850.7042        46453                      7959.533     26498799   \n",
       "\n",
       "   IMPRESSIONS CLICK-THROUGH RATE (%)  AVERAGE VIEW SECONDS  \n",
       "1                                3.14                   189  "
      ]
     },
     "execution_count": 375,
     "metadata": {},
     "output_type": "execute_result"
    }
   ],
   "source": [
    "df_agg.head(1)"
   ]
  },
  {
   "cell_type": "code",
   "execution_count": 376,
   "id": "342eb166",
   "metadata": {},
   "outputs": [
    {
     "name": "stdout",
     "output_type": "stream",
     "text": [
      "<class 'pandas.core.frame.DataFrame'>\n",
      "RangeIndex: 223 entries, 1 to 223\n",
      "Data columns (total 20 columns):\n",
      " #   Column                              Non-Null Count  Dtype         \n",
      "---  ------                              --------------  -----         \n",
      " 0   VIDEO                               223 non-null    object        \n",
      " 1   VIDEO TITLE                         223 non-null    object        \n",
      " 2   VIDEO PUBLISH TIME                  223 non-null    datetime64[ns]\n",
      " 3   COMMENTS ADDED                      223 non-null    int64         \n",
      " 4   SHARES                              223 non-null    int64         \n",
      " 5   DISLIKES                            223 non-null    int64         \n",
      " 6   LIKES                               223 non-null    int64         \n",
      " 7   SUBSCRIBERS LOST                    223 non-null    int64         \n",
      " 8   SUBSCRIBERS GAINED                  223 non-null    int64         \n",
      " 9   RPM (USD)                           223 non-null    float64       \n",
      " 10  CPM (USD)                           221 non-null    float64       \n",
      " 11  AVERAGE PERCENTAGE VIEWED (%)       223 non-null    float64       \n",
      " 12  AVERAGE VIEW DURATION               223 non-null    datetime64[ns]\n",
      " 13  VIEWS                               223 non-null    int64         \n",
      " 14  WATCH TIME (HOURS)                  223 non-null    float64       \n",
      " 15  SUBSCRIBERS                         223 non-null    int64         \n",
      " 16  YOUR ESTIMATED REVENUE (USD)        223 non-null    float64       \n",
      " 17  IMPRESSIONS                         223 non-null    int64         \n",
      " 18  IMPRESSIONS CLICK-THROUGH RATE (%)  223 non-null    float64       \n",
      " 19  AVERAGE VIEW SECONDS                223 non-null    int64         \n",
      "dtypes: datetime64[ns](2), float64(6), int64(10), object(2)\n",
      "memory usage: 35.0+ KB\n"
     ]
    }
   ],
   "source": [
    "df_agg.info() # our data type is corrected"
   ]
  },
  {
   "cell_type": "code",
   "execution_count": 377,
   "id": "1567854f",
   "metadata": {},
   "outputs": [],
   "source": [
    "# engagement ration, every engagement a view could do divided by the number of viewrs\n",
    "df_agg['ENGAGEMENT RATIO'] = (df_agg['SHARES'] + df_agg['LIKES'] + df_agg['DISLIKES'] + df_agg['COMMENTS ADDED']) / df_agg['VIEWS'] \n",
    "\n",
    "# ratio of views to subscribers gained\n",
    "df_agg['VIEW TO SUBSCRIBER RATIO'] = df_agg['VIEWS'] / df_agg['SUBSCRIBERS GAINED'] # how views does it take to gain a subscriber\n",
    "\n",
    "# ratio of views to subscribers lost, \n",
    "df_agg['VIEW TO SUBSCRIBER LOST RATIO'] = df_agg['VIEWS'] / df_agg['SUBSCRIBERS LOST'] # how views does it take to lose a subscriber"
   ]
  },
  {
   "cell_type": "code",
   "execution_count": 378,
   "id": "3ea24401",
   "metadata": {},
   "outputs": [
    {
     "data": {
      "text/html": [
       "<div>\n",
       "<style scoped>\n",
       "    .dataframe tbody tr th:only-of-type {\n",
       "        vertical-align: middle;\n",
       "    }\n",
       "\n",
       "    .dataframe tbody tr th {\n",
       "        vertical-align: top;\n",
       "    }\n",
       "\n",
       "    .dataframe thead th {\n",
       "        text-align: right;\n",
       "    }\n",
       "</style>\n",
       "<table border=\"1\" class=\"dataframe\">\n",
       "  <thead>\n",
       "    <tr style=\"text-align: right;\">\n",
       "      <th></th>\n",
       "      <th>VIDEO</th>\n",
       "      <th>VIDEO TITLE</th>\n",
       "      <th>VIDEO PUBLISH TIME</th>\n",
       "      <th>COMMENTS ADDED</th>\n",
       "      <th>SHARES</th>\n",
       "      <th>DISLIKES</th>\n",
       "      <th>LIKES</th>\n",
       "      <th>SUBSCRIBERS LOST</th>\n",
       "      <th>SUBSCRIBERS GAINED</th>\n",
       "      <th>RPM (USD)</th>\n",
       "      <th>...</th>\n",
       "      <th>VIEWS</th>\n",
       "      <th>WATCH TIME (HOURS)</th>\n",
       "      <th>SUBSCRIBERS</th>\n",
       "      <th>YOUR ESTIMATED REVENUE (USD)</th>\n",
       "      <th>IMPRESSIONS</th>\n",
       "      <th>IMPRESSIONS CLICK-THROUGH RATE (%)</th>\n",
       "      <th>AVERAGE VIEW SECONDS</th>\n",
       "      <th>ENGAGEMENT RATIO</th>\n",
       "      <th>VIEW TO SUBSCRIBER RATIO</th>\n",
       "      <th>VIEW TO SUBSCRIBER LOST RATIO</th>\n",
       "    </tr>\n",
       "  </thead>\n",
       "  <tbody>\n",
       "    <tr>\n",
       "      <th>1</th>\n",
       "      <td>4OZip0cgOho</td>\n",
       "      <td>How I Would Learn Data Science (If I Had to St...</td>\n",
       "      <td>2020-05-08</td>\n",
       "      <td>907</td>\n",
       "      <td>9583</td>\n",
       "      <td>942</td>\n",
       "      <td>46903</td>\n",
       "      <td>451</td>\n",
       "      <td>46904</td>\n",
       "      <td>6.353</td>\n",
       "      <td>...</td>\n",
       "      <td>1253559</td>\n",
       "      <td>65850.7042</td>\n",
       "      <td>46453</td>\n",
       "      <td>7959.533</td>\n",
       "      <td>26498799</td>\n",
       "      <td>3.14</td>\n",
       "      <td>189</td>\n",
       "      <td>0.046536</td>\n",
       "      <td>26.726057</td>\n",
       "      <td>2779.509978</td>\n",
       "    </tr>\n",
       "  </tbody>\n",
       "</table>\n",
       "<p>1 rows × 23 columns</p>\n",
       "</div>"
      ],
      "text/plain": [
       "         VIDEO                                        VIDEO TITLE  \\\n",
       "1  4OZip0cgOho  How I Would Learn Data Science (If I Had to St...   \n",
       "\n",
       "  VIDEO PUBLISH TIME  COMMENTS ADDED  SHARES  DISLIKES  LIKES  \\\n",
       "1         2020-05-08             907    9583       942  46903   \n",
       "\n",
       "   SUBSCRIBERS LOST  SUBSCRIBERS GAINED  RPM (USD)  ...    VIEWS  \\\n",
       "1               451               46904      6.353  ...  1253559   \n",
       "\n",
       "   WATCH TIME (HOURS) SUBSCRIBERS  YOUR ESTIMATED REVENUE (USD)  IMPRESSIONS  \\\n",
       "1          65850.7042       46453                      7959.533     26498799   \n",
       "\n",
       "   IMPRESSIONS CLICK-THROUGH RATE (%)  AVERAGE VIEW SECONDS  ENGAGEMENT RATIO  \\\n",
       "1                                3.14                   189          0.046536   \n",
       "\n",
       "   VIEW TO SUBSCRIBER RATIO  VIEW TO SUBSCRIBER LOST RATIO  \n",
       "1                 26.726057                    2779.509978  \n",
       "\n",
       "[1 rows x 23 columns]"
      ]
     },
     "execution_count": 378,
     "metadata": {},
     "output_type": "execute_result"
    }
   ],
   "source": [
    "df_agg.head(1)"
   ]
  },
  {
   "cell_type": "code",
   "execution_count": 379,
   "id": "74018331",
   "metadata": {},
   "outputs": [],
   "source": [
    "# sort data by 'VIDEO PUBLISH TIME'\n",
    "df_agg.sort_values(by = 'VIDEO PUBLISH TIME', ascending=False, inplace=True)"
   ]
  },
  {
   "cell_type": "code",
   "execution_count": 380,
   "id": "81140e2c",
   "metadata": {},
   "outputs": [
    {
     "data": {
      "text/html": [
       "<div>\n",
       "<style scoped>\n",
       "    .dataframe tbody tr th:only-of-type {\n",
       "        vertical-align: middle;\n",
       "    }\n",
       "\n",
       "    .dataframe tbody tr th {\n",
       "        vertical-align: top;\n",
       "    }\n",
       "\n",
       "    .dataframe thead th {\n",
       "        text-align: right;\n",
       "    }\n",
       "</style>\n",
       "<table border=\"1\" class=\"dataframe\">\n",
       "  <thead>\n",
       "    <tr style=\"text-align: right;\">\n",
       "      <th></th>\n",
       "      <th>VIDEO</th>\n",
       "      <th>VIDEO TITLE</th>\n",
       "      <th>VIDEO PUBLISH TIME</th>\n",
       "      <th>COMMENTS ADDED</th>\n",
       "      <th>SHARES</th>\n",
       "      <th>DISLIKES</th>\n",
       "      <th>LIKES</th>\n",
       "      <th>SUBSCRIBERS LOST</th>\n",
       "      <th>SUBSCRIBERS GAINED</th>\n",
       "      <th>RPM (USD)</th>\n",
       "      <th>...</th>\n",
       "      <th>VIEWS</th>\n",
       "      <th>WATCH TIME (HOURS)</th>\n",
       "      <th>SUBSCRIBERS</th>\n",
       "      <th>YOUR ESTIMATED REVENUE (USD)</th>\n",
       "      <th>IMPRESSIONS</th>\n",
       "      <th>IMPRESSIONS CLICK-THROUGH RATE (%)</th>\n",
       "      <th>AVERAGE VIEW SECONDS</th>\n",
       "      <th>ENGAGEMENT RATIO</th>\n",
       "      <th>VIEW TO SUBSCRIBER RATIO</th>\n",
       "      <th>VIEW TO SUBSCRIBER LOST RATIO</th>\n",
       "    </tr>\n",
       "  </thead>\n",
       "  <tbody>\n",
       "    <tr>\n",
       "      <th>111</th>\n",
       "      <td>0jTtHYie3CU</td>\n",
       "      <td>Should You Be Excited About Web 3? (As a Data ...</td>\n",
       "      <td>2022-01-17</td>\n",
       "      <td>37</td>\n",
       "      <td>43</td>\n",
       "      <td>8</td>\n",
       "      <td>267</td>\n",
       "      <td>14</td>\n",
       "      <td>18</td>\n",
       "      <td>4.055</td>\n",
       "      <td>...</td>\n",
       "      <td>4383</td>\n",
       "      <td>192.5779</td>\n",
       "      <td>4</td>\n",
       "      <td>16.549</td>\n",
       "      <td>65130</td>\n",
       "      <td>2.95</td>\n",
       "      <td>158</td>\n",
       "      <td>0.080995</td>\n",
       "      <td>243.5</td>\n",
       "      <td>313.071429</td>\n",
       "    </tr>\n",
       "    <tr>\n",
       "      <th>187</th>\n",
       "      <td>2RWwN5ZT4tA</td>\n",
       "      <td>Should  @Luke Barousse Take This Data Analyst ...</td>\n",
       "      <td>2022-01-14</td>\n",
       "      <td>12</td>\n",
       "      <td>2</td>\n",
       "      <td>3</td>\n",
       "      <td>78</td>\n",
       "      <td>1</td>\n",
       "      <td>1</td>\n",
       "      <td>1.882</td>\n",
       "      <td>...</td>\n",
       "      <td>2401</td>\n",
       "      <td>25.9375</td>\n",
       "      <td>0</td>\n",
       "      <td>1.720</td>\n",
       "      <td>25094</td>\n",
       "      <td>2.64</td>\n",
       "      <td>38</td>\n",
       "      <td>0.039567</td>\n",
       "      <td>2401.0</td>\n",
       "      <td>2401.000000</td>\n",
       "    </tr>\n",
       "  </tbody>\n",
       "</table>\n",
       "<p>2 rows × 23 columns</p>\n",
       "</div>"
      ],
      "text/plain": [
       "           VIDEO                                        VIDEO TITLE  \\\n",
       "111  0jTtHYie3CU  Should You Be Excited About Web 3? (As a Data ...   \n",
       "187  2RWwN5ZT4tA  Should  @Luke Barousse Take This Data Analyst ...   \n",
       "\n",
       "    VIDEO PUBLISH TIME  COMMENTS ADDED  SHARES  DISLIKES  LIKES  \\\n",
       "111         2022-01-17              37      43         8    267   \n",
       "187         2022-01-14              12       2         3     78   \n",
       "\n",
       "     SUBSCRIBERS LOST  SUBSCRIBERS GAINED  RPM (USD)  ...  VIEWS  \\\n",
       "111                14                  18      4.055  ...   4383   \n",
       "187                 1                   1      1.882  ...   2401   \n",
       "\n",
       "     WATCH TIME (HOURS) SUBSCRIBERS  YOUR ESTIMATED REVENUE (USD)  \\\n",
       "111            192.5779           4                        16.549   \n",
       "187             25.9375           0                         1.720   \n",
       "\n",
       "     IMPRESSIONS  IMPRESSIONS CLICK-THROUGH RATE (%)  AVERAGE VIEW SECONDS  \\\n",
       "111        65130                                2.95                   158   \n",
       "187        25094                                2.64                    38   \n",
       "\n",
       "     ENGAGEMENT RATIO  VIEW TO SUBSCRIBER RATIO  VIEW TO SUBSCRIBER LOST RATIO  \n",
       "111          0.080995                     243.5                     313.071429  \n",
       "187          0.039567                    2401.0                    2401.000000  \n",
       "\n",
       "[2 rows x 23 columns]"
      ]
     },
     "execution_count": 380,
     "metadata": {},
     "output_type": "execute_result"
    }
   ],
   "source": [
    "df_agg.head(2)"
   ]
  },
  {
   "cell_type": "code",
   "execution_count": 381,
   "id": "b87fbd1a",
   "metadata": {},
   "outputs": [
    {
     "data": {
      "text/html": [
       "<div>\n",
       "<style scoped>\n",
       "    .dataframe tbody tr th:only-of-type {\n",
       "        vertical-align: middle;\n",
       "    }\n",
       "\n",
       "    .dataframe tbody tr th {\n",
       "        vertical-align: top;\n",
       "    }\n",
       "\n",
       "    .dataframe thead th {\n",
       "        text-align: right;\n",
       "    }\n",
       "</style>\n",
       "<table border=\"1\" class=\"dataframe\">\n",
       "  <thead>\n",
       "    <tr style=\"text-align: right;\">\n",
       "      <th></th>\n",
       "      <th>DATE</th>\n",
       "      <th>VIDEO TITLE</th>\n",
       "      <th>EXTERNAL VIDEO ID</th>\n",
       "      <th>VIDEO LENGTH</th>\n",
       "      <th>THUMBNAIL LINK</th>\n",
       "      <th>VIEWS</th>\n",
       "      <th>VIDEO LIKES ADDED</th>\n",
       "      <th>VIDEO DISLIKES ADDED</th>\n",
       "      <th>VIDEO LIKES REMOVED</th>\n",
       "      <th>USER SUBSCRIPTIONS ADDED</th>\n",
       "      <th>USER SUBSCRIPTIONS REMOVED</th>\n",
       "      <th>AVERAGE VIEW PERCENTAGE</th>\n",
       "      <th>AVERAGE WATCH TIME</th>\n",
       "      <th>USER COMMENTS ADDED</th>\n",
       "    </tr>\n",
       "  </thead>\n",
       "  <tbody>\n",
       "    <tr>\n",
       "      <th>0</th>\n",
       "      <td>19 Jan 2022</td>\n",
       "      <td>Kaggle Project From Scratch - Part 2 (Explorat...</td>\n",
       "      <td>KQ80oD_boBM</td>\n",
       "      <td>2191</td>\n",
       "      <td>https://i.ytimg.com/vi/KQ80oD_boBM/hqdefault.jpg</td>\n",
       "      <td>13</td>\n",
       "      <td>0</td>\n",
       "      <td>0</td>\n",
       "      <td>0</td>\n",
       "      <td>0</td>\n",
       "      <td>0</td>\n",
       "      <td>0.069055</td>\n",
       "      <td>151.300154</td>\n",
       "      <td>0</td>\n",
       "    </tr>\n",
       "  </tbody>\n",
       "</table>\n",
       "</div>"
      ],
      "text/plain": [
       "          DATE                                        VIDEO TITLE  \\\n",
       "0  19 Jan 2022  Kaggle Project From Scratch - Part 2 (Explorat...   \n",
       "\n",
       "  EXTERNAL VIDEO ID  VIDEO LENGTH  \\\n",
       "0       KQ80oD_boBM          2191   \n",
       "\n",
       "                                     THUMBNAIL LINK  VIEWS  VIDEO LIKES ADDED  \\\n",
       "0  https://i.ytimg.com/vi/KQ80oD_boBM/hqdefault.jpg     13                  0   \n",
       "\n",
       "   VIDEO DISLIKES ADDED  VIDEO LIKES REMOVED  USER SUBSCRIPTIONS ADDED  \\\n",
       "0                     0                    0                         0   \n",
       "\n",
       "   USER SUBSCRIPTIONS REMOVED  AVERAGE VIEW PERCENTAGE  AVERAGE WATCH TIME  \\\n",
       "0                           0                 0.069055          151.300154   \n",
       "\n",
       "   USER COMMENTS ADDED  \n",
       "0                    0  "
      ]
     },
     "execution_count": 381,
     "metadata": {},
     "output_type": "execute_result"
    }
   ],
   "source": [
    "df_vid.head(1)"
   ]
  },
  {
   "cell_type": "code",
   "execution_count": 382,
   "id": "b11a3550",
   "metadata": {},
   "outputs": [],
   "source": [
    "# CONVERTING DATE to datetime\n",
    "df_vid['DATE'] = pd.to_datetime(df_vid['DATE'], format='mixed')"
   ]
  },
  {
   "cell_type": "code",
   "execution_count": 383,
   "id": "ef928487",
   "metadata": {},
   "outputs": [
    {
     "data": {
      "text/html": [
       "<div>\n",
       "<style scoped>\n",
       "    .dataframe tbody tr th:only-of-type {\n",
       "        vertical-align: middle;\n",
       "    }\n",
       "\n",
       "    .dataframe tbody tr th {\n",
       "        vertical-align: top;\n",
       "    }\n",
       "\n",
       "    .dataframe thead th {\n",
       "        text-align: right;\n",
       "    }\n",
       "</style>\n",
       "<table border=\"1\" class=\"dataframe\">\n",
       "  <thead>\n",
       "    <tr style=\"text-align: right;\">\n",
       "      <th></th>\n",
       "      <th>VIDEO TITLE</th>\n",
       "      <th>EXTERNAL VIDEO ID</th>\n",
       "      <th>VIDEO LENGTH</th>\n",
       "      <th>THUMBNAIL LINK</th>\n",
       "      <th>COUNTRY CODE</th>\n",
       "      <th>IS SUBSCRIBED</th>\n",
       "      <th>VIEWS</th>\n",
       "      <th>VIDEO LIKES ADDED</th>\n",
       "      <th>VIDEO DISLIKES ADDED</th>\n",
       "      <th>VIDEO LIKES REMOVED</th>\n",
       "      <th>USER SUBSCRIPTIONS ADDED</th>\n",
       "      <th>USER SUBSCRIPTIONS REMOVED</th>\n",
       "      <th>AVERAGE VIEW PERCENTAGE</th>\n",
       "      <th>AVERAGE WATCH TIME</th>\n",
       "      <th>USER COMMENTS ADDED</th>\n",
       "    </tr>\n",
       "  </thead>\n",
       "  <tbody>\n",
       "    <tr>\n",
       "      <th>0</th>\n",
       "      <td>🌶 Hot Topics in Tech: Data Science Explained #...</td>\n",
       "      <td>OtqQYqRNDGI</td>\n",
       "      <td>59</td>\n",
       "      <td>https://i.ytimg.com/vi/OtqQYqRNDGI/hqdefault.jpg</td>\n",
       "      <td>HK</td>\n",
       "      <td>True</td>\n",
       "      <td>23</td>\n",
       "      <td>1</td>\n",
       "      <td>0</td>\n",
       "      <td>0</td>\n",
       "      <td>2</td>\n",
       "      <td>0</td>\n",
       "      <td>0.67187</td>\n",
       "      <td>39.640348</td>\n",
       "      <td>0</td>\n",
       "    </tr>\n",
       "  </tbody>\n",
       "</table>\n",
       "</div>"
      ],
      "text/plain": [
       "                                         VIDEO TITLE EXTERNAL VIDEO ID  \\\n",
       "0  🌶 Hot Topics in Tech: Data Science Explained #...       OtqQYqRNDGI   \n",
       "\n",
       "   VIDEO LENGTH                                    THUMBNAIL LINK  \\\n",
       "0            59  https://i.ytimg.com/vi/OtqQYqRNDGI/hqdefault.jpg   \n",
       "\n",
       "  COUNTRY CODE  IS SUBSCRIBED  VIEWS  VIDEO LIKES ADDED  VIDEO DISLIKES ADDED  \\\n",
       "0           HK           True     23                  1                     0   \n",
       "\n",
       "   VIDEO LIKES REMOVED  USER SUBSCRIPTIONS ADDED  USER SUBSCRIPTIONS REMOVED  \\\n",
       "0                    0                         2                           0   \n",
       "\n",
       "   AVERAGE VIEW PERCENTAGE  AVERAGE WATCH TIME  USER COMMENTS ADDED  \n",
       "0                  0.67187           39.640348                    0  "
      ]
     },
     "execution_count": 383,
     "metadata": {},
     "output_type": "execute_result"
    }
   ],
   "source": [
    "df_agg_sub.head(1)"
   ]
  },
  {
   "cell_type": "code",
   "execution_count": 384,
   "id": "55f5e7b3",
   "metadata": {},
   "outputs": [
    {
     "data": {
      "text/html": [
       "<div>\n",
       "<style scoped>\n",
       "    .dataframe tbody tr th:only-of-type {\n",
       "        vertical-align: middle;\n",
       "    }\n",
       "\n",
       "    .dataframe tbody tr th {\n",
       "        vertical-align: top;\n",
       "    }\n",
       "\n",
       "    .dataframe thead th {\n",
       "        text-align: right;\n",
       "    }\n",
       "</style>\n",
       "<table border=\"1\" class=\"dataframe\">\n",
       "  <thead>\n",
       "    <tr style=\"text-align: right;\">\n",
       "      <th></th>\n",
       "      <th>COMMENTS</th>\n",
       "      <th>COMMENT_ID</th>\n",
       "      <th>REPLY_COUNT</th>\n",
       "      <th>LIKE_COUNT</th>\n",
       "      <th>DATE</th>\n",
       "      <th>VIDID</th>\n",
       "      <th>USER_ID</th>\n",
       "    </tr>\n",
       "  </thead>\n",
       "  <tbody>\n",
       "    <tr>\n",
       "      <th>0</th>\n",
       "      <td>Thanks for this video Ken.\\n\\nI decided to go ...</td>\n",
       "      <td>UgxFZTIzC4UPyhhX_PZ4AaABAg</td>\n",
       "      <td>0</td>\n",
       "      <td>0</td>\n",
       "      <td>2022-01-22T08:13:29Z</td>\n",
       "      <td>xpIFS6jZbe8</td>\n",
       "      <td>user_981</td>\n",
       "    </tr>\n",
       "  </tbody>\n",
       "</table>\n",
       "</div>"
      ],
      "text/plain": [
       "                                            COMMENTS  \\\n",
       "0  Thanks for this video Ken.\\n\\nI decided to go ...   \n",
       "\n",
       "                   COMMENT_ID  REPLY_COUNT  LIKE_COUNT                  DATE  \\\n",
       "0  UgxFZTIzC4UPyhhX_PZ4AaABAg            0           0  2022-01-22T08:13:29Z   \n",
       "\n",
       "         VIDID   USER_ID  \n",
       "0  xpIFS6jZbe8  user_981  "
      ]
     },
     "execution_count": 384,
     "metadata": {},
     "output_type": "execute_result"
    }
   ],
   "source": [
    "df_com.head(1)"
   ]
  },
  {
   "cell_type": "code",
   "execution_count": 385,
   "id": "72256c21",
   "metadata": {},
   "outputs": [
    {
     "name": "stdout",
     "output_type": "stream",
     "text": [
      "<class 'pandas.core.frame.DataFrame'>\n",
      "RangeIndex: 10240 entries, 0 to 10239\n",
      "Data columns (total 7 columns):\n",
      " #   Column       Non-Null Count  Dtype \n",
      "---  ------       --------------  ----- \n",
      " 0   COMMENTS     10239 non-null  object\n",
      " 1   COMMENT_ID   10240 non-null  object\n",
      " 2   REPLY_COUNT  10240 non-null  int64 \n",
      " 3   LIKE_COUNT   10240 non-null  int64 \n",
      " 4   DATE         10240 non-null  object\n",
      " 5   VIDID        10240 non-null  object\n",
      " 6   USER_ID      10240 non-null  object\n",
      "dtypes: int64(2), object(5)\n",
      "memory usage: 560.1+ KB\n"
     ]
    }
   ],
   "source": [
    "df_com.info()"
   ]
  },
  {
   "cell_type": "code",
   "execution_count": 386,
   "id": "92c1b4d0",
   "metadata": {},
   "outputs": [],
   "source": [
    "df_com['DATE'] = pd.to_datetime(df_com['DATE'])"
   ]
  },
  {
   "cell_type": "code",
   "execution_count": 387,
   "id": "9a593458",
   "metadata": {},
   "outputs": [
    {
     "data": {
      "text/html": [
       "<div>\n",
       "<style scoped>\n",
       "    .dataframe tbody tr th:only-of-type {\n",
       "        vertical-align: middle;\n",
       "    }\n",
       "\n",
       "    .dataframe tbody tr th {\n",
       "        vertical-align: top;\n",
       "    }\n",
       "\n",
       "    .dataframe thead th {\n",
       "        text-align: right;\n",
       "    }\n",
       "</style>\n",
       "<table border=\"1\" class=\"dataframe\">\n",
       "  <thead>\n",
       "    <tr style=\"text-align: right;\">\n",
       "      <th></th>\n",
       "      <th>COMMENTS</th>\n",
       "      <th>COMMENT_ID</th>\n",
       "      <th>REPLY_COUNT</th>\n",
       "      <th>LIKE_COUNT</th>\n",
       "      <th>DATE</th>\n",
       "      <th>VIDID</th>\n",
       "      <th>USER_ID</th>\n",
       "    </tr>\n",
       "  </thead>\n",
       "  <tbody>\n",
       "    <tr>\n",
       "      <th>0</th>\n",
       "      <td>Thanks for this video Ken.\\n\\nI decided to go ...</td>\n",
       "      <td>UgxFZTIzC4UPyhhX_PZ4AaABAg</td>\n",
       "      <td>0</td>\n",
       "      <td>0</td>\n",
       "      <td>2022-01-22 08:13:29+00:00</td>\n",
       "      <td>xpIFS6jZbe8</td>\n",
       "      <td>user_981</td>\n",
       "    </tr>\n",
       "  </tbody>\n",
       "</table>\n",
       "</div>"
      ],
      "text/plain": [
       "                                            COMMENTS  \\\n",
       "0  Thanks for this video Ken.\\n\\nI decided to go ...   \n",
       "\n",
       "                   COMMENT_ID  REPLY_COUNT  LIKE_COUNT  \\\n",
       "0  UgxFZTIzC4UPyhhX_PZ4AaABAg            0           0   \n",
       "\n",
       "                       DATE        VIDID   USER_ID  \n",
       "0 2022-01-22 08:13:29+00:00  xpIFS6jZbe8  user_981  "
      ]
     },
     "execution_count": 387,
     "metadata": {},
     "output_type": "execute_result"
    }
   ],
   "source": [
    "df_com.head(1)"
   ]
  },
  {
   "cell_type": "code",
   "execution_count": 388,
   "id": "7244e30c",
   "metadata": {},
   "outputs": [
    {
     "name": "stdout",
     "output_type": "stream",
     "text": [
      "<class 'pandas.core.frame.DataFrame'>\n",
      "RangeIndex: 10240 entries, 0 to 10239\n",
      "Data columns (total 7 columns):\n",
      " #   Column       Non-Null Count  Dtype              \n",
      "---  ------       --------------  -----              \n",
      " 0   COMMENTS     10239 non-null  object             \n",
      " 1   COMMENT_ID   10240 non-null  object             \n",
      " 2   REPLY_COUNT  10240 non-null  int64              \n",
      " 3   LIKE_COUNT   10240 non-null  int64              \n",
      " 4   DATE         10240 non-null  datetime64[ns, UTC]\n",
      " 5   VIDID        10240 non-null  object             \n",
      " 6   USER_ID      10240 non-null  object             \n",
      "dtypes: datetime64[ns, UTC](1), int64(2), object(4)\n",
      "memory usage: 560.1+ KB\n"
     ]
    }
   ],
   "source": [
    "df_com.info()"
   ]
  },
  {
   "cell_type": "code",
   "execution_count": 389,
   "id": "5c0fbb2e",
   "metadata": {},
   "outputs": [],
   "source": [
    "# engineer data\n",
    "## what metrics wil be relevant\n",
    "## difference from baseline\n",
    "## percent change\n",
    "\n",
    "# build dashboard\n",
    "## local picture\n",
    "## individual video\n",
    "\n",
    "# improvement"
   ]
  },
  {
   "cell_type": "code",
   "execution_count": 390,
   "id": "4cfdeb29",
   "metadata": {},
   "outputs": [],
   "source": [
    "def load_data():\n",
    "\n",
    "    # load data\n",
    "    df_vid = pd.read_csv('resource/Video_Performance_Over_Time.csv')\n",
    "\n",
    "    # dropping row Total to avoid issue with calculations\n",
    "    df_agg = pd.read_csv('resource/Aggregated_Metrics_By_Video.csv').iloc[1:,:]\n",
    "\n",
    "    df_agg_sub = pd.read_csv('resource/Aggregated_Metrics_By_Country_And_Subscriber_Status.csv')\n",
    "\n",
    "    df_com = pd.read_csv('resource/All_Comments_Final.csv')\n",
    "\n",
    "    # converting all columns to uppercase\n",
    "    for df in [df_agg,df_vid,df_agg_sub, df_com]:\n",
    "        df.columns = df.columns.str.upper()\n",
    "        \n",
    "    # remove \\xad\n",
    "    df_agg.columns = df_agg.columns.str.replace('\\xad','')\n",
    "    # convert date to datetype\n",
    "\n",
    "    df_agg['VIDEO PUBLISH TIME'] = pd.to_datetime(df_agg['VIDEO PUBLISH TIME'], format='mixed')\n",
    "\n",
    "    df_agg['AVERAGE VIEW DURATION'] = df_agg['AVERAGE VIEW DURATION'].apply(lambda x: datetime.strptime(x, '%H:%M:%S'))\n",
    "\n",
    "    # create new column for df_agg['AVERAGE VIEW SECONDS'\n",
    "    df_agg['AVERAGE VIEW SECONDS'] = df_agg['AVERAGE VIEW DURATION'].apply(lambda x: x.second + x.minute * 60 + x.hour * 60 * 60)\n",
    "\n",
    "    # engagement ration, every engagement a view could do divided by the number of viewrs\n",
    "    df_agg['ENGAGEMENT RATIO'] = (df_agg['SHARES'] + df_agg['LIKES'] + df_agg['DISLIKES'] + df_agg['COMMENTS ADDED']) / df_agg['VIEWS'] \n",
    "\n",
    "    # ratio of views to subscribers gained\n",
    "    df_agg['VIEW TO SUBSCRIBER RATIO'] = df_agg['VIEWS'] / df_agg['SUBSCRIBERS GAINED'] # how views does it take to gain a subscriber\n",
    "\n",
    "    # ratio of views to subscribers lost, \n",
    "    df_agg['VIEW TO SUBSCRIBER LOST RATIO'] = df_agg['VIEWS'] / df_agg['SUBSCRIBERS LOST'] # how views does it take to lose a subscriber\n",
    "\n",
    "    # sort data by 'VIDEO PUBLISH TIME'\n",
    "    df_agg.sort_values(by = 'VIDEO PUBLISH TIME', ascending=False, inplace=True)\n",
    "\n",
    "    # CONVERTING DATE to datetime\n",
    "    df_vid['DATE'] = pd.to_datetime(df_vid['DATE'], format='mixed')\n",
    "\n",
    "    df_com['DATE'] = pd.to_datetime(df_com['DATE'])\n",
    "    \n",
    "    return df_vid, df_agg, df_agg_sub, df_com"
   ]
  },
  {
   "cell_type": "code",
   "execution_count": 391,
   "id": "f8d11017",
   "metadata": {},
   "outputs": [],
   "source": [
    "    \n",
    "df_vid, df_agg, df_agg_sub, df_com = load_data()"
   ]
  },
  {
   "cell_type": "code",
   "execution_count": 392,
   "id": "733548d8",
   "metadata": {},
   "outputs": [],
   "source": [
    "# aggregated differential \n",
    "\n",
    "# create a copy of our dataframe\n",
    "df_agg_diff = df_agg.copy()"
   ]
  },
  {
   "cell_type": "code",
   "execution_count": 401,
   "id": "40125014",
   "metadata": {},
   "outputs": [
    {
     "data": {
      "text/plain": [
       "Timestamp('2021-01-17 00:00:00')"
      ]
     },
     "execution_count": 401,
     "metadata": {},
     "output_type": "execute_result"
    }
   ],
   "source": [
    "# for the last 12 months, most recently date back to 12 months\n",
    "metric_date_12mo = df_agg_diff['VIDEO PUBLISH TIME'].max() - DateOffset(months=12)\n",
    "metric_date_12mo # 12 months early date"
   ]
  },
  {
   "cell_type": "code",
   "execution_count": 446,
   "id": "f4b1ba8a",
   "metadata": {},
   "outputs": [
    {
     "data": {
      "text/plain": [
       "(48, 23)"
      ]
     },
     "execution_count": 446,
     "metadata": {},
     "output_type": "execute_result"
    }
   ],
   "source": [
    "# dataframe from metric_date_12mo to df_agg_diff['VIDEO PUBLISH TIME'].max()\n",
    "# that is, from 12 monts early to current date\n",
    "\n",
    "df_agg_diff_12mo = df_agg_diff[df_agg_diff['VIDEO PUBLISH TIME'] >= metric_date_12mo] # we have 48 rows\n",
    "df_agg_diff_12mo.shape"
   ]
  },
  {
   "cell_type": "code",
   "execution_count": 447,
   "id": "826a49cf",
   "metadata": {},
   "outputs": [
    {
     "data": {
      "text/plain": [
       "VIDEO PUBLISH TIME                    2021-07-06 00:00:00\n",
       "COMMENTS ADDED                                       43.5\n",
       "SHARES                                               42.5\n",
       "DISLIKES                                              5.0\n",
       "LIKES                                               382.5\n",
       "SUBSCRIBERS LOST                                     13.0\n",
       "SUBSCRIBERS GAINED                                   56.5\n",
       "RPM (USD)                                            4.37\n",
       "CPM (USD)                                          10.573\n",
       "AVERAGE PERCENTAGE VIEWED (%)                      41.175\n",
       "AVERAGE VIEW DURATION                 1900-01-01 00:02:46\n",
       "VIEWS                                              7417.0\n",
       "WATCH TIME (HOURS)                               279.9851\n",
       "SUBSCRIBERS                                          38.5\n",
       "YOUR ESTIMATED REVENUE (USD)                      24.7995\n",
       "IMPRESSIONS                                      155102.5\n",
       "IMPRESSIONS CLICK-THROUGH RATE (%)                   2.43\n",
       "AVERAGE VIEW SECONDS                                166.0\n",
       "ENGAGEMENT RATIO                                 0.060285\n",
       "VIEW TO SUBSCRIBER RATIO                       140.146406\n",
       "VIEW TO SUBSCRIBER LOST RATIO                  974.642857\n",
       "dtype: object"
      ]
     },
     "execution_count": 447,
     "metadata": {},
     "output_type": "execute_result"
    }
   ],
   "source": [
    "median_agg = df_agg_diff_12mo[df_agg_diff_12mo.columns[2:]].median()\n",
    "median_agg"
   ]
  },
  {
   "cell_type": "code",
   "execution_count": null,
   "id": "15a469cf",
   "metadata": {},
   "outputs": [],
   "source": []
  },
  {
   "cell_type": "code",
   "execution_count": 442,
   "id": "c077d694",
   "metadata": {},
   "outputs": [],
   "source": [
    "# aggregated differential \n",
    "\n",
    "# create a copy of our dataframe\n",
    "df_agg_diff = df_agg.copy()\n",
    "\n",
    "# for the last 12 months, most recently date back to 12 months\n",
    "metric_date_12mo = df_agg_diff['VIDEO PUBLISH TIME'].max() - DateOffset(months=12)\n",
    "\n",
    "# dataframe from metric_date_12mo to df_agg_diff['VIDEO PUBLISH TIME'].max()\n",
    "# that is, from 12 months early to current date\n",
    "\n",
    "df_agg_diff_12mo = df_agg_diff[df_agg_diff['VIDEO PUBLISH TIME'] >= metric_date_12mo]\n",
    "\n",
    "# median \n",
    "median_agg = df_agg_diff_12mo[df_agg_diff_12mo.columns[2:]].median()"
   ]
  },
  {
   "cell_type": "code",
   "execution_count": 460,
   "id": "271060ad",
   "metadata": {},
   "outputs": [],
   "source": [
    "# local picture\n",
    "\n",
    "metric_agg = df_agg[[\n",
    "    'VIDEO PUBLISH TIME',\n",
    "    'COMMENTS ADDED', \n",
    "    'SHARES', \n",
    "    'DISLIKES', \n",
    "    'LIKES', \n",
    "    'SUBSCRIBERS GAINED', \n",
    "    'RPM (USD)', \n",
    "    'VIEWS', \n",
    "    'YOUR ESTIMATED REVENUE (USD)',\n",
    "    'AVERAGE VIEW SECONDS', \n",
    "    'ENGAGEMENT RATIO', \n",
    "    'VIEW TO SUBSCRIBER RATIO',\n",
    "]]\n",
    "\n",
    "def metric_median(n):\n",
    "    # \n",
    "    metric_date_n = metric_agg['VIDEO PUBLISH TIME'].max() - DateOffset(months=n)\n",
    "    median_date_n = metric_agg[metric_agg['VIDEO PUBLISH TIME'] >= metric_date_n].median()\n",
    "    \n",
    "    return metric_date_n,median_date_n\n",
    "\n",
    "metric_12mo, median_12mo = metric_median(12)\n",
    "metric_6mo, median_6mo = metric_median(6)"
   ]
  },
  {
   "cell_type": "code",
   "execution_count": 461,
   "id": "2649d58e",
   "metadata": {},
   "outputs": [
    {
     "data": {
      "text/plain": [
       "12"
      ]
     },
     "execution_count": 461,
     "metadata": {},
     "output_type": "execute_result"
    }
   ],
   "source": [
    "len(metric_agg.columns)"
   ]
  },
  {
   "cell_type": "code",
   "execution_count": null,
   "id": "1c1fc706",
   "metadata": {},
   "outputs": [],
   "source": [
    "count = 0\n",
    "for i in median_6mo.index:\n",
    "    with columns[count]:\n",
    "        delta = (median_6mo[i] - median_12mo[i])/median_12mo[i]\n",
    "        st.metric(lable = i, value =round(median_12mo[i], 2), delta=\"{:.2%}\".format(delata))\n",
    "        count += 1\n",
    "        if count >= 6:\n",
    "            count = 0"
   ]
  },
  {
   "cell_type": "code",
   "execution_count": null,
   "id": "0d82971f",
   "metadata": {},
   "outputs": [],
   "source": [
    "for i in median_6mo.index:"
   ]
  }
 ],
 "metadata": {
  "kernelspec": {
   "display_name": "Python 3 (ipykernel)",
   "language": "python",
   "name": "python3"
  },
  "language_info": {
   "codemirror_mode": {
    "name": "ipython",
    "version": 3
   },
   "file_extension": ".py",
   "mimetype": "text/x-python",
   "name": "python",
   "nbconvert_exporter": "python",
   "pygments_lexer": "ipython3",
   "version": "3.11.5"
  }
 },
 "nbformat": 4,
 "nbformat_minor": 5
}
