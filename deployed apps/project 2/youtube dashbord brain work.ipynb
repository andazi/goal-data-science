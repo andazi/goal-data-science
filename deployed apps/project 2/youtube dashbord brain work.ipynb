{
 "cells": [
  {
   "cell_type": "code",
   "execution_count": 1,
   "id": "11bd1939",
   "metadata": {},
   "outputs": [],
   "source": [
    "# import library\n",
    "import pandas as pd\n",
    "import numpy as np\n",
    "import plotly.graph_objects as go\n",
    "import plotly.express as px\n",
    "from datetime import datetime\n",
    "import streamlit as st\n",
    "from pandas.tseries.offsets import DateOffset"
   ]
  },
  {
   "cell_type": "code",
   "execution_count": 2,
   "id": "2b74b5cf",
   "metadata": {},
   "outputs": [],
   "source": [
    "# define functions\n",
    "\n",
    "# load data\n",
    "df_vid = pd.read_csv('resource/Video_Performance_Over_Time.csv')\n",
    "\n",
    "# dropping row Total to avoid issue with calculations\n",
    "df_agg = pd.read_csv('resource/Aggregated_Metrics_By_Video.csv').iloc[1:,:]\n",
    "\n",
    "df_agg_sub = pd.read_csv('resource/Aggregated_Metrics_By_Country_And_Subscriber_Status.csv')\n",
    "\n",
    "df_com = pd.read_csv('resource/All_Comments_Final.csv')"
   ]
  },
  {
   "cell_type": "code",
   "execution_count": 3,
   "id": "c47ff7b8",
   "metadata": {},
   "outputs": [],
   "source": [
    "# clean our data"
   ]
  },
  {
   "cell_type": "code",
   "execution_count": 4,
   "id": "f93d198a",
   "metadata": {},
   "outputs": [],
   "source": [
    "# converting all columns to uppercase\n",
    "for df in [df_agg,df_vid,df_agg_sub, df_com]:\n",
    "    df.columns = df.columns.str.upper()\n"
   ]
  },
  {
   "cell_type": "code",
   "execution_count": 5,
   "id": "a48c76de",
   "metadata": {},
   "outputs": [],
   "source": [
    "# checking\n",
    "df_com.columns"
   ]
  },
  {
   "cell_type": "code",
   "execution_count": 6,
   "id": "553138fe",
   "metadata": {},
   "outputs": [],
   "source": [
    "df_agg.info()"
   ]
  },
  {
   "cell_type": "code",
   "execution_count": 7,
   "id": "9703c383",
   "metadata": {},
   "outputs": [],
   "source": [
    "df_agg.head(1)"
   ]
  },
  {
   "cell_type": "code",
   "execution_count": 8,
   "id": "1ce21787",
   "metadata": {},
   "outputs": [],
   "source": [
    "# checking columns\n",
    "df_agg.columns.tolist() # notice \\xad in our columns"
   ]
  },
  {
   "cell_type": "code",
   "execution_count": 9,
   "id": "67020352",
   "metadata": {},
   "outputs": [],
   "source": [
    "# remove \\xad\n",
    "df_agg.columns = df_agg.columns.str.replace('\\xad','')"
   ]
  },
  {
   "cell_type": "code",
   "execution_count": 10,
   "id": "3c2f453f",
   "metadata": {},
   "outputs": [],
   "source": [
    "# check \n",
    "df_agg.columns.tolist()"
   ]
  },
  {
   "cell_type": "code",
   "execution_count": 11,
   "id": "392fd5e4",
   "metadata": {},
   "outputs": [],
   "source": [
    "# convert date to datetype\n",
    "\n",
    "df_agg['VIDEO PUBLISH TIME'] = pd.to_datetime(df_agg['VIDEO PUBLISH TIME'], format='mixed')"
   ]
  },
  {
   "cell_type": "code",
   "execution_count": 12,
   "id": "1a1555e4",
   "metadata": {},
   "outputs": [],
   "source": [
    "df_agg['VIDEO PUBLISH TIME']"
   ]
  },
  {
   "cell_type": "code",
   "execution_count": 13,
   "id": "42055cbf",
   "metadata": {},
   "outputs": [],
   "source": [
    "df_agg['VIDEO PUBLISH TIME'][9]"
   ]
  },
  {
   "cell_type": "code",
   "execution_count": 14,
   "id": "a3ff575c",
   "metadata": {},
   "outputs": [],
   "source": [
    "df_agg.head(1)"
   ]
  },
  {
   "cell_type": "code",
   "execution_count": 15,
   "id": "b4e72120",
   "metadata": {},
   "outputs": [],
   "source": [
    "# AVERAGE VIEW DURATION is an object meaning it contains numbers and string\n",
    "df_agg['AVERAGE VIEW DURATION'][9] # a string"
   ]
  },
  {
   "cell_type": "code",
   "execution_count": 16,
   "id": "d90337aa",
   "metadata": {},
   "outputs": [],
   "source": [
    "df_agg['AVERAGE VIEW DURATION'] = pd.to_datetime(df_agg['AVERAGE VIEW DURATION']).dt.time\n",
    "\n",
    "\n",
    "# check\n",
    "df_agg['AVERAGE VIEW DURATION'][9]"
   ]
  },
  {
   "cell_type": "code",
   "execution_count": 17,
   "id": "478a404c",
   "metadata": {},
   "outputs": [],
   "source": [
    "# create new column for df_agg['AVERAGE VIEW SECONDS'\n",
    "df_agg['AVERAGE VIEW SECONDS'] = df_agg['AVERAGE VIEW DURATION'].apply(lambda x: x.second + x.minute * 60 + x.hour * 60 * 60)\n",
    "\n",
    "# check\n",
    "df_agg['AVERAGE VIEW SECONDS'][9]"
   ]
  },
  {
   "cell_type": "code",
   "execution_count": 18,
   "id": "e7fbbc35",
   "metadata": {},
   "outputs": [],
   "source": [
    "df_agg.head(1)"
   ]
  },
  {
   "cell_type": "code",
   "execution_count": 19,
   "id": "342eb166",
   "metadata": {},
   "outputs": [],
   "source": [
    "df_agg.info() # our data type is corrected"
   ]
  },
  {
   "cell_type": "code",
   "execution_count": 20,
   "id": "1567854f",
   "metadata": {},
   "outputs": [],
   "source": [
    "# engagement ration, every engagement a view could do divided by the number of viewrs\n",
    "df_agg['ENGAGEMENT RATIO'] = (df_agg['SHARES'] + df_agg['LIKES'] + df_agg['DISLIKES'] + df_agg['COMMENTS ADDED']) / df_agg['VIEWS'] \n",
    "\n",
    "# ratio of views to subscribers gained\n",
    "df_agg['VIEW TO SUBSCRIBER RATIO'] = df_agg['VIEWS'] / df_agg['SUBSCRIBERS GAINED'] # how views does it take to gain a subscriber\n",
    "\n",
    "# ratio of views to subscribers lost, \n",
    "df_agg['VIEW TO SUBSCRIBER LOST RATIO'] = df_agg['VIEWS'] / df_agg['SUBSCRIBERS LOST'] # how views does it take to lose a subscriber"
   ]
  },
  {
   "cell_type": "code",
   "execution_count": 21,
   "id": "3ea24401",
   "metadata": {},
   "outputs": [],
   "source": [
    "df_agg.head(1)"
   ]
  },
  {
   "cell_type": "code",
   "execution_count": 22,
   "id": "74018331",
   "metadata": {},
   "outputs": [],
   "source": [
    "# sort data by 'VIDEO PUBLISH TIME'\n",
    "df_agg.sort_values(by = 'VIDEO PUBLISH TIME', ascending=False, inplace=True)\n",
    "\n",
    "df_agg = df_agg.reset_index(drop=True)"
   ]
  },
  {
   "cell_type": "code",
   "execution_count": 23,
   "id": "81140e2c",
   "metadata": {},
   "outputs": [],
   "source": [
    "df_agg.head(2)"
   ]
  },
  {
   "cell_type": "code",
   "execution_count": 24,
   "id": "b87fbd1a",
   "metadata": {},
   "outputs": [],
   "source": [
    "df_vid.head(1)"
   ]
  },
  {
   "cell_type": "code",
   "execution_count": 25,
   "id": "b11a3550",
   "metadata": {},
   "outputs": [],
   "source": [
    "# CONVERTING DATE to datetime\n",
    "df_vid['DATE'] = pd.to_datetime(df_vid['DATE'], format='mixed').dt.date"
   ]
  },
  {
   "cell_type": "code",
   "execution_count": 26,
   "id": "ef928487",
   "metadata": {},
   "outputs": [],
   "source": [
    "df_agg_sub.head(1)"
   ]
  },
  {
   "cell_type": "code",
   "execution_count": 27,
   "id": "55f5e7b3",
   "metadata": {},
   "outputs": [],
   "source": [
    "df_com.head(1)"
   ]
  },
  {
   "cell_type": "code",
   "execution_count": 28,
   "id": "72256c21",
   "metadata": {},
   "outputs": [],
   "source": [
    "df_com.info()"
   ]
  },
  {
   "cell_type": "code",
   "execution_count": 29,
   "id": "92c1b4d0",
   "metadata": {},
   "outputs": [],
   "source": [
    "df_com['DATE'] = pd.to_datetime(df_com['DATE']).dt.date"
   ]
  },
  {
   "cell_type": "code",
   "execution_count": 30,
   "id": "9a593458",
   "metadata": {},
   "outputs": [],
   "source": [
    "df_com.head(1)"
   ]
  },
  {
   "cell_type": "code",
   "execution_count": 31,
   "id": "7244e30c",
   "metadata": {},
   "outputs": [],
   "source": [
    "df_com.info()"
   ]
  },
  {
   "cell_type": "code",
   "execution_count": 32,
   "id": "5c0fbb2e",
   "metadata": {},
   "outputs": [],
   "source": [
    "# engineer data\n",
    "## what metrics wil be relevant\n",
    "## difference from baseline\n",
    "## percent change\n",
    "\n",
    "# build dashboard\n",
    "## local picture\n",
    "## individual video\n",
    "\n",
    "# improvement"
   ]
  },
  {
   "cell_type": "code",
   "execution_count": 33,
   "id": "4cfdeb29",
   "metadata": {},
   "outputs": [],
   "source": [
    "def load_data():\n",
    "\n",
    "    # load data\n",
    "    df_vid = pd.read_csv('resource/Video_Performance_Over_Time.csv')\n",
    "\n",
    "    # dropping row Total to avoid issue with calculations\n",
    "    df_agg = pd.read_csv('resource/Aggregated_Metrics_By_Video.csv').iloc[1:,:]\n",
    "\n",
    "    df_agg_sub = pd.read_csv('resource/Aggregated_Metrics_By_Country_And_Subscriber_Status.csv')\n",
    "\n",
    "    df_com = pd.read_csv('resource/All_Comments_Final.csv')\n",
    "\n",
    "    # converting all columns to uppercase\n",
    "    for df in [df_agg,df_vid,df_agg_sub, df_com]:\n",
    "        df.columns = df.columns.str.upper()\n",
    "        \n",
    "    # remove \\xad\n",
    "    df_agg.columns = df_agg.columns.str.replace('\\xad','')\n",
    "    # convert date to datetype\n",
    "\n",
    "    df_agg['VIDEO PUBLISH TIME'] = pd.to_datetime(df_agg['VIDEO PUBLISH TIME'], format='mixed')\n",
    "\n",
    "    df_agg['AVERAGE VIEW DURATION'] = df_agg['AVERAGE VIEW DURATION'].apply(lambda x: datetime.strptime(x, '%H:%M:%S'))\n",
    "\n",
    "    # create new column for df_agg['AVERAGE VIEW SECONDS'\n",
    "    df_agg['AVERAGE VIEW SECONDS'] = df_agg['AVERAGE VIEW DURATION'].apply(lambda x: x.second + x.minute * 60 + x.hour * 60 * 60)\n",
    "\n",
    "    # engagement ration, every engagement a view could do divided by the number of viewrs\n",
    "    df_agg['ENGAGEMENT RATIO'] = (df_agg['SHARES'] + df_agg['LIKES'] + df_agg['DISLIKES'] + df_agg['COMMENTS ADDED']) / df_agg['VIEWS'] \n",
    "\n",
    "    # ratio of views to subscribers gained\n",
    "    df_agg['VIEW TO SUBSCRIBER RATIO'] = df_agg['VIEWS'] / df_agg['SUBSCRIBERS GAINED'] # how views does it take to gain a subscriber\n",
    "\n",
    "    # ratio of views to subscribers lost, \n",
    "    df_agg['VIEW TO SUBSCRIBER LOST RATIO'] = df_agg['VIEWS'] / df_agg['SUBSCRIBERS LOST'] # how views does it take to lose a subscriber\n",
    "\n",
    "    # sort data by 'VIDEO PUBLISH TIME'\n",
    "    df_agg.sort_values(by = 'VIDEO PUBLISH TIME', ascending=False, inplace=True)\n",
    "\n",
    "    # CONVERTING DATE to datetime\n",
    "    df_vid['DATE'] = pd.to_datetime(df_vid['DATE'], format='mixed')\n",
    "\n",
    "    df_com['DATE'] = pd.to_datetime(df_com['DATE'])\n",
    "    \n",
    "    return df_vid, df_agg, df_agg_sub, df_com"
   ]
  },
  {
   "cell_type": "code",
   "execution_count": 34,
   "id": "f8d11017",
   "metadata": {},
   "outputs": [],
   "source": [
    "    \n",
    "df_vid, df_agg, df_agg_sub, df_com = load_data()"
   ]
  },
  {
   "cell_type": "code",
   "execution_count": 35,
   "id": "733548d8",
   "metadata": {},
   "outputs": [],
   "source": [
    "# aggregated differential \n",
    "\n",
    "# create a copy of our dataframe\n",
    "df_agg_diff = df_agg.copy()"
   ]
  },
  {
   "cell_type": "code",
   "execution_count": 36,
   "id": "40125014",
   "metadata": {},
   "outputs": [],
   "source": [
    "# for the last 12 months, most recently date back to 12 months\n",
    "metric_date_12mo = df_agg_diff['VIDEO PUBLISH TIME'].max() - DateOffset(months=12)\n",
    "metric_date_12mo # 12 months early date"
   ]
  },
  {
   "cell_type": "code",
   "execution_count": 37,
   "id": "f4b1ba8a",
   "metadata": {},
   "outputs": [],
   "source": [
    "# dataframe from metric_date_12mo to df_agg_diff['VIDEO PUBLISH TIME'].max()\n",
    "# that is, from 12 monts early to current date\n",
    "\n",
    "df_agg_diff_12mo = df_agg_diff[df_agg_diff['VIDEO PUBLISH TIME'] >= metric_date_12mo] # we have 48 rows\n",
    "df_agg_diff_12mo.shape"
   ]
  },
  {
   "cell_type": "code",
   "execution_count": 38,
   "id": "826a49cf",
   "metadata": {},
   "outputs": [],
   "source": [
    "median_agg = df_agg_diff_12mo[df_agg_diff_12mo.columns[2:]].median()\n",
    "median_agg"
   ]
  },
  {
   "cell_type": "code",
   "execution_count": null,
   "id": "15a469cf",
   "metadata": {},
   "outputs": [],
   "source": []
  },
  {
   "cell_type": "code",
   "execution_count": null,
   "id": "a8846ffa",
   "metadata": {},
   "outputs": [],
   "source": []
  },
  {
   "cell_type": "code",
   "execution_count": 39,
   "id": "1b16f177",
   "metadata": {},
   "outputs": [],
   "source": [
    "# aggregated differential \n",
    "\n",
    "# create a copy of our dataframe\n",
    "df_agg_diff = df_agg.copy()"
   ]
  },
  {
   "cell_type": "code",
   "execution_count": 40,
   "id": "c739f82e",
   "metadata": {},
   "outputs": [],
   "source": [
    "df_agg['VIDEO PUBLISH TIME']"
   ]
  },
  {
   "cell_type": "code",
   "execution_count": 41,
   "id": "e9caf875",
   "metadata": {},
   "outputs": [],
   "source": [
    "# for the last 12 months, most recently date back to 12 months\n",
    "metric_date_12mo = df_agg_diff['VIDEO PUBLISH TIME'].max() - DateOffset(months=12)\n",
    "\n",
    "metric_date_12mo = metric_date_12mo\n",
    "\n",
    "# dataframe from metric_date_12mo to df_agg_diff['VIDEO PUBLISH TIME'].max()\n",
    "# that is, from 12 months early to current date\n",
    "\n",
    "df_agg_diff_12mo = df_agg_diff[df_agg_diff['VIDEO PUBLISH TIME'] >= metric_date_12mo]\n",
    "# median \n",
    "median_agg = df_agg_diff_12mo[df_agg_diff_12mo.columns[2:]].median()"
   ]
  },
  {
   "cell_type": "code",
   "execution_count": 42,
   "id": "c2a80ffc",
   "metadata": {},
   "outputs": [],
   "source": [
    "median_agg"
   ]
  },
  {
   "cell_type": "code",
   "execution_count": 43,
   "id": "271060ad",
   "metadata": {},
   "outputs": [],
   "source": [
    "# local picture\n",
    "\n",
    "metric_agg = df_agg[[\n",
    "    'VIDEO PUBLISH TIME',\n",
    "    'COMMENTS ADDED', \n",
    "    'SHARES', \n",
    "    'DISLIKES', \n",
    "    'LIKES', \n",
    "    'SUBSCRIBERS GAINED', \n",
    "    'RPM (USD)', \n",
    "    'VIEWS', \n",
    "    'YOUR ESTIMATED REVENUE (USD)',\n",
    "    'AVERAGE VIEW SECONDS', \n",
    "    'ENGAGEMENT RATIO', \n",
    "    'VIEW TO SUBSCRIBER RATIO',\n",
    "]]\n",
    "\n",
    "def metric_median(n):\n",
    "    # \n",
    "    metric_date_n = metric_agg['VIDEO PUBLISH TIME'].max() - DateOffset(months=n)\n",
    "    median_date_n = metric_agg[metric_agg['VIDEO PUBLISH TIME'] >= metric_date_n].median()\n",
    "    \n",
    "    return metric_date_n,median_date_n\n",
    "\n",
    "metric_12mo, median_12mo = metric_median(12)\n",
    "metric_6mo, median_6mo = metric_median(6)"
   ]
  },
  {
   "cell_type": "code",
   "execution_count": 44,
   "id": "2649d58e",
   "metadata": {},
   "outputs": [],
   "source": [
    "len(metric_agg.columns)"
   ]
  },
  {
   "cell_type": "code",
   "execution_count": null,
   "id": "847de483",
   "metadata": {},
   "outputs": [],
   "source": []
  },
  {
   "cell_type": "code",
   "execution_count": 45,
   "id": "c7b9e280",
   "metadata": {},
   "outputs": [],
   "source": [
    "median_6mo.index"
   ]
  },
  {
   "cell_type": "code",
   "execution_count": 46,
   "id": "c497fceb",
   "metadata": {},
   "outputs": [],
   "source": [
    "median_6mo['VIEWS']"
   ]
  },
  {
   "cell_type": "code",
   "execution_count": 47,
   "id": "3d53a763",
   "metadata": {},
   "outputs": [],
   "source": [
    "for i in median_6mo.index:\n",
    "    if i != 'VIDEO PUBLISH TIME':\n",
    "        pass\n",
    "        print(median_6mo[i] - median_12mo[i])\n",
    "        #print((median_6mo[i] - median_12mo[i])/median_12mo[i])\n",
    "    else:\n",
    "        delta = median_6mo[i] - median_12mo[i]\n",
    "        print(delta)\n",
    "        print(delta.days)\n",
    "        \n",
    "        #st.metric(label = 'Duration', value = delta, delta=f\"{delta} Days\")"
   ]
  },
  {
   "cell_type": "code",
   "execution_count": null,
   "id": "88b44871",
   "metadata": {},
   "outputs": [],
   "source": []
  },
  {
   "cell_type": "code",
   "execution_count": 48,
   "id": "5e6f82d3",
   "metadata": {},
   "outputs": [],
   "source": [
    "df_agg_diff.dtypes"
   ]
  },
  {
   "cell_type": "code",
   "execution_count": 49,
   "id": "1f8b94d6",
   "metadata": {},
   "outputs": [],
   "source": [
    "df_agg_diff.columns.tolist()"
   ]
  },
  {
   "cell_type": "code",
   "execution_count": 50,
   "id": "aebe3d31",
   "metadata": {},
   "outputs": [],
   "source": [
    "df_agg_diff_final = df_agg_diff.loc[:,[\n",
    " 'VIDEO',\n",
    " 'VIDEO TITLE',\n",
    " 'VIDEO PUBLISH TIME',\n",
    " 'COMMENTS ADDED',\n",
    " 'SHARES',\n",
    " 'DISLIKES',\n",
    " 'LIKES',\n",
    " 'SUBSCRIBERS LOST',\n",
    " 'SUBSCRIBERS GAINED',\n",
    " 'VIEWS',\n",
    " 'SUBSCRIBERS',\n",
    " 'YOUR ESTIMATED REVENUE (USD)',\n",
    " 'IMPRESSIONS',\n",
    " 'IMPRESSIONS CLICK-THROUGH RATE (%)',\n",
    " 'AVERAGE VIEW SECONDS',\n",
    " 'ENGAGEMENT RATIO',\n",
    " 'VIEW TO SUBSCRIBER RATIO',\n",
    " 'VIEW TO SUBSCRIBER LOST RATIO']\n",
    "]\n",
    "df_agg_diff_final.head(1)"
   ]
  },
  {
   "cell_type": "code",
   "execution_count": 51,
   "id": "cd9dbaf6",
   "metadata": {},
   "outputs": [],
   "source": [
    "df_agg['PUBLISH DATE'] = df_agg.loc[:,'VIDEO PUBLISH TIME']"
   ]
  },
  {
   "cell_type": "code",
   "execution_count": 52,
   "id": "b3985b53",
   "metadata": {},
   "outputs": [],
   "source": [
    "df_agg['VIDEO PUBLISH TIME'][9]"
   ]
  },
  {
   "cell_type": "code",
   "execution_count": 53,
   "id": "1129cbee",
   "metadata": {},
   "outputs": [],
   "source": [
    "df_agg['PUBLISH DATE'][9]"
   ]
  },
  {
   "cell_type": "code",
   "execution_count": 54,
   "id": "35a732fd",
   "metadata": {},
   "outputs": [],
   "source": [
    "df_agg.head(1)"
   ]
  },
  {
   "cell_type": "code",
   "execution_count": null,
   "id": "3771ffb9",
   "metadata": {},
   "outputs": [],
   "source": []
  },
  {
   "cell_type": "code",
   "execution_count": null,
   "id": "2b2584ea",
   "metadata": {},
   "outputs": [],
   "source": []
  },
  {
   "cell_type": "code",
   "execution_count": null,
   "id": "92ae8581",
   "metadata": {},
   "outputs": [],
   "source": []
  },
  {
   "cell_type": "code",
   "execution_count": null,
   "id": "02fdd290",
   "metadata": {},
   "outputs": [],
   "source": []
  },
  {
   "cell_type": "code",
   "execution_count": null,
   "id": "166d0b83",
   "metadata": {},
   "outputs": [],
   "source": []
  },
  {
   "cell_type": "code",
   "execution_count": null,
   "id": "80f17e27",
   "metadata": {},
   "outputs": [],
   "source": []
  },
  {
   "cell_type": "code",
   "execution_count": null,
   "id": "2b04087b",
   "metadata": {},
   "outputs": [],
   "source": []
  },
  {
   "cell_type": "code",
   "execution_count": null,
   "id": "774b412d",
   "metadata": {},
   "outputs": [],
   "source": []
  },
  {
   "cell_type": "code",
   "execution_count": null,
   "id": "7e21f93c",
   "metadata": {},
   "outputs": [],
   "source": []
  },
  {
   "cell_type": "code",
   "execution_count": null,
   "id": "27d9abb5",
   "metadata": {},
   "outputs": [],
   "source": []
  },
  {
   "cell_type": "code",
   "execution_count": null,
   "id": "8a8a845f",
   "metadata": {},
   "outputs": [],
   "source": []
  },
  {
   "cell_type": "code",
   "execution_count": null,
   "id": "fff4f6b3",
   "metadata": {},
   "outputs": [],
   "source": []
  },
  {
   "cell_type": "code",
   "execution_count": null,
   "id": "1ff7ef20",
   "metadata": {},
   "outputs": [],
   "source": []
  },
  {
   "cell_type": "code",
   "execution_count": null,
   "id": "4845d68b",
   "metadata": {},
   "outputs": [],
   "source": []
  },
  {
   "cell_type": "code",
   "execution_count": null,
   "id": "67ec079a",
   "metadata": {},
   "outputs": [],
   "source": []
  },
  {
   "cell_type": "code",
   "execution_count": null,
   "id": "b6d9929d",
   "metadata": {},
   "outputs": [],
   "source": []
  },
  {
   "cell_type": "code",
   "execution_count": null,
   "id": "e499c4c9",
   "metadata": {},
   "outputs": [],
   "source": []
  },
  {
   "cell_type": "code",
   "execution_count": null,
   "id": "8689b0c1",
   "metadata": {},
   "outputs": [],
   "source": []
  },
  {
   "cell_type": "code",
   "execution_count": null,
   "id": "47dada0f",
   "metadata": {},
   "outputs": [],
   "source": []
  },
  {
   "cell_type": "code",
   "execution_count": null,
   "id": "761982eb",
   "metadata": {},
   "outputs": [],
   "source": []
  },
  {
   "cell_type": "code",
   "execution_count": null,
   "id": "be650b6b",
   "metadata": {},
   "outputs": [],
   "source": []
  },
  {
   "cell_type": "code",
   "execution_count": null,
   "id": "3512c118",
   "metadata": {},
   "outputs": [],
   "source": []
  },
  {
   "cell_type": "code",
   "execution_count": null,
   "id": "3b98d6f4",
   "metadata": {},
   "outputs": [],
   "source": []
  },
  {
   "cell_type": "code",
   "execution_count": null,
   "id": "12e63dc3",
   "metadata": {},
   "outputs": [],
   "source": []
  },
  {
   "cell_type": "code",
   "execution_count": 55,
   "id": "10c50b1a",
   "metadata": {},
   "outputs": [],
   "source": [
    "def load_data():\n",
    "\n",
    "    # load data\n",
    "    df_vid = pd.read_csv('resource/Video_Performance_Over_Time.csv')\n",
    "\n",
    "    # dropping row Total to avoid issue with calculations\n",
    "    df_agg = pd.read_csv('resource/Aggregated_Metrics_By_Video.csv').iloc[1:,:]\n",
    "\n",
    "    df_agg_sub = pd.read_csv('resource/Aggregated_Metrics_By_Country_And_Subscriber_Status.csv')\n",
    "\n",
    "    df_com = pd.read_csv('resource/All_Comments_Final.csv')\n",
    "\n",
    "    # converting all columns to uppercase\n",
    "    for df in [df_agg,df_vid,df_agg_sub, df_com]:\n",
    "        df.columns = df.columns.str.upper()\n",
    "\n",
    "    # remove \\xad\n",
    "    df_agg.columns = df_agg.columns.str.replace('\\xad','')\n",
    "    # convert date to datetype\n",
    "\n",
    "    df_agg['VIDEO PUBLISH TIME'] = pd.to_datetime(df_agg['VIDEO PUBLISH TIME'], format='mixed')\n",
    "    print(df_agg['VIDEO PUBLISH TIME'][1])\n",
    "        \n",
    "    df_agg['AVERAGE VIEW DURATION'] = pd.to_datetime(df_agg['AVERAGE VIEW DURATION']).dt.time\n",
    "    print(df_agg['AVERAGE VIEW DURATION'])\n",
    "\n",
    "    # create new column for df_agg['AVERAGE VIEW SECONDS'\n",
    "    df_agg['AVERAGE VIEW SECONDS'] = df_agg['AVERAGE VIEW DURATION'].apply(lambda x: x.second + x.minute * 60 + x.hour * 60 * 60)\n",
    "    \n",
    "    print(df_agg['AVERAGE VIEW SECONDS'])\n",
    "\n",
    "    # engagement ration, every engagement a view could do divided by the number of viewrs\n",
    "    df_agg['ENGAGEMENT RATIO'] = (df_agg['SHARES'] + df_agg['LIKES'] + df_agg['DISLIKES'] + df_agg['COMMENTS ADDED']) / df_agg['VIEWS'] \n",
    "\n",
    "    # ratio of views to subscribers gained\n",
    "    df_agg['VIEW TO SUBSCRIBER RATIO'] = df_agg['VIEWS'] / df_agg['SUBSCRIBERS GAINED'] # how views does it take to gain a subscriber\n",
    "\n",
    "    # ratio of views to subscribers lost, \n",
    "    df_agg['VIEW TO SUBSCRIBER LOST RATIO'] = df_agg['VIEWS'] / df_agg['SUBSCRIBERS LOST'] # how views does it take to lose a subscriber\n",
    "\n",
    "    # sort data by 'VIDEO PUBLISH TIME'\n",
    "    df_agg.sort_values(by = 'VIDEO PUBLISH TIME', ascending=False, inplace=True)\n",
    "\n",
    "    # reset index\n",
    "    df_agg = df_agg.reset_index(drop=True)\n",
    "\n",
    "    # CONVERTING DATE to datetime\n",
    "    df_vid['DATE'] = pd.to_datetime(df_vid['DATE'], format='mixed')\n",
    "\n",
    "    df_com['DATE'] = pd.to_datetime(df_com['DATE'])\n",
    "\n",
    "    # create dataframe\n",
    "    return df_vid, df_agg, df_agg_sub, df_com\n",
    "\n",
    "df_vid, df_agg, df_agg_sub, df_com = load_data()"
   ]
  },
  {
   "cell_type": "code",
   "execution_count": 56,
   "id": "df492701",
   "metadata": {},
   "outputs": [],
   "source": [
    "df_agg.head(1)"
   ]
  },
  {
   "cell_type": "code",
   "execution_count": 57,
   "id": "a39ab526",
   "metadata": {},
   "outputs": [],
   "source": [
    "# engineer data\n",
    "\n",
    "# aggregated differential \n",
    "\n",
    "# create a copy of our dataframe\n",
    "df_agg_diff = df_agg.copy()\n",
    "\n",
    "# for the last 12 months, most recently date back to 12 months\n",
    "metric_date_12mo = df_agg_diff['VIDEO PUBLISH TIME'].max() - DateOffset(months=12)\n",
    "\n",
    "# dataframe from metric_date_12mo to df_agg_diff['VIDEO PUBLISH TIME'].max()\n",
    "# that is, from 12 months early to current date\n",
    "\n",
    "df_agg_diff_12mo = df_agg_diff[df_agg_diff['VIDEO PUBLISH TIME'] >= metric_date_12mo]"
   ]
  },
  {
   "cell_type": "code",
   "execution_count": 58,
   "id": "7441b302",
   "metadata": {},
   "outputs": [],
   "source": [
    "df_agg_diff_12mo[df_agg_diff_12mo.columns[2:]].describe()"
   ]
  },
  {
   "cell_type": "code",
   "execution_count": 59,
   "id": "81517d59",
   "metadata": {},
   "outputs": [],
   "source": [
    "# median \n",
    "median_agg = df_agg_diff_12mo[df_agg_diff_12mo.columns[2:]].median()"
   ]
  },
  {
   "cell_type": "code",
   "execution_count": null,
   "id": "3e516ecc",
   "metadata": {},
   "outputs": [],
   "source": []
  },
  {
   "cell_type": "code",
   "execution_count": null,
   "id": "2a060f5f",
   "metadata": {},
   "outputs": [],
   "source": []
  },
  {
   "cell_type": "code",
   "execution_count": null,
   "id": "f62c8160",
   "metadata": {},
   "outputs": [],
   "source": []
  },
  {
   "cell_type": "code",
   "execution_count": null,
   "id": "fec61418",
   "metadata": {},
   "outputs": [],
   "source": []
  },
  {
   "cell_type": "code",
   "execution_count": 60,
   "id": "d421f0fa",
   "metadata": {},
   "outputs": [],
   "source": [
    "# needed columns to display\n",
    "\n",
    "# converting timpstamp to date.date object\n",
    "df_agg['PUBLISH DATE'] = df_agg['VIDEO PUBLISH TIME'].dt.date\n",
    "\n",
    "metric_agg = df_agg[[\n",
    "    'PUBLISH TIME',\n",
    "    'COMMENTS ADDED', \n",
    "    'SHARES', \n",
    "    'DISLIKES', \n",
    "    'LIKES', \n",
    "    'SUBSCRIBERS GAINED', \n",
    "    'RPM (USD)', \n",
    "    'VIEWS', \n",
    "    'YOUR ESTIMATED REVENUE (USD)',\n",
    "    'AVERAGE VIEW SECONDS', \n",
    "    'ENGAGEMENT RATIO', \n",
    "    'VIEW TO SUBSCRIBER RATIO',\n",
    "]]  \n",
    "\n",
    "def metric_median(n):\n",
    "    # date range\n",
    "    metric_date_n = metric_agg['VIDEO PUBLISH TIME'].max() - DateOffset(months=n)\n",
    "    # median of date range\n",
    "    median_date_n = metric_agg[metric_agg['VIDEO PUBLISH TIME'] >= metric_date_n].median()\n",
    "\n",
    "    return metric_date_n,median_date_n\n",
    "\n",
    "metric_12mo, median_12mo = metric_median(12)\n",
    "metric_6mo, median_6mo = metric_median(6)\n",
    "\n",
    "col1, col2, col3,col4,col5,col6 = st.columns(6)\n",
    "columns = [col1, col2, col3,col4,col5,col6]\n",
    "\n",
    "count = 0\n",
    "for i in median_6mo.index:\n",
    "    with columns[count]:\n",
    "        if i != 'VIDEO PUBLISH TIME':\n",
    "            delta = (median_6mo[i] - median_12mo[i])/median_12mo[i]\n",
    "\n",
    "            st.metric(label = i, value = round(median_12mo[i], 1), delta=\"{:.2%}\".format(delta)) \n",
    "        else:\n",
    "            # dealing with datetime\n",
    "            delta = median_6mo[i] - median_12mo[i]\n",
    "\n",
    "            st.metric(label = 'Duration', value = delta.days, delta=f\"{(delta.days)//30} Months\")\n",
    "        count += 1\n",
    "        if count >= 6:\n",
    "            count = 0\n",
    "\n",
    "\n",
    "df_agg_diff_final = df_agg_diff.loc[:,[\n",
    "'VIDEO',\n",
    "'VIDEO TITLE',\n",
    "'VIDEO PUBLISH TIME',\n",
    "'COMMENTS ADDED',\n",
    "'SHARES',\n",
    "'DISLIKES',\n",
    "'LIKES',\n",
    "'SUBSCRIBERS LOST',\n",
    "'SUBSCRIBERS GAINED',\n",
    "'VIEWS',\n",
    "'SUBSCRIBERS',\n",
    "'YOUR ESTIMATED REVENUE (USD)',\n",
    "'IMPRESSIONS',\n",
    "'IMPRESSIONS CLICK-THROUGH RATE (%)',\n",
    "'AVERAGE VIEW SECONDS',\n",
    "'ENGAGEMENT RATIO',\n",
    "'VIEW TO SUBSCRIBER RATIO',\n",
    "'VIEW TO SUBSCRIBER LOST RATIO']\n",
    "]\n",
    "#st.dataframe(df_agg_diff_final)"
   ]
  },
  {
   "cell_type": "code",
   "execution_count": null,
   "id": "962fd7b5",
   "metadata": {},
   "outputs": [],
   "source": []
  }
 ],
 "metadata": {
  "kernelspec": {
   "display_name": "Python 3 (ipykernel)",
   "language": "python",
   "name": "python3"
  },
  "language_info": {
   "codemirror_mode": {
    "name": "ipython",
    "version": 3
   },
   "file_extension": ".py",
   "mimetype": "text/x-python",
   "name": "python",
   "nbconvert_exporter": "python",
   "pygments_lexer": "ipython3",
   "version": "3.11.5"
  }
 },
 "nbformat": 4,
 "nbformat_minor": 5
}
