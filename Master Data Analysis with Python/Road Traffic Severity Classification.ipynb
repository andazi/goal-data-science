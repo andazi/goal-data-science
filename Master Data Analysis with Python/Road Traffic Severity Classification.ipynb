{
 "cells": [
  {
   "cell_type": "code",
<<<<<<< HEAD
   "execution_count": 190,
   "id": "d0766a41",
   "metadata": {
    "tags": []
   },
=======
   "execution_count": 134,
   "id": "d0766a41",
   "metadata": {},
>>>>>>> origin/main
   "outputs": [],
   "source": [
    "import pandas as pd\n",
    "import numpy as np\n",
    "import matplotlib.pyplot as plt\n",
    "import seaborn as sns\n",
    "\n",
    "\n",
    "from sklearn.preprocessing import LabelEncoder\n",
    "from sklearn.feature_selection import SelectKBest, chi2\n",
    "from imblearn.over_sampling import SMOTENC\n",
    "from sklearn.model_selection import train_test_split\n",
    "from sklearn.ensemble import RandomForestClassifier\n",
    "from sklearn.metrics import confusion_matrix, classification_report, f1_score\n"
   ]
  },
  {
   "cell_type": "code",
   "execution_count": 98,
   "id": "8e365ab9",
   "metadata": {
<<<<<<< HEAD
    "collapsed": true,
    "jupyter": {
     "outputs_hidden": true
    }
=======
    "collapsed": true
>>>>>>> origin/main
   },
   "outputs": [
    {
     "name": "stdout",
     "output_type": "stream",
     "text": [
      "Requirement already satisfied: dabl in /home/onscript/anaconda3/lib/python3.11/site-packages (0.2.6.2)\n",
      "Requirement already satisfied: numpy in /home/onscript/anaconda3/lib/python3.11/site-packages (from dabl) (1.24.3)\n",
      "Requirement already satisfied: scipy in /home/onscript/anaconda3/lib/python3.11/site-packages (from dabl) (1.11.4)\n",
      "Requirement already satisfied: scikit-learn>=1.1 in /home/onscript/anaconda3/lib/python3.11/site-packages (from dabl) (1.3.0)\n",
      "Requirement already satisfied: pandas in /home/onscript/anaconda3/lib/python3.11/site-packages (from dabl) (2.1.4)\n",
      "Requirement already satisfied: seaborn in /home/onscript/anaconda3/lib/python3.11/site-packages (from dabl) (0.12.2)\n",
      "Requirement already satisfied: matplotlib>=3.8 in /home/onscript/anaconda3/lib/python3.11/site-packages (from dabl) (3.8.0)\n",
      "Requirement already satisfied: contourpy>=1.0.1 in /home/onscript/anaconda3/lib/python3.11/site-packages (from matplotlib>=3.8->dabl) (1.2.0)\n",
      "Requirement already satisfied: cycler>=0.10 in /home/onscript/anaconda3/lib/python3.11/site-packages (from matplotlib>=3.8->dabl) (0.11.0)\n",
      "Requirement already satisfied: fonttools>=4.22.0 in /home/onscript/anaconda3/lib/python3.11/site-packages (from matplotlib>=3.8->dabl) (4.25.0)\n",
      "Requirement already satisfied: kiwisolver>=1.0.1 in /home/onscript/anaconda3/lib/python3.11/site-packages (from matplotlib>=3.8->dabl) (1.4.4)\n",
      "Requirement already satisfied: packaging>=20.0 in /home/onscript/anaconda3/lib/python3.11/site-packages (from matplotlib>=3.8->dabl) (23.1)\n",
      "Requirement already satisfied: pillow>=6.2.0 in /home/onscript/anaconda3/lib/python3.11/site-packages (from matplotlib>=3.8->dabl) (10.0.1)\n",
      "Requirement already satisfied: pyparsing>=2.3.1 in /home/onscript/anaconda3/lib/python3.11/site-packages (from matplotlib>=3.8->dabl) (3.0.9)\n",
      "Requirement already satisfied: python-dateutil>=2.7 in /home/onscript/anaconda3/lib/python3.11/site-packages (from matplotlib>=3.8->dabl) (2.8.2)\n",
      "Requirement already satisfied: joblib>=1.1.1 in /home/onscript/anaconda3/lib/python3.11/site-packages (from scikit-learn>=1.1->dabl) (1.2.0)\n",
      "Requirement already satisfied: threadpoolctl>=2.0.0 in /home/onscript/anaconda3/lib/python3.11/site-packages (from scikit-learn>=1.1->dabl) (2.2.0)\n",
      "Requirement already satisfied: pytz>=2020.1 in /home/onscript/anaconda3/lib/python3.11/site-packages (from pandas->dabl) (2023.3.post1)\n",
      "Requirement already satisfied: tzdata>=2022.1 in /home/onscript/anaconda3/lib/python3.11/site-packages (from pandas->dabl) (2023.3)\n",
      "Requirement already satisfied: six>=1.5 in /home/onscript/anaconda3/lib/python3.11/site-packages (from python-dateutil>=2.7->matplotlib>=3.8->dabl) (1.16.0)\n"
     ]
    }
   ],
   "source": [
    "!pip install dabl"
   ]
  },
  {
   "cell_type": "code",
<<<<<<< HEAD
   "execution_count": 129,
   "id": "e88510ff",
   "metadata": {
    "tags": []
   },
=======
   "execution_count": 115,
   "id": "e88510ff",
   "metadata": {},
>>>>>>> origin/main
   "outputs": [],
   "source": [
    "import dabl"
   ]
  },
  {
   "cell_type": "code",
   "execution_count": null,
   "id": "61a85918",
   "metadata": {},
   "outputs": [],
   "source": []
  },
  {
   "cell_type": "code",
   "execution_count": null,
   "id": "73904a31",
   "metadata": {},
   "outputs": [],
   "source": []
  },
  {
   "cell_type": "code",
   "execution_count": null,
   "id": "fc8d84c8",
   "metadata": {},
   "outputs": [],
   "source": []
  },
  {
   "cell_type": "code",
<<<<<<< HEAD
   "execution_count": 130,
   "id": "3cc5cbaa",
   "metadata": {
    "tags": []
   },
=======
   "execution_count": 3,
   "id": "3cc5cbaa",
   "metadata": {},
>>>>>>> origin/main
   "outputs": [
    {
     "data": {
      "text/plain": [
       "(12316, 32)"
      ]
     },
<<<<<<< HEAD
     "execution_count": 130,
=======
     "execution_count": 3,
>>>>>>> origin/main
     "metadata": {},
     "output_type": "execute_result"
    }
   ],
   "source": [
    "df =pd.read_csv('dataset 1/RTA Dataset.csv')\n",
    "df.shape"
   ]
  },
  {
   "cell_type": "code",
<<<<<<< HEAD
   "execution_count": 131,
   "id": "d8383ec2",
   "metadata": {
    "tags": []
   },
=======
   "execution_count": 4,
   "id": "d8383ec2",
   "metadata": {},
>>>>>>> origin/main
   "outputs": [
    {
     "data": {
      "text/html": [
       "<div>\n",
       "<style scoped>\n",
       "    .dataframe tbody tr th:only-of-type {\n",
       "        vertical-align: middle;\n",
       "    }\n",
       "\n",
       "    .dataframe tbody tr th {\n",
       "        vertical-align: top;\n",
       "    }\n",
       "\n",
       "    .dataframe thead th {\n",
       "        text-align: right;\n",
       "    }\n",
       "</style>\n",
       "<table border=\"1\" class=\"dataframe\">\n",
       "  <thead>\n",
       "    <tr style=\"text-align: right;\">\n",
       "      <th></th>\n",
       "      <th>Time</th>\n",
       "      <th>Day_of_week</th>\n",
       "      <th>Age_band_of_driver</th>\n",
       "      <th>Sex_of_driver</th>\n",
       "      <th>Educational_level</th>\n",
       "      <th>Vehicle_driver_relation</th>\n",
       "      <th>Driving_experience</th>\n",
       "      <th>Type_of_vehicle</th>\n",
       "      <th>Owner_of_vehicle</th>\n",
       "      <th>Service_year_of_vehicle</th>\n",
       "      <th>...</th>\n",
       "      <th>Vehicle_movement</th>\n",
       "      <th>Casualty_class</th>\n",
       "      <th>Sex_of_casualty</th>\n",
       "      <th>Age_band_of_casualty</th>\n",
       "      <th>Casualty_severity</th>\n",
       "      <th>Work_of_casuality</th>\n",
       "      <th>Fitness_of_casuality</th>\n",
       "      <th>Pedestrian_movement</th>\n",
       "      <th>Cause_of_accident</th>\n",
       "      <th>Accident_severity</th>\n",
       "    </tr>\n",
       "  </thead>\n",
       "  <tbody>\n",
       "    <tr>\n",
       "      <th>0</th>\n",
       "      <td>17:02:00</td>\n",
       "      <td>Monday</td>\n",
       "      <td>18-30</td>\n",
       "      <td>Male</td>\n",
       "      <td>Above high school</td>\n",
       "      <td>Employee</td>\n",
       "      <td>1-2yr</td>\n",
       "      <td>Automobile</td>\n",
       "      <td>Owner</td>\n",
       "      <td>Above 10yr</td>\n",
       "      <td>...</td>\n",
       "      <td>Going straight</td>\n",
       "      <td>na</td>\n",
       "      <td>na</td>\n",
       "      <td>na</td>\n",
       "      <td>na</td>\n",
       "      <td>NaN</td>\n",
       "      <td>NaN</td>\n",
       "      <td>Not a Pedestrian</td>\n",
       "      <td>Moving Backward</td>\n",
       "      <td>Slight Injury</td>\n",
       "    </tr>\n",
       "    <tr>\n",
       "      <th>1</th>\n",
       "      <td>17:02:00</td>\n",
       "      <td>Monday</td>\n",
       "      <td>31-50</td>\n",
       "      <td>Male</td>\n",
       "      <td>Junior high school</td>\n",
       "      <td>Employee</td>\n",
       "      <td>Above 10yr</td>\n",
       "      <td>Public (&gt; 45 seats)</td>\n",
       "      <td>Owner</td>\n",
       "      <td>5-10yrs</td>\n",
       "      <td>...</td>\n",
       "      <td>Going straight</td>\n",
       "      <td>na</td>\n",
       "      <td>na</td>\n",
       "      <td>na</td>\n",
       "      <td>na</td>\n",
       "      <td>NaN</td>\n",
       "      <td>NaN</td>\n",
       "      <td>Not a Pedestrian</td>\n",
       "      <td>Overtaking</td>\n",
       "      <td>Slight Injury</td>\n",
       "    </tr>\n",
       "    <tr>\n",
       "      <th>2</th>\n",
       "      <td>17:02:00</td>\n",
       "      <td>Monday</td>\n",
       "      <td>18-30</td>\n",
       "      <td>Male</td>\n",
       "      <td>Junior high school</td>\n",
       "      <td>Employee</td>\n",
       "      <td>1-2yr</td>\n",
       "      <td>Lorry (41?100Q)</td>\n",
       "      <td>Owner</td>\n",
       "      <td>NaN</td>\n",
       "      <td>...</td>\n",
       "      <td>Going straight</td>\n",
       "      <td>Driver or rider</td>\n",
       "      <td>Male</td>\n",
       "      <td>31-50</td>\n",
       "      <td>3</td>\n",
       "      <td>Driver</td>\n",
       "      <td>NaN</td>\n",
       "      <td>Not a Pedestrian</td>\n",
       "      <td>Changing lane to the left</td>\n",
       "      <td>Serious Injury</td>\n",
       "    </tr>\n",
       "    <tr>\n",
       "      <th>3</th>\n",
       "      <td>1:06:00</td>\n",
       "      <td>Sunday</td>\n",
       "      <td>18-30</td>\n",
       "      <td>Male</td>\n",
       "      <td>Junior high school</td>\n",
       "      <td>Employee</td>\n",
       "      <td>5-10yr</td>\n",
       "      <td>Public (&gt; 45 seats)</td>\n",
       "      <td>Governmental</td>\n",
       "      <td>NaN</td>\n",
       "      <td>...</td>\n",
       "      <td>Going straight</td>\n",
       "      <td>Pedestrian</td>\n",
       "      <td>Female</td>\n",
       "      <td>18-30</td>\n",
       "      <td>3</td>\n",
       "      <td>Driver</td>\n",
       "      <td>Normal</td>\n",
       "      <td>Not a Pedestrian</td>\n",
       "      <td>Changing lane to the right</td>\n",
       "      <td>Slight Injury</td>\n",
       "    </tr>\n",
       "    <tr>\n",
       "      <th>4</th>\n",
       "      <td>1:06:00</td>\n",
       "      <td>Sunday</td>\n",
       "      <td>18-30</td>\n",
       "      <td>Male</td>\n",
       "      <td>Junior high school</td>\n",
       "      <td>Employee</td>\n",
       "      <td>2-5yr</td>\n",
       "      <td>NaN</td>\n",
       "      <td>Owner</td>\n",
       "      <td>5-10yrs</td>\n",
       "      <td>...</td>\n",
       "      <td>Going straight</td>\n",
       "      <td>na</td>\n",
       "      <td>na</td>\n",
       "      <td>na</td>\n",
       "      <td>na</td>\n",
       "      <td>NaN</td>\n",
       "      <td>NaN</td>\n",
       "      <td>Not a Pedestrian</td>\n",
       "      <td>Overtaking</td>\n",
       "      <td>Slight Injury</td>\n",
       "    </tr>\n",
       "  </tbody>\n",
       "</table>\n",
       "<p>5 rows × 32 columns</p>\n",
       "</div>"
      ],
      "text/plain": [
       "       Time Day_of_week Age_band_of_driver Sex_of_driver   Educational_level  \\\n",
       "0  17:02:00      Monday              18-30          Male   Above high school   \n",
       "1  17:02:00      Monday              31-50          Male  Junior high school   \n",
       "2  17:02:00      Monday              18-30          Male  Junior high school   \n",
       "3   1:06:00      Sunday              18-30          Male  Junior high school   \n",
       "4   1:06:00      Sunday              18-30          Male  Junior high school   \n",
       "\n",
       "  Vehicle_driver_relation Driving_experience      Type_of_vehicle  \\\n",
       "0                Employee              1-2yr           Automobile   \n",
       "1                Employee         Above 10yr  Public (> 45 seats)   \n",
       "2                Employee              1-2yr      Lorry (41?100Q)   \n",
       "3                Employee             5-10yr  Public (> 45 seats)   \n",
       "4                Employee              2-5yr                  NaN   \n",
       "\n",
       "  Owner_of_vehicle Service_year_of_vehicle  ... Vehicle_movement  \\\n",
       "0            Owner              Above 10yr  ...   Going straight   \n",
       "1            Owner                 5-10yrs  ...   Going straight   \n",
       "2            Owner                     NaN  ...   Going straight   \n",
       "3     Governmental                     NaN  ...   Going straight   \n",
       "4            Owner                 5-10yrs  ...   Going straight   \n",
       "\n",
       "    Casualty_class Sex_of_casualty Age_band_of_casualty Casualty_severity  \\\n",
       "0               na              na                   na                na   \n",
       "1               na              na                   na                na   \n",
       "2  Driver or rider            Male                31-50                 3   \n",
       "3       Pedestrian          Female                18-30                 3   \n",
       "4               na              na                   na                na   \n",
       "\n",
       "  Work_of_casuality Fitness_of_casuality Pedestrian_movement  \\\n",
       "0               NaN                  NaN    Not a Pedestrian   \n",
       "1               NaN                  NaN    Not a Pedestrian   \n",
       "2            Driver                  NaN    Not a Pedestrian   \n",
       "3            Driver               Normal    Not a Pedestrian   \n",
       "4               NaN                  NaN    Not a Pedestrian   \n",
       "\n",
       "            Cause_of_accident Accident_severity  \n",
       "0             Moving Backward     Slight Injury  \n",
       "1                  Overtaking     Slight Injury  \n",
       "2   Changing lane to the left    Serious Injury  \n",
       "3  Changing lane to the right     Slight Injury  \n",
       "4                  Overtaking     Slight Injury  \n",
       "\n",
       "[5 rows x 32 columns]"
      ]
     },
<<<<<<< HEAD
     "execution_count": 131,
=======
     "execution_count": 4,
>>>>>>> origin/main
     "metadata": {},
     "output_type": "execute_result"
    }
   ],
   "source": [
    "df.head()"
   ]
  },
  {
   "cell_type": "code",
<<<<<<< HEAD
   "execution_count": 132,
   "id": "19cc12ee",
   "metadata": {
    "tags": []
   },
=======
   "execution_count": 5,
   "id": "19cc12ee",
   "metadata": {},
>>>>>>> origin/main
   "outputs": [
    {
     "name": "stdout",
     "output_type": "stream",
     "text": [
      "<class 'pandas.core.frame.DataFrame'>\n",
      "RangeIndex: 12316 entries, 0 to 12315\n",
      "Data columns (total 32 columns):\n",
      " #   Column                       Non-Null Count  Dtype \n",
      "---  ------                       --------------  ----- \n",
      " 0   Time                         12316 non-null  object\n",
      " 1   Day_of_week                  12316 non-null  object\n",
      " 2   Age_band_of_driver           12316 non-null  object\n",
      " 3   Sex_of_driver                12316 non-null  object\n",
      " 4   Educational_level            11575 non-null  object\n",
      " 5   Vehicle_driver_relation      11737 non-null  object\n",
      " 6   Driving_experience           11487 non-null  object\n",
      " 7   Type_of_vehicle              11366 non-null  object\n",
      " 8   Owner_of_vehicle             11834 non-null  object\n",
      " 9   Service_year_of_vehicle      8388 non-null   object\n",
      " 10  Defect_of_vehicle            7889 non-null   object\n",
      " 11  Area_accident_occured        12077 non-null  object\n",
      " 12  Lanes_or_Medians             11931 non-null  object\n",
      " 13  Road_allignment              12174 non-null  object\n",
      " 14  Types_of_Junction            11429 non-null  object\n",
      " 15  Road_surface_type            12144 non-null  object\n",
      " 16  Road_surface_conditions      12316 non-null  object\n",
      " 17  Light_conditions             12316 non-null  object\n",
      " 18  Weather_conditions           12316 non-null  object\n",
      " 19  Type_of_collision            12161 non-null  object\n",
      " 20  Number_of_vehicles_involved  12316 non-null  int64 \n",
      " 21  Number_of_casualties         12316 non-null  int64 \n",
      " 22  Vehicle_movement             12008 non-null  object\n",
      " 23  Casualty_class               12316 non-null  object\n",
      " 24  Sex_of_casualty              12316 non-null  object\n",
      " 25  Age_band_of_casualty         12316 non-null  object\n",
      " 26  Casualty_severity            12316 non-null  object\n",
      " 27  Work_of_casuality            9118 non-null   object\n",
      " 28  Fitness_of_casuality         9681 non-null   object\n",
      " 29  Pedestrian_movement          12316 non-null  object\n",
      " 30  Cause_of_accident            12316 non-null  object\n",
      " 31  Accident_severity            12316 non-null  object\n",
      "dtypes: int64(2), object(30)\n",
      "memory usage: 3.0+ MB\n"
     ]
    }
   ],
   "source": [
    "df.info()"
   ]
  },
  {
   "cell_type": "markdown",
   "id": "26fd8b43",
   "metadata": {},
   "source": [
    "### Dataset Description\n",
    "\n",
    "Time: Time of the accident (in 24 hours format)\n",
    "\n",
    "Day_of_week: Day of the week when the accident occurred\n",
    "\n",
    "Age_band_of_driver: The age group of the driver\n",
    "\n",
    "Sex_of_driver: Gender of driver\n",
    "\n",
    "Educational_level: Driver’s highest education level\n",
    "\n",
    "Vehicle_driver_relation: What’s the relation of a driver with the vehicle\n",
    "\n",
    "Driving_experience: Number of years of driving experience the driver has\n",
    "\n",
    "Type_of_vehicle: What’s the type of vehicle\n",
    "\n",
    "Owner_of_vehicle: Who’s the owner of the vehicle\n",
    "\n",
    "Service_year_of_vehicle: The last service year of the vehicle\n",
    "\n",
    "Defect_of_vehicle: Is there any defect on the vehicle or not?\n",
    "\n",
    "Area_accident_occurred: Locality of an accident site\n",
    "\n",
    "Lanes_or_Medians: Are there any lanes or medians at the accident site?\n",
    "\n",
    "Road_alignment: Road alignment with the terrain of the land\n",
    "\n",
    "Types_of_junction: Type of junction at the accident site\n",
    "\n",
    "Road_surface_type: A surface type of road\n",
    "\n",
    "Road_surface_conditions: What was the condition of the road surface?\n",
    "\n",
    "Light_conditions: Lighting conditions at the site\n",
    "\n",
    "Weather_conditions: Weather conditions\n",
    "\n",
    "Type_of_collision: What is the type of collision\n",
    "\n",
    "Number_of_vehicles_involved: Total number of vehicles involved in an accident\n",
    "\n",
    "Number_of_casualties: Total number of casualties\n",
    "\n",
    "Vehicle_movement: How the vehicle was moving before the accident occurred\n",
    "\n",
    "Casualty_class: A person who got killed during an accident\n",
    "\n",
    "Sex_of_casualty: What the gender of a person who got killed\n",
    "\n",
    "Age_band_of_casualty: Age group of casualty\n",
    "\n",
    "Casualty_severity: How severely the casualty was injured\n",
    "\n",
    "Work_of_casualty: What was the work of the casualty\n",
    "\n",
    "Fitness_of_casualty: Fitness level of casualty\n",
    "\n",
    "Pedestrian_movement: Was there any pedestrian movement on the road?\n",
    "\n",
    "Cause_of_accident: What was the cause of an accident?\n",
    "\n",
    "Accident_severity: How severe an accident was? (Target variable)\n"
   ]
  },
  {
   "cell_type": "code",
<<<<<<< HEAD
   "execution_count": 133,
   "id": "6f386d63",
   "metadata": {
    "tags": []
   },
=======
   "execution_count": 6,
   "id": "6f386d63",
   "metadata": {},
>>>>>>> origin/main
   "outputs": [
    {
     "data": {
      "text/plain": [
       "Defect_of_vehicle              4427\n",
       "Service_year_of_vehicle        3928\n",
       "Work_of_casuality              3198\n",
       "Fitness_of_casuality           2635\n",
       "Type_of_vehicle                 950\n",
       "Types_of_Junction               887\n",
       "Driving_experience              829\n",
       "Educational_level               741\n",
       "Vehicle_driver_relation         579\n",
       "Owner_of_vehicle                482\n",
       "Lanes_or_Medians                385\n",
       "Vehicle_movement                308\n",
       "Area_accident_occured           239\n",
       "Road_surface_type               172\n",
       "Type_of_collision               155\n",
       "Road_allignment                 142\n",
       "Casualty_class                    0\n",
       "Pedestrian_movement               0\n",
       "Cause_of_accident                 0\n",
       "Casualty_severity                 0\n",
       "Age_band_of_casualty              0\n",
       "Sex_of_casualty                   0\n",
       "Time                              0\n",
       "Road_surface_conditions           0\n",
       "Number_of_casualties              0\n",
       "Number_of_vehicles_involved       0\n",
       "Weather_conditions                0\n",
       "Light_conditions                  0\n",
       "Day_of_week                       0\n",
       "Sex_of_driver                     0\n",
       "Age_band_of_driver                0\n",
       "Accident_severity                 0\n",
       "dtype: int64"
      ]
     },
<<<<<<< HEAD
     "execution_count": 133,
=======
     "execution_count": 6,
     "metadata": {},
     "output_type": "execute_result"
    },
    {
     "data": {
      "text/plain": [
       "Defect_of_vehicle              4427\n",
       "Service_year_of_vehicle        3928\n",
       "Work_of_casuality              3198\n",
       "Fitness_of_casuality           2635\n",
       "Type_of_vehicle                 950\n",
       "Types_of_Junction               887\n",
       "Driving_experience              829\n",
       "Educational_level               741\n",
       "Vehicle_driver_relation         579\n",
       "Owner_of_vehicle                482\n",
       "Lanes_or_Medians                385\n",
       "Vehicle_movement                308\n",
       "Area_accident_occured           239\n",
       "Road_surface_type               172\n",
       "Type_of_collision               155\n",
       "Road_allignment                 142\n",
       "Casualty_class                    0\n",
       "Pedestrian_movement               0\n",
       "Cause_of_accident                 0\n",
       "Casualty_severity                 0\n",
       "Age_band_of_casualty              0\n",
       "Sex_of_casualty                   0\n",
       "Time                              0\n",
       "Road_surface_conditions           0\n",
       "Number_of_casualties              0\n",
       "Number_of_vehicles_involved       0\n",
       "Weather_conditions                0\n",
       "Light_conditions                  0\n",
       "Day_of_week                       0\n",
       "Sex_of_driver                     0\n",
       "Age_band_of_driver                0\n",
       "Accident_severity                 0\n",
       "dtype: int64"
      ]
     },
     "execution_count": 6,
>>>>>>> origin/main
     "metadata": {},
     "output_type": "execute_result"
    }
   ],
   "source": [
    "# Nan values\n",
    "df.isna().sum().sort_values(ascending=False)"
   ]
  },
  {
   "cell_type": "code",
<<<<<<< HEAD
   "execution_count": 134,
   "id": "63009bf1",
   "metadata": {
    "tags": []
   },
=======
   "execution_count": 7,
   "id": "63009bf1",
   "metadata": {},
>>>>>>> origin/main
   "outputs": [
    {
     "data": {
      "text/plain": [
       "('Sex_of_driver', 'Age_band_of_driver', 'Weather_conditions')"
      ]
     },
<<<<<<< HEAD
     "execution_count": 134,
=======
     "execution_count": 7,
>>>>>>> origin/main
     "metadata": {},
     "output_type": "execute_result"
    }
   ],
   "source": [
    "'Sex_of_driver', 'Age_band_of_driver', 'Weather_conditions'"
   ]
  },
  {
   "cell_type": "code",
<<<<<<< HEAD
   "execution_count": 135,
   "id": "16c38477",
   "metadata": {
    "tags": []
   },
=======
   "execution_count": 8,
   "id": "16c38477",
   "metadata": {},
>>>>>>> origin/main
   "outputs": [
    {
     "data": {
      "text/html": [
       "<div>\n",
       "<style scoped>\n",
       "    .dataframe tbody tr th:only-of-type {\n",
       "        vertical-align: middle;\n",
       "    }\n",
       "\n",
       "    .dataframe tbody tr th {\n",
       "        vertical-align: top;\n",
       "    }\n",
       "\n",
       "    .dataframe thead th {\n",
       "        text-align: right;\n",
       "    }\n",
       "</style>\n",
       "<table border=\"1\" class=\"dataframe\">\n",
       "  <thead>\n",
       "    <tr style=\"text-align: right;\">\n",
       "      <th></th>\n",
       "      <th>Light_conditions</th>\n",
       "      <th>Road_surface_conditions</th>\n",
       "      <th>Cause_of_accident</th>\n",
       "      <th>Sex_of_driver</th>\n",
       "      <th>Age_band_of_driver</th>\n",
       "      <th>Weather_conditions</th>\n",
       "    </tr>\n",
       "  </thead>\n",
       "  <tbody>\n",
       "    <tr>\n",
       "      <th>2</th>\n",
       "      <td>Daylight</td>\n",
       "      <td>Dry</td>\n",
       "      <td>Changing lane to the left</td>\n",
       "      <td>Male</td>\n",
       "      <td>18-30</td>\n",
       "      <td>Normal</td>\n",
       "    </tr>\n",
       "    <tr>\n",
       "      <th>5</th>\n",
       "      <td>Daylight</td>\n",
       "      <td>Dry</td>\n",
       "      <td>Overloading</td>\n",
       "      <td>Male</td>\n",
       "      <td>31-50</td>\n",
       "      <td>Normal</td>\n",
       "    </tr>\n",
       "    <tr>\n",
       "      <th>24</th>\n",
       "      <td>Daylight</td>\n",
       "      <td>Dry</td>\n",
       "      <td>Improper parking</td>\n",
       "      <td>Male</td>\n",
       "      <td>18-30</td>\n",
       "      <td>Normal</td>\n",
       "    </tr>\n",
       "    <tr>\n",
       "      <th>105</th>\n",
       "      <td>Daylight</td>\n",
       "      <td>Dry</td>\n",
       "      <td>No distancing</td>\n",
       "      <td>Male</td>\n",
       "      <td>Over 51</td>\n",
       "      <td>Normal</td>\n",
       "    </tr>\n",
       "    <tr>\n",
       "      <th>121</th>\n",
       "      <td>Darkness - lights lit</td>\n",
       "      <td>Dry</td>\n",
       "      <td>No distancing</td>\n",
       "      <td>Male</td>\n",
       "      <td>18-30</td>\n",
       "      <td>Normal</td>\n",
       "    </tr>\n",
       "    <tr>\n",
       "      <th>...</th>\n",
       "      <td>...</td>\n",
       "      <td>...</td>\n",
       "      <td>...</td>\n",
       "      <td>...</td>\n",
       "      <td>...</td>\n",
       "      <td>...</td>\n",
       "    </tr>\n",
       "    <tr>\n",
       "      <th>12089</th>\n",
       "      <td>Darkness - lights lit</td>\n",
       "      <td>Dry</td>\n",
       "      <td>Turnover</td>\n",
       "      <td>Male</td>\n",
       "      <td>18-30</td>\n",
       "      <td>Normal</td>\n",
       "    </tr>\n",
       "    <tr>\n",
       "      <th>12092</th>\n",
       "      <td>Darkness - lights lit</td>\n",
       "      <td>Dry</td>\n",
       "      <td>No priority to vehicle</td>\n",
       "      <td>Male</td>\n",
       "      <td>18-30</td>\n",
       "      <td>Normal</td>\n",
       "    </tr>\n",
       "    <tr>\n",
       "      <th>12111</th>\n",
       "      <td>Daylight</td>\n",
       "      <td>Dry</td>\n",
       "      <td>Moving Backward</td>\n",
       "      <td>Female</td>\n",
       "      <td>18-30</td>\n",
       "      <td>Normal</td>\n",
       "    </tr>\n",
       "    <tr>\n",
       "      <th>12192</th>\n",
       "      <td>Daylight</td>\n",
       "      <td>Wet or damp</td>\n",
       "      <td>No distancing</td>\n",
       "      <td>Female</td>\n",
       "      <td>31-50</td>\n",
       "      <td>Normal</td>\n",
       "    </tr>\n",
       "    <tr>\n",
       "      <th>12208</th>\n",
       "      <td>Daylight</td>\n",
       "      <td>Dry</td>\n",
       "      <td>Driving under the influence of drugs</td>\n",
       "      <td>Male</td>\n",
       "      <td>Over 51</td>\n",
       "      <td>Normal</td>\n",
       "    </tr>\n",
       "  </tbody>\n",
       "</table>\n",
       "<p>142 rows × 6 columns</p>\n",
       "</div>"
      ],
      "text/plain": [
       "            Light_conditions Road_surface_conditions  \\\n",
       "2                   Daylight                     Dry   \n",
       "5                   Daylight                     Dry   \n",
       "24                  Daylight                     Dry   \n",
       "105                 Daylight                     Dry   \n",
       "121    Darkness - lights lit                     Dry   \n",
       "...                      ...                     ...   \n",
       "12089  Darkness - lights lit                     Dry   \n",
       "12092  Darkness - lights lit                     Dry   \n",
       "12111               Daylight                     Dry   \n",
       "12192               Daylight             Wet or damp   \n",
       "12208               Daylight                     Dry   \n",
       "\n",
       "                          Cause_of_accident Sex_of_driver Age_band_of_driver  \\\n",
       "2                 Changing lane to the left          Male              18-30   \n",
       "5                               Overloading          Male              31-50   \n",
       "24                         Improper parking          Male              18-30   \n",
       "105                           No distancing          Male            Over 51   \n",
       "121                           No distancing          Male              18-30   \n",
       "...                                     ...           ...                ...   \n",
       "12089                              Turnover          Male              18-30   \n",
       "12092                No priority to vehicle          Male              18-30   \n",
       "12111                       Moving Backward        Female              18-30   \n",
       "12192                         No distancing        Female              31-50   \n",
       "12208  Driving under the influence of drugs          Male            Over 51   \n",
       "\n",
       "      Weather_conditions  \n",
       "2                 Normal  \n",
       "5                 Normal  \n",
       "24                Normal  \n",
       "105               Normal  \n",
       "121               Normal  \n",
       "...                  ...  \n",
       "12089             Normal  \n",
       "12092             Normal  \n",
       "12111             Normal  \n",
       "12192             Normal  \n",
       "12208             Normal  \n",
       "\n",
       "[142 rows x 6 columns]"
      ]
     },
<<<<<<< HEAD
     "execution_count": 135,
=======
     "execution_count": 8,
>>>>>>> origin/main
     "metadata": {},
     "output_type": "execute_result"
    }
   ],
   "source": [
    "df.loc[df['Road_allignment'].isna(), ['Light_conditions','Road_surface_conditions','Cause_of_accident', 'Sex_of_driver', 'Age_band_of_driver', 'Weather_conditions']]"
   ]
  },
  {
   "cell_type": "markdown",
   "id": "a4231f8e",
   "metadata": {},
   "source": [
    "#### Visual representation of Accident Severity"
   ]
  },
  {
   "cell_type": "code",
<<<<<<< HEAD
   "execution_count": 136,
   "id": "6a23d321",
   "metadata": {
    "tags": []
   },
=======
   "execution_count": 9,
   "id": "6a23d321",
   "metadata": {},
>>>>>>> origin/main
   "outputs": [
    {
     "data": {
      "text/plain": [
       "Accident_severity\n",
       "Slight Injury     10415\n",
       "Serious Injury     1743\n",
       "Fatal injury        158\n",
       "Name: count, dtype: int64"
      ]
     },
<<<<<<< HEAD
     "execution_count": 136,
=======
     "execution_count": 9,
>>>>>>> origin/main
     "metadata": {},
     "output_type": "execute_result"
    }
   ],
   "source": [
    "# count of accident severity\n",
    "df['Accident_severity'].value_counts()"
   ]
  },
  {
   "cell_type": "code",
<<<<<<< HEAD
   "execution_count": 137,
   "id": "2eb24ec0",
   "metadata": {
    "tags": []
   },
=======
   "execution_count": 10,
   "id": "2eb24ec0",
   "metadata": {},
>>>>>>> origin/main
   "outputs": [
    {
     "data": {
      "text/plain": [
       "Accident_severity\n",
       "Slight Injury     0.845648\n",
       "Serious Injury    0.141523\n",
       "Fatal injury      0.012829\n",
       "Name: proportion, dtype: float64"
      ]
     },
<<<<<<< HEAD
     "execution_count": 137,
=======
     "execution_count": 10,
>>>>>>> origin/main
     "metadata": {},
     "output_type": "execute_result"
    }
   ],
   "source": [
    "# ratio of accident severity\n",
    "df['Accident_severity'].value_counts(normalize=True)"
   ]
  },
  {
   "cell_type": "markdown",
   "id": "7fd84adb",
   "metadata": {},
   "source": [
    "__Slight injury__ contributes to about __84%__ in all accident severity"
   ]
  },
  {
   "cell_type": "code",
<<<<<<< HEAD
   "execution_count": 138,
   "id": "7f71d66f",
   "metadata": {
    "tags": []
   },
=======
   "execution_count": 67,
   "id": "7f71d66f",
   "metadata": {},
>>>>>>> origin/main
   "outputs": [
    {
     "data": {
      "image/png": "iVBORw0KGgoAAAANSUhEUgAABOgAAANVCAYAAADCzMHMAAAAOXRFWHRTb2Z0d2FyZQBNYXRwbG90bGliIHZlcnNpb24zLjguMCwgaHR0cHM6Ly9tYXRwbG90bGliLm9yZy81sbWrAAAACXBIWXMAAA9hAAAPYQGoP6dpAABaB0lEQVR4nO3dfdzX8/3///vRUQklUcw5ocPo7Fh8UkrOz43KSTuJYWjOx1hzNpQpbE6HMH2cbkjMwsz4mDInjZxtMqcjbDqhsqQ6On5/+Hr/HHLSGc/oer1cXC4dr/fz/Xo/Xm+Xy7u69Xq9X1X19fX1AQAAAACKaFR6AAAAAABYmgl0AAAAAFCQQAcAAAAABQl0AAAAAFCQQAcAAAAABQl0AAAAAFCQQAcAAAAABQl0AAAAAFCQQAcAAAAABQl0AACL6JprrklNTU122223L/y1ampqctFFF33uupEjR6ampiYTJkz4wmZ57733ctFFF+WRRx6Z7+e8+eabOe2007LjjjumY8eO+Z//+Z/svvvuOfnkk/Pmm29+YbMuDo888khqamoaHO9f/vKX+fr/AQDwWRqXHgAA4KvulltuSZI8//zzefLJJ9OpU6cv7LVuvPHGfOMb3/jC9r8g3nvvvVx88cU54ogj0rVr189d/+9//zu9e/fOCiuskAMOOCDrrbde3n333bzwwgu566678tprr2W11Vb7EiZfOJtsskluvPHGbLDBBpVtf/nLX3L99dfnyCOPLDgZAPBVJ9ABACyCp59+OuPHj89WW22V+++/PyNGjPhCA13nzp2/sH1/0W666aa8/fbbufnmm7PWWmtVtm+33XYZMGBA5s6dW3C6Tzd79uxUVVWlefPmX+n3HwBYcrnEFQBgEYwYMSJJctxxx6W2tjZ33HFH3nvvvXnW/ec//8kpp5ySXr16pX379unRo0eOOuqoTJo0qbJm2rRpGTJkSLbddtu0b98+3bp1y8EHH5wXX3yxsuaTLnF94okn0q9fv3To0CE9evTIL3/5y8yZM+cT573zzjuz7777pnPnzqmtrc1BBx2Uf/zjHw3WDBw4MLW1tfnXv/6Vgw8+OLW1tenVq1eGDBmSWbNmJUkmTJiQbt26JUkuvvji1NTUpKamJgMHDvzU9+qdd95Jo0aNsvLKK3/i440aNfyj6dNPP50BAwbkf/7nf9KhQ4fsueeeufPOOyuPjx8/PjU1Nbn55pvn2ddf/vKX1NTU5N57761se+WVV3LcccelW7duad++fXbeeedcf/31DZ734WWst912W4YMGZKePXumQ4cO+de//jXPJa4DBw6sPP/D4//wsuL9998/O+20U+rr6xvsv76+Pttvv30OOeSQT32fAICljzPoAAAW0syZM3PHHXekQ4cOadeuXfr27ZuTTz45f/zjH9O7d+/Kuv/85z/p27dv5syZkwEDBqSmpiZvv/12xowZk6lTp6Z169Z59913893vfjevv/56fvjDH6ZTp06ZMWNGxo4dm4kTJ2b99df/xBleeOGF/OAHP8gaa6yRIUOGpFmzZrnhhhsyatSoedZedtllOf/889OnT5/86Ec/yuzZs/Ob3/wm3/ve93LzzTc3uHRz9uzZ+dGPfpS99torBx54YMaOHZtLLrkkzZs3zxFHHJFVVlklV155ZX74wx9mr732yt57750kWWmllT71/ercuXPlctAf/OAHqa2tTfPmzT9x7cMPP1x5H0477bS0aNEid955Z3784x9n5syZ6dOnTzbaaKNsvPHGGTlyZOX1P3Trrbdm5ZVXTq9evSrvU79+/bLaaqvlpz/9adq0aZMxY8Zk8ODBefvtt3PEEUc0eP6vfvWrdO7cOaeffnolKn40pibJYYcdlhkzZuTuu+/OjTfeWNm+yiqrZL/99sthhx2Whx56KN27d6889sADD+TVV1/NySef/KnvEwCw9BHoAAAW0h//+MdMnz49e+21V5Jkl112yS9+8YuMGDGiQaC74IIL8s477+T3v/99g9C2yy67VH599dVX5/nnn8/w4cMbBJ0ddtjhM2f49a9/nfr6+lx99dVp3bp1kmSrrbaa54YVb775Zi666KJ8//vfbxCHunfvnh133DEXX3xxzj///Mr22bNn58gjj8zOO++cJOnWrVueeeaZjBo1KkcccUSaNm2aTTbZJEnyjW98Y74u/dx9993zt7/9LTfffHPGjBmTqqqqtG3bNj179kz//v2z5pprVtaefvrp2XDDDXP11VenceMP/sjas2fPvP322/nVr36VPffcM40aNUqfPn0yePDgvPzyy1lvvfWSJFOnTs29996b73//+5XnnnXWWVl++eXz29/+thIFt9hii8yaNSuXX355+vfvn5YtW1Zef+21186FF174mcez9tprV97zjx//1ltvnbXWWivXXXddg/+f1113XdZee+1sueWWn/t+AQBLD5e4AgAspFtuuSXNmjXLrrvumiRZfvnls9NOO+Vvf/tbXnnllcq6Bx54IF27dv3Us+CSZPTo0Vl33XUbxJz58cgjj6Rbt26VUJQk1dXVDeJfkowZMyZz5szJHnvskTlz5lT+W2aZZbLZZpvl0UcfbbC+qqoq22yzTYNtNTU1eeONNxZovo/v84wzzsif//zn/PznP0+fPn0yZ86c/O///m922223ygz/+te/8tJLL2X33XdPkgbzbrnllpk4cWJefvnlJB9Ev6ZNm+bWW2+tvM6oUaMya9as9OnTJ0ny/vvv5+GHH87222+fZs2azbO/999/P0888USDWT8vjH6eRo0a5fvf/37uv//+ynv26quvZvTo0fnud7+bqqqqRdo/APD14gw6AICF8K9//Stjx47NDjvskPr6+kybNi1JstNOO2XkyJG55ZZbctxxxyVJ3n777ay66qqfub8pU6Ys1B1M33nnnQZx7kMf3/bh5Zkfnu33cR///rdll102yyyzTINtTZs2zfvvv7/AM37cGmuske9+97uVn++8884cd9xxOfvsszNixIjKrEOHDs3QoUM/cR9vv/12kmTFFVfMNttsk9tuuy1HH310qqurc+utt6Zjx47ZcMMNk3zwHs2ZMyfXXnttrr322s/c34fatGmzyMfZt2/fXHDBBfnd736XY489Ntdff32aNWuWvn37LvK+AYCvF4EOAGAh3HLLLamvr8/dd9+du+++e57Hb7311hxzzDGprq5Oq1at8p///Ocz97fSSivl3//+9wLPseKKK87z3WhJ5tnWqlWrJMmFF16Y1VdffYFf54u0yy675PLLL8/zzz+f5P+f9dBDD83222//ic/58HLWJOnTp0/++Mc/5sEHH8zqq6+ep59+Oqeddlrl8RVWWCHV1dXZY489GoTBj/ro5bVJFssZbi1atEjv3r1z880358ADD8zIkSOz2267ZYUVVljkfQMAXy8CHQDAAqqrq8utt96atddeO4MHD57n8fvvvz9XXXVVHnjggWy99dbZcsstc/vtt+ell15K27ZtP3GfPXv2zIUXXpiHHnqocnfU+dG1a9fcd999mTRpUuWsubq6ugZ3O02SHj16pHHjxnn11Vez4447LsDRfrqmTZsm+eBmGfPjrbfeyiqrrDLP9v/+97958803K4+1bds26667bsaPH59jjz32c/fbo0ePrLrqqhk5cmRWW221LLPMMg2+g2/ZZZdN165d849//CM1NTWVuReHj74HzZo1m+fx/v3754YbbshRRx2VadOm5fvf//5ie20A4OtDoAMAWEAPPPBA3nrrrfzkJz9J165d53l8ww03zHXXXZcRI0Zk6623ztFHH50HHngg3//+93PooYemXbt2mT59ekaPHp0f/OAHWX/99bP//vvnrrvuymGHHZZDDjkkHTt2zMyZMzN27NhstdVW2XzzzT9xlh/96Ee57777sv/+++fwww9Ps2bNcv311+e9995rsG7NNdfMUUcdlfPPPz+vvfZattxyy6ywwgqZNGlSnn766Sy77LI56qijFuh9aN68edZYY43ce++96datW1q2bJlWrVrNczbahy677LI8/vjj2WWXXbLRRhulWbNmmTBhQq677rq88847OeGEEyprTz/99Bx88ME56KCD0rt376y66qqZOnVqXnzxxfz9739vcAOH6urq7Lnnnhk+fHiaN2+e7bffPi1atGjw2ieddFK++93v5nvf+16+853vZI011sh///vfvPrqq7nvvvtyzTXXLNCxf6hdu3ZJkiuuuCJbbrllGjVq1CACrrfeeunZs2ceeOCBdOnSJRtttNFCvQ4A8PUm0AEALKARI0akSZMmn/pdYiuttFK233773H333Zk0aVJWXXXVjBgxIhdeeGGuuOKKvPPOO2nVqlW6dOmSFVdcMckHseuGG27IRRddlJtuuim//vWvs8IKK6RDhw7ZZ599PnWWdu3aZfjw4Rk6dGh++tOfpmXLlvn2t7+dHXfcMaecckqDtYceemjWX3/9XHPNNbnjjjsya9astGnTJu3bt893vvOdhXovzjzzzJx99tn50Y9+lFmzZqV3794ZMmTIJ67dY489kiR33HFHfvOb32T69Olp2bJlNtlkk1x++eXp1atXZe3mm2+em2++OZdddll+8YtfZNq0aVlxxRWz/vrrV+4s+1F9+vTJsGHDMmXKlE/8/7LBBhtk5MiRueSSS3L++ednypQpadGiRdZZZ50Gr7ugdttttzz++OO54YYbKnfUvffeextEyl122aUSaAEAPklVfX19fekhAADg6+rII4/ME088kfvuuy9NmjQpPQ4AsARyBh0AACxms2bNyt///vc89dRTueeeezJw4EBxDgD4VAIdAAAsZm+99Vb69euX5s2bZ999903//v1LjwQALMFc4goAAAAABTUqPQAAAAAALM0EOgAAAAAoSKADAAAAgILcJGIxmjt3bubMmZNGjRqlqqqq9DgAAAAAFFJfX5+5c+emcePGadTos8+RE+gWozlz5uTpp58uPQYAAAAAS4gOHTqkadOmn7lGoFuMPqyhHTp0SHV1deFpAAAAACilrq4uTz/99OeePZcIdIvVh5e1VldXC3QAAAAAzNfXoLlJBAAAAAAUJNABAAAAQEECHQAAAAAUJNABAAAAQEECHQAAAAAUJNABAAAAQEECHQAAAAAUJNABAAAAQEECHQAAAAAUJNABAAAAQEECHQAAAAAUJNABAAAAQEECHQAAAAAUJNABAAAAQEECHQAAAAAUJNABAAAAQEECHQAAAAAUJNABAAAAQEECHQAAAAAUJNABAAAAQEECHQAAAAAUJNABAAAAQEECHQAAAAAUJNABAAAAQEECHQAAAAAUJNABAAAAQEECHQAAAAAUJNABAAAAQEECHQAAAAAUJNABAAAAQEECHQAAAAAUJNABAAAAQEECHQAAAAAUJNAtJermzi09AsBi5XMNAAD4umhcegC+HNWNGuXkG0bn5bemlh4FYJGtt0rLDP5uz9JjAAAALBYC3VLk5bemZvzrU0qPAQAAAMBHuMQVAAAAAAoS6AAAAACgIIEOAAAAAAoS6AAAAACgIIEOAAAAAAoS6AAAAACgIIEOAAAAAAoS6AAAAACgIIEOAAAAAAoS6AAAAACgIIEOAAAAAAoS6AAAAACgIIEOAAAAAAoS6AAAAACgIIEOAAAAAAoS6AAAAACgIIEOAAAAAAoS6AAAAACgIIEOAAAAAAoS6AAAAACgIIEOAAAAAAoS6AAAAACgIIEOAAAAAAoqGujGjh2bAQMGpEePHqmpqcmf//znBo/X19fnoosuSo8ePdKxY8f0798/zz//fIM1s2bNyqBBg9K1a9d07tw5AwYMyL///e8Ga6ZOnZrjjz8+Xbp0SZcuXXL88cdn2rRpDda88cYbGTBgQDp37pyuXbtm8ODBmTVr1hdz4AAAAADw/xQNdDNmzEhNTU1OPfXUT3z8iiuuyPDhw3PqqadmxIgRad26dQ444IC8++67lTVnnnlm7rnnnpx33nm54YYbMmPGjBx66KGpq6urrDnuuOMyfvz4XHnllbnyyiszfvz4nHDCCZXH6+rqcuihh2bGjBm54YYbct555+Xuu+/O0KFDv7iDBwAAAIAkjUu+eK9evdKrV69PfKy+vj7XXHNNBgwYkB122CFJMnTo0HTv3j2jRo1Kv379Mn369Nxyyy05++yz07179yTJOeeck6222ip//etf07Nnz7z44osZPXp0brrppnTq1ClJMmjQoOy777556aWX0rZt24wZMyYvvPBC7r///qy66qpJkoEDB2bgwIH58Y9/nObNmy/QcX00Di4pqqurS48AsNgtiZ+3AAAAyYL9faVooPssEyZMyMSJE9OjR4/KtqZNm2azzTbLuHHj0q9fvzzzzDOZPXt2tthii8qaVVddNRtuuGHGjRuXnj17Zty4cWnRokUlziVJ586d06JFi4wbNy5t27bNE088kQ033LAS55KkR48emTVrVp555plsvvnmCzT7008/vQhHvvgtu+yy2XjjjUuPAbDYPffcc3nvvfdKjwEAALBIlthAN3HixCTJyiuv3GB769at88YbbyRJJk2alCZNmqRly5bzrJk0aVJlzcf38eF+P7qmdevWDR5v2bJlmjRpUlmzIDp06OCMNYAvQU1NTekRAAAAPlFdXd18n8S1xAa6D1VVVTX4ub6+/nOfM79rPrrvj7/O523/LNXV1QIdwJfAZy0AAPB1UPQmEZ+lTZs2STLPGWyTJ0+unO3WunXrzJ49O1OnTv3MNZMnT55n/1OmTKmcWde6devKGXsfmjp1ambPnv2JZ98BAAAAwOKyxAa6NddcM23atMmDDz5Y2TZr1qyMHTs2tbW1SZL27dunSZMmDda89dZbef755ytramtrM3369Dz11FOVNU8++WSmT59eWdO5c+c8//zzeeuttyprHnzwwTRt2jTt27f/Qo8TAAAAgKVb0Utc//vf/+bVV1+t/DxhwoQ8++yzadmyZVZfffXst99+GTZsWNZdd92ss846GTZsWJo1a5bddtstSdKiRYv07ds3Q4cOTatWrdKyZcsMHTo07dq1q9zVdf3110/Pnj1z8skn54wzzkiSnHLKKdl6663Ttm3bJB/cEGKDDTbICSeckBNOOCFTp07N0KFDs88++yzwHVwBAAAAYEEUDXTPPPNM9ttvv8rPZ511VpKkd+/eGTJkSA4++OC8//77Of300zN16tR06tQpV111VYNoduKJJ6Zx48Y55phjMnPmzHTr1i1Dhgxp8L1E5557bgYPHpwDDzwwSbLNNtvk1FNPrTxeXV2dYcOG5fTTT893vvOdSgT86U9/+kW/BQAAAAAs5arq5+eOCsyXurq6PPHEE+ncufMS+cXl3zt/VMa/PqX0GACLbKM1Vsr1x+xWegwAAIBPtSCdaIn9DjoAAAAAWBoIdAAAAABQkEAHAAAAAAUJdAAAAABQkEAHAAAAAAUJdAAAAABQkEAHAAAAAAUJdAAAAABQkEAHAAAAAAUJdAAAAABQkEAHAAAAAAUJdAAAAABQkEAHAAAAAAUJdAAAAABQkEAHAAAAAAUJdAAAAABQkEAHAAAAAAUJdAAAAABQkEAHAAAAAAUJdAAAAABQkEAHAAAAAAUJdAAAAABQkEAHAAAAAAUJdAAAAABQkEAHAAAAAAUJdAAAAABQkEAHAAAAAAUJdAAAAABQkEAHAAAAAAUJdAAAAABQkEAHAAAAAAUJdAAAAABQkEAHAAAAAAUJdAAAAABQkEAHAAAAAAUJdAAAAABQkEAHAAAAAAUJdAAAAABQkEAHAAAAAAUJdAAAAABQkEAHAAAAAAUJdAAAAABQkEAHAAAAAAUJdAAAAABQkEAHAAAAAAUJdAAAAABQkEAHAAAAAAUJdAAAAABQkEAHAAAAAAUJdAAAAABQkEAHAAAAAAUJdAAAAABQkEAHAAAAAAUJdAAAAABQkEAHAAAAAAUJdAAAAABQkEAHAAAAAAUJdAAAAABQkEAHAAAAAAUJdAAAAABQkEAHAAAAAAUJdAAAAABQkEAHAAAAAAUJdAAAAABQkEAHAAAAAAUJdAAAAABQkEAHAAAAAAUJdAAAAABQkEAHAAAAAAUJdAAAAABQkEAHAAAAAAUJdAAAAABQkEAHAAAAAAUJdAAAAABQkEAHAAAAAAUJdAAAAABQkEAHAAAAAAUJdAAAAABQkEAHAAAAAAUJdAAAAABQkEAHAAAAAAUJdAAAAABQkEAHAAAAAAUJdAAAAABQkEAHAAAAAAUJdAAAAABQkEAHAAAAAAUJdAAAAABQkEAHAAAAAAUJdAAAAABQkEAHAAAAAAUJdAAAAABQkEAHAAAAAAUJdAAAAABQkEAHAAAAAAUJdAAAAABQkEAHAAAAAAUJdAAAAABQkEAHAAAAAAUJdAAAAABQkEAHAAAAAAUJdAAAAABQkEAHAAAAAAUJdAAAAABQkEAHAAAAAAUJdAAAAABQkEAHAAAAAAUJdAAAAABQkEAHAAAAAAUJdAAAAABQkEAHAAAAAAUJdAAAAABQkEAHAAAAAAUJdAAAAABQkEAHAAAAAAUJdAAAAABQkEAHAAAAAAUJdAAAAABQkEAHAAAAAAUJdAAAAABQkEAHAAAAAAUJdAAAAABQkEAHAAAAAAUJdAAAAABQkEAHAAAAAAUJdAAAAABQkEAHAAAAAAUJdAAAAABQkEAHAAAAAAUJdAAAAABQ0BId6ObMmZPzzjsv22yzTTp27Jhtt902F198cebOnVtZU19fn4suuig9evRIx44d079//zz//PMN9jNr1qwMGjQoXbt2TefOnTNgwID8+9//brBm6tSpOf7449OlS5d06dIlxx9/fKZNm/alHCcAAAAAS68lOtBdccUV+d3vfpdTTz01d955Z44//vj85je/ybXXXttgzfDhw3PqqadmxIgRad26dQ444IC8++67lTVnnnlm7rnnnpx33nm54YYbMmPGjBx66KGpq6urrDnuuOMyfvz4XHnllbnyyiszfvz4nHDCCV/q8QIAAACw9GlceoDP8sQTT2TbbbfNVlttlSRZc801c8cdd+SZZ55J8sHZc9dcc00GDBiQHXbYIUkydOjQdO/ePaNGjUq/fv0yffr03HLLLTn77LPTvXv3JMk555yTrbbaKn/961/Ts2fPvPjiixk9enRuuummdOrUKUkyaNCg7LvvvnnppZfStm3bBZr7o+FvSVFdXV16BIDFbkn8vAUAAEgW7O8rS3Sg69KlS373u9/l5ZdfznrrrZfx48fnsccey4knnpgkmTBhQiZOnJgePXpUntO0adNsttlmGTduXPr165dnnnkms2fPzhZbbFFZs+qqq2bDDTfMuHHj0rNnz4wbNy4tWrSoxLkk6dy5c1q0aJFx48YtcKB7+umnF/HIF69ll102G2+8cekxABa75557Lu+9917pMQAAABbJEh3oDj744EyfPj0777xzqqurU1dXlx//+MfZbbfdkiQTJ05Mkqy88soNnte6deu88cYbSZJJkyalSZMmadmy5TxrJk2aVFnz8X18uN8P1yyIDh06OGMN4EtQU1NTegQAAIBPVFdXN98ncS3Rge7OO+/M7bffnl/+8pfZYIMN8uyzz+ass87KKquskt69e1fWVVVVNXhefX395+57ftd8fN/zo7q6WqAD+BL4rAUAAL4OluhAd/bZZ+eQQw7JrrvumuSDMyXeeOONDBs2LL17906bNm2SfHAG3CqrrFJ53uTJk9O6deskH5wpN3v27EydOrXBWXSTJ09ObW1tZc3kyZPnef0pU6Z84pl1AAAAALC4LNF3cZ05c+Y8Z7BVV1dXzn5bc80106ZNmzz44IOVx2fNmpWxY8dW4lv79u3TpEmTBmveeuutPP/885U1tbW1mT59ep566qnKmieffDLTp0+vrAEAAACAL8ISfQbd1ltvncsuuyyrr7565RLX4cOHp2/fvkk+uLR1v/32y7Bhw7LuuutmnXXWybBhw9KsWbPK99S1aNEiffv2zdChQ9OqVau0bNkyQ4cOTbt27Sp3dV1//fXTs2fPnHzyyTnjjDOSJKecckq23nrrBb5BBAAAAAAsiCU60J188sm54IILcvrpp2fy5MlZZZVVsu++++bwww+vrDn44IPz/vvv5/TTT8/UqVPTqVOnXHXVVWnevHllzYknnpjGjRvnmGOOycyZM9OtW7cMGTKkwXcXnXvuuRk8eHAOPPDAJMk222yTU0899cs7WAAAAACWSlX183O3BOZLXV1dnnjiiXTu3HmJ/OLy750/KuNfn1J6DIBFttEaK+X6Y3YrPQYAAMCnWpBOtER/Bx0AAAAAfN0JdAAAAABQkEAHAAAAAAUJdAAAAABQkEAHAAAAAAUJdAAAAABQkEAHAAAAAAUJdAAAAABQkEAHAAAAAAUJdAAAAABQkEAHAAAAAAUJdAAAAABQkEAHAAAAAAUJdAAAAABQkEAHAAAAAAUJdAAAAABQkEAHAAAAAAUJdAAAAABQkEAHAAAAAAUJdAAAAABQkEAHAAAAAAUJdAAAAABQkEAHAAAAAAUJdAAAAABQkEAHAAAAAAUJdAAAAABQkEAHAAAAAAUJdAAAAABQkEAHAAAAAAUJdAAAAABQkEAHAAAAAAUJdAAAAABQkEAHAAAAAAUJdAAAAABQkEAHAAAAAAUJdAAAAABQkEAHAAAAAAUJdAAAAABQkEAHAAAAAAUJdAAAAABQkEAHAAAAAAUJdAAAAABQkEAHAAAAAAUJdAAAAABQkEAHAAAAAAUJdAAAAABQkEAHAAAAAAUJdAAAAABQkEAHAAAAAAUJdAAAAABQkEAHAAAAAAUJdAAAAABQkEAHAAAAAAUJdAAAAABQkEAHAAAAAAUJdAAAAABQkEAHAAAAAAUJdAAAAABQkEAHAAAAAAUJdAAAAABQkEAHAAAAAAUJdAAAAABQkEAHAAAAAAUJdAAAAABQkEAHAAAAAAUJdAAAAABQkEAHAAAAAAUJdAAAAABQkEAHAAAAAAUJdAAAAABQkEAHAAAAAAUJdAAAAABQkEAHAAAAAAUJdAAAAABQkEAHAAAAAAUJdAAAAABQkEAHAAAAAAUJdAAAAABQkEAHAAAAAAUJdAAAAABQkEAHAAAAAAUJdAAAAABQkEAHAAAAAAUJdAAAAABQkEAHAAAAAAUJdAAAAABQkEAHAAAAAAUJdAAAAABQkEAHAAAAAAUJdAAAAABQkEAHAAAAAAUJdAAAAABQkEAHAAAAAAUJdAAAAABQkEAHAAAAAAUJdAAAAABQkEAHAAAAAAUJdAAAAABQkEAHAAAAAAUJdAAAAABQkEAHAAAAAAUJdAAAAABQkEAHAAAAAAUJdAAAAABQkEAHAAAAAAUJdAAAAABQkEAHAAAAAAUJdAAAAABQkEAHAAAAAAUJdAAAAABQkEAHAAAAAAUJdAAAAABQkEAHAAAAAAUJdAAAAABQkEAHAAAAAAUJdAAAAABQkEAHAAAAAAUJdAAAAABQkEAHAAAAAAUJdAAAAABQkEAHAAAAAAUJdAAAAABQkEAHAAAAAAUJdAAAAABQkEAHAAAAAAUJdAAAAABQkEAHAAAAAAUJdAAAAABQkEAHAAAAAAUt8YHuP//5T37yk5+ka9eu6dSpU/bYY48888wzlcfr6+tz0UUXpUePHunYsWP69++f559/vsE+Zs2alUGDBqVr167p3LlzBgwYkH//+98N1kydOjXHH398unTpki5duuT444/PtGnTvpRjBAAAAGDptUQHuqlTp+Y73/lOmjRpkiuuuCJ33HFHBg4cmBVWWKGy5oorrsjw4cNz6qmnZsSIEWndunUOOOCAvPvuu5U1Z555Zu65556cd955ueGGGzJjxowceuihqaurq6w57rjjMn78+Fx55ZW58sorM378+Jxwwglf6vECAAAAsPRpXHqAz3LFFVfkG9/4Rs4666zKtjXXXLPy6/r6+lxzzTUZMGBAdthhhyTJ0KFD071794waNSr9+vXL9OnTc8stt+Tss89O9+7dkyTnnHNOttpqq/z1r39Nz5498+KLL2b06NG56aab0qlTpyTJoEGDsu++++all15K27Ztv8SjBgAAAGBpskQHuvvuuy89evTIUUcdlbFjx2bVVVfNd7/73eyzzz5JkgkTJmTixInp0aNH5TlNmzbNZpttlnHjxqVfv3555plnMnv27GyxxRaVNauuumo23HDDjBs3Lj179sy4cePSokWLSpxLks6dO6dFixYZN27cAge6j56Zt6Sorq4uPQLAYrckft4CAAAkC/b3lSU60L322mv57W9/mwMOOCADBgzIU089lcGDB6dp06bZc889M3HixCTJyiuv3OB5rVu3zhtvvJEkmTRpUpo0aZKWLVvOs2bSpEmVNR/fx4f7/XDNgnj66acX+DlfpGWXXTYbb7xx6TEAFrvnnnsu7733XukxAAAAFskSHejq6+vTvn37HHvssUmSjTfeOC+88EJ++9vfZs8996ysq6qqmud587Pv+Vnz8X3Pjw4dOjhjDeBLUFNTU3oEAACAT1RXVzffJ3Et0YGuTZs2WX/99Rtsa9u2be6+++7K48kHZ8CtssoqlTWTJ09O69atk3xwptzs2bMzderUBmfRTZ48ObW1tZU1kydPnuf1p0yZ8oln1n2e6upqgQ7gS+CzFgAA+DpYou/i+q1vfSsvv/xyg22vvPJK1lhjjSQf3DCiTZs2efDBByuPz5o1K2PHjq3Et/bt26dJkyYN1rz11lt5/vnnK2tqa2szffr0PPXUU5U1Tz75ZKZPn15ZAwAAAABfhCX6DLr9998/3/nOd3LZZZdl5513zlNPPZWbbropZ5xxRpIPLm3db7/9MmzYsKy77rpZZ511MmzYsDRr1iy77bZbkqRFixbp27dvhg4dmlatWqVly5YZOnRo2rVrV7mr6/rrr5+ePXvm5JNPruz7lFNOydZbb+0OrgAAAAB8oZboQNexY8dcfPHF+dWvfpVf//rXWXPNNXPiiSfm29/+dmXNwQcfnPfffz+nn356pk6dmk6dOuWqq65K8+bNK2tOPPHENG7cOMccc0xmzpyZbt26ZciQIQ0ujTr33HMzePDgHHjggUmSbbbZJqeeeuqXd7AAAAAALJWq6ufnbgnMl7q6ujzxxBPp3LnzEvm9SN87f1TGvz6l9BgAi2yjNVbK9cfsVnoMAACAT7UgnWiJ/g46AAAAAPi6E+gAAAAAoCCBDgAAAAAKEugAAAAAoCCBDgAAAAAKEugAAAAAoCCBDgAAAAAKEugAAAAAoCCBDgAAAAAKEugAAAAAoCCBDgAAAAAKEugAAAAAoCCBDgAAAAAKEugAAAAAoKCFCnT77bdfpk2bNs/2d999N/vtt98iDwUAAAAAS4uFCnSPPvpoZs+ePc/2999/P4899tgiDwUAAAAAS4vGC7J4/PjxlV+/8MILmThxYuXnuXPnZvTo0Vl11VUX33QAAAAA8DW3QIFuzz33TFVVVaqqqrL//vvP83izZs1y8sknL7bhAAAAAODrboEC3b333pv6+vpst912ufnmm7PSSitVHmvSpElWXnnlVFdXL/YhAQAAAODraoEC3RprrJGk4aWuAAAAAMDCW6BA91Evv/xyHn300UyePDlz585t8NgRRxyxyIMBAAAAwNJgoQLdTTfdlNNOOy2tWrVK69atU1VVVXmsqqpKoAMAAACA+bRQge7SSy/NMccck0MOOWRxzwMAAAAAS5VGC/OkqVOnZuedd17cswAAAADAUmehAt1OO+2UMWPGLO5ZAAAAAGCps1CXuK6zzjq54IIL8uSTT6Zdu3Zp3Ljhbvbbb7/FMhwAAAAAfN0tVKC78cYbs9xyy+XRRx/No48+2uCxqqoqgQ4AAAAA5tNCBbr77rtvcc8BAAAAAEulhfoOOgAAAABg8VioM+h+9rOffebjZ5111kINAwAAAABLm4UKdNOmTWvw85w5c/L8889n2rRp2XzzzRfLYAAAAACwNFioQPfrX/96nm1z587NaaedlrXWWmuRhwIAAACApcVi+w66Ro0a5Qc/+EGuvvrqxbVLAAAAAPjaW6w3iXjttdcyZ86cxblLAAAAAPhaW6hLXD9+E4j6+vpMnDgx999/f3r37r1YBgMAAACApcFCBbp//OMfDX5u1KhRVlpppQwcODB9+/ZdLIMBAAAAwNJgoQLdtddeu7jnAAAAAICl0kIFug9NmTIlL730UqqqqrLeeutlpZVWWlxzAQAAAMBSYaEC3YwZMzJo0KD8/ve/z9y5c5Mk1dXV2WOPPXLKKadk2WWXXaxDAgAAAMDX1ULdxXXIkCEZO3ZsLr300vztb3/L3/72t1xyySUZO3ZshgwZsrhnBAAAAICvrYUKdHfffXfOPPPM9OrVK82bN0/z5s3Tq1evDBo0KHfffffinhEAAAAAvrYWKtDNnDkzrVu3nmf7yiuvnJkzZy7yUAAAAACwtFioQNe5c+dceOGFef/99yvbZs6cmYsvvjidO3deXLMBAAAAwNfeQt0k4sQTT8zBBx+cLbfcMhtttFGqqqry7LPPpmnTprnqqqsW94wAAAAA8LW1UIGupqYmf/rTn3L77bfnpZdeSn19fXbdddfsvvvuadas2eKeEQAAAAC+thYq0A0bNiwrr7xy9tlnnwbbR4wYkSlTpuSQQw5ZLMMBAAAAwNfdQn0H3Y033pi2bdvOs33DDTfM7373u0UeCgAAAACWFgsV6CZOnJg2bdrMs32llVbKxIkTF3koAAAAAFhaLFSgW2211fL444/Ps/2xxx7LKqussshDAQAAAMDSYqG+g26vvfbKL37xi8yZMyebb755kuShhx7KOeeckwMPPHCxDggAAAAAX2cLFegOPvjgTJ06Naeffnpmz56dJFlmmWXywx/+MIceeuhiHRAAAAAAvs4WKtBVVVXl+OOPz2GHHZYXX3wxzZo1y7rrrpumTZsu7vkAAAAA4GttoQLdh5Zffvl07Nhxcc0CAAAAAEudhbpJBAAAAACweAh0AAAAAFCQQAcAAAAABQl0AAAAAFCQQAcAAAAABQl0AAAAAFCQQAcAAAAABQl0AAAAAFCQQAcAAAAABQl0AAAAAFCQQAcAAAAABQl0AAAAAFCQQAcAAAAABQl0AAAAAFCQQAcAAAAABQl0AAAAAFCQQAcAAAAABQl0AAAAAFCQQAcAAAAABQl0AAAAAFCQQAcAAAAABQl0AAAAAFCQQAcAAAAABQl0AAAAAFCQQAcAAAAABQl0AAAAAFCQQAcAAAAABQl0AAAAAFCQQAcAAAAABQl0AAAAAFCQQAcAAAAABQl0AAAAAFCQQAcAAAAABQl0AAAAAFCQQAcAAAAABQl0AAAAAFCQQAcAAAAABQl0AAAAAFCQQAcAAAAABQl0AAAAAFCQQAcAAAAABQl0AAAAAFCQQAcAAAAABQl0AAAAAFCQQAcAAAAABQl0AAAAAFCQQAcAAAAABQl0AAAAAFCQQAcAAAAABQl0AAAAAFCQQAcAAAAABQl0AAAAAFCQQAcAAAAABQl0AAAAAFCQQAcAAAAABQl0AAAAAFCQQAcAAAAABQl0AAAAAFCQQAcAAAAABQl0AAAAAFCQQAcAAAAABQl0AAAAAFCQQAcAAAAABQl0AAAAAFCQQAcAAAAABQl0AAAAAFCQQAcAAAAABQl0AAAAAFCQQAcAAAAABQl0AAAAAFCQQAcAAAAABQl0AAAAAFCQQAcAAAAABQl0AAAAAFCQQAcAAAAABQl0AAAAAFCQQAcAAAAABX2lAt2wYcNSU1OTM888s7Ktvr4+F110UXr06JGOHTumf//+ef755xs8b9asWRk0aFC6du2azp07Z8CAAfn3v//dYM3UqVNz/PHHp0uXLunSpUuOP/74TJs27Us5LgAAAACWXl+ZQPfUU0/lxhtvTE1NTYPtV1xxRYYPH55TTz01I0aMSOvWrXPAAQfk3Xffraw588wzc8899+S8887LDTfckBkzZuTQQw9NXV1dZc1xxx2X8ePH58orr8yVV16Z8ePH54QTTvjSjg8AAACApdNXItD997//zfHHH5/BgwenZcuWle319fW55pprMmDAgOywww5p165dhg4dmpkzZ2bUqFFJkunTp+eWW27JwIED071792y88cY555xz8s9//jN//etfkyQvvvhiRo8encGDB6e2tja1tbUZNGhQ/u///i8vvfRSkWMGAAAAYOnQuPQA8+OMM85Ir1690r1791x66aWV7RMmTMjEiRPTo0ePyramTZtms802y7hx49KvX78888wzmT17drbYYovKmlVXXTUbbrhhxo0bl549e2bcuHFp0aJFOnXqVFnTuXPntGjRIuPGjUvbtm0XaN6Pnpm3pKiuri49AsBityR+3gIAACQL9veVJT7Q3XHHHfnHP/6RESNGzPPYxIkTkyQrr7xyg+2tW7fOG2+8kSSZNGlSmjRp0uDMuw/XTJo0qbLm4/v4cL8frlkQTz/99AI/54u07LLLZuONNy49BsBi99xzz+W9994rPQYAAMAiWaID3ZtvvpkzzzwzV111VZZZZplPXVdVVdXg5/r6+s/d9/yu+fi+50eHDh2csQbwJfj495ICAAAsKerq6ub7JK4lOtD9/e9/z+TJk9OnT5/Ktrq6uowdOzbXX399/vjHPyb54Ay4VVZZpbJm8uTJad26dZIPzpSbPXt2pk6d2uAsusmTJ6e2trayZvLkyfO8/pQpUz7xzLrPU11dLdABfAl81gIAAF8HS/RNIjbffPP84Q9/yG233Vb5r3379tl9991z2223Za211kqbNm3y4IMPVp4za9asjB07thLf2rdvnyZNmjRY89Zbb+X555+vrKmtrc306dPz1FNPVdY8+eSTmT59emUNAAAAAHwRlugz6Jo3b5527do12LbccstlxRVXrGzfb7/9MmzYsKy77rpZZ511MmzYsDRr1iy77bZbkqRFixbp27dvhg4dmlatWqVly5YZOnRo2rVrl+7duydJ1l9//fTs2TMnn3xyzjjjjCTJKaeckq233nqBbxABAAAAAAtiiQ508+Pggw/O+++/n9NPPz1Tp05Np06dctVVV6V58+aVNSeeeGIaN26cY445JjNnzky3bt0yZMiQBpdGnXvuuRk8eHAOPPDAJMk222yTU0899Us/HgAAAACWLlX183O3BOZLXV1dnnjiiXTu3HmJ/F6k750/KuNfn1J6DIBFttEaK+X6Y3YrPQYAAMCnWpBOtER/Bx0AAAAAfN0JdAAAAABQkEAHAAAAAAUJdAAAAABQkEAHAAAAAAUJdAAAAABQkEAHAAAAAAUJdAAAAABQkEAHAAAAAAUJdAAAAABQkEAHAAAAAAUJdAAAAABQkEAHAAAAAAUJdAAAAABQkEAHAAAAAAUJdAAAAABQkEAHAAAAAAUJdAAAAABQkEAHAAAAAAUJdAAAAABQkEAHAAAAAAUJdAAAAABQkEAHAAAAAAUJdAAAAABQkEAHAAAAAAUJdAAAAABQkEAHAAAAAAUJdAAAAABQkEAHAAAAAAUJdAAAAABQkEAHAAAAAAUJdAAAAABQkEAHAAAAAAUJdAAAAABQkEAHAAAAAAUJdAAAAABQkEAHAAAAAAUJdAAAAABQkEAHAAAAAAUJdAAAAABQkEAHAAAAAAUJdAAAAABQkEAHAAAAAAUJdAAAAABQkEAHAAAAAAUJdAAAAABQkEAHAAAAAAUJdAAAAABQkEAHAAAAAAUJdAAAAABQkEAHAAAAAAUJdAAAAABQkEAHAAAAAAUJdAAAAABQkEAHAAAAAAUJdAAAAABQkEAHAAAAAAUJdAAAAABQkEAHAAAAAAUJdAAAAABQkEAHAAAAAAUJdAAAAABQkEAHAAAAAAUJdAAAAABQkEAHAAAAAAUJdAAAAABQkEAHAAAAAAUJdAAAAABQkEAHAAAAAAUJdAAAAABQkEAHAAAAAAUJdAAAAABQkEAHAAAAAAUJdAAAAABQkEAHAAAAAAUJdAAAAABQkEAHAAAAAAUJdAAAAABQkEAHAAAAAAUJdAAAAABQkEAHAAAAAAUJdAAAAABQkEAHAAAAAAUJdAAAAABQkEAHAAAAAAUJdAAAAABQkEAHAAAAAAUJdAAAAABQkEAHAAAAAAUJdAAAAABQkEAHAAAAAAUJdAAAAABQkEAHAAAAAAUJdAAAAABQkEAHAAAAAAUJdAAAAABQkEAHAAAAAAUJdAAAAABQkEAHAAAAAAUJdAAAAABQkEAHAAAAAAUJdAAAAABQkEAHAAAAAAUJdAAAAABQkEAHAAAAAAUJdAAAAABQkEAHAAAAAAUJdAAAAABQkEAHAAAAAAUJdAAAAABQkEAHAAAAAAUJdAAAAABQkEAHAAAAAAUJdAAAAABQkEAHAAAAAAUJdAAAAABQkEAHAAAAAAUJdAAAAABQkEAHAAAAAAUJdAAAAABQkEAHAAAAAAUJdAAAAABQkEAHAAAAAAUJdAAAAABQkEAHAAAAAAUJdAAAAABQkEAHAAAAAAUJdAAAAABQkEAHAAAAAAUJdAAAAABQ0BId6IYNG5a+ffumtrY23bp1y2GHHZaXXnqpwZr6+vpcdNFF6dGjRzp27Jj+/fvn+eefb7Bm1qxZGTRoULp27ZrOnTtnwIAB+fe//91gzdSpU3P88cenS5cu6dKlS44//vhMmzbtCz9GAAAAAJZuS3Sge/TRR/O9730vN910U4YPH566urocdNBBmTFjRmXNFVdckeHDh+fUU0/NiBEj0rp16xxwwAF59913K2vOPPPM3HPPPTnvvPNyww03ZMaMGTn00ENTV1dXWXPcccdl/PjxufLKK3PllVdm/PjxOeGEE77U4wUAAABg6bNEB7rf/OY36dOnTzbccMNstNFGOeuss/LGG2/k73//e5IPzp675pprMmDAgOywww5p165dhg4dmpkzZ2bUqFFJkunTp+eWW27JwIED071792y88cY555xz8s9//jN//etfkyQvvvhiRo8encGDB6e2tja1tbUZNGhQ/u///m+eM/YAAAAAYHFqXHqABTF9+vQkScuWLZMkEyZMyMSJE9OjR4/KmqZNm2azzTbLuHHj0q9fvzzzzDOZPXt2tthii8qaVVddNRtuuGHGjRuXnj17Zty4cWnRokU6depUWdO5c+e0aNEi48aNS9u2bRdozo+embekqK6uLj0CwGK3JH7eAgAAJAv295WvTKCrr6/PWWedlS5duqRdu3ZJkokTJyZJVl555QZrW7dunTfeeCNJMmnSpDRp0qQS9T66ZtKkSZU1H9/Hh/v9cM2CePrppxf4OV+kZZddNhtvvHHpMQAWu+eeey7vvfde6TEAAAAWyVcm0J1xxhn55z//mRtuuGGex6qqqhr8XF9f/7n7m981H9/3/OjQoYMz1gC+BDU1NaVHAAAA+ER1dXXzfRLXVyLQDRo0KPfdd1+uu+66fOMb36hsb9OmTZIPzoBbZZVVKtsnT56c1q1bJ/ngTLnZs2dn6tSpDc6imzx5cmpraytrJk+ePM/rTpky5RPPrPs81dXVAh3Al8BnLQAA8HWwRN8kor6+PmeccUb+9Kc/5eqrr85aa63V4PE111wzbdq0yYMPPljZNmvWrIwdO7YS39q3b58mTZo0WPPWW2/l+eefr6ypra3N9OnT89RTT1XWPPnkk5k+fXplDQAAAAB8EZboM+hOP/30jBo1KpdcckmWX375ynfOtWjRIs2aNUtVVVX222+/DBs2LOuuu27WWWedDBs2LM2aNctuu+1WWdu3b98MHTo0rVq1SsuWLTN06NC0a9cu3bt3T5Ksv/766dmzZ04++eScccYZSZJTTjklW2+99QLfIAIAAAAAFsQSHeh++9vfJkn69+/fYPtZZ52VPn36JEkOPvjgvP/++zn99NMzderUdOrUKVdddVWaN29eWX/iiSemcePGOeaYYzJz5sx069YtQ4YMaXBp1LnnnpvBgwfnwAMPTJJss802OfXUU7/oQwQAAABgKVdVPz93S2C+1NXV5Yknnkjnzp2XyO9F+t75ozL+9SmlxwBYZButsVKuP2a30mMAAAB8qgXpREv0d9ABAAAAwNedQAcAAAAABQl0AAAAAFCQQAcAAAAABQl0AAAAAFCQQAcAAAAABQl0AAAAAFCQQAcAAAAABQl0AAAAAFCQQAcAAAAABQl0AAAAAFCQQAcAS5H6uXWlRwBYrHyuAfB10Lj0AADAl6eqUXUmjRyY2ZNeKj0KwCJr0rptWvcZUnoMAFhkAh0ALGVmT3ops//9bOkxAACA/8clrgAAAABQkEAHAAAAAAUJdAAAAABQkEAHAAAAAAUJdAAAAABQkEAHAAAAAAUJdAAAAABQkEAHAAAAAAUJdAAAAABQkEAHAAAAAAUJdAAAAABQkEAHAAAAAAUJdAAAAABQkEAHAAAAAAUJdAAAAABQkEAHAAAAAAUJdAAAAABQkEAHAAAAAAUJdAAAAABQkEAHAAAAAAUJdAAAAABQkEAHAAAAAAUJdAAAAABQkEAHAAAAAAUJdAAAAABQkEAHAAAAAAUJdAAAAABQkEAHAAAAAAUJdAAAAABQkEAHAAAAAAUJdAAAAABQkEAHAAAAAAUJdAAAAABQkEAHAAAAAAUJdAAAAABQkEAHAAAAAAUJdAAAAABQkEAHAAAAAAUJdAAAAABQkEAHAAAAAAUJdAAAAABQkEAHAAAAAAUJdAAAAABQkEAHAAAAAAUJdAAAAABQkEAHAAAAAAUJdAAAAABQkEAHAAAAAAUJdAAAAABQkEAHAAAAAAUJdAAAAABQkEAHAAAAAAUJdAAAAABQkEAHAAAAAAUJdAAAAABQkEAHAAAAAAUJdAAAAABQkEAHAAAAAAUJdAAAAABQkEAHAAAAAAUJdAAAAABQkEAHAAAAAAUJdAAAAABQkEAHAAAAAAUJdAAAAABQkEAHAAAAAAUJdAAAAABQkEAHAAAAAAUJdAAAAABQkEAHAAAAAAUJdAAAAABQkEAHAAAAAAUJdAAAAABQkEAHAAAAAAUJdAAAAABQkEAHAAAAAAUJdAAAAABQkEAHAAAAAAUJdAAAAABQkEAHAAAAAAUJdAAAAABQkEAHAAAAAAUJdAAAAABQkEAHAAAAAAUJdAAAAABQkEAHAAAAAAUJdAAAAABQkEAHAAAAAAUJdAAAAABQkEAHAAAAAAUJdAAAAABQkEAHAAAAAAUJdAAAAABQkEAHAAAAAAUJdAAAAABQkEAHAAAAAAUJdAAAAABQkEAHAAAAAAUJdAAAAABQkEAHAAAAAAUJdAAAAABQkEAHAAAAAAUJdAAAAABQkEAHAAAAAAUJdAAAAABQkEAHAAAAAAUJdAAAAABQkEAHAAAAAAUJdAAAAEuRurl1pUcAWKy+Dp9rjUsPAAAAwJenulF1Tr/79Lzy9iulRwFYZOu2Wjc/3/HnpcdYZAIdAADAUuaVt1/JPyf+s/QYAPw/LnEFAAAAgIIEOgAAAAAoSKADAAAAgIIEOgAAAAAoSKADAAAAgIIEuo+5/vrrs80226RDhw7p06dP/va3v5UeCQAAAICvMYHuI+68886cddZZ+dGPfpTbbrstXbp0ycEHH5w33nij9GgAAAAAfE0JdB8xfPjw9O3bN3vvvXfWX3/9nHTSSfnGN76R3/72t6VHAwAAAOBrqnHpAZYUs2bNyt///vcccsghDbZvscUWGTdu3Hzto76+vrKv6urqxT7joqiurs6G32iZptVVpUcBWGTrtFkhdXV1qaurKz3KV051dXWq27TL3EZNS48CsMiqV17X7wcLobq6OhustEGaNGpSehSARbbOiusssb8XfDjTh73oswh0/8/bb7+durq6rLzyyg22t27dOhMnTpyvfcydOzdJ8o9//GOxz7c47L7hcsmGy5UeA2CxeOKJJ0qP8NW1du9k7dJDACwer/n9YKHstPJOycqfvw7gq2BJ/7vBh73oswh0H1NV1fAMs/r6+nm2fZrGjRunQ4cOadSo0Xw/BwAAAICvn/r6+sydOzeNG39+fhPo/p9WrVqluro6kyZNarB98uTJad269Xzto1GjRmna1CVDAAAAAMw/N4n4f5o2bZpNNtkkDz74YIPtf/3rX1NbW1toKgAAAAC+7pxB9xEHHHBATjjhhLRv3z61tbW58cYb8+abb6Zfv36lRwMAAADga0qg+4hddtklb7/9di655JK89dZbadeuXS6//PKsscYapUcDAAAA4Guqqn5+7vUKAAAAAHwhfAcdAAAAABQk0AEAAABAQQIdAAAAABQk0MHXUE1NTf785z8nSSZMmJCampo8++yz8/38kSNHZtNNN/2ixvtc22yzTf73f/+32OsDLA369++fM888s/QYC+SRRx5JTU1Npk2bVnoUADJ/n8sf/bvJ4tonfB25iyt8xUyePDkXXHBBHnjggUyaNCktW7bMRhttlCOOOCK1tbXzrF9ttdUyZsyYtGrVarHOMXDgwEybNi2XXHLJYln3USNGjMiyyy67qCMCfOUt6Gf+grjooovSuHHZPwrW1NTk17/+dbbbbrv5Wl9bW5sxY8akRYsWX/BkAF89AwcOzK233jrP9j/96U9ZZ511PvO5I0eOzC9+8Yv87W9/W+xzjRkzJi1btpzv9T7rWVoJdPAVc+SRR2bOnDkZMmRI1lprrUyePDkPPfRQpk6d+onrq6ur06ZNmy95ykWz0korLdLz6+vrU1dXV/wvngCLakE/8+fH7Nmz06RJk6y44oqLb9AvSdOmTRf597RZs2aladOmi2kigCVLz549c9ZZZzXYtqh/tl5UC/q57bOepZVLXOErZNq0aXnsscfyk5/8JJtvvnnWWGONdOzYMYceemi22mqrT3zOJ13ieu+992aHHXZIx44d079//9x6662feBr56NGjs/POO6e2tjYHHXRQ3nrrrSQfnHVx66235t57701NTU1qamryyCOPzNcx9O/fP4MHD87ZZ5+d//mf/8kWW2yRiy66qMGaj17i+knzT5s2rcFrfnga/OjRo9OnT5906NAhv//977PRRhvl6aefbrDva6+9NltvvXXq6+vna16AUub3M3/69Ok55ZRT0q1bt3zrW9/Kfvvtl/Hjx1cev+iii7LHHntkxIgR2XbbbdOhQ4fU19fPc4nr1KlTc8IJJ2SzzTZLp06d8sMf/jCvvPLKPPv5qP/93//NNttsU/n5kUceyV577ZXOnTtn0003Tb9+/fL666/P1/F++Hn/pz/9Kf3790+nTp3y7W9/O+PGjWuw/4/+fjU/Mw0cODCHHXZYhg0blh49emSnnXbKxRdfnN13332eGfr06ZMLLrhgvuYFWBJ9GLc++l91dXWGDx+e3XffPZ07d06vXr1y2mmn5b///W+SDz5bf/azn2X69OmVP9t/+Ofz3//+9+nTp09qa2uzxRZb5LjjjsvkyZMXaKZP+vodn/UwL4EOvkKWW265LLfccvnzn/+cWbNmLdQ+JkyYkKOPPjrbbrttbrvttvTr1y/nnXfePOtmzpyZq666KmeffXauu+66vPnmmxk6dGiS5MADD8zOO++cnj17ZsyYMRkzZswCXWp16623ZrnllstNN92U448/Pr/+9a/z4IMPLtTxfNQ555yT4447LnfeeWe22WabdO/ePSNHjmywZuTIkendu3eqqqoW+fUAvkjz85lfX1+fQw45JBMnTszll1+ekSNHZpNNNsn++++fd955p7Lu1VdfzV133ZWLLroot9122yfua+DAgXnmmWdy6aWX5sYbb6zse/bs2fM175w5c3L44Ydns802y+23354bb7wx++677wJ/3p533nk56KCDctttt2XdddfNcccdlzlz5izQPj7uoYceyosvvpjhw4fnsssuy1577ZUXXnghTz31VGXN+PHj849//CN9+vRZpNcCWBJVVVXlpJNOyh/+8IcMGTIkDz/8cM4555wkH1xSeuKJJ6Z58+aVP9sfeOCBST446/roo4/O7bffnl//+teZMGFCBg4cuMjz+KyHeQl08BXSuHHjDBkyJLfddlvlzIRf/epXDc6U+Dy/+93vst566+WnP/1p2rZtm1133TW9e/eeZ93s2bNz+umnp0OHDtlkk03yve99Lw8//HCSZPnll0+zZs0a/AvdgpxCXlNTkyOOOCLrrrtu9txzz7Rv3z4PPfTQfD//0xx11FHZYostsvbaa6dVq1bZa6+9cscdd1T+Yjt+/Pg8++yzfkMGvhLm5zP/4Ycfzj//+c9ceOGF6dChQ9Zdd9389Kc/zQorrJC77767sm727Nk555xzsvHGG2ejjTaaJ5q98sorue+++zJ48OBsuumm2WijjXLuuefmP//5z3x/sfe7776b6dOnZ+utt87aa6+d9ddfP717987qq6++QMd94IEHZquttsp6662Xo446Kq+//nr+9a9/LdA+Pm655ZbL4MGDs+GGG6Zdu3b5xje+kR49ejT4R5yRI0dms802y1prrbVIrwVQ0v3335/a2trKf0cddVSS5Ac/+EE233zzrLXWWunWrVuOPvro3HXXXUk+OOuuRYsWqaqqqvzZfvnll0+S7LXXXunVq1fWWmutdO7cOSeddFIeeOCBytl3C8tnPcxLoIOvmB133DGjR4/OpZdemh49euTRRx9Nnz595jlT7NO8/PLLad++fYNtHTt2nGfdsssum7XXXrvy8yqrrLLAp7N/mpqamgY/t2nTZrHsu0OHDg1+3m677VJdXZ177rknyQc3n+jatWvWXHPNRX4tgC/D533m//3vf8+MGTPStWvXBn8hmzBhQl599dXKflZfffXP/A6iF198MY0bN06nTp0q21q1apX11lsvL7744nzNuuKKK6ZPnz456KCDMmDAgFx99dWVr0ZYEB/9PeLD7yCaMmXKAu/no9q1azfPPyTts88+ueOOO/L+++9n9uzZ+cMf/pC+ffsu0usAlNa1a9fcdtttlf9OPvnkJB/8g84BBxyQnj17pra2Nj/96U/zzjvvZMaMGZ+5v3/84x/50Y9+lK233jq1tbXZb7/9kiRvvvnmIs3psx7m5RvU4StomWWWyRZbbJEtttgiRxxxRE466aRcdNFF83VmWH19/TxnTnzS97F9/AYLVVVVi+172xZk340aNZpnxk87/f3jd35t2rRp9thjj4wcOTLbb799Ro0alRNPPHFRRgf40n3WZ/7cuXPTpk2bXHvttfM876N3v/u8O2N/2mfwR3/P+KTP6o9/Hp911lnp379/Ro8enbvuuivnn39+hg8fns6dO8/PoSZJmjRpUvn1h689d+7cT1w7PzMln3z8W2+9dZo2bZp77rknTZs2zaxZs7LjjjvO95wAS6Jll112nju2vv766znkkEPSr1+/HH300WnZsmUee+yxnHTSSZ95WemMGTNy4IEHZosttsg555yTVq1a5c0338xBBx00319/8Gl81sO8BDr4Gthggw3m+xKktm3b5i9/+UuDbc8888wCv2aTJk0+9TfRxenDMz4mTpxY2fbRG0Z8nr333ju77bZbbrjhhsyZMyc77LDDYp8R4Mv00c/8TTbZJJMmTUp1dfUinR28wQYbZM6cOXnyySfzrW99K0ny9ttv55VXXsn666+f5IPP40mTJjWIdp/0ebzxxhtn4403zqGHHpp99903o0aNWqBAtyDmd6ZP0rhx4+y5554ZOXJkmjZtml133fVzQybAV9EzzzyTurq6DBw4sPKP3x9e3vqhJk2apK6ursG2l156KW+//XZ+8pOfZLXVVqvs68vms56lhUtc4Svk7bffzn777Zff//73GT9+fF577bXcddddufLKK7PtttvO1z723XffvPzyyznnnHPy8ssv584778ytt96aJAv0Rd5rrLFGnnvuubz00kuZMmXKIv8r2qdp1qxZOnfunMsvvzwvvPBCxo4dm/PPP3++n7/++uunU6dOOffcc7PrrrumWbNmX8icAIvb/Hzmd+/ePZ07d87hhx+e0aNHZ8KECXn88cdz3nnnzXMX68+y7rrrZtttt80pp5ySv/3tbxk/fnyOP/74rLrqqpXX6tq1a6ZMmZIrrrgir776aq6//vqMHj26so/XXnstv/zlLzNu3Li8/vrrGTNmTF555ZW0bdt28b4xH/F5M32evffeOw8//HAeeOABlzwBX1trr7125syZk2uvvTavvfZabrvttvzud79rsGaNNdbIjBkz8tBDD2XKlCl57733svrqq6dJkyaV591777255JJLvvT5fdaztBDo4Ctk+eWXT6dOnXL11Vfn+9//fnbfffdccMEF2XvvvXPqqafO1z7WWmutXHDBBbnnnnvy7W9/O7/97W8zYMCAJFmgGz3ss88+WW+99dK3b99069Ytjz/++EId0/z4xS9+kTlz5qRv374588wzc8wxxyzQ8/faa6/Mnj3bb8jAV8r8fOZXVVXl8ssvz2abbZYTTzwxO+20U4499ti8/vrrad269QK93llnnZVNNtkkAwYMyL777pv6+vpcfvnllcuQ1l9//fz85z/PDTfckD322CNPPfVU5S5/yQeXFr300ks58sgjs+OOO+bUU0/N9773vfTr12/xvSkf83kzfZ511103tbW1WW+99Rp8/x7A18k3v/nN/OxnP8sVV1yR3XbbLX/4wx9y7LHHNljzrW99K/369csxxxyTbt265corr8xKK62UIUOG5I9//GN22WWXXHHFFfnpT3/6pc/vs56lRVX94vpSKeAr69JLL83vfve7eS59LaVHjx45+uijs/feey+W/V166aW5884784c//GGx7A+AMkaPHp2DDz44Tz311AL9o9Knqa+vz0477ZR+/frlgAMOWAwTArCofNaztPIddLAUuv7669OhQ4e0atUqjz32WH7zm9/ke9/7Xumx8t577+Xxxx/PpEmTssEGGyzy/v773//mxRdfzHXXXZejjz56MUwIQCmTJk3Kvffem3XWWWex/IVt8uTJ+f3vf5+33nprvm6yBMAXz2c9SzOBDpZC//rXv3LppZdm6tSpWX311XPAAQfk0EMPLT1Wbrzxxlx66aXZf//9U1tbu8j7GzRoUEaNGpXtttvO5a0AX3GHHHJI/vvf/+bnP//5Ytlf9+7d06pVq5xxxhlp2bLlYtknAIvGZz1LM5e4AgAAAEBBbhIBAAAAAAUJdAAAAABQkEAHAAAAAAUJdAAAAABQkEAHAAAAAAUJdAAAX3GPPPJIampqMm3atE9dM3LkyGy66aZf4lRfLQMHDsxhhx1WegwAYCkl0AEAfIkef/zxfPOb38xBBx202PZZW1ubMWPGpEWLFottn/NjfsLgV8VJJ52UIUOGVH7u379/zjzzzIITAQBLE4EOAOBLdMstt+T73/9+Hn/88bzxxhuLZZ9NmzZNmzZtUlVVtVj2tzSpq6vL3Llz06JFi6ywwgqlxwEAllICHQDAl2TGjBm566678p3vfCdbbbVVRo4c2eDxe++9N3369EmHDh3StWvXHHHEEZXHZs2albPPPju9evVK+/bts8MOO+Tmm29O8slnso0cOTJbbbVVOnXqlMMPPzzvvPPOPPPcd999ldfbdtttc/HFF2fOnDmVx2tqanLzzTfn8MMPT6dOnbLDDjvk3nvvTZJMmDAh++23X5Jks802S01NTQYOHPi578Ef//jH7L777unYsWO6du2aH/zgB5kxY0bl8VtuuSU777xzOnTokJ122inXX3995bF999035557boP9TZkyJZtsskkefvjhBu9Tz54907lz5+y999555JFHGrwvm266af7v//4vu+yySzp06JDXX3+9wSWuAwcOzKOPPpprrrkmNTU1qampyWuvvZbtt98+v/nNbxq8/j//+c9stNFGefXVVz/32AEAPo1ABwDwJbnzzjuz3nrrpW3btvn2t7+dkSNHpr6+Pkly//3358gjj8xWW22V2267LVdffXXat29fee4JJ5yQO++8MyeffHLuuuuunH766Vl++eU/8XWefPLJnHjiifnud7+b2267LV27ds2ll17aYM3o0aNz/PHHp3///rnzzjtzxhlnZOTIkbnssssarLv44ouz88475/bbb8+WW26Zn/zkJ3nnnXey2mqr5aKLLkryQXQbM2ZMTjrppM88/rfeeivHHXdc+vbtmzvvvDPXXHNNtt9++8p7cNNNN+W8887Lj3/849x555059thjc+GFF+bWW29Nkuy+++654447Kus/fE9XXnnl/M///E+S5Gc/+1kef/zxnHfeebn99tuz00475Yc//GFeeeWVynNmzpyZYcOGZfDgwRk1alRWXnnlBnOedNJJqa2tzT777JMxY8ZkzJgxWX311dO3b995ouott9ySTTfdNGuvvfZnHjsAwGdpXHoAAIClxYgRI/Ltb387SdKzZ8/MmDEjDz30ULp3757LLrssu+yyS4466qjK+o022ihJ8vLLL+euu+7K8OHD07179yTJWmut9amvc80116RHjx455JBDkiTrrbdexo0bl9GjR1fWXHbZZTnkkEPSu3fvyv6OPvronHPOOQ3O3Ovdu3d22223JMmxxx6b6667Lk899VS23HLLtGzZMkmy8sorz9floRMnTsycOXOy/fbbZ4011kjywVl6H7rkkksycODA7LDDDpWZXnjhhdx4443p3bt3dtlll5x11ll57LHHKje8GDVqVHbbbbc0atQor776au6444785S9/yaqrrpokOeiggzJ69OiMHDkyxx57bJJk9uzZOe200yrv78e1aNEiTZo0SbNmzdKmTZvK9j59+uTCCy/MU089lY4dO2b27Nm5/fbbc8IJJ3zusQMAfBaBDgDgS/DSSy/l6aefzsUXX5wkady4cXbZZZfccsst6d69e5599tnsvffen/jcZ599NtXV1dlss83m67VefPHFbLfddg22de7cuUGg+/vf/56nn366wRlzdXV1ef/99/Pee+9l2WWXTdIwoC233HJZfvnlM2XKlPk76I/ZaKON0q1bt+y+++7p0aNHevTokR133DEtW7bMlClT8uabb+akk07KKaecUnnOnDlzKje/WGmlldK9e/fcfvvt2XTTTfPaa69l3LhxOe200yrHVF9fn5122qnB686aNSsrrrhi5ecmTZo0OK75tcoqq6RXr14ZMWJEOnbsmPvvvz/vv//+PK8HALCgBDoAgC/BiBEjMmfOnGy55ZaVbfX19WncuHGmTp2aZs2afepzP+uxT/LRS0A/zdy5c3PkkUdWzlb7qGWWWaby6yZNmjR4rKqqKnPnzl2geT5UXV2d4cOH5/HHH8+DDz6Ya6+9Nuedd15uuummShAcNGhQOnXq1OB5jRr9/9/Ksvvuu+fMM8/MKaecklGjRmXDDTesnAlXX1+f6urq3HLLLamurm6wj+WWW67y62bNmi30DTX23nvvnHDCCTnxxBNzyy23ZJdddqnMDgCwsAQ6AIAv2Jw5c/L73/8+AwcOzBZbbNHgsSOPPDJ/+MMf0q5duzz00EPp27fvPM9v165d5s6dm7Fjx1Yucf0sG2ywQZ588skG2z7+88Ybb5yXX34566yzzkIc0Qc+jHd1dXXz/Zyqqqp06dIlXbp0yeGHH56tt946f/7zn3PAAQdk1VVXzWuvvVa5DPiTbLfddvn5z3+e0aNHZ9SoUdljjz0qj33zm99MXV1dpkyZUrkEdmE1adLkE0Nkr169suyyy+a3v/1tRo8eneuuu26RXgcAIBHoAAC+cPfff3+mTp2avfbaq3K55od22mmnjBgxIj/72c/ygx/8IGuvvXZ23XXXzJkzJw888EAOPvjgrLnmmundu3dOPPHEnHzyyampqckbb7yRyZMnZ5dddpnn9fr3759+/frliiuuyHbbbZcHH3ywweWtSXL44YdnwIABWW211bLTTjulUaNGee655/Lcc8/lxz/+8Xwd1xprrJGqqqrcf//96dWrV5ZZZplPvXFF8kEkfOihh7LFFltk5ZVXzpNPPpkpU6akbdu2ST6IlYMHD07z5s2z5ZZbZtasWXnmmWcybdq0HHDAAUk+OBNum222yQUXXJAXX3yx8v14yQfftbf77rvnhBNOyMCBA/PNb34zb7/9dh5++OHU1NSkV69e83VcHx7bk08+mQkTJmS55ZbLiiuumEaNGqW6ujp9+vTJL3/5y6y99tqpra2d730CAHwad3EFAPiCjRgxIt27d58nziXJDjvskGeffTbNmzfPBRdckPvuuy977LFH9t9//zz11FOVdaeddlp23HHHnHbaadl5551zyimn5L333vvE1+vcuXMGDx6c6667LnvuuWfGjBmTH/3oRw3W9OzZM5dddlkefPDB7LXXXtlnn30yfPjwys0b5seqq66aI488Mr/85S/TvXv3DBo06DPXN2/ePGPHjs0hhxySHXfcMeeff34GDhxYCWd77713Bg8enFtvvTW77757+vfvn1tvvTVrrrlmg/18+9vfzvjx47Pppptm9dVXb/DYWWedlT333DNDhgzJzjvvnMMOOyxPPfVUvvGNb8z3cSXJgQcemOrq6uy6667p1q1b3njjjcpje+21V2bPnv2JZzsCACyMqvr5+ZISAAAgSfLYY49lv/32y1/+8pe0bt269DgAwNeAS1wBAGA+zJo1K2+++WYuuOCC7LTTTuIcALDYCHQAACwWb7zxRnbddddPffyOO+6Y55LUr5JRo0blpJNOyje/+c2cc845pccBAL5GXOIKAMBiMWfOnLz++uuf+vgaa6yRxo39+zAAwMcJdAAAAABQkLu4AgAAAEBBAh0AAAAAFCTQAQAAAEBBAh0AAAAAFCTQAQAAAEBBAh0AAAAAFCTQAQAAAEBB/x/LsSddOHpbugAAAABJRU5ErkJggg==",
      "text/plain": [
       "<Figure size 1500x1000 with 1 Axes>"
      ]
     },
     "metadata": {},
     "output_type": "display_data"
    }
   ],
   "source": [
    "plt.figure(figsize=(15,10))\n",
    "plt.title('Accident Severity')\n",
    "sns.set_style('whitegrid')\n",
    "sns.countplot(x='Accident_severity', data=df)\n",
    "plt.show()"
   ]
  },
  {
   "cell_type": "markdown",
   "id": "7d5e0895",
   "metadata": {},
   "source": [
    "Accident severity based on Sex of driver"
   ]
  },
  {
   "cell_type": "code",
<<<<<<< HEAD
   "execution_count": 139,
   "id": "2940e5c1",
   "metadata": {
    "tags": []
   },
=======
   "execution_count": 12,
   "id": "2940e5c1",
   "metadata": {},
>>>>>>> origin/main
   "outputs": [
    {
     "data": {
      "image/png": "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",
      "text/plain": [
       "<Figure size 1500x1000 with 1 Axes>"
      ]
     },
     "metadata": {},
     "output_type": "display_data"
    }
   ],
   "source": [
    "plt.figure(figsize=(15,10))\n",
    "plt.title('Accident Severity based on Driver\\'s Sex')\n",
    "sns.set_style('whitegrid')\n",
    "sns.countplot(x='Accident_severity', data=df, hue='Sex_of_driver')\n",
    "plt.show()"
   ]
  },
  {
   "cell_type": "markdown",
   "id": "151d38cf",
   "metadata": {},
   "source": [
    "#### Levels of Education "
   ]
  },
  {
   "cell_type": "code",
<<<<<<< HEAD
   "execution_count": 140,
   "id": "424c77f2",
   "metadata": {
    "tags": []
   },
=======
   "execution_count": 13,
   "id": "424c77f2",
   "metadata": {},
>>>>>>> origin/main
   "outputs": [
    {
     "data": {
      "text/plain": [
       "Educational_level\n",
       "Junior high school    7619\n",
       "Elementary school     2163\n",
       "High school           1110\n",
       "Above high school      362\n",
       "Writing & reading      176\n",
       "Unknown                100\n",
       "Illiterate              45\n",
       "Name: count, dtype: int64"
      ]
     },
<<<<<<< HEAD
     "execution_count": 140,
=======
     "execution_count": 13,
>>>>>>> origin/main
     "metadata": {},
     "output_type": "execute_result"
    }
   ],
   "source": [
    "df['Educational_level'].value_counts()"
   ]
  },
  {
   "cell_type": "markdown",
   "id": "c96791f6",
   "metadata": {},
   "source": [
    "This shows that Most Drivers have atleast __Junior High School__ level of Education"
   ]
  },
  {
   "cell_type": "code",
<<<<<<< HEAD
   "execution_count": 141,
   "id": "49f500ca",
   "metadata": {
    "tags": []
   },
=======
   "execution_count": 14,
   "id": "49f500ca",
   "metadata": {},
>>>>>>> origin/main
   "outputs": [
    {
     "data": {
      "image/png": "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",
      "text/plain": [
       "<Figure size 1500x1000 with 1 Axes>"
      ]
     },
     "metadata": {},
     "output_type": "display_data"
    }
   ],
   "source": [
    "plt.figure(figsize=(15,10))\n",
    "plt.title('Educational Level')\n",
    "sns.set_style('whitegrid')\n",
    "sns.countplot(x='Educational_level', data=df)\n",
    "plt.show()"
   ]
  },
  {
   "cell_type": "markdown",
   "id": "c6303d9e",
   "metadata": {},
   "source": [
    "#### Driving Experience of Drivers"
   ]
  },
  {
   "cell_type": "code",
<<<<<<< HEAD
   "execution_count": 142,
   "id": "04a58341",
   "metadata": {
    "tags": []
   },
=======
   "execution_count": 15,
   "id": "04a58341",
   "metadata": {},
>>>>>>> origin/main
   "outputs": [
    {
     "data": {
      "text/plain": [
       "Driving_experience\n",
       "5-10yr        3363\n",
       "2-5yr         2613\n",
       "Above 10yr    2262\n",
       "1-2yr         1756\n",
       "Below 1yr     1342\n",
       "No Licence     118\n",
       "unknown         33\n",
       "Name: count, dtype: int64"
      ]
     },
<<<<<<< HEAD
     "execution_count": 142,
=======
     "execution_count": 15,
>>>>>>> origin/main
     "metadata": {},
     "output_type": "execute_result"
    }
   ],
   "source": [
    "df['Driving_experience'].value_counts()"
   ]
  },
  {
   "cell_type": "code",
<<<<<<< HEAD
   "execution_count": 143,
   "id": "1f851d08",
   "metadata": {
    "tags": []
   },
=======
   "execution_count": 16,
   "id": "1f851d08",
   "metadata": {},
>>>>>>> origin/main
   "outputs": [
    {
     "data": {
      "image/png": "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",
      "text/plain": [
       "<Figure size 1500x1000 with 1 Axes>"
      ]
     },
     "metadata": {},
     "output_type": "display_data"
    }
   ],
   "source": [
    "plt.figure(figsize=(15,10))\n",
    "plt.title('Driving Experience of Drivers')\n",
    "sns.set_style('whitegrid')\n",
    "sns.countplot(x='Driving_experience', data=df)\n",
    "plt.show()"
   ]
  },
  {
   "cell_type": "markdown",
   "id": "15d37571",
   "metadata": {},
   "source": [
    "#### Cause of Accident"
   ]
  },
  {
   "cell_type": "code",
<<<<<<< HEAD
   "execution_count": 144,
   "id": "1f6c8257",
   "metadata": {
    "tags": []
   },
=======
   "execution_count": 17,
   "id": "1f6c8257",
   "metadata": {},
>>>>>>> origin/main
   "outputs": [
    {
     "data": {
      "text/plain": [
       "Cause_of_accident\n",
       "No distancing                           2263\n",
       "Changing lane to the right              1808\n",
       "Changing lane to the left               1473\n",
       "Driving carelessly                      1402\n",
       "No priority to vehicle                  1207\n",
       "Moving Backward                         1137\n",
       "No priority to pedestrian                721\n",
       "Other                                    456\n",
       "Overtaking                               430\n",
       "Driving under the influence of drugs     340\n",
       "Driving to the left                      284\n",
       "Getting off the vehicle improperly       197\n",
       "Driving at high speed                    174\n",
       "Overturning                              149\n",
       "Turnover                                  78\n",
       "Overspeed                                 61\n",
       "Overloading                               59\n",
       "Drunk driving                             27\n",
       "Unknown                                   25\n",
       "Improper parking                          25\n",
       "Name: count, dtype: int64"
      ]
     },
<<<<<<< HEAD
     "execution_count": 144,
=======
     "execution_count": 17,
>>>>>>> origin/main
     "metadata": {},
     "output_type": "execute_result"
    }
   ],
   "source": [
    "df['Cause_of_accident'].value_counts()"
   ]
  },
  {
   "cell_type": "code",
<<<<<<< HEAD
   "execution_count": 145,
   "id": "63a50513",
   "metadata": {
    "tags": []
   },
=======
   "execution_count": 18,
   "id": "63a50513",
   "metadata": {},
>>>>>>> origin/main
   "outputs": [
    {
     "data": {
      "image/png": "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",
      "text/plain": [
       "<Figure size 1500x1000 with 1 Axes>"
      ]
     },
     "metadata": {},
     "output_type": "display_data"
    }
   ],
   "source": [
    "plt.figure(figsize=(15,10))\n",
    "plt.title('Cause of Accident')\n",
    "sns.set_style('whitegrid')\n",
    "sns.countplot(x='Cause_of_accident', data=df)\n",
    "sns.despine()\n",
    "plt.show()"
   ]
  },
  {
   "cell_type": "markdown",
   "id": "0448f31e",
   "metadata": {},
   "source": [
    "#### Sex of Casuality on Accident Severity"
   ]
  },
  {
   "cell_type": "code",
<<<<<<< HEAD
   "execution_count": 146,
   "id": "464bb6be",
   "metadata": {
    "tags": []
   },
=======
   "execution_count": 19,
   "id": "464bb6be",
   "metadata": {},
>>>>>>> origin/main
   "outputs": [
    {
     "data": {
      "text/plain": [
       "Sex_of_casualty\n",
       "Male      5253\n",
       "na        4443\n",
       "Female    2620\n",
       "Name: count, dtype: int64"
      ]
     },
<<<<<<< HEAD
     "execution_count": 146,
=======
     "execution_count": 19,
>>>>>>> origin/main
     "metadata": {},
     "output_type": "execute_result"
    }
   ],
   "source": [
    "df['Sex_of_casualty'].value_counts()"
   ]
  },
  {
   "cell_type": "code",
<<<<<<< HEAD
   "execution_count": 147,
   "id": "138e980b",
   "metadata": {
    "tags": []
   },
=======
   "execution_count": 20,
   "id": "138e980b",
   "metadata": {},
>>>>>>> origin/main
   "outputs": [
    {
     "data": {
      "image/png": "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",
      "text/plain": [
       "<Figure size 1500x1000 with 1 Axes>"
      ]
     },
     "metadata": {},
     "output_type": "display_data"
    }
   ],
   "source": [
    "plt.figure(figsize=(15,10))\n",
    "plt.title('Accident Severity based on Sex')\n",
    "sns.set_style('whitegrid')\n",
    "sns.countplot(x='Accident_severity', data=df, hue='Sex_of_casualty')\n",
    "sns.despine()\n",
    "plt.show()"
   ]
  },
  {
   "cell_type": "markdown",
   "id": "78160de3",
   "metadata": {},
   "source": [
    "#### What day of the week are People prone to accidnet"
   ]
  },
  {
   "cell_type": "code",
<<<<<<< HEAD
   "execution_count": 148,
   "id": "609be183",
   "metadata": {
    "tags": []
   },
=======
   "execution_count": 21,
   "id": "609be183",
   "metadata": {},
>>>>>>> origin/main
   "outputs": [
    {
     "data": {
      "text/plain": [
       "Day_of_week\n",
       "Friday       2041\n",
       "Thursday     1851\n",
       "Wednesday    1840\n",
       "Tuesday      1770\n",
       "Monday       1681\n",
       "Saturday     1666\n",
       "Sunday       1467\n",
       "Name: count, dtype: int64"
      ]
     },
<<<<<<< HEAD
     "execution_count": 148,
=======
     "execution_count": 21,
>>>>>>> origin/main
     "metadata": {},
     "output_type": "execute_result"
    }
   ],
   "source": [
    "df['Day_of_week'].value_counts()"
   ]
  },
  {
   "cell_type": "markdown",
   "id": "b6d76ea5",
   "metadata": {},
   "source": [
    "Mostly Fridays"
   ]
  },
  {
   "cell_type": "markdown",
   "id": "baf2d0df",
   "metadata": {},
   "source": [
    "###### What age group are the drivers"
   ]
  },
  {
   "cell_type": "code",
<<<<<<< HEAD
   "execution_count": 149,
   "id": "ebccafd4",
   "metadata": {
    "tags": []
   },
=======
   "execution_count": 22,
   "id": "ebccafd4",
   "metadata": {},
>>>>>>> origin/main
   "outputs": [
    {
     "data": {
      "text/plain": [
       "array(['18-30', '31-50', 'Under 18', 'Over 51', 'Unknown'], dtype=object)"
      ]
     },
<<<<<<< HEAD
     "execution_count": 149,
=======
     "execution_count": 22,
>>>>>>> origin/main
     "metadata": {},
     "output_type": "execute_result"
    }
   ],
   "source": [
    "df['Age_band_of_driver'].unique()"
   ]
  },
  {
   "cell_type": "code",
<<<<<<< HEAD
   "execution_count": 150,
   "id": "1b34fafb",
   "metadata": {
    "tags": []
   },
=======
   "execution_count": 23,
   "id": "1b34fafb",
   "metadata": {},
>>>>>>> origin/main
   "outputs": [
    {
     "data": {
      "text/plain": [
       "Age_band_of_driver\n",
       "31-50       751\n",
       "18-30       671\n",
       "Over 51     254\n",
       "Unknown     251\n",
       "Under 18    114\n",
       "Name: count, dtype: int64"
      ]
     },
<<<<<<< HEAD
     "execution_count": 150,
=======
     "execution_count": 23,
>>>>>>> origin/main
     "metadata": {},
     "output_type": "execute_result"
    }
   ],
   "source": [
    "df[df['Day_of_week'] == 'Friday']['Age_band_of_driver'].value_counts()"
   ]
  },
  {
   "cell_type": "markdown",
   "id": "ed137d3f",
   "metadata": {},
   "source": [
    "Those betyween the Age of (31-50) and (18-30)"
   ]
  },
  {
   "cell_type": "code",
<<<<<<< HEAD
   "execution_count": 151,
   "id": "6f94135e",
   "metadata": {
    "tags": []
   },
=======
   "execution_count": 24,
   "id": "6f94135e",
   "metadata": {},
>>>>>>> origin/main
   "outputs": [
    {
     "data": {
      "image/png": "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",
      "text/plain": [
       "<Figure size 1500x1000 with 1 Axes>"
      ]
     },
     "metadata": {},
     "output_type": "display_data"
    }
   ],
   "source": [
    "plt.figure(figsize=(15,10))\n",
    "plt.title('Age group accidents on a friday')\n",
    "sns.set_style('whitegrid')\n",
    "sns.countplot(x='Age_band_of_driver', data=df[df['Day_of_week'] == 'Friday'])\n",
    "sns.despine()\n",
    "plt.show()"
   ]
  },
  {
   "cell_type": "markdown",
   "id": "7c44c819",
   "metadata": {},
   "source": [
    "#### environment factors"
   ]
  },
  {
   "cell_type": "code",
   "execution_count": null,
   "id": "dbafbb9a",
   "metadata": {},
   "outputs": [],
   "source": []
  },
  {
   "cell_type": "code",
   "execution_count": null,
   "id": "7604da83",
   "metadata": {},
   "outputs": [],
   "source": []
  },
  {
   "cell_type": "code",
   "execution_count": null,
   "id": "f8de078b",
   "metadata": {},
   "outputs": [],
   "source": []
  },
  {
   "cell_type": "code",
   "execution_count": null,
   "id": "664a0661",
   "metadata": {},
   "outputs": [],
   "source": []
  },
  {
   "cell_type": "markdown",
   "id": "aaa00628",
   "metadata": {},
   "source": [
    "#### using dabl (Data Analytics Baseline Library)"
   ]
  },
  {
   "cell_type": "code",
<<<<<<< HEAD
   "execution_count": 152,
   "id": "be46a87b",
   "metadata": {
    "tags": []
   },
=======
   "execution_count": 25,
   "id": "be46a87b",
   "metadata": {},
>>>>>>> origin/main
   "outputs": [
    {
     "name": "stderr",
     "output_type": "stream",
     "text": [
      "/home/onscript/anaconda3/lib/python3.11/site-packages/dabl/preprocessing.py:172: UserWarning: Could not infer format, so each element will be parsed individually, falling back to `dateutil`. To ensure parsing is consistent and as-expected, please specify a format.\n",
      "  pd.to_datetime(series[:10])\n",
      "/home/onscript/anaconda3/lib/python3.11/site-packages/dabl/preprocessing.py:177: UserWarning: Could not infer format, so each element will be parsed individually, falling back to `dateutil`. To ensure parsing is consistent and as-expected, please specify a format.\n",
      "  pd.to_datetime(series)\n",
      "/home/onscript/anaconda3/lib/python3.11/site-packages/dabl/preprocessing.py:172: UserWarning: Could not infer format, so each element will be parsed individually, falling back to `dateutil`. To ensure parsing is consistent and as-expected, please specify a format.\n",
      "  pd.to_datetime(series[:10])\n",
      "/home/onscript/anaconda3/lib/python3.11/site-packages/dabl/preprocessing.py:172: UserWarning: Could not infer format, so each element will be parsed individually, falling back to `dateutil`. To ensure parsing is consistent and as-expected, please specify a format.\n",
      "  pd.to_datetime(series[:10])\n",
      "/home/onscript/anaconda3/lib/python3.11/site-packages/dabl/preprocessing.py:172: UserWarning: Could not infer format, so each element will be parsed individually, falling back to `dateutil`. To ensure parsing is consistent and as-expected, please specify a format.\n",
      "  pd.to_datetime(series[:10])\n",
      "/home/onscript/anaconda3/lib/python3.11/site-packages/dabl/preprocessing.py:172: UserWarning: Could not infer format, so each element will be parsed individually, falling back to `dateutil`. To ensure parsing is consistent and as-expected, please specify a format.\n",
      "  pd.to_datetime(series[:10])\n",
      "/home/onscript/anaconda3/lib/python3.11/site-packages/dabl/preprocessing.py:172: UserWarning: Could not infer format, so each element will be parsed individually, falling back to `dateutil`. To ensure parsing is consistent and as-expected, please specify a format.\n",
      "  pd.to_datetime(series[:10])\n",
      "/home/onscript/anaconda3/lib/python3.11/site-packages/dabl/preprocessing.py:172: UserWarning: Could not infer format, so each element will be parsed individually, falling back to `dateutil`. To ensure parsing is consistent and as-expected, please specify a format.\n",
      "  pd.to_datetime(series[:10])\n",
      "/home/onscript/anaconda3/lib/python3.11/site-packages/dabl/preprocessing.py:172: UserWarning: Could not infer format, so each element will be parsed individually, falling back to `dateutil`. To ensure parsing is consistent and as-expected, please specify a format.\n",
      "  pd.to_datetime(series[:10])\n",
      "/home/onscript/anaconda3/lib/python3.11/site-packages/dabl/preprocessing.py:172: UserWarning: Could not infer format, so each element will be parsed individually, falling back to `dateutil`. To ensure parsing is consistent and as-expected, please specify a format.\n",
      "  pd.to_datetime(series[:10])\n",
      "/home/onscript/anaconda3/lib/python3.11/site-packages/dabl/preprocessing.py:172: UserWarning: Could not infer format, so each element will be parsed individually, falling back to `dateutil`. To ensure parsing is consistent and as-expected, please specify a format.\n",
      "  pd.to_datetime(series[:10])\n",
      "/home/onscript/anaconda3/lib/python3.11/site-packages/dabl/preprocessing.py:172: UserWarning: Could not infer format, so each element will be parsed individually, falling back to `dateutil`. To ensure parsing is consistent and as-expected, please specify a format.\n",
      "  pd.to_datetime(series[:10])\n",
      "/home/onscript/anaconda3/lib/python3.11/site-packages/dabl/preprocessing.py:172: UserWarning: Could not infer format, so each element will be parsed individually, falling back to `dateutil`. To ensure parsing is consistent and as-expected, please specify a format.\n",
      "  pd.to_datetime(series[:10])\n",
      "/home/onscript/anaconda3/lib/python3.11/site-packages/dabl/preprocessing.py:172: UserWarning: Could not infer format, so each element will be parsed individually, falling back to `dateutil`. To ensure parsing is consistent and as-expected, please specify a format.\n",
      "  pd.to_datetime(series[:10])\n",
      "/home/onscript/anaconda3/lib/python3.11/site-packages/dabl/preprocessing.py:172: UserWarning: Could not infer format, so each element will be parsed individually, falling back to `dateutil`. To ensure parsing is consistent and as-expected, please specify a format.\n",
      "  pd.to_datetime(series[:10])\n",
      "/home/onscript/anaconda3/lib/python3.11/site-packages/dabl/preprocessing.py:172: UserWarning: Could not infer format, so each element will be parsed individually, falling back to `dateutil`. To ensure parsing is consistent and as-expected, please specify a format.\n",
      "  pd.to_datetime(series[:10])\n",
      "/home/onscript/anaconda3/lib/python3.11/site-packages/dabl/preprocessing.py:172: UserWarning: Could not infer format, so each element will be parsed individually, falling back to `dateutil`. To ensure parsing is consistent and as-expected, please specify a format.\n",
      "  pd.to_datetime(series[:10])\n",
      "/home/onscript/anaconda3/lib/python3.11/site-packages/dabl/preprocessing.py:172: UserWarning: Could not infer format, so each element will be parsed individually, falling back to `dateutil`. To ensure parsing is consistent and as-expected, please specify a format.\n",
      "  pd.to_datetime(series[:10])\n",
      "/home/onscript/anaconda3/lib/python3.11/site-packages/dabl/preprocessing.py:172: UserWarning: Could not infer format, so each element will be parsed individually, falling back to `dateutil`. To ensure parsing is consistent and as-expected, please specify a format.\n",
      "  pd.to_datetime(series[:10])\n",
      "/home/onscript/anaconda3/lib/python3.11/site-packages/dabl/preprocessing.py:172: UserWarning: Could not infer format, so each element will be parsed individually, falling back to `dateutil`. To ensure parsing is consistent and as-expected, please specify a format.\n",
      "  pd.to_datetime(series[:10])\n",
      "/home/onscript/anaconda3/lib/python3.11/site-packages/dabl/preprocessing.py:172: UserWarning: Could not infer format, so each element will be parsed individually, falling back to `dateutil`. To ensure parsing is consistent and as-expected, please specify a format.\n",
      "  pd.to_datetime(series[:10])\n",
      "/home/onscript/anaconda3/lib/python3.11/site-packages/dabl/preprocessing.py:172: UserWarning: Could not infer format, so each element will be parsed individually, falling back to `dateutil`. To ensure parsing is consistent and as-expected, please specify a format.\n",
      "  pd.to_datetime(series[:10])\n",
      "/home/onscript/anaconda3/lib/python3.11/site-packages/dabl/preprocessing.py:172: UserWarning: Could not infer format, so each element will be parsed individually, falling back to `dateutil`. To ensure parsing is consistent and as-expected, please specify a format.\n",
      "  pd.to_datetime(series[:10])\n",
      "/home/onscript/anaconda3/lib/python3.11/site-packages/dabl/preprocessing.py:201: FutureWarning: Setting an item of incompatible dtype is deprecated and will raise in a future error of pandas. Value '1' has dtype incompatible with bool, please explicitly cast to a compatible dtype first.\n",
      "  dirty_float[col] = 1\n",
      "/home/onscript/anaconda3/lib/python3.11/site-packages/dabl/preprocessing.py:172: UserWarning: Could not infer format, so each element will be parsed individually, falling back to `dateutil`. To ensure parsing is consistent and as-expected, please specify a format.\n",
      "  pd.to_datetime(series[:10])\n",
      "/home/onscript/anaconda3/lib/python3.11/site-packages/dabl/preprocessing.py:172: UserWarning: Could not infer format, so each element will be parsed individually, falling back to `dateutil`. To ensure parsing is consistent and as-expected, please specify a format.\n",
      "  pd.to_datetime(series[:10])\n",
      "/home/onscript/anaconda3/lib/python3.11/site-packages/dabl/preprocessing.py:172: UserWarning: Could not infer format, so each element will be parsed individually, falling back to `dateutil`. To ensure parsing is consistent and as-expected, please specify a format.\n",
      "  pd.to_datetime(series[:10])\n",
      "/home/onscript/anaconda3/lib/python3.11/site-packages/dabl/preprocessing.py:172: UserWarning: Could not infer format, so each element will be parsed individually, falling back to `dateutil`. To ensure parsing is consistent and as-expected, please specify a format.\n",
      "  pd.to_datetime(series[:10])\n",
      "/home/onscript/anaconda3/lib/python3.11/site-packages/dabl/preprocessing.py:172: UserWarning: Could not infer format, so each element will be parsed individually, falling back to `dateutil`. To ensure parsing is consistent and as-expected, please specify a format.\n",
      "  pd.to_datetime(series[:10])\n"
     ]
    },
    {
     "name": "stdout",
     "output_type": "stream",
     "text": [
<<<<<<< HEAD
      "Target looks like classification\n",
      "Showing only top 10 of 31 categorical features\n"
=======
      "Target looks like classification\n"
>>>>>>> origin/main
     ]
    },
    {
     "name": "stderr",
     "output_type": "stream",
     "text": [
      "/home/onscript/anaconda3/lib/python3.11/site-packages/seaborn/categorical.py:641: FutureWarning: The default of observed=False is deprecated and will be changed to True in a future version of pandas. Pass observed=False to retain current behavior or observed=True to adopt the future default and silence this warning.\n",
      "  grouped_vals = vals.groupby(grouper)\n",
      "/home/onscript/anaconda3/lib/python3.11/site-packages/dabl/plot/utils.py:614: FutureWarning: The default of observed=False is deprecated and will be changed to True in a future version of pandas. Pass observed=False to retain current behavior or observed=True to adopt the future default and silence this warning.\n",
      "  counts = data.groupby(target)[column].value_counts().unstack(target)\n"
     ]
    },
    {
<<<<<<< HEAD
=======
     "name": "stdout",
     "output_type": "stream",
     "text": [
      "Showing only top 10 of 31 categorical features\n"
     ]
    },
    {
>>>>>>> origin/main
     "data": {
      "text/plain": [
       "[<Axes: title={'center': 'Target distribution'}, xlabel='count', ylabel='Accident_severity'>,\n",
       " [array([[<Axes: xlabel='Number_of_casualties', ylabel='Number_of_casualties'>]],\n",
       "        dtype=object)],\n",
       " array([[<Axes: title={'center': 'Number_of_vehicles_involved'}>,\n",
       "         <Axes: title={'center': 'Types_of_Junction'}>,\n",
       "         <Axes: title={'center': 'Age_band_of_driver'}>,\n",
       "         <Axes: title={'center': 'Weather_conditions'}>,\n",
       "         <Axes: title={'center': 'Type_of_vehicle'}>],\n",
       "        [<Axes: title={'center': 'Area_accident_occured'}>,\n",
       "         <Axes: title={'center': 'Cause_of_accident'}>,\n",
       "         <Axes: title={'center': 'Day_of_week'}>,\n",
       "         <Axes: title={'center': 'Light_conditions'}>,\n",
       "         <Axes: title={'center': 'Type_of_collision'}>]], dtype=object)]"
      ]
     },
<<<<<<< HEAD
     "execution_count": 152,
=======
     "execution_count": 25,
>>>>>>> origin/main
     "metadata": {},
     "output_type": "execute_result"
    },
    {
     "data": {
      "image/png": "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",
      "text/plain": [
       "<Figure size 640x480 with 1 Axes>"
      ]
     },
     "metadata": {},
     "output_type": "display_data"
    },
    {
     "data": {
      "image/png": "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",
      "text/plain": [
       "<Figure size 300x300 with 2 Axes>"
      ]
     },
     "metadata": {},
     "output_type": "display_data"
    },
    {
     "data": {
      "image/png": "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",
      "text/plain": [
       "<Figure size 2000x1000 with 10 Axes>"
      ]
     },
     "metadata": {},
     "output_type": "display_data"
    }
   ],
   "source": [
    "dabl.plot(df, target_col='Accident_severity')"
   ]
  },
  {
   "cell_type": "code",
   "execution_count": null,
   "id": "bbe975c6",
   "metadata": {},
   "outputs": [],
   "source": []
  },
  {
   "cell_type": "code",
   "execution_count": null,
   "id": "4974dcc7",
   "metadata": {},
   "outputs": [],
   "source": []
  },
  {
   "cell_type": "markdown",
   "id": "f68e15a1",
   "metadata": {},
   "source": [
    "#### Feature Engineering"
   ]
  },
  {
   "cell_type": "code",
<<<<<<< HEAD
   "execution_count": 153,
   "id": "d959d8ab",
   "metadata": {
    "tags": []
   },
=======
   "execution_count": 26,
   "id": "d959d8ab",
   "metadata": {},
>>>>>>> origin/main
   "outputs": [
    {
     "data": {
      "text/plain": [
       "0        17:02:00\n",
       "1        17:02:00\n",
       "2        17:02:00\n",
       "3         1:06:00\n",
       "4         1:06:00\n",
       "           ...   \n",
       "12311    16:15:00\n",
       "12312    18:00:00\n",
       "12313    13:55:00\n",
       "12314    13:55:00\n",
       "12315    13:55:00\n",
       "Name: Time, Length: 12316, dtype: object"
      ]
     },
<<<<<<< HEAD
     "execution_count": 153,
=======
     "execution_count": 26,
>>>>>>> origin/main
     "metadata": {},
     "output_type": "execute_result"
    }
   ],
   "source": [
    "# converting the Time column\n",
    "df['Time']"
   ]
  },
  {
   "cell_type": "code",
<<<<<<< HEAD
   "execution_count": 154,
   "id": "48aae56b",
   "metadata": {
    "tags": []
   },
=======
   "execution_count": 27,
   "id": "48aae56b",
   "metadata": {},
>>>>>>> origin/main
   "outputs": [
    {
     "name": "stderr",
     "output_type": "stream",
     "text": [
<<<<<<< HEAD
      "/tmp/ipykernel_7105/2145562215.py:1: UserWarning: Could not infer format, so each element will be parsed individually, falling back to `dateutil`. To ensure parsing is consistent and as-expected, please specify a format.\n",
=======
      "/tmp/ipykernel_53050/2145562215.py:1: UserWarning: Could not infer format, so each element will be parsed individually, falling back to `dateutil`. To ensure parsing is consistent and as-expected, please specify a format.\n",
>>>>>>> origin/main
      "  df['Time'] = pd.to_datetime(df['Time'])\n"
     ]
    }
   ],
   "source": [
    "df['Time'] = pd.to_datetime(df['Time'])"
   ]
  },
  {
   "cell_type": "code",
<<<<<<< HEAD
   "execution_count": 155,
   "id": "0cae3f4b",
   "metadata": {
    "tags": []
   },
=======
   "execution_count": 28,
   "id": "0cae3f4b",
   "metadata": {},
>>>>>>> origin/main
   "outputs": [
    {
     "data": {
      "text/plain": [
<<<<<<< HEAD
       "0       2024-03-04 17:02:00\n",
       "1       2024-03-04 17:02:00\n",
       "2       2024-03-04 17:02:00\n",
       "3       2024-03-04 01:06:00\n",
       "4       2024-03-04 01:06:00\n",
       "                ...        \n",
       "12311   2024-03-04 16:15:00\n",
       "12312   2024-03-04 18:00:00\n",
       "12313   2024-03-04 13:55:00\n",
       "12314   2024-03-04 13:55:00\n",
       "12315   2024-03-04 13:55:00\n",
       "Name: Time, Length: 12316, dtype: datetime64[ns]"
      ]
     },
     "execution_count": 155,
=======
       "0       2024-02-29 17:02:00\n",
       "1       2024-02-29 17:02:00\n",
       "2       2024-02-29 17:02:00\n",
       "3       2024-02-29 01:06:00\n",
       "4       2024-02-29 01:06:00\n",
       "                ...        \n",
       "12311   2024-02-29 16:15:00\n",
       "12312   2024-02-29 18:00:00\n",
       "12313   2024-02-29 13:55:00\n",
       "12314   2024-02-29 13:55:00\n",
       "12315   2024-02-29 13:55:00\n",
       "Name: Time, Length: 12316, dtype: datetime64[ns]"
      ]
     },
     "execution_count": 28,
>>>>>>> origin/main
     "metadata": {},
     "output_type": "execute_result"
    }
   ],
   "source": [
    "df['Time']"
   ]
  },
  {
   "cell_type": "code",
<<<<<<< HEAD
   "execution_count": 156,
=======
   "execution_count": 29,
>>>>>>> origin/main
   "id": "991d3168",
   "metadata": {
    "code_folding": [
     0
<<<<<<< HEAD
    ],
    "tags": []
=======
    ]
>>>>>>> origin/main
   },
   "outputs": [],
   "source": [
    "# extracting the hour\n",
    "# long method\n",
    "# hour = int(str(df['Time'][0]).split(' ')[1].split(':')[0])\n",
    "# print(hour)\n",
    "# we can use apply or map funtion"
   ]
  },
  {
   "cell_type": "code",
<<<<<<< HEAD
   "execution_count": 157,
   "id": "151f58da",
   "metadata": {
    "tags": []
   },
=======
   "execution_count": 30,
   "id": "151f58da",
   "metadata": {},
>>>>>>> origin/main
   "outputs": [],
   "source": [
    "# extract 'Hour_of_day' feature from the 'Time' column\n",
    "# create a new copy of the df\n",
    "new_df = df.copy()\n",
    "new_df['Hour_of_day'] = new_df['Time'].dt.hour"
   ]
  },
  {
   "cell_type": "code",
<<<<<<< HEAD
   "execution_count": 158,
   "id": "2b855cea",
   "metadata": {
    "tags": []
   },
=======
   "execution_count": 31,
   "id": "2b855cea",
   "metadata": {},
>>>>>>> origin/main
   "outputs": [
    {
     "data": {
      "text/plain": [
       "0        17\n",
       "1        17\n",
       "2        17\n",
       "3         1\n",
       "4         1\n",
       "         ..\n",
       "12311    16\n",
       "12312    18\n",
       "12313    13\n",
       "12314    13\n",
       "12315    13\n",
       "Name: Hour_of_day, Length: 12316, dtype: int32"
      ]
     },
<<<<<<< HEAD
     "execution_count": 158,
=======
     "execution_count": 31,
>>>>>>> origin/main
     "metadata": {},
     "output_type": "execute_result"
    }
   ],
   "source": [
    "new_df['Hour_of_day']"
   ]
  },
  {
   "cell_type": "code",
<<<<<<< HEAD
   "execution_count": 159,
   "id": "9b300e66",
   "metadata": {
    "tags": []
   },
=======
   "execution_count": 32,
   "id": "9b300e66",
   "metadata": {},
>>>>>>> origin/main
   "outputs": [
    {
     "data": {
      "text/html": [
       "<div>\n",
       "<style scoped>\n",
       "    .dataframe tbody tr th:only-of-type {\n",
       "        vertical-align: middle;\n",
       "    }\n",
       "\n",
       "    .dataframe tbody tr th {\n",
       "        vertical-align: top;\n",
       "    }\n",
       "\n",
       "    .dataframe thead th {\n",
       "        text-align: right;\n",
       "    }\n",
       "</style>\n",
       "<table border=\"1\" class=\"dataframe\">\n",
       "  <thead>\n",
       "    <tr style=\"text-align: right;\">\n",
       "      <th></th>\n",
       "      <th>Day_of_week</th>\n",
       "      <th>Age_band_of_driver</th>\n",
       "      <th>Sex_of_driver</th>\n",
       "      <th>Educational_level</th>\n",
       "      <th>Vehicle_driver_relation</th>\n",
       "      <th>Driving_experience</th>\n",
       "      <th>Type_of_vehicle</th>\n",
       "      <th>Owner_of_vehicle</th>\n",
       "      <th>Service_year_of_vehicle</th>\n",
       "      <th>Defect_of_vehicle</th>\n",
       "      <th>...</th>\n",
       "      <th>Casualty_class</th>\n",
       "      <th>Sex_of_casualty</th>\n",
       "      <th>Age_band_of_casualty</th>\n",
       "      <th>Casualty_severity</th>\n",
       "      <th>Work_of_casuality</th>\n",
       "      <th>Fitness_of_casuality</th>\n",
       "      <th>Pedestrian_movement</th>\n",
       "      <th>Cause_of_accident</th>\n",
       "      <th>Accident_severity</th>\n",
       "      <th>Hour_of_day</th>\n",
       "    </tr>\n",
       "  </thead>\n",
       "  <tbody>\n",
       "    <tr>\n",
       "      <th>0</th>\n",
       "      <td>Monday</td>\n",
       "      <td>18-30</td>\n",
       "      <td>Male</td>\n",
       "      <td>Above high school</td>\n",
       "      <td>Employee</td>\n",
       "      <td>1-2yr</td>\n",
       "      <td>Automobile</td>\n",
       "      <td>Owner</td>\n",
       "      <td>Above 10yr</td>\n",
       "      <td>No defect</td>\n",
       "      <td>...</td>\n",
       "      <td>na</td>\n",
       "      <td>na</td>\n",
       "      <td>na</td>\n",
       "      <td>na</td>\n",
       "      <td>NaN</td>\n",
       "      <td>NaN</td>\n",
       "      <td>Not a Pedestrian</td>\n",
       "      <td>Moving Backward</td>\n",
       "      <td>Slight Injury</td>\n",
       "      <td>17</td>\n",
       "    </tr>\n",
       "  </tbody>\n",
       "</table>\n",
       "<p>1 rows × 32 columns</p>\n",
       "</div>"
      ],
      "text/plain": [
       "  Day_of_week Age_band_of_driver Sex_of_driver  Educational_level  \\\n",
       "0      Monday              18-30          Male  Above high school   \n",
       "\n",
       "  Vehicle_driver_relation Driving_experience Type_of_vehicle Owner_of_vehicle  \\\n",
       "0                Employee              1-2yr      Automobile            Owner   \n",
       "\n",
       "  Service_year_of_vehicle Defect_of_vehicle  ... Casualty_class  \\\n",
       "0              Above 10yr         No defect  ...             na   \n",
       "\n",
       "  Sex_of_casualty Age_band_of_casualty Casualty_severity Work_of_casuality  \\\n",
       "0              na                   na                na               NaN   \n",
       "\n",
       "  Fitness_of_casuality Pedestrian_movement Cause_of_accident  \\\n",
       "0                  NaN    Not a Pedestrian   Moving Backward   \n",
       "\n",
       "  Accident_severity  Hour_of_day  \n",
       "0     Slight Injury           17  \n",
       "\n",
       "[1 rows x 32 columns]"
      ]
     },
<<<<<<< HEAD
     "execution_count": 159,
=======
     "execution_count": 32,
>>>>>>> origin/main
     "metadata": {},
     "output_type": "execute_result"
    }
   ],
   "source": [
    "df1 = new_df.drop('Time', axis=1)\n",
    "df1.head(1)"
   ]
  },
  {
   "cell_type": "markdown",
   "id": "a21d6fe5",
   "metadata": {},
   "source": [
    "##### feature selection\n",
    "\n",
    "our target is `Accident_severity`, it would be our __dependent variable__"
   ]
  },
  {
   "cell_type": "code",
<<<<<<< HEAD
   "execution_count": 160,
   "id": "75ae7a72",
   "metadata": {
    "tags": []
   },
=======
   "execution_count": 33,
   "id": "75ae7a72",
   "metadata": {},
>>>>>>> origin/main
   "outputs": [
    {
     "data": {
      "text/plain": [
       "17"
      ]
     },
<<<<<<< HEAD
     "execution_count": 160,
=======
     "execution_count": 33,
>>>>>>> origin/main
     "metadata": {},
     "output_type": "execute_result"
    }
   ],
   "source": [
    "features = ['Day_of_week','Number_of_vehicles_involved','Number_of_casualties','Area_accident_occured',\n",
    "           'Types_of_Junction','Age_band_of_driver','Sex_of_driver','Educational_level',\n",
    "           'Vehicle_driver_relation','Type_of_vehicle','Driving_experience','Service_year_of_vehicle','Type_of_collision',\n",
    "           'Sex_of_casualty','Age_band_of_casualty','Cause_of_accident','Hour_of_day']\n",
    "len(features)"
   ]
  },
  {
   "cell_type": "code",
<<<<<<< HEAD
   "execution_count": 161,
   "id": "72297e0d",
   "metadata": {
    "tags": []
   },
=======
   "execution_count": 34,
   "id": "72297e0d",
   "metadata": {},
>>>>>>> origin/main
   "outputs": [
    {
     "name": "stdout",
     "output_type": "stream",
     "text": [
      "['Owner_of_vehicle', 'Defect_of_vehicle', 'Lanes_or_Medians', 'Road_allignment', 'Road_surface_type', 'Road_surface_conditions', 'Light_conditions', 'Weather_conditions', 'Vehicle_movement', 'Casualty_class', 'Casualty_severity', 'Work_of_casuality', 'Fitness_of_casuality', 'Pedestrian_movement', 'Accident_severity']\n"
     ]
    }
   ],
   "source": [
    "n = []\n",
    "for i in df1.columns:\n",
    "    if i not in features:\n",
    "        n.append(i)\n",
    "print(n)"
   ]
  },
  {
   "cell_type": "code",
<<<<<<< HEAD
   "execution_count": 162,
   "id": "f18502c1",
   "metadata": {
    "tags": []
   },
=======
   "execution_count": 35,
   "id": "f18502c1",
   "metadata": {},
>>>>>>> origin/main
   "outputs": [],
   "source": [
    "# input features\n",
    "\n",
    "# independent varaible\n",
    "features_df = df1[features]\n",
    "\n",
    "# dependent variable\n",
    "target = df1['Accident_severity']"
   ]
  },
  {
   "cell_type": "code",
<<<<<<< HEAD
   "execution_count": 163,
   "id": "0802696b",
   "metadata": {
    "tags": []
   },
=======
   "execution_count": 36,
   "id": "0802696b",
   "metadata": {},
>>>>>>> origin/main
   "outputs": [
    {
     "name": "stdout",
     "output_type": "stream",
     "text": [
      "<class 'pandas.core.frame.DataFrame'>\n",
      "RangeIndex: 12316 entries, 0 to 12315\n",
      "Data columns (total 17 columns):\n",
      " #   Column                       Non-Null Count  Dtype \n",
      "---  ------                       --------------  ----- \n",
      " 0   Day_of_week                  12316 non-null  object\n",
      " 1   Number_of_vehicles_involved  12316 non-null  int64 \n",
      " 2   Number_of_casualties         12316 non-null  int64 \n",
      " 3   Area_accident_occured        12077 non-null  object\n",
      " 4   Types_of_Junction            11429 non-null  object\n",
      " 5   Age_band_of_driver           12316 non-null  object\n",
      " 6   Sex_of_driver                12316 non-null  object\n",
      " 7   Educational_level            11575 non-null  object\n",
      " 8   Vehicle_driver_relation      11737 non-null  object\n",
      " 9   Type_of_vehicle              11366 non-null  object\n",
      " 10  Driving_experience           11487 non-null  object\n",
      " 11  Service_year_of_vehicle      8388 non-null   object\n",
      " 12  Type_of_collision            12161 non-null  object\n",
      " 13  Sex_of_casualty              12316 non-null  object\n",
      " 14  Age_band_of_casualty         12316 non-null  object\n",
      " 15  Cause_of_accident            12316 non-null  object\n",
      " 16  Hour_of_day                  12316 non-null  int32 \n",
      "dtypes: int32(1), int64(2), object(14)\n",
      "memory usage: 1.6+ MB\n"
     ]
    }
   ],
   "source": [
    "features_df.info()"
   ]
  },
  {
   "cell_type": "code",
<<<<<<< HEAD
   "execution_count": 164,
   "id": "677d1407",
   "metadata": {
    "tags": []
   },
=======
   "execution_count": 37,
   "id": "677d1407",
   "metadata": {},
>>>>>>> origin/main
   "outputs": [
    {
     "data": {
      "text/plain": [
       "Day_of_week                       0\n",
       "Number_of_vehicles_involved       0\n",
       "Number_of_casualties              0\n",
       "Area_accident_occured           239\n",
       "Types_of_Junction               887\n",
       "Age_band_of_driver                0\n",
       "Sex_of_driver                     0\n",
       "Educational_level               741\n",
       "Vehicle_driver_relation         579\n",
       "Type_of_vehicle                 950\n",
       "Driving_experience              829\n",
       "Service_year_of_vehicle        3928\n",
       "Type_of_collision               155\n",
       "Sex_of_casualty                   0\n",
       "Age_band_of_casualty              0\n",
       "Cause_of_accident                 0\n",
       "Hour_of_day                       0\n",
       "dtype: int64"
      ]
     },
<<<<<<< HEAD
     "execution_count": 164,
=======
     "execution_count": 37,
>>>>>>> origin/main
     "metadata": {},
     "output_type": "execute_result"
    }
   ],
   "source": [
    "# Nan values\n",
    "features_df.isna().sum()"
   ]
  },
  {
   "cell_type": "code",
<<<<<<< HEAD
   "execution_count": 165,
   "id": "e47d2e2a",
   "metadata": {
    "tags": []
   },
=======
   "execution_count": 38,
   "id": "e47d2e2a",
   "metadata": {},
>>>>>>> origin/main
   "outputs": [
    {
     "name": "stdout",
     "output_type": "stream",
     "text": [
      "['Area_accident_occured', 'Types_of_Junction', 'Educational_level', 'Vehicle_driver_relation', 'Type_of_vehicle', 'Driving_experience', 'Service_year_of_vehicle', 'Type_of_collision']\n"
     ]
    }
   ],
   "source": [
    "# extracting columns with Nan values\n",
    "d = []\n",
    "for i in features_df:\n",
    "    if sum(features_df[i].isna()) > 0:\n",
    "        d.append(i)\n",
    "print(d)"
   ]
  },
  {
   "cell_type": "code",
<<<<<<< HEAD
   "execution_count": 166,
   "id": "369b385d",
   "metadata": {
    "jupyter": {
     "outputs_hidden": true
    },
    "tags": []
=======
   "execution_count": 42,
   "id": "369b385d",
   "metadata": {
    "collapsed": true
>>>>>>> origin/main
   },
   "outputs": [
    {
     "name": "stderr",
     "output_type": "stream",
     "text": [
<<<<<<< HEAD
      "/tmp/ipykernel_7105/77114107.py:4: SettingWithCopyWarning: \n",
=======
      "/tmp/ipykernel_53050/1591485994.py:4: SettingWithCopyWarning: \n",
>>>>>>> origin/main
      "A value is trying to be set on a copy of a slice from a DataFrame.\n",
      "Try using .loc[row_indexer,col_indexer] = value instead\n",
      "\n",
      "See the caveats in the documentation: https://pandas.pydata.org/pandas-docs/stable/user_guide/indexing.html#returning-a-view-versus-a-copy\n",
      "  features_df[i] = features_df[i].fillna('Unknown')\n",
<<<<<<< HEAD
      "/tmp/ipykernel_7105/77114107.py:6: SettingWithCopyWarning: \n",
=======
      "/tmp/ipykernel_53050/1591485994.py:6: SettingWithCopyWarning: \n",
>>>>>>> origin/main
      "A value is trying to be set on a copy of a slice from a DataFrame.\n",
      "Try using .loc[row_indexer,col_indexer] = value instead\n",
      "\n",
      "See the caveats in the documentation: https://pandas.pydata.org/pandas-docs/stable/user_guide/indexing.html#returning-a-view-versus-a-copy\n",
      "  features_df[i] = features_df[i].fillna('Other')\n"
     ]
    }
   ],
   "source": [
    "# we would be filling it with Unknown and other\n",
    "for i in d:\n",
    "    if i != 'Type_of_vehicle':\n",
    "        features_df[i] = features_df[i].fillna('Unknown')\n",
    "    else:\n",
    "        features_df[i] = features_df[i].fillna('Other')"
   ]
  },
  {
   "cell_type": "code",
<<<<<<< HEAD
   "execution_count": 167,
   "id": "5371a4ec",
   "metadata": {
    "jupyter": {
     "outputs_hidden": true
    },
    "tags": []
=======
   "execution_count": 40,
   "id": "5371a4ec",
   "metadata": {
    "collapsed": true
>>>>>>> origin/main
   },
   "outputs": [
    {
     "data": {
      "text/plain": [
       "Day_of_week                    0\n",
       "Number_of_vehicles_involved    0\n",
       "Number_of_casualties           0\n",
       "Area_accident_occured          0\n",
       "Types_of_Junction              0\n",
       "Age_band_of_driver             0\n",
       "Sex_of_driver                  0\n",
       "Educational_level              0\n",
       "Vehicle_driver_relation        0\n",
       "Type_of_vehicle                0\n",
       "Driving_experience             0\n",
       "Service_year_of_vehicle        0\n",
       "Type_of_collision              0\n",
       "Sex_of_casualty                0\n",
       "Age_band_of_casualty           0\n",
       "Cause_of_accident              0\n",
       "Hour_of_day                    0\n",
       "dtype: int64"
      ]
     },
<<<<<<< HEAD
     "execution_count": 167,
=======
     "execution_count": 40,
>>>>>>> origin/main
     "metadata": {},
     "output_type": "execute_result"
    }
   ],
   "source": [
    "# Nan values\n",
    "features_df.isna().sum()"
   ]
  },
  {
   "cell_type": "code",
<<<<<<< HEAD
   "execution_count": 168,
   "id": "c10de293",
   "metadata": {
    "tags": []
   },
=======
   "execution_count": 72,
   "id": "c10de293",
   "metadata": {},
>>>>>>> origin/main
   "outputs": [
    {
     "data": {
      "text/plain": [
       "Index(['Day_of_week', 'Number_of_vehicles_involved', 'Number_of_casualties',\n",
       "       'Area_accident_occured', 'Types_of_Junction', 'Age_band_of_driver',\n",
       "       'Sex_of_driver', 'Educational_level', 'Vehicle_driver_relation',\n",
       "       'Type_of_vehicle', 'Driving_experience', 'Service_year_of_vehicle',\n",
       "       'Type_of_collision', 'Sex_of_casualty', 'Age_band_of_casualty',\n",
       "       'Cause_of_accident', 'Hour_of_day'],\n",
       "      dtype='object')"
      ]
     },
<<<<<<< HEAD
     "execution_count": 168,
=======
     "execution_count": 72,
>>>>>>> origin/main
     "metadata": {},
     "output_type": "execute_result"
    }
   ],
   "source": [
    "features_df.columns"
   ]
  },
  {
   "cell_type": "markdown",
   "id": "858e131f",
   "metadata": {},
   "source": [
    "##### One-Hot Encoding Using get_dummies()\n",
    "\n",
    "get_dummies() converts categorical columns into numerical features"
   ]
  },
  {
   "cell_type": "code",
<<<<<<< HEAD
   "execution_count": 169,
   "id": "183de44a",
   "metadata": {
    "tags": []
   },
=======
   "execution_count": 95,
   "id": "183de44a",
   "metadata": {},
>>>>>>> origin/main
   "outputs": [],
   "source": [
    "# setting input features X and target y\n",
    "X = features_df\n",
    "y = target"
   ]
  },
  {
   "cell_type": "code",
<<<<<<< HEAD
   "execution_count": 170,
   "id": "d6eeddd0",
   "metadata": {
    "tags": []
   },
=======
   "execution_count": 96,
   "id": "d6eeddd0",
   "metadata": {},
>>>>>>> origin/main
   "outputs": [
    {
     "data": {
      "text/plain": [
       "(12316, 107)"
      ]
     },
<<<<<<< HEAD
     "execution_count": 170,
=======
     "execution_count": 96,
>>>>>>> origin/main
     "metadata": {},
     "output_type": "execute_result"
    }
   ],
   "source": [
    "# get_dummies method for hot encoding\n",
    "# encoded dataframe\n",
    "encoded_df = pd.get_dummies(X, drop_first=True)\n",
    "encoded_df.shape"
   ]
  },
  {
   "cell_type": "markdown",
   "id": "4b4c71c5",
   "metadata": {},
   "source": [
    "Target Encoding Using LabelEncoder()"
   ]
  },
  {
   "cell_type": "code",
<<<<<<< HEAD
   "execution_count": 171,
   "id": "ba4aea57",
   "metadata": {
    "tags": []
   },
=======
   "execution_count": 106,
   "id": "ba4aea57",
   "metadata": {},
>>>>>>> origin/main
   "outputs": [
    {
     "data": {
      "text/html": [
<<<<<<< HEAD
       "<style>#sk-container-id-4 {color: black;}#sk-container-id-4 pre{padding: 0;}#sk-container-id-4 div.sk-toggleable {background-color: white;}#sk-container-id-4 label.sk-toggleable__label {cursor: pointer;display: block;width: 100%;margin-bottom: 0;padding: 0.3em;box-sizing: border-box;text-align: center;}#sk-container-id-4 label.sk-toggleable__label-arrow:before {content: \"▸\";float: left;margin-right: 0.25em;color: #696969;}#sk-container-id-4 label.sk-toggleable__label-arrow:hover:before {color: black;}#sk-container-id-4 div.sk-estimator:hover label.sk-toggleable__label-arrow:before {color: black;}#sk-container-id-4 div.sk-toggleable__content {max-height: 0;max-width: 0;overflow: hidden;text-align: left;background-color: #f0f8ff;}#sk-container-id-4 div.sk-toggleable__content pre {margin: 0.2em;color: black;border-radius: 0.25em;background-color: #f0f8ff;}#sk-container-id-4 input.sk-toggleable__control:checked~div.sk-toggleable__content {max-height: 200px;max-width: 100%;overflow: auto;}#sk-container-id-4 input.sk-toggleable__control:checked~label.sk-toggleable__label-arrow:before {content: \"▾\";}#sk-container-id-4 div.sk-estimator input.sk-toggleable__control:checked~label.sk-toggleable__label {background-color: #d4ebff;}#sk-container-id-4 div.sk-label input.sk-toggleable__control:checked~label.sk-toggleable__label {background-color: #d4ebff;}#sk-container-id-4 input.sk-hidden--visually {border: 0;clip: rect(1px 1px 1px 1px);clip: rect(1px, 1px, 1px, 1px);height: 1px;margin: -1px;overflow: hidden;padding: 0;position: absolute;width: 1px;}#sk-container-id-4 div.sk-estimator {font-family: monospace;background-color: #f0f8ff;border: 1px dotted black;border-radius: 0.25em;box-sizing: border-box;margin-bottom: 0.5em;}#sk-container-id-4 div.sk-estimator:hover {background-color: #d4ebff;}#sk-container-id-4 div.sk-parallel-item::after {content: \"\";width: 100%;border-bottom: 1px solid gray;flex-grow: 1;}#sk-container-id-4 div.sk-label:hover label.sk-toggleable__label {background-color: #d4ebff;}#sk-container-id-4 div.sk-serial::before {content: \"\";position: absolute;border-left: 1px solid gray;box-sizing: border-box;top: 0;bottom: 0;left: 50%;z-index: 0;}#sk-container-id-4 div.sk-serial {display: flex;flex-direction: column;align-items: center;background-color: white;padding-right: 0.2em;padding-left: 0.2em;position: relative;}#sk-container-id-4 div.sk-item {position: relative;z-index: 1;}#sk-container-id-4 div.sk-parallel {display: flex;align-items: stretch;justify-content: center;background-color: white;position: relative;}#sk-container-id-4 div.sk-item::before, #sk-container-id-4 div.sk-parallel-item::before {content: \"\";position: absolute;border-left: 1px solid gray;box-sizing: border-box;top: 0;bottom: 0;left: 50%;z-index: -1;}#sk-container-id-4 div.sk-parallel-item {display: flex;flex-direction: column;z-index: 1;position: relative;background-color: white;}#sk-container-id-4 div.sk-parallel-item:first-child::after {align-self: flex-end;width: 50%;}#sk-container-id-4 div.sk-parallel-item:last-child::after {align-self: flex-start;width: 50%;}#sk-container-id-4 div.sk-parallel-item:only-child::after {width: 0;}#sk-container-id-4 div.sk-dashed-wrapped {border: 1px dashed gray;margin: 0 0.4em 0.5em 0.4em;box-sizing: border-box;padding-bottom: 0.4em;background-color: white;}#sk-container-id-4 div.sk-label label {font-family: monospace;font-weight: bold;display: inline-block;line-height: 1.2em;}#sk-container-id-4 div.sk-label-container {text-align: center;}#sk-container-id-4 div.sk-container {/* jupyter's `normalize.less` sets `[hidden] { display: none; }` but bootstrap.min.css set `[hidden] { display: none !important; }` so we also need the `!important` here to be able to override the default hidden behavior on the sphinx rendered scikit-learn.org. See: https://github.com/scikit-learn/scikit-learn/issues/21755 */display: inline-block !important;position: relative;}#sk-container-id-4 div.sk-text-repr-fallback {display: none;}</style><div id=\"sk-container-id-4\" class=\"sk-top-container\"><div class=\"sk-text-repr-fallback\"><pre>LabelEncoder()</pre><b>In a Jupyter environment, please rerun this cell to show the HTML representation or trust the notebook. <br />On GitHub, the HTML representation is unable to render, please try loading this page with nbviewer.org.</b></div><div class=\"sk-container\" hidden><div class=\"sk-item\"><div class=\"sk-estimator sk-toggleable\"><input class=\"sk-toggleable__control sk-hidden--visually\" id=\"sk-estimator-id-4\" type=\"checkbox\" checked><label for=\"sk-estimator-id-4\" class=\"sk-toggleable__label sk-toggleable__label-arrow\">LabelEncoder</label><div class=\"sk-toggleable__content\"><pre>LabelEncoder()</pre></div></div></div></div></div>"
=======
       "<style>#sk-container-id-3 {color: black;}#sk-container-id-3 pre{padding: 0;}#sk-container-id-3 div.sk-toggleable {background-color: white;}#sk-container-id-3 label.sk-toggleable__label {cursor: pointer;display: block;width: 100%;margin-bottom: 0;padding: 0.3em;box-sizing: border-box;text-align: center;}#sk-container-id-3 label.sk-toggleable__label-arrow:before {content: \"▸\";float: left;margin-right: 0.25em;color: #696969;}#sk-container-id-3 label.sk-toggleable__label-arrow:hover:before {color: black;}#sk-container-id-3 div.sk-estimator:hover label.sk-toggleable__label-arrow:before {color: black;}#sk-container-id-3 div.sk-toggleable__content {max-height: 0;max-width: 0;overflow: hidden;text-align: left;background-color: #f0f8ff;}#sk-container-id-3 div.sk-toggleable__content pre {margin: 0.2em;color: black;border-radius: 0.25em;background-color: #f0f8ff;}#sk-container-id-3 input.sk-toggleable__control:checked~div.sk-toggleable__content {max-height: 200px;max-width: 100%;overflow: auto;}#sk-container-id-3 input.sk-toggleable__control:checked~label.sk-toggleable__label-arrow:before {content: \"▾\";}#sk-container-id-3 div.sk-estimator input.sk-toggleable__control:checked~label.sk-toggleable__label {background-color: #d4ebff;}#sk-container-id-3 div.sk-label input.sk-toggleable__control:checked~label.sk-toggleable__label {background-color: #d4ebff;}#sk-container-id-3 input.sk-hidden--visually {border: 0;clip: rect(1px 1px 1px 1px);clip: rect(1px, 1px, 1px, 1px);height: 1px;margin: -1px;overflow: hidden;padding: 0;position: absolute;width: 1px;}#sk-container-id-3 div.sk-estimator {font-family: monospace;background-color: #f0f8ff;border: 1px dotted black;border-radius: 0.25em;box-sizing: border-box;margin-bottom: 0.5em;}#sk-container-id-3 div.sk-estimator:hover {background-color: #d4ebff;}#sk-container-id-3 div.sk-parallel-item::after {content: \"\";width: 100%;border-bottom: 1px solid gray;flex-grow: 1;}#sk-container-id-3 div.sk-label:hover label.sk-toggleable__label {background-color: #d4ebff;}#sk-container-id-3 div.sk-serial::before {content: \"\";position: absolute;border-left: 1px solid gray;box-sizing: border-box;top: 0;bottom: 0;left: 50%;z-index: 0;}#sk-container-id-3 div.sk-serial {display: flex;flex-direction: column;align-items: center;background-color: white;padding-right: 0.2em;padding-left: 0.2em;position: relative;}#sk-container-id-3 div.sk-item {position: relative;z-index: 1;}#sk-container-id-3 div.sk-parallel {display: flex;align-items: stretch;justify-content: center;background-color: white;position: relative;}#sk-container-id-3 div.sk-item::before, #sk-container-id-3 div.sk-parallel-item::before {content: \"\";position: absolute;border-left: 1px solid gray;box-sizing: border-box;top: 0;bottom: 0;left: 50%;z-index: -1;}#sk-container-id-3 div.sk-parallel-item {display: flex;flex-direction: column;z-index: 1;position: relative;background-color: white;}#sk-container-id-3 div.sk-parallel-item:first-child::after {align-self: flex-end;width: 50%;}#sk-container-id-3 div.sk-parallel-item:last-child::after {align-self: flex-start;width: 50%;}#sk-container-id-3 div.sk-parallel-item:only-child::after {width: 0;}#sk-container-id-3 div.sk-dashed-wrapped {border: 1px dashed gray;margin: 0 0.4em 0.5em 0.4em;box-sizing: border-box;padding-bottom: 0.4em;background-color: white;}#sk-container-id-3 div.sk-label label {font-family: monospace;font-weight: bold;display: inline-block;line-height: 1.2em;}#sk-container-id-3 div.sk-label-container {text-align: center;}#sk-container-id-3 div.sk-container {/* jupyter's `normalize.less` sets `[hidden] { display: none; }` but bootstrap.min.css set `[hidden] { display: none !important; }` so we also need the `!important` here to be able to override the default hidden behavior on the sphinx rendered scikit-learn.org. See: https://github.com/scikit-learn/scikit-learn/issues/21755 */display: inline-block !important;position: relative;}#sk-container-id-3 div.sk-text-repr-fallback {display: none;}</style><div id=\"sk-container-id-3\" class=\"sk-top-container\"><div class=\"sk-text-repr-fallback\"><pre>LabelEncoder()</pre><b>In a Jupyter environment, please rerun this cell to show the HTML representation or trust the notebook. <br />On GitHub, the HTML representation is unable to render, please try loading this page with nbviewer.org.</b></div><div class=\"sk-container\" hidden><div class=\"sk-item\"><div class=\"sk-estimator sk-toggleable\"><input class=\"sk-toggleable__control sk-hidden--visually\" id=\"sk-estimator-id-3\" type=\"checkbox\" checked><label for=\"sk-estimator-id-3\" class=\"sk-toggleable__label sk-toggleable__label-arrow\">LabelEncoder</label><div class=\"sk-toggleable__content\"><pre>LabelEncoder()</pre></div></div></div></div></div>"
>>>>>>> origin/main
      ],
      "text/plain": [
       "LabelEncoder()"
      ]
     },
<<<<<<< HEAD
     "execution_count": 171,
=======
     "execution_count": 106,
>>>>>>> origin/main
     "metadata": {},
     "output_type": "execute_result"
    }
   ],
   "source": [
    "# create labelencodeder object\n",
    "\n",
    "lb = LabelEncoder()\n",
    "lb.fit(y)"
   ]
  },
  {
   "cell_type": "code",
<<<<<<< HEAD
   "execution_count": 172,
   "id": "dfe30c55",
   "metadata": {
    "tags": []
   },
=======
   "execution_count": 107,
   "id": "dfe30c55",
   "metadata": {},
>>>>>>> origin/main
   "outputs": [
    {
     "name": "stdout",
     "output_type": "stream",
     "text": [
      "Encoded labels:  ['Fatal injury' 'Serious Injury' 'Slight Injury']\n"
     ]
    }
   ],
   "source": [
    "y_encoded = lb.transform(y)\n",
    "\n",
    "print(\"Encoded labels: \", lb.classes_)"
   ]
  },
  {
   "cell_type": "code",
<<<<<<< HEAD
   "execution_count": 173,
   "id": "467505d6",
   "metadata": {
    "tags": []
   },
=======
   "execution_count": 109,
   "id": "467505d6",
   "metadata": {},
>>>>>>> origin/main
   "outputs": [
    {
     "data": {
      "text/plain": [
       "array([2, 1, 0])"
      ]
     },
<<<<<<< HEAD
     "execution_count": 173,
=======
     "execution_count": 109,
>>>>>>> origin/main
     "metadata": {},
     "output_type": "execute_result"
    }
   ],
   "source": [
    "y_en = pd.Series(y_encoded)\n",
    "y_en.unique()"
   ]
  },
  {
   "cell_type": "code",
<<<<<<< HEAD
   "execution_count": 174,
   "id": "5788e580",
   "metadata": {
    "tags": []
   },
=======
   "execution_count": 123,
   "id": "5788e580",
   "metadata": {},
>>>>>>> origin/main
   "outputs": [],
   "source": [
    "# feature Selection method Using Chi2 statistics\n",
    "# selecting the Top 50 features\n",
    "fs = SelectKBest(chi2, k=50)\n",
    "X_new = fs.fit_transform(encoded_df, y_en)"
   ]
  },
  {
   "cell_type": "code",
<<<<<<< HEAD
   "execution_count": 175,
   "id": "a75803ca",
   "metadata": {
    "tags": []
   },
=======
   "execution_count": 125,
   "id": "a75803ca",
   "metadata": {},
>>>>>>> origin/main
   "outputs": [
    {
     "data": {
      "text/plain": [
       "(12316, 50)"
      ]
     },
<<<<<<< HEAD
     "execution_count": 175,
=======
     "execution_count": 125,
>>>>>>> origin/main
     "metadata": {},
     "output_type": "execute_result"
    }
   ],
   "source": [
    "# take selected features\n",
    "\n",
    "cols = fs.get_feature_names_out()\n",
    "\n",
    "# convert selected features into dataframe\n",
    "\n",
    "fs_df = pd.DataFrame(X_new, columns=cols)\n",
    "fs_df.shape"
   ]
  },
  {
   "cell_type": "markdown",
   "id": "aa49f786",
   "metadata": {},
   "source": [
    "Imbalanced Dataset Treatment Using SMONTENC Technique\n",
    "\n",
    "__Synthetic Minority Over-sampling Technique for Nominal and Continuous” (SMOTENC)__ techniques in our project. This method is designed for categorical and continuous features to accurately upsample the dataset."
   ]
  },
  {
   "cell_type": "code",
<<<<<<< HEAD
   "execution_count": 176,
   "id": "0c146e0a",
   "metadata": {
    "tags": []
   },
=======
   "execution_count": 131,
   "id": "0c146e0a",
   "metadata": {},
>>>>>>> origin/main
   "outputs": [],
   "source": [
    "# categorical features for SMOTENC\n",
    "n_cat_index = np.array(range(3,50))"
   ]
  },
  {
   "cell_type": "code",
<<<<<<< HEAD
   "execution_count": 177,
   "id": "ce2edfba",
   "metadata": {
    "tags": []
   },
=======
   "execution_count": 132,
   "id": "ce2edfba",
   "metadata": {},
>>>>>>> origin/main
   "outputs": [
    {
     "name": "stderr",
     "output_type": "stream",
     "text": [
      "/home/onscript/anaconda3/lib/python3.11/site-packages/imblearn/over_sampling/_smote/base.py:619: FutureWarning: The parameter `n_jobs` has been deprecated in 0.10 and will be removed in 0.12. You can pass an nearest neighbors estimator where `n_jobs` is already set instead.\n",
      "  warnings.warn(\n",
      "/home/onscript/anaconda3/lib/python3.11/site-packages/imblearn/over_sampling/_smote/base.py:582: FutureWarning: elementwise comparison failed; returning scalar instead, but in the future will perform elementwise comparison\n",
      "  if self.categorical_features == \"auto\":\n",
      "/home/onscript/anaconda3/lib/python3.11/site-packages/imblearn/over_sampling/_smote/base.py:345: FutureWarning: The parameter `n_jobs` has been deprecated in 0.10 and will be removed in 0.12. You can pass an nearest neighbors estimator where `n_jobs` is already set instead.\n",
      "  warnings.warn(\n"
     ]
    },
    {
     "name": "stdout",
     "output_type": "stream",
     "text": [
      "(31245, 50) (31245,)\n"
     ]
    }
   ],
   "source": [
    "# creating smote object with SMOTENC class\n",
    "\n",
    "smote = SMOTENC(categorical_features=n_cat_index, random_state=42, n_jobs=True)\n",
    "\n",
    "# new samples dataset\n",
    "X_n,y_n = smote.fit_resample(fs_df, y_en)\n",
    "\n",
    "print(X_n.shape, y_n.shape) # our sample now contains 31245 samples"
   ]
  },
  {
   "cell_type": "code",
<<<<<<< HEAD
   "execution_count": 178,
   "id": "61c2a188",
   "metadata": {
    "tags": []
   },
=======
   "execution_count": 133,
   "id": "61c2a188",
   "metadata": {},
>>>>>>> origin/main
   "outputs": [
    {
     "data": {
      "text/plain": [
       "2    10415\n",
       "1    10415\n",
       "0    10415\n",
       "Name: count, dtype: int64"
      ]
     },
<<<<<<< HEAD
     "execution_count": 178,
=======
     "execution_count": 133,
>>>>>>> origin/main
     "metadata": {},
     "output_type": "execute_result"
    }
   ],
   "source": [
    "y_n.value_counts() # each target class has 10415 samples"
   ]
  },
  {
   "cell_type": "markdown",
   "id": "0849aab0",
   "metadata": {},
   "source": [
    "Building a Classification Model"
   ]
  },
  {
   "cell_type": "code",
<<<<<<< HEAD
   "execution_count": 179,
   "id": "3b85be62",
   "metadata": {
    "tags": []
   },
=======
   "execution_count": 137,
   "id": "3b85be62",
   "metadata": {},
>>>>>>> origin/main
   "outputs": [],
   "source": [
    "# train and test split and building baseline model to preddict target features\n",
    "\n",
    "X_train, X_test,y_train,y_test = train_test_split(X_n, y_n, test_size=0.2, random_state=42)\n"
   ]
  },
  {
   "cell_type": "code",
<<<<<<< HEAD
   "execution_count": 180,
   "id": "a31a1c4f",
   "metadata": {
    "tags": []
   },
=======
   "execution_count": 141,
   "id": "a31a1c4f",
   "metadata": {},
>>>>>>> origin/main
   "outputs": [
    {
     "data": {
      "text/html": [
       "<style>#sk-container-id-5 {color: black;}#sk-container-id-5 pre{padding: 0;}#sk-container-id-5 div.sk-toggleable {background-color: white;}#sk-container-id-5 label.sk-toggleable__label {cursor: pointer;display: block;width: 100%;margin-bottom: 0;padding: 0.3em;box-sizing: border-box;text-align: center;}#sk-container-id-5 label.sk-toggleable__label-arrow:before {content: \"▸\";float: left;margin-right: 0.25em;color: #696969;}#sk-container-id-5 label.sk-toggleable__label-arrow:hover:before {color: black;}#sk-container-id-5 div.sk-estimator:hover label.sk-toggleable__label-arrow:before {color: black;}#sk-container-id-5 div.sk-toggleable__content {max-height: 0;max-width: 0;overflow: hidden;text-align: left;background-color: #f0f8ff;}#sk-container-id-5 div.sk-toggleable__content pre {margin: 0.2em;color: black;border-radius: 0.25em;background-color: #f0f8ff;}#sk-container-id-5 input.sk-toggleable__control:checked~div.sk-toggleable__content {max-height: 200px;max-width: 100%;overflow: auto;}#sk-container-id-5 input.sk-toggleable__control:checked~label.sk-toggleable__label-arrow:before {content: \"▾\";}#sk-container-id-5 div.sk-estimator input.sk-toggleable__control:checked~label.sk-toggleable__label {background-color: #d4ebff;}#sk-container-id-5 div.sk-label input.sk-toggleable__control:checked~label.sk-toggleable__label {background-color: #d4ebff;}#sk-container-id-5 input.sk-hidden--visually {border: 0;clip: rect(1px 1px 1px 1px);clip: rect(1px, 1px, 1px, 1px);height: 1px;margin: -1px;overflow: hidden;padding: 0;position: absolute;width: 1px;}#sk-container-id-5 div.sk-estimator {font-family: monospace;background-color: #f0f8ff;border: 1px dotted black;border-radius: 0.25em;box-sizing: border-box;margin-bottom: 0.5em;}#sk-container-id-5 div.sk-estimator:hover {background-color: #d4ebff;}#sk-container-id-5 div.sk-parallel-item::after {content: \"\";width: 100%;border-bottom: 1px solid gray;flex-grow: 1;}#sk-container-id-5 div.sk-label:hover label.sk-toggleable__label {background-color: #d4ebff;}#sk-container-id-5 div.sk-serial::before {content: \"\";position: absolute;border-left: 1px solid gray;box-sizing: border-box;top: 0;bottom: 0;left: 50%;z-index: 0;}#sk-container-id-5 div.sk-serial {display: flex;flex-direction: column;align-items: center;background-color: white;padding-right: 0.2em;padding-left: 0.2em;position: relative;}#sk-container-id-5 div.sk-item {position: relative;z-index: 1;}#sk-container-id-5 div.sk-parallel {display: flex;align-items: stretch;justify-content: center;background-color: white;position: relative;}#sk-container-id-5 div.sk-item::before, #sk-container-id-5 div.sk-parallel-item::before {content: \"\";position: absolute;border-left: 1px solid gray;box-sizing: border-box;top: 0;bottom: 0;left: 50%;z-index: -1;}#sk-container-id-5 div.sk-parallel-item {display: flex;flex-direction: column;z-index: 1;position: relative;background-color: white;}#sk-container-id-5 div.sk-parallel-item:first-child::after {align-self: flex-end;width: 50%;}#sk-container-id-5 div.sk-parallel-item:last-child::after {align-self: flex-start;width: 50%;}#sk-container-id-5 div.sk-parallel-item:only-child::after {width: 0;}#sk-container-id-5 div.sk-dashed-wrapped {border: 1px dashed gray;margin: 0 0.4em 0.5em 0.4em;box-sizing: border-box;padding-bottom: 0.4em;background-color: white;}#sk-container-id-5 div.sk-label label {font-family: monospace;font-weight: bold;display: inline-block;line-height: 1.2em;}#sk-container-id-5 div.sk-label-container {text-align: center;}#sk-container-id-5 div.sk-container {/* jupyter's `normalize.less` sets `[hidden] { display: none; }` but bootstrap.min.css set `[hidden] { display: none !important; }` so we also need the `!important` here to be able to override the default hidden behavior on the sphinx rendered scikit-learn.org. See: https://github.com/scikit-learn/scikit-learn/issues/21755 */display: inline-block !important;position: relative;}#sk-container-id-5 div.sk-text-repr-fallback {display: none;}</style><div id=\"sk-container-id-5\" class=\"sk-top-container\"><div class=\"sk-text-repr-fallback\"><pre>RandomForestClassifier(max_depth=20, n_estimators=800, random_state=42)</pre><b>In a Jupyter environment, please rerun this cell to show the HTML representation or trust the notebook. <br />On GitHub, the HTML representation is unable to render, please try loading this page with nbviewer.org.</b></div><div class=\"sk-container\" hidden><div class=\"sk-item\"><div class=\"sk-estimator sk-toggleable\"><input class=\"sk-toggleable__control sk-hidden--visually\" id=\"sk-estimator-id-5\" type=\"checkbox\" checked><label for=\"sk-estimator-id-5\" class=\"sk-toggleable__label sk-toggleable__label-arrow\">RandomForestClassifier</label><div class=\"sk-toggleable__content\"><pre>RandomForestClassifier(max_depth=20, n_estimators=800, random_state=42)</pre></div></div></div></div></div>"
      ],
      "text/plain": [
       "RandomForestClassifier(max_depth=20, n_estimators=800, random_state=42)"
      ]
     },
<<<<<<< HEAD
     "execution_count": 180,
=======
     "execution_count": 141,
>>>>>>> origin/main
     "metadata": {},
     "output_type": "execute_result"
    }
   ],
   "source": [
    "# modelling using random forest baseline\n",
    "\n",
    "rf = RandomForestClassifier(n_estimators=800, max_depth=20, random_state=42)\n",
    "\n",
    "rf.fit(X_train, y_train)"
   ]
  },
  {
   "cell_type": "code",
<<<<<<< HEAD
   "execution_count": 181,
   "id": "b4677478",
   "metadata": {
    "tags": []
   },
=======
   "execution_count": 142,
   "id": "b4677478",
   "metadata": {},
>>>>>>> origin/main
   "outputs": [],
   "source": [
    "# predicting on test data\n",
    "predicts = rf.predict(X_test)"
   ]
  },
  {
   "cell_type": "code",
<<<<<<< HEAD
   "execution_count": 182,
   "id": "bb4284bd",
   "metadata": {
    "tags": []
   },
=======
   "execution_count": 145,
   "id": "bb4284bd",
   "metadata": {},
>>>>>>> origin/main
   "outputs": [
    {
     "data": {
      "text/plain": [
       "0.9439910385661706"
      ]
     },
<<<<<<< HEAD
     "execution_count": 182,
=======
     "execution_count": 145,
>>>>>>> origin/main
     "metadata": {},
     "output_type": "execute_result"
    }
   ],
   "source": [
    "# train score\n",
    "rf.score(X_train, y_train)"
   ]
  },
  {
   "cell_type": "code",
<<<<<<< HEAD
   "execution_count": 183,
   "id": "9c603d98",
   "metadata": {
    "tags": []
   },
=======
   "execution_count": 147,
   "id": "9c603d98",
   "metadata": {},
>>>>>>> origin/main
   "outputs": [
    {
     "name": "stdout",
     "output_type": "stream",
     "text": [
      "              precision    recall  f1-score   support\n",
      "\n",
      "           0       0.95      0.96      0.95      2085\n",
      "           1       0.84      0.84      0.84      2100\n",
      "           2       0.86      0.86      0.86      2064\n",
      "\n",
      "    accuracy                           0.88      6249\n",
      "   macro avg       0.88      0.88      0.88      6249\n",
      "weighted avg       0.88      0.88      0.88      6249\n",
      "\n"
     ]
    }
   ],
   "source": [
    "# classsification report on test dataset\n",
    "\n",
    "classif_report = classification_report(y_test, predicts)\n",
    "\n",
    "print(classif_report)"
   ]
  },
  {
   "cell_type": "code",
<<<<<<< HEAD
   "execution_count": 184,
   "id": "f36d3457",
   "metadata": {
    "tags": []
   },
=======
   "execution_count": 148,
   "id": "f36d3457",
   "metadata": {},
>>>>>>> origin/main
   "outputs": [
    {
     "name": "stdout",
     "output_type": "stream",
     "text": [
      "0.884425879481897\n"
     ]
    }
   ],
   "source": [
    "# f1_score of the model\n",
    "\n",
    "f1_sco = f1_score(y_test, predicts, average='weighted')\n",
    "print(f1_sco)"
   ]
  },
  {
   "cell_type": "markdown",
   "id": "fe001541",
   "metadata": {},
   "source": [
    "```We can see that the model archives ~88% accuracy on test data compared to 94% on the training dataset. Our model seems to perform well on the test dataset, and we are good to go with deploying the model!```"
   ]
  },
  {
   "cell_type": "markdown",
   "id": "8c5dab3c",
   "metadata": {},
   "source": [
    "#### using dabl ML\n",
    "\n",
    "SimpleClassifier simply implements familiar scikit-learn API of fit and predict\n",
    "\n",
    "__Current Limitations of dabl_ as at 2024_\n",
    "\n",
    "dabl does not deal with text data and time series data. It also does not consider neural network models. Image, audio and video data is considered out of scope. All current implementation are quite rudimentary and rely heavily on heuristics. The goal is to replace these with more principled approaches where this provides a benefit."
   ]
  },
  {
   "cell_type": "code",
   "execution_count": null,
   "id": "4cdc83d9",
   "metadata": {},
   "outputs": [],
   "source": []
  },
  {
   "cell_type": "code",
<<<<<<< HEAD
   "execution_count": 185,
   "id": "459da46f",
   "metadata": {
    "tags": []
   },
=======
   "execution_count": 97,
   "id": "459da46f",
   "metadata": {},
>>>>>>> origin/main
   "outputs": [],
   "source": [
    "fc = dabl.SimpleClassifier(random_state=0)"
   ]
  },
  {
   "cell_type": "code",
<<<<<<< HEAD
   "execution_count": 186,
   "id": "a6683331",
   "metadata": {
    "tags": []
   },
=======
   "execution_count": 98,
   "id": "a6683331",
   "metadata": {},
>>>>>>> origin/main
   "outputs": [],
   "source": [
    "X = features_df\n",
    "y = target\n"
   ]
  },
  {
   "cell_type": "code",
<<<<<<< HEAD
   "execution_count": 187,
   "id": "51054d6b",
   "metadata": {
    "jupyter": {
     "outputs_hidden": true
    },
    "tags": []
=======
   "execution_count": 99,
   "id": "51054d6b",
   "metadata": {
    "collapsed": true
>>>>>>> origin/main
   },
   "outputs": [
    {
     "name": "stderr",
     "output_type": "stream",
     "text": [
      "/home/onscript/anaconda3/lib/python3.11/site-packages/dabl/preprocessing.py:172: UserWarning: Could not infer format, so each element will be parsed individually, falling back to `dateutil`. To ensure parsing is consistent and as-expected, please specify a format.\n",
      "  pd.to_datetime(series[:10])\n",
      "/home/onscript/anaconda3/lib/python3.11/site-packages/dabl/preprocessing.py:172: UserWarning: Could not infer format, so each element will be parsed individually, falling back to `dateutil`. To ensure parsing is consistent and as-expected, please specify a format.\n",
      "  pd.to_datetime(series[:10])\n",
      "/home/onscript/anaconda3/lib/python3.11/site-packages/dabl/preprocessing.py:172: UserWarning: Could not infer format, so each element will be parsed individually, falling back to `dateutil`. To ensure parsing is consistent and as-expected, please specify a format.\n",
      "  pd.to_datetime(series[:10])\n",
      "/home/onscript/anaconda3/lib/python3.11/site-packages/dabl/preprocessing.py:172: UserWarning: Could not infer format, so each element will be parsed individually, falling back to `dateutil`. To ensure parsing is consistent and as-expected, please specify a format.\n",
      "  pd.to_datetime(series[:10])\n",
      "/home/onscript/anaconda3/lib/python3.11/site-packages/dabl/preprocessing.py:172: UserWarning: Could not infer format, so each element will be parsed individually, falling back to `dateutil`. To ensure parsing is consistent and as-expected, please specify a format.\n",
      "  pd.to_datetime(series[:10])\n",
      "/home/onscript/anaconda3/lib/python3.11/site-packages/dabl/preprocessing.py:172: UserWarning: Could not infer format, so each element will be parsed individually, falling back to `dateutil`. To ensure parsing is consistent and as-expected, please specify a format.\n",
      "  pd.to_datetime(series[:10])\n",
      "/home/onscript/anaconda3/lib/python3.11/site-packages/dabl/preprocessing.py:172: UserWarning: Could not infer format, so each element will be parsed individually, falling back to `dateutil`. To ensure parsing is consistent and as-expected, please specify a format.\n",
      "  pd.to_datetime(series[:10])\n",
      "/home/onscript/anaconda3/lib/python3.11/site-packages/dabl/preprocessing.py:172: UserWarning: Could not infer format, so each element will be parsed individually, falling back to `dateutil`. To ensure parsing is consistent and as-expected, please specify a format.\n",
      "  pd.to_datetime(series[:10])\n",
      "/home/onscript/anaconda3/lib/python3.11/site-packages/dabl/preprocessing.py:172: UserWarning: Could not infer format, so each element will be parsed individually, falling back to `dateutil`. To ensure parsing is consistent and as-expected, please specify a format.\n",
      "  pd.to_datetime(series[:10])\n",
      "/home/onscript/anaconda3/lib/python3.11/site-packages/dabl/preprocessing.py:172: UserWarning: Could not infer format, so each element will be parsed individually, falling back to `dateutil`. To ensure parsing is consistent and as-expected, please specify a format.\n",
      "  pd.to_datetime(series[:10])\n",
      "/home/onscript/anaconda3/lib/python3.11/site-packages/dabl/preprocessing.py:172: UserWarning: Could not infer format, so each element will be parsed individually, falling back to `dateutil`. To ensure parsing is consistent and as-expected, please specify a format.\n",
      "  pd.to_datetime(series[:10])\n",
      "/home/onscript/anaconda3/lib/python3.11/site-packages/dabl/preprocessing.py:172: UserWarning: Could not infer format, so each element will be parsed individually, falling back to `dateutil`. To ensure parsing is consistent and as-expected, please specify a format.\n",
      "  pd.to_datetime(series[:10])\n",
      "/home/onscript/anaconda3/lib/python3.11/site-packages/dabl/preprocessing.py:201: FutureWarning: Setting an item of incompatible dtype is deprecated and will raise in a future error of pandas. Value '1' has dtype incompatible with bool, please explicitly cast to a compatible dtype first.\n",
      "  dirty_float[col] = 1\n",
      "/home/onscript/anaconda3/lib/python3.11/site-packages/dabl/preprocessing.py:172: UserWarning: Could not infer format, so each element will be parsed individually, falling back to `dateutil`. To ensure parsing is consistent and as-expected, please specify a format.\n",
      "  pd.to_datetime(series[:10])\n",
<<<<<<< HEAD
      "/home/onscript/anaconda3/lib/python3.11/site-packages/sklearn/preprocessing/_encoders.py:227: UserWarning: Found unknown categories in columns [2] during transform. These unknown categories will be encoded as all zeros\n",
=======
      "/home/onscript/anaconda3/lib/python3.11/site-packages/sklearn/preprocessing/_encoders.py:227: UserWarning: Found unknown categories in columns [3] during transform. These unknown categories will be encoded as all zeros\n",
>>>>>>> origin/main
      "  warnings.warn(\n"
     ]
    },
    {
     "name": "stdout",
     "output_type": "stream",
     "text": [
      "Running DummyClassifier(random_state=0)\n",
      "accuracy: 0.846 recall_macro: 0.333 precision_macro: 0.282 f1_macro: 0.305\n",
      "=== new best DummyClassifier(random_state=0) (using recall_macro):\n",
      "accuracy: 0.846 recall_macro: 0.333 precision_macro: 0.282 f1_macro: 0.305\n",
      "\n",
      "Running GaussianNB()\n",
<<<<<<< HEAD
      "accuracy: 0.069 recall_macro: 0.346 precision_macro: 0.348 f1_macro: 0.070\n",
      "=== new best GaussianNB() (using recall_macro):\n",
      "accuracy: 0.069 recall_macro: 0.346 precision_macro: 0.348 f1_macro: 0.070\n",
      "\n",
      "Running MultinomialNB()\n",
      "accuracy: 0.845 recall_macro: 0.333 precision_macro: 0.315 f1_macro: 0.306\n",
      "Running DecisionTreeClassifier(class_weight='balanced', max_depth=1, random_state=0)\n",
      "accuracy: 0.804 recall_macro: 0.421 precision_macro: 0.306 f1_macro: 0.336\n",
      "=== new best DecisionTreeClassifier(class_weight='balanced', max_depth=1, random_state=0) (using recall_macro):\n",
      "accuracy: 0.804 recall_macro: 0.421 precision_macro: 0.306 f1_macro: 0.336\n",
      "\n",
      "Running DecisionTreeClassifier(class_weight='balanced', max_depth=5, random_state=0)\n",
      "accuracy: 0.587 recall_macro: 0.489 precision_macro: 0.385 f1_macro: 0.357\n",
      "=== new best DecisionTreeClassifier(class_weight='balanced', max_depth=5, random_state=0) (using recall_macro):\n",
      "accuracy: 0.587 recall_macro: 0.489 precision_macro: 0.385 f1_macro: 0.357\n",
      "\n",
      "Running DecisionTreeClassifier(class_weight='balanced', min_impurity_decrease=0.01,\n",
      "                       random_state=0)\n",
      "accuracy: 0.707 recall_macro: 0.467 precision_macro: 0.402 f1_macro: 0.389\n",
      "Running LogisticRegression(C=0.1, class_weight='balanced', max_iter=1000,\n",
      "                   random_state=0)\n",
      "accuracy: 0.531 recall_macro: 0.459 precision_macro: 0.369 f1_macro: 0.331\n",
      "Running LogisticRegression(C=1, class_weight='balanced', max_iter=1000, random_state=0)\n",
      "accuracy: 0.526 recall_macro: 0.460 precision_macro: 0.369 f1_macro: 0.329\n",
=======
      "accuracy: 0.054 recall_macro: 0.344 precision_macro: 0.335 f1_macro: 0.062\n",
      "=== new best GaussianNB() (using recall_macro):\n",
      "accuracy: 0.054 recall_macro: 0.344 precision_macro: 0.335 f1_macro: 0.062\n",
      "\n",
      "Running MultinomialNB()\n",
      "accuracy: 0.845 recall_macro: 0.337 precision_macro: 0.365 f1_macro: 0.314\n",
      "Running DecisionTreeClassifier(class_weight='balanced', max_depth=1, random_state=0)\n",
      "accuracy: 0.141 recall_macro: 0.417 precision_macro: 0.085 f1_macro: 0.136\n",
      "=== new best DecisionTreeClassifier(class_weight='balanced', max_depth=1, random_state=0) (using recall_macro):\n",
      "accuracy: 0.141 recall_macro: 0.417 precision_macro: 0.085 f1_macro: 0.136\n",
      "\n",
      "Running DecisionTreeClassifier(class_weight='balanced', max_depth=5, random_state=0)\n",
      "accuracy: 0.608 recall_macro: 0.482 precision_macro: 0.382 f1_macro: 0.357\n",
      "=== new best DecisionTreeClassifier(class_weight='balanced', max_depth=5, random_state=0) (using recall_macro):\n",
      "accuracy: 0.608 recall_macro: 0.482 precision_macro: 0.382 f1_macro: 0.357\n",
      "\n",
      "Running DecisionTreeClassifier(class_weight='balanced', min_impurity_decrease=0.01,\n",
      "                       random_state=0)\n",
      "accuracy: 0.441 recall_macro: 0.437 precision_macro: 0.266 f1_macro: 0.275\n",
      "Running LogisticRegression(C=0.1, class_weight='balanced', max_iter=1000,\n",
      "                   random_state=0)\n",
      "accuracy: 0.545 recall_macro: 0.471 precision_macro: 0.373 f1_macro: 0.340\n",
      "Running LogisticRegression(C=1, class_weight='balanced', max_iter=1000, random_state=0)\n",
      "accuracy: 0.540 recall_macro: 0.473 precision_macro: 0.373 f1_macro: 0.338\n",
>>>>>>> origin/main
      "\n",
      "Best model:\n",
      "DecisionTreeClassifier(class_weight='balanced', max_depth=5, random_state=0)\n",
      "Best Scores:\n",
<<<<<<< HEAD
      "accuracy: 0.587 recall_macro: 0.489 precision_macro: 0.385 f1_macro: 0.357\n"
=======
      "accuracy: 0.608 recall_macro: 0.482 precision_macro: 0.382 f1_macro: 0.357\n"
>>>>>>> origin/main
     ]
    },
    {
     "data": {
      "text/html": [
<<<<<<< HEAD
       "<style>#sk-container-id-6 {color: black;}#sk-container-id-6 pre{padding: 0;}#sk-container-id-6 div.sk-toggleable {background-color: white;}#sk-container-id-6 label.sk-toggleable__label {cursor: pointer;display: block;width: 100%;margin-bottom: 0;padding: 0.3em;box-sizing: border-box;text-align: center;}#sk-container-id-6 label.sk-toggleable__label-arrow:before {content: \"▸\";float: left;margin-right: 0.25em;color: #696969;}#sk-container-id-6 label.sk-toggleable__label-arrow:hover:before {color: black;}#sk-container-id-6 div.sk-estimator:hover label.sk-toggleable__label-arrow:before {color: black;}#sk-container-id-6 div.sk-toggleable__content {max-height: 0;max-width: 0;overflow: hidden;text-align: left;background-color: #f0f8ff;}#sk-container-id-6 div.sk-toggleable__content pre {margin: 0.2em;color: black;border-radius: 0.25em;background-color: #f0f8ff;}#sk-container-id-6 input.sk-toggleable__control:checked~div.sk-toggleable__content {max-height: 200px;max-width: 100%;overflow: auto;}#sk-container-id-6 input.sk-toggleable__control:checked~label.sk-toggleable__label-arrow:before {content: \"▾\";}#sk-container-id-6 div.sk-estimator input.sk-toggleable__control:checked~label.sk-toggleable__label {background-color: #d4ebff;}#sk-container-id-6 div.sk-label input.sk-toggleable__control:checked~label.sk-toggleable__label {background-color: #d4ebff;}#sk-container-id-6 input.sk-hidden--visually {border: 0;clip: rect(1px 1px 1px 1px);clip: rect(1px, 1px, 1px, 1px);height: 1px;margin: -1px;overflow: hidden;padding: 0;position: absolute;width: 1px;}#sk-container-id-6 div.sk-estimator {font-family: monospace;background-color: #f0f8ff;border: 1px dotted black;border-radius: 0.25em;box-sizing: border-box;margin-bottom: 0.5em;}#sk-container-id-6 div.sk-estimator:hover {background-color: #d4ebff;}#sk-container-id-6 div.sk-parallel-item::after {content: \"\";width: 100%;border-bottom: 1px solid gray;flex-grow: 1;}#sk-container-id-6 div.sk-label:hover label.sk-toggleable__label {background-color: #d4ebff;}#sk-container-id-6 div.sk-serial::before {content: \"\";position: absolute;border-left: 1px solid gray;box-sizing: border-box;top: 0;bottom: 0;left: 50%;z-index: 0;}#sk-container-id-6 div.sk-serial {display: flex;flex-direction: column;align-items: center;background-color: white;padding-right: 0.2em;padding-left: 0.2em;position: relative;}#sk-container-id-6 div.sk-item {position: relative;z-index: 1;}#sk-container-id-6 div.sk-parallel {display: flex;align-items: stretch;justify-content: center;background-color: white;position: relative;}#sk-container-id-6 div.sk-item::before, #sk-container-id-6 div.sk-parallel-item::before {content: \"\";position: absolute;border-left: 1px solid gray;box-sizing: border-box;top: 0;bottom: 0;left: 50%;z-index: -1;}#sk-container-id-6 div.sk-parallel-item {display: flex;flex-direction: column;z-index: 1;position: relative;background-color: white;}#sk-container-id-6 div.sk-parallel-item:first-child::after {align-self: flex-end;width: 50%;}#sk-container-id-6 div.sk-parallel-item:last-child::after {align-self: flex-start;width: 50%;}#sk-container-id-6 div.sk-parallel-item:only-child::after {width: 0;}#sk-container-id-6 div.sk-dashed-wrapped {border: 1px dashed gray;margin: 0 0.4em 0.5em 0.4em;box-sizing: border-box;padding-bottom: 0.4em;background-color: white;}#sk-container-id-6 div.sk-label label {font-family: monospace;font-weight: bold;display: inline-block;line-height: 1.2em;}#sk-container-id-6 div.sk-label-container {text-align: center;}#sk-container-id-6 div.sk-container {/* jupyter's `normalize.less` sets `[hidden] { display: none; }` but bootstrap.min.css set `[hidden] { display: none !important; }` so we also need the `!important` here to be able to override the default hidden behavior on the sphinx rendered scikit-learn.org. See: https://github.com/scikit-learn/scikit-learn/issues/21755 */display: inline-block !important;position: relative;}#sk-container-id-6 div.sk-text-repr-fallback {display: none;}</style><div id=\"sk-container-id-6\" class=\"sk-top-container\"><div class=\"sk-text-repr-fallback\"><pre>SimpleClassifier(random_state=0)</pre><b>In a Jupyter environment, please rerun this cell to show the HTML representation or trust the notebook. <br />On GitHub, the HTML representation is unable to render, please try loading this page with nbviewer.org.</b></div><div class=\"sk-container\" hidden><div class=\"sk-item\"><div class=\"sk-estimator sk-toggleable\"><input class=\"sk-toggleable__control sk-hidden--visually\" id=\"sk-estimator-id-6\" type=\"checkbox\" checked><label for=\"sk-estimator-id-6\" class=\"sk-toggleable__label sk-toggleable__label-arrow\">SimpleClassifier</label><div class=\"sk-toggleable__content\"><pre>SimpleClassifier(random_state=0)</pre></div></div></div></div></div>"
=======
       "<style>#sk-container-id-2 {color: black;}#sk-container-id-2 pre{padding: 0;}#sk-container-id-2 div.sk-toggleable {background-color: white;}#sk-container-id-2 label.sk-toggleable__label {cursor: pointer;display: block;width: 100%;margin-bottom: 0;padding: 0.3em;box-sizing: border-box;text-align: center;}#sk-container-id-2 label.sk-toggleable__label-arrow:before {content: \"▸\";float: left;margin-right: 0.25em;color: #696969;}#sk-container-id-2 label.sk-toggleable__label-arrow:hover:before {color: black;}#sk-container-id-2 div.sk-estimator:hover label.sk-toggleable__label-arrow:before {color: black;}#sk-container-id-2 div.sk-toggleable__content {max-height: 0;max-width: 0;overflow: hidden;text-align: left;background-color: #f0f8ff;}#sk-container-id-2 div.sk-toggleable__content pre {margin: 0.2em;color: black;border-radius: 0.25em;background-color: #f0f8ff;}#sk-container-id-2 input.sk-toggleable__control:checked~div.sk-toggleable__content {max-height: 200px;max-width: 100%;overflow: auto;}#sk-container-id-2 input.sk-toggleable__control:checked~label.sk-toggleable__label-arrow:before {content: \"▾\";}#sk-container-id-2 div.sk-estimator input.sk-toggleable__control:checked~label.sk-toggleable__label {background-color: #d4ebff;}#sk-container-id-2 div.sk-label input.sk-toggleable__control:checked~label.sk-toggleable__label {background-color: #d4ebff;}#sk-container-id-2 input.sk-hidden--visually {border: 0;clip: rect(1px 1px 1px 1px);clip: rect(1px, 1px, 1px, 1px);height: 1px;margin: -1px;overflow: hidden;padding: 0;position: absolute;width: 1px;}#sk-container-id-2 div.sk-estimator {font-family: monospace;background-color: #f0f8ff;border: 1px dotted black;border-radius: 0.25em;box-sizing: border-box;margin-bottom: 0.5em;}#sk-container-id-2 div.sk-estimator:hover {background-color: #d4ebff;}#sk-container-id-2 div.sk-parallel-item::after {content: \"\";width: 100%;border-bottom: 1px solid gray;flex-grow: 1;}#sk-container-id-2 div.sk-label:hover label.sk-toggleable__label {background-color: #d4ebff;}#sk-container-id-2 div.sk-serial::before {content: \"\";position: absolute;border-left: 1px solid gray;box-sizing: border-box;top: 0;bottom: 0;left: 50%;z-index: 0;}#sk-container-id-2 div.sk-serial {display: flex;flex-direction: column;align-items: center;background-color: white;padding-right: 0.2em;padding-left: 0.2em;position: relative;}#sk-container-id-2 div.sk-item {position: relative;z-index: 1;}#sk-container-id-2 div.sk-parallel {display: flex;align-items: stretch;justify-content: center;background-color: white;position: relative;}#sk-container-id-2 div.sk-item::before, #sk-container-id-2 div.sk-parallel-item::before {content: \"\";position: absolute;border-left: 1px solid gray;box-sizing: border-box;top: 0;bottom: 0;left: 50%;z-index: -1;}#sk-container-id-2 div.sk-parallel-item {display: flex;flex-direction: column;z-index: 1;position: relative;background-color: white;}#sk-container-id-2 div.sk-parallel-item:first-child::after {align-self: flex-end;width: 50%;}#sk-container-id-2 div.sk-parallel-item:last-child::after {align-self: flex-start;width: 50%;}#sk-container-id-2 div.sk-parallel-item:only-child::after {width: 0;}#sk-container-id-2 div.sk-dashed-wrapped {border: 1px dashed gray;margin: 0 0.4em 0.5em 0.4em;box-sizing: border-box;padding-bottom: 0.4em;background-color: white;}#sk-container-id-2 div.sk-label label {font-family: monospace;font-weight: bold;display: inline-block;line-height: 1.2em;}#sk-container-id-2 div.sk-label-container {text-align: center;}#sk-container-id-2 div.sk-container {/* jupyter's `normalize.less` sets `[hidden] { display: none; }` but bootstrap.min.css set `[hidden] { display: none !important; }` so we also need the `!important` here to be able to override the default hidden behavior on the sphinx rendered scikit-learn.org. See: https://github.com/scikit-learn/scikit-learn/issues/21755 */display: inline-block !important;position: relative;}#sk-container-id-2 div.sk-text-repr-fallback {display: none;}</style><div id=\"sk-container-id-2\" class=\"sk-top-container\"><div class=\"sk-text-repr-fallback\"><pre>SimpleClassifier(random_state=0)</pre><b>In a Jupyter environment, please rerun this cell to show the HTML representation or trust the notebook. <br />On GitHub, the HTML representation is unable to render, please try loading this page with nbviewer.org.</b></div><div class=\"sk-container\" hidden><div class=\"sk-item\"><div class=\"sk-estimator sk-toggleable\"><input class=\"sk-toggleable__control sk-hidden--visually\" id=\"sk-estimator-id-2\" type=\"checkbox\" checked><label for=\"sk-estimator-id-2\" class=\"sk-toggleable__label sk-toggleable__label-arrow\">SimpleClassifier</label><div class=\"sk-toggleable__content\"><pre>SimpleClassifier(random_state=0)</pre></div></div></div></div></div>"
>>>>>>> origin/main
      ],
      "text/plain": [
       "SimpleClassifier(random_state=0)"
      ]
     },
<<<<<<< HEAD
     "execution_count": 187,
=======
     "execution_count": 99,
>>>>>>> origin/main
     "metadata": {},
     "output_type": "execute_result"
    }
   ],
   "source": [
    "fc.fit(X,y)"
   ]
  },
  {
   "cell_type": "markdown",
   "id": "44dc6341",
   "metadata": {},
   "source": [
    "##### Result\n",
    "\n",
    "Running DummyClassifier(random_state=0)\n",
    "```\n",
    "accuracy: 0.846 recall_macro: 0.333 precision_macro: 0.282 f1_macro: 0.305\n",
    "=== new best DummyClassifier(random_state=0) (using recall_macro):\n",
    "accuracy: 0.846 recall_macro: 0.333 precision_macro: 0.282 f1_macro: 0.305\n",
    "```\n",
    "\n",
    "Running GaussianNB()\n",
    "```\n",
    "accuracy: 0.069 recall_macro: 0.346 precision_macro: 0.348 f1_macro: 0.070\n",
    "=== new best GaussianNB() (using recall_macro):\n",
    "accuracy: 0.069 recall_macro: 0.346 precision_macro: 0.348 f1_macro: 0.070\n",
    "```\n",
    "Running MultinomialNB()\n",
    "```\n",
    "accuracy: 0.845 recall_macro: 0.333 precision_macro: 0.315 f1_macro: 0.306\n",
    "Running DecisionTreeClassifier(class_weight='balanced', max_depth=1, random_state=0)\n",
    "accuracy: 0.804 recall_macro: 0.421 precision_macro: 0.306 f1_macro: 0.336\n",
    "=== new best DecisionTreeClassifier(class_weight='balanced', max_depth=1, random_state=0) (using recall_macro):\n",
    "accuracy: 0.804 recall_macro: 0.421 precision_macro: 0.306 f1_macro: 0.336\n",
    "```\n",
    "\n",
    "Running DecisionTreeClassifier(class_weight='balanced', max_depth=5, random_state=0)\n",
    "```\n",
    "accuracy: 0.587 recall_macro: 0.489 precision_macro: 0.385 f1_macro: 0.357\n",
    "=== new best DecisionTreeClassifier(class_weight='balanced', max_depth=5, random_state=0) (using recall_macro):\n",
    "accuracy: 0.587 recall_macro: 0.489 precision_macro: 0.385 f1_macro: 0.357\n",
    "\n",
    "```\n",
    "Running DecisionTreeClassifier(class_weight='balanced', min_impurity_decrease=0.01,\n",
    "                       random_state=0)\n",
    "```\n",
    "accuracy: 0.707 recall_macro: 0.467 precision_macro: 0.402 f1_macro: 0.389\n",
    "Running LogisticRegression(C=0.1, class_weight='balanced', max_iter=1000,\n",
    "                   random_state=0)\n",
    "accuracy: 0.531 recall_macro: 0.459 precision_macro: 0.369 f1_macro: 0.331\n",
    "Running LogisticRegression(C=1, class_weight='balanced', max_iter=1000, random_state=0)\n",
    "accuracy: 0.526 recall_macro: 0.460 precision_macro: 0.369 f1_macro: 0.329\n",
    "```\n",
    "Best model:\n",
    "```\n",
    "DecisionTreeClassifier(class_weight='balanced', max_depth=5, random_state=0)\n",
    "Best Scores:\n",
    "accuracy: 0.587 recall_macro: 0.489 precision_macro: 0.385 f1_macro: 0.357\n",
    "```"
   ]
  },
  {
   "cell_type": "code",
   "execution_count": null,
   "id": "9ae7c5e0",
   "metadata": {},
   "outputs": [],
   "source": []
  },
  {
   "cell_type": "code",
<<<<<<< HEAD
   "execution_count": null,
   "id": "2310f564",
=======
   "execution_count": 117,
   "id": "6cddd3e8",
   "metadata": {},
   "outputs": [],
   "source": [
    "# model training\n",
    "# establishing baseline with DummyClassifier\n",
    "# randomly guess if a patient has or not\n",
    "# split data into train and test \n",
    "X_train, X_test, y_train, y_test = train_test_split(X, y, test_size=0.2, stratify = y)\n",
    "dummy = DummyClassifier()\n",
    "dummy.fit(X_train, y_train)\n",
    "dummy_pred = dummy.predict(X_test)"
   ]
  },
  {
   "cell_type": "code",
   "execution_count": 118,
   "id": "0ea706eb",
   "metadata": {},
   "outputs": [
    {
     "data": {
      "text/plain": [
       "array([[   0,    0,   31],\n",
       "       [   0,    0,  349],\n",
       "       [   0,    0, 2084]])"
      ]
     },
     "execution_count": 118,
     "metadata": {},
     "output_type": "execute_result"
    }
   ],
   "source": [
    "# assess DummyClassifier model\n",
    "# y_test is the actual value\n",
    "# dummy_pred is the prediction\n",
    "confusion_matrix(y_test, dummy_pred)"
   ]
  },
  {
   "cell_type": "code",
   "execution_count": 119,
   "id": "b901e976",
   "metadata": {},
   "outputs": [
    {
     "name": "stdout",
     "output_type": "stream",
     "text": [
      "                precision    recall  f1-score   support\n",
      "\n",
      "  Fatal injury       0.00      0.00      0.00        31\n",
      "Serious Injury       0.00      0.00      0.00       349\n",
      " Slight Injury       0.85      1.00      0.92      2084\n",
      "\n",
      "      accuracy                           0.85      2464\n",
      "     macro avg       0.28      0.33      0.31      2464\n",
      "  weighted avg       0.72      0.85      0.78      2464\n",
      "\n"
     ]
    },
    {
     "name": "stderr",
     "output_type": "stream",
     "text": [
      "/home/onscript/anaconda3/lib/python3.11/site-packages/sklearn/metrics/_classification.py:1469: UndefinedMetricWarning: Precision and F-score are ill-defined and being set to 0.0 in labels with no predicted samples. Use `zero_division` parameter to control this behavior.\n",
      "  _warn_prf(average, modifier, msg_start, len(result))\n",
      "/home/onscript/anaconda3/lib/python3.11/site-packages/sklearn/metrics/_classification.py:1469: UndefinedMetricWarning: Precision and F-score are ill-defined and being set to 0.0 in labels with no predicted samples. Use `zero_division` parameter to control this behavior.\n",
      "  _warn_prf(average, modifier, msg_start, len(result))\n",
      "/home/onscript/anaconda3/lib/python3.11/site-packages/sklearn/metrics/_classification.py:1469: UndefinedMetricWarning: Precision and F-score are ill-defined and being set to 0.0 in labels with no predicted samples. Use `zero_division` parameter to control this behavior.\n",
      "  _warn_prf(average, modifier, msg_start, len(result))\n"
     ]
    }
   ],
   "source": [
    "# CLASSIFICATION REPORT\n",
    "print(classification_report(y_test, dummy_pred))"
   ]
  },
  {
   "cell_type": "code",
   "execution_count": null,
   "id": "cfd4cf2b",
   "metadata": {},
   "outputs": [],
   "source": []
  },
  {
   "cell_type": "code",
   "execution_count": null,
   "id": "80192c5b",
   "metadata": {},
   "outputs": [],
   "source": [
    "\n"
   ]
  },
  {
   "cell_type": "code",
   "execution_count": null,
   "id": "a366600d",
   "metadata": {},
   "outputs": [],
   "source": []
  },
  {
   "cell_type": "code",
   "execution_count": null,
   "id": "674f3f1d",
   "metadata": {},
   "outputs": [],
   "source": []
  },
  {
   "cell_type": "code",
   "execution_count": null,
   "id": "fe18a6fe",
   "metadata": {},
   "outputs": [],
   "source": []
  },
  {
   "cell_type": "code",
   "execution_count": null,
   "id": "7bb26973",
   "metadata": {},
   "outputs": [],
   "source": []
  },
  {
   "cell_type": "code",
   "execution_count": null,
   "id": "5f7d9d84",
   "metadata": {},
   "outputs": [],
   "source": []
  },
  {
   "cell_type": "code",
   "execution_count": null,
   "id": "c19da289",
>>>>>>> origin/main
   "metadata": {},
   "outputs": [],
   "source": []
  },
  {
   "cell_type": "code",
   "execution_count": null,
   "id": "2ee2aa8f",
   "metadata": {},
   "outputs": [],
   "source": []
  },
  {
   "cell_type": "code",
   "execution_count": null,
   "id": "6c38e96f",
   "metadata": {},
   "outputs": [],
   "source": []
  },
  {
   "cell_type": "code",
   "execution_count": null,
   "id": "7644fc0c",
   "metadata": {},
   "outputs": [],
   "source": []
  },
  {
   "cell_type": "code",
   "execution_count": null,
   "id": "80220ae1",
   "metadata": {},
   "outputs": [],
   "source": []
  }
 ],
 "metadata": {
  "kernelspec": {
   "display_name": "Python 3 (ipykernel)",
   "language": "python",
   "name": "python3"
  },
  "language_info": {
   "codemirror_mode": {
    "name": "ipython",
    "version": 3
   },
   "file_extension": ".py",
   "mimetype": "text/x-python",
   "name": "python",
   "nbconvert_exporter": "python",
   "pygments_lexer": "ipython3",
   "version": "3.11.5"
<<<<<<< HEAD
  },
  "widgets": {
   "application/vnd.jupyter.widget-state+json": {
    "state": {},
    "version_major": 2,
    "version_minor": 0
   }
=======
>>>>>>> origin/main
  }
 },
 "nbformat": 4,
 "nbformat_minor": 5
}
