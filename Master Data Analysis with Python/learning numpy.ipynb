{
 "cells": [
  {
   "cell_type": "markdown",
   "id": "7dc2d0cc",
   "metadata": {},
   "source": [
    "### Numpy"
   ]
  },
  {
   "cell_type": "markdown",
   "id": "76e8536c",
   "metadata": {},
   "source": [
    "A python library that works woth array created by Travis Oliphant and stands for Numerical Python\n",
    "\n",
    "Numpy are faster than list due to the loclity of reference in computer science."
   ]
  },
  {
   "cell_type": "code",
   "execution_count": 1,
   "id": "505ba446",
   "metadata": {},
   "outputs": [],
   "source": [
    "#### import numpy\n",
    "import numpy as np"
   ]
  },
  {
   "cell_type": "code",
   "execution_count": 2,
   "id": "4e709cbd",
   "metadata": {},
   "outputs": [
    {
     "name": "stdout",
     "output_type": "stream",
     "text": [
      "[9 7 5 3 1]\n"
     ]
    }
   ],
   "source": [
    "# creating an array of numbers\n",
    "arr = np.array([9,7,5,3,1])\n",
    "print(arr)"
   ]
  },
  {
   "cell_type": "code",
   "execution_count": 3,
   "id": "b64d3988",
   "metadata": {},
   "outputs": [
    {
     "name": "stdout",
     "output_type": "stream",
     "text": [
      "[2 4 6 8 0]\n"
     ]
    }
   ],
   "source": [
    "# an array object in numpy is called ndarray\n",
    "# we pass a list,tuple,any array-object to array()\n",
    "arr = np.array((2,4,6,8,0))\n",
    "print(arr)"
   ]
  },
  {
   "cell_type": "code",
   "execution_count": 4,
   "id": "f07eb9a9",
   "metadata": {},
   "outputs": [
    {
     "data": {
      "text/plain": [
       "numpy.ndarray"
      ]
     },
     "execution_count": 4,
     "metadata": {},
     "output_type": "execute_result"
    }
   ],
   "source": [
    "type(arr)"
   ]
  },
  {
   "cell_type": "markdown",
   "id": "c1d6be50",
   "metadata": {},
   "source": [
    "#### dimensions in Arrays\n",
    "- these are nested arrays"
   ]
  },
  {
   "cell_type": "markdown",
   "id": "ac4a4f17",
   "metadata": {},
   "source": [
    "- 0-D Arrays\n",
    "\n",
    "Zero dimension array or scalar"
   ]
  },
  {
   "cell_type": "code",
   "execution_count": 5,
   "id": "2a9b4145",
   "metadata": {},
   "outputs": [
    {
     "name": "stdout",
     "output_type": "stream",
     "text": [
      "34\n"
     ]
    }
   ],
   "source": [
    "arr = np.array(34)\n",
    "print(arr)"
   ]
  },
  {
   "cell_type": "code",
   "execution_count": 6,
   "id": "aa16a5c8",
   "metadata": {},
   "outputs": [
    {
     "name": "stdout",
     "output_type": "stream",
     "text": [
      "25\n"
     ]
    }
   ],
   "source": [
    "age = np.array(25)\n",
    "print(age)"
   ]
  },
  {
   "cell_type": "markdown",
   "id": "fe46b4ad",
   "metadata": {},
   "source": [
    "- 1-D Arrays\n",
    "\n",
    "One dimension arrays or uni-dimensional"
   ]
  },
  {
   "cell_type": "code",
   "execution_count": 7,
   "id": "3b5fa029",
   "metadata": {},
   "outputs": [
    {
     "name": "stdout",
     "output_type": "stream",
     "text": [
      "[25 23 27 29 30]\n"
     ]
    }
   ],
   "source": [
    "ages = np.array([25,23,27,29,30])\n",
    "print(ages)"
   ]
  },
  {
   "cell_type": "code",
   "execution_count": 8,
   "id": "b5bca141",
   "metadata": {},
   "outputs": [
    {
     "name": "stdout",
     "output_type": "stream",
     "text": [
      "[123 122 100 123  98]\n"
     ]
    }
   ],
   "source": [
    "heights = np.array((123,122,100,123,98))\n",
    "print(heights)"
   ]
  },
  {
   "cell_type": "markdown",
   "id": "3c11f8ac",
   "metadata": {},
   "source": [
    "- 2-D arrays\n",
    "\n",
    "Often used to represent __matrix__ or 2nd order tensors"
   ]
  },
  {
   "cell_type": "code",
   "execution_count": 9,
   "id": "c9ed99ac",
   "metadata": {},
   "outputs": [
    {
     "name": "stdout",
     "output_type": "stream",
     "text": [
      "[[ 23  34  25  31]\n",
      " [123 200 192 128]]\n"
     ]
    }
   ],
   "source": [
    "health = np.array([[23,34,25,31],[123,200,192,128]])\n",
    "print(health)"
   ]
  },
  {
   "cell_type": "markdown",
   "id": "932c709f",
   "metadata": {},
   "source": [
    "- 3 D array\n",
    "\n",
    "3rd order tensor, an array having 2-D arrays as its element"
   ]
  },
  {
   "cell_type": "code",
   "execution_count": 10,
   "id": "10d88e96",
   "metadata": {},
   "outputs": [
    {
     "name": "stdout",
     "output_type": "stream",
     "text": [
      "[[[ 23  34  25  31]\n",
      "  [123 200 192 128]]\n",
      "\n",
      " [[ 50  60  70  80]\n",
      "  [ 99  88  77  66]]]\n"
     ]
    }
   ],
   "source": [
    "health_score = np.array([[[23,34,25,31],[123,200,192,128]],[[50,60,70,80],[99,88,77,66]]])\n",
    "print(health_score)"
   ]
  },
  {
   "cell_type": "code",
   "execution_count": 11,
   "id": "a9c2eecc",
   "metadata": {},
   "outputs": [],
   "source": [
    "#### checking the dimensions\n",
    "# ndim"
   ]
  },
  {
   "cell_type": "code",
   "execution_count": 12,
   "id": "91a1bc18",
   "metadata": {},
   "outputs": [
    {
     "name": "stdout",
     "output_type": "stream",
     "text": [
      "2\n"
     ]
    }
   ],
   "source": [
    "print(health.ndim)"
   ]
  },
  {
   "cell_type": "code",
   "execution_count": 13,
   "id": "8e0d6fc1",
   "metadata": {},
   "outputs": [
    {
     "name": "stdout",
     "output_type": "stream",
     "text": [
      "0\n"
     ]
    }
   ],
   "source": [
    "print(age.ndim)"
   ]
  },
  {
   "cell_type": "code",
   "execution_count": 14,
   "id": "311ad740",
   "metadata": {},
   "outputs": [
    {
     "name": "stdout",
     "output_type": "stream",
     "text": [
      "3\n"
     ]
    }
   ],
   "source": [
    "print(health_score.ndim)"
   ]
  },
  {
   "cell_type": "code",
   "execution_count": 15,
   "id": "89917adc",
   "metadata": {},
   "outputs": [],
   "source": [
    "# There are no limit to number of dimensions\n",
    "taste = np.array([11,22,33,44,55], ndmin=6)"
   ]
  },
  {
   "cell_type": "code",
   "execution_count": 16,
   "id": "2d1e9028",
   "metadata": {},
   "outputs": [
    {
     "name": "stdout",
     "output_type": "stream",
     "text": [
      "[[[[[[11 22 33 44 55]]]]]]\n"
     ]
    }
   ],
   "source": [
    "print(taste)"
   ]
  },
  {
   "cell_type": "code",
   "execution_count": 17,
   "id": "72e02f95",
   "metadata": {},
   "outputs": [
    {
     "name": "stdout",
     "output_type": "stream",
     "text": [
      "6\n"
     ]
    }
   ],
   "source": [
    "print(taste.ndim)"
   ]
  },
  {
   "cell_type": "markdown",
   "id": "e4a19ef5",
   "metadata": {},
   "source": [
    "#### Accesing array by indexing"
   ]
  },
  {
   "cell_type": "code",
   "execution_count": 37,
   "id": "cba74ba1",
   "metadata": {},
   "outputs": [
    {
     "name": "stdout",
     "output_type": "stream",
     "text": [
      "['Apples' 'Bananas' 'Oranges' 'Grapes' 'Berries' 'Melons' 'Carrots'\n",
      " 'Potatoes' 'Lettuce' 'Tomatoes' 'Cucumbers' 'Broccoli' 'Bread' 'Pasta'\n",
      " 'Rice' 'Cereal' 'Milk' 'Cheese' 'Yogurt' 'Butter' 'Beef' 'Chicken' 'Pork'\n",
      " 'Fish' 'Eggs' 'Nuts' 'Seeds' 'Sweets' 'Drinks']\n"
     ]
    }
   ],
   "source": [
    "# accessing a 1-D array\n",
    "meal_list = np.array([\"Apples\", \"Bananas\", \"Oranges\", \"Grapes\", \"Berries\", \"Melons\", \"Carrots\", \"Potatoes\", \"Lettuce\", \"Tomatoes\", \"Cucumbers\", \"Broccoli\", \"Bread\", \"Pasta\", \"Rice\", \"Cereal\", \"Milk\", \"Cheese\", \"Yogurt\", \"Butter\", \"Beef\", \"Chicken\", \"Pork\", \"Fish\", \"Eggs\", \"Nuts\", \"Seeds\", \"Sweets\", \"Drinks\"])\n",
    "print(meal_list)"
   ]
  },
  {
   "cell_type": "code",
   "execution_count": 38,
   "id": "e4dacb8e",
   "metadata": {},
   "outputs": [
    {
     "name": "stdout",
     "output_type": "stream",
     "text": [
      "1\n"
     ]
    }
   ],
   "source": [
    "print(meal_list.ndim)"
   ]
  },
  {
   "cell_type": "code",
   "execution_count": 31,
   "id": "e0fb54dc",
   "metadata": {},
   "outputs": [
    {
     "name": "stdout",
     "output_type": "stream",
     "text": [
      "Bananas\n"
     ]
    }
   ],
   "source": [
    "# accesing the second item in meal_list\n",
    "second_meal = meal_list[1]\n",
    "print(second_meal)"
   ]
  },
  {
   "cell_type": "code",
   "execution_count": 32,
   "id": "25f88256",
   "metadata": {},
   "outputs": [
    {
     "name": "stdout",
     "output_type": "stream",
     "text": [
      "Drinks\n"
     ]
    }
   ],
   "source": [
    "# accesing the last item in meal_list\n",
    "last_meal = meal_list[-1]\n",
    "print(last_meal)"
   ]
  },
  {
   "cell_type": "code",
   "execution_count": 33,
   "id": "abcf7bc4",
   "metadata": {},
   "outputs": [
    {
     "name": "stdout",
     "output_type": "stream",
     "text": [
      "Carrots\n"
     ]
    }
   ],
   "source": [
    "# accesing the 17th item in meal_list\n",
    "seven_meal = meal_list[6]\n",
    "print(seven_meal)"
   ]
  },
  {
   "cell_type": "code",
   "execution_count": 35,
   "id": "2d1bd5f4",
   "metadata": {},
   "outputs": [
    {
     "name": "stdout",
     "output_type": "stream",
     "text": [
      "[['product 1' 'product 2' 'product 3' 'product 4' 'product 5' 'product 6'\n",
      "  'product 7' 'product 8' 'product 9' 'product 10' 'product 11'\n",
      "  'product 12' 'product 13' 'product 14' 'product 15' 'product 16'\n",
      "  'product 17' 'product 18' 'product 19' 'product 20' 'product 21'\n",
      "  'product 22' 'product 23' 'product 24' 'product 25' 'product 26'\n",
      "  'product 27' 'product 28' 'product 29']\n",
      " ['Apples' 'Bananas' 'Oranges' 'Grapes' 'Berries' 'Melons' 'Carrots'\n",
      "  'Potatoes' 'Lettuce' 'Tomatoes' 'Cucumbers' 'Broccoli' 'Bread' 'Pasta'\n",
      "  'Rice' 'Cereal' 'Milk' 'Cheese' 'Yogurt' 'Butter' 'Beef' 'Chicken'\n",
      "  'Pork' 'Fish' 'Eggs' 'Nuts' 'Seeds' 'Sweets' 'Drinks']]\n"
     ]
    }
   ],
   "source": [
    "# accessing a 2-D array\n",
    "\n",
    "store_products = np.array(\n",
    "    [\n",
    "        ['product 1', 'product 2', 'product 3', 'product 4', 'product 5', 'product 6', 'product 7', 'product 8', 'product 9', 'product 10', 'product 11', 'product 12', 'product 13', 'product 14', 'product 15', 'product 16', 'product 17', 'product 18', 'product 19', 'product 20', 'product 21', 'product 22', 'product 23', 'product 24', 'product 25', 'product 26', 'product 27', 'product 28', 'product 29'],\n",
    "        [\"Apples\", \"Bananas\", \"Oranges\", \"Grapes\", \"Berries\", \"Melons\", \"Carrots\", \"Potatoes\", \"Lettuce\", \"Tomatoes\", \"Cucumbers\", \"Broccoli\", \"Bread\", \"Pasta\", \"Rice\", \"Cereal\", \"Milk\", \"Cheese\", \"Yogurt\", \"Butter\", \"Beef\", \"Chicken\", \"Pork\", \"Fish\", \"Eggs\", \"Nuts\", \"Seeds\", \"Sweets\", \"Drinks\"]\n",
    "    ]\n",
    ")\n",
    "\n",
    "print(store_products)"
   ]
  },
  {
   "cell_type": "code",
   "execution_count": 39,
   "id": "142276a7",
   "metadata": {},
   "outputs": [
    {
     "name": "stdout",
     "output_type": "stream",
     "text": [
      "2\n"
     ]
    }
   ],
   "source": [
    "print(store_products.ndim)"
   ]
  },
  {
   "cell_type": "code",
   "execution_count": 41,
   "id": "b49376f8",
   "metadata": {},
   "outputs": [
    {
     "name": "stdout",
     "output_type": "stream",
     "text": [
      "['product 1' 'product 2' 'product 3' 'product 4' 'product 5' 'product 6'\n",
      " 'product 7' 'product 8' 'product 9' 'product 10' 'product 11'\n",
      " 'product 12' 'product 13' 'product 14' 'product 15' 'product 16'\n",
      " 'product 17' 'product 18' 'product 19' 'product 20' 'product 21'\n",
      " 'product 22' 'product 23' 'product 24' 'product 25' 'product 26'\n",
      " 'product 27' 'product 28' 'product 29']\n"
     ]
    }
   ],
   "source": [
    "# accesing the first item in store_product\n",
    "print(store_products[0])"
   ]
  },
  {
   "cell_type": "code",
   "execution_count": 43,
   "id": "c40f116a",
   "metadata": {},
   "outputs": [
    {
     "name": "stdout",
     "output_type": "stream",
     "text": [
      "product 1\n"
     ]
    }
   ],
   "source": [
    "# what about the first item in the first item\n",
    "print(store_products[0][0])\n",
    "# the pattern of accessing items is preferably used in List but not ideally in numpy array"
   ]
  },
  {
   "cell_type": "code",
   "execution_count": 44,
   "id": "8d368cbf",
   "metadata": {},
   "outputs": [
    {
     "name": "stdout",
     "output_type": "stream",
     "text": [
      "product 1\n"
     ]
    }
   ],
   "source": [
    "# accessing the product 1 using numpy \n",
    "print(store_products[0,0])"
   ]
  },
  {
   "cell_type": "code",
   "execution_count": 67,
   "id": "252be4ba",
   "metadata": {},
   "outputs": [],
   "source": [
    "# creating a 7-D array\n",
    "\n",
    "seventh_dim = np.array(np.random.randint(10,100,10), ndmin=7)"
   ]
  },
  {
   "cell_type": "code",
   "execution_count": 68,
   "id": "66673730",
   "metadata": {},
   "outputs": [
    {
     "name": "stdout",
     "output_type": "stream",
     "text": [
      "[[[[[[[33 17 88 73 12 26 30 87 32 69]]]]]]]\n"
     ]
    }
   ],
   "source": [
    "print(seventh_dim)"
   ]
  },
  {
   "cell_type": "code",
   "execution_count": 69,
   "id": "9bc7283f",
   "metadata": {},
   "outputs": [
    {
     "name": "stdout",
     "output_type": "stream",
     "text": [
      "69\n"
     ]
    }
   ],
   "source": [
    "# accesing the last item using list\n",
    "last_item = seventh_dim[0][0][0][0][0][0][-1]\n",
    "print(last_item)"
   ]
  },
  {
   "cell_type": "code",
   "execution_count": 70,
   "id": "1a4d6c87",
   "metadata": {},
   "outputs": [
    {
     "name": "stdout",
     "output_type": "stream",
     "text": [
      "69\n"
     ]
    }
   ],
   "source": [
    "# using numpy\n",
    "last_item = seventh_dim[0,0,0,0,0,0,-1]\n",
    "print(last_item)"
   ]
  },
  {
   "cell_type": "markdown",
   "id": "0e8620b5",
   "metadata": {},
   "source": [
    "#### Slicing\n",
    "\n",
    "`arr[start:end:step,index]`"
   ]
  },
  {
   "cell_type": "markdown",
   "id": "269dde85",
   "metadata": {},
   "source": [
    "Slicing a 1-D array"
   ]
  },
  {
   "cell_type": "code",
   "execution_count": 71,
   "id": "77c79aef",
   "metadata": {},
   "outputs": [
    {
     "name": "stdout",
     "output_type": "stream",
     "text": [
      "['Apples' 'Bananas' 'Oranges' 'Grapes' 'Berries' 'Melons' 'Carrots'\n",
      " 'Potatoes' 'Lettuce' 'Tomatoes' 'Cucumbers' 'Broccoli' 'Bread' 'Pasta'\n",
      " 'Rice' 'Cereal' 'Milk' 'Cheese' 'Yogurt' 'Butter' 'Beef' 'Chicken' 'Pork'\n",
      " 'Fish' 'Eggs' 'Nuts' 'Seeds' 'Sweets' 'Drinks']\n"
     ]
    }
   ],
   "source": [
    "print(meal_list)"
   ]
  },
  {
   "cell_type": "code",
   "execution_count": 73,
   "id": "a36577fe",
   "metadata": {},
   "outputs": [
    {
     "data": {
      "text/plain": [
       "29"
      ]
     },
     "execution_count": 73,
     "metadata": {},
     "output_type": "execute_result"
    }
   ],
   "source": [
    "len(meal_list) # length of meal_list"
   ]
  },
  {
   "cell_type": "code",
   "execution_count": 75,
   "id": "23758463",
   "metadata": {},
   "outputs": [
    {
     "name": "stdout",
     "output_type": "stream",
     "text": [
      "['Apples' 'Bananas' 'Oranges' 'Grapes' 'Berries' 'Melons' 'Carrots'\n",
      " 'Potatoes' 'Lettuce' 'Tomatoes' 'Cucumbers' 'Broccoli' 'Bread' 'Pasta'\n",
      " 'Rice' 'Cereal' 'Milk' 'Cheese' 'Yogurt' 'Butter' 'Beef' 'Chicken' 'Pork'\n",
      " 'Fish' 'Eggs' 'Nuts' 'Seeds' 'Sweets' 'Drinks'] 29\n"
     ]
    }
   ],
   "source": [
    "# slice from begiinning to ending\n",
    "meal_1 = meal_list[:]\n",
    "print(meal_1)\n",
    "# by default, start = 0, end = ending"
   ]
  },
  {
   "cell_type": "code",
   "execution_count": 78,
   "id": "f5e8cc70",
   "metadata": {},
   "outputs": [
    {
     "name": "stdout",
     "output_type": "stream",
     "text": [
      "['Apples' 'Bananas' 'Oranges' 'Grapes' 'Berries' 'Melons' 'Carrots'\n",
      " 'Potatoes' 'Lettuce' 'Tomatoes' 'Cucumbers' 'Broccoli' 'Bread' 'Pasta'\n",
      " 'Rice' 'Cereal' 'Milk' 'Cheese' 'Yogurt' 'Butter' 'Beef' 'Chicken' 'Pork'\n",
      " 'Fish' 'Eggs' 'Nuts' 'Seeds' 'Sweets' 'Drinks']\n"
     ]
    }
   ],
   "source": [
    "print(meal_list[0:])"
   ]
  },
  {
   "cell_type": "code",
   "execution_count": 80,
   "id": "10ca1b91",
   "metadata": {},
   "outputs": [
    {
     "name": "stdout",
     "output_type": "stream",
     "text": [
      "['Apples' 'Bananas' 'Oranges' 'Grapes' 'Berries' 'Melons' 'Carrots'\n",
      " 'Potatoes' 'Lettuce' 'Tomatoes' 'Cucumbers' 'Broccoli' 'Bread' 'Pasta'\n",
      " 'Rice' 'Cereal' 'Milk' 'Cheese' 'Yogurt' 'Butter' 'Beef' 'Chicken' 'Pork'\n",
      " 'Fish' 'Eggs' 'Nuts' 'Seeds' 'Sweets']\n"
     ]
    }
   ],
   "source": [
    "print(meal_list[:-1])\n",
    "# last item was sliced out"
   ]
  },
  {
   "cell_type": "code",
   "execution_count": 85,
   "id": "bd2e7804",
   "metadata": {},
   "outputs": [
    {
     "name": "stdout",
     "output_type": "stream",
     "text": [
      "['Apples' 'Oranges' 'Berries' 'Carrots' 'Lettuce' 'Cucumbers' 'Bread'\n",
      " 'Rice' 'Milk' 'Yogurt' 'Beef' 'Pork' 'Eggs' 'Seeds' 'Drinks']\n"
     ]
    }
   ],
   "source": [
    "print(meal_list[::2])\n",
    "# be default step = 1, this returns the item after every two step"
   ]
  },
  {
   "cell_type": "markdown",
   "id": "53c7f4e5",
   "metadata": {},
   "source": [
    "Slicing a 2-D array"
   ]
  },
  {
   "cell_type": "code",
   "execution_count": 86,
   "id": "5a84e692",
   "metadata": {},
   "outputs": [
    {
     "name": "stdout",
     "output_type": "stream",
     "text": [
      "[['product 1' 'product 2' 'product 3' 'product 4' 'product 5' 'product 6'\n",
      "  'product 7' 'product 8' 'product 9' 'product 10' 'product 11'\n",
      "  'product 12' 'product 13' 'product 14' 'product 15' 'product 16'\n",
      "  'product 17' 'product 18' 'product 19' 'product 20' 'product 21'\n",
      "  'product 22' 'product 23' 'product 24' 'product 25' 'product 26'\n",
      "  'product 27' 'product 28' 'product 29']\n",
      " ['Apples' 'Bananas' 'Oranges' 'Grapes' 'Berries' 'Melons' 'Carrots'\n",
      "  'Potatoes' 'Lettuce' 'Tomatoes' 'Cucumbers' 'Broccoli' 'Bread' 'Pasta'\n",
      "  'Rice' 'Cereal' 'Milk' 'Cheese' 'Yogurt' 'Butter' 'Beef' 'Chicken'\n",
      "  'Pork' 'Fish' 'Eggs' 'Nuts' 'Seeds' 'Sweets' 'Drinks']]\n"
     ]
    }
   ],
   "source": [
    "print(store_products)"
   ]
  },
  {
   "cell_type": "code",
   "execution_count": 91,
   "id": "5a0bfb0c",
   "metadata": {},
   "outputs": [
    {
     "name": "stdout",
     "output_type": "stream",
     "text": [
      "['product 1' 'product 2' 'product 3' 'product 4' 'product 5']\n"
     ]
    }
   ],
   "source": [
    "# slicing the fisrt 5 item in the first list in the above 2-D array\n",
    "print(store_products[0,:5])"
   ]
  },
  {
   "cell_type": "code",
   "execution_count": 90,
   "id": "cff88e75",
   "metadata": {},
   "outputs": [
    {
     "name": "stdout",
     "output_type": "stream",
     "text": [
      "['Apples' 'Bananas' 'Oranges' 'Grapes' 'Berries']\n"
     ]
    }
   ],
   "source": [
    "# slicing the fisrt 5 item in the second list in the above 2-D array\n",
    "print(store_products[1,:5])"
   ]
  },
  {
   "cell_type": "code",
   "execution_count": 93,
   "id": "f50b060e",
   "metadata": {},
   "outputs": [
    {
     "name": "stdout",
     "output_type": "stream",
     "text": [
      "['product 2' 'Bananas']\n"
     ]
    }
   ],
   "source": [
    "# returning the second item in both list in the array\n",
    "print(store_products[:,1])"
   ]
  },
  {
   "cell_type": "code",
   "execution_count": 96,
   "id": "de8baf79",
   "metadata": {},
   "outputs": [
    {
     "name": "stdout",
     "output_type": "stream",
     "text": [
      "['product 2' 'Bananas']\n"
     ]
    }
   ],
   "source": [
    "# returning the second item in both list in the array\n",
    "print(store_products[0:,1])"
   ]
  },
  {
   "cell_type": "code",
   "execution_count": 98,
   "id": "61fe79fe",
   "metadata": {},
   "outputs": [
    {
     "name": "stdout",
     "output_type": "stream",
     "text": [
      "[['product 1' 'product 2' 'product 3' 'product 4' 'product 5' 'product 6'\n",
      "  'product 7' 'product 8' 'product 9' 'product 10' 'product 11'\n",
      "  'product 12' 'product 13' 'product 14' 'product 15' 'product 16'\n",
      "  'product 17' 'product 18' 'product 19' 'product 20' 'product 21'\n",
      "  'product 22' 'product 23' 'product 24' 'product 25' 'product 26'\n",
      "  'product 27' 'product 28' 'product 29']\n",
      " ['Apples' 'Bananas' 'Oranges' 'Grapes' 'Berries' 'Melons' 'Carrots'\n",
      "  'Potatoes' 'Lettuce' 'Tomatoes' 'Cucumbers' 'Broccoli' 'Bread' 'Pasta'\n",
      "  'Rice' 'Cereal' 'Milk' 'Cheese' 'Yogurt' 'Butter' 'Beef' 'Chicken'\n",
      "  'Pork' 'Fish' 'Eggs' 'Nuts' 'Seeds' 'Sweets' 'Drinks']]\n"
     ]
    }
   ],
   "source": [
    "print(store_products[:,:])"
   ]
  },
  {
   "cell_type": "code",
   "execution_count": null,
   "id": "997fe083",
   "metadata": {},
   "outputs": [],
   "source": []
  },
  {
   "cell_type": "markdown",
   "id": "a807fbbb",
   "metadata": {},
   "source": [
    "#### data types\n",
    "\n",
    "- i - integer\n",
    "- b - boolean\n",
    "- u - unsigned integer\n",
    "- f - float\n",
    "- c - complex float\n",
    "- m - timedelta\n",
    "- M - datetime\n",
    "- O - object\n",
    "- S - string\n",
    "- U - unicode string\n",
    "- V - fixed chunk of memory for other type ( void )\n",
    "\n",
    "We can check the data type of an array `dtype`"
   ]
  },
  {
   "cell_type": "code",
   "execution_count": 100,
   "id": "a19e83d0",
   "metadata": {},
   "outputs": [
    {
     "name": "stdout",
     "output_type": "stream",
     "text": [
      "['Apples' 'Bananas' 'Oranges' 'Grapes' 'Berries' 'Melons' 'Carrots'\n",
      " 'Potatoes' 'Lettuce' 'Tomatoes' 'Cucumbers' 'Broccoli' 'Bread' 'Pasta'\n",
      " 'Rice' 'Cereal' 'Milk' 'Cheese' 'Yogurt' 'Butter' 'Beef' 'Chicken' 'Pork'\n",
      " 'Fish' 'Eggs' 'Nuts' 'Seeds' 'Sweets' 'Drinks']\n"
     ]
    }
   ],
   "source": [
    "print(meal_list)"
   ]
  },
  {
   "cell_type": "code",
   "execution_count": 102,
   "id": "5ed06905",
   "metadata": {},
   "outputs": [
    {
     "name": "stdout",
     "output_type": "stream",
     "text": [
      "<U9\n"
     ]
    }
   ],
   "source": [
    "print(meal_list.dtype)"
   ]
  },
  {
   "cell_type": "code",
   "execution_count": 107,
   "id": "6ae47325",
   "metadata": {},
   "outputs": [
    {
     "name": "stdout",
     "output_type": "stream",
     "text": [
      "[123 122 100 123  98]\n"
     ]
    }
   ],
   "source": [
    "print(heights)"
   ]
  },
  {
   "cell_type": "code",
   "execution_count": 108,
   "id": "15bc9776",
   "metadata": {},
   "outputs": [
    {
     "name": "stdout",
     "output_type": "stream",
     "text": [
      "int64\n"
     ]
    }
   ],
   "source": [
    "print(heights.dtype)"
   ]
  }
 ],
 "metadata": {
  "kernelspec": {
   "display_name": "Python 3 (ipykernel)",
   "language": "python",
   "name": "python3"
  },
  "language_info": {
   "codemirror_mode": {
    "name": "ipython",
    "version": 3
   },
   "file_extension": ".py",
   "mimetype": "text/x-python",
   "name": "python",
   "nbconvert_exporter": "python",
   "pygments_lexer": "ipython3",
   "version": "3.11.5"
  }
 },
 "nbformat": 4,
 "nbformat_minor": 5
}
