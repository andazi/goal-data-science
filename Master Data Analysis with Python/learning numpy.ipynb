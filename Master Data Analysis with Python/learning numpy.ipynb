{
 "cells": [
  {
   "cell_type": "markdown",
   "id": "7dc2d0cc",
   "metadata": {},
   "source": [
    "### Numpy"
   ]
  },
  {
   "cell_type": "markdown",
   "id": "76e8536c",
   "metadata": {},
   "source": [
    "A python library that works woth array created by Travis Oliphant and stands for Numerical Python\n",
    "\n",
    "Numpy are faster than list due to the loclity of reference in computer science.\n",
    "\n",
    "All element in a numpy array are homogeneous while a list can have heteregeous elements\n",
    "\n",
    "\n",
    "----\n",
    "##### Array\n",
    "An array is a grid of values and contains raw data."
   ]
  },
  {
   "cell_type": "code",
   "execution_count": 1,
   "id": "505ba446",
   "metadata": {},
   "outputs": [],
   "source": [
    "#### import numpy\n",
    "import numpy as np"
   ]
  },
  {
   "cell_type": "code",
   "execution_count": 2,
   "id": "4e709cbd",
   "metadata": {},
   "outputs": [
    {
     "name": "stdout",
     "output_type": "stream",
     "text": [
      "[9 7 5 3 1]\n"
     ]
    }
   ],
   "source": [
    "# creating an array of numbers\n",
    "arr = np.array([9,7,5,3,1])\n",
    "print(arr)"
   ]
  },
  {
   "cell_type": "code",
   "execution_count": 3,
   "id": "b64d3988",
   "metadata": {},
   "outputs": [
    {
     "name": "stdout",
     "output_type": "stream",
     "text": [
      "[2 4 6 8 0]\n"
     ]
    }
   ],
   "source": [
    "# an array object in numpy is called ndarray\n",
    "# we pass a list,tuple,any array-object to array()\n",
    "arr = np.array((2,4,6,8,0))\n",
    "print(arr)"
   ]
  },
  {
   "cell_type": "code",
   "execution_count": 4,
   "id": "f07eb9a9",
   "metadata": {},
   "outputs": [
    {
     "data": {
      "text/plain": [
       "numpy.ndarray"
      ]
     },
     "execution_count": 4,
     "metadata": {},
     "output_type": "execute_result"
    }
   ],
   "source": [
    "type(arr)"
   ]
  },
  {
   "cell_type": "markdown",
   "id": "c1d6be50",
   "metadata": {},
   "source": [
    "#### dimensions in Arrays\n",
    "- these are nested arrays"
   ]
  },
  {
   "cell_type": "markdown",
   "id": "ac4a4f17",
   "metadata": {},
   "source": [
    "- 0-D Arrays\n",
    "\n",
    "Zero dimension array or scalar"
   ]
  },
  {
   "cell_type": "code",
   "execution_count": 5,
   "id": "2a9b4145",
   "metadata": {},
   "outputs": [
    {
     "name": "stdout",
     "output_type": "stream",
     "text": [
      "34\n"
     ]
    }
   ],
   "source": [
    "arr = np.array(34)\n",
    "print(arr)"
   ]
  },
  {
   "cell_type": "code",
   "execution_count": 6,
   "id": "aa16a5c8",
   "metadata": {},
   "outputs": [
    {
     "name": "stdout",
     "output_type": "stream",
     "text": [
      "25\n"
     ]
    }
   ],
   "source": [
    "age = np.array(25)\n",
    "print(age)"
   ]
  },
  {
   "cell_type": "markdown",
   "id": "fe46b4ad",
   "metadata": {},
   "source": [
    "- 1-D Arrays\n",
    "\n",
    "One dimension arrays or uni-dimensional"
   ]
  },
  {
   "cell_type": "code",
   "execution_count": 7,
   "id": "3b5fa029",
   "metadata": {},
   "outputs": [
    {
     "name": "stdout",
     "output_type": "stream",
     "text": [
      "[25 23 27 29 30]\n"
     ]
    }
   ],
   "source": [
    "ages = np.array([25,23,27,29,30])\n",
    "print(ages)"
   ]
  },
  {
   "cell_type": "code",
   "execution_count": 8,
   "id": "b5bca141",
   "metadata": {},
   "outputs": [
    {
     "name": "stdout",
     "output_type": "stream",
     "text": [
      "[123 122 100 123  98]\n"
     ]
    }
   ],
   "source": [
    "heights = np.array((123,122,100,123,98))\n",
    "print(heights)"
   ]
  },
  {
   "cell_type": "markdown",
   "id": "3c11f8ac",
   "metadata": {},
   "source": [
    "- 2-D arrays\n",
    "\n",
    "Often used to represent __matrix__ or 2nd order tensors"
   ]
  },
  {
   "cell_type": "code",
   "execution_count": 9,
   "id": "c9ed99ac",
   "metadata": {},
   "outputs": [
    {
     "name": "stdout",
     "output_type": "stream",
     "text": [
      "[[ 23  34  25  31]\n",
      " [123 200 192 128]]\n"
     ]
    }
   ],
   "source": [
    "health = np.array([[23,34,25,31],[123,200,192,128]])\n",
    "print(health)"
   ]
  },
  {
   "cell_type": "markdown",
   "id": "932c709f",
   "metadata": {},
   "source": [
    "- 3 D array\n",
    "\n",
    "3rd order tensor, an array having 2-D arrays as its element"
   ]
  },
  {
   "cell_type": "code",
   "execution_count": 10,
   "id": "10d88e96",
   "metadata": {},
   "outputs": [
    {
     "name": "stdout",
     "output_type": "stream",
     "text": [
      "[[[ 23  34  25  31]\n",
      "  [123 200 192 128]]\n",
      "\n",
      " [[ 50  60  70  80]\n",
      "  [ 99  88  77  66]]]\n"
     ]
    }
   ],
   "source": [
    "health_score = np.array([[[23,34,25,31],[123,200,192,128]],[[50,60,70,80],[99,88,77,66]]])\n",
    "print(health_score)"
   ]
  },
  {
   "cell_type": "code",
   "execution_count": 11,
   "id": "a9c2eecc",
   "metadata": {},
   "outputs": [],
   "source": [
    "#### checking the dimensions\n",
    "# ndim"
   ]
  },
  {
   "cell_type": "code",
   "execution_count": 12,
   "id": "91a1bc18",
   "metadata": {},
   "outputs": [
    {
     "name": "stdout",
     "output_type": "stream",
     "text": [
      "2\n"
     ]
    }
   ],
   "source": [
    "print(health.ndim)"
   ]
  },
  {
   "cell_type": "code",
   "execution_count": 13,
   "id": "8e0d6fc1",
   "metadata": {},
   "outputs": [
    {
     "name": "stdout",
     "output_type": "stream",
     "text": [
      "0\n"
     ]
    }
   ],
   "source": [
    "print(age.ndim)"
   ]
  },
  {
   "cell_type": "code",
   "execution_count": 14,
   "id": "311ad740",
   "metadata": {},
   "outputs": [
    {
     "name": "stdout",
     "output_type": "stream",
     "text": [
      "3\n"
     ]
    }
   ],
   "source": [
    "print(health_score.ndim)"
   ]
  },
  {
   "cell_type": "code",
   "execution_count": 15,
   "id": "89917adc",
   "metadata": {},
   "outputs": [],
   "source": [
    "# There are no limit to number of dimensions\n",
    "taste = np.array([11,22,33,44,55], ndmin=6)"
   ]
  },
  {
   "cell_type": "code",
   "execution_count": 16,
   "id": "2d1e9028",
   "metadata": {},
   "outputs": [
    {
     "name": "stdout",
     "output_type": "stream",
     "text": [
      "[[[[[[11 22 33 44 55]]]]]]\n"
     ]
    }
   ],
   "source": [
    "print(taste)"
   ]
  },
  {
   "cell_type": "code",
   "execution_count": 17,
   "id": "72e02f95",
   "metadata": {},
   "outputs": [
    {
     "name": "stdout",
     "output_type": "stream",
     "text": [
      "6\n"
     ]
    }
   ],
   "source": [
    "print(taste.ndim)"
   ]
  },
  {
   "cell_type": "markdown",
   "id": "a5da9232",
   "metadata": {},
   "source": [
    "#### Accesing array by indexing"
   ]
  },
  {
   "cell_type": "code",
   "execution_count": 37,
   "id": "c4b80511",
   "metadata": {},
   "outputs": [
    {
     "name": "stdout",
     "output_type": "stream",
     "text": [
      "['Apples' 'Bananas' 'Oranges' 'Grapes' 'Berries' 'Melons' 'Carrots'\n",
      " 'Potatoes' 'Lettuce' 'Tomatoes' 'Cucumbers' 'Broccoli' 'Bread' 'Pasta'\n",
      " 'Rice' 'Cereal' 'Milk' 'Cheese' 'Yogurt' 'Butter' 'Beef' 'Chicken' 'Pork'\n",
      " 'Fish' 'Eggs' 'Nuts' 'Seeds' 'Sweets' 'Drinks']\n"
     ]
    }
   ],
   "source": [
    "# accessing a 1-D array\n",
    "meal_list = np.array([\"Apples\", \"Bananas\", \"Oranges\", \"Grapes\", \"Berries\", \"Melons\", \"Carrots\", \"Potatoes\", \"Lettuce\", \"Tomatoes\", \"Cucumbers\", \"Broccoli\", \"Bread\", \"Pasta\", \"Rice\", \"Cereal\", \"Milk\", \"Cheese\", \"Yogurt\", \"Butter\", \"Beef\", \"Chicken\", \"Pork\", \"Fish\", \"Eggs\", \"Nuts\", \"Seeds\", \"Sweets\", \"Drinks\"])\n",
    "print(meal_list)"
   ]
  },
  {
   "cell_type": "code",
   "execution_count": 38,
   "id": "f700d371",
   "metadata": {},
   "outputs": [
    {
     "name": "stdout",
     "output_type": "stream",
     "text": [
      "1\n"
     ]
    }
   ],
   "source": [
    "print(meal_list.ndim)"
   ]
  },
  {
   "cell_type": "code",
   "execution_count": 31,
   "id": "6165751d",
   "metadata": {},
   "outputs": [
    {
     "name": "stdout",
     "output_type": "stream",
     "text": [
      "Bananas\n"
     ]
    }
   ],
   "source": [
    "# accesing the second item in meal_list\n",
    "second_meal = meal_list[1]\n",
    "print(second_meal)"
   ]
  },
  {
   "cell_type": "code",
   "execution_count": 32,
   "id": "1b101723",
   "metadata": {},
   "outputs": [
    {
     "name": "stdout",
     "output_type": "stream",
     "text": [
      "Drinks\n"
     ]
    }
   ],
   "source": [
    "# accesing the last item in meal_list\n",
    "last_meal = meal_list[-1]\n",
    "print(last_meal)"
   ]
  },
  {
   "cell_type": "code",
   "execution_count": 33,
   "id": "15e5b7c4",
   "metadata": {},
   "outputs": [
    {
     "name": "stdout",
     "output_type": "stream",
     "text": [
      "Carrots\n"
     ]
    }
   ],
   "source": [
    "# accesing the 17th item in meal_list\n",
    "seven_meal = meal_list[6]\n",
    "print(seven_meal)"
   ]
  },
  {
   "cell_type": "code",
   "execution_count": 35,
   "id": "ffd240bf",
   "metadata": {},
   "outputs": [
    {
     "name": "stdout",
     "output_type": "stream",
     "text": [
      "[['product 1' 'product 2' 'product 3' 'product 4' 'product 5' 'product 6'\n",
      "  'product 7' 'product 8' 'product 9' 'product 10' 'product 11'\n",
      "  'product 12' 'product 13' 'product 14' 'product 15' 'product 16'\n",
      "  'product 17' 'product 18' 'product 19' 'product 20' 'product 21'\n",
      "  'product 22' 'product 23' 'product 24' 'product 25' 'product 26'\n",
      "  'product 27' 'product 28' 'product 29']\n",
      " ['Apples' 'Bananas' 'Oranges' 'Grapes' 'Berries' 'Melons' 'Carrots'\n",
      "  'Potatoes' 'Lettuce' 'Tomatoes' 'Cucumbers' 'Broccoli' 'Bread' 'Pasta'\n",
      "  'Rice' 'Cereal' 'Milk' 'Cheese' 'Yogurt' 'Butter' 'Beef' 'Chicken'\n",
      "  'Pork' 'Fish' 'Eggs' 'Nuts' 'Seeds' 'Sweets' 'Drinks']]\n"
     ]
    }
   ],
   "source": [
    "# accessing a 2-D array\n",
    "\n",
    "store_products = np.array(\n",
    "    [\n",
    "        ['product 1', 'product 2', 'product 3', 'product 4', 'product 5', 'product 6', 'product 7', 'product 8', 'product 9', 'product 10', 'product 11', 'product 12', 'product 13', 'product 14', 'product 15', 'product 16', 'product 17', 'product 18', 'product 19', 'product 20', 'product 21', 'product 22', 'product 23', 'product 24', 'product 25', 'product 26', 'product 27', 'product 28', 'product 29'],\n",
    "        [\"Apples\", \"Bananas\", \"Oranges\", \"Grapes\", \"Berries\", \"Melons\", \"Carrots\", \"Potatoes\", \"Lettuce\", \"Tomatoes\", \"Cucumbers\", \"Broccoli\", \"Bread\", \"Pasta\", \"Rice\", \"Cereal\", \"Milk\", \"Cheese\", \"Yogurt\", \"Butter\", \"Beef\", \"Chicken\", \"Pork\", \"Fish\", \"Eggs\", \"Nuts\", \"Seeds\", \"Sweets\", \"Drinks\"]\n",
    "    ]\n",
    ")\n",
    "\n",
    "print(store_products)"
   ]
  },
  {
   "cell_type": "code",
   "execution_count": 39,
   "id": "a27c45bd",
   "metadata": {},
   "outputs": [
    {
     "name": "stdout",
     "output_type": "stream",
     "text": [
      "2\n"
     ]
    }
   ],
   "source": [
    "print(store_products.ndim)"
   ]
  },
  {
   "cell_type": "code",
   "execution_count": 41,
   "id": "5b1f3112",
   "metadata": {},
   "outputs": [
    {
     "name": "stdout",
     "output_type": "stream",
     "text": [
      "['product 1' 'product 2' 'product 3' 'product 4' 'product 5' 'product 6'\n",
      " 'product 7' 'product 8' 'product 9' 'product 10' 'product 11'\n",
      " 'product 12' 'product 13' 'product 14' 'product 15' 'product 16'\n",
      " 'product 17' 'product 18' 'product 19' 'product 20' 'product 21'\n",
      " 'product 22' 'product 23' 'product 24' 'product 25' 'product 26'\n",
      " 'product 27' 'product 28' 'product 29']\n"
     ]
    }
   ],
   "source": [
    "# accesing the first item in store_product\n",
    "print(store_products[0])"
   ]
  },
  {
   "cell_type": "code",
   "execution_count": 43,
   "id": "af044c74",
   "metadata": {},
   "outputs": [
    {
     "name": "stdout",
     "output_type": "stream",
     "text": [
      "product 1\n"
     ]
    }
   ],
   "source": [
    "# what about the first item in the first item\n",
    "print(store_products[0][0])\n",
    "# the pattern of accessing items is preferably used in List but not ideally in numpy array"
   ]
  },
  {
   "cell_type": "code",
   "execution_count": 44,
   "id": "a2a0e77a",
   "metadata": {},
   "outputs": [
    {
     "name": "stdout",
     "output_type": "stream",
     "text": [
      "product 1\n"
     ]
    }
   ],
   "source": [
    "# accessing the product 1 using numpy \n",
    "print(store_products[0,0])"
   ]
  },
  {
   "cell_type": "code",
   "execution_count": 67,
   "id": "f4d8b42a",
   "metadata": {},
   "outputs": [],
   "source": [
    "# creating a 7-D array\n",
    "\n",
    "seventh_dim = np.array(np.random.randint(10,100,10), ndmin=7)"
   ]
  },
  {
   "cell_type": "code",
   "execution_count": 68,
   "id": "12e3a3dd",
   "metadata": {},
   "outputs": [
    {
     "name": "stdout",
     "output_type": "stream",
     "text": [
      "[[[[[[[33 17 88 73 12 26 30 87 32 69]]]]]]]\n"
     ]
    }
   ],
   "source": [
    "print(seventh_dim)"
   ]
  },
  {
   "cell_type": "code",
   "execution_count": 69,
   "id": "078e7084",
   "metadata": {},
   "outputs": [
    {
     "name": "stdout",
     "output_type": "stream",
     "text": [
      "69\n"
     ]
    }
   ],
   "source": [
    "# accesing the last item using list\n",
    "last_item = seventh_dim[0][0][0][0][0][0][-1]\n",
    "print(last_item)"
   ]
  },
  {
   "cell_type": "code",
   "execution_count": 70,
   "id": "dc795d9c",
   "metadata": {},
   "outputs": [
    {
     "name": "stdout",
     "output_type": "stream",
     "text": [
      "69\n"
     ]
    }
   ],
   "source": [
    "# using numpy\n",
    "last_item = seventh_dim[0,0,0,0,0,0,-1]\n",
    "print(last_item)"
   ]
  },
  {
   "cell_type": "markdown",
   "id": "b36bbd49",
   "metadata": {},
   "source": [
    "#### Slicing\n",
    "\n",
    "`arr[start:end:step,index]`"
   ]
  },
  {
   "cell_type": "markdown",
   "id": "d89c033c",
   "metadata": {},
   "source": [
    "Slicing a 1-D array"
   ]
  },
  {
   "cell_type": "code",
   "execution_count": 71,
   "id": "6be92add",
   "metadata": {},
   "outputs": [
    {
     "name": "stdout",
     "output_type": "stream",
     "text": [
      "['Apples' 'Bananas' 'Oranges' 'Grapes' 'Berries' 'Melons' 'Carrots'\n",
      " 'Potatoes' 'Lettuce' 'Tomatoes' 'Cucumbers' 'Broccoli' 'Bread' 'Pasta'\n",
      " 'Rice' 'Cereal' 'Milk' 'Cheese' 'Yogurt' 'Butter' 'Beef' 'Chicken' 'Pork'\n",
      " 'Fish' 'Eggs' 'Nuts' 'Seeds' 'Sweets' 'Drinks']\n"
     ]
    }
   ],
   "source": [
    "print(meal_list)"
   ]
  },
  {
   "cell_type": "code",
   "execution_count": 73,
   "id": "3776829b",
   "metadata": {},
   "outputs": [
    {
     "data": {
      "text/plain": [
       "29"
      ]
     },
     "execution_count": 73,
     "metadata": {},
     "output_type": "execute_result"
    }
   ],
   "source": [
    "len(meal_list) # length of meal_list"
   ]
  },
  {
   "cell_type": "code",
   "execution_count": 75,
   "id": "e66bf0fe",
   "metadata": {},
   "outputs": [
    {
     "name": "stdout",
     "output_type": "stream",
     "text": [
      "['Apples' 'Bananas' 'Oranges' 'Grapes' 'Berries' 'Melons' 'Carrots'\n",
      " 'Potatoes' 'Lettuce' 'Tomatoes' 'Cucumbers' 'Broccoli' 'Bread' 'Pasta'\n",
      " 'Rice' 'Cereal' 'Milk' 'Cheese' 'Yogurt' 'Butter' 'Beef' 'Chicken' 'Pork'\n",
      " 'Fish' 'Eggs' 'Nuts' 'Seeds' 'Sweets' 'Drinks'] 29\n"
     ]
    }
   ],
   "source": [
    "# slice from begiinning to ending\n",
    "meal_1 = meal_list[:]\n",
    "print(meal_1)\n",
    "# by default, start = 0, end = ending"
   ]
  },
  {
   "cell_type": "code",
   "execution_count": 78,
   "id": "e3e4e8db",
   "metadata": {},
   "outputs": [
    {
     "name": "stdout",
     "output_type": "stream",
     "text": [
      "['Apples' 'Bananas' 'Oranges' 'Grapes' 'Berries' 'Melons' 'Carrots'\n",
      " 'Potatoes' 'Lettuce' 'Tomatoes' 'Cucumbers' 'Broccoli' 'Bread' 'Pasta'\n",
      " 'Rice' 'Cereal' 'Milk' 'Cheese' 'Yogurt' 'Butter' 'Beef' 'Chicken' 'Pork'\n",
      " 'Fish' 'Eggs' 'Nuts' 'Seeds' 'Sweets' 'Drinks']\n"
     ]
    }
   ],
   "source": [
    "print(meal_list[0:])"
   ]
  },
  {
   "cell_type": "code",
   "execution_count": 80,
   "id": "0920a00d",
   "metadata": {},
   "outputs": [
    {
     "name": "stdout",
     "output_type": "stream",
     "text": [
      "['Apples' 'Bananas' 'Oranges' 'Grapes' 'Berries' 'Melons' 'Carrots'\n",
      " 'Potatoes' 'Lettuce' 'Tomatoes' 'Cucumbers' 'Broccoli' 'Bread' 'Pasta'\n",
      " 'Rice' 'Cereal' 'Milk' 'Cheese' 'Yogurt' 'Butter' 'Beef' 'Chicken' 'Pork'\n",
      " 'Fish' 'Eggs' 'Nuts' 'Seeds' 'Sweets']\n"
     ]
    }
   ],
   "source": [
    "print(meal_list[:-1])\n",
    "# last item was sliced out"
   ]
  },
  {
   "cell_type": "code",
   "execution_count": 85,
   "id": "81b599d1",
   "metadata": {},
   "outputs": [
    {
     "name": "stdout",
     "output_type": "stream",
     "text": [
      "['Apples' 'Oranges' 'Berries' 'Carrots' 'Lettuce' 'Cucumbers' 'Bread'\n",
      " 'Rice' 'Milk' 'Yogurt' 'Beef' 'Pork' 'Eggs' 'Seeds' 'Drinks']\n"
     ]
    }
   ],
   "source": [
    "print(meal_list[::2])\n",
    "# be default step = 1, this returns the item after every two step"
   ]
  },
  {
   "cell_type": "markdown",
   "id": "06c5054b",
   "metadata": {},
   "source": [
    "Slicing a 2-D array"
   ]
  },
  {
   "cell_type": "code",
   "execution_count": 86,
   "id": "c71990c8",
   "metadata": {},
   "outputs": [
    {
     "name": "stdout",
     "output_type": "stream",
     "text": [
      "[['product 1' 'product 2' 'product 3' 'product 4' 'product 5' 'product 6'\n",
      "  'product 7' 'product 8' 'product 9' 'product 10' 'product 11'\n",
      "  'product 12' 'product 13' 'product 14' 'product 15' 'product 16'\n",
      "  'product 17' 'product 18' 'product 19' 'product 20' 'product 21'\n",
      "  'product 22' 'product 23' 'product 24' 'product 25' 'product 26'\n",
      "  'product 27' 'product 28' 'product 29']\n",
      " ['Apples' 'Bananas' 'Oranges' 'Grapes' 'Berries' 'Melons' 'Carrots'\n",
      "  'Potatoes' 'Lettuce' 'Tomatoes' 'Cucumbers' 'Broccoli' 'Bread' 'Pasta'\n",
      "  'Rice' 'Cereal' 'Milk' 'Cheese' 'Yogurt' 'Butter' 'Beef' 'Chicken'\n",
      "  'Pork' 'Fish' 'Eggs' 'Nuts' 'Seeds' 'Sweets' 'Drinks']]\n"
     ]
    }
   ],
   "source": [
    "print(store_products)"
   ]
  },
  {
   "cell_type": "code",
   "execution_count": 91,
   "id": "fb4081eb",
   "metadata": {},
   "outputs": [
    {
     "name": "stdout",
     "output_type": "stream",
     "text": [
      "['product 1' 'product 2' 'product 3' 'product 4' 'product 5']\n"
     ]
    }
   ],
   "source": [
    "# slicing the fisrt 5 item in the first list in the above 2-D array\n",
    "print(store_products[0,:5])"
   ]
  },
  {
   "cell_type": "code",
   "execution_count": 90,
   "id": "344a2dc7",
   "metadata": {},
   "outputs": [
    {
     "name": "stdout",
     "output_type": "stream",
     "text": [
      "['Apples' 'Bananas' 'Oranges' 'Grapes' 'Berries']\n"
     ]
    }
   ],
   "source": [
    "# slicing the fisrt 5 item in the second list in the above 2-D array\n",
    "print(store_products[1,:5])"
   ]
  },
  {
   "cell_type": "code",
   "execution_count": 93,
   "id": "94e87bda",
   "metadata": {},
   "outputs": [
    {
     "name": "stdout",
     "output_type": "stream",
     "text": [
      "['product 2' 'Bananas']\n"
     ]
    }
   ],
   "source": [
    "# returning the second item in both list in the array\n",
    "print(store_products[:,1])"
   ]
  },
  {
   "cell_type": "code",
   "execution_count": 96,
   "id": "f9abc9a0",
   "metadata": {},
   "outputs": [
    {
     "name": "stdout",
     "output_type": "stream",
     "text": [
      "['product 2' 'Bananas']\n"
     ]
    }
   ],
   "source": [
    "# returning the second item in both list in the array\n",
    "print(store_products[0:,1])"
   ]
  },
  {
   "cell_type": "code",
   "execution_count": 98,
   "id": "27b2d7bb",
   "metadata": {},
   "outputs": [
    {
     "name": "stdout",
     "output_type": "stream",
     "text": [
      "[['product 1' 'product 2' 'product 3' 'product 4' 'product 5' 'product 6'\n",
      "  'product 7' 'product 8' 'product 9' 'product 10' 'product 11'\n",
      "  'product 12' 'product 13' 'product 14' 'product 15' 'product 16'\n",
      "  'product 17' 'product 18' 'product 19' 'product 20' 'product 21'\n",
      "  'product 22' 'product 23' 'product 24' 'product 25' 'product 26'\n",
      "  'product 27' 'product 28' 'product 29']\n",
      " ['Apples' 'Bananas' 'Oranges' 'Grapes' 'Berries' 'Melons' 'Carrots'\n",
      "  'Potatoes' 'Lettuce' 'Tomatoes' 'Cucumbers' 'Broccoli' 'Bread' 'Pasta'\n",
      "  'Rice' 'Cereal' 'Milk' 'Cheese' 'Yogurt' 'Butter' 'Beef' 'Chicken'\n",
      "  'Pork' 'Fish' 'Eggs' 'Nuts' 'Seeds' 'Sweets' 'Drinks']]\n"
     ]
    }
   ],
   "source": [
    "print(store_products[:,:])"
   ]
  },
  {
   "cell_type": "code",
   "execution_count": null,
   "id": "2444c1c0",
   "metadata": {},
   "outputs": [],
   "source": []
  },
  {
   "cell_type": "markdown",
   "id": "908aa591",
   "metadata": {},
   "source": [
    "#### data types\n",
    "\n",
    "\n",
    " __Data Type\tand their Description__\n",
    "- i\tSigned integer\n",
    "- b\tBoolean (True or False)\n",
    "- u\tUnsigned integer\n",
    "- f\tFloating-point number\n",
    "- c\tComplex number (real and imaginary parts)\n",
    "- m\tTimedelta (representing a duration)\n",
    "- M\tDatetime (specific point in time)\n",
    "- O\tObject (can store any Python object)\n",
    "- S\tString (fixed-length sequence of characters)\n",
    "- U\tUnicode string (fixed-length sequence of Unicode characters)\n",
    "- V\tVoid (fixed-size raw memory buffer)"
   ]
  },
  {
   "cell_type": "code",
   "execution_count": 100,
   "id": "030b3844",
   "metadata": {},
   "outputs": [
    {
     "name": "stdout",
     "output_type": "stream",
     "text": [
      "['Apples' 'Bananas' 'Oranges' 'Grapes' 'Berries' 'Melons' 'Carrots'\n",
      " 'Potatoes' 'Lettuce' 'Tomatoes' 'Cucumbers' 'Broccoli' 'Bread' 'Pasta'\n",
      " 'Rice' 'Cereal' 'Milk' 'Cheese' 'Yogurt' 'Butter' 'Beef' 'Chicken' 'Pork'\n",
      " 'Fish' 'Eggs' 'Nuts' 'Seeds' 'Sweets' 'Drinks']\n"
     ]
    }
   ],
   "source": [
    "print(meal_list)"
   ]
  },
  {
   "cell_type": "code",
   "execution_count": 102,
   "id": "96048996",
   "metadata": {},
   "outputs": [
    {
     "name": "stdout",
     "output_type": "stream",
     "text": [
      "<U9\n"
     ]
    }
   ],
   "source": [
    "print(meal_list.dtype)"
   ]
  },
  {
   "cell_type": "code",
   "execution_count": 107,
   "id": "774b5e31",
   "metadata": {},
   "outputs": [
    {
     "name": "stdout",
     "output_type": "stream",
     "text": [
      "[123 122 100 123  98]\n"
     ]
    }
   ],
   "source": [
    "print(heights)"
   ]
  },
  {
   "cell_type": "code",
   "execution_count": 109,
   "id": "2111332a",
   "metadata": {},
   "outputs": [
    {
     "name": "stdout",
     "output_type": "stream",
     "text": [
      "int64\n"
     ]
    }
   ],
   "source": [
    "print(heights.dtype)"
   ]
  },
  {
   "cell_type": "code",
   "execution_count": 139,
   "id": "200ebe4e",
   "metadata": {},
   "outputs": [],
   "source": [
    "date = np.array(['2002-01-01', '2003-02-21'])"
   ]
  },
  {
   "cell_type": "code",
   "execution_count": 140,
   "id": "33d85185",
   "metadata": {},
   "outputs": [
    {
     "name": "stdout",
     "output_type": "stream",
     "text": [
      "<U10\n"
     ]
    }
   ],
   "source": [
    "print(date.dtype)"
   ]
  },
  {
   "cell_type": "markdown",
   "id": "abc537be",
   "metadata": {},
   "source": [
    "#### creating defined data type\n",
    "\n",
    "`dtype='V'`"
   ]
  },
  {
   "cell_type": "code",
   "execution_count": 143,
   "id": "e1f0f2ac",
   "metadata": {},
   "outputs": [],
   "source": [
    "# defining the array as a Datetime data type\n",
    "\n",
    "date = np.array(['2002-01-01', '2003-02-21'], dtype='M')"
   ]
  },
  {
   "cell_type": "code",
   "execution_count": 144,
   "id": "32c09715",
   "metadata": {},
   "outputs": [
    {
     "name": "stdout",
     "output_type": "stream",
     "text": [
      "datetime64[D]\n"
     ]
    }
   ],
   "source": [
    "print(date.dtype)"
   ]
  },
  {
   "cell_type": "markdown",
   "id": "7a63a851",
   "metadata": {},
   "source": [
    "#### we can define the size(byte) of some data type\n",
    "\n",
    "`i,u,f,S,U`\n",
    "\n",
    "`dtype='S10'`"
   ]
  },
  {
   "cell_type": "code",
   "execution_count": 147,
   "id": "b512f722",
   "metadata": {},
   "outputs": [],
   "source": [
    "fruit = np.array(['Carrots', 'Potatoes', 'Lettuce', 'Tomatoes'], dtype='S10')"
   ]
  },
  {
   "cell_type": "code",
   "execution_count": 148,
   "id": "d0b5d07f",
   "metadata": {},
   "outputs": [
    {
     "name": "stdout",
     "output_type": "stream",
     "text": [
      "[b'Carrots' b'Potatoes' b'Lettuce' b'Tomatoes']\n"
     ]
    }
   ],
   "source": [
    "print(fruit)"
   ]
  },
  {
   "cell_type": "code",
   "execution_count": 163,
   "id": "6c8894d6",
   "metadata": {},
   "outputs": [],
   "source": [
    "dice = np.array([1,2,3,4,5,6,7,8,9,0], dtype='i2')"
   ]
  },
  {
   "cell_type": "code",
   "execution_count": 164,
   "id": "ec4c7852",
   "metadata": {},
   "outputs": [
    {
     "name": "stdout",
     "output_type": "stream",
     "text": [
      "[1 2 3 4 5 6 7 8 9 0]\n"
     ]
    }
   ],
   "source": [
    "print(dice)"
   ]
  },
  {
   "cell_type": "code",
   "execution_count": 165,
   "id": "6140a489",
   "metadata": {},
   "outputs": [
    {
     "name": "stdout",
     "output_type": "stream",
     "text": [
      "int16\n"
     ]
    }
   ],
   "source": [
    "print(dice.dtype)"
   ]
  },
  {
   "cell_type": "code",
   "execution_count": 176,
   "id": "1654a792",
   "metadata": {},
   "outputs": [
    {
     "ename": "ValueError",
     "evalue": "invalid literal for int() with base 10: 'a'",
     "output_type": "error",
     "traceback": [
      "\u001b[0;31m---------------------------------------------------------------------------\u001b[0m",
      "\u001b[0;31mValueError\u001b[0m                                Traceback (most recent call last)",
      "Cell \u001b[0;32mIn[176], line 1\u001b[0m\n\u001b[0;32m----> 1\u001b[0m charr \u001b[38;5;241m=\u001b[39m np\u001b[38;5;241m.\u001b[39marray([\u001b[38;5;124m'\u001b[39m\u001b[38;5;124ma\u001b[39m\u001b[38;5;124m'\u001b[39m, \u001b[38;5;241m2\u001b[39m, \u001b[38;5;241m3\u001b[39m], dtype\u001b[38;5;241m=\u001b[39m\u001b[38;5;124m'\u001b[39m\u001b[38;5;124mi\u001b[39m\u001b[38;5;124m'\u001b[39m)\n",
      "\u001b[0;31mValueError\u001b[0m: invalid literal for int() with base 10: 'a'"
     ]
    }
   ],
   "source": [
    "charr = np.array(['a', 2, 3], dtype='i')\n",
    "# this returns an error when we try converting the datatype to 'i' (integer) due to the presence of 'STRING'"
   ]
  },
  {
   "cell_type": "code",
   "execution_count": 177,
   "id": "87c4715e",
   "metadata": {},
   "outputs": [
    {
     "name": "stdout",
     "output_type": "stream",
     "text": [
      "|S1\n"
     ]
    }
   ],
   "source": [
    "# we can convert integer to string but not the other way\n",
    "charr = np.array(['a', 2, 3], dtype='S')\n",
    "print(charr.dtype)"
   ]
  },
  {
   "cell_type": "code",
   "execution_count": null,
   "id": "3d3da668",
   "metadata": {},
   "outputs": [],
   "source": []
  },
  {
   "cell_type": "markdown",
   "id": "a0bb9e65",
   "metadata": {},
   "source": [
    "#### astype()\n",
    "\n",
    "- best way to change the data type of an existing array\n",
    "\n",
    "- Always ake a copy \n",
    "\n",
    "```\n",
    "arr = np.array([1,2,3,4,5])\n",
    "newarr = arr.astype('f')\n",
    "```"
   ]
  },
  {
   "cell_type": "code",
   "execution_count": 191,
   "id": "faf27296",
   "metadata": {},
   "outputs": [
    {
     "name": "stdout",
     "output_type": "stream",
     "text": [
      "[ 60  45  98 100 -56   0]\n",
      "int64\n"
     ]
    }
   ],
   "source": [
    "score = np.array([60,45,98,100,-56, 0])\n",
    "print(score)\n",
    "print(score.dtype)"
   ]
  },
  {
   "cell_type": "code",
   "execution_count": 192,
   "id": "cf0715be",
   "metadata": {},
   "outputs": [
    {
     "name": "stdout",
     "output_type": "stream",
     "text": [
      "[ 60.  45.  98. 100. -56.   0.]\n",
      "float32\n"
     ]
    }
   ],
   "source": [
    "# changing the data type to float\n",
    "new_score = score.astype('f')\n",
    "print(new_score)\n",
    "print(new_score.dtype)"
   ]
  },
  {
   "cell_type": "code",
   "execution_count": 193,
   "id": "f8cf2bb2",
   "metadata": {},
   "outputs": [
    {
     "name": "stdout",
     "output_type": "stream",
     "text": [
      "[ True  True  True  True  True False]\n",
      "bool\n"
     ]
    }
   ],
   "source": [
    "# try converting data type to boolean\n",
    "bool_score = score.astype(bool)\n",
    "print(bool_score)\n",
    "print(bool_score.dtype)\n",
    "# all numbers are TRUE but 0"
   ]
  },
  {
   "cell_type": "code",
   "execution_count": null,
   "id": "1d552471",
   "metadata": {},
   "outputs": [],
   "source": []
  },
  {
   "cell_type": "markdown",
   "id": "0066ac05",
   "metadata": {},
   "source": [
    "#### copy vs view\n",
    "\n",
    "Copy creates a new array and any data manipulation doesn't affect the original array\n",
    "\n",
    "View returns the original array and any manipulation affects the original array"
   ]
  },
  {
   "cell_type": "code",
   "execution_count": 214,
   "id": "8e167285",
   "metadata": {},
   "outputs": [],
   "source": [
    "# copy\n",
    "phone_brands = [\n",
    "    \"Samsung\",\n",
    "    \"Apple\",\n",
    "    \"Huawei\",\n",
    "    \"Sony\",\n",
    "    \"Nokia\",\n",
    "    \"Google\",\n",
    "    \"OnePlus\",\n",
    "    \"HTC\",\n",
    "    \"ASUS\"\n",
    "]\n",
    "phone_brands = np.array(phone_brands)"
   ]
  },
  {
   "cell_type": "code",
   "execution_count": 215,
   "id": "342b745b",
   "metadata": {},
   "outputs": [
    {
     "name": "stdout",
     "output_type": "stream",
     "text": [
      "['Samsung' 'Apple' 'Huawei' 'Sony' 'Nokia' 'Google' 'OnePlus' 'HTC' 'ASUS']\n"
     ]
    }
   ],
   "source": [
    "new_phones = phone_brands.copy()\n",
    "print(new_phones)"
   ]
  },
  {
   "cell_type": "code",
   "execution_count": 216,
   "id": "8dbf428c",
   "metadata": {},
   "outputs": [
    {
     "name": "stdout",
     "output_type": "stream",
     "text": [
      "['Samsung' 'Apple' 'Huawei' 'Sony' 'Nokia' 'Google' 'OnePlus' 'HTC' 'ASUS']\n",
      "['Samsung' 'Apple' 'Huawei' 'Sony' 'Nokia' 'Google' 'OnePlus' 'Vivo'\n",
      " 'ASUS']\n"
     ]
    }
   ],
   "source": [
    "# lets replace 'HTC' to 'Vivo'\n",
    "new_phones[7] = 'Vivo'\n",
    "print(phone_brands)\n",
    "print(new_phones)\n",
    "# the orignal array is not affected"
   ]
  },
  {
   "cell_type": "code",
   "execution_count": 223,
   "id": "39bd8f45",
   "metadata": {},
   "outputs": [],
   "source": [
    "# view\n",
    "colors = [\n",
    "    \"red\",  \n",
    "    \"orange\", \n",
    "    \"yellow\", \n",
    "    \"green\", \n",
    "    \"blue\", \n",
    "    \"indigo\",  \n",
    "    \"purple\", \n",
    "    \"pink\"\n",
    "]\n",
    "colors = np.array(colors)"
   ]
  },
  {
   "cell_type": "code",
   "execution_count": 224,
   "id": "552f3467",
   "metadata": {},
   "outputs": [
    {
     "name": "stdout",
     "output_type": "stream",
     "text": [
      "['red' 'orange' 'yellow' 'green' 'blue' 'indigo' 'purple' 'pink']\n"
     ]
    }
   ],
   "source": [
    "new_colors = colors.view()\n",
    "print(new_colors)"
   ]
  },
  {
   "cell_type": "code",
   "execution_count": 226,
   "id": "8bd2eea2",
   "metadata": {},
   "outputs": [
    {
     "name": "stdout",
     "output_type": "stream",
     "text": [
      "['red' 'orange' 'yellow' 'green' 'blue' 'indigo' 'purple' 'maroon']\n",
      "['red' 'orange' 'yellow' 'green' 'blue' 'indigo' 'purple' 'maroon']\n"
     ]
    }
   ],
   "source": [
    "# lets replace 'pink' to maroon\n",
    "new_colors[-1] = 'maroon'\n",
    "print(colors)\n",
    "print(new_colors)\n",
    "# both the new array and the original array has been affected"
   ]
  },
  {
   "cell_type": "markdown",
   "id": "ee82bfa5",
   "metadata": {},
   "source": [
    "__How do we know if an array owns its data?__\n",
    "\n",
    "copies owns their data, as any data manipulation to it does not affect the orignal data\n",
    "\n",
    "view does not own its data and any manipulation affects the orignal array\n",
    "\n",
    "calling the `base` attribute on an array returns __None__ if the array owns its data, else it returns the array"
   ]
  },
  {
   "cell_type": "code",
   "execution_count": 230,
   "id": "6c76527d",
   "metadata": {},
   "outputs": [
    {
     "name": "stdout",
     "output_type": "stream",
     "text": [
      "['red' 'orange' 'yellow' 'green' 'blue' 'indigo' 'purple' 'maroon']\n",
      "None\n"
     ]
    }
   ],
   "source": [
    "print(new_colors.base) # copy\n",
    "print(new_phones.base) # view"
   ]
  },
  {
   "cell_type": "code",
   "execution_count": null,
   "id": "bd75a845",
   "metadata": {},
   "outputs": [],
   "source": []
  },
  {
   "cell_type": "markdown",
   "id": "297b0660",
   "metadata": {},
   "source": [
    "#### Shape\n",
    "This returns a tuple showing the size of the array along size its dimension\n"
   ]
  },
  {
   "cell_type": "code",
   "execution_count": 298,
   "id": "9858799b",
   "metadata": {},
   "outputs": [
    {
     "name": "stdout",
     "output_type": "stream",
     "text": [
      "[[1 2 3 4]\n",
      " [5 6 7 8]]\n",
      "shape (2, 4)\n"
     ]
    }
   ],
   "source": [
    "arr = np.array([[1, 2, 3, 4], [5, 6, 7, 8]])\n",
    "print(arr)\n",
    "print('shape',arr.shape)"
   ]
  },
  {
   "cell_type": "code",
   "execution_count": 297,
   "id": "250a0178",
   "metadata": {},
   "outputs": [
    {
     "name": "stdout",
     "output_type": "stream",
     "text": [
      "[[1 2 3]\n",
      " [5 6 7]\n",
      " [6 7 8]\n",
      " [9 1 2]]\n",
      "shape (4, 3)\n"
     ]
    }
   ],
   "source": [
    "arr = np.array([[1,2,3],[5,6,7],[6,7,8],[9,1,2]])\n",
    "print(arr)\n",
    "print('shape', arr.shape)"
   ]
  },
  {
   "cell_type": "code",
   "execution_count": 300,
   "id": "e8ea234e",
   "metadata": {},
   "outputs": [
    {
     "name": "stdout",
     "output_type": "stream",
     "text": [
      "[-3.48455058 29.75033767 56.30315122 15.27172273 24.6762351 ]\n",
      "shape (5,)\n"
     ]
    }
   ],
   "source": [
    "arr = np.array(np.random.normal(10,20,5), ndmin=1)\n",
    "print(arr)\n",
    "print('shape', arr.shape)"
   ]
  },
  {
   "cell_type": "code",
   "execution_count": 303,
   "id": "e9685de8",
   "metadata": {},
   "outputs": [
    {
     "name": "stdout",
     "output_type": "stream",
     "text": [
      "[[[33.97490283 19.8717124  -0.12290764 -3.49690681 -6.31337058]]]\n",
      "shape (1, 1, 5)\n"
     ]
    }
   ],
   "source": [
    "arr = np.array(np.random.normal(10,20,5), ndmin=3)\n",
    "print(arr)\n",
    "print('shape', arr.shape)"
   ]
  },
  {
   "cell_type": "code",
   "execution_count": 309,
   "id": "d2028bfd",
   "metadata": {},
   "outputs": [
    {
     "name": "stdout",
     "output_type": "stream",
     "text": [
      "[[38.95324785  7.12600445]\n",
      " [48.57049425 29.78563091]\n",
      " [36.35906005 19.15735896]\n",
      " [-6.26322141  9.37084197]\n",
      " [11.17694376 48.99984103]]\n",
      "shape (5, 2)\n"
     ]
    }
   ],
   "source": [
    "arr = np.array([np.random.normal(10,20,2) for i in range(5)], ndmin=2)\n",
    "print(arr)\n",
    "print('shape', arr.shape)"
   ]
  },
  {
   "cell_type": "code",
   "execution_count": 325,
   "id": "9ba2ed03",
   "metadata": {},
   "outputs": [
    {
     "name": "stdout",
     "output_type": "stream",
     "text": [
      "[[[[[1 2 3 4]]]]]\n",
      "shape of array : (1, 1, 1, 1, 4)\n"
     ]
    }
   ],
   "source": [
    "arr = np.array([1, 2, 3, 4], ndmin=5)\n",
    "\n",
    "print(arr)\n",
    "print('shape of array :', arr.shape)"
   ]
  },
  {
   "cell_type": "markdown",
   "id": "a3ae4c9c",
   "metadata": {},
   "source": [
    "#### Reshape\n",
    "\n",
    "This is the changing of the shape of an array\n",
    "\n",
    "`reshape(row,columns,subarrays)`"
   ]
  },
  {
   "cell_type": "code",
   "execution_count": 352,
   "id": "bdc0785f",
   "metadata": {},
   "outputs": [],
   "source": [
    "arr = np.array([0,1,2,3,4,5,6,7,8,9])"
   ]
  },
  {
   "cell_type": "code",
   "execution_count": 353,
   "id": "ce687f7a",
   "metadata": {},
   "outputs": [
    {
     "name": "stdout",
     "output_type": "stream",
     "text": [
      "[0 1 2 3 4 5 6 7 8 9]\n",
      "(10,)\n"
     ]
    }
   ],
   "source": [
    "print(arr)\n",
    "print(arr.shape)"
   ]
  },
  {
   "cell_type": "code",
   "execution_count": 354,
   "id": "987df911",
   "metadata": {},
   "outputs": [],
   "source": [
    "# reshape\n",
    "newarr = arr.reshape(5,2)"
   ]
  },
  {
   "cell_type": "code",
   "execution_count": 355,
   "id": "b4caec56",
   "metadata": {},
   "outputs": [
    {
     "name": "stdout",
     "output_type": "stream",
     "text": [
      "[[0 1]\n",
      " [2 3]\n",
      " [4 5]\n",
      " [6 7]\n",
      " [8 9]]\n",
      "(5, 2)\n"
     ]
    }
   ],
   "source": [
    "print(newarr)\n",
    "print('array shape', newarr.shape)\n",
    "print('array dimension', newarr.ndim)"
   ]
  },
  {
   "cell_type": "code",
   "execution_count": 356,
   "id": "52b745be",
   "metadata": {},
   "outputs": [
    {
     "ename": "ValueError",
     "evalue": "cannot reshape array of size 10 into shape (3,2)",
     "output_type": "error",
     "traceback": [
      "\u001b[0;31m---------------------------------------------------------------------------\u001b[0m",
      "\u001b[0;31mValueError\u001b[0m                                Traceback (most recent call last)",
      "Cell \u001b[0;32mIn[356], line 2\u001b[0m\n\u001b[1;32m      1\u001b[0m \u001b[38;5;66;03m# note that you can only reshape it to fit\u001b[39;00m\n\u001b[0;32m----> 2\u001b[0m newarr \u001b[38;5;241m=\u001b[39m arr\u001b[38;5;241m.\u001b[39mreshape(\u001b[38;5;241m3\u001b[39m,\u001b[38;5;241m2\u001b[39m)\n",
      "\u001b[0;31mValueError\u001b[0m: cannot reshape array of size 10 into shape (3,2)"
     ]
    }
   ],
   "source": [
    "# note that you can only reshape it to fit\n",
    "newarr = arr.reshape(3,2)\n",
    "# this returns an error"
   ]
  },
  {
   "cell_type": "code",
   "execution_count": 357,
   "id": "093f5f2f",
   "metadata": {},
   "outputs": [],
   "source": [
    "newarr = arr.reshape(2,5) # 2-D array"
   ]
  },
  {
   "cell_type": "code",
   "execution_count": 358,
   "id": "79093124",
   "metadata": {},
   "outputs": [
    {
     "name": "stdout",
     "output_type": "stream",
     "text": [
      "[[0 1 2 3 4]\n",
      " [5 6 7 8 9]]\n"
     ]
    }
   ],
   "source": [
    "print(newarr)"
   ]
  },
  {
   "cell_type": "code",
   "execution_count": 360,
   "id": "36cd07f3",
   "metadata": {},
   "outputs": [],
   "source": [
    "arr = np.array([1, 2, 3, 4, 5, 6, 7, 8, 9, 10, 11, 12])"
   ]
  },
  {
   "cell_type": "code",
   "execution_count": 361,
   "id": "823dcf8c",
   "metadata": {},
   "outputs": [],
   "source": [
    "newarr = arr.reshape(2, 3, 2) # 3-D array\n",
    "# [ [  [][][]  ]    [  [][][]   ]   ]"
   ]
  },
  {
   "cell_type": "code",
   "execution_count": 362,
   "id": "7f436653",
   "metadata": {},
   "outputs": [
    {
     "name": "stdout",
     "output_type": "stream",
     "text": [
      "[[[ 1  2]\n",
      "  [ 3  4]\n",
      "  [ 5  6]]\n",
      "\n",
      " [[ 7  8]\n",
      "  [ 9 10]\n",
      "  [11 12]]]\n",
      "(2, 3, 2)\n"
     ]
    }
   ],
   "source": [
    "print(newarr)\n",
    "print('array shape', newarr.shape)\n",
    "print('array dimension', newarr.ndim)"
   ]
  },
  {
   "cell_type": "code",
   "execution_count": 378,
   "id": "d694ad9f",
   "metadata": {},
   "outputs": [],
   "source": [
    "arr = np.array([0, 1, 2, 3, 4, 5, 6, 7, 8, 9, 10, 11, 12, 13, 14, 15, 16, 17, 18, 19, 20, 21, 22, 23])"
   ]
  },
  {
   "cell_type": "code",
   "execution_count": 379,
   "id": "8f6f2d5b",
   "metadata": {},
   "outputs": [
    {
     "name": "stdout",
     "output_type": "stream",
     "text": [
      "[ 0  1  2  3  4  5  6  7  8  9 10 11 12 13 14 15 16 17 18 19 20 21 22 23]\n",
      "(24,)\n"
     ]
    }
   ],
   "source": [
    "print(arr)\n",
    "print(arr.shape)"
   ]
  },
  {
   "cell_type": "code",
   "execution_count": 380,
   "id": "a2d15769",
   "metadata": {},
   "outputs": [
    {
     "data": {
      "text/plain": [
       "array([[[ 0,  1],\n",
       "        [ 2,  3],\n",
       "        [ 4,  5],\n",
       "        [ 6,  7]],\n",
       "\n",
       "       [[ 8,  9],\n",
       "        [10, 11],\n",
       "        [12, 13],\n",
       "        [14, 15]],\n",
       "\n",
       "       [[16, 17],\n",
       "        [18, 19],\n",
       "        [20, 21],\n",
       "        [22, 23]]])"
      ]
     },
     "execution_count": 380,
     "metadata": {},
     "output_type": "execute_result"
    }
   ],
   "source": [
    "arr.reshape(3,4,2)"
   ]
  },
  {
   "cell_type": "code",
   "execution_count": 383,
   "id": "ec3ac479",
   "metadata": {},
   "outputs": [],
   "source": [
    "arr = np.array([0, 1, 2, 3, 4, 5, 6, 7, 8, 9, 10, 11, 12, 13, 14, 15, 16, 17, 18, 19, 20, 21, 22, 23, 24, 25, 26, 27, 28, 29, 30, 31])"
   ]
  },
  {
   "cell_type": "code",
   "execution_count": 384,
   "id": "8e93f46d",
   "metadata": {},
   "outputs": [
    {
     "ename": "ValueError",
     "evalue": "cannot reshape array of size 32 into shape (4,6,2)",
     "output_type": "error",
     "traceback": [
      "\u001b[0;31m---------------------------------------------------------------------------\u001b[0m",
      "\u001b[0;31mValueError\u001b[0m                                Traceback (most recent call last)",
      "Cell \u001b[0;32mIn[384], line 1\u001b[0m\n\u001b[0;32m----> 1\u001b[0m arr\u001b[38;5;241m.\u001b[39mreshape(\u001b[38;5;241m4\u001b[39m,\u001b[38;5;241m6\u001b[39m,\u001b[38;5;241m2\u001b[39m)\n",
      "\u001b[0;31mValueError\u001b[0m: cannot reshape array of size 32 into shape (4,6,2)"
     ]
    }
   ],
   "source": [
    "arr.reshape(4,6,2)"
   ]
  },
  {
   "cell_type": "code",
   "execution_count": 387,
   "id": "6de93d4f",
   "metadata": {},
   "outputs": [],
   "source": [
    "arr = np.array([0, 1, 2, 3, 4, 5, 6, 7, 8, 9, 10, 11, 12, 13, 14, 15, 16, 17, 18, 19, 20, 21, 22, 23, 24, 25, 26, 27, 28, 29, 30, 31, 32, 33, 34, 35, 36, 37, 38, 39, 40, 41, 42, 43, 44, 45, 46, 47, 48, 49, 50, 51, 52, 53, 54, 55, 56, 57, 58, 59, 60, 61, 62, 63, 64, 65, 66, 67, 68, 69, 70, 71, 72, 73, 74, 75, 76, 77, 78, 79, 80, 81, 82, 83, 84, 85, 86, 87, 88, 89, 90, 91, 92, 93, 94, 95, 96, 97, 98, 99, 100, 101, 102, 103, 104, 105, 106, 107, 108, 109, 110, 111, 112, 113, 114, 115, 116, 117, 118, 119, 120, 121, 122, 123, 124, 125, 126, 127, 128, 129, 130, 131, 132, 133, 134, 135, 136, 137, 138, 139, 140, 141, 142, 143, 144, 145, 146, 147, 148, 149, 150, 151, 152, 153, 154, 155, 156, 157, 158, 159, 160, 161, 162, 163, 164, 165, 166, 167, 168, 169, 170, 171, 172, 173, 174, 175, 176, 177, 178, 179, 180, 181, 182, 183, 184, 185, 186, 187, 188, 189, 190, 191])"
   ]
  },
  {
   "cell_type": "code",
   "execution_count": 389,
   "id": "b222d936",
   "metadata": {},
   "outputs": [
    {
     "name": "stdout",
     "output_type": "stream",
     "text": [
      "[  0   1   2   3   4   5   6   7   8   9  10  11  12  13  14  15  16  17\n",
      "  18  19  20  21  22  23  24  25  26  27  28  29  30  31  32  33  34  35\n",
      "  36  37  38  39  40  41  42  43  44  45  46  47  48  49  50  51  52  53\n",
      "  54  55  56  57  58  59  60  61  62  63  64  65  66  67  68  69  70  71\n",
      "  72  73  74  75  76  77  78  79  80  81  82  83  84  85  86  87  88  89\n",
      "  90  91  92  93  94  95  96  97  98  99 100 101 102 103 104 105 106 107\n",
      " 108 109 110 111 112 113 114 115 116 117 118 119 120 121 122 123 124 125\n",
      " 126 127 128 129 130 131 132 133 134 135 136 137 138 139 140 141 142 143\n",
      " 144 145 146 147 148 149 150 151 152 153 154 155 156 157 158 159 160 161\n",
      " 162 163 164 165 166 167 168 169 170 171 172 173 174 175 176 177 178 179\n",
      " 180 181 182 183 184 185 186 187 188 189 190 191]\n"
     ]
    }
   ],
   "source": [
    "print(arr)"
   ]
  },
  {
   "cell_type": "code",
   "execution_count": 391,
   "id": "c0900823",
   "metadata": {},
   "outputs": [],
   "source": [
    "newarr = arr.reshape(8,2,3,4)"
   ]
  },
  {
   "cell_type": "code",
   "execution_count": 392,
   "id": "f957ce8c",
   "metadata": {},
   "outputs": [
    {
     "name": "stdout",
     "output_type": "stream",
     "text": [
      "array shape (8, 2, 3, 4)\n",
      "array dimension 4\n"
     ]
    }
   ],
   "source": [
    "print('array shape', newarr.shape)\n",
    "print('array dimension', newarr.ndim)"
   ]
  },
  {
   "cell_type": "code",
   "execution_count": 385,
   "id": "1130bb83",
   "metadata": {},
   "outputs": [
    {
     "data": {
      "text/plain": [
       "192"
      ]
     },
     "execution_count": 385,
     "metadata": {},
     "output_type": "execute_result"
    }
   ],
   "source": [
    "8*2*3*4"
   ]
  },
  {
   "cell_type": "code",
   "execution_count": 386,
   "id": "80346174",
   "metadata": {},
   "outputs": [
    {
     "name": "stdout",
     "output_type": "stream",
     "text": [
      "[0, 1, 2, 3, 4, 5, 6, 7, 8, 9, 10, 11, 12, 13, 14, 15, 16, 17, 18, 19, 20, 21, 22, 23, 24, 25, 26, 27, 28, 29, 30, 31, 32, 33, 34, 35, 36, 37, 38, 39, 40, 41, 42, 43, 44, 45, 46, 47, 48, 49, 50, 51, 52, 53, 54, 55, 56, 57, 58, 59, 60, 61, 62, 63, 64, 65, 66, 67, 68, 69, 70, 71, 72, 73, 74, 75, 76, 77, 78, 79, 80, 81, 82, 83, 84, 85, 86, 87, 88, 89, 90, 91, 92, 93, 94, 95, 96, 97, 98, 99, 100, 101, 102, 103, 104, 105, 106, 107, 108, 109, 110, 111, 112, 113, 114, 115, 116, 117, 118, 119, 120, 121, 122, 123, 124, 125, 126, 127, 128, 129, 130, 131, 132, 133, 134, 135, 136, 137, 138, 139, 140, 141, 142, 143, 144, 145, 146, 147, 148, 149, 150, 151, 152, 153, 154, 155, 156, 157, 158, 159, 160, 161, 162, 163, 164, 165, 166, 167, 168, 169, 170, 171, 172, 173, 174, 175, 176, 177, 178, 179, 180, 181, 182, 183, 184, 185, 186, 187, 188, 189, 190, 191]\n"
     ]
    }
   ],
   "source": [
    "x = []\n",
    "for i in range(192):\n",
    "    x.append(i)\n",
    "print(x)"
   ]
  },
  {
   "cell_type": "code",
   "execution_count": null,
   "id": "76ce633d",
   "metadata": {},
   "outputs": [],
   "source": []
  },
  {
   "cell_type": "code",
   "execution_count": null,
   "id": "2ad7bde9",
   "metadata": {},
   "outputs": [],
   "source": []
  },
  {
   "cell_type": "code",
   "execution_count": null,
   "id": "35c0e3cc",
   "metadata": {},
   "outputs": [],
   "source": []
  },
  {
   "cell_type": "code",
   "execution_count": null,
   "id": "fa8fdf06",
   "metadata": {},
   "outputs": [],
   "source": []
  },
  {
   "cell_type": "code",
   "execution_count": null,
   "id": "60f1f133",
   "metadata": {},
   "outputs": [],
   "source": []
  },
  {
   "cell_type": "code",
   "execution_count": null,
   "id": "fdc8e8aa",
   "metadata": {},
   "outputs": [],
   "source": []
  },
  {
   "cell_type": "code",
   "execution_count": null,
   "id": "d2be5a7c",
   "metadata": {},
   "outputs": [],
   "source": []
  },
  {
   "cell_type": "code",
   "execution_count": null,
   "id": "f10d2e63",
   "metadata": {},
   "outputs": [],
   "source": []
  },
  {
   "cell_type": "code",
   "execution_count": null,
   "id": "42fdf94b",
   "metadata": {},
   "outputs": [],
   "source": []
  },
  {
   "cell_type": "code",
   "execution_count": null,
   "id": "1bfc9503",
   "metadata": {},
   "outputs": [],
   "source": []
  },
  {
   "cell_type": "code",
   "execution_count": null,
   "id": "1164b898",
   "metadata": {},
   "outputs": [],
   "source": []
  },
  {
   "cell_type": "code",
   "execution_count": null,
   "id": "c66d5271",
   "metadata": {},
   "outputs": [],
   "source": []
  }
 ],
 "metadata": {
  "kernelspec": {
   "display_name": "Python 3 (ipykernel)",
   "language": "python",
   "name": "python3"
  },
  "language_info": {
   "codemirror_mode": {
    "name": "ipython",
    "version": 3
   },
   "file_extension": ".py",
   "mimetype": "text/x-python",
   "name": "python",
   "nbconvert_exporter": "python",
   "pygments_lexer": "ipython3",
   "version": "3.11.5"
  }
 },
 "nbformat": 4,
 "nbformat_minor": 5
}
