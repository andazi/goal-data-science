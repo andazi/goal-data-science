{
 "cells": [
  {
   "cell_type": "markdown",
   "id": "7dc2d0cc",
   "metadata": {},
   "source": [
    "### Numpy"
   ]
  },
  {
   "cell_type": "markdown",
   "id": "76e8536c",
   "metadata": {},
   "source": [
    "Alinear algebraic python library that works woth array created by Travis Oliphant and stands for Numerical Python\n",
    "\n",
    "Numpy is a core library for scientific and engineering computation\n",
    "\n",
    "Numpy are faster than list due to the loclity of reference in computer science.\n",
    "\n",
    "All element in a numpy array are homogeneous while a list can have heteregeous elements\n",
    "\n",
    "\n",
    "----\n",
    "##### Array\n",
    "An array is a grid of values and contains raw data."
   ]
  },
  {
   "cell_type": "code",
   "execution_count": 1,
   "id": "505ba446",
   "metadata": {},
   "outputs": [],
   "source": [
    "#### import numpy\n",
    "import numpy as np"
   ]
  },
  {
   "cell_type": "code",
   "execution_count": 459,
   "id": "13a7ba7d",
   "metadata": {},
   "outputs": [],
   "source": [
    "num = [1,2,3,4,5,6,7,8,9,0]"
   ]
  },
  {
   "cell_type": "code",
   "execution_count": 460,
   "id": "0c1cc620",
   "metadata": {},
   "outputs": [
    {
     "name": "stdout",
     "output_type": "stream",
     "text": [
      "[1, 2, 3, 4, 5, 6, 7, 8, 9, 0]\n",
      "<class 'list'>\n"
     ]
    }
   ],
   "source": [
    "print(num)\n",
    "print(type(num))"
   ]
  },
  {
   "cell_type": "markdown",
   "id": "5d7c0e81",
   "metadata": {},
   "source": [
    "### creating an array\n",
    "__np.array()__ creates a numpy array from a list or tuple,"
   ]
  },
  {
   "cell_type": "code",
   "execution_count": 461,
   "id": "ee70fe4f",
   "metadata": {},
   "outputs": [],
   "source": [
    "# creating an array\n",
    "num_array = np.array(num)"
   ]
  },
  {
   "cell_type": "code",
   "execution_count": 462,
   "id": "96f53586",
   "metadata": {},
   "outputs": [
    {
     "name": "stdout",
     "output_type": "stream",
     "text": [
      "[1 2 3 4 5 6 7 8 9 0]\n",
      "<class 'numpy.ndarray'>\n"
     ]
    }
   ],
   "source": [
    "print(num_array)\n",
    "print(type(num_array))"
   ]
  },
  {
   "cell_type": "code",
   "execution_count": 3,
   "id": "b64d3988",
   "metadata": {},
   "outputs": [
    {
     "name": "stdout",
     "output_type": "stream",
     "text": [
      "[2 4 6 8 0]\n"
     ]
    }
   ],
   "source": [
    "# an array object in numpy is called ndarray\n",
    "# we pass a list,tuple,any array-object to array()\n",
    "arr = np.array((2,4,6,8,0))\n",
    "print(arr)"
   ]
  },
  {
   "cell_type": "code",
   "execution_count": 526,
   "id": "f07eb9a9",
   "metadata": {},
   "outputs": [
    {
     "name": "stdout",
     "output_type": "stream",
     "text": [
      "<class 'numpy.ndarray'>\n"
     ]
    }
   ],
   "source": [
    "print(type(arr))"
   ]
  },
  {
   "cell_type": "markdown",
   "id": "391d2eaa",
   "metadata": {},
   "source": [
    "#### np.arange(start,stop,step)\n",
    "\n",
    "np.arange => create a sequnce of of number based on the given parameter\n",
    "\n",
    "    start = the staarting number of the sequence\n",
    "    stop = optional, the ending number of a sequence\n",
    "    step = consecutive spacing or step s for the sequence"
   ]
  },
  {
   "cell_type": "code",
   "execution_count": 541,
   "id": "7aa57df3",
   "metadata": {},
   "outputs": [
    {
     "data": {
      "text/plain": [
       "array([ 0,  1,  2,  3,  4,  5,  6,  7,  8,  9, 10, 11, 12, 13, 14])"
      ]
     },
     "execution_count": 541,
     "metadata": {},
     "output_type": "execute_result"
    }
   ],
   "source": [
    "np.arange(15,)"
   ]
  },
  {
   "cell_type": "code",
   "execution_count": 540,
   "id": "4aac89ee",
   "metadata": {},
   "outputs": [
    {
     "name": "stdout",
     "output_type": "stream",
     "text": [
      "[ 1  2  3  4  5  6  7  8  9 10 11 12 13 14]\n"
     ]
    }
   ],
   "source": [
    "score = np.arange(1,15)\n",
    "print(score)"
   ]
  },
  {
   "cell_type": "code",
   "execution_count": 542,
   "id": "3c48abcb",
   "metadata": {},
   "outputs": [
    {
     "name": "stdout",
     "output_type": "stream",
     "text": [
      "[ 1  3  5  7  9 11 13]\n"
     ]
    }
   ],
   "source": [
    "odd_score = np.arange(1,15,2)\n",
    "print(odd_score)"
   ]
  },
  {
   "cell_type": "markdown",
   "id": "87c6cd47",
   "metadata": {},
   "source": [
    "#### creating an array filled with zeros, ones,eye"
   ]
  },
  {
   "cell_type": "markdown",
   "id": "47b1d242",
   "metadata": {},
   "source": [
    "__np.zeros()__\n",
    "\n",
    "Often use to initialize an array before filling them with data"
   ]
  },
  {
   "cell_type": "code",
   "execution_count": 563,
   "id": "940d797c",
   "metadata": {},
   "outputs": [
    {
     "name": "stdout",
     "output_type": "stream",
     "text": [
      "[0. 0. 0. 0. 0.]\n"
     ]
    }
   ],
   "source": [
    "# np.zeroes\n",
    "zero_one_dim = np.zeros(5)\n",
    "print(zero_one_dim)"
   ]
  },
  {
   "cell_type": "code",
   "execution_count": 579,
   "id": "8c1cd68c",
   "metadata": {},
   "outputs": [
    {
     "name": "stdout",
     "output_type": "stream",
     "text": [
      "[[0. 0.]\n",
      " [0. 0.]\n",
      " [0. 0.]\n",
      " [0. 0.]\n",
      " [0. 0.]]\n",
      "dimension: [0. 0. 0. 0. 0.]\n"
     ]
    }
   ],
   "source": [
    "zero_two_dim = np.zeros((5,2))\n",
    "print(zero_two_dim)\n",
    "print('dimension:',zero_one_dim)"
   ]
  },
  {
   "cell_type": "code",
   "execution_count": 561,
   "id": "2454ae64",
   "metadata": {},
   "outputs": [
    {
     "name": "stdout",
     "output_type": "stream",
     "text": [
      "[[0. 0. 0. 0. 0.]\n",
      " [0. 0. 0. 0. 0.]]\n"
     ]
    }
   ],
   "source": [
    "zero_two_dim = np.zeros((2,5))\n",
    "print(zero_two_dim)"
   ]
  },
  {
   "cell_type": "markdown",
   "id": "848c8679",
   "metadata": {},
   "source": [
    "#### ones\n",
    "\n",
    "To create arrays for comparison and scale other arrays"
   ]
  },
  {
   "cell_type": "code",
   "execution_count": 577,
   "id": "2c787bcd",
   "metadata": {},
   "outputs": [
    {
     "name": "stdout",
     "output_type": "stream",
     "text": [
      "[[1. 1.]\n",
      " [1. 1.]\n",
      " [1. 1.]\n",
      " [1. 1.]\n",
      " [1. 1.]]\n",
      "dimension 2\n"
     ]
    }
   ],
   "source": [
    "ones_two_dim = np.ones((5,2))\n",
    "print(ones_two_dim)\n",
    "print('dimension:',ones_two_dim.ndim)"
   ]
  },
  {
   "cell_type": "code",
   "execution_count": 578,
   "id": "e6c441ad",
   "metadata": {},
   "outputs": [
    {
     "name": "stdout",
     "output_type": "stream",
     "text": [
      "[[[1. 1. 1. 1. 1. 1. 1. 1. 1. 1.]\n",
      "  [1. 1. 1. 1. 1. 1. 1. 1. 1. 1.]]\n",
      "\n",
      " [[1. 1. 1. 1. 1. 1. 1. 1. 1. 1.]\n",
      "  [1. 1. 1. 1. 1. 1. 1. 1. 1. 1.]]\n",
      "\n",
      " [[1. 1. 1. 1. 1. 1. 1. 1. 1. 1.]\n",
      "  [1. 1. 1. 1. 1. 1. 1. 1. 1. 1.]]\n",
      "\n",
      " [[1. 1. 1. 1. 1. 1. 1. 1. 1. 1.]\n",
      "  [1. 1. 1. 1. 1. 1. 1. 1. 1. 1.]]\n",
      "\n",
      " [[1. 1. 1. 1. 1. 1. 1. 1. 1. 1.]\n",
      "  [1. 1. 1. 1. 1. 1. 1. 1. 1. 1.]]]\n",
      "dimension: 3\n"
     ]
    }
   ],
   "source": [
    "ones_three_dim = np.ones((5,2,10))\n",
    "print(ones_three_dim)\n",
    "print('dimension:',ones_three_dim.ndim)"
   ]
  },
  {
   "cell_type": "markdown",
   "id": "bd55bc8d",
   "metadata": {},
   "source": [
    "#### np.eye()\n",
    "\n",
    "np.eye(x) take in one argument wich most be a positive integer\n",
    "\n",
    "np.eye() creates a 2-D array\n",
    "\n",
    "An Identity matrix is a square matrix with ones on the diagomal and zeros on the others"
   ]
  },
  {
   "cell_type": "code",
   "execution_count": 602,
   "id": "f6a5b946",
   "metadata": {},
   "outputs": [
    {
     "data": {
      "text/plain": [
       "array([[1., 0., 0., 0., 0., 0.],\n",
       "       [0., 1., 0., 0., 0., 0.],\n",
       "       [0., 0., 1., 0., 0., 0.],\n",
       "       [0., 0., 0., 1., 0., 0.],\n",
       "       [0., 0., 0., 0., 1., 0.],\n",
       "       [0., 0., 0., 0., 0., 1.]])"
      ]
     },
     "execution_count": 602,
     "metadata": {},
     "output_type": "execute_result"
    }
   ],
   "source": [
    "np.eye(6)"
   ]
  },
  {
   "cell_type": "markdown",
   "id": "46412f85",
   "metadata": {},
   "source": [
    "#### np.linspace()\n",
    "\n",
    "`np.linspace(start,stop,num=50)`\n",
    "start and stop are a must while num is optional\n",
    "\n",
    "by defualt, num is 50\n",
    "\n",
    "This creates arrays with equally space numbers.\n",
    "\n",
    "Useful for scientific computing, data analysis and plotting"
   ]
  },
  {
   "cell_type": "code",
   "execution_count": 616,
   "id": "298f1a83",
   "metadata": {},
   "outputs": [
    {
     "name": "stdout",
     "output_type": "stream",
     "text": [
      "[0.         0.10204082 0.20408163 0.30612245 0.40816327 0.51020408\n",
      " 0.6122449  0.71428571 0.81632653 0.91836735 1.02040816 1.12244898\n",
      " 1.2244898  1.32653061 1.42857143 1.53061224 1.63265306 1.73469388\n",
      " 1.83673469 1.93877551 2.04081633 2.14285714 2.24489796 2.34693878\n",
      " 2.44897959 2.55102041 2.65306122 2.75510204 2.85714286 2.95918367\n",
      " 3.06122449 3.16326531 3.26530612 3.36734694 3.46938776 3.57142857\n",
      " 3.67346939 3.7755102  3.87755102 3.97959184 4.08163265 4.18367347\n",
      " 4.28571429 4.3877551  4.48979592 4.59183673 4.69387755 4.79591837\n",
      " 4.89795918 5.        ]\n",
      "\n",
      "\n",
      "length:  50\n"
     ]
    }
   ],
   "source": [
    "axis = np.linspace(0,5)\n",
    "print(axis)\n",
    "print('\\n\\nlength: ', len(axis))"
   ]
  },
  {
   "cell_type": "code",
   "execution_count": 617,
   "id": "c93a1d05",
   "metadata": {},
   "outputs": [
    {
     "name": "stdout",
     "output_type": "stream",
     "text": [
      "[0.         0.55555556 1.11111111 1.66666667 2.22222222 2.77777778\n",
      " 3.33333333 3.88888889 4.44444444 5.        ]\n",
      "\n",
      "\n",
      "length:  10\n"
     ]
    }
   ],
   "source": [
    "# i want 10 numbers only\n",
    "axis = np.linspace(0,5,10)\n",
    "print(axis)\n",
    "print('\\n\\nlength: ', len(axis))"
   ]
  },
  {
   "cell_type": "code",
   "execution_count": 620,
   "id": "488b24f9",
   "metadata": {},
   "outputs": [
    {
     "name": "stdout",
     "output_type": "stream",
     "text": [
      "[ 0.   2.5  5.   7.5 10. ]\n",
      "length:  5\n"
     ]
    }
   ],
   "source": [
    "axis = np.linspace(0,10,5)\n",
    "print(axis)\n",
    "print('length: ', len(axis))\n",
    "# you would observe that they are all evnenly soaced numbers"
   ]
  },
  {
   "cell_type": "markdown",
   "id": "8c11075c",
   "metadata": {},
   "source": [
    "#### np.random.rand()\n",
    "\n",
    "Creates an array of floating point numbers drawn from a uniform distribution over the interval 0 and 1.\n",
    "\n",
    "By default it takes in no argument and returns a single floating number (0-D array)\n",
    "\n",
    "it takes in the shape of the array you want\n",
    "\n",
    "Used in Monte Carlo simulations, statistical analysis, and random sampling."
   ]
  },
  {
   "cell_type": "code",
   "execution_count": 662,
   "id": "261438e7",
   "metadata": {},
   "outputs": [
    {
     "name": "stdout",
     "output_type": "stream",
     "text": [
      "0.2807585373953796\n"
     ]
    }
   ],
   "source": [
    "zero = np.random.rand() # 0-D array\n",
    "print(zero)"
   ]
  },
  {
   "cell_type": "code",
   "execution_count": 659,
   "id": "796ef06b",
   "metadata": {},
   "outputs": [
    {
     "name": "stdout",
     "output_type": "stream",
     "text": [
      "[0.2536712  0.86007743 0.30823084 0.5534162  0.19185015]\n",
      "Dimension:  1\n"
     ]
    }
   ],
   "source": [
    "one = np.random.rand(5) # 1-D array\n",
    "print(one)\n",
    "print('Dimension: ', one.ndim)"
   ]
  },
  {
   "cell_type": "code",
   "execution_count": 664,
   "id": "744f2c5f",
   "metadata": {},
   "outputs": [
    {
     "name": "stdout",
     "output_type": "stream",
     "text": [
      "[[0.69737022 0.30348864 0.57584878 0.87471783]\n",
      " [0.02091873 0.72404924 0.51375653 0.59510469]\n",
      " [0.80775573 0.06016164 0.98287409 0.6040349 ]\n",
      " [0.6544328  0.54990208 0.09334567 0.33576806]\n",
      " [0.64201673 0.90562303 0.57412514 0.56672039]]\n",
      "Dimension:  2\n"
     ]
    }
   ],
   "source": [
    "two = np.random.rand(5,4) # 2-D array\n",
    "print(two)\n",
    "print('Dimension: ', two.ndim)"
   ]
  },
  {
   "cell_type": "code",
   "execution_count": 665,
   "id": "55bdd081",
   "metadata": {},
   "outputs": [
    {
     "name": "stdout",
     "output_type": "stream",
     "text": [
      "[[[0.6343534  0.18452056 0.44378254 0.13221345]\n",
      "  [0.72990394 0.44480323 0.89534655 0.49876738]\n",
      "  [0.50791851 0.75296167 0.88309405 0.19032165]]\n",
      "\n",
      " [[0.40601819 0.70751679 0.63670414 0.08929978]\n",
      "  [0.61936264 0.26875279 0.14378367 0.03734884]\n",
      "  [0.15114883 0.87356464 0.01083651 0.90723963]]]\n",
      "Dimension:  3\n"
     ]
    }
   ],
   "source": [
    "three = np.random.rand(2,3,4) # 3-D array\n",
    "print(three)\n",
    "print('Dimension: ', three.ndim)"
   ]
  },
  {
   "cell_type": "code",
   "execution_count": 666,
   "id": "95894573",
   "metadata": {
    "collapsed": true
   },
   "outputs": [
    {
     "name": "stdout",
     "output_type": "stream",
     "text": [
      "[[[[0.28114306 0.76529621]\n",
      "   [0.75973863 0.62422806]\n",
      "   [0.73620699 0.12906164]\n",
      "   [0.15633801 0.51858941]]\n",
      "\n",
      "  [[0.35415601 0.7326499 ]\n",
      "   [0.99769359 0.64982791]\n",
      "   [0.72168887 0.79684538]\n",
      "   [0.08218649 0.59830091]]\n",
      "\n",
      "  [[0.96185751 0.7593719 ]\n",
      "   [0.52419873 0.50457659]\n",
      "   [0.54296936 0.7291153 ]\n",
      "   [0.89491404 0.14526391]]]\n",
      "\n",
      "\n",
      " [[[0.28456093 0.20101451]\n",
      "   [0.18184379 0.86630754]\n",
      "   [0.53367324 0.25011042]\n",
      "   [0.01615413 0.00234943]]\n",
      "\n",
      "  [[0.82410981 0.0323201 ]\n",
      "   [0.08050329 0.90839981]\n",
      "   [0.63798531 0.8594926 ]\n",
      "   [0.83411743 0.94762505]]\n",
      "\n",
      "  [[0.93426346 0.52169852]\n",
      "   [0.58124223 0.16131529]\n",
      "   [0.50748551 0.3143802 ]\n",
      "   [0.90510485 0.77745625]]]]\n",
      "Dimension:  4\n"
     ]
    }
   ],
   "source": [
    "four = np.random.rand(2,3,4,2) # 4-D array\n",
    "print(four)\n",
    "print('Dimension: ', four.ndim)"
   ]
  },
  {
   "cell_type": "markdown",
   "id": "6716eb09",
   "metadata": {},
   "source": [
    "#### np.random.randn()\n",
    "\n",
    "creates an array of random flaoting point numbers drawn from a standard normal distribution which has a mean of 0 and variance of 1\n",
    "\n",
    "Commonly used in Monte Carlo simulation, statiscal analysis and machine learning"
   ]
  },
  {
   "cell_type": "code",
   "execution_count": 668,
   "id": "db9d9499",
   "metadata": {},
   "outputs": [
    {
     "name": "stdout",
     "output_type": "stream",
     "text": [
      "2.6357984447158267\n"
     ]
    }
   ],
   "source": [
    "zero = np.random.randn()\n",
    "print(zero)"
   ]
  },
  {
   "cell_type": "code",
   "execution_count": 671,
   "id": "827b7b90",
   "metadata": {},
   "outputs": [
    {
     "name": "stdout",
     "output_type": "stream",
     "text": [
      "[[ 0.86417173  1.27932437  1.12034666 -0.89422205  1.59274491]\n",
      " [ 0.38406452  0.05430758 -0.37691042 -0.35080116  0.63079379]\n",
      " [ 1.75701735  1.4169813   0.61292102 -0.22773805 -0.57882516]]\n"
     ]
    }
   ],
   "source": [
    "two = np.random.randn(3,5)\n",
    "print(two)"
   ]
  },
  {
   "cell_type": "code",
   "execution_count": 674,
   "id": "87309825",
   "metadata": {},
   "outputs": [
    {
     "name": "stdout",
     "output_type": "stream",
     "text": [
      "[[[-0.27197457  0.42153723  0.17345015]\n",
      "  [-0.07116236  1.63905782  0.34716461]\n",
      "  [-0.32486266  1.1559995  -0.97688637]\n",
      "  [-0.52679471  0.53227098  0.91939182]\n",
      "  [-2.11369122 -0.55017872  1.49181596]]\n",
      "\n",
      " [[-0.02555401 -0.39278805 -0.61236147]\n",
      "  [ 0.90184911 -0.38958181 -0.84304676]\n",
      "  [-0.748892   -0.02989024 -2.24924849]\n",
      "  [-1.2002714   1.24457297 -0.5992258 ]\n",
      "  [-0.93548405  1.24765419 -0.36872286]]]\n"
     ]
    }
   ],
   "source": [
    "three = np.random.randn(2,5,3)\n",
    "print(three)"
   ]
  },
  {
   "cell_type": "markdown",
   "id": "ad5812db",
   "metadata": {},
   "source": [
    "#### np.random.randint()\n",
    "\n",
    "Creates an array of discrete numbers from a givren range parameter.\n",
    "\n",
    "`np.random(low=0,high,size=option)`\n",
    "\n",
    "commonly used in  Monte Carlo simulations, data randomization, and cryptographic applications"
   ]
  },
  {
   "cell_type": "code",
   "execution_count": 726,
   "id": "33f77cd3",
   "metadata": {},
   "outputs": [
    {
     "name": "stdout",
     "output_type": "stream",
     "text": [
      "7\n"
     ]
    }
   ],
   "source": [
    "age = np.random.randint(10)\n",
    "print(age)"
   ]
  },
  {
   "cell_type": "code",
   "execution_count": 730,
   "id": "494a526a",
   "metadata": {},
   "outputs": [
    {
     "name": "stdout",
     "output_type": "stream",
     "text": [
      "3\n"
     ]
    }
   ],
   "source": [
    "ages = np.random.randint(0,10)\n",
    "print(ages)"
   ]
  },
  {
   "cell_type": "code",
   "execution_count": 739,
   "id": "9240b7be",
   "metadata": {},
   "outputs": [
    {
     "name": "stdout",
     "output_type": "stream",
     "text": [
      "[2 1 0 9 8]\n"
     ]
    }
   ],
   "source": [
    "# need an array of 5 ages\n",
    "ages = np.random.randint(0,10,5)\n",
    "print(ages)"
   ]
  },
  {
   "cell_type": "markdown",
   "id": "c1d6be50",
   "metadata": {},
   "source": [
    "#### dimensions in Arrays\n",
    "- these are nested arrays"
   ]
  },
  {
   "cell_type": "markdown",
   "id": "ac4a4f17",
   "metadata": {},
   "source": [
    "- 0-D Arrays\n",
    "\n",
    "Zero dimension array or scalar"
   ]
  },
  {
   "cell_type": "code",
   "execution_count": 5,
   "id": "2a9b4145",
   "metadata": {},
   "outputs": [
    {
     "name": "stdout",
     "output_type": "stream",
     "text": [
      "34\n"
     ]
    }
   ],
   "source": [
    "arr = np.array(34)\n",
    "print(arr)"
   ]
  },
  {
   "cell_type": "code",
   "execution_count": 6,
   "id": "aa16a5c8",
   "metadata": {},
   "outputs": [
    {
     "name": "stdout",
     "output_type": "stream",
     "text": [
      "25\n"
     ]
    }
   ],
   "source": [
    "age = np.array(25)\n",
    "print(age)"
   ]
  },
  {
   "cell_type": "markdown",
   "id": "fe46b4ad",
   "metadata": {},
   "source": [
    "- 1-D Arrays\n",
    "\n",
    "One dimension arrays or uni-dimensional"
   ]
  },
  {
   "cell_type": "code",
   "execution_count": 7,
   "id": "3b5fa029",
   "metadata": {},
   "outputs": [
    {
     "name": "stdout",
     "output_type": "stream",
     "text": [
      "[25 23 27 29 30]\n"
     ]
    }
   ],
   "source": [
    "ages = np.array([25,23,27,29,30])\n",
    "print(ages)"
   ]
  },
  {
   "cell_type": "code",
   "execution_count": 8,
   "id": "b5bca141",
   "metadata": {},
   "outputs": [
    {
     "name": "stdout",
     "output_type": "stream",
     "text": [
      "[123 122 100 123  98]\n"
     ]
    }
   ],
   "source": [
    "heights = np.array((123,122,100,123,98))\n",
    "print(heights)"
   ]
  },
  {
   "cell_type": "markdown",
   "id": "3c11f8ac",
   "metadata": {},
   "source": [
    "- 2-D arrays\n",
    "\n",
    "Often used to represent __matrix__ or 2nd order tensors"
   ]
  },
  {
   "cell_type": "code",
   "execution_count": 9,
   "id": "c9ed99ac",
   "metadata": {},
   "outputs": [
    {
     "name": "stdout",
     "output_type": "stream",
     "text": [
      "[[ 23  34  25  31]\n",
      " [123 200 192 128]]\n"
     ]
    }
   ],
   "source": [
    "health = np.array([[23,34,25,31],[123,200,192,128]])\n",
    "print(health)"
   ]
  },
  {
   "cell_type": "markdown",
   "id": "932c709f",
   "metadata": {},
   "source": [
    "- 3 D array\n",
    "\n",
    "3rd order tensor, an array having 2-D arrays as its element"
   ]
  },
  {
   "cell_type": "code",
   "execution_count": 10,
   "id": "10d88e96",
   "metadata": {},
   "outputs": [
    {
     "name": "stdout",
     "output_type": "stream",
     "text": [
      "[[[ 23  34  25  31]\n",
      "  [123 200 192 128]]\n",
      "\n",
      " [[ 50  60  70  80]\n",
      "  [ 99  88  77  66]]]\n"
     ]
    }
   ],
   "source": [
    "health_score = np.array([[[23,34,25,31],[123,200,192,128]],[[50,60,70,80],[99,88,77,66]]])\n",
    "print(health_score)"
   ]
  },
  {
   "cell_type": "code",
   "execution_count": 11,
   "id": "a9c2eecc",
   "metadata": {},
   "outputs": [],
   "source": [
    "#### checking the dimensions\n",
    "# ndim"
   ]
  },
  {
   "cell_type": "code",
   "execution_count": 12,
   "id": "91a1bc18",
   "metadata": {},
   "outputs": [
    {
     "name": "stdout",
     "output_type": "stream",
     "text": [
      "2\n"
     ]
    }
   ],
   "source": [
    "print(health.ndim)"
   ]
  },
  {
   "cell_type": "code",
   "execution_count": 13,
   "id": "8e0d6fc1",
   "metadata": {},
   "outputs": [
    {
     "name": "stdout",
     "output_type": "stream",
     "text": [
      "0\n"
     ]
    }
   ],
   "source": [
    "print(age.ndim)"
   ]
  },
  {
   "cell_type": "code",
   "execution_count": 14,
   "id": "311ad740",
   "metadata": {},
   "outputs": [
    {
     "name": "stdout",
     "output_type": "stream",
     "text": [
      "3\n"
     ]
    }
   ],
   "source": [
    "print(health_score.ndim)"
   ]
  },
  {
   "cell_type": "code",
   "execution_count": 15,
   "id": "89917adc",
   "metadata": {},
   "outputs": [],
   "source": [
    "# There are no limit to number of dimensions\n",
    "taste = np.array([11,22,33,44,55], ndmin=6)"
   ]
  },
  {
   "cell_type": "code",
   "execution_count": 16,
   "id": "2d1e9028",
   "metadata": {},
   "outputs": [
    {
     "name": "stdout",
     "output_type": "stream",
     "text": [
      "[[[[[[11 22 33 44 55]]]]]]\n"
     ]
    }
   ],
   "source": [
    "print(taste)"
   ]
  },
  {
   "cell_type": "code",
   "execution_count": 17,
   "id": "72e02f95",
   "metadata": {},
   "outputs": [
    {
     "name": "stdout",
     "output_type": "stream",
     "text": [
      "6\n"
     ]
    }
   ],
   "source": [
    "print(taste.ndim)"
   ]
  },
  {
   "cell_type": "markdown",
   "id": "a5da9232",
   "metadata": {},
   "source": [
    "#### Accesing array by indexing"
   ]
  },
  {
   "cell_type": "code",
   "execution_count": 37,
   "id": "c4b80511",
   "metadata": {},
   "outputs": [
    {
     "name": "stdout",
     "output_type": "stream",
     "text": [
      "['Apples' 'Bananas' 'Oranges' 'Grapes' 'Berries' 'Melons' 'Carrots'\n",
      " 'Potatoes' 'Lettuce' 'Tomatoes' 'Cucumbers' 'Broccoli' 'Bread' 'Pasta'\n",
      " 'Rice' 'Cereal' 'Milk' 'Cheese' 'Yogurt' 'Butter' 'Beef' 'Chicken' 'Pork'\n",
      " 'Fish' 'Eggs' 'Nuts' 'Seeds' 'Sweets' 'Drinks']\n"
     ]
    }
   ],
   "source": [
    "# accessing a 1-D array\n",
    "meal_list = np.array([\"Apples\", \"Bananas\", \"Oranges\", \"Grapes\", \"Berries\", \"Melons\", \"Carrots\", \"Potatoes\", \"Lettuce\", \"Tomatoes\", \"Cucumbers\", \"Broccoli\", \"Bread\", \"Pasta\", \"Rice\", \"Cereal\", \"Milk\", \"Cheese\", \"Yogurt\", \"Butter\", \"Beef\", \"Chicken\", \"Pork\", \"Fish\", \"Eggs\", \"Nuts\", \"Seeds\", \"Sweets\", \"Drinks\"])\n",
    "print(meal_list)"
   ]
  },
  {
   "cell_type": "code",
   "execution_count": 38,
   "id": "f700d371",
   "metadata": {},
   "outputs": [
    {
     "name": "stdout",
     "output_type": "stream",
     "text": [
      "1\n"
     ]
    }
   ],
   "source": [
    "print(meal_list.ndim)"
   ]
  },
  {
   "cell_type": "code",
   "execution_count": 31,
   "id": "6165751d",
   "metadata": {},
   "outputs": [
    {
     "name": "stdout",
     "output_type": "stream",
     "text": [
      "Bananas\n"
     ]
    }
   ],
   "source": [
    "# accesing the second item in meal_list\n",
    "second_meal = meal_list[1]\n",
    "print(second_meal)"
   ]
  },
  {
   "cell_type": "code",
   "execution_count": 32,
   "id": "1b101723",
   "metadata": {},
   "outputs": [
    {
     "name": "stdout",
     "output_type": "stream",
     "text": [
      "Drinks\n"
     ]
    }
   ],
   "source": [
    "# accesing the last item in meal_list\n",
    "last_meal = meal_list[-1]\n",
    "print(last_meal)"
   ]
  },
  {
   "cell_type": "code",
   "execution_count": 33,
   "id": "15e5b7c4",
   "metadata": {},
   "outputs": [
    {
     "name": "stdout",
     "output_type": "stream",
     "text": [
      "Carrots\n"
     ]
    }
   ],
   "source": [
    "# accesing the 17th item in meal_list\n",
    "seven_meal = meal_list[6]\n",
    "print(seven_meal)"
   ]
  },
  {
   "cell_type": "code",
   "execution_count": 35,
   "id": "ffd240bf",
   "metadata": {},
   "outputs": [
    {
     "name": "stdout",
     "output_type": "stream",
     "text": [
      "[['product 1' 'product 2' 'product 3' 'product 4' 'product 5' 'product 6'\n",
      "  'product 7' 'product 8' 'product 9' 'product 10' 'product 11'\n",
      "  'product 12' 'product 13' 'product 14' 'product 15' 'product 16'\n",
      "  'product 17' 'product 18' 'product 19' 'product 20' 'product 21'\n",
      "  'product 22' 'product 23' 'product 24' 'product 25' 'product 26'\n",
      "  'product 27' 'product 28' 'product 29']\n",
      " ['Apples' 'Bananas' 'Oranges' 'Grapes' 'Berries' 'Melons' 'Carrots'\n",
      "  'Potatoes' 'Lettuce' 'Tomatoes' 'Cucumbers' 'Broccoli' 'Bread' 'Pasta'\n",
      "  'Rice' 'Cereal' 'Milk' 'Cheese' 'Yogurt' 'Butter' 'Beef' 'Chicken'\n",
      "  'Pork' 'Fish' 'Eggs' 'Nuts' 'Seeds' 'Sweets' 'Drinks']]\n"
     ]
    }
   ],
   "source": [
    "# accessing a 2-D array\n",
    "\n",
    "store_products = np.array(\n",
    "    [\n",
    "        ['product 1', 'product 2', 'product 3', 'product 4', 'product 5', 'product 6', 'product 7', 'product 8', 'product 9', 'product 10', 'product 11', 'product 12', 'product 13', 'product 14', 'product 15', 'product 16', 'product 17', 'product 18', 'product 19', 'product 20', 'product 21', 'product 22', 'product 23', 'product 24', 'product 25', 'product 26', 'product 27', 'product 28', 'product 29'],\n",
    "        [\"Apples\", \"Bananas\", \"Oranges\", \"Grapes\", \"Berries\", \"Melons\", \"Carrots\", \"Potatoes\", \"Lettuce\", \"Tomatoes\", \"Cucumbers\", \"Broccoli\", \"Bread\", \"Pasta\", \"Rice\", \"Cereal\", \"Milk\", \"Cheese\", \"Yogurt\", \"Butter\", \"Beef\", \"Chicken\", \"Pork\", \"Fish\", \"Eggs\", \"Nuts\", \"Seeds\", \"Sweets\", \"Drinks\"]\n",
    "    ]\n",
    ")\n",
    "\n",
    "print(store_products)"
   ]
  },
  {
   "cell_type": "code",
   "execution_count": 39,
   "id": "a27c45bd",
   "metadata": {},
   "outputs": [
    {
     "name": "stdout",
     "output_type": "stream",
     "text": [
      "2\n"
     ]
    }
   ],
   "source": [
    "print(store_products.ndim)"
   ]
  },
  {
   "cell_type": "code",
   "execution_count": 41,
   "id": "5b1f3112",
   "metadata": {},
   "outputs": [
    {
     "name": "stdout",
     "output_type": "stream",
     "text": [
      "['product 1' 'product 2' 'product 3' 'product 4' 'product 5' 'product 6'\n",
      " 'product 7' 'product 8' 'product 9' 'product 10' 'product 11'\n",
      " 'product 12' 'product 13' 'product 14' 'product 15' 'product 16'\n",
      " 'product 17' 'product 18' 'product 19' 'product 20' 'product 21'\n",
      " 'product 22' 'product 23' 'product 24' 'product 25' 'product 26'\n",
      " 'product 27' 'product 28' 'product 29']\n"
     ]
    }
   ],
   "source": [
    "# accesing the first item in store_product\n",
    "print(store_products[0])"
   ]
  },
  {
   "cell_type": "code",
   "execution_count": 43,
   "id": "af044c74",
   "metadata": {},
   "outputs": [
    {
     "name": "stdout",
     "output_type": "stream",
     "text": [
      "product 1\n"
     ]
    }
   ],
   "source": [
    "# what about the first item in the first item\n",
    "print(store_products[0][0])\n",
    "# the pattern of accessing items is preferably used in List but not ideally in numpy array"
   ]
  },
  {
   "cell_type": "code",
   "execution_count": 44,
   "id": "a2a0e77a",
   "metadata": {},
   "outputs": [
    {
     "name": "stdout",
     "output_type": "stream",
     "text": [
      "product 1\n"
     ]
    }
   ],
   "source": [
    "# accessing the product 1 using numpy \n",
    "print(store_products[0,0])"
   ]
  },
  {
   "cell_type": "code",
   "execution_count": 67,
   "id": "f4d8b42a",
   "metadata": {},
   "outputs": [],
   "source": [
    "# creating a 7-D array\n",
    "\n",
    "seventh_dim = np.array(np.random.randint(10,100,10), ndmin=7)"
   ]
  },
  {
   "cell_type": "code",
   "execution_count": 68,
   "id": "12e3a3dd",
   "metadata": {},
   "outputs": [
    {
     "name": "stdout",
     "output_type": "stream",
     "text": [
      "[[[[[[[33 17 88 73 12 26 30 87 32 69]]]]]]]\n"
     ]
    }
   ],
   "source": [
    "print(seventh_dim)"
   ]
  },
  {
   "cell_type": "code",
   "execution_count": 69,
   "id": "078e7084",
   "metadata": {},
   "outputs": [
    {
     "name": "stdout",
     "output_type": "stream",
     "text": [
      "69\n"
     ]
    }
   ],
   "source": [
    "# accesing the last item using list\n",
    "last_item = seventh_dim[0][0][0][0][0][0][-1]\n",
    "print(last_item)"
   ]
  },
  {
   "cell_type": "code",
   "execution_count": 70,
   "id": "dc795d9c",
   "metadata": {},
   "outputs": [
    {
     "name": "stdout",
     "output_type": "stream",
     "text": [
      "69\n"
     ]
    }
   ],
   "source": [
    "# using numpy\n",
    "last_item = seventh_dim[0,0,0,0,0,0,-1]\n",
    "print(last_item)"
   ]
  },
  {
   "cell_type": "markdown",
   "id": "b36bbd49",
   "metadata": {},
   "source": [
    "#### Slicing\n",
    "\n",
    "`arr[start:end:step,index]`"
   ]
  },
  {
   "cell_type": "markdown",
   "id": "d89c033c",
   "metadata": {},
   "source": [
    "Slicing a 1-D array"
   ]
  },
  {
   "cell_type": "code",
   "execution_count": 71,
   "id": "6be92add",
   "metadata": {},
   "outputs": [
    {
     "name": "stdout",
     "output_type": "stream",
     "text": [
      "['Apples' 'Bananas' 'Oranges' 'Grapes' 'Berries' 'Melons' 'Carrots'\n",
      " 'Potatoes' 'Lettuce' 'Tomatoes' 'Cucumbers' 'Broccoli' 'Bread' 'Pasta'\n",
      " 'Rice' 'Cereal' 'Milk' 'Cheese' 'Yogurt' 'Butter' 'Beef' 'Chicken' 'Pork'\n",
      " 'Fish' 'Eggs' 'Nuts' 'Seeds' 'Sweets' 'Drinks']\n"
     ]
    }
   ],
   "source": [
    "print(meal_list)"
   ]
  },
  {
   "cell_type": "code",
   "execution_count": 73,
   "id": "3776829b",
   "metadata": {},
   "outputs": [
    {
     "data": {
      "text/plain": [
       "29"
      ]
     },
     "execution_count": 73,
     "metadata": {},
     "output_type": "execute_result"
    }
   ],
   "source": [
    "len(meal_list) # length of meal_list"
   ]
  },
  {
   "cell_type": "code",
   "execution_count": 75,
   "id": "e66bf0fe",
   "metadata": {},
   "outputs": [
    {
     "name": "stdout",
     "output_type": "stream",
     "text": [
      "['Apples' 'Bananas' 'Oranges' 'Grapes' 'Berries' 'Melons' 'Carrots'\n",
      " 'Potatoes' 'Lettuce' 'Tomatoes' 'Cucumbers' 'Broccoli' 'Bread' 'Pasta'\n",
      " 'Rice' 'Cereal' 'Milk' 'Cheese' 'Yogurt' 'Butter' 'Beef' 'Chicken' 'Pork'\n",
      " 'Fish' 'Eggs' 'Nuts' 'Seeds' 'Sweets' 'Drinks'] 29\n"
     ]
    }
   ],
   "source": [
    "# slice from begiinning to ending\n",
    "meal_1 = meal_list[:]\n",
    "print(meal_1)\n",
    "# by default, start = 0, end = ending"
   ]
  },
  {
   "cell_type": "code",
   "execution_count": 78,
   "id": "e3e4e8db",
   "metadata": {},
   "outputs": [
    {
     "name": "stdout",
     "output_type": "stream",
     "text": [
      "['Apples' 'Bananas' 'Oranges' 'Grapes' 'Berries' 'Melons' 'Carrots'\n",
      " 'Potatoes' 'Lettuce' 'Tomatoes' 'Cucumbers' 'Broccoli' 'Bread' 'Pasta'\n",
      " 'Rice' 'Cereal' 'Milk' 'Cheese' 'Yogurt' 'Butter' 'Beef' 'Chicken' 'Pork'\n",
      " 'Fish' 'Eggs' 'Nuts' 'Seeds' 'Sweets' 'Drinks']\n"
     ]
    }
   ],
   "source": [
    "print(meal_list[0:])"
   ]
  },
  {
   "cell_type": "code",
   "execution_count": 80,
   "id": "0920a00d",
   "metadata": {},
   "outputs": [
    {
     "name": "stdout",
     "output_type": "stream",
     "text": [
      "['Apples' 'Bananas' 'Oranges' 'Grapes' 'Berries' 'Melons' 'Carrots'\n",
      " 'Potatoes' 'Lettuce' 'Tomatoes' 'Cucumbers' 'Broccoli' 'Bread' 'Pasta'\n",
      " 'Rice' 'Cereal' 'Milk' 'Cheese' 'Yogurt' 'Butter' 'Beef' 'Chicken' 'Pork'\n",
      " 'Fish' 'Eggs' 'Nuts' 'Seeds' 'Sweets']\n"
     ]
    }
   ],
   "source": [
    "print(meal_list[:-1])\n",
    "# last item was sliced out"
   ]
  },
  {
   "cell_type": "code",
   "execution_count": 85,
   "id": "81b599d1",
   "metadata": {},
   "outputs": [
    {
     "name": "stdout",
     "output_type": "stream",
     "text": [
      "['Apples' 'Oranges' 'Berries' 'Carrots' 'Lettuce' 'Cucumbers' 'Bread'\n",
      " 'Rice' 'Milk' 'Yogurt' 'Beef' 'Pork' 'Eggs' 'Seeds' 'Drinks']\n"
     ]
    }
   ],
   "source": [
    "print(meal_list[::2])\n",
    "# be default step = 1, this returns the item after every two step"
   ]
  },
  {
   "cell_type": "markdown",
   "id": "06c5054b",
   "metadata": {},
   "source": [
    "Slicing a 2-D array"
   ]
  },
  {
   "cell_type": "code",
   "execution_count": 86,
   "id": "c71990c8",
   "metadata": {},
   "outputs": [
    {
     "name": "stdout",
     "output_type": "stream",
     "text": [
      "[['product 1' 'product 2' 'product 3' 'product 4' 'product 5' 'product 6'\n",
      "  'product 7' 'product 8' 'product 9' 'product 10' 'product 11'\n",
      "  'product 12' 'product 13' 'product 14' 'product 15' 'product 16'\n",
      "  'product 17' 'product 18' 'product 19' 'product 20' 'product 21'\n",
      "  'product 22' 'product 23' 'product 24' 'product 25' 'product 26'\n",
      "  'product 27' 'product 28' 'product 29']\n",
      " ['Apples' 'Bananas' 'Oranges' 'Grapes' 'Berries' 'Melons' 'Carrots'\n",
      "  'Potatoes' 'Lettuce' 'Tomatoes' 'Cucumbers' 'Broccoli' 'Bread' 'Pasta'\n",
      "  'Rice' 'Cereal' 'Milk' 'Cheese' 'Yogurt' 'Butter' 'Beef' 'Chicken'\n",
      "  'Pork' 'Fish' 'Eggs' 'Nuts' 'Seeds' 'Sweets' 'Drinks']]\n"
     ]
    }
   ],
   "source": [
    "print(store_products)"
   ]
  },
  {
   "cell_type": "code",
   "execution_count": 91,
   "id": "fb4081eb",
   "metadata": {},
   "outputs": [
    {
     "name": "stdout",
     "output_type": "stream",
     "text": [
      "['product 1' 'product 2' 'product 3' 'product 4' 'product 5']\n"
     ]
    }
   ],
   "source": [
    "# slicing the fisrt 5 item in the first list in the above 2-D array\n",
    "print(store_products[0,:5])"
   ]
  },
  {
   "cell_type": "code",
   "execution_count": 90,
   "id": "344a2dc7",
   "metadata": {},
   "outputs": [
    {
     "name": "stdout",
     "output_type": "stream",
     "text": [
      "['Apples' 'Bananas' 'Oranges' 'Grapes' 'Berries']\n"
     ]
    }
   ],
   "source": [
    "# slicing the fisrt 5 item in the second list in the above 2-D array\n",
    "print(store_products[1,:5])"
   ]
  },
  {
   "cell_type": "code",
   "execution_count": 93,
   "id": "94e87bda",
   "metadata": {},
   "outputs": [
    {
     "name": "stdout",
     "output_type": "stream",
     "text": [
      "['product 2' 'Bananas']\n"
     ]
    }
   ],
   "source": [
    "# returning the second item in both list in the array\n",
    "print(store_products[:,1])"
   ]
  },
  {
   "cell_type": "code",
   "execution_count": 96,
   "id": "f9abc9a0",
   "metadata": {},
   "outputs": [
    {
     "name": "stdout",
     "output_type": "stream",
     "text": [
      "['product 2' 'Bananas']\n"
     ]
    }
   ],
   "source": [
    "# returning the second item in both list in the array\n",
    "print(store_products[0:,1])"
   ]
  },
  {
   "cell_type": "code",
   "execution_count": 98,
   "id": "27b2d7bb",
   "metadata": {},
   "outputs": [
    {
     "name": "stdout",
     "output_type": "stream",
     "text": [
      "[['product 1' 'product 2' 'product 3' 'product 4' 'product 5' 'product 6'\n",
      "  'product 7' 'product 8' 'product 9' 'product 10' 'product 11'\n",
      "  'product 12' 'product 13' 'product 14' 'product 15' 'product 16'\n",
      "  'product 17' 'product 18' 'product 19' 'product 20' 'product 21'\n",
      "  'product 22' 'product 23' 'product 24' 'product 25' 'product 26'\n",
      "  'product 27' 'product 28' 'product 29']\n",
      " ['Apples' 'Bananas' 'Oranges' 'Grapes' 'Berries' 'Melons' 'Carrots'\n",
      "  'Potatoes' 'Lettuce' 'Tomatoes' 'Cucumbers' 'Broccoli' 'Bread' 'Pasta'\n",
      "  'Rice' 'Cereal' 'Milk' 'Cheese' 'Yogurt' 'Butter' 'Beef' 'Chicken'\n",
      "  'Pork' 'Fish' 'Eggs' 'Nuts' 'Seeds' 'Sweets' 'Drinks']]\n"
     ]
    }
   ],
   "source": [
    "print(store_products[:,:])"
   ]
  },
  {
   "cell_type": "code",
   "execution_count": null,
   "id": "2444c1c0",
   "metadata": {},
   "outputs": [],
   "source": []
  },
  {
   "cell_type": "markdown",
   "id": "95ec6305",
   "metadata": {},
   "source": [
    "data types in NumPy:\n",
    "\n",
    "| Data Type | Description |\n",
    "|---|---|\n",
    "| `int8`, `int16`, `int32`, `int64` | Signed integers with different bit sizes (8, 16, 32, and 64 bits, respectively). signed int are both positive or negative |\n",
    "| `uint8`, `uint16`, `uint32`, `uint64` | Unsigned integers with different bit sizes (8, 16, 32, and 64 bits, respectively). unsigned int are positive |\n",
    "| `float16`, `float32`, `float64` | Floating-point numbers with different precision levels (half, single, and double precision, respectively). |\n",
    "| `complex64`, `complex128` | Complex numbers with different precision levels (64 and 128 bits, respectively). |\n",
    "| `bytes_` | Represents fixed-size sequences of 8-bit bytes. |\n",
    "| `str_` | Represents fixed-size sequences of Unicode characters. |\n",
    "| `unicode_` | Represents fixed-size sequences of Unicode characters (deprecated). |\n",
    "| `datetime64` | Represents dates and times with different resolutions (nanoseconds, microseconds, milliseconds, seconds, minutes, hours, days, etc.). |\n",
    "| `timedelta64` | Represents time intervals with different resolutions (nanoseconds, microseconds, milliseconds, seconds, minutes, hours, days, etc.). |\n"
   ]
  },
  {
   "cell_type": "code",
   "execution_count": 478,
   "id": "e41fbc1d",
   "metadata": {},
   "outputs": [
    {
     "name": "stdout",
     "output_type": "stream",
     "text": [
      "Integer array data type:\t int64\n",
      "Unsigneed Integer array data type:\t uint64\n",
      "Floating-point array data type:\t float64\n",
      "Complex number array data type:\t complex128\n",
      "Boolean array data type:\t bool\n",
      "String array data type:\t <U6\n",
      "Datetime array data type:\t datetime64[D]\n"
     ]
    }
   ],
   "source": [
    "# Creating arrays of different data types\n",
    "int_array = np.array([1, 2, 3, -4, 5])  # signed integer  array\n",
    "unsigned_int = np.array([1,2,3,4,5], dtype='uint') # unsigned int\n",
    "float_array = np.array([1.0, 2.0, 3.0, 4.0, 5.0])  # Floating-point array\n",
    "complex_array = np.array([1+2j, 3+4j, 5+6j])  # Complex number array\n",
    "bool_array = np.array([True, False, True, False, True])  # Boolean array\n",
    "string_array = np.array([\"apple\", \"banana\", \"orange\", \"grape\", \"cherry\"])  # String array\n",
    "date_array = np.array(['2002-01-01', '2003-02-21'], dtype='datetime64')\n",
    "\n",
    "# Printing the data types of each array\n",
    "print(\"Integer array data type:\\t\", int_array.dtype)\n",
    "print(\"Unsigneed Integer array data type:\\t\", unsigned_int.dtype)\n",
    "print(\"Floating-point array data type:\\t\", float_array.dtype)\n",
    "print(\"Complex number array data type:\\t\", complex_array.dtype)\n",
    "print(\"Boolean array data type:\\t\", bool_array.dtype)\n",
    "print(\"String array data type:\\t\", string_array.dtype)\n",
    "print(\"Datetime array data type:\\t\", date_array.dtype)"
   ]
  },
  {
   "cell_type": "code",
   "execution_count": 100,
   "id": "030b3844",
   "metadata": {},
   "outputs": [
    {
     "name": "stdout",
     "output_type": "stream",
     "text": [
      "['Apples' 'Bananas' 'Oranges' 'Grapes' 'Berries' 'Melons' 'Carrots'\n",
      " 'Potatoes' 'Lettuce' 'Tomatoes' 'Cucumbers' 'Broccoli' 'Bread' 'Pasta'\n",
      " 'Rice' 'Cereal' 'Milk' 'Cheese' 'Yogurt' 'Butter' 'Beef' 'Chicken' 'Pork'\n",
      " 'Fish' 'Eggs' 'Nuts' 'Seeds' 'Sweets' 'Drinks']\n"
     ]
    }
   ],
   "source": [
    "print(meal_list)"
   ]
  },
  {
   "cell_type": "code",
   "execution_count": 102,
   "id": "96048996",
   "metadata": {},
   "outputs": [
    {
     "name": "stdout",
     "output_type": "stream",
     "text": [
      "<U9\n"
     ]
    }
   ],
   "source": [
    "print(meal_list.dtype)"
   ]
  },
  {
   "cell_type": "code",
   "execution_count": 107,
   "id": "774b5e31",
   "metadata": {},
   "outputs": [
    {
     "name": "stdout",
     "output_type": "stream",
     "text": [
      "[123 122 100 123  98]\n"
     ]
    }
   ],
   "source": [
    "print(heights)"
   ]
  },
  {
   "cell_type": "code",
   "execution_count": 109,
   "id": "2111332a",
   "metadata": {},
   "outputs": [
    {
     "name": "stdout",
     "output_type": "stream",
     "text": [
      "int64\n"
     ]
    }
   ],
   "source": [
    "print(heights.dtype)"
   ]
  },
  {
   "cell_type": "code",
   "execution_count": 139,
   "id": "200ebe4e",
   "metadata": {},
   "outputs": [],
   "source": [
    "date = np.array(['2002-01-01', '2003-02-21'])"
   ]
  },
  {
   "cell_type": "code",
   "execution_count": 140,
   "id": "33d85185",
   "metadata": {},
   "outputs": [
    {
     "name": "stdout",
     "output_type": "stream",
     "text": [
      "<U10\n"
     ]
    }
   ],
   "source": [
    "print(date.dtype)"
   ]
  },
  {
   "cell_type": "markdown",
   "id": "abc537be",
   "metadata": {},
   "source": [
    "#### creating defined data type\n",
    "\n",
    "`dtype='V'`"
   ]
  },
  {
   "cell_type": "code",
   "execution_count": 143,
   "id": "e1f0f2ac",
   "metadata": {},
   "outputs": [],
   "source": [
    "# defining the array as a Datetime data type\n",
    "\n",
    "date = np.array(['2002-01-01', '2003-02-21'], dtype='M')"
   ]
  },
  {
   "cell_type": "code",
   "execution_count": 144,
   "id": "32c09715",
   "metadata": {},
   "outputs": [
    {
     "name": "stdout",
     "output_type": "stream",
     "text": [
      "datetime64[D]\n"
     ]
    }
   ],
   "source": [
    "print(date.dtype)"
   ]
  },
  {
   "cell_type": "markdown",
   "id": "7a63a851",
   "metadata": {},
   "source": [
    "#### we can define the size(byte) of some data type\n",
    "\n",
    "`i,u,f,S,U`\n",
    "\n",
    "`dtype='S10'`"
   ]
  },
  {
   "cell_type": "code",
   "execution_count": 147,
   "id": "b512f722",
   "metadata": {},
   "outputs": [],
   "source": [
    "fruit = np.array(['Carrots', 'Potatoes', 'Lettuce', 'Tomatoes'], dtype='S10')"
   ]
  },
  {
   "cell_type": "code",
   "execution_count": 148,
   "id": "d0b5d07f",
   "metadata": {},
   "outputs": [
    {
     "name": "stdout",
     "output_type": "stream",
     "text": [
      "[b'Carrots' b'Potatoes' b'Lettuce' b'Tomatoes']\n"
     ]
    }
   ],
   "source": [
    "print(fruit)"
   ]
  },
  {
   "cell_type": "markdown",
   "id": "400c2088",
   "metadata": {},
   "source": [
    "#### integer and their bit size range\n",
    "\n",
    "\n",
    "    Data Type\tRange\n",
    "    int8\t-128 to 127\n",
    "    in16\t-32768 to 32767\n",
    "    in32\t-2147483648 to 2147483647\n",
    "    in64\t-9223372036854775808 to 9223372036854775807"
   ]
  },
  {
   "cell_type": "code",
   "execution_count": 471,
   "id": "6c8894d6",
   "metadata": {},
   "outputs": [],
   "source": [
    "dice = np.array([1,2,3,4,5,6,7,8,9,0], dtype='int8') #integer of 2bit\n",
    "# -2**31 to 2**31**(-1)"
   ]
  },
  {
   "cell_type": "code",
   "execution_count": 472,
   "id": "ec4c7852",
   "metadata": {},
   "outputs": [
    {
     "name": "stdout",
     "output_type": "stream",
     "text": [
      "[1 2 3 4 5 6 7 8 9 0]\n",
      "int8\n"
     ]
    }
   ],
   "source": [
    "print(dice)\n",
    "print(dice.dtype)"
   ]
  },
  {
   "cell_type": "code",
   "execution_count": 479,
   "id": "1654a792",
   "metadata": {},
   "outputs": [
    {
     "ename": "ValueError",
     "evalue": "invalid literal for int() with base 10: 'a'",
     "output_type": "error",
     "traceback": [
      "\u001b[0;31m---------------------------------------------------------------------------\u001b[0m",
      "\u001b[0;31mValueError\u001b[0m                                Traceback (most recent call last)",
      "Cell \u001b[0;32mIn[479], line 1\u001b[0m\n\u001b[0;32m----> 1\u001b[0m charr \u001b[38;5;241m=\u001b[39m np\u001b[38;5;241m.\u001b[39marray([\u001b[38;5;124m'\u001b[39m\u001b[38;5;124ma\u001b[39m\u001b[38;5;124m'\u001b[39m, \u001b[38;5;241m2\u001b[39m, \u001b[38;5;241m3\u001b[39m], dtype\u001b[38;5;241m=\u001b[39m\u001b[38;5;124m'\u001b[39m\u001b[38;5;124mint32\u001b[39m\u001b[38;5;124m'\u001b[39m)\n",
      "\u001b[0;31mValueError\u001b[0m: invalid literal for int() with base 10: 'a'"
     ]
    }
   ],
   "source": [
    "charr = np.array(['a', 2, 3], dtype='int32')\n",
    "# this returns an error when we try converting the datatype to 'i' (integer) due to the presence of 'STRING'"
   ]
  },
  {
   "cell_type": "code",
   "execution_count": 488,
   "id": "87c4715e",
   "metadata": {},
   "outputs": [
    {
     "name": "stdout",
     "output_type": "stream",
     "text": [
      "['a' '2' '3']\n",
      "<U1\n"
     ]
    }
   ],
   "source": [
    "# we can convert integer to string but not the other way\n",
    "charr = np.array(['a', 2, 3], dtype='str')\n",
    "print(charr)\n",
    "print(charr.dtype)"
   ]
  },
  {
   "cell_type": "code",
   "execution_count": 487,
   "id": "3d3da668",
   "metadata": {},
   "outputs": [
    {
     "name": "stdout",
     "output_type": "stream",
     "text": [
      "['red' 'orange' 'yellow' 'green' 'blue' 'indigo' 'purple' 'maroon']\n",
      "<U6\n"
     ]
    }
   ],
   "source": [
    "color = ['red', 'orange', 'yellow', 'green', 'blue', 'indigo', 'purple', 'maroon']\n",
    "color = np.array(color, dtype='str')\n",
    "print(color)\n",
    "print(color.dtype)"
   ]
  },
  {
   "cell_type": "markdown",
   "id": "a0bb9e65",
   "metadata": {},
   "source": [
    "#### astype()\n",
    "\n",
    "- best way to change the data type of an existing array\n",
    "\n",
    "- Always ake a copy \n",
    "\n",
    "```\n",
    "arr = np.array([1,2,3,4,5])\n",
    "newarr = arr.astype('f')\n",
    "```"
   ]
  },
  {
   "cell_type": "code",
   "execution_count": 191,
   "id": "faf27296",
   "metadata": {},
   "outputs": [
    {
     "name": "stdout",
     "output_type": "stream",
     "text": [
      "[ 60  45  98 100 -56   0]\n",
      "int64\n"
     ]
    }
   ],
   "source": [
    "score = np.array([60,45,98,100,-56, 0])\n",
    "print(score)\n",
    "print(score.dtype)"
   ]
  },
  {
   "cell_type": "code",
   "execution_count": 489,
   "id": "cf0715be",
   "metadata": {},
   "outputs": [
    {
     "name": "stdout",
     "output_type": "stream",
     "text": [
      "[ 60.  45.  98. 100. -56.   0.]\n",
      "float64\n"
     ]
    }
   ],
   "source": [
    "# changing the data type to float\n",
    "new_score = score.astype('float')\n",
    "print(new_score)\n",
    "print(new_score.dtype)"
   ]
  },
  {
   "cell_type": "code",
   "execution_count": 193,
   "id": "f8cf2bb2",
   "metadata": {},
   "outputs": [
    {
     "name": "stdout",
     "output_type": "stream",
     "text": [
      "[ True  True  True  True  True False]\n",
      "bool\n"
     ]
    }
   ],
   "source": [
    "# try converting data type to boolean\n",
    "bool_score = score.astype(bool)\n",
    "print(bool_score)\n",
    "print(bool_score.dtype)\n",
    "# all numbers are TRUE but 0"
   ]
  },
  {
   "cell_type": "code",
   "execution_count": null,
   "id": "1d552471",
   "metadata": {},
   "outputs": [],
   "source": []
  },
  {
   "cell_type": "markdown",
   "id": "0066ac05",
   "metadata": {},
   "source": [
    "#### copy vs view\n",
    "\n",
    "Copy creates a new array and any data manipulation doesn't affect the original array\n",
    "\n",
    "View returns the original array and any manipulation affects the original array"
   ]
  },
  {
   "cell_type": "code",
   "execution_count": 214,
   "id": "8e167285",
   "metadata": {},
   "outputs": [],
   "source": [
    "# copy\n",
    "phone_brands = [\n",
    "    \"Samsung\",\n",
    "    \"Apple\",\n",
    "    \"Huawei\",\n",
    "    \"Sony\",\n",
    "    \"Nokia\",\n",
    "    \"Google\",\n",
    "    \"OnePlus\",\n",
    "    \"HTC\",\n",
    "    \"ASUS\"\n",
    "]\n",
    "phone_brands = np.array(phone_brands)"
   ]
  },
  {
   "cell_type": "code",
   "execution_count": 215,
   "id": "342b745b",
   "metadata": {},
   "outputs": [
    {
     "name": "stdout",
     "output_type": "stream",
     "text": [
      "['Samsung' 'Apple' 'Huawei' 'Sony' 'Nokia' 'Google' 'OnePlus' 'HTC' 'ASUS']\n"
     ]
    }
   ],
   "source": [
    "new_phones = phone_brands.copy()\n",
    "print(new_phones)"
   ]
  },
  {
   "cell_type": "code",
   "execution_count": 216,
   "id": "8dbf428c",
   "metadata": {},
   "outputs": [
    {
     "name": "stdout",
     "output_type": "stream",
     "text": [
      "['Samsung' 'Apple' 'Huawei' 'Sony' 'Nokia' 'Google' 'OnePlus' 'HTC' 'ASUS']\n",
      "['Samsung' 'Apple' 'Huawei' 'Sony' 'Nokia' 'Google' 'OnePlus' 'Vivo'\n",
      " 'ASUS']\n"
     ]
    }
   ],
   "source": [
    "# lets replace 'HTC' to 'Vivo'\n",
    "new_phones[7] = 'Vivo'\n",
    "print(phone_brands)\n",
    "print(new_phones)\n",
    "# the orignal array is not affected"
   ]
  },
  {
   "cell_type": "code",
   "execution_count": 223,
   "id": "39bd8f45",
   "metadata": {},
   "outputs": [],
   "source": [
    "# view\n",
    "colors = [\n",
    "    \"red\",  \n",
    "    \"orange\", \n",
    "    \"yellow\", \n",
    "    \"green\", \n",
    "    \"blue\", \n",
    "    \"indigo\",  \n",
    "    \"purple\", \n",
    "    \"pink\"\n",
    "]\n",
    "colors = np.array(colors)"
   ]
  },
  {
   "cell_type": "code",
   "execution_count": 224,
   "id": "552f3467",
   "metadata": {},
   "outputs": [
    {
     "name": "stdout",
     "output_type": "stream",
     "text": [
      "['red' 'orange' 'yellow' 'green' 'blue' 'indigo' 'purple' 'pink']\n"
     ]
    }
   ],
   "source": [
    "new_colors = colors.view()\n",
    "print(new_colors)"
   ]
  },
  {
   "cell_type": "code",
   "execution_count": 226,
   "id": "8bd2eea2",
   "metadata": {},
   "outputs": [
    {
     "name": "stdout",
     "output_type": "stream",
     "text": [
      "['red' 'orange' 'yellow' 'green' 'blue' 'indigo' 'purple' 'maroon']\n",
      "['red' 'orange' 'yellow' 'green' 'blue' 'indigo' 'purple' 'maroon']\n"
     ]
    }
   ],
   "source": [
    "# lets replace 'pink' to maroon\n",
    "new_colors[-1] = 'maroon'\n",
    "print(colors)\n",
    "print(new_colors)\n",
    "# both the new array and the original array has been affected"
   ]
  },
  {
   "cell_type": "markdown",
   "id": "ee82bfa5",
   "metadata": {},
   "source": [
    "__How do we know if an array owns its data?__\n",
    "\n",
    "copies owns their data, as any data manipulation to it does not affect the orignal data\n",
    "\n",
    "view does not own its data and any manipulation affects the orignal array\n",
    "\n",
    "calling the `base` attribute on an array returns __None__ if the array owns its data, else it returns the array"
   ]
  },
  {
   "cell_type": "code",
   "execution_count": 436,
   "id": "6c76527d",
   "metadata": {},
   "outputs": [
    {
     "name": "stdout",
     "output_type": "stream",
     "text": [
      "None\n",
      "['red' 'orange' 'yellow' 'green' 'blue' 'indigo' 'purple' 'maroon']\n"
     ]
    }
   ],
   "source": [
    "print(new_phones.base) # copy\n",
    "print(new_colors.base) # view"
   ]
  },
  {
   "cell_type": "code",
   "execution_count": null,
   "id": "bd75a845",
   "metadata": {},
   "outputs": [],
   "source": []
  },
  {
   "cell_type": "markdown",
   "id": "297b0660",
   "metadata": {},
   "source": [
    "#### Shape\n",
    "This returns a tuple showing the size of the array along size its dimension\n"
   ]
  },
  {
   "cell_type": "code",
   "execution_count": 298,
   "id": "9858799b",
   "metadata": {},
   "outputs": [
    {
     "name": "stdout",
     "output_type": "stream",
     "text": [
      "[[1 2 3 4]\n",
      " [5 6 7 8]]\n",
      "shape (2, 4)\n"
     ]
    }
   ],
   "source": [
    "arr = np.array([[1, 2, 3, 4], [5, 6, 7, 8]])\n",
    "print(arr)\n",
    "print('shape',arr.shape)"
   ]
  },
  {
   "cell_type": "code",
   "execution_count": 297,
   "id": "250a0178",
   "metadata": {},
   "outputs": [
    {
     "name": "stdout",
     "output_type": "stream",
     "text": [
      "[[1 2 3]\n",
      " [5 6 7]\n",
      " [6 7 8]\n",
      " [9 1 2]]\n",
      "shape (4, 3)\n"
     ]
    }
   ],
   "source": [
    "arr = np.array([[1,2,3],[5,6,7],[6,7,8],[9,1,2]])\n",
    "print(arr)\n",
    "print('shape', arr.shape)"
   ]
  },
  {
   "cell_type": "code",
   "execution_count": 300,
   "id": "e8ea234e",
   "metadata": {},
   "outputs": [
    {
     "name": "stdout",
     "output_type": "stream",
     "text": [
      "[-3.48455058 29.75033767 56.30315122 15.27172273 24.6762351 ]\n",
      "shape (5,)\n"
     ]
    }
   ],
   "source": [
    "arr = np.array(np.random.normal(10,20,5), ndmin=1)\n",
    "print(arr)\n",
    "print('shape', arr.shape)"
   ]
  },
  {
   "cell_type": "code",
   "execution_count": 303,
   "id": "e9685de8",
   "metadata": {},
   "outputs": [
    {
     "name": "stdout",
     "output_type": "stream",
     "text": [
      "[[[33.97490283 19.8717124  -0.12290764 -3.49690681 -6.31337058]]]\n",
      "shape (1, 1, 5)\n"
     ]
    }
   ],
   "source": [
    "arr = np.array(np.random.normal(10,20,5), ndmin=3)\n",
    "print(arr)\n",
    "print('shape', arr.shape)"
   ]
  },
  {
   "cell_type": "code",
   "execution_count": 309,
   "id": "d2028bfd",
   "metadata": {},
   "outputs": [
    {
     "name": "stdout",
     "output_type": "stream",
     "text": [
      "[[38.95324785  7.12600445]\n",
      " [48.57049425 29.78563091]\n",
      " [36.35906005 19.15735896]\n",
      " [-6.26322141  9.37084197]\n",
      " [11.17694376 48.99984103]]\n",
      "shape (5, 2)\n"
     ]
    }
   ],
   "source": [
    "arr = np.array([np.random.normal(10,20,2) for i in range(5)], ndmin=2)\n",
    "print(arr)\n",
    "print('shape', arr.shape)"
   ]
  },
  {
   "cell_type": "code",
   "execution_count": 325,
   "id": "9ba2ed03",
   "metadata": {},
   "outputs": [
    {
     "name": "stdout",
     "output_type": "stream",
     "text": [
      "[[[[[1 2 3 4]]]]]\n",
      "shape of array : (1, 1, 1, 1, 4)\n"
     ]
    }
   ],
   "source": [
    "arr = np.array([1, 2, 3, 4], ndmin=5)\n",
    "\n",
    "print(arr)\n",
    "print('shape of array :', arr.shape)"
   ]
  },
  {
   "cell_type": "markdown",
   "id": "e6c04c58",
   "metadata": {},
   "source": [
    "#### Reshape\n",
    "\n",
    "This is the changing of the shape of an array\n",
    "\n",
    "`reshape(row,columns,subarrays)`\n",
    "\n",
    "__reshape array is a view as any data manipulation affects the original__"
   ]
  },
  {
   "cell_type": "code",
   "execution_count": 414,
   "id": "a025fabb",
   "metadata": {},
   "outputs": [],
   "source": [
    "arr = np.array([0,1,2,3,4,5,6,7,8,9])"
   ]
  },
  {
   "cell_type": "code",
   "execution_count": 415,
   "id": "ce687f7a",
   "metadata": {},
   "outputs": [
    {
     "name": "stdout",
     "output_type": "stream",
     "text": [
      "[0 1 2 3 4 5 6 7 8 9]\n",
      "(10,)\n"
     ]
    }
   ],
   "source": [
    "print(arr)\n",
    "print(arr.shape)"
   ]
  },
  {
   "cell_type": "code",
   "execution_count": 416,
   "id": "987df911",
   "metadata": {},
   "outputs": [],
   "source": [
    "# reshape\n",
    "newarr = arr.reshape(5,2)"
   ]
  },
  {
   "cell_type": "code",
   "execution_count": 417,
   "id": "b4caec56",
   "metadata": {},
   "outputs": [
    {
     "name": "stdout",
     "output_type": "stream",
     "text": [
      "[[0 1]\n",
      " [2 3]\n",
      " [4 5]\n",
      " [6 7]\n",
      " [8 9]]\n",
      "array shape (5, 2)\n",
      "array dimension 2\n"
     ]
    }
   ],
   "source": [
    "print(newarr)\n",
    "print('array shape', newarr.shape)\n",
    "print('array dimension', newarr.ndim)"
   ]
  },
  {
   "cell_type": "code",
   "execution_count": 418,
   "id": "52b745be",
   "metadata": {},
   "outputs": [
    {
     "ename": "ValueError",
     "evalue": "cannot reshape array of size 10 into shape (3,2)",
     "output_type": "error",
     "traceback": [
      "\u001b[0;31m---------------------------------------------------------------------------\u001b[0m",
      "\u001b[0;31mValueError\u001b[0m                                Traceback (most recent call last)",
      "Cell \u001b[0;32mIn[418], line 2\u001b[0m\n\u001b[1;32m      1\u001b[0m \u001b[38;5;66;03m# note that you can only reshape it to fit\u001b[39;00m\n\u001b[0;32m----> 2\u001b[0m newarr \u001b[38;5;241m=\u001b[39m arr\u001b[38;5;241m.\u001b[39mreshape(\u001b[38;5;241m3\u001b[39m,\u001b[38;5;241m2\u001b[39m)\n",
      "\u001b[0;31mValueError\u001b[0m: cannot reshape array of size 10 into shape (3,2)"
     ]
    }
   ],
   "source": [
    "# note that you can only reshape it to fit\n",
    "newarr = arr.reshape(3,2)\n",
    "# this returns an error"
   ]
  },
  {
   "cell_type": "code",
   "execution_count": 419,
   "id": "093f5f2f",
   "metadata": {},
   "outputs": [],
   "source": [
    "newarr = arr.reshape(2,5) # 2-D array"
   ]
  },
  {
   "cell_type": "code",
   "execution_count": 420,
   "id": "16258d39",
   "metadata": {},
   "outputs": [
    {
     "name": "stdout",
     "output_type": "stream",
     "text": [
      "[[0 1 2 3 4]\n",
      " [5 6 7 8 9]]\n"
     ]
    }
   ],
   "source": [
    "print(newarr)"
   ]
  },
  {
   "cell_type": "code",
   "execution_count": 421,
   "id": "36cd07f3",
   "metadata": {},
   "outputs": [],
   "source": [
    "arr = np.array([1, 2, 3, 4, 5, 6, 7, 8, 9, 10, 11, 12])"
   ]
  },
  {
   "cell_type": "code",
   "execution_count": 422,
   "id": "01a56ceb",
   "metadata": {},
   "outputs": [],
   "source": [
    "newarr = arr.reshape(2, 3, 2) # 3-D array\n",
    "# [ [  [][][]  ]    [  [][][]   ]   ]"
   ]
  },
  {
   "cell_type": "code",
   "execution_count": 423,
   "id": "f51a4aee",
   "metadata": {},
   "outputs": [
    {
     "name": "stdout",
     "output_type": "stream",
     "text": [
      "[[[ 1  2]\n",
      "  [ 3  4]\n",
      "  [ 5  6]]\n",
      "\n",
      " [[ 7  8]\n",
      "  [ 9 10]\n",
      "  [11 12]]]\n",
      "array shape (2, 3, 2)\n",
      "array dimension 3\n"
     ]
    }
   ],
   "source": [
    "print(newarr)\n",
    "print('array shape', newarr.shape)\n",
    "print('array dimension', newarr.ndim)"
   ]
  },
  {
   "cell_type": "code",
   "execution_count": 424,
   "id": "d694ad9f",
   "metadata": {},
   "outputs": [],
   "source": [
    "arr = np.array([0, 1, 2, 3, 4, 5, 6, 7, 8, 9, 10, 11, 12, 13, 14, 15, 16, 17, 18, 19, 20, 21, 22, 23])"
   ]
  },
  {
   "cell_type": "code",
   "execution_count": 425,
   "id": "8f6f2d5b",
   "metadata": {},
   "outputs": [
    {
     "name": "stdout",
     "output_type": "stream",
     "text": [
      "[ 0  1  2  3  4  5  6  7  8  9 10 11 12 13 14 15 16 17 18 19 20 21 22 23]\n"
     ]
    }
   ],
   "source": [
    "print(arr)"
   ]
  },
  {
   "cell_type": "code",
   "execution_count": 426,
   "id": "13ac2aba",
   "metadata": {},
   "outputs": [],
   "source": [
    "newarr = arr.reshape(3,4,2) # 3-D array"
   ]
  },
  {
   "cell_type": "code",
   "execution_count": 427,
   "id": "b356ff2e",
   "metadata": {},
   "outputs": [
    {
     "name": "stdout",
     "output_type": "stream",
     "text": [
      "[[[ 0  1]\n",
      "  [ 2  3]\n",
      "  [ 4  5]\n",
      "  [ 6  7]]\n",
      "\n",
      " [[ 8  9]\n",
      "  [10 11]\n",
      "  [12 13]\n",
      "  [14 15]]\n",
      "\n",
      " [[16 17]\n",
      "  [18 19]\n",
      "  [20 21]\n",
      "  [22 23]]]\n",
      "array shape (3, 4, 2)\n",
      "array dimension 3\n"
     ]
    }
   ],
   "source": [
    "print(newarr)\n",
    "print('array shape', newarr.shape)\n",
    "print('array dimension', newarr.ndim)"
   ]
  },
  {
   "cell_type": "code",
   "execution_count": 428,
   "id": "489360e6",
   "metadata": {},
   "outputs": [],
   "source": [
    "arr = np.array([0, 1, 2, 3, 4, 5, 6, 7, 8, 9, 10, 11, 12, 13, 14, 15, 16, 17, 18, 19, 20, 21, 22, 23, 24, 25, 26, 27, 28, 29, 30, 31, 32, 33, 34, 35, 36, 37, 38, 39, 40, 41, 42, 43, 44, 45, 46, 47, 48, 49, 50, 51, 52, 53, 54, 55, 56, 57, 58, 59, 60, 61, 62, 63, 64, 65, 66, 67, 68, 69, 70, 71, 72, 73, 74, 75, 76, 77, 78, 79, 80, 81, 82, 83, 84, 85, 86, 87, 88, 89, 90, 91, 92, 93, 94, 95, 96, 97, 98, 99, 100, 101, 102, 103, 104, 105, 106, 107, 108, 109, 110, 111, 112, 113, 114, 115, 116, 117, 118, 119, 120, 121, 122, 123, 124, 125, 126, 127, 128, 129, 130, 131, 132, 133, 134, 135, 136, 137, 138, 139, 140, 141, 142, 143, 144, 145, 146, 147, 148, 149, 150, 151, 152, 153, 154, 155, 156, 157, 158, 159, 160, 161, 162, 163, 164, 165, 166, 167, 168, 169, 170, 171, 172, 173, 174, 175, 176, 177, 178, 179, 180, 181, 182, 183, 184, 185, 186, 187, 188, 189, 190, 191])"
   ]
  },
  {
   "cell_type": "code",
   "execution_count": 429,
   "id": "3071b839",
   "metadata": {},
   "outputs": [
    {
     "name": "stdout",
     "output_type": "stream",
     "text": [
      "[  0   1   2   3   4   5   6   7   8   9  10  11  12  13  14  15  16  17\n",
      "  18  19  20  21  22  23  24  25  26  27  28  29  30  31  32  33  34  35\n",
      "  36  37  38  39  40  41  42  43  44  45  46  47  48  49  50  51  52  53\n",
      "  54  55  56  57  58  59  60  61  62  63  64  65  66  67  68  69  70  71\n",
      "  72  73  74  75  76  77  78  79  80  81  82  83  84  85  86  87  88  89\n",
      "  90  91  92  93  94  95  96  97  98  99 100 101 102 103 104 105 106 107\n",
      " 108 109 110 111 112 113 114 115 116 117 118 119 120 121 122 123 124 125\n",
      " 126 127 128 129 130 131 132 133 134 135 136 137 138 139 140 141 142 143\n",
      " 144 145 146 147 148 149 150 151 152 153 154 155 156 157 158 159 160 161\n",
      " 162 163 164 165 166 167 168 169 170 171 172 173 174 175 176 177 178 179\n",
      " 180 181 182 183 184 185 186 187 188 189 190 191]\n"
     ]
    }
   ],
   "source": [
    "print(arr)"
   ]
  },
  {
   "cell_type": "code",
   "execution_count": 430,
   "id": "96ef5810",
   "metadata": {},
   "outputs": [],
   "source": [
    "newarr = arr.reshape(8,2,3,4) # 4-D array"
   ]
  },
  {
   "cell_type": "code",
   "execution_count": 431,
   "id": "97606520",
   "metadata": {
    "collapsed": true
   },
   "outputs": [
    {
     "name": "stdout",
     "output_type": "stream",
     "text": [
      "[[[[  0   1   2   3]\n",
      "   [  4   5   6   7]\n",
      "   [  8   9  10  11]]\n",
      "\n",
      "  [[ 12  13  14  15]\n",
      "   [ 16  17  18  19]\n",
      "   [ 20  21  22  23]]]\n",
      "\n",
      "\n",
      " [[[ 24  25  26  27]\n",
      "   [ 28  29  30  31]\n",
      "   [ 32  33  34  35]]\n",
      "\n",
      "  [[ 36  37  38  39]\n",
      "   [ 40  41  42  43]\n",
      "   [ 44  45  46  47]]]\n",
      "\n",
      "\n",
      " [[[ 48  49  50  51]\n",
      "   [ 52  53  54  55]\n",
      "   [ 56  57  58  59]]\n",
      "\n",
      "  [[ 60  61  62  63]\n",
      "   [ 64  65  66  67]\n",
      "   [ 68  69  70  71]]]\n",
      "\n",
      "\n",
      " [[[ 72  73  74  75]\n",
      "   [ 76  77  78  79]\n",
      "   [ 80  81  82  83]]\n",
      "\n",
      "  [[ 84  85  86  87]\n",
      "   [ 88  89  90  91]\n",
      "   [ 92  93  94  95]]]\n",
      "\n",
      "\n",
      " [[[ 96  97  98  99]\n",
      "   [100 101 102 103]\n",
      "   [104 105 106 107]]\n",
      "\n",
      "  [[108 109 110 111]\n",
      "   [112 113 114 115]\n",
      "   [116 117 118 119]]]\n",
      "\n",
      "\n",
      " [[[120 121 122 123]\n",
      "   [124 125 126 127]\n",
      "   [128 129 130 131]]\n",
      "\n",
      "  [[132 133 134 135]\n",
      "   [136 137 138 139]\n",
      "   [140 141 142 143]]]\n",
      "\n",
      "\n",
      " [[[144 145 146 147]\n",
      "   [148 149 150 151]\n",
      "   [152 153 154 155]]\n",
      "\n",
      "  [[156 157 158 159]\n",
      "   [160 161 162 163]\n",
      "   [164 165 166 167]]]\n",
      "\n",
      "\n",
      " [[[168 169 170 171]\n",
      "   [172 173 174 175]\n",
      "   [176 177 178 179]]\n",
      "\n",
      "  [[180 181 182 183]\n",
      "   [184 185 186 187]\n",
      "   [188 189 190 191]]]]\n"
     ]
    }
   ],
   "source": [
    "print(newarr)"
   ]
  },
  {
   "cell_type": "code",
   "execution_count": 432,
   "id": "76b0bf59",
   "metadata": {},
   "outputs": [
    {
     "name": "stdout",
     "output_type": "stream",
     "text": [
      "array shape (8, 2, 3, 4)\n",
      "array dimension 4\n"
     ]
    }
   ],
   "source": [
    "print('array shape', newarr.shape)\n",
    "print('array dimension', newarr.ndim)"
   ]
  },
  {
   "cell_type": "code",
   "execution_count": 444,
   "id": "0b822a57",
   "metadata": {},
   "outputs": [],
   "source": [
    "arr = np.array([0, 1, 2, 3, 4, 5, 6, 7, 8, 9, 10, 11, 12, 13, 14, 15, 16, 17, 18, 19, 20, 21, 22, 23, 24, 25, 26, 27, 28, 29, 30, 31, 32, 33, 34, 35, 36, 37, 38, 39, 40, 41, 42, 43, 44, 45, 46, 47, 48, 49, 50, 51, 52, 53, 54, 55, 56, 57, 58, 59, 60, 61, 62, 63, 64, 65, 66, 67, 68, 69, 70, 71, 72, 73, 74, 75, 76, 77, 78, 79, 80, 81, 82, 83, 84, 85, 86, 87, 88, 89, 90, 91, 92, 93, 94, 95, 96, 97, 98, 99, 100, 101, 102, 103, 104, 105, 106, 107, 108, 109, 110, 111, 112, 113, 114, 115, 116, 117, 118, 119, 120, 121, 122, 123, 124, 125, 126, 127, 128, 129, 130, 131, 132, 133, 134, 135, 136, 137, 138, 139, 140, 141, 142, 143, 144, 145, 146, 147, 148, 149, 150, 151, 152, 153, 154, 155, 156, 157, 158, 159, 160, 161, 162, 163, 164, 165, 166, 167, 168, 169, 170, 171, 172, 173, 174, 175, 176, 177, 178, 179, 180, 181, 182, 183, 184, 185, 186, 187, 188, 189, 190, 191])"
   ]
  },
  {
   "cell_type": "code",
   "execution_count": 445,
   "id": "79d227da",
   "metadata": {},
   "outputs": [
    {
     "name": "stdout",
     "output_type": "stream",
     "text": [
      "[  0   1   2   3   4   5   6   7   8   9  10  11  12  13  14  15  16  17\n",
      "  18  19  20  21  22  23  24  25  26  27  28  29  30  31  32  33  34  35\n",
      "  36  37  38  39  40  41  42  43  44  45  46  47  48  49  50  51  52  53\n",
      "  54  55  56  57  58  59  60  61  62  63  64  65  66  67  68  69  70  71\n",
      "  72  73  74  75  76  77  78  79  80  81  82  83  84  85  86  87  88  89\n",
      "  90  91  92  93  94  95  96  97  98  99 100 101 102 103 104 105 106 107\n",
      " 108 109 110 111 112 113 114 115 116 117 118 119 120 121 122 123 124 125\n",
      " 126 127 128 129 130 131 132 133 134 135 136 137 138 139 140 141 142 143\n",
      " 144 145 146 147 148 149 150 151 152 153 154 155 156 157 158 159 160 161\n",
      " 162 163 164 165 166 167 168 169 170 171 172 173 174 175 176 177 178 179\n",
      " 180 181 182 183 184 185 186 187 188 189 190 191]\n"
     ]
    }
   ],
   "source": [
    "print(arr)"
   ]
  },
  {
   "cell_type": "code",
   "execution_count": 448,
   "id": "fd473ec2",
   "metadata": {},
   "outputs": [],
   "source": [
    "# subarray = -1, reshape the array to its best possible form\n",
    "newarr = arr.reshape(8,2,3,-1)"
   ]
  },
  {
   "cell_type": "code",
   "execution_count": 449,
   "id": "701f97b8",
   "metadata": {},
   "outputs": [
    {
     "name": "stdout",
     "output_type": "stream",
     "text": [
      "array shape (8, 2, 3, 4)\n",
      "array dimension 4\n"
     ]
    }
   ],
   "source": [
    "print('array shape', newarr.shape)\n",
    "print('array dimension', newarr.ndim)"
   ]
  },
  {
   "cell_type": "code",
   "execution_count": null,
   "id": "0e50fa34",
   "metadata": {},
   "outputs": [],
   "source": []
  },
  {
   "cell_type": "markdown",
   "id": "d8cf4e33",
   "metadata": {},
   "source": [
    "#### Iteration Arrays\n",
    "\n",
    "`nditer()` iterates over all the data in the array and returns each"
   ]
  },
  {
   "cell_type": "code",
   "execution_count": 514,
   "id": "85990a1b",
   "metadata": {},
   "outputs": [],
   "source": [
    "arr = np.array([0, 1, 2, 3, 4, 5, 6, 7, 8, 9, 10, 11, 12, 13, 14, 15, 16, 17, 18, 19, 20, 21, 22, 23])\n",
    "newarr = arr.reshape(3,4,-1).copy()"
   ]
  },
  {
   "cell_type": "code",
   "execution_count": 517,
   "id": "3766be82",
   "metadata": {},
   "outputs": [
    {
     "data": {
      "text/plain": [
       "array([[[ 0,  1],\n",
       "        [ 2,  3],\n",
       "        [ 4,  5],\n",
       "        [ 6,  7]],\n",
       "\n",
       "       [[ 8,  9],\n",
       "        [10, 11],\n",
       "        [12, 13],\n",
       "        [14, 15]],\n",
       "\n",
       "       [[16, 17],\n",
       "        [18, 19],\n",
       "        [20, 21],\n",
       "        [22, 23]]])"
      ]
     },
     "execution_count": 517,
     "metadata": {},
     "output_type": "execute_result"
    }
   ],
   "source": [
    "newarr"
   ]
  },
  {
   "cell_type": "code",
   "execution_count": 518,
   "id": "59ee7a1d",
   "metadata": {},
   "outputs": [
    {
     "name": "stdout",
     "output_type": "stream",
     "text": [
      "[ 0  1  2  3  4  5  6  7  8  9 10 11 12 13 14 15 16 17 18 19 20 21 22 23]\n"
     ]
    }
   ],
   "source": [
    "print(arr)"
   ]
  },
  {
   "cell_type": "code",
   "execution_count": 458,
   "id": "5712b76e",
   "metadata": {},
   "outputs": [
    {
     "name": "stdout",
     "output_type": "stream",
     "text": [
      "0\n",
      "1\n",
      "2\n",
      "3\n",
      "4\n",
      "5\n",
      "6\n",
      "7\n",
      "8\n",
      "9\n",
      "10\n",
      "11\n",
      "12\n",
      "13\n",
      "14\n",
      "15\n",
      "16\n",
      "17\n",
      "18\n",
      "19\n",
      "20\n",
      "21\n",
      "22\n",
      "23\n"
     ]
    }
   ],
   "source": [
    "for i in np.nditer(newarr):\n",
    "    print(i)"
   ]
  },
  {
   "cell_type": "code",
   "execution_count": null,
   "id": "966a8989",
   "metadata": {},
   "outputs": [],
   "source": [
    "array([[ 0,  1,  2,  3,  4,  5,  6,  7],\n",
    "       [ 8,  9, 10, 11, 12, 13, 14, 15],\n",
    "       [16, 17, 18, 19, 20, 21, 22, 23]])"
   ]
  },
  {
   "cell_type": "code",
   "execution_count": null,
   "id": "eb6e7c8d",
   "metadata": {},
   "outputs": [],
   "source": []
  },
  {
   "cell_type": "markdown",
   "id": "d02f31f9",
   "metadata": {},
   "source": [
    "#### Basic mathematical operation "
   ]
  },
  {
   "cell_type": "code",
   "execution_count": 494,
   "id": "eb76c599",
   "metadata": {},
   "outputs": [],
   "source": [
    "pre_sale = np.array([1,2,3,4,5])\n",
    "cur_sale = np.array([9,8,7,6,5])"
   ]
  },
  {
   "cell_type": "code",
   "execution_count": 503,
   "id": "662ff208",
   "metadata": {},
   "outputs": [
    {
     "name": "stdout",
     "output_type": "stream",
     "text": [
      "[10 10 10 10 10]\n"
     ]
    }
   ],
   "source": [
    "# addition\n",
    "print(pre_sale + cur_sale)"
   ]
  },
  {
   "cell_type": "code",
   "execution_count": 504,
   "id": "3c10f35b",
   "metadata": {},
   "outputs": [
    {
     "name": "stdout",
     "output_type": "stream",
     "text": [
      "[ 9 16 21 24 25]\n"
     ]
    }
   ],
   "source": [
    "# multiplication\n",
    "print(pre_sale * cur_sale)"
   ]
  },
  {
   "cell_type": "code",
   "execution_count": 505,
   "id": "e7c5d4a3",
   "metadata": {},
   "outputs": [
    {
     "name": "stdout",
     "output_type": "stream",
     "text": [
      "[-8 -6 -4 -2  0]\n"
     ]
    }
   ],
   "source": [
    "# subtraction\n",
    "print(pre_sale - cur_sale)"
   ]
  },
  {
   "cell_type": "code",
   "execution_count": 506,
   "id": "8bca7384",
   "metadata": {},
   "outputs": [
    {
     "name": "stdout",
     "output_type": "stream",
     "text": [
      "[0.11111111 0.25       0.42857143 0.66666667 1.        ]\n"
     ]
    }
   ],
   "source": [
    "# division\n",
    "print(pre_sale / cur_sale)"
   ]
  },
  {
   "cell_type": "code",
   "execution_count": 507,
   "id": "5986ab23",
   "metadata": {},
   "outputs": [
    {
     "name": "stdout",
     "output_type": "stream",
     "text": [
      "[0 0 0 0 1]\n"
     ]
    }
   ],
   "source": [
    "# floor division\n",
    "print(pre_sale // cur_sale)"
   ]
  },
  {
   "cell_type": "code",
   "execution_count": 508,
   "id": "83a91282",
   "metadata": {},
   "outputs": [
    {
     "name": "stdout",
     "output_type": "stream",
     "text": [
      "[1 2 3 4 0]\n"
     ]
    }
   ],
   "source": [
    "# modulus\n",
    "print(pre_sale % cur_sale)"
   ]
  },
  {
   "cell_type": "code",
   "execution_count": 509,
   "id": "98c4480c",
   "metadata": {},
   "outputs": [
    {
     "name": "stdout",
     "output_type": "stream",
     "text": [
      "[   1  256 2187 4096 3125]\n"
     ]
    }
   ],
   "source": [
    "# exponetial\n",
    "print(pre_sale ** cur_sale)"
   ]
  },
  {
   "cell_type": "code",
   "execution_count": 513,
   "id": "0ac7e60b",
   "metadata": {},
   "outputs": [
    {
     "name": "stdout",
     "output_type": "stream",
     "text": [
      "[3.         2.82842712 2.64575131 2.44948974 2.23606798]\n"
     ]
    }
   ],
   "source": [
    "# square root\n",
    "# np.sqrt\n",
    "print(np.sqrt(cur_sale))"
   ]
  },
  {
   "cell_type": "code",
   "execution_count": 524,
   "id": "3cfed2bc",
   "metadata": {},
   "outputs": [],
   "source": [
    "# matrix\n",
    "arr = np.array([[0, 1, 2],\n",
    "       [3, 4, 5],\n",
    "       [6, 7, 8]])"
   ]
  },
  {
   "cell_type": "code",
   "execution_count": null,
   "id": "dfd1f612",
   "metadata": {},
   "outputs": [],
   "source": []
  },
  {
   "cell_type": "code",
   "execution_count": null,
   "id": "aa846403",
   "metadata": {},
   "outputs": [],
   "source": []
  },
  {
   "cell_type": "code",
   "execution_count": null,
   "id": "f3585b41",
   "metadata": {},
   "outputs": [],
   "source": []
  },
  {
   "cell_type": "code",
   "execution_count": null,
   "id": "9539b267",
   "metadata": {},
   "outputs": [],
   "source": []
  },
  {
   "cell_type": "code",
   "execution_count": null,
   "id": "5942b430",
   "metadata": {},
   "outputs": [],
   "source": []
  },
  {
   "cell_type": "code",
   "execution_count": null,
   "id": "f5a17d1f",
   "metadata": {},
   "outputs": [],
   "source": []
  },
  {
   "cell_type": "code",
   "execution_count": null,
   "id": "526bc9c6",
   "metadata": {},
   "outputs": [],
   "source": []
  },
  {
   "cell_type": "code",
   "execution_count": null,
   "id": "ba92f0df",
   "metadata": {},
   "outputs": [],
   "source": []
  },
  {
   "cell_type": "code",
   "execution_count": null,
   "id": "a5e9eeb4",
   "metadata": {},
   "outputs": [],
   "source": []
  },
  {
   "cell_type": "code",
   "execution_count": null,
   "id": "79ab216d",
   "metadata": {},
   "outputs": [],
   "source": []
  },
  {
   "cell_type": "code",
   "execution_count": 522,
   "id": "80346174",
   "metadata": {},
   "outputs": [
    {
     "data": {
      "text/plain": [
       "array([[0, 1, 2],\n",
       "       [3, 4, 5],\n",
       "       [6, 7, 8]])"
      ]
     },
     "execution_count": 522,
     "metadata": {},
     "output_type": "execute_result"
    }
   ],
   "source": [
    "x = []\n",
    "for i in range(9):\n",
    "    x.append(i)\n",
    "x = np.array(x)\n",
    "x.reshape(3,-1)"
   ]
  },
  {
   "cell_type": "code",
   "execution_count": null,
   "id": "76ce633d",
   "metadata": {},
   "outputs": [],
   "source": []
  },
  {
   "cell_type": "code",
   "execution_count": null,
   "id": "2ad7bde9",
   "metadata": {},
   "outputs": [],
   "source": []
  },
  {
   "cell_type": "code",
   "execution_count": null,
   "id": "35c0e3cc",
   "metadata": {},
   "outputs": [],
   "source": []
  },
  {
   "cell_type": "code",
   "execution_count": null,
   "id": "fa8fdf06",
   "metadata": {},
   "outputs": [],
   "source": []
  },
  {
   "cell_type": "code",
   "execution_count": null,
   "id": "60f1f133",
   "metadata": {},
   "outputs": [],
   "source": []
  },
  {
   "cell_type": "code",
   "execution_count": null,
   "id": "fdc8e8aa",
   "metadata": {},
   "outputs": [],
   "source": []
  },
  {
   "cell_type": "code",
   "execution_count": null,
   "id": "d2be5a7c",
   "metadata": {},
   "outputs": [],
   "source": []
  },
  {
   "cell_type": "code",
   "execution_count": null,
   "id": "f10d2e63",
   "metadata": {},
   "outputs": [],
   "source": []
  },
  {
   "cell_type": "code",
   "execution_count": null,
   "id": "42fdf94b",
   "metadata": {},
   "outputs": [],
   "source": []
  },
  {
   "cell_type": "code",
   "execution_count": null,
   "id": "1bfc9503",
   "metadata": {},
   "outputs": [],
   "source": []
  },
  {
   "cell_type": "code",
   "execution_count": null,
   "id": "1164b898",
   "metadata": {},
   "outputs": [],
   "source": []
  },
  {
   "cell_type": "code",
   "execution_count": null,
   "id": "c66d5271",
   "metadata": {},
   "outputs": [],
   "source": [
    "\n"
   ]
  }
 ],
 "metadata": {
  "kernelspec": {
   "display_name": "Python 3 (ipykernel)",
   "language": "python",
   "name": "python3"
  },
  "language_info": {
   "codemirror_mode": {
    "name": "ipython",
    "version": 3
   },
   "file_extension": ".py",
   "mimetype": "text/x-python",
   "name": "python",
   "nbconvert_exporter": "python",
   "pygments_lexer": "ipython3",
   "version": "3.11.5"
  }
 },
 "nbformat": 4,
 "nbformat_minor": 5
}
