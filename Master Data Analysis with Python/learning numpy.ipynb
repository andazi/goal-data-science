{
 "cells": [
  {
   "cell_type": "markdown",
   "id": "7dc2d0cc",
   "metadata": {},
   "source": [
    "### Numpy"
   ]
  },
  {
   "cell_type": "markdown",
   "id": "76e8536c",
   "metadata": {},
   "source": [
    "A python library that works woth array created by Travis Oliphant and stands for Numerical Python\n",
    "\n",
    "Numpy are faster than list due to the loclity of reference in computer science."
   ]
  },
  {
   "cell_type": "code",
   "execution_count": 1,
   "id": "505ba446",
   "metadata": {},
   "outputs": [],
   "source": [
    "#### import numpy\n",
    "import numpy as np"
   ]
  },
  {
   "cell_type": "code",
   "execution_count": 2,
   "id": "4e709cbd",
   "metadata": {},
   "outputs": [
    {
     "name": "stdout",
     "output_type": "stream",
     "text": [
      "[9 7 5 3 1]\n"
     ]
    }
   ],
   "source": [
    "# creating an array of numbers\n",
    "arr = np.array([9,7,5,3,1])\n",
    "print(arr)"
   ]
  },
  {
   "cell_type": "code",
   "execution_count": 3,
   "id": "b64d3988",
   "metadata": {},
   "outputs": [
    {
     "name": "stdout",
     "output_type": "stream",
     "text": [
      "[2 4 6 8 0]\n"
     ]
    }
   ],
   "source": [
    "# an array object in numpy is called ndarray\n",
    "# we pass a list,tuple,any array-object to array()\n",
    "arr = np.array((2,4,6,8,0))\n",
    "print(arr)"
   ]
  },
  {
   "cell_type": "code",
   "execution_count": 4,
   "id": "f07eb9a9",
   "metadata": {},
   "outputs": [
    {
     "data": {
      "text/plain": [
       "numpy.ndarray"
      ]
     },
     "execution_count": 4,
     "metadata": {},
     "output_type": "execute_result"
    }
   ],
   "source": [
    "type(arr)"
   ]
  },
  {
   "cell_type": "markdown",
   "id": "c1d6be50",
   "metadata": {},
   "source": [
    "#### dimensions in Arrays\n",
    "- these are nested arrays"
   ]
  },
  {
   "cell_type": "markdown",
   "id": "ac4a4f17",
   "metadata": {},
   "source": [
    "- 0-D Arrays\n",
    "\n",
    "Zero dimension array or scalar"
   ]
  },
  {
   "cell_type": "code",
   "execution_count": 5,
   "id": "2a9b4145",
   "metadata": {},
   "outputs": [
    {
     "name": "stdout",
     "output_type": "stream",
     "text": [
      "34\n"
     ]
    }
   ],
   "source": [
    "arr = np.array(34)\n",
    "print(arr)"
   ]
  },
  {
   "cell_type": "code",
   "execution_count": 6,
   "id": "aa16a5c8",
   "metadata": {},
   "outputs": [
    {
     "name": "stdout",
     "output_type": "stream",
     "text": [
      "25\n"
     ]
    }
   ],
   "source": [
    "age = np.array(25)\n",
    "print(age)"
   ]
  },
  {
   "cell_type": "markdown",
   "id": "fe46b4ad",
   "metadata": {},
   "source": [
    "- 1-D Arrays\n",
    "\n",
    "One dimension arrays or uni-dimensional"
   ]
  },
  {
   "cell_type": "code",
   "execution_count": 7,
   "id": "3b5fa029",
   "metadata": {},
   "outputs": [
    {
     "name": "stdout",
     "output_type": "stream",
     "text": [
      "[25 23 27 29 30]\n"
     ]
    }
   ],
   "source": [
    "ages = np.array([25,23,27,29,30])\n",
    "print(ages)"
   ]
  },
  {
   "cell_type": "code",
   "execution_count": 8,
   "id": "b5bca141",
   "metadata": {},
   "outputs": [
    {
     "name": "stdout",
     "output_type": "stream",
     "text": [
      "[123 122 100 123  98]\n"
     ]
    }
   ],
   "source": [
    "heights = np.array((123,122,100,123,98))\n",
    "print(heights)"
   ]
  },
  {
   "cell_type": "markdown",
   "id": "3c11f8ac",
   "metadata": {},
   "source": [
    "- 2-D arrays\n",
    "\n",
    "Often used to represent __matrix__ or 2nd order tensors"
   ]
  },
  {
   "cell_type": "code",
   "execution_count": 9,
   "id": "c9ed99ac",
   "metadata": {},
   "outputs": [
    {
     "name": "stdout",
     "output_type": "stream",
     "text": [
      "[[ 23  34  25  31]\n",
      " [123 200 192 128]]\n"
     ]
    }
   ],
   "source": [
    "health = np.array([[23,34,25,31],[123,200,192,128]])\n",
    "print(health)"
   ]
  },
  {
   "cell_type": "markdown",
   "id": "932c709f",
   "metadata": {},
   "source": [
    "- 3 D array\n",
    "\n",
    "3rd order tensor, an array having 2-D arrays as its element"
   ]
  },
  {
   "cell_type": "code",
   "execution_count": 10,
   "id": "10d88e96",
   "metadata": {},
   "outputs": [
    {
     "name": "stdout",
     "output_type": "stream",
     "text": [
      "[[[ 23  34  25  31]\n",
      "  [123 200 192 128]]\n",
      "\n",
      " [[ 50  60  70  80]\n",
      "  [ 99  88  77  66]]]\n"
     ]
    }
   ],
   "source": [
    "health_score = np.array([[[23,34,25,31],[123,200,192,128]],[[50,60,70,80],[99,88,77,66]]])\n",
    "print(health_score)"
   ]
  },
  {
   "cell_type": "code",
   "execution_count": 11,
   "id": "a9c2eecc",
   "metadata": {},
   "outputs": [],
   "source": [
    "#### checking the dimensions\n",
    "# ndim"
   ]
  },
  {
   "cell_type": "code",
   "execution_count": 12,
   "id": "91a1bc18",
   "metadata": {},
   "outputs": [
    {
     "name": "stdout",
     "output_type": "stream",
     "text": [
      "2\n"
     ]
    }
   ],
   "source": [
    "print(health.ndim)"
   ]
  },
  {
   "cell_type": "code",
   "execution_count": 13,
   "id": "8e0d6fc1",
   "metadata": {},
   "outputs": [
    {
     "name": "stdout",
     "output_type": "stream",
     "text": [
      "0\n"
     ]
    }
   ],
   "source": [
    "print(age.ndim)"
   ]
  },
  {
   "cell_type": "code",
   "execution_count": 14,
   "id": "311ad740",
   "metadata": {},
   "outputs": [
    {
     "name": "stdout",
     "output_type": "stream",
     "text": [
      "3\n"
     ]
    }
   ],
   "source": [
    "print(health_score.ndim)"
   ]
  },
  {
   "cell_type": "code",
   "execution_count": 15,
   "id": "89917adc",
   "metadata": {},
   "outputs": [],
   "source": [
    "# There are no limit to number of dimensions\n",
    "taste = np.array([11,22,33,44,55], ndmin=6)"
   ]
  },
  {
   "cell_type": "code",
   "execution_count": 16,
   "id": "2d1e9028",
   "metadata": {},
   "outputs": [
    {
     "name": "stdout",
     "output_type": "stream",
     "text": [
      "[[[[[[11 22 33 44 55]]]]]]\n"
     ]
    }
   ],
   "source": [
    "print(taste)"
   ]
  },
  {
   "cell_type": "code",
   "execution_count": 17,
   "id": "72e02f95",
   "metadata": {},
   "outputs": [
    {
     "name": "stdout",
     "output_type": "stream",
     "text": [
      "6\n"
     ]
    }
   ],
   "source": [
    "print(taste.ndim)"
   ]
  },
  {
   "cell_type": "markdown",
   "id": "a5da9232",
   "metadata": {},
   "source": [
    "#### Accesing array by indexing"
   ]
  },
  {
   "cell_type": "code",
   "execution_count": 37,
   "id": "c4b80511",
   "metadata": {},
   "outputs": [
    {
     "name": "stdout",
     "output_type": "stream",
     "text": [
      "['Apples' 'Bananas' 'Oranges' 'Grapes' 'Berries' 'Melons' 'Carrots'\n",
      " 'Potatoes' 'Lettuce' 'Tomatoes' 'Cucumbers' 'Broccoli' 'Bread' 'Pasta'\n",
      " 'Rice' 'Cereal' 'Milk' 'Cheese' 'Yogurt' 'Butter' 'Beef' 'Chicken' 'Pork'\n",
      " 'Fish' 'Eggs' 'Nuts' 'Seeds' 'Sweets' 'Drinks']\n"
     ]
    }
   ],
   "source": [
    "# accessing a 1-D array\n",
    "meal_list = np.array([\"Apples\", \"Bananas\", \"Oranges\", \"Grapes\", \"Berries\", \"Melons\", \"Carrots\", \"Potatoes\", \"Lettuce\", \"Tomatoes\", \"Cucumbers\", \"Broccoli\", \"Bread\", \"Pasta\", \"Rice\", \"Cereal\", \"Milk\", \"Cheese\", \"Yogurt\", \"Butter\", \"Beef\", \"Chicken\", \"Pork\", \"Fish\", \"Eggs\", \"Nuts\", \"Seeds\", \"Sweets\", \"Drinks\"])\n",
    "print(meal_list)"
   ]
  },
  {
   "cell_type": "code",
   "execution_count": 38,
   "id": "f700d371",
   "metadata": {},
   "outputs": [
    {
     "name": "stdout",
     "output_type": "stream",
     "text": [
      "1\n"
     ]
    }
   ],
   "source": [
    "print(meal_list.ndim)"
   ]
  },
  {
   "cell_type": "code",
   "execution_count": 31,
   "id": "6165751d",
   "metadata": {},
   "outputs": [
    {
     "name": "stdout",
     "output_type": "stream",
     "text": [
      "Bananas\n"
     ]
    }
   ],
   "source": [
    "# accesing the second item in meal_list\n",
    "second_meal = meal_list[1]\n",
    "print(second_meal)"
   ]
  },
  {
   "cell_type": "code",
   "execution_count": 32,
   "id": "1b101723",
   "metadata": {},
   "outputs": [
    {
     "name": "stdout",
     "output_type": "stream",
     "text": [
      "Drinks\n"
     ]
    }
   ],
   "source": [
    "# accesing the last item in meal_list\n",
    "last_meal = meal_list[-1]\n",
    "print(last_meal)"
   ]
  },
  {
   "cell_type": "code",
   "execution_count": 33,
   "id": "15e5b7c4",
   "metadata": {},
   "outputs": [
    {
     "name": "stdout",
     "output_type": "stream",
     "text": [
      "Carrots\n"
     ]
    }
   ],
   "source": [
    "# accesing the 17th item in meal_list\n",
    "seven_meal = meal_list[6]\n",
    "print(seven_meal)"
   ]
  },
  {
   "cell_type": "code",
   "execution_count": 35,
   "id": "ffd240bf",
   "metadata": {},
   "outputs": [
    {
     "name": "stdout",
     "output_type": "stream",
     "text": [
      "[['product 1' 'product 2' 'product 3' 'product 4' 'product 5' 'product 6'\n",
      "  'product 7' 'product 8' 'product 9' 'product 10' 'product 11'\n",
      "  'product 12' 'product 13' 'product 14' 'product 15' 'product 16'\n",
      "  'product 17' 'product 18' 'product 19' 'product 20' 'product 21'\n",
      "  'product 22' 'product 23' 'product 24' 'product 25' 'product 26'\n",
      "  'product 27' 'product 28' 'product 29']\n",
      " ['Apples' 'Bananas' 'Oranges' 'Grapes' 'Berries' 'Melons' 'Carrots'\n",
      "  'Potatoes' 'Lettuce' 'Tomatoes' 'Cucumbers' 'Broccoli' 'Bread' 'Pasta'\n",
      "  'Rice' 'Cereal' 'Milk' 'Cheese' 'Yogurt' 'Butter' 'Beef' 'Chicken'\n",
      "  'Pork' 'Fish' 'Eggs' 'Nuts' 'Seeds' 'Sweets' 'Drinks']]\n"
     ]
    }
   ],
   "source": [
    "# accessing a 2-D array\n",
    "\n",
    "store_products = np.array(\n",
    "    [\n",
    "        ['product 1', 'product 2', 'product 3', 'product 4', 'product 5', 'product 6', 'product 7', 'product 8', 'product 9', 'product 10', 'product 11', 'product 12', 'product 13', 'product 14', 'product 15', 'product 16', 'product 17', 'product 18', 'product 19', 'product 20', 'product 21', 'product 22', 'product 23', 'product 24', 'product 25', 'product 26', 'product 27', 'product 28', 'product 29'],\n",
    "        [\"Apples\", \"Bananas\", \"Oranges\", \"Grapes\", \"Berries\", \"Melons\", \"Carrots\", \"Potatoes\", \"Lettuce\", \"Tomatoes\", \"Cucumbers\", \"Broccoli\", \"Bread\", \"Pasta\", \"Rice\", \"Cereal\", \"Milk\", \"Cheese\", \"Yogurt\", \"Butter\", \"Beef\", \"Chicken\", \"Pork\", \"Fish\", \"Eggs\", \"Nuts\", \"Seeds\", \"Sweets\", \"Drinks\"]\n",
    "    ]\n",
    ")\n",
    "\n",
    "print(store_products)"
   ]
  },
  {
   "cell_type": "code",
   "execution_count": 39,
   "id": "a27c45bd",
   "metadata": {},
   "outputs": [
    {
     "name": "stdout",
     "output_type": "stream",
     "text": [
      "2\n"
     ]
    }
   ],
   "source": [
    "print(store_products.ndim)"
   ]
  },
  {
   "cell_type": "code",
   "execution_count": 41,
   "id": "5b1f3112",
   "metadata": {},
   "outputs": [
    {
     "name": "stdout",
     "output_type": "stream",
     "text": [
      "['product 1' 'product 2' 'product 3' 'product 4' 'product 5' 'product 6'\n",
      " 'product 7' 'product 8' 'product 9' 'product 10' 'product 11'\n",
      " 'product 12' 'product 13' 'product 14' 'product 15' 'product 16'\n",
      " 'product 17' 'product 18' 'product 19' 'product 20' 'product 21'\n",
      " 'product 22' 'product 23' 'product 24' 'product 25' 'product 26'\n",
      " 'product 27' 'product 28' 'product 29']\n"
     ]
    }
   ],
   "source": [
    "# accesing the first item in store_product\n",
    "print(store_products[0])"
   ]
  },
  {
   "cell_type": "code",
   "execution_count": 43,
   "id": "af044c74",
   "metadata": {},
   "outputs": [
    {
     "name": "stdout",
     "output_type": "stream",
     "text": [
      "product 1\n"
     ]
    }
   ],
   "source": [
    "# what about the first item in the first item\n",
    "print(store_products[0][0])\n",
    "# the pattern of accessing items is preferably used in List but not ideally in numpy array"
   ]
  },
  {
   "cell_type": "code",
   "execution_count": 44,
   "id": "a2a0e77a",
   "metadata": {},
   "outputs": [
    {
     "name": "stdout",
     "output_type": "stream",
     "text": [
      "product 1\n"
     ]
    }
   ],
   "source": [
    "# accessing the product 1 using numpy \n",
    "print(store_products[0,0])"
   ]
  },
  {
   "cell_type": "code",
   "execution_count": 67,
   "id": "f4d8b42a",
   "metadata": {},
   "outputs": [],
   "source": [
    "# creating a 7-D array\n",
    "\n",
    "seventh_dim = np.array(np.random.randint(10,100,10), ndmin=7)"
   ]
  },
  {
   "cell_type": "code",
   "execution_count": 68,
   "id": "12e3a3dd",
   "metadata": {},
   "outputs": [
    {
     "name": "stdout",
     "output_type": "stream",
     "text": [
      "[[[[[[[33 17 88 73 12 26 30 87 32 69]]]]]]]\n"
     ]
    }
   ],
   "source": [
    "print(seventh_dim)"
   ]
  },
  {
   "cell_type": "code",
   "execution_count": 69,
   "id": "078e7084",
   "metadata": {},
   "outputs": [
    {
     "name": "stdout",
     "output_type": "stream",
     "text": [
      "69\n"
     ]
    }
   ],
   "source": [
    "# accesing the last item using list\n",
    "last_item = seventh_dim[0][0][0][0][0][0][-1]\n",
    "print(last_item)"
   ]
  },
  {
   "cell_type": "code",
   "execution_count": 70,
   "id": "dc795d9c",
   "metadata": {},
   "outputs": [
    {
     "name": "stdout",
     "output_type": "stream",
     "text": [
      "69\n"
     ]
    }
   ],
   "source": [
    "# using numpy\n",
    "last_item = seventh_dim[0,0,0,0,0,0,-1]\n",
    "print(last_item)"
   ]
  },
  {
   "cell_type": "markdown",
   "id": "b36bbd49",
   "metadata": {},
   "source": [
    "#### Slicing\n",
    "\n",
    "`arr[start:end:step,index]`"
   ]
  },
  {
   "cell_type": "markdown",
   "id": "d89c033c",
   "metadata": {},
   "source": [
    "Slicing a 1-D array"
   ]
  },
  {
   "cell_type": "code",
   "execution_count": 71,
   "id": "6be92add",
   "metadata": {},
   "outputs": [
    {
     "name": "stdout",
     "output_type": "stream",
     "text": [
      "['Apples' 'Bananas' 'Oranges' 'Grapes' 'Berries' 'Melons' 'Carrots'\n",
      " 'Potatoes' 'Lettuce' 'Tomatoes' 'Cucumbers' 'Broccoli' 'Bread' 'Pasta'\n",
      " 'Rice' 'Cereal' 'Milk' 'Cheese' 'Yogurt' 'Butter' 'Beef' 'Chicken' 'Pork'\n",
      " 'Fish' 'Eggs' 'Nuts' 'Seeds' 'Sweets' 'Drinks']\n"
     ]
    }
   ],
   "source": [
    "print(meal_list)"
   ]
  },
  {
   "cell_type": "code",
   "execution_count": 73,
   "id": "3776829b",
   "metadata": {},
   "outputs": [
    {
     "data": {
      "text/plain": [
       "29"
      ]
     },
     "execution_count": 73,
     "metadata": {},
     "output_type": "execute_result"
    }
   ],
   "source": [
    "len(meal_list) # length of meal_list"
   ]
  },
  {
   "cell_type": "code",
   "execution_count": 75,
   "id": "e66bf0fe",
   "metadata": {},
   "outputs": [
    {
     "name": "stdout",
     "output_type": "stream",
     "text": [
      "['Apples' 'Bananas' 'Oranges' 'Grapes' 'Berries' 'Melons' 'Carrots'\n",
      " 'Potatoes' 'Lettuce' 'Tomatoes' 'Cucumbers' 'Broccoli' 'Bread' 'Pasta'\n",
      " 'Rice' 'Cereal' 'Milk' 'Cheese' 'Yogurt' 'Butter' 'Beef' 'Chicken' 'Pork'\n",
      " 'Fish' 'Eggs' 'Nuts' 'Seeds' 'Sweets' 'Drinks'] 29\n"
     ]
    }
   ],
   "source": [
    "# slice from begiinning to ending\n",
    "meal_1 = meal_list[:]\n",
    "print(meal_1)\n",
    "# by default, start = 0, end = ending"
   ]
  },
  {
   "cell_type": "code",
   "execution_count": 78,
   "id": "e3e4e8db",
   "metadata": {},
   "outputs": [
    {
     "name": "stdout",
     "output_type": "stream",
     "text": [
      "['Apples' 'Bananas' 'Oranges' 'Grapes' 'Berries' 'Melons' 'Carrots'\n",
      " 'Potatoes' 'Lettuce' 'Tomatoes' 'Cucumbers' 'Broccoli' 'Bread' 'Pasta'\n",
      " 'Rice' 'Cereal' 'Milk' 'Cheese' 'Yogurt' 'Butter' 'Beef' 'Chicken' 'Pork'\n",
      " 'Fish' 'Eggs' 'Nuts' 'Seeds' 'Sweets' 'Drinks']\n"
     ]
    }
   ],
   "source": [
    "print(meal_list[0:])"
   ]
  },
  {
   "cell_type": "code",
   "execution_count": 80,
   "id": "0920a00d",
   "metadata": {},
   "outputs": [
    {
     "name": "stdout",
     "output_type": "stream",
     "text": [
      "['Apples' 'Bananas' 'Oranges' 'Grapes' 'Berries' 'Melons' 'Carrots'\n",
      " 'Potatoes' 'Lettuce' 'Tomatoes' 'Cucumbers' 'Broccoli' 'Bread' 'Pasta'\n",
      " 'Rice' 'Cereal' 'Milk' 'Cheese' 'Yogurt' 'Butter' 'Beef' 'Chicken' 'Pork'\n",
      " 'Fish' 'Eggs' 'Nuts' 'Seeds' 'Sweets']\n"
     ]
    }
   ],
   "source": [
    "print(meal_list[:-1])\n",
    "# last item was sliced out"
   ]
  },
  {
   "cell_type": "code",
   "execution_count": 85,
   "id": "81b599d1",
   "metadata": {},
   "outputs": [
    {
     "name": "stdout",
     "output_type": "stream",
     "text": [
      "['Apples' 'Oranges' 'Berries' 'Carrots' 'Lettuce' 'Cucumbers' 'Bread'\n",
      " 'Rice' 'Milk' 'Yogurt' 'Beef' 'Pork' 'Eggs' 'Seeds' 'Drinks']\n"
     ]
    }
   ],
   "source": [
    "print(meal_list[::2])\n",
    "# be default step = 1, this returns the item after every two step"
   ]
  },
  {
   "cell_type": "markdown",
   "id": "06c5054b",
   "metadata": {},
   "source": [
    "Slicing a 2-D array"
   ]
  },
  {
   "cell_type": "code",
   "execution_count": 86,
   "id": "c71990c8",
   "metadata": {},
   "outputs": [
    {
     "name": "stdout",
     "output_type": "stream",
     "text": [
      "[['product 1' 'product 2' 'product 3' 'product 4' 'product 5' 'product 6'\n",
      "  'product 7' 'product 8' 'product 9' 'product 10' 'product 11'\n",
      "  'product 12' 'product 13' 'product 14' 'product 15' 'product 16'\n",
      "  'product 17' 'product 18' 'product 19' 'product 20' 'product 21'\n",
      "  'product 22' 'product 23' 'product 24' 'product 25' 'product 26'\n",
      "  'product 27' 'product 28' 'product 29']\n",
      " ['Apples' 'Bananas' 'Oranges' 'Grapes' 'Berries' 'Melons' 'Carrots'\n",
      "  'Potatoes' 'Lettuce' 'Tomatoes' 'Cucumbers' 'Broccoli' 'Bread' 'Pasta'\n",
      "  'Rice' 'Cereal' 'Milk' 'Cheese' 'Yogurt' 'Butter' 'Beef' 'Chicken'\n",
      "  'Pork' 'Fish' 'Eggs' 'Nuts' 'Seeds' 'Sweets' 'Drinks']]\n"
     ]
    }
   ],
   "source": [
    "print(store_products)"
   ]
  },
  {
   "cell_type": "code",
   "execution_count": 91,
   "id": "fb4081eb",
   "metadata": {},
   "outputs": [
    {
     "name": "stdout",
     "output_type": "stream",
     "text": [
      "['product 1' 'product 2' 'product 3' 'product 4' 'product 5']\n"
     ]
    }
   ],
   "source": [
    "# slicing the fisrt 5 item in the first list in the above 2-D array\n",
    "print(store_products[0,:5])"
   ]
  },
  {
   "cell_type": "code",
   "execution_count": 90,
   "id": "344a2dc7",
   "metadata": {},
   "outputs": [
    {
     "name": "stdout",
     "output_type": "stream",
     "text": [
      "['Apples' 'Bananas' 'Oranges' 'Grapes' 'Berries']\n"
     ]
    }
   ],
   "source": [
    "# slicing the fisrt 5 item in the second list in the above 2-D array\n",
    "print(store_products[1,:5])"
   ]
  },
  {
   "cell_type": "code",
   "execution_count": 93,
   "id": "94e87bda",
   "metadata": {},
   "outputs": [
    {
     "name": "stdout",
     "output_type": "stream",
     "text": [
      "['product 2' 'Bananas']\n"
     ]
    }
   ],
   "source": [
    "# returning the second item in both list in the array\n",
    "print(store_products[:,1])"
   ]
  },
  {
   "cell_type": "code",
   "execution_count": 96,
   "id": "f9abc9a0",
   "metadata": {},
   "outputs": [
    {
     "name": "stdout",
     "output_type": "stream",
     "text": [
      "['product 2' 'Bananas']\n"
     ]
    }
   ],
   "source": [
    "# returning the second item in both list in the array\n",
    "print(store_products[0:,1])"
   ]
  },
  {
   "cell_type": "code",
   "execution_count": 98,
   "id": "27b2d7bb",
   "metadata": {},
   "outputs": [
    {
     "name": "stdout",
     "output_type": "stream",
     "text": [
      "[['product 1' 'product 2' 'product 3' 'product 4' 'product 5' 'product 6'\n",
      "  'product 7' 'product 8' 'product 9' 'product 10' 'product 11'\n",
      "  'product 12' 'product 13' 'product 14' 'product 15' 'product 16'\n",
      "  'product 17' 'product 18' 'product 19' 'product 20' 'product 21'\n",
      "  'product 22' 'product 23' 'product 24' 'product 25' 'product 26'\n",
      "  'product 27' 'product 28' 'product 29']\n",
      " ['Apples' 'Bananas' 'Oranges' 'Grapes' 'Berries' 'Melons' 'Carrots'\n",
      "  'Potatoes' 'Lettuce' 'Tomatoes' 'Cucumbers' 'Broccoli' 'Bread' 'Pasta'\n",
      "  'Rice' 'Cereal' 'Milk' 'Cheese' 'Yogurt' 'Butter' 'Beef' 'Chicken'\n",
      "  'Pork' 'Fish' 'Eggs' 'Nuts' 'Seeds' 'Sweets' 'Drinks']]\n"
     ]
    }
   ],
   "source": [
    "print(store_products[:,:])"
   ]
  },
  {
   "cell_type": "code",
   "execution_count": null,
   "id": "2444c1c0",
   "metadata": {},
   "outputs": [],
   "source": []
  },
  {
   "cell_type": "markdown",
   "id": "908aa591",
   "metadata": {},
   "source": [
    "#### data types\n",
    "\n",
    "\n",
    "- __Data Type\tDescription__\n",
    "- i\tSigned integer\n",
    "- b\tBoolean (True or False)\n",
    "-u\tUnsigned integer\n",
    "-f\tFloating-point number\n",
    "-c\tComplex number (real and imaginary parts)\n",
    "-m\tTimedelta (representing a duration)\n",
    "-M\tDatetime (specific point in time)\n",
    "-O\tObject (can store any Python object)\n",
    "-S\tString (fixed-length sequence of characters)\n",
    "-U\tUnicode string (fixed-length sequence of Unicode characters)\n",
    "-V\tVoid (fixed-size raw memory buffer)\n",
    "\n",
    "We can check the data type of an array `dtype` property"
   ]
  },
  {
   "cell_type": "code",
   "execution_count": 100,
   "id": "030b3844",
   "metadata": {},
   "outputs": [
    {
     "name": "stdout",
     "output_type": "stream",
     "text": [
      "['Apples' 'Bananas' 'Oranges' 'Grapes' 'Berries' 'Melons' 'Carrots'\n",
      " 'Potatoes' 'Lettuce' 'Tomatoes' 'Cucumbers' 'Broccoli' 'Bread' 'Pasta'\n",
      " 'Rice' 'Cereal' 'Milk' 'Cheese' 'Yogurt' 'Butter' 'Beef' 'Chicken' 'Pork'\n",
      " 'Fish' 'Eggs' 'Nuts' 'Seeds' 'Sweets' 'Drinks']\n"
     ]
    }
   ],
   "source": [
    "print(meal_list)"
   ]
  },
  {
   "cell_type": "code",
   "execution_count": 102,
   "id": "96048996",
   "metadata": {},
   "outputs": [
    {
     "name": "stdout",
     "output_type": "stream",
     "text": [
      "<U9\n"
     ]
    }
   ],
   "source": [
    "print(meal_list.dtype)"
   ]
  },
  {
   "cell_type": "code",
   "execution_count": 107,
   "id": "774b5e31",
   "metadata": {},
   "outputs": [
    {
     "name": "stdout",
     "output_type": "stream",
     "text": [
      "[123 122 100 123  98]\n"
     ]
    }
   ],
   "source": [
    "print(heights)"
   ]
  },
  {
   "cell_type": "code",
   "execution_count": 109,
   "id": "2111332a",
   "metadata": {},
   "outputs": [
    {
     "name": "stdout",
     "output_type": "stream",
     "text": [
      "int64\n"
     ]
    }
   ],
   "source": [
    "print(heights.dtype)"
   ]
  },
  {
   "cell_type": "code",
   "execution_count": 139,
   "id": "200ebe4e",
   "metadata": {},
   "outputs": [],
   "source": [
    "date = np.array(['2002-01-01', '2003-02-21'])"
   ]
  },
  {
   "cell_type": "code",
   "execution_count": 140,
   "id": "33d85185",
   "metadata": {},
   "outputs": [
    {
     "name": "stdout",
     "output_type": "stream",
     "text": [
      "<U10\n"
     ]
    }
   ],
   "source": [
    "print(date.dtype)"
   ]
  },
  {
   "cell_type": "markdown",
   "id": "abc537be",
   "metadata": {},
   "source": [
    "#### creating defined data type\n",
    "\n",
    "`dtype='V'`"
   ]
  },
  {
   "cell_type": "code",
   "execution_count": 143,
   "id": "e1f0f2ac",
   "metadata": {},
   "outputs": [],
   "source": [
    "# defining the array as a Datetime data type\n",
    "\n",
    "date = np.array(['2002-01-01', '2003-02-21'], dtype='M')"
   ]
  },
  {
   "cell_type": "code",
   "execution_count": 144,
   "id": "32c09715",
   "metadata": {},
   "outputs": [
    {
     "name": "stdout",
     "output_type": "stream",
     "text": [
      "datetime64[D]\n"
     ]
    }
   ],
   "source": [
    "print(date.dtype)"
   ]
  },
  {
   "cell_type": "markdown",
   "id": "7a63a851",
   "metadata": {},
   "source": [
    "#### we can define the size(byte) of some data type\n",
    "\n",
    "`i,u,f,S,U`\n",
    "\n",
    "`dtype='S10'`"
   ]
  },
  {
   "cell_type": "code",
   "execution_count": 147,
   "id": "b512f722",
   "metadata": {},
   "outputs": [],
   "source": [
    "fruit = np.array(['Carrots', 'Potatoes', 'Lettuce', 'Tomatoes'], dtype='S10')"
   ]
  },
  {
   "cell_type": "code",
   "execution_count": 148,
   "id": "d0b5d07f",
   "metadata": {},
   "outputs": [
    {
     "name": "stdout",
     "output_type": "stream",
     "text": [
      "[b'Carrots' b'Potatoes' b'Lettuce' b'Tomatoes']\n"
     ]
    }
   ],
   "source": [
    "print(fruit)"
   ]
  },
  {
   "cell_type": "code",
   "execution_count": 163,
   "id": "6c8894d6",
   "metadata": {},
   "outputs": [],
   "source": [
    "dice = np.array([1,2,3,4,5,6,7,8,9,0], dtype='i2')"
   ]
  },
  {
   "cell_type": "code",
   "execution_count": 164,
   "id": "ec4c7852",
   "metadata": {},
   "outputs": [
    {
     "name": "stdout",
     "output_type": "stream",
     "text": [
      "[1 2 3 4 5 6 7 8 9 0]\n"
     ]
    }
   ],
   "source": [
    "print(dice)"
   ]
  },
  {
   "cell_type": "code",
   "execution_count": 165,
   "id": "6140a489",
   "metadata": {},
   "outputs": [
    {
     "name": "stdout",
     "output_type": "stream",
     "text": [
      "int16\n"
     ]
    }
   ],
   "source": [
    "print(dice.dtype)"
   ]
  },
  {
   "cell_type": "code",
   "execution_count": 176,
   "id": "1654a792",
   "metadata": {},
   "outputs": [
    {
     "ename": "ValueError",
     "evalue": "invalid literal for int() with base 10: 'a'",
     "output_type": "error",
     "traceback": [
      "\u001b[0;31m---------------------------------------------------------------------------\u001b[0m",
      "\u001b[0;31mValueError\u001b[0m                                Traceback (most recent call last)",
      "Cell \u001b[0;32mIn[176], line 1\u001b[0m\n\u001b[0;32m----> 1\u001b[0m charr \u001b[38;5;241m=\u001b[39m np\u001b[38;5;241m.\u001b[39marray([\u001b[38;5;124m'\u001b[39m\u001b[38;5;124ma\u001b[39m\u001b[38;5;124m'\u001b[39m, \u001b[38;5;241m2\u001b[39m, \u001b[38;5;241m3\u001b[39m], dtype\u001b[38;5;241m=\u001b[39m\u001b[38;5;124m'\u001b[39m\u001b[38;5;124mi\u001b[39m\u001b[38;5;124m'\u001b[39m)\n",
      "\u001b[0;31mValueError\u001b[0m: invalid literal for int() with base 10: 'a'"
     ]
    }
   ],
   "source": [
    "charr = np.array(['a', 2, 3], dtype='i')\n",
    "# this returns an error when we try converting the datatype to 'i' (integer) due to the presence of 'STRING'"
   ]
  },
  {
   "cell_type": "code",
   "execution_count": 177,
   "id": "87c4715e",
   "metadata": {},
   "outputs": [
    {
     "name": "stdout",
     "output_type": "stream",
     "text": [
      "|S1\n"
     ]
    }
   ],
   "source": [
    "# we can convert integer to string but not the other way\n",
    "charr = np.array(['a', 2, 3], dtype='S')\n",
    "print(charr.dtype)"
   ]
  },
  {
   "cell_type": "code",
   "execution_count": null,
   "id": "3d3da668",
   "metadata": {},
   "outputs": [],
   "source": []
  },
  {
   "cell_type": "markdown",
   "id": "a0bb9e65",
   "metadata": {},
   "source": [
    "#### astype()\n",
    "\n",
    "- best way to change the data type of an existing array\n",
    "\n",
    "- Always ake a copy \n",
    "\n",
    "```\n",
    "arr = np.array([1,2,3,4,5])\n",
    "newarr = arr.astype('f')\n",
    "```"
   ]
  },
  {
   "cell_type": "code",
   "execution_count": 191,
   "id": "30950534",
   "metadata": {},
   "outputs": [
    {
     "name": "stdout",
     "output_type": "stream",
     "text": [
      "[ 60  45  98 100 -56   0]\n",
      "int64\n"
     ]
    }
   ],
   "source": [
    "score = np.array([60,45,98,100,-56, 0])\n",
    "print(score)\n",
    "print(score.dtype)"
   ]
  },
  {
   "cell_type": "code",
   "execution_count": 192,
   "id": "1bfaaf38",
   "metadata": {},
   "outputs": [
    {
     "name": "stdout",
     "output_type": "stream",
     "text": [
      "[ 60.  45.  98. 100. -56.   0.]\n",
      "float32\n"
     ]
    }
   ],
   "source": [
    "# changing the data type to float\n",
    "new_score = score.astype('f')\n",
    "print(new_score)\n",
    "print(new_score.dtype)"
   ]
  },
  {
   "cell_type": "code",
   "execution_count": 193,
   "id": "597d696c",
   "metadata": {},
   "outputs": [
    {
     "name": "stdout",
     "output_type": "stream",
     "text": [
      "[ True  True  True  True  True False]\n",
      "bool\n"
     ]
    }
   ],
   "source": [
    "# try converting data type to boolean\n",
    "bool_score = score.astype(bool)\n",
    "print(bool_score)\n",
    "print(bool_score.dtype)\n",
    "# all numbers are TRUE but 0"
   ]
  },
  {
   "cell_type": "code",
   "execution_count": null,
   "id": "1d552471",
   "metadata": {},
   "outputs": [],
   "source": []
  },
  {
   "cell_type": "code",
   "execution_count": null,
   "id": "67a5db3e",
   "metadata": {},
   "outputs": [],
   "source": []
  }
 ],
 "metadata": {
  "kernelspec": {
   "display_name": "Python 3 (ipykernel)",
   "language": "python",
   "name": "python3"
  },
  "language_info": {
   "codemirror_mode": {
    "name": "ipython",
    "version": 3
   },
   "file_extension": ".py",
   "mimetype": "text/x-python",
   "name": "python",
   "nbconvert_exporter": "python",
   "pygments_lexer": "ipython3",
   "version": "3.11.5"
  }
 },
 "nbformat": 4,
 "nbformat_minor": 5
}
