{
 "cells": [
  {
   "cell_type": "markdown",
   "id": "7dc2d0cc",
   "metadata": {},
   "source": [
    "### Numpy"
   ]
  },
  {
   "cell_type": "markdown",
   "id": "76e8536c",
   "metadata": {},
   "source": [
    "Alinear algebraic python library that works woth array created by Travis Oliphant and stands for Numerical Python\n",
    "\n",
    "Numpy is a core library for scientific and engineering computation\n",
    "\n",
    "Numpy are faster than list due to the loclity of reference in computer science.\n",
    "\n",
    "All element in a numpy array are homogeneous while a list can have heteregeous elements\n",
    "\n",
    "\n",
    "----\n",
    "##### Array\n",
    "An array is a grid of values and contains raw data."
   ]
  },
  {
   "cell_type": "code",
   "execution_count": 85,
   "id": "505ba446",
   "metadata": {},
   "outputs": [],
   "source": [
    "#### import numpy\n",
    "import numpy as np"
   ]
  },
  {
   "cell_type": "code",
   "execution_count": 86,
   "id": "63fc780d",
   "metadata": {},
   "outputs": [],
   "source": [
    "num = [1,2,3,4,5,6,7,8,9,0]"
   ]
  },
  {
   "cell_type": "code",
   "execution_count": 87,
   "id": "40ae8b93",
   "metadata": {},
   "outputs": [
    {
     "name": "stdout",
     "output_type": "stream",
     "text": [
      "[1, 2, 3, 4, 5, 6, 7, 8, 9, 0]\n",
      "<class 'list'>\n"
     ]
    }
   ],
   "source": [
    "print(num)\n",
    "print(type(num))"
   ]
  },
  {
   "cell_type": "markdown",
   "id": "2d7b015e",
   "metadata": {},
   "source": [
    "### creating an array\n",
    "__np.array()__ creates a numpy array from a list or tuple,"
   ]
  },
  {
   "cell_type": "code",
   "execution_count": 88,
   "id": "39afee13",
   "metadata": {},
   "outputs": [],
   "source": [
    "# creating an array\n",
    "num_array = np.array(num)"
   ]
  },
  {
   "cell_type": "code",
   "execution_count": 89,
   "id": "469da1df",
   "metadata": {},
   "outputs": [
    {
     "name": "stdout",
     "output_type": "stream",
     "text": [
      "[1 2 3 4 5 6 7 8 9 0]\n",
      "<class 'numpy.ndarray'>\n"
     ]
    }
   ],
   "source": [
    "print(num_array)\n",
    "print(type(num_array))"
   ]
  },
  {
   "cell_type": "code",
   "execution_count": 90,
   "id": "b64d3988",
   "metadata": {},
   "outputs": [
    {
     "name": "stdout",
     "output_type": "stream",
     "text": [
      "[2 4 6 8 0]\n"
     ]
    }
   ],
   "source": [
    "# an array object in numpy is called ndarray\n",
    "# we pass a list,tuple,any array-object to array()\n",
    "arr = np.array((2,4,6,8,0))\n",
    "print(arr)"
   ]
  },
  {
   "cell_type": "code",
   "execution_count": 91,
   "id": "f07eb9a9",
   "metadata": {},
   "outputs": [
    {
     "name": "stdout",
     "output_type": "stream",
     "text": [
      "<class 'numpy.ndarray'>\n"
     ]
    }
   ],
   "source": [
    "print(type(arr))"
   ]
  },
  {
   "cell_type": "markdown",
   "id": "dec4132e",
   "metadata": {},
   "source": [
    "#### np.arange(start,stop,step)\n",
    "\n",
    "np.arange => create a sequnce of of number based on the given parameter\n",
    "\n",
    "    start = the staarting number of the sequence\n",
    "    stop = optional, the ending number of a sequence\n",
    "    step = consecutive spacing or step s for the sequence"
   ]
  },
  {
   "cell_type": "code",
   "execution_count": 92,
   "id": "d655db9a",
   "metadata": {},
   "outputs": [
    {
     "data": {
      "text/plain": [
       "array([ 0,  1,  2,  3,  4,  5,  6,  7,  8,  9, 10, 11, 12, 13, 14])"
      ]
     },
     "execution_count": 92,
     "metadata": {},
     "output_type": "execute_result"
    }
   ],
   "source": [
    "np.arange(15,)"
   ]
  },
  {
   "cell_type": "code",
   "execution_count": 93,
   "id": "4a493cb8",
   "metadata": {},
   "outputs": [
    {
     "name": "stdout",
     "output_type": "stream",
     "text": [
      "[ 1  2  3  4  5  6  7  8  9 10 11 12 13 14]\n"
     ]
    }
   ],
   "source": [
    "score = np.arange(1,15)\n",
    "print(score)"
   ]
  },
  {
   "cell_type": "code",
   "execution_count": 94,
   "id": "486983bf",
   "metadata": {},
   "outputs": [
    {
     "name": "stdout",
     "output_type": "stream",
     "text": [
      "[ 1  3  5  7  9 11 13]\n"
     ]
    }
   ],
   "source": [
    "odd_score = np.arange(1,15,2)\n",
    "print(odd_score)"
   ]
  },
  {
   "cell_type": "markdown",
   "id": "d20a6237",
   "metadata": {},
   "source": [
    "#### creating an array filled with zeros, ones,eye"
   ]
  },
  {
   "cell_type": "markdown",
   "id": "34da1f62",
   "metadata": {},
   "source": [
    "__np.zeros()__\n",
    "\n",
    "Often use to initialize an array before filling them with data"
   ]
  },
  {
   "cell_type": "code",
   "execution_count": 95,
   "id": "12d46f92",
   "metadata": {},
   "outputs": [
    {
     "name": "stdout",
     "output_type": "stream",
     "text": [
      "[0. 0. 0. 0. 0.]\n"
     ]
    }
   ],
   "source": [
    "# np.zeroes\n",
    "zero_one_dim = np.zeros(5)\n",
    "print(zero_one_dim)"
   ]
  },
  {
   "cell_type": "code",
   "execution_count": 96,
   "id": "8ffed888",
   "metadata": {},
   "outputs": [
    {
     "name": "stdout",
     "output_type": "stream",
     "text": [
      "[[0. 0.]\n",
      " [0. 0.]\n",
      " [0. 0.]\n",
      " [0. 0.]\n",
      " [0. 0.]]\n",
      "dimension: [0. 0. 0. 0. 0.]\n"
     ]
    }
   ],
   "source": [
    "zero_two_dim = np.zeros((5,2))\n",
    "print(zero_two_dim)\n",
    "print('dimension:',zero_one_dim)"
   ]
  },
  {
   "cell_type": "code",
   "execution_count": 97,
   "id": "8e2c2401",
   "metadata": {},
   "outputs": [
    {
     "name": "stdout",
     "output_type": "stream",
     "text": [
      "[[0. 0. 0. 0. 0.]\n",
      " [0. 0. 0. 0. 0.]]\n"
     ]
    }
   ],
   "source": [
    "zero_two_dim = np.zeros((2,5))\n",
    "print(zero_two_dim)"
   ]
  },
  {
   "cell_type": "markdown",
   "id": "19d8ecb4",
   "metadata": {},
   "source": [
    "#### ones\n",
    "\n",
    "To create arrays for comparison and scale other arrays"
   ]
  },
  {
   "cell_type": "code",
   "execution_count": 98,
   "id": "acff26b1",
   "metadata": {},
   "outputs": [
    {
     "name": "stdout",
     "output_type": "stream",
     "text": [
      "[[1. 1.]\n",
      " [1. 1.]\n",
      " [1. 1.]\n",
      " [1. 1.]\n",
      " [1. 1.]]\n",
      "dimension: 2\n"
     ]
    }
   ],
   "source": [
    "ones_two_dim = np.ones((5,2))\n",
    "print(ones_two_dim)\n",
    "print('dimension:',ones_two_dim.ndim)"
   ]
  },
  {
   "cell_type": "code",
   "execution_count": 99,
   "id": "4a6a3aac",
   "metadata": {},
   "outputs": [
    {
     "name": "stdout",
     "output_type": "stream",
     "text": [
      "[[[1. 1. 1. 1. 1. 1. 1. 1. 1. 1.]\n",
      "  [1. 1. 1. 1. 1. 1. 1. 1. 1. 1.]]\n",
      "\n",
      " [[1. 1. 1. 1. 1. 1. 1. 1. 1. 1.]\n",
      "  [1. 1. 1. 1. 1. 1. 1. 1. 1. 1.]]\n",
      "\n",
      " [[1. 1. 1. 1. 1. 1. 1. 1. 1. 1.]\n",
      "  [1. 1. 1. 1. 1. 1. 1. 1. 1. 1.]]\n",
      "\n",
      " [[1. 1. 1. 1. 1. 1. 1. 1. 1. 1.]\n",
      "  [1. 1. 1. 1. 1. 1. 1. 1. 1. 1.]]\n",
      "\n",
      " [[1. 1. 1. 1. 1. 1. 1. 1. 1. 1.]\n",
      "  [1. 1. 1. 1. 1. 1. 1. 1. 1. 1.]]]\n",
      "dimension: 3\n"
     ]
    }
   ],
   "source": [
    "ones_three_dim = np.ones((5,2,10))\n",
    "print(ones_three_dim)\n",
    "print('dimension:',ones_three_dim.ndim)"
   ]
  },
  {
   "cell_type": "markdown",
   "id": "85d949a3",
   "metadata": {},
   "source": [
    "#### np.eye()\n",
    "\n",
    "np.eye(x) take in one argument wich most be a positive integer\n",
    "\n",
    "np.eye() creates a 2-D array\n",
    "\n",
    "An Identity matrix is a square matrix with ones on the diagomal and zeros on the others"
   ]
  },
  {
   "cell_type": "code",
   "execution_count": 100,
   "id": "22b5f3f0",
   "metadata": {},
   "outputs": [
    {
     "data": {
      "text/plain": [
       "array([[1., 0., 0., 0., 0., 0.],\n",
       "       [0., 1., 0., 0., 0., 0.],\n",
       "       [0., 0., 1., 0., 0., 0.],\n",
       "       [0., 0., 0., 1., 0., 0.],\n",
       "       [0., 0., 0., 0., 1., 0.],\n",
       "       [0., 0., 0., 0., 0., 1.]])"
      ]
     },
     "execution_count": 100,
     "metadata": {},
     "output_type": "execute_result"
    }
   ],
   "source": [
    "np.eye(6)"
   ]
  },
  {
   "cell_type": "markdown",
   "id": "11832078",
   "metadata": {},
   "source": [
    "#### np.linspace()\n",
    "\n",
    "`np.linspace(start,stop,num=50)`\n",
    "start and stop are a must while num is optional\n",
    "\n",
    "by defualt, num is 50\n",
    "\n",
    "This creates arrays with equally space numbers.\n",
    "\n",
    "Useful for scientific computing, data analysis and plotting"
   ]
  },
  {
   "cell_type": "code",
   "execution_count": 101,
   "id": "43f848c4",
   "metadata": {},
   "outputs": [
    {
     "name": "stdout",
     "output_type": "stream",
     "text": [
      "[0.         0.10204082 0.20408163 0.30612245 0.40816327 0.51020408\n",
      " 0.6122449  0.71428571 0.81632653 0.91836735 1.02040816 1.12244898\n",
      " 1.2244898  1.32653061 1.42857143 1.53061224 1.63265306 1.73469388\n",
      " 1.83673469 1.93877551 2.04081633 2.14285714 2.24489796 2.34693878\n",
      " 2.44897959 2.55102041 2.65306122 2.75510204 2.85714286 2.95918367\n",
      " 3.06122449 3.16326531 3.26530612 3.36734694 3.46938776 3.57142857\n",
      " 3.67346939 3.7755102  3.87755102 3.97959184 4.08163265 4.18367347\n",
      " 4.28571429 4.3877551  4.48979592 4.59183673 4.69387755 4.79591837\n",
      " 4.89795918 5.        ]\n",
      "\n",
      "\n",
      "length:  50\n"
     ]
    }
   ],
   "source": [
    "axis = np.linspace(0,5)\n",
    "print(axis)\n",
    "print('\\n\\nlength: ', len(axis))"
   ]
  },
  {
   "cell_type": "code",
   "execution_count": 102,
   "id": "1a85e067",
   "metadata": {},
   "outputs": [
    {
     "name": "stdout",
     "output_type": "stream",
     "text": [
      "[0.         0.55555556 1.11111111 1.66666667 2.22222222 2.77777778\n",
      " 3.33333333 3.88888889 4.44444444 5.        ]\n",
      "\n",
      "\n",
      "length:  10\n"
     ]
    }
   ],
   "source": [
    "# i want 10 numbers only\n",
    "axis = np.linspace(0,5,10)\n",
    "print(axis)\n",
    "print('\\n\\nlength: ', len(axis))"
   ]
  },
  {
   "cell_type": "code",
   "execution_count": 103,
   "id": "022269bd",
   "metadata": {},
   "outputs": [
    {
     "name": "stdout",
     "output_type": "stream",
     "text": [
      "[ 0.   2.5  5.   7.5 10. ]\n",
      "length:  5\n"
     ]
    }
   ],
   "source": [
    "axis = np.linspace(0,10,5)\n",
    "print(axis)\n",
    "print('length: ', len(axis))\n",
    "# you would observe that they are all evnenly soaced numbers"
   ]
  },
  {
   "cell_type": "markdown",
   "id": "b859e1d0",
   "metadata": {},
   "source": [
    "#### np.random.rand()\n",
    "\n",
    "Creates an array of floating point numbers drawn from a uniform distribution over the interval 0 and 1.\n",
    "\n",
    "By default it takes in no argument and returns a single floating number (0-D array)\n",
    "\n",
    "it takes in the shape of the array you want\n",
    "\n",
    "Used in Monte Carlo simulations, statistical analysis, and random sampling."
   ]
  },
  {
   "cell_type": "code",
   "execution_count": 104,
   "id": "6e56ffb0",
   "metadata": {},
   "outputs": [
    {
     "name": "stdout",
     "output_type": "stream",
     "text": [
      "0.871167811356928\n"
     ]
    }
   ],
   "source": [
    "zero = np.random.rand() # 0-D array\n",
    "print(zero)"
   ]
  },
  {
   "cell_type": "code",
   "execution_count": 105,
   "id": "cb816308",
   "metadata": {},
   "outputs": [
    {
     "name": "stdout",
     "output_type": "stream",
     "text": [
      "[0.48732396 0.58856309 0.05574647 0.19318325 0.68303205]\n",
      "Dimension:  1\n"
     ]
    }
   ],
   "source": [
    "one = np.random.rand(5) # 1-D array\n",
    "print(one)\n",
    "print('Dimension: ', one.ndim)"
   ]
  },
  {
   "cell_type": "code",
   "execution_count": 106,
   "id": "40a2871d",
   "metadata": {},
   "outputs": [
    {
     "name": "stdout",
     "output_type": "stream",
     "text": [
      "[[0.33577468 0.40616455 0.1553076  0.55486474]\n",
      " [0.80897007 0.77552728 0.94473915 0.62459061]\n",
      " [0.1619524  0.79912206 0.71086633 0.48984988]\n",
      " [0.66182271 0.17909708 0.22309442 0.30620319]\n",
      " [0.20341528 0.67765572 0.39379928 0.18031204]]\n",
      "Dimension:  2\n"
     ]
    }
   ],
   "source": [
    "two = np.random.rand(5,4) # 2-D array\n",
    "print(two)\n",
    "print('Dimension: ', two.ndim)"
   ]
  },
  {
   "cell_type": "code",
   "execution_count": 107,
   "id": "f620a6b8",
   "metadata": {},
   "outputs": [
    {
     "name": "stdout",
     "output_type": "stream",
     "text": [
      "[[[0.49994425 0.6052929  0.47054529 0.9210666 ]\n",
      "  [0.61179902 0.19875895 0.23795591 0.8192451 ]\n",
      "  [0.40662786 0.89979431 0.28248356 0.6582421 ]]\n",
      "\n",
      " [[0.69007549 0.71634867 0.86512923 0.58652912]\n",
      "  [0.85500386 0.63564433 0.72356425 0.1808425 ]\n",
      "  [0.83149343 0.20048719 0.1068083  0.57955751]]]\n",
      "Dimension:  3\n"
     ]
    }
   ],
   "source": [
    "three = np.random.rand(2,3,4) # 3-D array\n",
    "print(three)\n",
    "print('Dimension: ', three.ndim)"
   ]
  },
  {
   "cell_type": "code",
   "execution_count": 108,
   "id": "5ba5534d",
   "metadata": {},
   "outputs": [
    {
     "name": "stdout",
     "output_type": "stream",
     "text": [
      "[[[[0.36202962 0.55754052]\n",
      "   [0.62701014 0.13060072]\n",
      "   [0.92203055 0.27763241]\n",
      "   [0.47490136 0.9953433 ]]\n",
      "\n",
      "  [[0.79642017 0.28151816]\n",
      "   [0.41127475 0.71522435]\n",
      "   [0.32762282 0.66912291]\n",
      "   [0.52601623 0.34079049]]\n",
      "\n",
      "  [[0.25561121 0.19195987]\n",
      "   [0.2891549  0.47698319]\n",
      "   [0.50144201 0.3201473 ]\n",
      "   [0.61696216 0.12423093]]]\n",
      "\n",
      "\n",
      " [[[0.71989997 0.03877158]\n",
      "   [0.67550632 0.81837576]\n",
      "   [0.78221273 0.42105294]\n",
      "   [0.94022753 0.41142533]]\n",
      "\n",
      "  [[0.93919849 0.17448992]\n",
      "   [0.15983423 0.40164369]\n",
      "   [0.20781395 0.2265934 ]\n",
      "   [0.48264511 0.40116511]]\n",
      "\n",
      "  [[0.1862328  0.95123331]\n",
      "   [0.95647886 0.37445938]\n",
      "   [0.4616498  0.71527171]\n",
      "   [0.22642284 0.52008378]]]]\n",
      "Dimension:  4\n"
     ]
    }
   ],
   "source": [
    "four = np.random.rand(2,3,4,2) # 4-D array\n",
    "print(four)\n",
    "print('Dimension: ', four.ndim)"
   ]
  },
  {
   "cell_type": "markdown",
   "id": "57a87769",
   "metadata": {},
   "source": [
    "#### np.random.randn()\n",
    "\n",
    "creates an array of random flaoting point numbers drawn from a standard normal distribution which has a mean of 0 and variance of 1\n",
    "\n",
    "Commonly used in Monte Carlo simulation, statiscal analysis and machine learning"
   ]
  },
  {
   "cell_type": "code",
   "execution_count": 109,
   "id": "f838d441",
   "metadata": {},
   "outputs": [
    {
     "name": "stdout",
     "output_type": "stream",
     "text": [
      "1.6944281671517267\n"
     ]
    }
   ],
   "source": [
    "zero = np.random.randn()\n",
    "print(zero)"
   ]
  },
  {
   "cell_type": "code",
   "execution_count": 110,
   "id": "f9b2563e",
   "metadata": {},
   "outputs": [
    {
     "name": "stdout",
     "output_type": "stream",
     "text": [
      "[[ 0.76304164  0.52429029 -0.02553158  0.92980317  0.47552891]\n",
      " [ 0.6267734  -1.55837854 -0.44041459  0.03716888 -0.20524588]\n",
      " [-0.33796211  1.49593428  0.41751204 -0.87062917  1.547615  ]]\n"
     ]
    }
   ],
   "source": [
    "two = np.random.randn(3,5)\n",
    "print(two)"
   ]
  },
  {
   "cell_type": "code",
   "execution_count": 111,
   "id": "a928178d",
   "metadata": {},
   "outputs": [
    {
     "name": "stdout",
     "output_type": "stream",
     "text": [
      "[[[-1.49833211  0.22170508 -0.7371092 ]\n",
      "  [-0.60827828 -0.4916696   1.2938622 ]\n",
      "  [-0.91792969  0.35297025  0.38819538]\n",
      "  [ 0.901173    1.54268366  1.43373328]\n",
      "  [-1.1458956   0.66807998  0.8042288 ]]\n",
      "\n",
      " [[ 0.24677832 -0.35870462  1.16264878]\n",
      "  [ 1.41042706 -0.88723609 -1.77390657]\n",
      "  [-1.22504267  0.91633027  1.4014968 ]\n",
      "  [-0.70089757  1.31214197 -0.30069396]\n",
      "  [ 1.24584486 -0.72949417 -1.32271219]]]\n"
     ]
    }
   ],
   "source": [
    "three = np.random.randn(2,5,3)\n",
    "print(three)"
   ]
  },
  {
   "cell_type": "markdown",
   "id": "00dc89bf",
   "metadata": {},
   "source": [
    "#### np.random.randint()\n",
    "\n",
    "Creates an array of discrete numbers from a givren range parameter.\n",
    "\n",
    "`np.random(low=0,high,size=option)`\n",
    "\n",
    "commonly used in  Monte Carlo simulations, data randomization, and cryptographic applications"
   ]
  },
  {
   "cell_type": "code",
   "execution_count": 112,
   "id": "459e093d",
   "metadata": {},
   "outputs": [
    {
     "name": "stdout",
     "output_type": "stream",
     "text": [
      "1\n"
     ]
    }
   ],
   "source": [
    "age = np.random.randint(10)\n",
    "print(age)"
   ]
  },
  {
   "cell_type": "code",
   "execution_count": 113,
   "id": "fe41e04b",
   "metadata": {},
   "outputs": [
    {
     "name": "stdout",
     "output_type": "stream",
     "text": [
      "8\n"
     ]
    }
   ],
   "source": [
    "ages = np.random.randint(0,10)\n",
    "print(ages)"
   ]
  },
  {
   "cell_type": "code",
   "execution_count": 114,
   "id": "3589f156",
   "metadata": {},
   "outputs": [
    {
     "name": "stdout",
     "output_type": "stream",
     "text": [
      "[0 0 4 0 2]\n"
     ]
    }
   ],
   "source": [
    "# need an array of 5 ages\n",
    "ages = np.random.randint(0,10,5)\n",
    "print(ages)"
   ]
  },
  {
   "cell_type": "markdown",
   "id": "c1d6be50",
   "metadata": {},
   "source": [
    "#### dimensions in Arrays\n",
    "- these are nested arrays"
   ]
  },
  {
   "cell_type": "markdown",
   "id": "ac4a4f17",
   "metadata": {},
   "source": [
    "- 0-D Arrays\n",
    "\n",
    "Zero dimension array or scalar"
   ]
  },
  {
   "cell_type": "code",
   "execution_count": 115,
   "id": "2a9b4145",
   "metadata": {},
   "outputs": [
    {
     "name": "stdout",
     "output_type": "stream",
     "text": [
      "34\n"
     ]
    }
   ],
   "source": [
    "arr = np.array(34)\n",
    "print(arr)"
   ]
  },
  {
   "cell_type": "code",
   "execution_count": 116,
   "id": "aa16a5c8",
   "metadata": {},
   "outputs": [
    {
     "name": "stdout",
     "output_type": "stream",
     "text": [
      "25\n"
     ]
    }
   ],
   "source": [
    "age = np.array(25)\n",
    "print(age)"
   ]
  },
  {
   "cell_type": "markdown",
   "id": "fe46b4ad",
   "metadata": {},
   "source": [
    "- 1-D Arrays\n",
    "\n",
    "One dimension arrays or uni-dimensional"
   ]
  },
  {
   "cell_type": "code",
   "execution_count": 117,
   "id": "3b5fa029",
   "metadata": {},
   "outputs": [
    {
     "name": "stdout",
     "output_type": "stream",
     "text": [
      "[25 23 27 29 30]\n"
     ]
    }
   ],
   "source": [
    "ages = np.array([25,23,27,29,30])\n",
    "print(ages)"
   ]
  },
  {
   "cell_type": "code",
   "execution_count": 118,
   "id": "b5bca141",
   "metadata": {},
   "outputs": [
    {
     "name": "stdout",
     "output_type": "stream",
     "text": [
      "[123 122 100 123  98]\n"
     ]
    }
   ],
   "source": [
    "heights = np.array((123,122,100,123,98))\n",
    "print(heights)"
   ]
  },
  {
   "cell_type": "markdown",
   "id": "3c11f8ac",
   "metadata": {},
   "source": [
    "- 2-D arrays\n",
    "\n",
    "Often used to represent __matrix__ or 2nd order tensors"
   ]
  },
  {
   "cell_type": "code",
   "execution_count": 119,
   "id": "c9ed99ac",
   "metadata": {},
   "outputs": [
    {
     "name": "stdout",
     "output_type": "stream",
     "text": [
      "[[ 23  34  25  31]\n",
      " [123 200 192 128]]\n"
     ]
    }
   ],
   "source": [
    "health = np.array([[23,34,25,31],[123,200,192,128]])\n",
    "print(health)"
   ]
  },
  {
   "cell_type": "markdown",
   "id": "932c709f",
   "metadata": {},
   "source": [
    "- 3 D array\n",
    "\n",
    "3rd order tensor, an array having 2-D arrays as its element"
   ]
  },
  {
   "cell_type": "code",
   "execution_count": 120,
   "id": "10d88e96",
   "metadata": {},
   "outputs": [
    {
     "name": "stdout",
     "output_type": "stream",
     "text": [
      "[[[ 23  34  25  31]\n",
      "  [123 200 192 128]]\n",
      "\n",
      " [[ 50  60  70  80]\n",
      "  [ 99  88  77  66]]]\n"
     ]
    }
   ],
   "source": [
    "health_score = np.array([[[23,34,25,31],[123,200,192,128]],[[50,60,70,80],[99,88,77,66]]])\n",
    "print(health_score)"
   ]
  },
  {
   "cell_type": "code",
   "execution_count": 121,
   "id": "a9c2eecc",
   "metadata": {},
   "outputs": [],
   "source": [
    "#### checking the dimensions\n",
    "# ndim"
   ]
  },
  {
   "cell_type": "code",
   "execution_count": 122,
   "id": "91a1bc18",
   "metadata": {},
   "outputs": [
    {
     "name": "stdout",
     "output_type": "stream",
     "text": [
      "2\n"
     ]
    }
   ],
   "source": [
    "print(health.ndim)"
   ]
  },
  {
   "cell_type": "code",
   "execution_count": 123,
   "id": "8e0d6fc1",
   "metadata": {},
   "outputs": [
    {
     "name": "stdout",
     "output_type": "stream",
     "text": [
      "0\n"
     ]
    }
   ],
   "source": [
    "print(age.ndim)"
   ]
  },
  {
   "cell_type": "code",
   "execution_count": 124,
   "id": "311ad740",
   "metadata": {},
   "outputs": [
    {
     "name": "stdout",
     "output_type": "stream",
     "text": [
      "3\n"
     ]
    }
   ],
   "source": [
    "print(health_score.ndim)"
   ]
  },
  {
   "cell_type": "code",
   "execution_count": 125,
   "id": "89917adc",
   "metadata": {},
   "outputs": [],
   "source": [
    "# There are no limit to number of dimensions\n",
    "taste = np.array([11,22,33,44,55], ndmin=6)"
   ]
  },
  {
   "cell_type": "code",
   "execution_count": 126,
   "id": "2d1e9028",
   "metadata": {},
   "outputs": [
    {
     "name": "stdout",
     "output_type": "stream",
     "text": [
      "[[[[[[11 22 33 44 55]]]]]]\n"
     ]
    }
   ],
   "source": [
    "print(taste)"
   ]
  },
  {
   "cell_type": "code",
   "execution_count": 127,
   "id": "72e02f95",
   "metadata": {},
   "outputs": [
    {
     "name": "stdout",
     "output_type": "stream",
     "text": [
      "6\n"
     ]
    }
   ],
   "source": [
    "print(taste.ndim)"
   ]
  },
  {
   "cell_type": "markdown",
   "id": "a5da9232",
   "metadata": {},
   "source": [
    "#### Accesing array by indexing"
   ]
  },
  {
   "cell_type": "code",
   "execution_count": 128,
   "id": "c4b80511",
   "metadata": {},
   "outputs": [
    {
     "name": "stdout",
     "output_type": "stream",
     "text": [
      "['Apples' 'Bananas' 'Oranges' 'Grapes' 'Berries' 'Melons' 'Carrots'\n",
      " 'Potatoes' 'Lettuce' 'Tomatoes' 'Cucumbers' 'Broccoli' 'Bread' 'Pasta'\n",
      " 'Rice' 'Cereal' 'Milk' 'Cheese' 'Yogurt' 'Butter' 'Beef' 'Chicken' 'Pork'\n",
      " 'Fish' 'Eggs' 'Nuts' 'Seeds' 'Sweets' 'Drinks']\n"
     ]
    }
   ],
   "source": [
    "# accessing a 1-D array\n",
    "meal_list = np.array([\"Apples\", \"Bananas\", \"Oranges\", \"Grapes\", \"Berries\", \"Melons\", \"Carrots\", \"Potatoes\", \"Lettuce\", \"Tomatoes\", \"Cucumbers\", \"Broccoli\", \"Bread\", \"Pasta\", \"Rice\", \"Cereal\", \"Milk\", \"Cheese\", \"Yogurt\", \"Butter\", \"Beef\", \"Chicken\", \"Pork\", \"Fish\", \"Eggs\", \"Nuts\", \"Seeds\", \"Sweets\", \"Drinks\"])\n",
    "print(meal_list)"
   ]
  },
  {
   "cell_type": "code",
   "execution_count": 129,
   "id": "f700d371",
   "metadata": {},
   "outputs": [
    {
     "name": "stdout",
     "output_type": "stream",
     "text": [
      "1\n"
     ]
    }
   ],
   "source": [
    "print(meal_list.ndim)"
   ]
  },
  {
   "cell_type": "code",
   "execution_count": 130,
   "id": "6165751d",
   "metadata": {},
   "outputs": [
    {
     "name": "stdout",
     "output_type": "stream",
     "text": [
      "Bananas\n"
     ]
    }
   ],
   "source": [
    "# accesing the second item in meal_list\n",
    "second_meal = meal_list[1]\n",
    "print(second_meal)"
   ]
  },
  {
   "cell_type": "code",
   "execution_count": 131,
   "id": "1b101723",
   "metadata": {},
   "outputs": [
    {
     "name": "stdout",
     "output_type": "stream",
     "text": [
      "Drinks\n"
     ]
    }
   ],
   "source": [
    "# accesing the last item in meal_list\n",
    "last_meal = meal_list[-1]\n",
    "print(last_meal)"
   ]
  },
  {
   "cell_type": "code",
   "execution_count": 132,
   "id": "15e5b7c4",
   "metadata": {},
   "outputs": [
    {
     "name": "stdout",
     "output_type": "stream",
     "text": [
      "Carrots\n"
     ]
    }
   ],
   "source": [
    "# accesing the 17th item in meal_list\n",
    "seven_meal = meal_list[6]\n",
    "print(seven_meal)"
   ]
  },
  {
   "cell_type": "code",
   "execution_count": 133,
   "id": "ffd240bf",
   "metadata": {},
   "outputs": [
    {
     "name": "stdout",
     "output_type": "stream",
     "text": [
      "[['product 1' 'product 2' 'product 3' 'product 4' 'product 5' 'product 6'\n",
      "  'product 7' 'product 8' 'product 9' 'product 10' 'product 11'\n",
      "  'product 12' 'product 13' 'product 14' 'product 15' 'product 16'\n",
      "  'product 17' 'product 18' 'product 19' 'product 20' 'product 21'\n",
      "  'product 22' 'product 23' 'product 24' 'product 25' 'product 26'\n",
      "  'product 27' 'product 28' 'product 29']\n",
      " ['Apples' 'Bananas' 'Oranges' 'Grapes' 'Berries' 'Melons' 'Carrots'\n",
      "  'Potatoes' 'Lettuce' 'Tomatoes' 'Cucumbers' 'Broccoli' 'Bread' 'Pasta'\n",
      "  'Rice' 'Cereal' 'Milk' 'Cheese' 'Yogurt' 'Butter' 'Beef' 'Chicken'\n",
      "  'Pork' 'Fish' 'Eggs' 'Nuts' 'Seeds' 'Sweets' 'Drinks']]\n"
     ]
    }
   ],
   "source": [
    "# accessing a 2-D array\n",
    "\n",
    "store_products = np.array(\n",
    "    [\n",
    "        ['product 1', 'product 2', 'product 3', 'product 4', 'product 5', 'product 6', 'product 7', 'product 8', 'product 9', 'product 10', 'product 11', 'product 12', 'product 13', 'product 14', 'product 15', 'product 16', 'product 17', 'product 18', 'product 19', 'product 20', 'product 21', 'product 22', 'product 23', 'product 24', 'product 25', 'product 26', 'product 27', 'product 28', 'product 29'],\n",
    "        [\"Apples\", \"Bananas\", \"Oranges\", \"Grapes\", \"Berries\", \"Melons\", \"Carrots\", \"Potatoes\", \"Lettuce\", \"Tomatoes\", \"Cucumbers\", \"Broccoli\", \"Bread\", \"Pasta\", \"Rice\", \"Cereal\", \"Milk\", \"Cheese\", \"Yogurt\", \"Butter\", \"Beef\", \"Chicken\", \"Pork\", \"Fish\", \"Eggs\", \"Nuts\", \"Seeds\", \"Sweets\", \"Drinks\"]\n",
    "    ]\n",
    ")\n",
    "\n",
    "print(store_products)"
   ]
  },
  {
   "cell_type": "code",
   "execution_count": 134,
   "id": "a27c45bd",
   "metadata": {},
   "outputs": [
    {
     "name": "stdout",
     "output_type": "stream",
     "text": [
      "2\n"
     ]
    }
   ],
   "source": [
    "print(store_products.ndim)"
   ]
  },
  {
   "cell_type": "code",
   "execution_count": 135,
   "id": "5b1f3112",
   "metadata": {},
   "outputs": [
    {
     "name": "stdout",
     "output_type": "stream",
     "text": [
      "['product 1' 'product 2' 'product 3' 'product 4' 'product 5' 'product 6'\n",
      " 'product 7' 'product 8' 'product 9' 'product 10' 'product 11'\n",
      " 'product 12' 'product 13' 'product 14' 'product 15' 'product 16'\n",
      " 'product 17' 'product 18' 'product 19' 'product 20' 'product 21'\n",
      " 'product 22' 'product 23' 'product 24' 'product 25' 'product 26'\n",
      " 'product 27' 'product 28' 'product 29']\n"
     ]
    }
   ],
   "source": [
    "# accesing the first item in store_product\n",
    "print(store_products[0])"
   ]
  },
  {
   "cell_type": "code",
   "execution_count": 136,
   "id": "af044c74",
   "metadata": {},
   "outputs": [
    {
     "name": "stdout",
     "output_type": "stream",
     "text": [
      "product 1\n"
     ]
    }
   ],
   "source": [
    "# what about the first item in the first item\n",
    "print(store_products[0][0])\n",
    "# the pattern of accessing items is preferably used in List but not ideally in numpy array"
   ]
  },
  {
   "cell_type": "code",
   "execution_count": 137,
   "id": "a2a0e77a",
   "metadata": {},
   "outputs": [
    {
     "name": "stdout",
     "output_type": "stream",
     "text": [
      "product 1\n"
     ]
    }
   ],
   "source": [
    "# accessing the product 1 using numpy \n",
    "print(store_products[0,0])"
   ]
  },
  {
   "cell_type": "code",
   "execution_count": 138,
   "id": "f4d8b42a",
   "metadata": {},
   "outputs": [],
   "source": [
    "# creating a 7-D array\n",
    "\n",
    "seventh_dim = np.array(np.random.randint(10,100,10), ndmin=7)"
   ]
  },
  {
   "cell_type": "code",
   "execution_count": 139,
   "id": "12e3a3dd",
   "metadata": {},
   "outputs": [
    {
     "name": "stdout",
     "output_type": "stream",
     "text": [
      "[[[[[[[65 48 61 72 37 70 48 85 71 11]]]]]]]\n"
     ]
    }
   ],
   "source": [
    "print(seventh_dim)"
   ]
  },
  {
   "cell_type": "code",
   "execution_count": 140,
   "id": "078e7084",
   "metadata": {},
   "outputs": [
    {
     "name": "stdout",
     "output_type": "stream",
     "text": [
      "11\n"
     ]
    }
   ],
   "source": [
    "# accesing the last item using list\n",
    "last_item = seventh_dim[0][0][0][0][0][0][-1]\n",
    "print(last_item)"
   ]
  },
  {
   "cell_type": "code",
   "execution_count": 141,
   "id": "dc795d9c",
   "metadata": {},
   "outputs": [
    {
     "name": "stdout",
     "output_type": "stream",
     "text": [
      "11\n"
     ]
    }
   ],
   "source": [
    "# using numpy\n",
    "last_item = seventh_dim[0,0,0,0,0,0,-1]\n",
    "print(last_item)"
   ]
  },
  {
   "cell_type": "markdown",
   "id": "b36bbd49",
   "metadata": {},
   "source": [
    "#### Slicing\n",
    "\n",
    "`arr[start:end:step,index]`"
   ]
  },
  {
   "cell_type": "markdown",
   "id": "d89c033c",
   "metadata": {},
   "source": [
    "Slicing a 1-D array"
   ]
  },
  {
   "cell_type": "code",
   "execution_count": 142,
   "id": "6be92add",
   "metadata": {},
   "outputs": [
    {
     "name": "stdout",
     "output_type": "stream",
     "text": [
      "['Apples' 'Bananas' 'Oranges' 'Grapes' 'Berries' 'Melons' 'Carrots'\n",
      " 'Potatoes' 'Lettuce' 'Tomatoes' 'Cucumbers' 'Broccoli' 'Bread' 'Pasta'\n",
      " 'Rice' 'Cereal' 'Milk' 'Cheese' 'Yogurt' 'Butter' 'Beef' 'Chicken' 'Pork'\n",
      " 'Fish' 'Eggs' 'Nuts' 'Seeds' 'Sweets' 'Drinks']\n"
     ]
    }
   ],
   "source": [
    "print(meal_list)"
   ]
  },
  {
   "cell_type": "code",
   "execution_count": 143,
   "id": "3776829b",
   "metadata": {},
   "outputs": [
    {
     "data": {
      "text/plain": [
       "29"
      ]
     },
     "execution_count": 143,
     "metadata": {},
     "output_type": "execute_result"
    }
   ],
   "source": [
    "len(meal_list) # length of meal_list"
   ]
  },
  {
   "cell_type": "code",
   "execution_count": 144,
   "id": "e66bf0fe",
   "metadata": {},
   "outputs": [
    {
     "name": "stdout",
     "output_type": "stream",
     "text": [
      "['Apples' 'Bananas' 'Oranges' 'Grapes' 'Berries' 'Melons' 'Carrots'\n",
      " 'Potatoes' 'Lettuce' 'Tomatoes' 'Cucumbers' 'Broccoli' 'Bread' 'Pasta'\n",
      " 'Rice' 'Cereal' 'Milk' 'Cheese' 'Yogurt' 'Butter' 'Beef' 'Chicken' 'Pork'\n",
      " 'Fish' 'Eggs' 'Nuts' 'Seeds' 'Sweets' 'Drinks']\n"
     ]
    }
   ],
   "source": [
    "# slice from begiinning to ending\n",
    "meal_1 = meal_list[:]\n",
    "print(meal_1)\n",
    "# by default, start = 0, end = ending"
   ]
  },
  {
   "cell_type": "code",
   "execution_count": 145,
   "id": "e3e4e8db",
   "metadata": {},
   "outputs": [
    {
     "name": "stdout",
     "output_type": "stream",
     "text": [
      "['Apples' 'Bananas' 'Oranges' 'Grapes' 'Berries' 'Melons' 'Carrots'\n",
      " 'Potatoes' 'Lettuce' 'Tomatoes' 'Cucumbers' 'Broccoli' 'Bread' 'Pasta'\n",
      " 'Rice' 'Cereal' 'Milk' 'Cheese' 'Yogurt' 'Butter' 'Beef' 'Chicken' 'Pork'\n",
      " 'Fish' 'Eggs' 'Nuts' 'Seeds' 'Sweets' 'Drinks']\n"
     ]
    }
   ],
   "source": [
    "print(meal_list[0:])"
   ]
  },
  {
   "cell_type": "code",
   "execution_count": 146,
   "id": "0920a00d",
   "metadata": {},
   "outputs": [
    {
     "name": "stdout",
     "output_type": "stream",
     "text": [
      "['Apples' 'Bananas' 'Oranges' 'Grapes' 'Berries' 'Melons' 'Carrots'\n",
      " 'Potatoes' 'Lettuce' 'Tomatoes' 'Cucumbers' 'Broccoli' 'Bread' 'Pasta'\n",
      " 'Rice' 'Cereal' 'Milk' 'Cheese' 'Yogurt' 'Butter' 'Beef' 'Chicken' 'Pork'\n",
      " 'Fish' 'Eggs' 'Nuts' 'Seeds' 'Sweets']\n"
     ]
    }
   ],
   "source": [
    "print(meal_list[:-1])\n",
    "# last item was sliced out"
   ]
  },
  {
   "cell_type": "code",
   "execution_count": 147,
   "id": "81b599d1",
   "metadata": {},
   "outputs": [
    {
     "name": "stdout",
     "output_type": "stream",
     "text": [
      "['Apples' 'Oranges' 'Berries' 'Carrots' 'Lettuce' 'Cucumbers' 'Bread'\n",
      " 'Rice' 'Milk' 'Yogurt' 'Beef' 'Pork' 'Eggs' 'Seeds' 'Drinks']\n"
     ]
    }
   ],
   "source": [
    "print(meal_list[::2])\n",
    "# be default step = 1, this returns the item after every two step"
   ]
  },
  {
   "cell_type": "markdown",
   "id": "06c5054b",
   "metadata": {},
   "source": [
    "Slicing a 2-D array"
   ]
  },
  {
   "cell_type": "code",
   "execution_count": 148,
   "id": "c71990c8",
   "metadata": {},
   "outputs": [
    {
     "name": "stdout",
     "output_type": "stream",
     "text": [
      "[['product 1' 'product 2' 'product 3' 'product 4' 'product 5' 'product 6'\n",
      "  'product 7' 'product 8' 'product 9' 'product 10' 'product 11'\n",
      "  'product 12' 'product 13' 'product 14' 'product 15' 'product 16'\n",
      "  'product 17' 'product 18' 'product 19' 'product 20' 'product 21'\n",
      "  'product 22' 'product 23' 'product 24' 'product 25' 'product 26'\n",
      "  'product 27' 'product 28' 'product 29']\n",
      " ['Apples' 'Bananas' 'Oranges' 'Grapes' 'Berries' 'Melons' 'Carrots'\n",
      "  'Potatoes' 'Lettuce' 'Tomatoes' 'Cucumbers' 'Broccoli' 'Bread' 'Pasta'\n",
      "  'Rice' 'Cereal' 'Milk' 'Cheese' 'Yogurt' 'Butter' 'Beef' 'Chicken'\n",
      "  'Pork' 'Fish' 'Eggs' 'Nuts' 'Seeds' 'Sweets' 'Drinks']]\n"
     ]
    }
   ],
   "source": [
    "print(store_products)"
   ]
  },
  {
   "cell_type": "code",
   "execution_count": 149,
   "id": "fb4081eb",
   "metadata": {},
   "outputs": [
    {
     "name": "stdout",
     "output_type": "stream",
     "text": [
      "['product 1' 'product 2' 'product 3' 'product 4' 'product 5']\n"
     ]
    }
   ],
   "source": [
    "# slicing the fisrt 5 item in the first list in the above 2-D array\n",
    "print(store_products[0,:5])"
   ]
  },
  {
   "cell_type": "code",
   "execution_count": 150,
   "id": "344a2dc7",
   "metadata": {},
   "outputs": [
    {
     "name": "stdout",
     "output_type": "stream",
     "text": [
      "['Apples' 'Bananas' 'Oranges' 'Grapes' 'Berries']\n"
     ]
    }
   ],
   "source": [
    "# slicing the fisrt 5 item in the second list in the above 2-D array\n",
    "print(store_products[1,:5])"
   ]
  },
  {
   "cell_type": "code",
   "execution_count": 151,
   "id": "94e87bda",
   "metadata": {},
   "outputs": [
    {
     "name": "stdout",
     "output_type": "stream",
     "text": [
      "['product 2' 'Bananas']\n"
     ]
    }
   ],
   "source": [
    "# returning the second item in both list in the array\n",
    "print(store_products[:,1])"
   ]
  },
  {
   "cell_type": "code",
   "execution_count": 152,
   "id": "f9abc9a0",
   "metadata": {},
   "outputs": [
    {
     "name": "stdout",
     "output_type": "stream",
     "text": [
      "['product 2' 'Bananas']\n"
     ]
    }
   ],
   "source": [
    "# returning the second item in both list in the array\n",
    "print(store_products[0:,1])"
   ]
  },
  {
   "cell_type": "code",
   "execution_count": 153,
   "id": "27b2d7bb",
   "metadata": {},
   "outputs": [
    {
     "name": "stdout",
     "output_type": "stream",
     "text": [
      "[['product 1' 'product 2' 'product 3' 'product 4' 'product 5' 'product 6'\n",
      "  'product 7' 'product 8' 'product 9' 'product 10' 'product 11'\n",
      "  'product 12' 'product 13' 'product 14' 'product 15' 'product 16'\n",
      "  'product 17' 'product 18' 'product 19' 'product 20' 'product 21'\n",
      "  'product 22' 'product 23' 'product 24' 'product 25' 'product 26'\n",
      "  'product 27' 'product 28' 'product 29']\n",
      " ['Apples' 'Bananas' 'Oranges' 'Grapes' 'Berries' 'Melons' 'Carrots'\n",
      "  'Potatoes' 'Lettuce' 'Tomatoes' 'Cucumbers' 'Broccoli' 'Bread' 'Pasta'\n",
      "  'Rice' 'Cereal' 'Milk' 'Cheese' 'Yogurt' 'Butter' 'Beef' 'Chicken'\n",
      "  'Pork' 'Fish' 'Eggs' 'Nuts' 'Seeds' 'Sweets' 'Drinks']]\n"
     ]
    }
   ],
   "source": [
    "print(store_products[:,:])"
   ]
  },
  {
   "cell_type": "code",
   "execution_count": null,
   "id": "2444c1c0",
   "metadata": {},
   "outputs": [],
   "source": []
  },
  {
   "cell_type": "markdown",
   "id": "800f3f02",
   "metadata": {},
   "source": [
    "data types in NumPy:\n",
    "\n",
    "| Data Type | Description |\n",
    "|---|---|\n",
    "| `int8`, `int16`, `int32`, `int64` | Signed integers with different bit sizes (8, 16, 32, and 64 bits, respectively). signed int are both positive or negative |\n",
    "| `uint8`, `uint16`, `uint32`, `uint64` | Unsigned integers with different bit sizes (8, 16, 32, and 64 bits, respectively). unsigned int are positive |\n",
    "| `float16`, `float32`, `float64` | Floating-point numbers with different precision levels (half, single, and double precision, respectively). |\n",
    "| `complex64`, `complex128` | Complex numbers with different precision levels (64 and 128 bits, respectively). |\n",
    "| `bytes_` | Represents fixed-size sequences of 8-bit bytes. |\n",
    "| `str_` | Represents fixed-size sequences of Unicode characters. |\n",
    "| `unicode_` | Represents fixed-size sequences of Unicode characters (deprecated). |\n",
    "| `datetime64` | Represents dates and times with different resolutions (nanoseconds, microseconds, milliseconds, seconds, minutes, hours, days, etc.). |\n",
    "| `timedelta64` | Represents time intervals with different resolutions (nanoseconds, microseconds, milliseconds, seconds, minutes, hours, days, etc.). |\n"
   ]
  },
  {
   "cell_type": "code",
   "execution_count": 154,
   "id": "f7aca9d7",
   "metadata": {},
   "outputs": [
    {
     "name": "stdout",
     "output_type": "stream",
     "text": [
      "Integer array data type:\t int64\n",
      "Unsigneed Integer array data type:\t uint64\n",
      "Floating-point array data type:\t float64\n",
      "Complex number array data type:\t complex128\n",
      "Boolean array data type:\t bool\n",
      "String array data type:\t <U6\n",
      "Datetime array data type:\t datetime64[D]\n"
     ]
    }
   ],
   "source": [
    "# Creating arrays of different data types\n",
    "int_array = np.array([1, 2, 3, -4, 5])  # signed integer  array\n",
    "unsigned_int = np.array([1,2,3,4,5], dtype='uint') # unsigned int\n",
    "float_array = np.array([1.0, 2.0, 3.0, 4.0, 5.0])  # Floating-point array\n",
    "complex_array = np.array([1+2j, 3+4j, 5+6j])  # Complex number array\n",
    "bool_array = np.array([True, False, True, False, True])  # Boolean array\n",
    "string_array = np.array([\"apple\", \"banana\", \"orange\", \"grape\", \"cherry\"])  # String array\n",
    "date_array = np.array(['2002-01-01', '2003-02-21'], dtype='datetime64')\n",
    "\n",
    "# Printing the data types of each array\n",
    "print(\"Integer array data type:\\t\", int_array.dtype)\n",
    "print(\"Unsigneed Integer array data type:\\t\", unsigned_int.dtype)\n",
    "print(\"Floating-point array data type:\\t\", float_array.dtype)\n",
    "print(\"Complex number array data type:\\t\", complex_array.dtype)\n",
    "print(\"Boolean array data type:\\t\", bool_array.dtype)\n",
    "print(\"String array data type:\\t\", string_array.dtype)\n",
    "print(\"Datetime array data type:\\t\", date_array.dtype)"
   ]
  },
  {
   "cell_type": "code",
   "execution_count": 155,
   "id": "030b3844",
   "metadata": {},
   "outputs": [
    {
     "name": "stdout",
     "output_type": "stream",
     "text": [
      "['Apples' 'Bananas' 'Oranges' 'Grapes' 'Berries' 'Melons' 'Carrots'\n",
      " 'Potatoes' 'Lettuce' 'Tomatoes' 'Cucumbers' 'Broccoli' 'Bread' 'Pasta'\n",
      " 'Rice' 'Cereal' 'Milk' 'Cheese' 'Yogurt' 'Butter' 'Beef' 'Chicken' 'Pork'\n",
      " 'Fish' 'Eggs' 'Nuts' 'Seeds' 'Sweets' 'Drinks']\n"
     ]
    }
   ],
   "source": [
    "print(meal_list)"
   ]
  },
  {
   "cell_type": "code",
   "execution_count": 156,
   "id": "96048996",
   "metadata": {},
   "outputs": [
    {
     "name": "stdout",
     "output_type": "stream",
     "text": [
      "<U9\n"
     ]
    }
   ],
   "source": [
    "print(meal_list.dtype)"
   ]
  },
  {
   "cell_type": "code",
   "execution_count": 157,
   "id": "774b5e31",
   "metadata": {},
   "outputs": [
    {
     "name": "stdout",
     "output_type": "stream",
     "text": [
      "[123 122 100 123  98]\n"
     ]
    }
   ],
   "source": [
    "print(heights)"
   ]
  },
  {
   "cell_type": "code",
   "execution_count": 158,
   "id": "2111332a",
   "metadata": {},
   "outputs": [
    {
     "name": "stdout",
     "output_type": "stream",
     "text": [
      "int64\n"
     ]
    }
   ],
   "source": [
    "print(heights.dtype)"
   ]
  },
  {
   "cell_type": "code",
   "execution_count": 159,
   "id": "200ebe4e",
   "metadata": {},
   "outputs": [],
   "source": [
    "date = np.array(['2002-01-01', '2003-02-21'])"
   ]
  },
  {
   "cell_type": "code",
   "execution_count": 160,
   "id": "33d85185",
   "metadata": {},
   "outputs": [
    {
     "name": "stdout",
     "output_type": "stream",
     "text": [
      "<U10\n"
     ]
    }
   ],
   "source": [
    "print(date.dtype)"
   ]
  },
  {
   "cell_type": "markdown",
   "id": "abc537be",
   "metadata": {},
   "source": [
    "#### creating defined data type\n",
    "\n",
    "`dtype='V'`"
   ]
  },
  {
   "cell_type": "code",
   "execution_count": 161,
   "id": "e1f0f2ac",
   "metadata": {},
   "outputs": [],
   "source": [
    "# defining the array as a Datetime data type\n",
    "\n",
    "date = np.array(['2002-01-01', '2003-02-21'], dtype='M')"
   ]
  },
  {
   "cell_type": "code",
   "execution_count": 162,
   "id": "32c09715",
   "metadata": {},
   "outputs": [
    {
     "name": "stdout",
     "output_type": "stream",
     "text": [
      "datetime64[D]\n"
     ]
    }
   ],
   "source": [
    "print(date.dtype)"
   ]
  },
  {
   "cell_type": "markdown",
   "id": "7a63a851",
   "metadata": {},
   "source": [
    "#### we can define the size(byte) of some data type\n",
    "\n",
    "`i,u,f,S,U`\n",
    "\n",
    "`dtype='S10'`"
   ]
  },
  {
   "cell_type": "code",
   "execution_count": 163,
   "id": "b512f722",
   "metadata": {},
   "outputs": [],
   "source": [
    "fruit = np.array(['Carrots', 'Potatoes', 'Lettuce', 'Tomatoes'], dtype='S10')"
   ]
  },
  {
   "cell_type": "code",
   "execution_count": 164,
   "id": "d0b5d07f",
   "metadata": {},
   "outputs": [
    {
     "name": "stdout",
     "output_type": "stream",
     "text": [
      "[b'Carrots' b'Potatoes' b'Lettuce' b'Tomatoes']\n"
     ]
    }
   ],
   "source": [
    "print(fruit)"
   ]
  },
  {
   "cell_type": "markdown",
   "id": "f26fd1ae",
   "metadata": {},
   "source": [
    "#### integer and their bit size range\n",
    "\n",
    "\n",
    "    Data Type\tRange\n",
    "    int8\t-128 to 127\n",
    "    in16\t-32768 to 32767\n",
    "    in32\t-2147483648 to 2147483647\n",
    "    in64\t-9223372036854775808 to 9223372036854775807"
   ]
  },
  {
   "cell_type": "code",
   "execution_count": 165,
   "id": "6c8894d6",
   "metadata": {},
   "outputs": [],
   "source": [
    "dice = np.array([1,2,3,4,5,6,7,8,9,0], dtype='int8') #integer of 2bit\n",
    "# -2**31 to 2**31**(-1)"
   ]
  },
  {
   "cell_type": "code",
   "execution_count": 166,
   "id": "ec4c7852",
   "metadata": {},
   "outputs": [
    {
     "name": "stdout",
     "output_type": "stream",
     "text": [
      "[1 2 3 4 5 6 7 8 9 0]\n",
      "int8\n"
     ]
    }
   ],
   "source": [
    "print(dice)\n",
    "print(dice.dtype)"
   ]
  },
  {
   "cell_type": "code",
   "execution_count": 167,
   "id": "1654a792",
   "metadata": {},
   "outputs": [
    {
     "ename": "ValueError",
     "evalue": "invalid literal for int() with base 10: 'a'",
     "output_type": "error",
     "traceback": [
      "\u001b[0;31m---------------------------------------------------------------------------\u001b[0m",
      "\u001b[0;31mValueError\u001b[0m                                Traceback (most recent call last)",
      "Cell \u001b[0;32mIn[167], line 1\u001b[0m\n\u001b[0;32m----> 1\u001b[0m charr \u001b[38;5;241m=\u001b[39m np\u001b[38;5;241m.\u001b[39marray([\u001b[38;5;124m'\u001b[39m\u001b[38;5;124ma\u001b[39m\u001b[38;5;124m'\u001b[39m, \u001b[38;5;241m2\u001b[39m, \u001b[38;5;241m3\u001b[39m], dtype\u001b[38;5;241m=\u001b[39m\u001b[38;5;124m'\u001b[39m\u001b[38;5;124mint32\u001b[39m\u001b[38;5;124m'\u001b[39m)\n",
      "\u001b[0;31mValueError\u001b[0m: invalid literal for int() with base 10: 'a'"
     ]
    }
   ],
   "source": [
    "charr = np.array(['a', 2, 3], dtype='int32')\n",
    "# this returns an error when we try converting the datatype to 'i' (integer) due to the presence of 'STRING'"
   ]
  },
  {
   "cell_type": "code",
   "execution_count": 168,
   "id": "87c4715e",
   "metadata": {},
   "outputs": [
    {
     "name": "stdout",
     "output_type": "stream",
     "text": [
      "['a' '2' '3']\n",
      "<U1\n"
     ]
    }
   ],
   "source": [
    "# we can convert integer to string but not the other way\n",
    "charr = np.array(['a', 2, 3], dtype='str')\n",
    "print(charr)\n",
    "print(charr.dtype)"
   ]
  },
  {
   "cell_type": "code",
   "execution_count": 169,
   "id": "3d3da668",
   "metadata": {},
   "outputs": [
    {
     "name": "stdout",
     "output_type": "stream",
     "text": [
      "['red' 'orange' 'yellow' 'green' 'blue' 'indigo' 'purple' 'maroon']\n",
      "<U6\n"
     ]
    }
   ],
   "source": [
    "color = ['red', 'orange', 'yellow', 'green', 'blue', 'indigo', 'purple', 'maroon']\n",
    "color = np.array(color, dtype='str')\n",
    "print(color)\n",
    "print(color.dtype)"
   ]
  },
  {
   "cell_type": "markdown",
   "id": "a0bb9e65",
   "metadata": {},
   "source": [
    "#### astype()\n",
    "\n",
    "- best way to change the data type of an existing array\n",
    "\n",
    "- Always ake a copy \n",
    "\n",
    "```\n",
    "arr = np.array([1,2,3,4,5])\n",
    "newarr = arr.astype('f')\n",
    "```"
   ]
  },
  {
   "cell_type": "code",
   "execution_count": 170,
   "id": "faf27296",
   "metadata": {},
   "outputs": [
    {
     "name": "stdout",
     "output_type": "stream",
     "text": [
      "[ 60  45  98 100 -56   0]\n",
      "int64\n"
     ]
    }
   ],
   "source": [
    "score = np.array([60,45,98,100,-56, 0])\n",
    "print(score)\n",
    "print(score.dtype)"
   ]
  },
  {
   "cell_type": "code",
   "execution_count": 171,
   "id": "cf0715be",
   "metadata": {},
   "outputs": [
    {
     "name": "stdout",
     "output_type": "stream",
     "text": [
      "[ 60.  45.  98. 100. -56.   0.]\n",
      "float64\n"
     ]
    }
   ],
   "source": [
    "# changing the data type to float\n",
    "new_score = score.astype('float')\n",
    "print(new_score)\n",
    "print(new_score.dtype)"
   ]
  },
  {
   "cell_type": "code",
   "execution_count": 172,
   "id": "f8cf2bb2",
   "metadata": {},
   "outputs": [
    {
     "name": "stdout",
     "output_type": "stream",
     "text": [
      "[ True  True  True  True  True False]\n",
      "bool\n"
     ]
    }
   ],
   "source": [
    "# try converting data type to boolean\n",
    "bool_score = score.astype(bool)\n",
    "print(bool_score)\n",
    "print(bool_score.dtype)\n",
    "# all numbers are TRUE but 0"
   ]
  },
  {
   "cell_type": "code",
   "execution_count": null,
   "id": "1d552471",
   "metadata": {},
   "outputs": [],
   "source": []
  },
  {
   "cell_type": "markdown",
   "id": "0066ac05",
   "metadata": {},
   "source": [
    "#### copy vs view\n",
    "\n",
    "Copy creates a new array and any data manipulation doesn't affect the original array\n",
    "\n",
    "View returns the original array and any manipulation affects the original array"
   ]
  },
  {
   "cell_type": "code",
   "execution_count": 173,
   "id": "8e167285",
   "metadata": {},
   "outputs": [],
   "source": [
    "# copy\n",
    "phone_brands = [\n",
    "    \"Samsung\",\n",
    "    \"Apple\",\n",
    "    \"Huawei\",\n",
    "    \"Sony\",\n",
    "    \"Nokia\",\n",
    "    \"Google\",\n",
    "    \"OnePlus\",\n",
    "    \"HTC\",\n",
    "    \"ASUS\"\n",
    "]\n",
    "phone_brands = np.array(phone_brands)"
   ]
  },
  {
   "cell_type": "code",
   "execution_count": 174,
   "id": "342b745b",
   "metadata": {},
   "outputs": [
    {
     "name": "stdout",
     "output_type": "stream",
     "text": [
      "['Samsung' 'Apple' 'Huawei' 'Sony' 'Nokia' 'Google' 'OnePlus' 'HTC' 'ASUS']\n"
     ]
    }
   ],
   "source": [
    "new_phones = phone_brands.copy()\n",
    "print(new_phones)"
   ]
  },
  {
   "cell_type": "code",
   "execution_count": 198,
   "id": "8dbf428c",
   "metadata": {},
   "outputs": [
    {
     "name": "stdout",
     "output_type": "stream",
     "text": [
      "['Samsung' 'Apple' 'Huawei' 'Sony' 'Nokia' 'Google' 'OnePlus' 'HTC' 'ASUS']\n",
      "['Samsung' 'Apple' 'Huawei' 'Sony' 'Nokia' 'Google' 'OnePlus' 'Vivo'\n",
      " 'ASUS']\n"
     ]
    }
   ],
   "source": [
    "# lets replace 'HTC' to 'Vivo'\n",
    "new_phones[7] = 'Vivo'\n",
    "print(phone_brands)\n",
    "print(new_phones)\n",
    "# the orignal array is not affected"
   ]
  },
  {
   "cell_type": "code",
   "execution_count": 176,
   "id": "39bd8f45",
   "metadata": {},
   "outputs": [],
   "source": [
    "# view\n",
    "colors = [\n",
    "    \"red\",  \n",
    "    \"orange\", \n",
    "    \"yellow\", \n",
    "    \"green\", \n",
    "    \"blue\", \n",
    "    \"indigo\",  \n",
    "    \"purple\", \n",
    "    \"pink\"\n",
    "]\n",
    "colors = np.array(colors)"
   ]
  },
  {
   "cell_type": "code",
   "execution_count": 177,
   "id": "552f3467",
   "metadata": {},
   "outputs": [
    {
     "name": "stdout",
     "output_type": "stream",
     "text": [
      "['red' 'orange' 'yellow' 'green' 'blue' 'indigo' 'purple' 'pink']\n"
     ]
    }
   ],
   "source": [
    "new_colors = colors.view()\n",
    "print(new_colors)"
   ]
  },
  {
   "cell_type": "code",
   "execution_count": 197,
   "id": "8bd2eea2",
   "metadata": {},
   "outputs": [
    {
     "name": "stdout",
     "output_type": "stream",
     "text": [
      "['red' 'orange' 'yellow' 'green' 'blue' 'indigo' 'purple' 'maroon']\n",
      "['red' 'orange' 'yellow' 'green' 'blue' 'indigo' 'purple' 'maroon']\n"
     ]
    }
   ],
   "source": [
    "# lets replace 'pink' to maroon\n",
    "new_colors[-1] = 'maroon'\n",
    "print(colors)\n",
    "print(new_colors)\n",
    "# both the new array and the original array has been affected"
   ]
  },
  {
   "cell_type": "markdown",
   "id": "ee82bfa5",
   "metadata": {},
   "source": [
    "__How do we know if an array owns its data?__\n",
    "\n",
    "copies owns their data, as any data manipulation to it does not affect the orignal data\n",
    "\n",
    "view does not own its data and any manipulation affects the orignal array\n",
    "\n",
    "calling the `base` attribute on an array returns __None__ if the array owns its data, else it returns the array"
   ]
  },
  {
   "cell_type": "code",
   "execution_count": 179,
   "id": "6c76527d",
   "metadata": {},
   "outputs": [
    {
     "name": "stdout",
     "output_type": "stream",
     "text": [
      "None\n",
      "['red' 'orange' 'yellow' 'green' 'blue' 'indigo' 'purple' 'maroon']\n"
     ]
    }
   ],
   "source": [
    "print(new_phones.base) # copy\n",
    "print(new_colors.base) # view"
   ]
  },
  {
   "cell_type": "code",
   "execution_count": null,
   "id": "bd75a845",
   "metadata": {},
   "outputs": [],
   "source": []
  },
  {
   "cell_type": "markdown",
   "id": "297b0660",
   "metadata": {},
   "source": [
    "#### Shape\n",
    "This returns a tuple showing the size of the array along size its dimension\n"
   ]
  },
  {
   "cell_type": "code",
   "execution_count": 200,
   "id": "9858799b",
   "metadata": {},
   "outputs": [
    {
     "name": "stdout",
     "output_type": "stream",
     "text": [
      "[[1 2 3 4]\n",
      " [5 6 7 8]]\n",
      "\n",
      "shape (2, 4)\n"
     ]
    }
   ],
   "source": [
    "arr = np.array([[1, 2, 3, 4], [5, 6, 7, 8]])\n",
    "print(arr)\n",
    "print('\\nshape',arr.shape)"
   ]
  },
  {
   "cell_type": "code",
   "execution_count": 201,
   "id": "250a0178",
   "metadata": {},
   "outputs": [
    {
     "name": "stdout",
     "output_type": "stream",
     "text": [
      "[[1 2 3]\n",
      " [5 6 7]\n",
      " [6 7 8]\n",
      " [9 1 2]]\n",
      "\n",
      "shape (4, 3)\n"
     ]
    }
   ],
   "source": [
    "arr = np.array([[1,2,3],[5,6,7],[6,7,8],[9,1,2]])\n",
    "print(arr)\n",
    "print('\\nshape', arr.shape)"
   ]
  },
  {
   "cell_type": "code",
   "execution_count": 182,
   "id": "e8ea234e",
   "metadata": {},
   "outputs": [
    {
     "name": "stdout",
     "output_type": "stream",
     "text": [
      "[-28.05381206  25.39047983   5.69238983 -19.73855743   1.39828219]\n",
      "shape (5,)\n"
     ]
    }
   ],
   "source": [
    "arr = np.array(np.random.normal(10,20,5), ndmin=1)\n",
    "print(arr)\n",
    "print('shape', arr.shape)"
   ]
  },
  {
   "cell_type": "code",
   "execution_count": 183,
   "id": "e9685de8",
   "metadata": {},
   "outputs": [
    {
     "name": "stdout",
     "output_type": "stream",
     "text": [
      "[[[ 49.01969669  27.36255864 -18.78746034  11.77712541  28.43122888]]]\n",
      "shape (1, 1, 5)\n"
     ]
    }
   ],
   "source": [
    "arr = np.array(np.random.normal(10,20,5), ndmin=3)\n",
    "print(arr)\n",
    "print('shape', arr.shape)"
   ]
  },
  {
   "cell_type": "code",
   "execution_count": 184,
   "id": "d2028bfd",
   "metadata": {},
   "outputs": [
    {
     "name": "stdout",
     "output_type": "stream",
     "text": [
      "[[  5.19558515  12.99577002]\n",
      " [  2.92012881  22.90668668]\n",
      " [-32.6704638   -5.29103926]\n",
      " [ 14.73999091  22.43923662]\n",
      " [-20.687077   -17.21960129]]\n",
      "shape (5, 2)\n"
     ]
    }
   ],
   "source": [
    "arr = np.array([np.random.normal(10,20,2) for i in range(5)], ndmin=2)\n",
    "print(arr)\n",
    "print('shape', arr.shape)"
   ]
  },
  {
   "cell_type": "code",
   "execution_count": 185,
   "id": "9ba2ed03",
   "metadata": {},
   "outputs": [
    {
     "name": "stdout",
     "output_type": "stream",
     "text": [
      "[[[[[1 2 3 4]]]]]\n",
      "shape of array : (1, 1, 1, 1, 4)\n"
     ]
    }
   ],
   "source": [
    "arr = np.array([1, 2, 3, 4], ndmin=5)\n",
    "\n",
    "print(arr)\n",
    "print('shape of array :', arr.shape)"
   ]
  },
  {
   "cell_type": "markdown",
   "id": "37162d44",
   "metadata": {},
   "source": [
    "#### Reshape\n",
    "\n",
    "This is the changing of the shape of an array\n",
    "\n",
    "`reshape(row,columns,subarrays)`\n",
    "\n",
    "__reshape array is a view as any data manipulation affects the original__"
   ]
  },
  {
   "cell_type": "code",
   "execution_count": 186,
   "id": "1db4fb91",
   "metadata": {},
   "outputs": [],
   "source": [
    "arr = np.array([0,1,2,3,4,5,6,7,8,9])"
   ]
  },
  {
   "cell_type": "code",
   "execution_count": 187,
   "id": "ce687f7a",
   "metadata": {},
   "outputs": [
    {
     "name": "stdout",
     "output_type": "stream",
     "text": [
      "[0 1 2 3 4 5 6 7 8 9]\n",
      "(10,)\n"
     ]
    }
   ],
   "source": [
    "print(arr)\n",
    "print(arr.shape)"
   ]
  },
  {
   "cell_type": "code",
   "execution_count": 188,
   "id": "987df911",
   "metadata": {},
   "outputs": [],
   "source": [
    "# reshape\n",
    "newarr = arr.reshape(5,2)"
   ]
  },
  {
   "cell_type": "code",
   "execution_count": 189,
   "id": "b4caec56",
   "metadata": {},
   "outputs": [
    {
     "name": "stdout",
     "output_type": "stream",
     "text": [
      "[[0 1]\n",
      " [2 3]\n",
      " [4 5]\n",
      " [6 7]\n",
      " [8 9]]\n",
      "array shape (5, 2)\n",
      "array dimension 2\n"
     ]
    }
   ],
   "source": [
    "print(newarr)\n",
    "print('array shape', newarr.shape)\n",
    "print('array dimension', newarr.ndim)"
   ]
  },
  {
   "cell_type": "code",
   "execution_count": 190,
   "id": "52b745be",
   "metadata": {},
   "outputs": [
    {
     "ename": "ValueError",
     "evalue": "cannot reshape array of size 10 into shape (3,2)",
     "output_type": "error",
     "traceback": [
      "\u001b[0;31m---------------------------------------------------------------------------\u001b[0m",
      "\u001b[0;31mValueError\u001b[0m                                Traceback (most recent call last)",
      "Cell \u001b[0;32mIn[190], line 2\u001b[0m\n\u001b[1;32m      1\u001b[0m \u001b[38;5;66;03m# note that you can only reshape it to fit\u001b[39;00m\n\u001b[0;32m----> 2\u001b[0m newarr \u001b[38;5;241m=\u001b[39m arr\u001b[38;5;241m.\u001b[39mreshape(\u001b[38;5;241m3\u001b[39m,\u001b[38;5;241m2\u001b[39m)\n",
      "\u001b[0;31mValueError\u001b[0m: cannot reshape array of size 10 into shape (3,2)"
     ]
    }
   ],
   "source": [
    "# note that you can only reshape it to fit\n",
    "newarr = arr.reshape(3,2)\n",
    "# this returns an error"
   ]
  },
  {
   "cell_type": "code",
   "execution_count": 191,
   "id": "093f5f2f",
   "metadata": {},
   "outputs": [],
   "source": [
    "newarr = arr.reshape(2,5) # 2-D array"
   ]
  },
  {
   "cell_type": "code",
   "execution_count": 192,
   "id": "2af102e1",
   "metadata": {},
   "outputs": [
    {
     "name": "stdout",
     "output_type": "stream",
     "text": [
      "[[0 1 2 3 4]\n",
      " [5 6 7 8 9]]\n"
     ]
    }
   ],
   "source": [
    "print(newarr)"
   ]
  },
  {
   "cell_type": "code",
   "execution_count": 193,
   "id": "36cd07f3",
   "metadata": {},
   "outputs": [],
   "source": [
    "arr = np.array([1, 2, 3, 4, 5, 6, 7, 8, 9, 10, 11, 12])"
   ]
  },
  {
   "cell_type": "code",
   "execution_count": null,
   "id": "524759c4",
   "metadata": {},
   "outputs": [],
   "source": [
    "newarr = arr.reshape(2, 3, 2) # 3-D array\n",
    "# [ [  [][][]  ]    [  [][][]   ]   ]"
   ]
  },
  {
   "cell_type": "code",
   "execution_count": null,
   "id": "e7e3e521",
   "metadata": {},
   "outputs": [],
   "source": [
    "print(newarr)\n",
    "print('array shape', newarr.shape)\n",
    "print('array dimension', newarr.ndim)"
   ]
  },
  {
   "cell_type": "code",
   "execution_count": null,
   "id": "d694ad9f",
   "metadata": {},
   "outputs": [],
   "source": [
    "arr = np.array([0, 1, 2, 3, 4, 5, 6, 7, 8, 9, 10, 11, 12, 13, 14, 15, 16, 17, 18, 19, 20, 21, 22, 23])"
   ]
  },
  {
   "cell_type": "code",
   "execution_count": null,
   "id": "8f6f2d5b",
   "metadata": {},
   "outputs": [],
   "source": [
    "print(arr)"
   ]
  },
  {
   "cell_type": "code",
   "execution_count": null,
   "id": "3c3d825c",
   "metadata": {},
   "outputs": [],
   "source": [
    "newarr = arr.reshape(3,4,2) # 3-D array"
   ]
  },
  {
   "cell_type": "code",
   "execution_count": null,
   "id": "0009d177",
   "metadata": {},
   "outputs": [],
   "source": [
    "print(newarr)\n",
    "print('array shape', newarr.shape)\n",
    "print('array dimension', newarr.ndim)"
   ]
  },
  {
   "cell_type": "code",
   "execution_count": null,
   "id": "3c8bcc6c",
   "metadata": {},
   "outputs": [],
   "source": [
    "arr = np.array([0, 1, 2, 3, 4, 5, 6, 7, 8, 9, 10, 11, 12, 13, 14, 15, 16, 17, 18, 19, 20, 21, 22, 23, 24, 25, 26, 27, 28, 29, 30, 31, 32, 33, 34, 35, 36, 37, 38, 39, 40, 41, 42, 43, 44, 45, 46, 47, 48, 49, 50, 51, 52, 53, 54, 55, 56, 57, 58, 59, 60, 61, 62, 63, 64, 65, 66, 67, 68, 69, 70, 71, 72, 73, 74, 75, 76, 77, 78, 79, 80, 81, 82, 83, 84, 85, 86, 87, 88, 89, 90, 91, 92, 93, 94, 95, 96, 97, 98, 99, 100, 101, 102, 103, 104, 105, 106, 107, 108, 109, 110, 111, 112, 113, 114, 115, 116, 117, 118, 119, 120, 121, 122, 123, 124, 125, 126, 127, 128, 129, 130, 131, 132, 133, 134, 135, 136, 137, 138, 139, 140, 141, 142, 143, 144, 145, 146, 147, 148, 149, 150, 151, 152, 153, 154, 155, 156, 157, 158, 159, 160, 161, 162, 163, 164, 165, 166, 167, 168, 169, 170, 171, 172, 173, 174, 175, 176, 177, 178, 179, 180, 181, 182, 183, 184, 185, 186, 187, 188, 189, 190, 191])"
   ]
  },
  {
   "cell_type": "code",
   "execution_count": null,
   "id": "e11d9fb6",
   "metadata": {},
   "outputs": [],
   "source": [
    "print(arr)"
   ]
  },
  {
   "cell_type": "code",
   "execution_count": null,
   "id": "05d979fb",
   "metadata": {},
   "outputs": [],
   "source": [
    "newarr = arr.reshape(8,2,3,4) # 4-D array"
   ]
  },
  {
   "cell_type": "code",
   "execution_count": null,
   "id": "f0b8a23f",
   "metadata": {},
   "outputs": [],
   "source": [
    "print(newarr)"
   ]
  },
  {
   "cell_type": "code",
   "execution_count": null,
   "id": "089cc904",
   "metadata": {},
   "outputs": [],
   "source": [
    "print('array shape', newarr.shape)\n",
    "print('array dimension', newarr.ndim)"
   ]
  },
  {
   "cell_type": "code",
   "execution_count": null,
   "id": "64a25312",
   "metadata": {},
   "outputs": [],
   "source": [
    "arr = np.array([0, 1, 2, 3, 4, 5, 6, 7, 8, 9, 10, 11, 12, 13, 14, 15, 16, 17, 18, 19, 20, 21, 22, 23, 24, 25, 26, 27, 28, 29, 30, 31, 32, 33, 34, 35, 36, 37, 38, 39, 40, 41, 42, 43, 44, 45, 46, 47, 48, 49, 50, 51, 52, 53, 54, 55, 56, 57, 58, 59, 60, 61, 62, 63, 64, 65, 66, 67, 68, 69, 70, 71, 72, 73, 74, 75, 76, 77, 78, 79, 80, 81, 82, 83, 84, 85, 86, 87, 88, 89, 90, 91, 92, 93, 94, 95, 96, 97, 98, 99, 100, 101, 102, 103, 104, 105, 106, 107, 108, 109, 110, 111, 112, 113, 114, 115, 116, 117, 118, 119, 120, 121, 122, 123, 124, 125, 126, 127, 128, 129, 130, 131, 132, 133, 134, 135, 136, 137, 138, 139, 140, 141, 142, 143, 144, 145, 146, 147, 148, 149, 150, 151, 152, 153, 154, 155, 156, 157, 158, 159, 160, 161, 162, 163, 164, 165, 166, 167, 168, 169, 170, 171, 172, 173, 174, 175, 176, 177, 178, 179, 180, 181, 182, 183, 184, 185, 186, 187, 188, 189, 190, 191])"
   ]
  },
  {
   "cell_type": "code",
   "execution_count": null,
   "id": "0da4f6fa",
   "metadata": {},
   "outputs": [],
   "source": [
    "print(arr)"
   ]
  },
  {
   "cell_type": "code",
   "execution_count": null,
   "id": "acffe925",
   "metadata": {},
   "outputs": [],
   "source": [
    "# subarray = -1, reshape the array to its best possible form\n",
    "newarr = arr.reshape(8,2,3,-1)"
   ]
  },
  {
   "cell_type": "code",
   "execution_count": null,
   "id": "40458d3c",
   "metadata": {},
   "outputs": [],
   "source": [
    "print('array shape', newarr.shape)\n",
    "print('array dimension', newarr.ndim)"
   ]
  },
  {
   "cell_type": "code",
   "execution_count": null,
   "id": "2d0c93aa",
   "metadata": {},
   "outputs": [],
   "source": []
  },
  {
   "cell_type": "markdown",
   "id": "6e5609c9",
   "metadata": {},
   "source": [
    "#### Iteration Arrays\n",
    "\n",
    "`nditer()` iterates over all the data in the array and returns each"
   ]
  },
  {
   "cell_type": "code",
   "execution_count": 218,
   "id": "c15bce21",
   "metadata": {},
   "outputs": [
    {
     "name": "stdout",
     "output_type": "stream",
     "text": [
      "[ 0  1  2  3  4  5  6  7  8  9 10 11 12 13 14 15 16 17 18 19 20 21 22 23]\n"
     ]
    }
   ],
   "source": [
    "arr = np.array([0, 1, 2, 3, 4, 5, 6, 7, 8, 9, 10, 11, 12, 13, 14, 15, 16, 17, 18, 19, 20, 21, 22, 23])\n",
    "print(arr)"
   ]
  },
  {
   "cell_type": "code",
   "execution_count": 219,
   "id": "6c812ce9",
   "metadata": {},
   "outputs": [
    {
     "name": "stdout",
     "output_type": "stream",
     "text": [
      "[[[ 0  1]\n",
      "  [ 2  3]\n",
      "  [ 4  5]\n",
      "  [ 6  7]]\n",
      "\n",
      " [[ 8  9]\n",
      "  [10 11]\n",
      "  [12 13]\n",
      "  [14 15]]\n",
      "\n",
      " [[16 17]\n",
      "  [18 19]\n",
      "  [20 21]\n",
      "  [22 23]]]\n"
     ]
    }
   ],
   "source": [
    "newarr = arr.reshape(3,4,-1).copy()\n",
    "print(newarr)"
   ]
  },
  {
   "cell_type": "code",
   "execution_count": 217,
   "id": "bbd87a43",
   "metadata": {
    "collapsed": true
   },
   "outputs": [
    {
     "name": "stdout",
     "output_type": "stream",
     "text": [
      "0\n",
      "1\n",
      "2\n",
      "3\n",
      "4\n",
      "5\n",
      "6\n",
      "7\n",
      "8\n",
      "9\n",
      "10\n",
      "11\n",
      "12\n",
      "13\n",
      "14\n",
      "15\n",
      "16\n",
      "17\n",
      "18\n",
      "19\n",
      "20\n",
      "21\n",
      "22\n",
      "23\n"
     ]
    }
   ],
   "source": [
    "for i in np.nditer(newarr):\n",
    "    print(i)"
   ]
  },
  {
   "cell_type": "code",
   "execution_count": null,
   "id": "0faacc09",
   "metadata": {},
   "outputs": [],
   "source": []
  },
  {
   "cell_type": "markdown",
   "id": "e0ba9ccf",
   "metadata": {},
   "source": [
    "#### Basic mathematical operation "
   ]
  },
  {
   "cell_type": "code",
   "execution_count": 203,
   "id": "87443ddb",
   "metadata": {},
   "outputs": [],
   "source": [
    "pre_sale = np.array([1,2,3,4,5])\n",
    "cur_sale = np.array([9,8,7,6,5])"
   ]
  },
  {
   "cell_type": "code",
   "execution_count": 204,
   "id": "f801b232",
   "metadata": {},
   "outputs": [
    {
     "name": "stdout",
     "output_type": "stream",
     "text": [
      "[10 10 10 10 10]\n"
     ]
    }
   ],
   "source": [
    "# addition\n",
    "print(pre_sale + cur_sale)"
   ]
  },
  {
   "cell_type": "code",
   "execution_count": 205,
   "id": "d2fa955a",
   "metadata": {},
   "outputs": [
    {
     "name": "stdout",
     "output_type": "stream",
     "text": [
      "[ 9 16 21 24 25]\n"
     ]
    }
   ],
   "source": [
    "# multiplication\n",
    "print(pre_sale * cur_sale)"
   ]
  },
  {
   "cell_type": "code",
   "execution_count": 206,
   "id": "772b1be2",
   "metadata": {},
   "outputs": [
    {
     "name": "stdout",
     "output_type": "stream",
     "text": [
      "[-8 -6 -4 -2  0]\n"
     ]
    }
   ],
   "source": [
    "# subtraction\n",
    "print(pre_sale - cur_sale)"
   ]
  },
  {
   "cell_type": "code",
   "execution_count": 207,
   "id": "80b58f22",
   "metadata": {},
   "outputs": [
    {
     "name": "stdout",
     "output_type": "stream",
     "text": [
      "[0.11111111 0.25       0.42857143 0.66666667 1.        ]\n"
     ]
    }
   ],
   "source": [
    "# division\n",
    "print(pre_sale / cur_sale)"
   ]
  },
  {
   "cell_type": "code",
   "execution_count": 208,
   "id": "78d818c9",
   "metadata": {},
   "outputs": [
    {
     "name": "stdout",
     "output_type": "stream",
     "text": [
      "[0 0 0 0 1]\n"
     ]
    }
   ],
   "source": [
    "# floor division\n",
    "print(pre_sale // cur_sale)"
   ]
  },
  {
   "cell_type": "code",
   "execution_count": 209,
   "id": "2c7a4ef2",
   "metadata": {},
   "outputs": [
    {
     "name": "stdout",
     "output_type": "stream",
     "text": [
      "[1 2 3 4 0]\n"
     ]
    }
   ],
   "source": [
    "# modulus\n",
    "print(pre_sale % cur_sale)"
   ]
  },
  {
   "cell_type": "code",
   "execution_count": 210,
   "id": "a0b4c7eb",
   "metadata": {},
   "outputs": [
    {
     "name": "stdout",
     "output_type": "stream",
     "text": [
      "[   1  256 2187 4096 3125]\n"
     ]
    }
   ],
   "source": [
    "# exponetial\n",
    "print(pre_sale ** cur_sale)"
   ]
  },
  {
   "cell_type": "code",
   "execution_count": 211,
   "id": "0980b681",
   "metadata": {},
   "outputs": [
    {
     "name": "stdout",
     "output_type": "stream",
     "text": [
      "[3.         2.82842712 2.64575131 2.44948974 2.23606798]\n"
     ]
    }
   ],
   "source": [
    "# square root\n",
    "# np.sqrt\n",
    "print(np.sqrt(cur_sale))"
   ]
  },
  {
   "cell_type": "code",
   "execution_count": 213,
   "id": "59b47ea9",
   "metadata": {},
   "outputs": [
    {
     "data": {
      "text/plain": [
       "array([[0, 1, 2],\n",
       "       [3, 4, 5],\n",
       "       [6, 7, 8]])"
      ]
     },
     "execution_count": 213,
     "metadata": {},
     "output_type": "execute_result"
    }
   ],
   "source": [
    "# matrix\n",
    "arr = np.array([[0, 1, 2],\n",
    "       [3, 4, 5],\n",
    "       [6, 7, 8]])\n",
    "arr"
   ]
  },
  {
   "cell_type": "code",
   "execution_count": null,
   "id": "f5d54c20",
   "metadata": {},
   "outputs": [],
   "source": []
  },
  {
   "cell_type": "code",
   "execution_count": null,
   "id": "c32b5303",
   "metadata": {},
   "outputs": [],
   "source": []
  },
  {
   "cell_type": "code",
   "execution_count": null,
   "id": "8b0c5261",
   "metadata": {},
   "outputs": [],
   "source": []
  },
  {
   "cell_type": "code",
   "execution_count": null,
   "id": "c8a6a1dc",
   "metadata": {},
   "outputs": [],
   "source": []
  },
  {
   "cell_type": "code",
   "execution_count": null,
   "id": "9a8a5fda",
   "metadata": {},
   "outputs": [],
   "source": []
  },
  {
   "cell_type": "code",
   "execution_count": null,
   "id": "9f5973b7",
   "metadata": {},
   "outputs": [],
   "source": []
  },
  {
   "cell_type": "code",
   "execution_count": null,
   "id": "c30f7cbd",
   "metadata": {},
   "outputs": [],
   "source": []
  },
  {
   "cell_type": "code",
   "execution_count": null,
   "id": "1d7669a1",
   "metadata": {},
   "outputs": [],
   "source": []
  },
  {
   "cell_type": "code",
   "execution_count": null,
   "id": "a2ad42be",
   "metadata": {},
   "outputs": [],
   "source": []
  },
  {
   "cell_type": "code",
   "execution_count": null,
   "id": "b2767238",
   "metadata": {},
   "outputs": [],
   "source": []
  },
  {
   "cell_type": "code",
   "execution_count": null,
   "id": "80346174",
   "metadata": {},
   "outputs": [],
   "source": [
    "x = []\n",
    "for i in range(9):\n",
    "    x.append(i)\n",
    "x = np.array(x)\n",
    "x.reshape(3,-1)"
   ]
  },
  {
   "cell_type": "code",
   "execution_count": null,
   "id": "76ce633d",
   "metadata": {},
   "outputs": [],
   "source": [
    "x = np.arange(0,9)\n",
    "x.reshape(3,-1)"
   ]
  },
  {
   "cell_type": "code",
   "execution_count": null,
   "id": "2ad7bde9",
   "metadata": {},
   "outputs": [],
   "source": []
  },
  {
   "cell_type": "code",
   "execution_count": null,
   "id": "35c0e3cc",
   "metadata": {},
   "outputs": [],
   "source": []
  },
  {
   "cell_type": "code",
   "execution_count": null,
   "id": "fa8fdf06",
   "metadata": {},
   "outputs": [],
   "source": []
  },
  {
   "cell_type": "code",
   "execution_count": null,
   "id": "60f1f133",
   "metadata": {},
   "outputs": [],
   "source": []
  },
  {
   "cell_type": "code",
   "execution_count": null,
   "id": "fdc8e8aa",
   "metadata": {},
   "outputs": [],
   "source": []
  },
  {
   "cell_type": "code",
   "execution_count": null,
   "id": "d2be5a7c",
   "metadata": {},
   "outputs": [],
   "source": []
  },
  {
   "cell_type": "code",
   "execution_count": null,
   "id": "f10d2e63",
   "metadata": {},
   "outputs": [],
   "source": []
  },
  {
   "cell_type": "code",
   "execution_count": null,
   "id": "1bfc9503",
   "metadata": {},
   "outputs": [],
   "source": []
  },
  {
   "cell_type": "code",
   "execution_count": null,
   "id": "1164b898",
   "metadata": {},
   "outputs": [],
   "source": []
  },
  {
   "cell_type": "code",
   "execution_count": null,
   "id": "c66d5271",
   "metadata": {},
   "outputs": [],
   "source": [
    "\n"
   ]
  }
 ],
 "metadata": {
  "kernelspec": {
   "display_name": "Python 3 (ipykernel)",
   "language": "python",
   "name": "python3"
  },
  "language_info": {
   "codemirror_mode": {
    "name": "ipython",
    "version": 3
   },
   "file_extension": ".py",
   "mimetype": "text/x-python",
   "name": "python",
   "nbconvert_exporter": "python",
   "pygments_lexer": "ipython3",
   "version": "3.11.5"
  }
 },
 "nbformat": 4,
 "nbformat_minor": 5
}
