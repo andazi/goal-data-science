{
 "cells": [
  {
   "cell_type": "code",
   "execution_count": 8,
   "id": "e9be89f8",
   "metadata": {},
   "outputs": [],
   "source": [
    "import pandas as pd\n",
    "import numpy as np\n",
    "import matplotlib.pyplot as plt\n",
    "import seaborn as sns"
   ]
  },
  {
   "cell_type": "code",
   "execution_count": 9,
   "id": "ce3ba28c",
   "metadata": {},
   "outputs": [],
   "source": [
    "df = pd.read_csv('dataset 1/hotel_bookings.csv')"
   ]
  },
  {
   "cell_type": "code",
   "execution_count": 10,
   "id": "6283a50f",
   "metadata": {},
   "outputs": [
    {
     "data": {
      "text/plain": [
       "(119390, 32)"
      ]
     },
     "execution_count": 10,
     "metadata": {},
     "output_type": "execute_result"
    }
   ],
   "source": [
    "df.shape"
   ]
  },
  {
   "cell_type": "code",
   "execution_count": 11,
   "id": "0e411c0e",
   "metadata": {},
   "outputs": [
    {
     "data": {
      "text/html": [
       "<div>\n",
       "<style scoped>\n",
       "    .dataframe tbody tr th:only-of-type {\n",
       "        vertical-align: middle;\n",
       "    }\n",
       "\n",
       "    .dataframe tbody tr th {\n",
       "        vertical-align: top;\n",
       "    }\n",
       "\n",
       "    .dataframe thead th {\n",
       "        text-align: right;\n",
       "    }\n",
       "</style>\n",
       "<table border=\"1\" class=\"dataframe\">\n",
       "  <thead>\n",
       "    <tr style=\"text-align: right;\">\n",
       "      <th></th>\n",
       "      <th>hotel</th>\n",
       "      <th>is_canceled</th>\n",
       "      <th>lead_time</th>\n",
       "      <th>arrival_date_year</th>\n",
       "      <th>arrival_date_month</th>\n",
       "      <th>arrival_date_week_number</th>\n",
       "      <th>arrival_date_day_of_month</th>\n",
       "      <th>stays_in_weekend_nights</th>\n",
       "      <th>stays_in_week_nights</th>\n",
       "      <th>adults</th>\n",
       "      <th>...</th>\n",
       "      <th>deposit_type</th>\n",
       "      <th>agent</th>\n",
       "      <th>company</th>\n",
       "      <th>days_in_waiting_list</th>\n",
       "      <th>customer_type</th>\n",
       "      <th>adr</th>\n",
       "      <th>required_car_parking_spaces</th>\n",
       "      <th>total_of_special_requests</th>\n",
       "      <th>reservation_status</th>\n",
       "      <th>reservation_status_date</th>\n",
       "    </tr>\n",
       "  </thead>\n",
       "  <tbody>\n",
       "    <tr>\n",
       "      <th>0</th>\n",
       "      <td>Resort Hotel</td>\n",
       "      <td>0</td>\n",
       "      <td>342</td>\n",
       "      <td>2015</td>\n",
       "      <td>July</td>\n",
       "      <td>27</td>\n",
       "      <td>1</td>\n",
       "      <td>0</td>\n",
       "      <td>0</td>\n",
       "      <td>2</td>\n",
       "      <td>...</td>\n",
       "      <td>No Deposit</td>\n",
       "      <td>NaN</td>\n",
       "      <td>NaN</td>\n",
       "      <td>0</td>\n",
       "      <td>Transient</td>\n",
       "      <td>0.0</td>\n",
       "      <td>0</td>\n",
       "      <td>0</td>\n",
       "      <td>Check-Out</td>\n",
       "      <td>2015-07-01</td>\n",
       "    </tr>\n",
       "    <tr>\n",
       "      <th>1</th>\n",
       "      <td>Resort Hotel</td>\n",
       "      <td>0</td>\n",
       "      <td>737</td>\n",
       "      <td>2015</td>\n",
       "      <td>July</td>\n",
       "      <td>27</td>\n",
       "      <td>1</td>\n",
       "      <td>0</td>\n",
       "      <td>0</td>\n",
       "      <td>2</td>\n",
       "      <td>...</td>\n",
       "      <td>No Deposit</td>\n",
       "      <td>NaN</td>\n",
       "      <td>NaN</td>\n",
       "      <td>0</td>\n",
       "      <td>Transient</td>\n",
       "      <td>0.0</td>\n",
       "      <td>0</td>\n",
       "      <td>0</td>\n",
       "      <td>Check-Out</td>\n",
       "      <td>2015-07-01</td>\n",
       "    </tr>\n",
       "  </tbody>\n",
       "</table>\n",
       "<p>2 rows × 32 columns</p>\n",
       "</div>"
      ],
      "text/plain": [
       "          hotel  is_canceled  lead_time  arrival_date_year arrival_date_month  \\\n",
       "0  Resort Hotel            0        342               2015               July   \n",
       "1  Resort Hotel            0        737               2015               July   \n",
       "\n",
       "   arrival_date_week_number  arrival_date_day_of_month  \\\n",
       "0                        27                          1   \n",
       "1                        27                          1   \n",
       "\n",
       "   stays_in_weekend_nights  stays_in_week_nights  adults  ...  deposit_type  \\\n",
       "0                        0                     0       2  ...    No Deposit   \n",
       "1                        0                     0       2  ...    No Deposit   \n",
       "\n",
       "   agent company days_in_waiting_list customer_type  adr  \\\n",
       "0    NaN     NaN                    0     Transient  0.0   \n",
       "1    NaN     NaN                    0     Transient  0.0   \n",
       "\n",
       "   required_car_parking_spaces  total_of_special_requests  reservation_status  \\\n",
       "0                            0                          0           Check-Out   \n",
       "1                            0                          0           Check-Out   \n",
       "\n",
       "  reservation_status_date  \n",
       "0              2015-07-01  \n",
       "1              2015-07-01  \n",
       "\n",
       "[2 rows x 32 columns]"
      ]
     },
     "execution_count": 11,
     "metadata": {},
     "output_type": "execute_result"
    }
   ],
   "source": [
    "df.head(2)"
   ]
  },
  {
   "cell_type": "markdown",
   "id": "e5e9ea52",
   "metadata": {},
   "source": [
    "#####  Data Description\n",
    "\n",
    "\n",
    "**General Information:**\n",
    "\n",
    "* **hotel:** Name or identifier of the hotel the booking pertains to.\n",
    "* **is_canceled:** Indicates whether the booking was canceled (1) or not (0).\n",
    "* **lead_time:** Number of days between booking date and arrival date.\n",
    "* **arrival_date_year:** Year of the arrival date.\n",
    "* **arrival_date_month:** Month of the arrival date.\n",
    "* **arrival_date_week_number:** Week number of the arrival date.\n",
    "* **arrival_date_day_of_month:** Day of the month of the arrival date.\n",
    "\n",
    "**Stay Information:**\n",
    "\n",
    "* **stays_in_weekend_nights:** Number of nights booked that fall on weekends.\n",
    "* **stays_in_week_nights:** Number of nights booked that fall on weekdays.\n",
    "* **adults:** Number of adults in the booking.\n",
    "* **children:** Number of children in the booking.\n",
    "* **babies:** Number of babies in the booking.\n",
    "* **meal:** Included meal plan for the booking (e.g., breakfast, full board).\n",
    "\n",
    "**Guest Information:**\n",
    "\n",
    "* **country:** Origin country of the guest(s).\n",
    "* **market_segment:** Market segment the booking originated from (e.g., corporate, leisure).\n",
    "* **distribution_channel:** Booking channel used (e.g., online, travel agent).\n",
    "\n",
    "**Guest History:**\n",
    "\n",
    "* **is_repeated_guest:** Indicates if the guest has booked at the hotel before (1) or not (0).\n",
    "* **previous_cancellations:** Number of previous cancellations by the guest.\n",
    "* **previous_bookings_not_canceled:** Number of previous bookings by the guest that were not cancelled.\n",
    "\n",
    "**Booking Details:**\n",
    "\n",
    "* **agent:** Booking agent\n",
    "* **company:** Company associated with the booking\n",
    "* **reserved_room_type:** Type of room originally booked.\n",
    "* **assigned_room_type:** Type of room the guest was actually assigned.\n",
    "* **booking_changes:** Number of changes made to the booking.\n",
    "* **deposit_type:** Type of deposit paid (e.g., full, partial).\n",
    "* **days_in_waiting_list:** Number of days the guest was on the waiting list before booking.\n",
    "* **customer_type:** Type of customer (e.g., individual, group).\n",
    "* **adr:** Average Daily Rate paid for the booking.\n",
    "* **required_car_parking_spaces:** Number of parking spaces requested by the guest.\n",
    "* **total_of_special_requests:** Number of special requests made by the guest.\n",
    "* **reservation_status:** Current status of the booking (e.g., confirmed, pending).\n",
    "* **reservation_status_date:** Date the reservation status was last updated."
   ]
  },
  {
   "cell_type": "code",
   "execution_count": 6,
   "id": "e74e106e",
   "metadata": {},
   "outputs": [
    {
     "name": "stdout",
     "output_type": "stream",
     "text": [
      "<class 'pandas.core.frame.DataFrame'>\n",
      "RangeIndex: 119390 entries, 0 to 119389\n",
      "Data columns (total 32 columns):\n",
      " #   Column                          Non-Null Count   Dtype  \n",
      "---  ------                          --------------   -----  \n",
      " 0   hotel                           119390 non-null  object \n",
      " 1   is_canceled                     119390 non-null  int64  \n",
      " 2   lead_time                       119390 non-null  int64  \n",
      " 3   arrival_date_year               119390 non-null  int64  \n",
      " 4   arrival_date_month              119390 non-null  object \n",
      " 5   arrival_date_week_number        119390 non-null  int64  \n",
      " 6   arrival_date_day_of_month       119390 non-null  int64  \n",
      " 7   stays_in_weekend_nights         119390 non-null  int64  \n",
      " 8   stays_in_week_nights            119390 non-null  int64  \n",
      " 9   adults                          119390 non-null  int64  \n",
      " 10  children                        119386 non-null  float64\n",
      " 11  babies                          119390 non-null  int64  \n",
      " 12  meal                            119390 non-null  object \n",
      " 13  country                         118902 non-null  object \n",
      " 14  market_segment                  119390 non-null  object \n",
      " 15  distribution_channel            119390 non-null  object \n",
      " 16  is_repeated_guest               119390 non-null  int64  \n",
      " 17  previous_cancellations          119390 non-null  int64  \n",
      " 18  previous_bookings_not_canceled  119390 non-null  int64  \n",
      " 19  reserved_room_type              119390 non-null  object \n",
      " 20  assigned_room_type              119390 non-null  object \n",
      " 21  booking_changes                 119390 non-null  int64  \n",
      " 22  deposit_type                    119390 non-null  object \n",
      " 23  agent                           103050 non-null  float64\n",
      " 24  company                         6797 non-null    float64\n",
      " 25  days_in_waiting_list            119390 non-null  int64  \n",
      " 26  customer_type                   119390 non-null  object \n",
      " 27  adr                             119390 non-null  float64\n",
      " 28  required_car_parking_spaces     119390 non-null  int64  \n",
      " 29  total_of_special_requests       119390 non-null  int64  \n",
      " 30  reservation_status              119390 non-null  object \n",
      " 31  reservation_status_date         119390 non-null  object \n",
      "dtypes: float64(4), int64(16), object(12)\n",
      "memory usage: 29.1+ MB\n"
     ]
    }
   ],
   "source": [
    "df.info()"
   ]
  },
  {
   "cell_type": "code",
   "execution_count": 20,
   "id": "38e866b3",
   "metadata": {},
   "outputs": [
    {
     "data": {
      "text/html": [
       "<div>\n",
       "<style scoped>\n",
       "    .dataframe tbody tr th:only-of-type {\n",
       "        vertical-align: middle;\n",
       "    }\n",
       "\n",
       "    .dataframe tbody tr th {\n",
       "        vertical-align: top;\n",
       "    }\n",
       "\n",
       "    .dataframe thead th {\n",
       "        text-align: right;\n",
       "    }\n",
       "</style>\n",
       "<table border=\"1\" class=\"dataframe\">\n",
       "  <thead>\n",
       "    <tr style=\"text-align: right;\">\n",
       "      <th></th>\n",
       "      <th>is_canceled</th>\n",
       "      <th>lead_time</th>\n",
       "      <th>arrival_date_year</th>\n",
       "      <th>arrival_date_week_number</th>\n",
       "      <th>arrival_date_day_of_month</th>\n",
       "      <th>stays_in_weekend_nights</th>\n",
       "      <th>stays_in_week_nights</th>\n",
       "      <th>adults</th>\n",
       "      <th>children</th>\n",
       "      <th>babies</th>\n",
       "      <th>is_repeated_guest</th>\n",
       "      <th>previous_cancellations</th>\n",
       "      <th>previous_bookings_not_canceled</th>\n",
       "      <th>booking_changes</th>\n",
       "      <th>agent</th>\n",
       "      <th>company</th>\n",
       "      <th>days_in_waiting_list</th>\n",
       "      <th>adr</th>\n",
       "      <th>required_car_parking_spaces</th>\n",
       "      <th>total_of_special_requests</th>\n",
       "    </tr>\n",
       "  </thead>\n",
       "  <tbody>\n",
       "    <tr>\n",
       "      <th>count</th>\n",
       "      <td>119390.000000</td>\n",
       "      <td>119390.000000</td>\n",
       "      <td>119390.000000</td>\n",
       "      <td>119390.000000</td>\n",
       "      <td>119390.000000</td>\n",
       "      <td>119390.000000</td>\n",
       "      <td>119390.000000</td>\n",
       "      <td>119390.000000</td>\n",
       "      <td>119386.000000</td>\n",
       "      <td>119390.000000</td>\n",
       "      <td>119390.000000</td>\n",
       "      <td>119390.000000</td>\n",
       "      <td>119390.000000</td>\n",
       "      <td>119390.000000</td>\n",
       "      <td>103050.000000</td>\n",
       "      <td>6797.000000</td>\n",
       "      <td>119390.000000</td>\n",
       "      <td>119390.000000</td>\n",
       "      <td>119390.000000</td>\n",
       "      <td>119390.000000</td>\n",
       "    </tr>\n",
       "    <tr>\n",
       "      <th>mean</th>\n",
       "      <td>0.370416</td>\n",
       "      <td>104.011416</td>\n",
       "      <td>2016.156554</td>\n",
       "      <td>27.165173</td>\n",
       "      <td>15.798241</td>\n",
       "      <td>0.927599</td>\n",
       "      <td>2.500302</td>\n",
       "      <td>1.856403</td>\n",
       "      <td>0.103890</td>\n",
       "      <td>0.007949</td>\n",
       "      <td>0.031912</td>\n",
       "      <td>0.087118</td>\n",
       "      <td>0.137097</td>\n",
       "      <td>0.221124</td>\n",
       "      <td>86.693382</td>\n",
       "      <td>189.266735</td>\n",
       "      <td>2.321149</td>\n",
       "      <td>101.831122</td>\n",
       "      <td>0.062518</td>\n",
       "      <td>0.571363</td>\n",
       "    </tr>\n",
       "    <tr>\n",
       "      <th>std</th>\n",
       "      <td>0.482918</td>\n",
       "      <td>106.863097</td>\n",
       "      <td>0.707476</td>\n",
       "      <td>13.605138</td>\n",
       "      <td>8.780829</td>\n",
       "      <td>0.998613</td>\n",
       "      <td>1.908286</td>\n",
       "      <td>0.579261</td>\n",
       "      <td>0.398561</td>\n",
       "      <td>0.097436</td>\n",
       "      <td>0.175767</td>\n",
       "      <td>0.844336</td>\n",
       "      <td>1.497437</td>\n",
       "      <td>0.652306</td>\n",
       "      <td>110.774548</td>\n",
       "      <td>131.655015</td>\n",
       "      <td>17.594721</td>\n",
       "      <td>50.535790</td>\n",
       "      <td>0.245291</td>\n",
       "      <td>0.792798</td>\n",
       "    </tr>\n",
       "    <tr>\n",
       "      <th>min</th>\n",
       "      <td>0.000000</td>\n",
       "      <td>0.000000</td>\n",
       "      <td>2015.000000</td>\n",
       "      <td>1.000000</td>\n",
       "      <td>1.000000</td>\n",
       "      <td>0.000000</td>\n",
       "      <td>0.000000</td>\n",
       "      <td>0.000000</td>\n",
       "      <td>0.000000</td>\n",
       "      <td>0.000000</td>\n",
       "      <td>0.000000</td>\n",
       "      <td>0.000000</td>\n",
       "      <td>0.000000</td>\n",
       "      <td>0.000000</td>\n",
       "      <td>1.000000</td>\n",
       "      <td>6.000000</td>\n",
       "      <td>0.000000</td>\n",
       "      <td>-6.380000</td>\n",
       "      <td>0.000000</td>\n",
       "      <td>0.000000</td>\n",
       "    </tr>\n",
       "    <tr>\n",
       "      <th>25%</th>\n",
       "      <td>0.000000</td>\n",
       "      <td>18.000000</td>\n",
       "      <td>2016.000000</td>\n",
       "      <td>16.000000</td>\n",
       "      <td>8.000000</td>\n",
       "      <td>0.000000</td>\n",
       "      <td>1.000000</td>\n",
       "      <td>2.000000</td>\n",
       "      <td>0.000000</td>\n",
       "      <td>0.000000</td>\n",
       "      <td>0.000000</td>\n",
       "      <td>0.000000</td>\n",
       "      <td>0.000000</td>\n",
       "      <td>0.000000</td>\n",
       "      <td>9.000000</td>\n",
       "      <td>62.000000</td>\n",
       "      <td>0.000000</td>\n",
       "      <td>69.290000</td>\n",
       "      <td>0.000000</td>\n",
       "      <td>0.000000</td>\n",
       "    </tr>\n",
       "    <tr>\n",
       "      <th>50%</th>\n",
       "      <td>0.000000</td>\n",
       "      <td>69.000000</td>\n",
       "      <td>2016.000000</td>\n",
       "      <td>28.000000</td>\n",
       "      <td>16.000000</td>\n",
       "      <td>1.000000</td>\n",
       "      <td>2.000000</td>\n",
       "      <td>2.000000</td>\n",
       "      <td>0.000000</td>\n",
       "      <td>0.000000</td>\n",
       "      <td>0.000000</td>\n",
       "      <td>0.000000</td>\n",
       "      <td>0.000000</td>\n",
       "      <td>0.000000</td>\n",
       "      <td>14.000000</td>\n",
       "      <td>179.000000</td>\n",
       "      <td>0.000000</td>\n",
       "      <td>94.575000</td>\n",
       "      <td>0.000000</td>\n",
       "      <td>0.000000</td>\n",
       "    </tr>\n",
       "    <tr>\n",
       "      <th>75%</th>\n",
       "      <td>1.000000</td>\n",
       "      <td>160.000000</td>\n",
       "      <td>2017.000000</td>\n",
       "      <td>38.000000</td>\n",
       "      <td>23.000000</td>\n",
       "      <td>2.000000</td>\n",
       "      <td>3.000000</td>\n",
       "      <td>2.000000</td>\n",
       "      <td>0.000000</td>\n",
       "      <td>0.000000</td>\n",
       "      <td>0.000000</td>\n",
       "      <td>0.000000</td>\n",
       "      <td>0.000000</td>\n",
       "      <td>0.000000</td>\n",
       "      <td>229.000000</td>\n",
       "      <td>270.000000</td>\n",
       "      <td>0.000000</td>\n",
       "      <td>126.000000</td>\n",
       "      <td>0.000000</td>\n",
       "      <td>1.000000</td>\n",
       "    </tr>\n",
       "    <tr>\n",
       "      <th>max</th>\n",
       "      <td>1.000000</td>\n",
       "      <td>737.000000</td>\n",
       "      <td>2017.000000</td>\n",
       "      <td>53.000000</td>\n",
       "      <td>31.000000</td>\n",
       "      <td>19.000000</td>\n",
       "      <td>50.000000</td>\n",
       "      <td>55.000000</td>\n",
       "      <td>10.000000</td>\n",
       "      <td>10.000000</td>\n",
       "      <td>1.000000</td>\n",
       "      <td>26.000000</td>\n",
       "      <td>72.000000</td>\n",
       "      <td>21.000000</td>\n",
       "      <td>535.000000</td>\n",
       "      <td>543.000000</td>\n",
       "      <td>391.000000</td>\n",
       "      <td>5400.000000</td>\n",
       "      <td>8.000000</td>\n",
       "      <td>5.000000</td>\n",
       "    </tr>\n",
       "  </tbody>\n",
       "</table>\n",
       "</div>"
      ],
      "text/plain": [
       "         is_canceled      lead_time  arrival_date_year  \\\n",
       "count  119390.000000  119390.000000      119390.000000   \n",
       "mean        0.370416     104.011416        2016.156554   \n",
       "std         0.482918     106.863097           0.707476   \n",
       "min         0.000000       0.000000        2015.000000   \n",
       "25%         0.000000      18.000000        2016.000000   \n",
       "50%         0.000000      69.000000        2016.000000   \n",
       "75%         1.000000     160.000000        2017.000000   \n",
       "max         1.000000     737.000000        2017.000000   \n",
       "\n",
       "       arrival_date_week_number  arrival_date_day_of_month  \\\n",
       "count             119390.000000              119390.000000   \n",
       "mean                  27.165173                  15.798241   \n",
       "std                   13.605138                   8.780829   \n",
       "min                    1.000000                   1.000000   \n",
       "25%                   16.000000                   8.000000   \n",
       "50%                   28.000000                  16.000000   \n",
       "75%                   38.000000                  23.000000   \n",
       "max                   53.000000                  31.000000   \n",
       "\n",
       "       stays_in_weekend_nights  stays_in_week_nights         adults  \\\n",
       "count            119390.000000         119390.000000  119390.000000   \n",
       "mean                  0.927599              2.500302       1.856403   \n",
       "std                   0.998613              1.908286       0.579261   \n",
       "min                   0.000000              0.000000       0.000000   \n",
       "25%                   0.000000              1.000000       2.000000   \n",
       "50%                   1.000000              2.000000       2.000000   \n",
       "75%                   2.000000              3.000000       2.000000   \n",
       "max                  19.000000             50.000000      55.000000   \n",
       "\n",
       "            children         babies  is_repeated_guest  \\\n",
       "count  119386.000000  119390.000000      119390.000000   \n",
       "mean        0.103890       0.007949           0.031912   \n",
       "std         0.398561       0.097436           0.175767   \n",
       "min         0.000000       0.000000           0.000000   \n",
       "25%         0.000000       0.000000           0.000000   \n",
       "50%         0.000000       0.000000           0.000000   \n",
       "75%         0.000000       0.000000           0.000000   \n",
       "max        10.000000      10.000000           1.000000   \n",
       "\n",
       "       previous_cancellations  previous_bookings_not_canceled  \\\n",
       "count           119390.000000                   119390.000000   \n",
       "mean                 0.087118                        0.137097   \n",
       "std                  0.844336                        1.497437   \n",
       "min                  0.000000                        0.000000   \n",
       "25%                  0.000000                        0.000000   \n",
       "50%                  0.000000                        0.000000   \n",
       "75%                  0.000000                        0.000000   \n",
       "max                 26.000000                       72.000000   \n",
       "\n",
       "       booking_changes          agent      company  days_in_waiting_list  \\\n",
       "count    119390.000000  103050.000000  6797.000000         119390.000000   \n",
       "mean          0.221124      86.693382   189.266735              2.321149   \n",
       "std           0.652306     110.774548   131.655015             17.594721   \n",
       "min           0.000000       1.000000     6.000000              0.000000   \n",
       "25%           0.000000       9.000000    62.000000              0.000000   \n",
       "50%           0.000000      14.000000   179.000000              0.000000   \n",
       "75%           0.000000     229.000000   270.000000              0.000000   \n",
       "max          21.000000     535.000000   543.000000            391.000000   \n",
       "\n",
       "                 adr  required_car_parking_spaces  total_of_special_requests  \n",
       "count  119390.000000                119390.000000              119390.000000  \n",
       "mean      101.831122                     0.062518                   0.571363  \n",
       "std        50.535790                     0.245291                   0.792798  \n",
       "min        -6.380000                     0.000000                   0.000000  \n",
       "25%        69.290000                     0.000000                   0.000000  \n",
       "50%        94.575000                     0.000000                   0.000000  \n",
       "75%       126.000000                     0.000000                   1.000000  \n",
       "max      5400.000000                     8.000000                   5.000000  "
      ]
     },
     "execution_count": 20,
     "metadata": {},
     "output_type": "execute_result"
    }
   ],
   "source": [
    "# statistical information\n",
    "df.describe()"
   ]
  },
  {
   "cell_type": "code",
   "execution_count": 23,
   "id": "14183dcf",
   "metadata": {},
   "outputs": [
    {
     "data": {
      "text/plain": [
       "hotel                                  0\n",
       "is_canceled                            0\n",
       "lead_time                              0\n",
       "arrival_date_year                      0\n",
       "arrival_date_month                     0\n",
       "arrival_date_week_number               0\n",
       "arrival_date_day_of_month              0\n",
       "stays_in_weekend_nights                0\n",
       "stays_in_week_nights                   0\n",
       "adults                                 0\n",
       "children                               4\n",
       "babies                                 0\n",
       "meal                                   0\n",
       "country                              488\n",
       "market_segment                         0\n",
       "distribution_channel                   0\n",
       "is_repeated_guest                      0\n",
       "previous_cancellations                 0\n",
       "previous_bookings_not_canceled         0\n",
       "reserved_room_type                     0\n",
       "assigned_room_type                     0\n",
       "booking_changes                        0\n",
       "deposit_type                           0\n",
       "agent                              16340\n",
       "company                           112593\n",
       "days_in_waiting_list                   0\n",
       "customer_type                          0\n",
       "adr                                    0\n",
       "required_car_parking_spaces            0\n",
       "total_of_special_requests              0\n",
       "reservation_status                     0\n",
       "reservation_status_date                0\n",
       "dtype: int64"
      ]
     },
     "execution_count": 23,
     "metadata": {},
     "output_type": "execute_result"
    }
   ],
   "source": [
    "# checking for Nan value\n",
    "df.isna().sum()"
   ]
  },
  {
   "cell_type": "markdown",
   "id": "a80b5bfb",
   "metadata": {},
   "source": [
    "#### Data cleaning"
   ]
  },
  {
   "cell_type": "markdown",
   "id": "e6503c49",
   "metadata": {},
   "source": [
    "__Dropping Columns with no impact in our EDA__"
   ]
  },
  {
   "cell_type": "code",
   "execution_count": 26,
   "id": "870d3c08",
   "metadata": {},
   "outputs": [
    {
     "data": {
      "text/plain": [
       "array([ nan, 304., 240., 303.,  15., 241.,   8., 250., 115.,   5., 175.,\n",
       "       134., 156., 243., 242.,   3., 105.,  40., 147., 306., 184.,  96.,\n",
       "         2., 127.,  95., 146.,   9., 177.,   6., 143., 244., 149., 167.,\n",
       "       300., 171., 305.,  67., 196., 152., 142., 261., 104.,  36.,  26.,\n",
       "        29., 258., 110.,  71., 181.,  88., 251., 275.,  69., 248., 208.,\n",
       "       256., 314., 126., 281., 273., 253., 185., 330., 334., 328., 326.,\n",
       "       321., 324., 313.,  38., 155.,  68., 335., 308., 332.,  94., 348.,\n",
       "       310., 339., 375.,  66., 327., 387., 298.,  91., 245., 385., 257.,\n",
       "       393., 168., 405., 249., 315.,  75., 128., 307.,  11., 436.,   1.,\n",
       "       201., 183., 223., 368., 336., 291., 464., 411., 481.,  10., 154.,\n",
       "       468., 410., 390., 440., 495., 492., 493., 434.,  57., 531., 420.,\n",
       "       483., 526., 472., 429.,  16., 446.,  34.,  78., 139., 252., 270.,\n",
       "        47., 114., 301., 193., 182., 135., 350., 195., 352., 355., 159.,\n",
       "       363., 384., 360., 331., 367.,  64., 406., 163., 414., 333., 427.,\n",
       "       431., 430., 426., 438., 433., 418., 441., 282., 432.,  72., 450.,\n",
       "       180., 454., 455.,  59., 451., 254., 358., 469., 165., 467., 510.,\n",
       "       337., 476., 502., 527., 479., 508., 535., 302., 497., 187.,  13.,\n",
       "         7.,  27.,  14.,  22.,  17.,  28.,  42.,  20.,  19.,  45.,  37.,\n",
       "        61.,  39.,  21.,  24.,  41.,  50.,  30.,  54.,  52.,  12.,  44.,\n",
       "        31.,  83.,  32.,  63.,  60.,  55.,  56.,  89.,  87., 118.,  86.,\n",
       "        85., 210., 214., 129., 179., 138., 174., 170., 153.,  93., 151.,\n",
       "       119.,  35., 173.,  58.,  53., 133.,  79., 235., 192., 191., 236.,\n",
       "       162., 215., 157., 287., 132., 234.,  98.,  77., 103., 107., 262.,\n",
       "       220., 121., 205., 378.,  23., 296., 290., 229.,  33., 286., 276.,\n",
       "       425., 484., 323., 403., 219., 394., 509., 111., 423.,   4.,  70.,\n",
       "        82.,  81.,  74.,  92.,  99.,  90., 112., 117., 106., 148., 158.,\n",
       "       144., 211., 213., 216., 232., 150., 267., 227., 247., 278., 280.,\n",
       "       285., 289., 269., 295., 265., 288., 122., 294., 325., 341., 344.,\n",
       "       346., 359., 283., 364., 370., 371.,  25., 141., 391., 397., 416.,\n",
       "       404., 299., 197.,  73., 354., 444., 408., 461., 388., 453., 459.,\n",
       "       474., 475., 480., 449.])"
      ]
     },
     "execution_count": 26,
     "metadata": {},
     "output_type": "execute_result"
    }
   ],
   "source": [
    "df['agent'].unique()"
   ]
  },
  {
   "cell_type": "code",
   "execution_count": 25,
   "id": "127315c4",
   "metadata": {},
   "outputs": [
    {
     "data": {
      "text/plain": [
       "array([ nan, 110., 113., 270., 178., 240., 154., 144., 307., 268.,  59.,\n",
       "       204., 312., 318.,  94., 174., 274., 195., 223., 317., 281., 118.,\n",
       "        53., 286.,  12.,  47., 324., 342., 373., 371., 383.,  86.,  82.,\n",
       "       218.,  88.,  31., 397., 392., 405., 331., 367.,  20.,  83., 416.,\n",
       "        51., 395., 102.,  34.,  84., 360., 394., 457., 382., 461., 478.,\n",
       "       386., 112., 486., 421.,   9., 308., 135., 224., 504., 269., 356.,\n",
       "       498., 390., 513., 203., 263., 477., 521., 169., 515., 445., 337.,\n",
       "       251., 428., 292., 388., 130., 250., 355., 254., 543., 531., 528.,\n",
       "        62., 120.,  42.,  81., 116., 530., 103.,  39.,  16.,  92.,  61.,\n",
       "       501., 165., 291., 290.,  43., 325., 192., 108., 200., 465., 287.,\n",
       "       297., 490., 482., 207., 282., 437., 225., 329., 272.,  28.,  77.,\n",
       "       338.,  72., 246., 319., 146., 159., 380., 323., 511., 407., 278.,\n",
       "        80., 403., 399.,  14., 137., 343., 346., 347., 349., 289., 351.,\n",
       "       353.,  54.,  99., 358., 361., 362., 366., 372., 365., 277., 109.,\n",
       "       377., 379.,  22., 378., 330., 364., 401., 232., 255., 384., 167.,\n",
       "       212., 514., 391., 400., 376., 402., 396., 302., 398.,   6., 370.,\n",
       "       369., 409., 168., 104., 408., 413., 148.,  10., 333., 419., 415.,\n",
       "       424., 425., 423., 422., 435., 439., 442., 448., 443., 454., 444.,\n",
       "        52., 459., 458., 456., 460., 447., 470., 466., 484., 184., 485.,\n",
       "        32., 487., 491., 494., 193., 516., 496., 499.,  29.,  78., 520.,\n",
       "       507., 506., 512., 126.,  64., 242., 518., 523., 539., 534., 436.,\n",
       "       525., 541.,  40., 455., 410.,  45.,  38.,  49.,  48.,  67.,  68.,\n",
       "        65.,  91.,  37.,   8., 179., 209., 219., 221., 227., 153., 186.,\n",
       "       253., 202., 216., 275., 233., 280., 309., 321.,  93., 316.,  85.,\n",
       "       107., 350., 279., 334., 348., 150.,  73., 385., 418., 197., 450.,\n",
       "       452., 115.,  46.,  76.,  96., 100., 105., 101., 122.,  11., 139.,\n",
       "       142., 127., 143., 140., 149., 163., 160., 180., 238., 183., 222.,\n",
       "       185., 217., 215., 213., 237., 230., 234.,  35., 245., 158., 258.,\n",
       "       259., 260., 411., 257., 271.,  18., 106., 210., 273.,  71., 284.,\n",
       "       301., 305., 293., 264., 311., 304., 313., 288., 320., 314., 332.,\n",
       "       341., 352., 243., 368., 393., 132., 220., 412., 420., 426., 417.,\n",
       "       429., 433., 446., 357., 479., 483., 489., 229., 481., 497., 451.,\n",
       "       492.])"
      ]
     },
     "execution_count": 25,
     "metadata": {},
     "output_type": "execute_result"
    }
   ],
   "source": [
    "df['company'].unique()"
   ]
  },
  {
   "cell_type": "markdown",
   "id": "a4d6f754",
   "metadata": {},
   "source": [
    "Dropping the `Company `and `Agent` columns since they are just IDs and has no importance in our EDA"
   ]
  },
  {
   "cell_type": "code",
   "execution_count": 29,
   "id": "812f2073",
   "metadata": {},
   "outputs": [],
   "source": [
    "df.drop(columns=['agent', 'company'], inplace=True)"
   ]
  },
  {
   "cell_type": "markdown",
   "id": "03a0d8d5",
   "metadata": {},
   "source": [
    "__dropping rows with zero guest__"
   ]
  },
  {
   "cell_type": "code",
   "execution_count": 37,
   "id": "b085574c",
   "metadata": {},
   "outputs": [],
   "source": [
    "# only adult book hotel\n",
    "df = df[df['adults'] != 0]\n",
    "\n",
    "# Average Daily Rate paid for the booking shouldn't be less than 0 else no booking was made\n",
    "df = df[df['adr'] > 0]"
   ]
  },
  {
   "cell_type": "markdown",
   "id": "c3ab9f46",
   "metadata": {},
   "source": [
    "Dropping `arrival_date_week_number` because we do not need it "
   ]
  },
  {
   "cell_type": "code",
   "execution_count": 72,
   "id": "65999fe8",
   "metadata": {},
   "outputs": [],
   "source": [
    "df.drop('arrival_date_week_number', axis=1, inplace=True)"
   ]
  },
  {
   "cell_type": "markdown",
   "id": "46ef7c7e",
   "metadata": {},
   "source": [
    "__Combining day,month,year to datetime value__"
   ]
  },
  {
   "cell_type": "code",
   "execution_count": 73,
   "id": "dffe3be6",
   "metadata": {},
   "outputs": [
    {
     "data": {
      "text/html": [
       "<div>\n",
       "<style scoped>\n",
       "    .dataframe tbody tr th:only-of-type {\n",
       "        vertical-align: middle;\n",
       "    }\n",
       "\n",
       "    .dataframe tbody tr th {\n",
       "        vertical-align: top;\n",
       "    }\n",
       "\n",
       "    .dataframe thead th {\n",
       "        text-align: right;\n",
       "    }\n",
       "</style>\n",
       "<table border=\"1\" class=\"dataframe\">\n",
       "  <thead>\n",
       "    <tr style=\"text-align: right;\">\n",
       "      <th></th>\n",
       "      <th>hotel</th>\n",
       "      <th>is_canceled</th>\n",
       "      <th>lead_time</th>\n",
       "      <th>arrival_date_year</th>\n",
       "      <th>arrival_date_month</th>\n",
       "      <th>arrival_date_day_of_month</th>\n",
       "      <th>stays_in_weekend_nights</th>\n",
       "      <th>stays_in_week_nights</th>\n",
       "      <th>adults</th>\n",
       "      <th>children</th>\n",
       "      <th>...</th>\n",
       "      <th>booking_changes</th>\n",
       "      <th>deposit_type</th>\n",
       "      <th>days_in_waiting_list</th>\n",
       "      <th>customer_type</th>\n",
       "      <th>adr</th>\n",
       "      <th>required_car_parking_spaces</th>\n",
       "      <th>total_of_special_requests</th>\n",
       "      <th>reservation_status</th>\n",
       "      <th>reservation_status_date</th>\n",
       "      <th>arrival_date</th>\n",
       "    </tr>\n",
       "  </thead>\n",
       "  <tbody>\n",
       "    <tr>\n",
       "      <th>2</th>\n",
       "      <td>Resort Hotel</td>\n",
       "      <td>0</td>\n",
       "      <td>7</td>\n",
       "      <td>2015</td>\n",
       "      <td>July</td>\n",
       "      <td>1</td>\n",
       "      <td>0</td>\n",
       "      <td>1</td>\n",
       "      <td>1</td>\n",
       "      <td>0.0</td>\n",
       "      <td>...</td>\n",
       "      <td>0</td>\n",
       "      <td>No Deposit</td>\n",
       "      <td>0</td>\n",
       "      <td>Transient</td>\n",
       "      <td>75.0</td>\n",
       "      <td>0</td>\n",
       "      <td>0</td>\n",
       "      <td>Check-Out</td>\n",
       "      <td>2015-07-02</td>\n",
       "      <td>2015-07-01</td>\n",
       "    </tr>\n",
       "  </tbody>\n",
       "</table>\n",
       "<p>1 rows × 30 columns</p>\n",
       "</div>"
      ],
      "text/plain": [
       "          hotel  is_canceled  lead_time  arrival_date_year arrival_date_month  \\\n",
       "2  Resort Hotel            0          7               2015               July   \n",
       "\n",
       "   arrival_date_day_of_month  stays_in_weekend_nights  stays_in_week_nights  \\\n",
       "2                          1                        0                     1   \n",
       "\n",
       "   adults  children  ...  booking_changes deposit_type days_in_waiting_list  \\\n",
       "2       1       0.0  ...                0   No Deposit                    0   \n",
       "\n",
       "  customer_type   adr  required_car_parking_spaces  total_of_special_requests  \\\n",
       "2     Transient  75.0                            0                          0   \n",
       "\n",
       "   reservation_status reservation_status_date arrival_date  \n",
       "2           Check-Out              2015-07-02   2015-07-01  \n",
       "\n",
       "[1 rows x 30 columns]"
      ]
     },
     "execution_count": 73,
     "metadata": {},
     "output_type": "execute_result"
    }
   ],
   "source": [
    "df.head(1)"
   ]
  },
  {
   "cell_type": "code",
   "execution_count": 74,
   "id": "96eb9db2",
   "metadata": {},
   "outputs": [],
   "source": [
    "# concat the necessary columns\n",
    "df['arrival_date'] = df['arrival_date_month'] + \" \" + df['arrival_date_day_of_month'].astype(str) + \" \" + df['arrival_date_year'].astype(str)"
   ]
  },
  {
   "cell_type": "code",
   "execution_count": 75,
   "id": "ed53add3",
   "metadata": {},
   "outputs": [],
   "source": [
    "# convert it to datetime\n",
    "df['arrival_date'] = pd.to_datetime(df['arrival_date'])"
   ]
  },
  {
   "cell_type": "code",
   "execution_count": 76,
   "id": "cf18408b",
   "metadata": {},
   "outputs": [
    {
     "name": "stdout",
     "output_type": "stream",
     "text": [
      "<class 'pandas.core.frame.DataFrame'>\n",
      "Index: 117182 entries, 2 to 119389\n",
      "Data columns (total 30 columns):\n",
      " #   Column                          Non-Null Count   Dtype         \n",
      "---  ------                          --------------   -----         \n",
      " 0   hotel                           117182 non-null  object        \n",
      " 1   is_canceled                     117182 non-null  int64         \n",
      " 2   lead_time                       117182 non-null  int64         \n",
      " 3   arrival_date_year               117182 non-null  int64         \n",
      " 4   arrival_date_month              117182 non-null  object        \n",
      " 5   arrival_date_day_of_month       117182 non-null  int64         \n",
      " 6   stays_in_weekend_nights         117182 non-null  int64         \n",
      " 7   stays_in_week_nights            117182 non-null  int64         \n",
      " 8   adults                          117182 non-null  int64         \n",
      " 9   children                        117178 non-null  float64       \n",
      " 10  babies                          117182 non-null  int64         \n",
      " 11  meal                            117182 non-null  object        \n",
      " 12  country                         116715 non-null  object        \n",
      " 13  market_segment                  117182 non-null  object        \n",
      " 14  distribution_channel            117182 non-null  object        \n",
      " 15  is_repeated_guest               117182 non-null  int64         \n",
      " 16  previous_cancellations          117182 non-null  int64         \n",
      " 17  previous_bookings_not_canceled  117182 non-null  int64         \n",
      " 18  reserved_room_type              117182 non-null  object        \n",
      " 19  assigned_room_type              117182 non-null  object        \n",
      " 20  booking_changes                 117182 non-null  int64         \n",
      " 21  deposit_type                    117182 non-null  object        \n",
      " 22  days_in_waiting_list            117182 non-null  int64         \n",
      " 23  customer_type                   117182 non-null  object        \n",
      " 24  adr                             117182 non-null  float64       \n",
      " 25  required_car_parking_spaces     117182 non-null  int64         \n",
      " 26  total_of_special_requests       117182 non-null  int64         \n",
      " 27  reservation_status              117182 non-null  object        \n",
      " 28  reservation_status_date         117182 non-null  object        \n",
      " 29  arrival_date                    117182 non-null  datetime64[ns]\n",
      "dtypes: datetime64[ns](1), float64(2), int64(15), object(12)\n",
      "memory usage: 31.7+ MB\n"
     ]
    }
   ],
   "source": [
    "df.info()\n",
    "# 30  arrival_date 117182 non-null  datetime64[ns]"
   ]
  },
  {
   "cell_type": "code",
   "execution_count": 115,
   "id": "88833b72",
   "metadata": {},
   "outputs": [],
   "source": [
    "df['total_guests'] = df['adults'] + df['children'] + df['babies']"
   ]
  },
  {
   "cell_type": "markdown",
   "id": "6f147cd8",
   "metadata": {},
   "source": [
    "__working with Nan value__"
   ]
  },
  {
   "cell_type": "code",
   "execution_count": 80,
   "id": "44b8f5b6",
   "metadata": {},
   "outputs": [
    {
     "data": {
      "text/plain": [
       "country                           467\n",
       "children                            4\n",
       "hotel                               0\n",
       "previous_cancellations              0\n",
       "reservation_status_date             0\n",
       "reservation_status                  0\n",
       "total_of_special_requests           0\n",
       "required_car_parking_spaces         0\n",
       "adr                                 0\n",
       "customer_type                       0\n",
       "days_in_waiting_list                0\n",
       "deposit_type                        0\n",
       "booking_changes                     0\n",
       "assigned_room_type                  0\n",
       "reserved_room_type                  0\n",
       "previous_bookings_not_canceled      0\n",
       "is_repeated_guest                   0\n",
       "is_canceled                         0\n",
       "distribution_channel                0\n",
       "market_segment                      0\n",
       "meal                                0\n",
       "babies                              0\n",
       "adults                              0\n",
       "stays_in_week_nights                0\n",
       "stays_in_weekend_nights             0\n",
       "arrival_date_day_of_month           0\n",
       "arrival_date_month                  0\n",
       "arrival_date_year                   0\n",
       "lead_time                           0\n",
       "arrival_date                        0\n",
       "dtype: int64"
      ]
     },
     "execution_count": 80,
     "metadata": {},
     "output_type": "execute_result"
    }
   ],
   "source": [
    "df.isna().sum().sort_values(ascending=False)"
   ]
  },
  {
   "cell_type": "markdown",
   "id": "ea16448e",
   "metadata": {},
   "source": [
    "Filling it the Nan value for country"
   ]
  },
  {
   "cell_type": "code",
   "execution_count": 92,
   "id": "458bc6e4",
   "metadata": {},
   "outputs": [
    {
     "data": {
      "text/plain": [
       "country\n",
       "PRT    46989\n",
       "GBR    12037\n",
       "FRA    10335\n",
       "ESP     8474\n",
       "DEU     7232\n",
       "       ...  \n",
       "AIA        1\n",
       "SDN        1\n",
       "NCL        1\n",
       "KIR        1\n",
       "NAM        1\n",
       "Name: count, Length: 177, dtype: int64"
      ]
     },
     "execution_count": 92,
     "metadata": {},
     "output_type": "execute_result"
    }
   ],
   "source": [
    "# counting the number of occurence of a country \n",
    "df['country'].value_counts().sort_values(ascending=False)"
   ]
  },
  {
   "cell_type": "markdown",
   "id": "064cfe9f",
   "metadata": {},
   "source": [
    "We can see that __PRT__ takes about 40% of the total country occurence."
   ]
  },
  {
   "cell_type": "code",
   "execution_count": 93,
   "id": "ea4688cd",
   "metadata": {},
   "outputs": [
    {
     "data": {
      "text/plain": [
       "country\n",
       "PRT    0.402596\n",
       "GBR    0.103132\n",
       "FRA    0.088549\n",
       "ESP    0.072604\n",
       "DEU    0.061963\n",
       "         ...   \n",
       "AIA    0.000009\n",
       "SDN    0.000009\n",
       "NCL    0.000009\n",
       "KIR    0.000009\n",
       "NAM    0.000009\n",
       "Name: proportion, Length: 177, dtype: float64"
      ]
     },
     "execution_count": 93,
     "metadata": {},
     "output_type": "execute_result"
    }
   ],
   "source": [
    "# normalizing the count\n",
    "df['country'].value_counts(normalize=True).sort_values(ascending=False)"
   ]
  },
  {
   "cell_type": "markdown",
   "id": "d7ed78f1",
   "metadata": {},
   "source": [
    "We notice the mode (most occuring) of the country is __PRT__\n",
    "\n",
    "so, we can use `fillna` to fill the Nan value of country with __PRT__"
   ]
  },
  {
   "cell_type": "code",
   "execution_count": 96,
   "id": "99846fc7",
   "metadata": {},
   "outputs": [],
   "source": [
    "df['country'] = df['country'].fillna('PRT')"
   ]
  },
  {
   "cell_type": "code",
   "execution_count": 98,
   "id": "7179a0a1",
   "metadata": {},
   "outputs": [
    {
     "data": {
      "text/plain": [
       "0"
      ]
     },
     "execution_count": 98,
     "metadata": {},
     "output_type": "execute_result"
    }
   ],
   "source": [
    "# checking\n",
    "df['country'].isna().sum()"
   ]
  },
  {
   "cell_type": "code",
   "execution_count": 101,
   "id": "9b5c3c09",
   "metadata": {},
   "outputs": [
    {
     "data": {
      "text/plain": [
       "children                          4\n",
       "hotel                             0\n",
       "previous_cancellations            0\n",
       "reservation_status_date           0\n",
       "reservation_status                0\n",
       "total_of_special_requests         0\n",
       "required_car_parking_spaces       0\n",
       "adr                               0\n",
       "customer_type                     0\n",
       "days_in_waiting_list              0\n",
       "deposit_type                      0\n",
       "booking_changes                   0\n",
       "assigned_room_type                0\n",
       "reserved_room_type                0\n",
       "previous_bookings_not_canceled    0\n",
       "is_repeated_guest                 0\n",
       "is_canceled                       0\n",
       "distribution_channel              0\n",
       "market_segment                    0\n",
       "country                           0\n",
       "meal                              0\n",
       "babies                            0\n",
       "adults                            0\n",
       "stays_in_week_nights              0\n",
       "stays_in_weekend_nights           0\n",
       "arrival_date_day_of_month         0\n",
       "arrival_date_month                0\n",
       "arrival_date_year                 0\n",
       "lead_time                         0\n",
       "arrival_date                      0\n",
       "dtype: int64"
      ]
     },
     "execution_count": 101,
     "metadata": {},
     "output_type": "execute_result"
    }
   ],
   "source": [
    "# we still have children column\n",
    "df.isna().sum().sort_values(ascending=False)"
   ]
  },
  {
   "cell_type": "code",
   "execution_count": 104,
   "id": "24e29b35",
   "metadata": {},
   "outputs": [
    {
     "data": {
      "text/plain": [
       "children\n",
       "0.0     108897\n",
       "1.0       4803\n",
       "2.0       3412\n",
       "3.0         65\n",
       "10.0         1\n",
       "Name: count, dtype: int64"
      ]
     },
     "execution_count": 104,
     "metadata": {},
     "output_type": "execute_result"
    }
   ],
   "source": [
    "df['children'].value_counts()"
   ]
  },
  {
   "cell_type": "code",
   "execution_count": 105,
   "id": "87f05f74",
   "metadata": {},
   "outputs": [
    {
     "data": {
      "text/html": [
       "<div>\n",
       "<style scoped>\n",
       "    .dataframe tbody tr th:only-of-type {\n",
       "        vertical-align: middle;\n",
       "    }\n",
       "\n",
       "    .dataframe tbody tr th {\n",
       "        vertical-align: top;\n",
       "    }\n",
       "\n",
       "    .dataframe thead th {\n",
       "        text-align: right;\n",
       "    }\n",
       "</style>\n",
       "<table border=\"1\" class=\"dataframe\">\n",
       "  <thead>\n",
       "    <tr style=\"text-align: right;\">\n",
       "      <th></th>\n",
       "      <th>hotel</th>\n",
       "      <th>is_canceled</th>\n",
       "      <th>lead_time</th>\n",
       "      <th>arrival_date_year</th>\n",
       "      <th>arrival_date_month</th>\n",
       "      <th>arrival_date_day_of_month</th>\n",
       "      <th>stays_in_weekend_nights</th>\n",
       "      <th>stays_in_week_nights</th>\n",
       "      <th>adults</th>\n",
       "      <th>children</th>\n",
       "      <th>...</th>\n",
       "      <th>booking_changes</th>\n",
       "      <th>deposit_type</th>\n",
       "      <th>days_in_waiting_list</th>\n",
       "      <th>customer_type</th>\n",
       "      <th>adr</th>\n",
       "      <th>required_car_parking_spaces</th>\n",
       "      <th>total_of_special_requests</th>\n",
       "      <th>reservation_status</th>\n",
       "      <th>reservation_status_date</th>\n",
       "      <th>arrival_date</th>\n",
       "    </tr>\n",
       "  </thead>\n",
       "  <tbody>\n",
       "    <tr>\n",
       "      <th>40600</th>\n",
       "      <td>City Hotel</td>\n",
       "      <td>1</td>\n",
       "      <td>2</td>\n",
       "      <td>2015</td>\n",
       "      <td>August</td>\n",
       "      <td>3</td>\n",
       "      <td>1</td>\n",
       "      <td>0</td>\n",
       "      <td>2</td>\n",
       "      <td>NaN</td>\n",
       "      <td>...</td>\n",
       "      <td>0</td>\n",
       "      <td>No Deposit</td>\n",
       "      <td>0</td>\n",
       "      <td>Transient-Party</td>\n",
       "      <td>12.0</td>\n",
       "      <td>0</td>\n",
       "      <td>1</td>\n",
       "      <td>Canceled</td>\n",
       "      <td>2015-08-01</td>\n",
       "      <td>2015-08-03</td>\n",
       "    </tr>\n",
       "    <tr>\n",
       "      <th>40667</th>\n",
       "      <td>City Hotel</td>\n",
       "      <td>1</td>\n",
       "      <td>1</td>\n",
       "      <td>2015</td>\n",
       "      <td>August</td>\n",
       "      <td>5</td>\n",
       "      <td>0</td>\n",
       "      <td>2</td>\n",
       "      <td>2</td>\n",
       "      <td>NaN</td>\n",
       "      <td>...</td>\n",
       "      <td>0</td>\n",
       "      <td>No Deposit</td>\n",
       "      <td>0</td>\n",
       "      <td>Transient-Party</td>\n",
       "      <td>12.0</td>\n",
       "      <td>0</td>\n",
       "      <td>1</td>\n",
       "      <td>Canceled</td>\n",
       "      <td>2015-08-04</td>\n",
       "      <td>2015-08-05</td>\n",
       "    </tr>\n",
       "    <tr>\n",
       "      <th>40679</th>\n",
       "      <td>City Hotel</td>\n",
       "      <td>1</td>\n",
       "      <td>1</td>\n",
       "      <td>2015</td>\n",
       "      <td>August</td>\n",
       "      <td>5</td>\n",
       "      <td>0</td>\n",
       "      <td>2</td>\n",
       "      <td>3</td>\n",
       "      <td>NaN</td>\n",
       "      <td>...</td>\n",
       "      <td>0</td>\n",
       "      <td>No Deposit</td>\n",
       "      <td>0</td>\n",
       "      <td>Transient-Party</td>\n",
       "      <td>18.0</td>\n",
       "      <td>0</td>\n",
       "      <td>2</td>\n",
       "      <td>Canceled</td>\n",
       "      <td>2015-08-04</td>\n",
       "      <td>2015-08-05</td>\n",
       "    </tr>\n",
       "    <tr>\n",
       "      <th>41160</th>\n",
       "      <td>City Hotel</td>\n",
       "      <td>1</td>\n",
       "      <td>8</td>\n",
       "      <td>2015</td>\n",
       "      <td>August</td>\n",
       "      <td>13</td>\n",
       "      <td>2</td>\n",
       "      <td>5</td>\n",
       "      <td>2</td>\n",
       "      <td>NaN</td>\n",
       "      <td>...</td>\n",
       "      <td>0</td>\n",
       "      <td>No Deposit</td>\n",
       "      <td>0</td>\n",
       "      <td>Transient-Party</td>\n",
       "      <td>76.5</td>\n",
       "      <td>0</td>\n",
       "      <td>1</td>\n",
       "      <td>Canceled</td>\n",
       "      <td>2015-08-09</td>\n",
       "      <td>2015-08-13</td>\n",
       "    </tr>\n",
       "  </tbody>\n",
       "</table>\n",
       "<p>4 rows × 30 columns</p>\n",
       "</div>"
      ],
      "text/plain": [
       "            hotel  is_canceled  lead_time  arrival_date_year  \\\n",
       "40600  City Hotel            1          2               2015   \n",
       "40667  City Hotel            1          1               2015   \n",
       "40679  City Hotel            1          1               2015   \n",
       "41160  City Hotel            1          8               2015   \n",
       "\n",
       "      arrival_date_month  arrival_date_day_of_month  stays_in_weekend_nights  \\\n",
       "40600             August                          3                        1   \n",
       "40667             August                          5                        0   \n",
       "40679             August                          5                        0   \n",
       "41160             August                         13                        2   \n",
       "\n",
       "       stays_in_week_nights  adults  children  ...  booking_changes  \\\n",
       "40600                     0       2       NaN  ...                0   \n",
       "40667                     2       2       NaN  ...                0   \n",
       "40679                     2       3       NaN  ...                0   \n",
       "41160                     5       2       NaN  ...                0   \n",
       "\n",
       "      deposit_type days_in_waiting_list    customer_type   adr  \\\n",
       "40600   No Deposit                    0  Transient-Party  12.0   \n",
       "40667   No Deposit                    0  Transient-Party  12.0   \n",
       "40679   No Deposit                    0  Transient-Party  18.0   \n",
       "41160   No Deposit                    0  Transient-Party  76.5   \n",
       "\n",
       "       required_car_parking_spaces  total_of_special_requests  \\\n",
       "40600                            0                          1   \n",
       "40667                            0                          1   \n",
       "40679                            0                          2   \n",
       "41160                            0                          1   \n",
       "\n",
       "       reservation_status reservation_status_date arrival_date  \n",
       "40600            Canceled              2015-08-01   2015-08-03  \n",
       "40667            Canceled              2015-08-04   2015-08-05  \n",
       "40679            Canceled              2015-08-04   2015-08-05  \n",
       "41160            Canceled              2015-08-09   2015-08-13  \n",
       "\n",
       "[4 rows x 30 columns]"
      ]
     },
     "execution_count": 105,
     "metadata": {},
     "output_type": "execute_result"
    }
   ],
   "source": [
    "df[df['children'].isna()]"
   ]
  },
  {
   "cell_type": "code",
   "execution_count": 108,
   "id": "ebedd937",
   "metadata": {},
   "outputs": [
    {
     "data": {
      "text/plain": [
       "count    117178.000000\n",
       "mean          0.100975\n",
       "std           0.391296\n",
       "min           0.000000\n",
       "25%           0.000000\n",
       "50%           0.000000\n",
       "75%           0.000000\n",
       "max          10.000000\n",
       "Name: children, dtype: float64"
      ]
     },
     "execution_count": 108,
     "metadata": {},
     "output_type": "execute_result"
    }
   ],
   "source": [
    "df['children'].describe()"
   ]
  },
  {
   "cell_type": "code",
   "execution_count": 109,
   "id": "721d249d",
   "metadata": {},
   "outputs": [
    {
     "data": {
      "text/plain": [
       "0.0"
      ]
     },
     "execution_count": 109,
     "metadata": {},
     "output_type": "execute_result"
    }
   ],
   "source": [
    "df['children'].median()"
   ]
  },
  {
   "cell_type": "markdown",
   "id": "d37f128c",
   "metadata": {},
   "source": [
    "filling the Nan of children with the median value."
   ]
  },
  {
   "cell_type": "code",
   "execution_count": 110,
   "id": "8d975ecf",
   "metadata": {},
   "outputs": [],
   "source": [
    "df['children'] = df['children'].fillna(df['children'].median())"
   ]
  },
  {
   "cell_type": "code",
   "execution_count": 117,
   "id": "c6932a23",
   "metadata": {},
   "outputs": [
    {
     "data": {
      "text/plain": [
       "hotel                             0\n",
       "is_canceled                       0\n",
       "lead_time                         0\n",
       "arrival_date_year                 0\n",
       "arrival_date_month                0\n",
       "arrival_date_day_of_month         0\n",
       "stays_in_weekend_nights           0\n",
       "stays_in_week_nights              0\n",
       "adults                            0\n",
       "children                          0\n",
       "babies                            0\n",
       "meal                              0\n",
       "country                           0\n",
       "market_segment                    0\n",
       "distribution_channel              0\n",
       "is_repeated_guest                 0\n",
       "previous_cancellations            0\n",
       "previous_bookings_not_canceled    0\n",
       "reserved_room_type                0\n",
       "assigned_room_type                0\n",
       "booking_changes                   0\n",
       "deposit_type                      0\n",
       "days_in_waiting_list              0\n",
       "customer_type                     0\n",
       "adr                               0\n",
       "required_car_parking_spaces       0\n",
       "total_of_special_requests         0\n",
       "reservation_status                0\n",
       "reservation_status_date           0\n",
       "arrival_date                      0\n",
       "total_guests                      0\n",
       "dtype: int64"
      ]
     },
     "execution_count": 117,
     "metadata": {},
     "output_type": "execute_result"
    }
   ],
   "source": [
    "# no more Nan value\n",
    "df.isna().sum()"
   ]
  },
  {
   "cell_type": "code",
   "execution_count": null,
   "id": "ffc06b2f",
   "metadata": {},
   "outputs": [],
   "source": []
  },
  {
   "cell_type": "markdown",
   "id": "6cb16d0e",
   "metadata": {},
   "source": [
    "#### Exploratory Data Analysis"
   ]
  },
  {
   "cell_type": "markdown",
   "id": "c9fb5303",
   "metadata": {},
   "source": [
    "###### Countplot to obtain thr count of reservation on the hotels"
   ]
  },
  {
   "cell_type": "code",
   "execution_count": 122,
   "id": "fdede06a",
   "metadata": {},
   "outputs": [
    {
     "data": {
      "text/plain": [
       "hotel\n",
       "City Hotel      77875\n",
       "Resort Hotel    39307\n",
       "Name: count, dtype: int64"
      ]
     },
     "execution_count": 122,
     "metadata": {},
     "output_type": "execute_result"
    }
   ],
   "source": [
    "# hotels anf their count\n",
    "df['hotel'].value_counts()"
   ]
  },
  {
   "cell_type": "code",
   "execution_count": 150,
   "id": "698800b8",
   "metadata": {},
   "outputs": [
    {
     "data": {
      "image/png": "[encoded data removed]",
      "text/plain": [
       "<Figure size 1200x1200 with 1 Axes>"
      ]
     },
     "metadata": {},
     "output_type": "display_data"
    }
   ],
   "source": [
    "plt.figure(figsize=(12,12))\n",
    "plt.title('Hotel Reservation Count')\n",
    "sns.countplot(x='hotel', data=df, palette='rainbow', hue='hotel')\n",
    "plt.ylabel('Reservation Count')\n",
    "plt.xlabel('Hotel Type')\n",
    "\n",
    "plt.show()"
   ]
  },
  {
   "cell_type": "markdown",
   "id": "f3d9be71",
   "metadata": {},
   "source": [
    "A piechart showing the impacts of the hotel type"
   ]
  },
  {
   "cell_type": "code",
   "execution_count": 151,
   "id": "e9e37099",
   "metadata": {},
   "outputs": [
    {
     "data": {
      "text/plain": [
       "hotel\n",
       "City Hotel      0.664565\n",
       "Resort Hotel    0.335435\n",
       "Name: proportion, dtype: float64"
      ]
     },
     "execution_count": 151,
     "metadata": {},
     "output_type": "execute_result"
    }
   ],
   "source": [
    "# percentage of reservation\n",
    "df['hotel'].value_counts(normalize=True)"
   ]
  },
  {
   "cell_type": "code",
   "execution_count": 146,
   "id": "7ad6c251",
   "metadata": {
    "scrolled": false
   },
   "outputs": [
    {
     "data": {
      "image/png": "[encoded data removed]",
      "text/plain": [
       "<Figure size 1000x1000 with 1 Axes>"
      ]
     },
     "metadata": {},
     "output_type": "display_data"
    }
   ],
   "source": [
    "# Get value counts\n",
    "value_counts = df['hotel'].value_counts()\n",
    "\n",
    "# Create the pie chart\n",
    "plt.figure(figsize=(10, 10)) \n",
    "plt.pie(value_counts, labels=value_counts.index, autopct=\"%1.1f%%\")\n",
    "plt.title(\"Pie Chart of Hotel Reservation\")\n",
    "plt.show()"
   ]
  },
  {
   "cell_type": "markdown",
   "id": "4d8e0f3d",
   "metadata": {},
   "source": [
    "###### Countplot on Hotel type and cancelation and non cancelation"
   ]
  },
  {
   "cell_type": "code",
   "execution_count": 170,
   "id": "c4ffd559",
   "metadata": {},
   "outputs": [
    {
     "data": {
      "text/plain": [
       "is_canceled\n",
       "0    73253\n",
       "1    43929\n",
       "Name: count, dtype: int64"
      ]
     },
     "execution_count": 170,
     "metadata": {},
     "output_type": "execute_result"
    }
   ],
   "source": [
    "df['is_canceled'].value_counts()"
   ]
  },
  {
   "cell_type": "code",
   "execution_count": 167,
   "id": "61167293",
   "metadata": {},
   "outputs": [],
   "source": [
    "# change datatype\n",
    "df['is_canceled'] = df['is_canceled'].astype('str')"
   ]
  },
  {
   "cell_type": "code",
   "execution_count": 168,
   "id": "447aeec7",
   "metadata": {},
   "outputs": [
    {
     "data": {
      "text/plain": [
       "dtype('O')"
      ]
     },
     "execution_count": 168,
     "metadata": {},
     "output_type": "execute_result"
    }
   ],
   "source": [
    "df['is_canceled'].dtype"
   ]
  },
  {
   "cell_type": "code",
   "execution_count": 184,
   "id": "53b0d222",
   "metadata": {},
   "outputs": [
    {
     "data": {
      "image/png": "[encoded data removed]",
      "text/plain": [
       "<Figure size 1200x1200 with 1 Axes>"
      ]
     },
     "metadata": {},
     "output_type": "display_data"
    }
   ],
   "source": [
    "plt.figure(figsize=(12,12))\n",
    "plt.title('Hotel Reservation and Cancelation')\n",
    "sns.countplot(x='hotel', data=df, palette='rainbow', hue='is_canceled')\n",
    "plt.ylabel('Reservation Count')\n",
    "plt.xlabel('Hotel Type')\n",
    "\n",
    "plt.show()"
   ]
  },
  {
   "cell_type": "code",
   "execution_count": 180,
   "id": "b2e49699",
   "metadata": {},
   "outputs": [
    {
     "data": {
      "text/plain": [
       "is_canceled\n",
       "0    0.625122\n",
       "1    0.374878\n",
       "Name: proportion, dtype: float64"
      ]
     },
     "execution_count": 180,
     "metadata": {},
     "output_type": "execute_result"
    }
   ],
   "source": [
    "# getting the percentage cancellation in reservation\n",
    "df['is_canceled'].value_counts(normalize=True)"
   ]
  },
  {
   "cell_type": "code",
   "execution_count": 183,
   "id": "1570b202",
   "metadata": {},
   "outputs": [
    {
     "data": {
      "image/png": "[encoded data removed]",
      "text/plain": [
       "<Figure size 1000x1000 with 1 Axes>"
      ]
     },
     "metadata": {},
     "output_type": "display_data"
    }
   ],
   "source": [
    "# Get value counts\n",
    "value_counts = df['is_canceled'].value_counts()\n",
    "labels = ['Reservation','Cancel Reservation']\n",
    "# Create the pie chart\n",
    "plt.figure(figsize=(10, 10)) \n",
    "plt.pie(value_counts, labels=labels, autopct=\"%1.1f%%\")\n",
    "plt.title(\"Pie Chart of Hotel Reservation\")\n",
    "plt.show()"
   ]
  },
  {
   "cell_type": "code",
   "execution_count": 177,
   "id": "3ca72b42",
   "metadata": {},
   "outputs": [
    {
     "data": {
      "text/plain": [
       "is_canceled\n",
       "0    0.719185\n",
       "1    0.280815\n",
       "Name: proportion, dtype: float64"
      ]
     },
     "execution_count": 177,
     "metadata": {},
     "output_type": "execute_result"
    }
   ],
   "source": [
    "# Resort Hotel\n",
    "df[df['hotel'] == 'Resort Hotel']['is_canceled'].value_counts(normalize=True)"
   ]
  },
  {
   "cell_type": "code",
   "execution_count": 179,
   "id": "2aa12230",
   "metadata": {},
   "outputs": [
    {
     "data": {
      "text/plain": [
       "is_canceled\n",
       "0    0.577644\n",
       "1    0.422356\n",
       "Name: proportion, dtype: float64"
      ]
     },
     "execution_count": 179,
     "metadata": {},
     "output_type": "execute_result"
    }
   ],
   "source": [
    "# City Hotel\n",
    "df[df['hotel'] == 'City Hotel']['is_canceled'].value_counts(normalize=True)"
   ]
  },
  {
   "cell_type": "markdown",
   "id": "324b4889",
   "metadata": {},
   "source": [
    "This shows that Customers have canceled more reservation on the __City Hotels__ which is about `0.42%` of the Total reservation made on __City Hotel__. While, __Resort Hotel__ has contributed more "
   ]
  },
  {
   "cell_type": "markdown",
   "id": "827772f4",
   "metadata": {},
   "source": [
    "###### Number of Guest arrival each month"
   ]
  },
  {
   "cell_type": "code",
   "execution_count": 193,
   "id": "fd96ef94",
   "metadata": {},
   "outputs": [
    {
     "data": {
      "text/plain": [
       "arrival_date_month\n",
       "August       13677\n",
       "July         12457\n",
       "May          11592\n",
       "April        10931\n",
       "October      10913\n",
       "June         10805\n",
       "September    10338\n",
       "March         9620\n",
       "February      7901\n",
       "November      6629\n",
       "December      6537\n",
       "January       5782\n",
       "Name: count, dtype: int64"
      ]
     },
     "execution_count": 193,
     "metadata": {},
     "output_type": "execute_result"
    }
   ],
   "source": [
    "df['arrival_date_month'].value_counts()"
   ]
  },
  {
   "cell_type": "code",
   "execution_count": 194,
   "id": "72d58ab0",
   "metadata": {},
   "outputs": [
    {
     "data": {
      "image/png": "[encoded data removed]",
      "text/plain": [
       "<Figure size 1200x1200 with 1 Axes>"
      ]
     },
     "metadata": {},
     "output_type": "display_data"
    }
   ],
   "source": [
    "plt.figure(figsize=(12,12))\n",
    "plt.title('Hotel Monthly Reservation')\n",
    "month_order = ['January','February','March','April','May','June','July','August','September','October','November', 'December',]\n",
    "sns.countplot(x='arrival_date_month', \n",
    "              data=df, \n",
    "              palette='rainbow', \n",
    "              hue='hotel', \n",
    "              order=month_order)\n",
    "plt.ylabel('Reservation Count')\n",
    "plt.xlabel('Month')\n",
    "\n",
    "plt.show()"
   ]
  },
  {
   "cell_type": "markdown",
   "id": "2676424e",
   "metadata": {},
   "source": [
    "We can observe that the hotel Reservation tend to peak during __August__ on both Hotel types and falls during November to January"
   ]
  },
  {
   "cell_type": "markdown",
   "id": "07e1be35",
   "metadata": {},
   "source": [
    "###### Plotting the Adult reservation and number of families with children"
   ]
  },
  {
   "cell_type": "code",
   "execution_count": 198,
   "id": "80d80011",
   "metadata": {},
   "outputs": [
    {
     "data": {
      "text/plain": [
       "adults\n",
       "2    88780\n",
       "1    22166\n",
       "3     6176\n",
       "4       60\n",
       "Name: count, dtype: int64"
      ]
     },
     "execution_count": 198,
     "metadata": {},
     "output_type": "execute_result"
    }
   ],
   "source": [
    "# adults count by reservation\n",
    "df['adults'].value_counts()"
   ]
  },
  {
   "cell_type": "code",
   "execution_count": 204,
   "id": "bb8a81d9",
   "metadata": {},
   "outputs": [
    {
     "data": {
      "image/png": "[encoded data removed]",
      "text/plain": [
       "<Figure size 1200x1200 with 1 Axes>"
      ]
     },
     "metadata": {},
     "output_type": "display_data"
    }
   ],
   "source": [
    "plt.figure(figsize=(12,12))\n",
    "plt.title('Hotel Adult Reservation')\n",
    "sns.countplot(x='adults', \n",
    "              data=df, \n",
    "              palette='rainbow', \n",
    "              hue='hotel')\n",
    "plt.ylabel('Reservation Count')\n",
    "plt.xlabel('Number of Adults')\n",
    "\n",
    "plt.show()"
   ]
  },
  {
   "cell_type": "code",
   "execution_count": 205,
   "id": "7fb87d3c",
   "metadata": {},
   "outputs": [
    {
     "data": {
      "text/plain": [
       "adults\n",
       "2    0.757625\n",
       "1    0.189159\n",
       "3    0.052704\n",
       "4    0.000512\n",
       "Name: proportion, dtype: float64"
      ]
     },
     "execution_count": 205,
     "metadata": {},
     "output_type": "execute_result"
    }
   ],
   "source": [
    "# percentage of adult reservation\n",
    "df['adults'].value_counts(normalize=True)"
   ]
  },
  {
   "cell_type": "markdown",
   "id": "e238b9f3",
   "metadata": {},
   "source": [
    "The most number of __adults__ seems to be __2__, this could mean that most reservation are made by adults.\n",
    "\n",
    "`This shows that about 75% of all reservation were made by couples`"
   ]
  },
  {
   "cell_type": "code",
   "execution_count": 206,
   "id": "21fede9e",
   "metadata": {},
   "outputs": [
    {
     "data": {
      "text/plain": [
       "children\n",
       "0.0     108901\n",
       "1.0       4803\n",
       "2.0       3412\n",
       "3.0         65\n",
       "10.0         1\n",
       "Name: count, dtype: int64"
      ]
     },
     "execution_count": 206,
     "metadata": {},
     "output_type": "execute_result"
    }
   ],
   "source": [
    "df['children'].value_counts()"
   ]
  },
  {
   "cell_type": "markdown",
   "id": "e484342d",
   "metadata": {},
   "source": [
    "we can observe that most customers reservation were made by adult with no `children` involvement."
   ]
  },
  {
   "cell_type": "code",
   "execution_count": 207,
   "id": "e8a9580c",
   "metadata": {},
   "outputs": [
    {
     "data": {
      "image/png": "[encoded data removed]",
      "text/plain": [
       "<Figure size 1200x1200 with 1 Axes>"
      ]
     },
     "metadata": {},
     "output_type": "display_data"
    }
   ],
   "source": [
    "plt.figure(figsize=(12,12))\n",
    "plt.title('Hotel Children Reservation')\n",
    "sns.countplot(x='children', \n",
    "              data=df, \n",
    "              palette='rainbow', \n",
    "              hue='hotel')\n",
    "plt.ylabel('Reservation Count')\n",
    "plt.xlabel('Number of Children')\n",
    "\n",
    "plt.show()"
   ]
  },
  {
   "cell_type": "code",
   "execution_count": 209,
   "id": "ede87403",
   "metadata": {},
   "outputs": [
    {
     "data": {
      "text/plain": [
       "children\n",
       "0.0     0.929332\n",
       "1.0     0.040988\n",
       "2.0     0.029117\n",
       "3.0     0.000555\n",
       "10.0    0.000009\n",
       "Name: proportion, dtype: float64"
      ]
     },
     "execution_count": 209,
     "metadata": {},
     "output_type": "execute_result"
    }
   ],
   "source": [
    "df['children'].value_counts(normalize=True)"
   ]
  },
  {
   "cell_type": "markdown",
   "id": "87110a87",
   "metadata": {},
   "source": [
    "__Zero number of Children contribute to about 92%__"
   ]
  },
  {
   "cell_type": "markdown",
   "id": "c0753032",
   "metadata": {},
   "source": [
    "###### Lineplot to show the guest per month  during a time period"
   ]
  },
  {
   "cell_type": "code",
   "execution_count": null,
   "id": "dcfaad8a",
   "metadata": {},
   "outputs": [],
   "source": []
  },
  {
   "cell_type": "code",
   "execution_count": 274,
   "id": "6e46e022",
   "metadata": {},
   "outputs": [
    {
     "data": {
      "text/html": [
       "<div>\n",
       "<style scoped>\n",
       "    .dataframe tbody tr th:only-of-type {\n",
       "        vertical-align: middle;\n",
       "    }\n",
       "\n",
       "    .dataframe tbody tr th {\n",
       "        vertical-align: top;\n",
       "    }\n",
       "\n",
       "    .dataframe thead th {\n",
       "        text-align: right;\n",
       "    }\n",
       "</style>\n",
       "<table border=\"1\" class=\"dataframe\">\n",
       "  <thead>\n",
       "    <tr style=\"text-align: right;\">\n",
       "      <th></th>\n",
       "      <th>hotel</th>\n",
       "    </tr>\n",
       "    <tr>\n",
       "      <th>arrival_date</th>\n",
       "      <th></th>\n",
       "    </tr>\n",
       "  </thead>\n",
       "  <tbody>\n",
       "    <tr>\n",
       "      <th>2015-07-01</th>\n",
       "      <td>119</td>\n",
       "    </tr>\n",
       "    <tr>\n",
       "      <th>2015-07-02</th>\n",
       "      <td>93</td>\n",
       "    </tr>\n",
       "    <tr>\n",
       "      <th>2015-07-03</th>\n",
       "      <td>56</td>\n",
       "    </tr>\n",
       "    <tr>\n",
       "      <th>2015-07-04</th>\n",
       "      <td>87</td>\n",
       "    </tr>\n",
       "    <tr>\n",
       "      <th>2015-07-05</th>\n",
       "      <td>53</td>\n",
       "    </tr>\n",
       "    <tr>\n",
       "      <th>...</th>\n",
       "      <td>...</td>\n",
       "    </tr>\n",
       "    <tr>\n",
       "      <th>2017-08-27</th>\n",
       "      <td>173</td>\n",
       "    </tr>\n",
       "    <tr>\n",
       "      <th>2017-08-28</th>\n",
       "      <td>209</td>\n",
       "    </tr>\n",
       "    <tr>\n",
       "      <th>2017-08-29</th>\n",
       "      <td>124</td>\n",
       "    </tr>\n",
       "    <tr>\n",
       "      <th>2017-08-30</th>\n",
       "      <td>87</td>\n",
       "    </tr>\n",
       "    <tr>\n",
       "      <th>2017-08-31</th>\n",
       "      <td>133</td>\n",
       "    </tr>\n",
       "  </tbody>\n",
       "</table>\n",
       "<p>793 rows × 1 columns</p>\n",
       "</div>"
      ],
      "text/plain": [
       "              hotel\n",
       "arrival_date       \n",
       "2015-07-01      119\n",
       "2015-07-02       93\n",
       "2015-07-03       56\n",
       "2015-07-04       87\n",
       "2015-07-05       53\n",
       "...             ...\n",
       "2017-08-27      173\n",
       "2017-08-28      209\n",
       "2017-08-29      124\n",
       "2017-08-30       87\n",
       "2017-08-31      133\n",
       "\n",
       "[793 rows x 1 columns]"
      ]
     },
     "execution_count": 274,
     "metadata": {},
     "output_type": "execute_result"
    }
   ],
   "source": [
    "# count the number of arrivals per given date\n",
    "pd.DataFrame(df.groupby('arrival_date')['hotel'].size())"
   ]
  },
  {
   "cell_type": "code",
   "execution_count": 275,
   "id": "0ac3193f",
   "metadata": {},
   "outputs": [
    {
     "data": {
      "text/plain": [
       "arrival_date  hotel       \n",
       "2015-07-01    City Hotel      78\n",
       "              Resort Hotel    41\n",
       "2015-07-02    City Hotel      49\n",
       "              Resort Hotel    44\n",
       "2015-07-03    Resort Hotel    40\n",
       "                              ..\n",
       "2017-08-29    Resort Hotel    35\n",
       "2017-08-30    City Hotel      47\n",
       "              Resort Hotel    40\n",
       "2017-08-31    City Hotel      79\n",
       "              Resort Hotel    54\n",
       "Name: count, Length: 1586, dtype: int64"
      ]
     },
     "execution_count": 275,
     "metadata": {},
     "output_type": "execute_result"
    }
   ],
   "source": [
    "# splitting it per hotel type\n",
    "df.groupby('arrival_date')['hotel'].value_counts()"
   ]
  },
  {
   "cell_type": "code",
   "execution_count": null,
   "id": "99a16a7b",
   "metadata": {},
   "outputs": [],
   "source": [
    "# find count for monthly"
   ]
  },
  {
   "cell_type": "code",
   "execution_count": 315,
   "id": "0b5562d2",
   "metadata": {},
   "outputs": [
    {
     "data": {
      "text/html": [
       "<div>\n",
       "<style scoped>\n",
       "    .dataframe tbody tr th:only-of-type {\n",
       "        vertical-align: middle;\n",
       "    }\n",
       "\n",
       "    .dataframe tbody tr th {\n",
       "        vertical-align: top;\n",
       "    }\n",
       "\n",
       "    .dataframe thead th {\n",
       "        text-align: right;\n",
       "    }\n",
       "</style>\n",
       "<table border=\"1\" class=\"dataframe\">\n",
       "  <thead>\n",
       "    <tr style=\"text-align: right;\">\n",
       "      <th></th>\n",
       "      <th>arrival_date</th>\n",
       "      <th>hotel</th>\n",
       "      <th>is_canceled</th>\n",
       "      <th>lead_time</th>\n",
       "      <th>arrival_date_year</th>\n",
       "      <th>arrival_date_month</th>\n",
       "      <th>arrival_date_day_of_month</th>\n",
       "      <th>stays_in_weekend_nights</th>\n",
       "      <th>stays_in_week_nights</th>\n",
       "      <th>adults</th>\n",
       "      <th>...</th>\n",
       "      <th>booking_changes</th>\n",
       "      <th>deposit_type</th>\n",
       "      <th>days_in_waiting_list</th>\n",
       "      <th>customer_type</th>\n",
       "      <th>adr</th>\n",
       "      <th>required_car_parking_spaces</th>\n",
       "      <th>total_of_special_requests</th>\n",
       "      <th>reservation_status</th>\n",
       "      <th>reservation_status_date</th>\n",
       "      <th>total_guests</th>\n",
       "    </tr>\n",
       "  </thead>\n",
       "  <tbody>\n",
       "    <tr>\n",
       "      <th>0</th>\n",
       "      <td>2015-07-31</td>\n",
       "      <td>Resort HotelResort HotelResort HotelResort Hot...</td>\n",
       "      <td>0000001110000000000000000100001000000000001100...</td>\n",
       "      <td>95596</td>\n",
       "      <td>2736370</td>\n",
       "      <td>JulyJulyJulyJulyJulyJulyJulyJulyJulyJulyJulyJu...</td>\n",
       "      <td>22202</td>\n",
       "      <td>1875</td>\n",
       "      <td>5092</td>\n",
       "      <td>2713</td>\n",
       "      <td>...</td>\n",
       "      <td>247</td>\n",
       "      <td>No DepositNo DepositNo DepositNo DepositNo Dep...</td>\n",
       "      <td>0</td>\n",
       "      <td>TransientTransientTransientTransientTransientT...</td>\n",
       "      <td>173980.86</td>\n",
       "      <td>214</td>\n",
       "      <td>1029</td>\n",
       "      <td>Check-OutCheck-OutCheck-OutCheck-OutCheck-OutC...</td>\n",
       "      <td>2015-07-022015-07-022015-07-032015-07-032015-0...</td>\n",
       "      <td>2984.0</td>\n",
       "    </tr>\n",
       "  </tbody>\n",
       "</table>\n",
       "<p>1 rows × 31 columns</p>\n",
       "</div>"
      ],
      "text/plain": [
       "  arrival_date                                              hotel  \\\n",
       "0   2015-07-31  Resort HotelResort HotelResort HotelResort Hot...   \n",
       "\n",
       "                                         is_canceled  lead_time  \\\n",
       "0  0000001110000000000000000100001000000000001100...      95596   \n",
       "\n",
       "   arrival_date_year                                 arrival_date_month  \\\n",
       "0            2736370  JulyJulyJulyJulyJulyJulyJulyJulyJulyJulyJulyJu...   \n",
       "\n",
       "   arrival_date_day_of_month  stays_in_weekend_nights  stays_in_week_nights  \\\n",
       "0                      22202                     1875                  5092   \n",
       "\n",
       "   adults  ...  booking_changes  \\\n",
       "0    2713  ...              247   \n",
       "\n",
       "                                        deposit_type days_in_waiting_list  \\\n",
       "0  No DepositNo DepositNo DepositNo DepositNo Dep...                    0   \n",
       "\n",
       "                                       customer_type        adr  \\\n",
       "0  TransientTransientTransientTransientTransientT...  173980.86   \n",
       "\n",
       "  required_car_parking_spaces  total_of_special_requests  \\\n",
       "0                         214                       1029   \n",
       "\n",
       "                                  reservation_status  \\\n",
       "0  Check-OutCheck-OutCheck-OutCheck-OutCheck-OutC...   \n",
       "\n",
       "                             reservation_status_date total_guests  \n",
       "0  2015-07-022015-07-022015-07-032015-07-032015-0...       2984.0  \n",
       "\n",
       "[1 rows x 31 columns]"
      ]
     },
     "execution_count": 315,
     "metadata": {},
     "output_type": "execute_result"
    }
   ],
   "source": [
    "df[df['hotel'] == 'Resort Hotel'].groupby(pd.Grouper(key='arrival_date', axis=0,freq='M')).sum().reset_index().head(1)"
   ]
  },
  {
   "cell_type": "code",
   "execution_count": 311,
   "id": "53e80c9b",
   "metadata": {},
   "outputs": [
    {
     "name": "stderr",
     "output_type": "stream",
     "text": [
      "/home/onscript/anaconda3/lib/python3.11/site-packages/seaborn/_oldcore.py:1119: FutureWarning: use_inf_as_na option is deprecated and will be removed in a future version. Convert inf values to NaN before operating instead.\n",
      "  with pd.option_context('mode.use_inf_as_na', True):\n",
      "/home/onscript/anaconda3/lib/python3.11/site-packages/seaborn/_oldcore.py:1119: FutureWarning: use_inf_as_na option is deprecated and will be removed in a future version. Convert inf values to NaN before operating instead.\n",
      "  with pd.option_context('mode.use_inf_as_na', True):\n",
      "/home/onscript/anaconda3/lib/python3.11/site-packages/seaborn/_oldcore.py:1119: FutureWarning: use_inf_as_na option is deprecated and will be removed in a future version. Convert inf values to NaN before operating instead.\n",
      "  with pd.option_context('mode.use_inf_as_na', True):\n",
      "/home/onscript/anaconda3/lib/python3.11/site-packages/seaborn/_oldcore.py:1119: FutureWarning: use_inf_as_na option is deprecated and will be removed in a future version. Convert inf values to NaN before operating instead.\n",
      "  with pd.option_context('mode.use_inf_as_na', True):\n"
     ]
    },
    {
     "data": {
      "image/png": "[encoded data removed]",
      "text/plain": [
       "<Figure size 1500x1000 with 1 Axes>"
      ]
     },
     "metadata": {},
     "output_type": "display_data"
    }
   ],
   "source": [
    "plt.figure(figsize=(15,10))\n",
    "plt.title('Hotel Monthly Reservation Trend')\n",
    "\n",
    "resort_df = df[df['hotel'] == 'Resort Hotel'].groupby(pd.Grouper(key='arrival_date', axis=0,freq='M')).sum().reset_index()\n",
    "city_df = df[df['hotel'] == 'City Hotel'].groupby(pd.Grouper(key='arrival_date', axis=0,freq='M')).sum().reset_index()\n",
    "\n",
    "sns.lineplot(data=resort_df, x='arrival_date', y= 'total_guests', label='Resort Hotel' )\n",
    "sns.lineplot(data=city_df, x='arrival_date', y= 'total_guests', label='City Hotel' )\n",
    "\n",
    "plt.ylabel('Total Guest')\n",
    "plt.xlabel('Arrival Date')\n",
    "\n",
    "plt.show()\n"
   ]
  },
  {
   "cell_type": "markdown",
   "id": "10c5da88",
   "metadata": {},
   "source": [
    "We observed that the number of Guest coming to __City Hotel__ is much more than the number of guests that come to __Resort Hotel.__ However, in __Jan,2016__, the number of guests plunged to an all time low before surging back up.\n",
    "\n",
    "###### Question is, what could have cause such a plunge ? Historical Events that may have happened in jan, 2016."
   ]
  },
  {
   "cell_type": "markdown",
   "id": "9ca048f2",
   "metadata": {},
   "source": [
    "###### lineplot to plot parking spaces needed at each hotel over the time period of 2015 - 2017"
   ]
  },
  {
   "cell_type": "code",
   "execution_count": 318,
   "id": "159415f4",
   "metadata": {},
   "outputs": [
    {
     "data": {
      "text/html": [
       "<div>\n",
       "<style scoped>\n",
       "    .dataframe tbody tr th:only-of-type {\n",
       "        vertical-align: middle;\n",
       "    }\n",
       "\n",
       "    .dataframe tbody tr th {\n",
       "        vertical-align: top;\n",
       "    }\n",
       "\n",
       "    .dataframe thead th {\n",
       "        text-align: right;\n",
       "    }\n",
       "</style>\n",
       "<table border=\"1\" class=\"dataframe\">\n",
       "  <thead>\n",
       "    <tr style=\"text-align: right;\">\n",
       "      <th></th>\n",
       "      <th>arrival_date</th>\n",
       "      <th>hotel</th>\n",
       "      <th>is_canceled</th>\n",
       "      <th>lead_time</th>\n",
       "      <th>arrival_date_year</th>\n",
       "      <th>arrival_date_month</th>\n",
       "      <th>arrival_date_day_of_month</th>\n",
       "      <th>stays_in_weekend_nights</th>\n",
       "      <th>stays_in_week_nights</th>\n",
       "      <th>adults</th>\n",
       "      <th>...</th>\n",
       "      <th>booking_changes</th>\n",
       "      <th>deposit_type</th>\n",
       "      <th>days_in_waiting_list</th>\n",
       "      <th>customer_type</th>\n",
       "      <th>adr</th>\n",
       "      <th>required_car_parking_spaces</th>\n",
       "      <th>total_of_special_requests</th>\n",
       "      <th>reservation_status</th>\n",
       "      <th>reservation_status_date</th>\n",
       "      <th>total_guests</th>\n",
       "    </tr>\n",
       "  </thead>\n",
       "  <tbody>\n",
       "    <tr>\n",
       "      <th>0</th>\n",
       "      <td>2015-12-31</td>\n",
       "      <td>Resort HotelResort HotelResort HotelResort Hot...</td>\n",
       "      <td>0000001110000000000000000100001000000000001100...</td>\n",
       "      <td>675362</td>\n",
       "      <td>16359785</td>\n",
       "      <td>JulyJulyJulyJulyJulyJulyJulyJulyJulyJulyJulyJu...</td>\n",
       "      <td>126313</td>\n",
       "      <td>9981</td>\n",
       "      <td>26711</td>\n",
       "      <td>15187</td>\n",
       "      <td>...</td>\n",
       "      <td>1884</td>\n",
       "      <td>No DepositNo DepositNo DepositNo DepositNo Dep...</td>\n",
       "      <td>8354</td>\n",
       "      <td>TransientTransientTransientTransientTransientT...</td>\n",
       "      <td>742884.31</td>\n",
       "      <td>1141</td>\n",
       "      <td>5008</td>\n",
       "      <td>Check-OutCheck-OutCheck-OutCheck-OutCheck-OutC...</td>\n",
       "      <td>2015-07-022015-07-022015-07-032015-07-032015-0...</td>\n",
       "      <td>16156.0</td>\n",
       "    </tr>\n",
       "  </tbody>\n",
       "</table>\n",
       "<p>1 rows × 31 columns</p>\n",
       "</div>"
      ],
      "text/plain": [
       "  arrival_date                                              hotel  \\\n",
       "0   2015-12-31  Resort HotelResort HotelResort HotelResort Hot...   \n",
       "\n",
       "                                         is_canceled  lead_time  \\\n",
       "0  0000001110000000000000000100001000000000001100...     675362   \n",
       "\n",
       "   arrival_date_year                                 arrival_date_month  \\\n",
       "0           16359785  JulyJulyJulyJulyJulyJulyJulyJulyJulyJulyJulyJu...   \n",
       "\n",
       "   arrival_date_day_of_month  stays_in_weekend_nights  stays_in_week_nights  \\\n",
       "0                     126313                     9981                 26711   \n",
       "\n",
       "   adults  ...  booking_changes  \\\n",
       "0   15187  ...             1884   \n",
       "\n",
       "                                        deposit_type days_in_waiting_list  \\\n",
       "0  No DepositNo DepositNo DepositNo DepositNo Dep...                 8354   \n",
       "\n",
       "                                       customer_type        adr  \\\n",
       "0  TransientTransientTransientTransientTransientT...  742884.31   \n",
       "\n",
       "  required_car_parking_spaces  total_of_special_requests  \\\n",
       "0                        1141                       5008   \n",
       "\n",
       "                                  reservation_status  \\\n",
       "0  Check-OutCheck-OutCheck-OutCheck-OutCheck-OutC...   \n",
       "\n",
       "                             reservation_status_date total_guests  \n",
       "0  2015-07-022015-07-022015-07-032015-07-032015-0...      16156.0  \n",
       "\n",
       "[1 rows x 31 columns]"
      ]
     },
     "execution_count": 318,
     "metadata": {},
     "output_type": "execute_result"
    }
   ],
   "source": [
    "df[df['hotel'] == 'Resort Hotel'].groupby(pd.Grouper(key='arrival_date', axis=0,freq='Y')).sum().reset_index().head(1)"
   ]
  },
  {
   "cell_type": "code",
   "execution_count": 321,
   "id": "8aab77fa",
   "metadata": {},
   "outputs": [
    {
     "data": {
      "text/plain": [
       "array([2015, 2016, 2017])"
      ]
     },
     "execution_count": 321,
     "metadata": {},
     "output_type": "execute_result"
    }
   ],
   "source": [
    "df['arrival_date_year'].unique()"
   ]
  },
  {
   "cell_type": "code",
   "execution_count": 323,
   "id": "7cf5a6dc",
   "metadata": {},
   "outputs": [
    {
     "data": {
      "text/plain": [
       "array([0, 1, 2, 8, 3])"
      ]
     },
     "execution_count": 323,
     "metadata": {},
     "output_type": "execute_result"
    }
   ],
   "source": [
    "df['required_car_parking_spaces'].unique()"
   ]
  },
  {
   "cell_type": "code",
   "execution_count": 327,
   "id": "bf415fe8",
   "metadata": {},
   "outputs": [
    {
     "data": {
      "text/html": [
       "<div>\n",
       "<style scoped>\n",
       "    .dataframe tbody tr th:only-of-type {\n",
       "        vertical-align: middle;\n",
       "    }\n",
       "\n",
       "    .dataframe tbody tr th {\n",
       "        vertical-align: top;\n",
       "    }\n",
       "\n",
       "    .dataframe thead th {\n",
       "        text-align: right;\n",
       "    }\n",
       "</style>\n",
       "<table border=\"1\" class=\"dataframe\">\n",
       "  <thead>\n",
       "    <tr style=\"text-align: right;\">\n",
       "      <th></th>\n",
       "      <th>arrival_date_year</th>\n",
       "      <th>required_car_parking_spaces</th>\n",
       "    </tr>\n",
       "  </thead>\n",
       "  <tbody>\n",
       "    <tr>\n",
       "      <th>0</th>\n",
       "      <td>2015</td>\n",
       "      <td>21396</td>\n",
       "    </tr>\n",
       "    <tr>\n",
       "      <th>1</th>\n",
       "      <td>2016</td>\n",
       "      <td>55627</td>\n",
       "    </tr>\n",
       "    <tr>\n",
       "      <th>2</th>\n",
       "      <td>2017</td>\n",
       "      <td>40159</td>\n",
       "    </tr>\n",
       "  </tbody>\n",
       "</table>\n",
       "</div>"
      ],
      "text/plain": [
       "   arrival_date_year  required_car_parking_spaces\n",
       "0               2015                        21396\n",
       "1               2016                        55627\n",
       "2               2017                        40159"
      ]
     },
     "execution_count": 327,
     "metadata": {},
     "output_type": "execute_result"
    }
   ],
   "source": [
    "df.groupby('arrival_date_year')[['required_car_parking_spaces' ]].count().reset_index()"
   ]
  },
  {
   "cell_type": "code",
   "execution_count": 337,
   "id": "69120b39",
   "metadata": {},
   "outputs": [
    {
     "name": "stderr",
     "output_type": "stream",
     "text": [
      "/home/onscript/anaconda3/lib/python3.11/site-packages/seaborn/_oldcore.py:1119: FutureWarning: use_inf_as_na option is deprecated and will be removed in a future version. Convert inf values to NaN before operating instead.\n",
      "  with pd.option_context('mode.use_inf_as_na', True):\n",
      "/home/onscript/anaconda3/lib/python3.11/site-packages/seaborn/_oldcore.py:1119: FutureWarning: use_inf_as_na option is deprecated and will be removed in a future version. Convert inf values to NaN before operating instead.\n",
      "  with pd.option_context('mode.use_inf_as_na', True):\n",
      "/home/onscript/anaconda3/lib/python3.11/site-packages/seaborn/_oldcore.py:1119: FutureWarning: use_inf_as_na option is deprecated and will be removed in a future version. Convert inf values to NaN before operating instead.\n",
      "  with pd.option_context('mode.use_inf_as_na', True):\n",
      "/home/onscript/anaconda3/lib/python3.11/site-packages/seaborn/_oldcore.py:1119: FutureWarning: use_inf_as_na option is deprecated and will be removed in a future version. Convert inf values to NaN before operating instead.\n",
      "  with pd.option_context('mode.use_inf_as_na', True):\n"
     ]
    },
    {
     "data": {
      "image/png": "[encoded data removed]",
      "text/plain": [
       "<Figure size 1500x1000 with 1 Axes>"
      ]
     },
     "metadata": {},
     "output_type": "display_data"
    }
   ],
   "source": [
    "plt.figure(figsize=(15,10))\n",
    "plt.title('Hotel Yearly Used packing space')\n",
    "\n",
    "resort_df = df[df['hotel'] == 'Resort Hotel'].groupby(pd.Grouper(key='arrival_date', axis=0,freq='M')).sum().reset_index()\n",
    "city_df = df[df['hotel'] == 'City Hotel'].groupby(pd.Grouper(key='arrival_date', axis=0,freq='M')).sum().reset_index()\n",
    "\n",
    "sns.lineplot(data=resort_df, x='arrival_date', y= 'required_car_parking_spaces', label='Resort Hotel' )\n",
    "sns.lineplot(data=city_df, x='arrival_date', y= 'required_car_parking_spaces', label='City Hotel' )\n",
    "\n",
    "plt.ylabel('Parking Space')\n",
    "plt.xlabel('Years')\n",
    "\n",
    "plt.show()"
   ]
  },
  {
   "cell_type": "markdown",
   "id": "153afa9b",
   "metadata": {},
   "source": [
    "Resort Hotel uses more parking space as compare to City hotel and between __July, 2016 and October, 2016__, there seems to be a spike in parking space usage by City Hotel guests."
   ]
  },
  {
   "cell_type": "code",
   "execution_count": null,
   "id": "704102f5",
   "metadata": {},
   "outputs": [],
   "source": []
  },
  {
   "cell_type": "markdown",
   "id": "7752c9f8",
   "metadata": {},
   "source": [
    "countplot on the meal ordered by Customers"
   ]
  },
  {
   "cell_type": "code",
   "execution_count": 340,
   "id": "4d76a798",
   "metadata": {},
   "outputs": [
    {
     "data": {
      "text/plain": [
       "array(['BB', 'FB', 'HB', 'SC', 'Undefined'], dtype=object)"
      ]
     },
     "execution_count": 340,
     "metadata": {},
     "output_type": "execute_result"
    }
   ],
   "source": [
    "df['meal'].unique()"
   ]
  },
  {
   "cell_type": "markdown",
   "id": "1557c568",
   "metadata": {},
   "source": [
    "__Meal Plan__\n",
    "\n",
    "BB => Bed and Breakfast\n",
    "\n",
    "FB => Full Board\n",
    "\n",
    "HB => Half Board\n",
    "\n",
    "SC => Self Catering"
   ]
  },
  {
   "cell_type": "code",
   "execution_count": 351,
   "id": "b5048509",
   "metadata": {},
   "outputs": [
    {
     "data": {
      "text/plain": [
       "meal\n",
       "BB           90597\n",
       "HB           14258\n",
       "SC           10414\n",
       "Undefined     1131\n",
       "FB             782\n",
       "Name: count, dtype: int64"
      ]
     },
     "execution_count": 351,
     "metadata": {},
     "output_type": "execute_result"
    }
   ],
   "source": [
    "# count of meal types\n",
    "df['meal'].value_counts()"
   ]
  },
  {
   "cell_type": "code",
   "execution_count": 356,
   "id": "74f2a773",
   "metadata": {},
   "outputs": [
    {
     "data": {
      "text/plain": [
       "meal\n",
       "BB           0.773131\n",
       "HB           0.121674\n",
       "SC           0.088870\n",
       "Undefined    0.009652\n",
       "FB           0.006673\n",
       "Name: proportion, dtype: float64"
      ]
     },
     "execution_count": 356,
     "metadata": {},
     "output_type": "execute_result"
    }
   ],
   "source": [
    "# count of meal types\n",
    "df['meal'].value_counts(normalize=True)"
   ]
  },
  {
   "cell_type": "code",
   "execution_count": 361,
   "id": "e8a7f397",
   "metadata": {},
   "outputs": [
    {
     "data": {
      "text/html": [
       "<div>\n",
       "<style scoped>\n",
       "    .dataframe tbody tr th:only-of-type {\n",
       "        vertical-align: middle;\n",
       "    }\n",
       "\n",
       "    .dataframe tbody tr th {\n",
       "        vertical-align: top;\n",
       "    }\n",
       "\n",
       "    .dataframe thead th {\n",
       "        text-align: right;\n",
       "    }\n",
       "</style>\n",
       "<table border=\"1\" class=\"dataframe\">\n",
       "  <thead>\n",
       "    <tr style=\"text-align: right;\">\n",
       "      <th></th>\n",
       "      <th>hotel</th>\n",
       "      <th>is_canceled</th>\n",
       "      <th>lead_time</th>\n",
       "      <th>arrival_date_year</th>\n",
       "      <th>arrival_date_month</th>\n",
       "      <th>arrival_date_day_of_month</th>\n",
       "      <th>stays_in_weekend_nights</th>\n",
       "      <th>stays_in_week_nights</th>\n",
       "      <th>adults</th>\n",
       "      <th>children</th>\n",
       "      <th>...</th>\n",
       "      <th>deposit_type</th>\n",
       "      <th>days_in_waiting_list</th>\n",
       "      <th>customer_type</th>\n",
       "      <th>adr</th>\n",
       "      <th>required_car_parking_spaces</th>\n",
       "      <th>total_of_special_requests</th>\n",
       "      <th>reservation_status</th>\n",
       "      <th>reservation_status_date</th>\n",
       "      <th>arrival_date</th>\n",
       "      <th>total_guests</th>\n",
       "    </tr>\n",
       "  </thead>\n",
       "  <tbody>\n",
       "    <tr>\n",
       "      <th>3106</th>\n",
       "      <td>Resort Hotel</td>\n",
       "      <td>0</td>\n",
       "      <td>105</td>\n",
       "      <td>2015</td>\n",
       "      <td>November</td>\n",
       "      <td>18</td>\n",
       "      <td>2</td>\n",
       "      <td>4</td>\n",
       "      <td>2</td>\n",
       "      <td>0.0</td>\n",
       "      <td>...</td>\n",
       "      <td>No Deposit</td>\n",
       "      <td>65</td>\n",
       "      <td>Transient-Party</td>\n",
       "      <td>69.0</td>\n",
       "      <td>0</td>\n",
       "      <td>0</td>\n",
       "      <td>Check-Out</td>\n",
       "      <td>2015-11-24</td>\n",
       "      <td>2015-11-18</td>\n",
       "      <td>2.0</td>\n",
       "    </tr>\n",
       "  </tbody>\n",
       "</table>\n",
       "<p>1 rows × 31 columns</p>\n",
       "</div>"
      ],
      "text/plain": [
       "             hotel is_canceled  lead_time  arrival_date_year  \\\n",
       "3106  Resort Hotel           0        105               2015   \n",
       "\n",
       "     arrival_date_month  arrival_date_day_of_month  stays_in_weekend_nights  \\\n",
       "3106           November                         18                        2   \n",
       "\n",
       "      stays_in_week_nights  adults  children  ...  deposit_type  \\\n",
       "3106                     4       2       0.0  ...    No Deposit   \n",
       "\n",
       "     days_in_waiting_list    customer_type   adr required_car_parking_spaces  \\\n",
       "3106                   65  Transient-Party  69.0                           0   \n",
       "\n",
       "      total_of_special_requests  reservation_status  reservation_status_date  \\\n",
       "3106                          0           Check-Out               2015-11-24   \n",
       "\n",
       "     arrival_date total_guests  \n",
       "3106   2015-11-18          2.0  \n",
       "\n",
       "[1 rows x 31 columns]"
      ]
     },
     "execution_count": 361,
     "metadata": {},
     "output_type": "execute_result"
    }
   ],
   "source": [
    "df[df['meal'] == 'Undefined'].head(1)"
   ]
  },
  {
   "cell_type": "code",
   "execution_count": 363,
   "id": "e9b7e29a",
   "metadata": {},
   "outputs": [
    {
     "data": {
      "text/plain": [
       "is_canceled\n",
       "0    847\n",
       "1    284\n",
       "Name: count, dtype: int64"
      ]
     },
     "execution_count": 363,
     "metadata": {},
     "output_type": "execute_result"
    }
   ],
   "source": [
    "# lets check is there is a reservation cancelation\n",
    "df[df['meal'] == 'Undefined']['is_canceled'].value_counts()"
   ]
  },
  {
   "cell_type": "code",
   "execution_count": 364,
   "id": "dad9357b",
   "metadata": {},
   "outputs": [
    {
     "data": {
      "text/plain": [
       "children\n",
       "0.0    1088\n",
       "1.0      29\n",
       "2.0      14\n",
       "Name: count, dtype: int64"
      ]
     },
     "execution_count": 364,
     "metadata": {},
     "output_type": "execute_result"
    }
   ],
   "source": [
    "# do there have children\n",
    "df[df['meal'] == 'Undefined']['children'].value_counts()"
   ]
  },
  {
   "cell_type": "code",
   "execution_count": 366,
   "id": "3b4af95b",
   "metadata": {},
   "outputs": [
    {
     "data": {
      "text/plain": [
       "adults\n",
       "2    875\n",
       "1    213\n",
       "3     43\n",
       "Name: count, dtype: int64"
      ]
     },
     "execution_count": 366,
     "metadata": {},
     "output_type": "execute_result"
    }
   ],
   "source": [
    "# are there 2 adults\n",
    "df[df['meal'] == 'Undefined']['adults'].value_counts()"
   ]
  },
  {
   "cell_type": "code",
   "execution_count": 371,
   "id": "2706a0a3",
   "metadata": {},
   "outputs": [
    {
     "data": {
      "text/plain": [
       "adults\n",
       "3    6176\n",
       "4      60\n",
       "Name: count, dtype: int64"
      ]
     },
     "execution_count": 371,
     "metadata": {},
     "output_type": "execute_result"
    }
   ],
   "source": [
    "# adults that are less likely to be a couple\n",
    "df[df['adults'] >= 3]['adults'].value_counts()"
   ]
  },
  {
   "cell_type": "code",
   "execution_count": 382,
   "id": "e88b0b3c",
   "metadata": {},
   "outputs": [
    {
     "data": {
      "text/plain": [
       "children\n",
       "1.0    278\n",
       "2.0    154\n",
       "3.0      4\n",
       "Name: count, dtype: int64"
      ]
     },
     "execution_count": 382,
     "metadata": {},
     "output_type": "execute_result"
    }
   ],
   "source": [
    "# single adults that came with children\n",
    "df[(df['adults'] == 1) & (df['children'] >= 1)]['children'].value_counts()"
   ]
  },
  {
   "cell_type": "markdown",
   "id": "9858f44a",
   "metadata": {},
   "source": [
    "Filling method\n",
    "\n",
    "1. **Bed & Breakfast (BB) for Couples Only**:\n",
    "   - Couples often prioritize flexibility during their vacation and may prefer to explore dining options outside the hotel. Providing breakfast ensures they have a convenient start to their day without feeling tied to the hotel for other meals.\n",
    "\n",
    "2. **Half Board (HB) for Couples with Single Children and Single adult with 1 child**:\n",
    "   - Families with a single child may appreciate the convenience of having breakfast and one other meal included (usually dinner). This plan offers a balance between providing meals and allowing flexibility for daytime activities.\n",
    "\n",
    "3. **Full Board (FB) for Couples with Multiple Children, single adult with more than 1 child, group of 3 or more Adults**:\n",
    "   - Families with more than one child may prefer the simplicity and convenience of having all meals provided. With multiple children, it can be challenging to coordinate dining out, so having breakfast, lunch, and dinner included ensures that everyone is well-fed without the hassle of finding restaurants or cooking."
   ]
  },
  {
   "cell_type": "code",
   "execution_count": 407,
   "id": "76fbf49d",
   "metadata": {},
   "outputs": [
    {
     "name": "stdout",
     "output_type": "stream",
     "text": [
      "<class 'pandas.core.frame.DataFrame'>\n",
      "Index: 117182 entries, 2 to 119389\n",
      "Data columns (total 3 columns):\n",
      " #   Column    Non-Null Count   Dtype  \n",
      "---  ------    --------------   -----  \n",
      " 0   meal      117182 non-null  object \n",
      " 1   children  117182 non-null  float64\n",
      " 2   adults    117182 non-null  int64  \n",
      "dtypes: float64(1), int64(1), object(1)\n",
      "memory usage: 7.6+ MB\n"
     ]
    }
   ],
   "source": [
    "df[['meal', 'children', 'adults']].info()"
   ]
  },
  {
   "cell_type": "code",
   "execution_count": 408,
   "id": "36479633",
   "metadata": {},
   "outputs": [],
   "source": [
    "def meal_plan(row):\n",
    "    adults = row['adults']\n",
    "    children = row['children']\n",
    "    \n",
    "    if (adults == 1 and children <= 1) or (adults == 2 and children == 1) or (adults == 1 and children > 1):\n",
    "        return 'HC'       \n",
    "    elif adults == 2 and children == 0:\n",
    "        return 'BB'\n",
    "    elif (adults == 2 and children > 1) or (adults > 2 and children == 0) or (adults > 2 and children > 0):\n",
    "        return 'FB'\n"
   ]
  },
  {
   "cell_type": "code",
   "execution_count": 409,
   "id": "f7299b63",
   "metadata": {},
   "outputs": [],
   "source": [
    "df['meal'] = df[['meal', 'adults', 'children']].apply(meal_plan, axis=1)"
   ]
  },
  {
   "cell_type": "code",
   "execution_count": 410,
   "id": "70dc8a1c",
   "metadata": {},
   "outputs": [
    {
     "data": {
      "text/plain": [
       "meal\n",
       "BB    81459\n",
       "HC    26205\n",
       "FB     9518\n",
       "Name: count, dtype: int64"
      ]
     },
     "execution_count": 410,
     "metadata": {},
     "output_type": "execute_result"
    }
   ],
   "source": [
    "df['meal'].value_counts()"
   ]
  },
  {
   "cell_type": "code",
   "execution_count": null,
   "id": "12bf1a83",
   "metadata": {},
   "outputs": [],
   "source": []
  },
  {
   "cell_type": "code",
   "execution_count": 412,
   "id": "cf746c72",
   "metadata": {},
   "outputs": [
    {
     "data": {
      "image/png": "[encoded data removed]",
      "text/plain": [
       "<Figure size 1200x1200 with 1 Axes>"
      ]
     },
     "metadata": {},
     "output_type": "display_data"
    }
   ],
   "source": [
    "plt.figure(figsize=(12,12))\n",
    "plt.title('Hotel Meal Type')\n",
    "sns.countplot(x='meal', data=df, palette='rainbow', hue='hotel')\n",
    "plt.ylabel('Meal Count')\n",
    "plt.xlabel('Meal Plan')\n",
    "\n",
    "plt.show()"
   ]
  },
  {
   "cell_type": "markdown",
   "id": "e4cecf1e",
   "metadata": {},
   "source": [
    "We can observed that, the demand for __BB__ is thrice as much as that for __FB and HC__ __City Hotel"
   ]
  },
  {
   "cell_type": "code",
   "execution_count": null,
   "id": "03bc1e3a",
   "metadata": {},
   "outputs": [],
   "source": []
  },
  {
   "cell_type": "markdown",
   "id": "ed4fe82c",
   "metadata": {},
   "source": [
    "#### EDA Conclusion\n",
    "\n",
    "1. City Hotel has Twice the amount of reservations as compare ti REsort Hotel over the sa,e time period\n",
    "2. Cancellation for city Hotel is significantly higher than Resort Hotel\n",
    "3. Both Resort and City hotel reservations peak in August are the lowest in January. March through October seems t be their busiest window for the year. Reservations fall in from November to January.\n",
    "4. The majority of reservations have 2 adults follow by 1 adult.\n",
    "5. Most reservations are made by adults wth 0 Children \n",
    "6. There is a surge in parking space during the MOnth of September, 2016. City Hotel has an average number of about 200 requests in parking spaces each month excepte for Feb, 2016 where it falls below 150 and November, 2016 where it almost reached 300"
   ]
  },
  {
   "cell_type": "code",
   "execution_count": null,
   "id": "5cf356d0",
   "metadata": {},
   "outputs": [],
   "source": []
  }
 ],
 "metadata": {
  "kernelspec": {
   "display_name": "Python 3 (ipykernel)",
   "language": "python",
   "name": "python3"
  },
  "language_info": {
   "codemirror_mode": {
    "name": "ipython",
    "version": 3
   },
   "file_extension": ".py",
   "mimetype": "text/x-python",
   "name": "python",
   "nbconvert_exporter": "python",
   "pygments_lexer": "ipython3",
   "version": "3.11.5"
  }
 },
 "nbformat": 4,
 "nbformat_minor": 5
}
