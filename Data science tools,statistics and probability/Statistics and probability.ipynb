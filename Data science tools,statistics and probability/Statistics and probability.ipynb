{
 "cells": [
  {
   "cell_type": "markdown",
   "id": "2bdf517c",
   "metadata": {},
   "source": [
    "### Course outline\n",
    "\n",
    "- Categorical data\n",
    "- Quantitative data\n",
    "- Modeling data distributions\n",
    "- Bivariate numerical data\n",
    "- Study design\n",
    "- Probability\n",
    "- Counting, permutations and combiinations\n",
    "- Random variables\n",
    "- Sampling distributions\n",
    "- Confidence intervals\n",
    "- Significance testing\n",
    "- Two-sample inference for diffrence between groups\n",
    "- Infrence for categorical data(chi square tests)\n",
    "- Advance regression\n",
    "- Analysis of variance\n"
   ]
  },
  {
   "cell_type": "markdown",
   "id": "5a38207d",
   "metadata": {},
   "source": [
    "#### Categorical data"
   ]
  },
  {
   "cell_type": "code",
   "execution_count": null,
   "id": "860c95f2",
   "metadata": {},
   "outputs": [],
   "source": []
  }
 ],
 "metadata": {
  "kernelspec": {
   "display_name": "Python 3 (ipykernel)",
   "language": "python",
   "name": "python3"
  },
  "language_info": {
   "codemirror_mode": {
    "name": "ipython",
    "version": 3
   },
   "file_extension": ".py",
   "mimetype": "text/x-python",
   "name": "python",
   "nbconvert_exporter": "python",
   "pygments_lexer": "ipython3",
   "version": "3.11.5"
  }
 },
 "nbformat": 4,
 "nbformat_minor": 5
}
