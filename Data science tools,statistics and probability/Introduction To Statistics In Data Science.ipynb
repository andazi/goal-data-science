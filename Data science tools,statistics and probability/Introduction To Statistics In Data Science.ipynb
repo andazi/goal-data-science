{
 "cells": [
  {
   "cell_type": "code",
   "execution_count": 2,
   "id": "2cb589d1",
   "metadata": {},
   "outputs": [],
   "source": [
    "#import numpy for calculation\n",
    "import numpy as np"
   ]
  },
  {
   "cell_type": "markdown",
   "id": "58d6b02c",
   "metadata": {},
   "source": [
    "## The need for statistics in data science\n",
    "\n",
    "- It allows for meaningful insights draw through visualization and mathematical explainations\n",
    "\n",
    "____\n",
    "\n",
    "### Categories of staatistics_\n",
    "\n",
    "#### 1. Descriptive\n",
    "    - Frequency : number of occurence of a data\n",
    "    - Central Tendency : Mean, Mode, Median\n",
    "    - Spread of the data : Range, Variance, Standard deviation\n",
    "    - Measure of position: Percentile, Quantile\n",
    "  \n",
    "\n",
    "#### 2. Inferential\n",
    "    - Interpreting the meaning of the descriptive statistics obtained by inferring thento the population\n",
    "    - Hypothesis Testing\n",
    "\n",
    "-----\n",
    "\n",
    "### Data type\n",
    "\n",
    "#### 1. Qualitative Data (Categorical)\n",
    "    - Examples: London, Water, Nigeria, Canada, Spirit, hazel\n",
    "\n",
    "#### 2. Quantitative Data (Numerical)\n",
    "\n",
    "    - Continuous\n",
    "        - Examples: 1.23, -1.32, 3.3333,\n",
    "    \n",
    "    - Discrete\n",
    "        - Example: 1,2,3,12,90000000000,\n",
    "\n",
    "### Level of Measurement\n",
    "\n",
    "#### 1. Nominal\n",
    "    - Names and Labels\n",
    "    - Examples: Andazi, Paula, Tokyo, Orange\n",
    "\n",
    "#### 2. Ordinal\n",
    "    - Ranks Categories in order\n",
    "    - Examples: Star Rating (0 - 5 stars), height (tall, very tall), \n",
    "\n",
    "#### 3. Interval\n",
    "    - Has equal known interval\n",
    "    - Examples: 1991, 1993, 1995\n",
    "\n",
    "#### 4. Ratio\n",
    "    - Has true or meaningful zero\n",
    "    - Examples: 1.2, 0.5\n",
    "\n",
    "--------\n",
    "### Moments of Business Decision\n",
    "\n",
    "#### 1. Measures of Central Tendency\n",
    "    - Where a single value represent the entire Dataset\n",
    "        - Mean: This is the average of the Dataset( sum of dataset divided by number of dataset)\n",
    "        - Median: Middle value of a Dataset when sorted and if Middle value is two data, the mean of the two data is used as Median\n",
    "            - 1,2,3,4,5,6,7 = Median = 4\n",
    "            - 1,2,3,4,5,6,7,8 = Median = 4,5 = (4 + 5) / 2 = 9 / 2 = 4.5\n",
    "        - Mode: Most repeated value in a dataset\n",
    "            - 1,2,2,3,3,3,3,4 = Mode = 3\n",
    "\n",
    "#### 2. Measures of Dispersion\n",
    "    -  This descripes the spread of the data from the center\n",
    "        - Variance: Average Squared Distance of all the data points from the mean\n",
    "        - Standard Deviation: Square Root of Variance\n",
    "        - Range: Differance between the Maximum and Minimum value of the dataset\n",
    "\n",
    "#### 3. Skewness\n",
    "    - Measure of Assymmetry in a Distributon Curve from a Normal Dsitribution\n",
    "        - Negatively Skewed\n",
    "            - Mode > Median > Mean on the x-axis\n",
    "        - Normal (no skew)\n",
    "            - Mode,Median, Mean are same value on the x -axis\n",
    "        - Positively Skew\n",
    "            - Mean > Median > Mode on the X axis\n",
    "\n",
    "#### 4. Kurtosis\n",
    "    - Central Peakness of fat-ness of the tails of the data\n",
    "        - Positive: Sharp Peaks and lighter tails\n",
    "        - Mesokurtic: Normal Distribution\n",
    "        - Negative: Wide peaks and thicker tails\n",
    "\n",
    "\n",
    "\n",
    "\n",
    "\n",
    "\n",
    "\n"
   ]
  },
  {
   "cell_type": "markdown",
   "id": "f46fb241",
   "metadata": {},
   "source": [
    "## Need for Probability in data science\n",
    "\n",
    "- It provides the methematical foundation for statistical inference, including concept like,\n",
    "    - Probability Distribution\n",
    "    - Random variables\n",
    "    - stochastic processes\n",
    "\n",
    "-----\n",
    "\n",
    "### Introduction to Probability\n",
    "\n",
    "__Probability__ is numerical measurement of the likelihood of an event occuring,ranging from 0 to 1.\n",
    "\n",
    "\n",
    "\n",
    "Probability = Number of Outcomes that meet a specific or desired conditions / Total number of Outcomes\n",
    "\n",
    "----\n",
    "\n",
    "## Coin\n",
    "\n",
    "__Probability of getting a Head  when flipping a coin ?__\n",
    "\n",
    "__Total outcomes__\n",
    "- head\n",
    "- tail\n",
    "\n",
    "TOTAL 2\n",
    "\n",
    "__specific or Desired outcome__\n",
    "- head\n",
    "\n",
    "TOTAL 1\n",
    "\n",
    "The probability if getting a head is\n",
    "\n",
    "__Prob__(head) = 1/2 = 0.5\n"
   ]
  },
  {
   "cell_type": "code",
   "execution_count": 51,
   "id": "6eb394b4",
   "metadata": {},
   "outputs": [
    {
     "name": "stdout",
     "output_type": "stream",
     "text": [
      "head\n"
     ]
    }
   ],
   "source": [
    "# code for probability foe geeting a head\n",
    "coin = ['head','tail']\n",
    "# random choice from given list\n",
    "choice = np.random.choice(coin)\n",
    "\n",
    "print(choice)\n",
    "# you can keep running the code"
   ]
  },
  {
   "cell_type": "markdown",
   "id": "e6cc0985",
   "metadata": {},
   "source": [
    "__Probability of getting a head after flipping the coin n-times__"
   ]
  },
  {
   "cell_type": "code",
   "execution_count": 76,
   "id": "425caf04",
   "metadata": {},
   "outputs": [],
   "source": [
    "def prob_coin(n):\n",
    "    # possible outcomes\n",
    "    coin = ['head','tail']\n",
    "    # show rand_choice outcome\n",
    "    outcome = []\n",
    "    # counter\n",
    "    count = 0\n",
    "    # looping \n",
    "    for i in range(n):\n",
    "        # random choice\n",
    "        rand_choice = np.random.choice(coin)\n",
    "        # saving outcome\n",
    "        outcome.append(rand_choice)\n",
    "        # condition for head\n",
    "        if rand_choice == 'head':\n",
    "            count += 1\n",
    "    # calculationg probability\n",
    "    prob = count/n\n",
    "    print(outcome)\n",
    "    print(f'\\n\\nThe probality getting a head after {n} flip(s) is',prob)"
   ]
  },
  {
   "cell_type": "code",
   "execution_count": 77,
   "id": "36f3c186",
   "metadata": {},
   "outputs": [
    {
     "name": "stdout",
     "output_type": "stream",
     "text": [
      "['head']\n",
      "\n",
      "\n",
      "The probality getting a head after 1 flip(s) is 1.0\n"
     ]
    }
   ],
   "source": [
    "prob_coin(1)"
   ]
  },
  {
   "cell_type": "code",
   "execution_count": 78,
   "id": "5bcdad18",
   "metadata": {},
   "outputs": [
    {
     "name": "stdout",
     "output_type": "stream",
     "text": [
      "['tail', 'tail', 'tail', 'head', 'tail', 'head', 'head', 'tail', 'head', 'head', 'head', 'head', 'tail', 'head', 'head', 'head', 'head', 'tail', 'head', 'tail', 'head', 'head', 'tail', 'head', 'tail', 'head', 'head', 'tail', 'head', 'head', 'tail', 'head', 'head', 'head', 'tail', 'head', 'head', 'tail', 'head', 'head', 'head', 'tail', 'head', 'head', 'tail', 'tail', 'head', 'tail', 'tail', 'tail', 'tail', 'head', 'tail', 'head', 'head', 'tail', 'tail', 'tail', 'tail', 'head', 'head', 'tail', 'head', 'head', 'tail', 'head', 'tail', 'head', 'tail', 'tail', 'head', 'tail', 'head', 'head', 'tail', 'tail', 'tail', 'head', 'tail', 'tail', 'head', 'tail', 'tail', 'tail', 'tail', 'head', 'tail', 'head', 'head', 'tail', 'tail', 'head', 'tail', 'tail', 'head', 'tail', 'tail', 'tail', 'head', 'head']\n",
      "\n",
      "\n",
      "The probality getting a head after 100 flip(s) is 0.51\n"
     ]
    }
   ],
   "source": [
    "prob_coin(100)"
   ]
  },
  {
   "cell_type": "markdown",
   "id": "b0673afc",
   "metadata": {},
   "source": [
    "__You have 3 weighted coins. What is the probability of flipping all Heads or all Tails__\n",
    "\n",
    "__Possible outcomes__\n",
    "\n",
    "- HHH\n",
    "- HHT\n",
    "- HTT \n",
    "- TTT\n",
    "- TTH\n",
    "- THH\n",
    "- TTT\n",
    "- THT\n",
    "- HTH\n",
    "\n",
    "TOTAL = 8\n",
    "\n",
    "Desired or specific condition\n",
    "- HHH\n",
    "- TTT"
   ]
  },
  {
   "cell_type": "markdown",
   "id": "73f82db4",
   "metadata": {},
   "source": [
    "#### Let's flip the coin at n-times"
   ]
  },
  {
   "cell_type": "code",
   "execution_count": 81,
   "id": "429e60c5",
   "metadata": {},
   "outputs": [],
   "source": [
    "def all_same(n):\n",
    "    # possible outcomes\n",
    "    coin = ['H','T']\n",
    "    # show rand_choice outcome\n",
    "    outcome = []\n",
    "    # counter\n",
    "    count = 0\n",
    "    # looping \n",
    "    for i in range(n):\n",
    "        # random choice\n",
    "        first_coin = np.random.choice(coin)\n",
    "        second_coin = np.random.choice(coin)\n",
    "        third_coin = np.random.choice(coin)\n",
    "        \n",
    "        # saving outcome\n",
    "        \n",
    "        rand_choice = first_coin+second_coin+\n",
    "        \n",
    "        outcome.append(rand_choice)\n",
    "        \n",
    "        # what makes it all same\n",
    "        # HHH or  TTT\n",
    "        # we use their index\n",
    "        # H+H+H = 0+0+0 = 0\n",
    "        # T+T+T = 1+1+1 = 3\n",
    "        # any other value is not same\n",
    "        \n",
    "        rand_choice = coin.index(first_coin) + coin.index(second_coin) + coin.index(third_coin)\n",
    "        \n",
    "        # condition for head\n",
    "        if rand_choice == 0 or rand_choice == 0:\n",
    "            count += 1\n",
    "    # calculationg probability\n",
    "    prob = count/n\n",
    "    print(outcome)\n",
    "    print(f'\\n\\nThe probality getting a head after {n} flip(s) is',prob)"
   ]
  },
  {
   "cell_type": "code",
   "execution_count": 82,
   "id": "014512da",
   "metadata": {},
   "outputs": [
    {
     "name": "stdout",
     "output_type": "stream",
     "text": [
      "[2]\n",
      "\n",
      "\n",
      "The probality getting a head after 1 flip(s) is 0.0\n"
     ]
    }
   ],
   "source": [
    "all_same(1)"
   ]
  },
  {
   "cell_type": "markdown",
   "id": "ed8254e3",
   "metadata": {},
   "source": [
    "## Dice\n",
    "\n",
    "Let work with a dice\n",
    "\n",
    "a dice has 6 faces which are 1,2,3,4,5,6\n",
    "\n",
    "__Probability of getting a 6  when rolling a dice ?__\n",
    "\n",
    "__Total outcomes__\n",
    "- 1\n",
    "- 2\n",
    "- 3\n",
    "- 4\n",
    "- 5\n",
    "- 6 \n",
    "\n",
    "TOTAL 6\n",
    "\n",
    "__specific or Desired outcome__\n",
    "- 6\n",
    "\n",
    "TOTAL 1\n",
    "\n",
    "The probability if getting a 6 is\n",
    "\n",
    "__Prob__(6) = 1/6 = 0.16666666666666666\n"
   ]
  },
  {
   "cell_type": "code",
   "execution_count": 53,
   "id": "214cd393",
   "metadata": {},
   "outputs": [
    {
     "name": "stdout",
     "output_type": "stream",
     "text": [
      "1\n"
     ]
    }
   ],
   "source": [
    "# code for probability foe geeting a head\n",
    "dice = [1,2,3,4,5,6]\n",
    "# random choice from given list\n",
    "choice = np.random.choice(dice)\n",
    "\n",
    "print(choice)\n",
    "# you can keep running the code"
   ]
  },
  {
   "cell_type": "markdown",
   "id": "4a83f9d7",
   "metadata": {},
   "source": [
    "__Probability of getting a 6 after rolling the coin 100 times__"
   ]
  },
  {
   "cell_type": "code",
   "execution_count": 54,
   "id": "1731c47c",
   "metadata": {},
   "outputs": [
    {
     "name": "stdout",
     "output_type": "stream",
     "text": [
      "[6, 2, 3, 6, 1, 3, 1, 1, 3, 1, 2, 1, 3, 4, 4, 6, 3, 5, 1, 5, 1, 6, 5, 6, 1, 2, 1, 5, 4, 4, 1, 3, 6, 1, 2, 1, 5, 2, 4, 3, 5, 6, 1, 4, 6, 1, 5, 6, 2, 6, 1, 5, 3, 3, 4, 2, 2, 4, 2, 2, 5, 1, 2, 4, 3, 4, 6, 4, 1, 4, 5, 1, 5, 1, 1, 1, 6, 6, 2, 4, 3, 3, 3, 3, 3, 2, 1, 2, 5, 3, 4, 1, 2, 5, 5, 6, 3, 5, 6, 1]\n",
      "\n",
      "\n",
      "The probality getting a head after 100 flips is 0.15\n"
     ]
    }
   ],
   "source": [
    "rolls = 100\n",
    "# possible outcomes\n",
    "dice = [1,2,3,4,5,6]\n",
    "# show rand_choice outcome\n",
    "outcome = []\n",
    "# counter\n",
    "count = 0\n",
    "# looping \n",
    "for i in range(rolls):\n",
    "    # random choice\n",
    "    rand_choice = np.random.choice(dice)\n",
    "    # saving outcome\n",
    "    outcome.append(rand_choice)\n",
    "    # condition for head\n",
    "    if rand_choice == 6:\n",
    "        count += 1\n",
    "# calculationg probability\n",
    "prob = count/rolls\n",
    "print(outcome)\n",
    "print('\\n\\nThe probality getting a head after 100 flips is',prob)"
   ]
  },
  {
   "cell_type": "code",
   "execution_count": null,
   "id": "b9ed1b75",
   "metadata": {},
   "outputs": [],
   "source": []
  },
  {
   "cell_type": "code",
   "execution_count": null,
   "id": "05cb2948",
   "metadata": {},
   "outputs": [],
   "source": []
  },
  {
   "cell_type": "code",
   "execution_count": null,
   "id": "c5fe4958",
   "metadata": {},
   "outputs": [],
   "source": []
  }
 ],
 "metadata": {
  "kernelspec": {
   "display_name": "Python 3 (ipykernel)",
   "language": "python",
   "name": "python3"
  },
  "language_info": {
   "codemirror_mode": {
    "name": "ipython",
    "version": 3
   },
   "file_extension": ".py",
   "mimetype": "text/x-python",
   "name": "python",
   "nbconvert_exporter": "python",
   "pygments_lexer": "ipython3",
   "version": "3.11.5"
  }
 },
 "nbformat": 4,
 "nbformat_minor": 5
}
