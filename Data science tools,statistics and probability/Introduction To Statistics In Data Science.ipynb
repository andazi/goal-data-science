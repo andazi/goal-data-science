{
 "cells": [
  {
   "cell_type": "code",
   "execution_count": 2,
   "id": "5a321173",
   "metadata": {},
   "outputs": [],
   "source": [
    "#import libraries\n",
    "import numpy as np\n",
    "import pandas as pd\n",
    "import matplotlib.pyplot as plt\n",
    "import scipy.stats as stats\n",
    "import seaborn as sns"
   ]
  },
  {
   "cell_type": "markdown",
   "id": "58d6b02c",
   "metadata": {},
   "source": [
    "## The need for statistics in data science\n",
    "\n",
    "- It allows for meaningful insights draw through visualization and mathematical explainations\n",
    "\n",
    "____\n",
    "\n",
    "### Categories of staatistics_\n",
    "\n",
    "#### 1. Descriptive\n",
    "    - Frequency : number of occurence of a data\n",
    "    - Central Tendency : Mean, Mode, Median\n",
    "    - Spread of the data : Range, Variance, Standard deviation\n",
    "    - Measure of position: Percentile, Quantile\n",
    "  \n",
    "\n",
    "#### 2. Inferential\n",
    "    - Interpreting the meaning of the descriptive statistics obtained by inferring thento the population\n",
    "    - Hypothesis Testing\n",
    "\n",
    "-----\n",
    "\n",
    "### Data type\n",
    "\n",
    "#### 1. Qualitative Data (Categorical)\n",
    "    - Examples: London, Water, Nigeria, Canada, Spirit, hazel\n",
    "\n",
    "#### 2. Quantitative Data (Numerical)\n",
    "\n",
    "    - Continuous\n",
    "        - Data are measurable and are within an infinite many possible values within a given range\n",
    "            - The height of a building are continous because there can bee inifnite many possible building height can be 12 meters and above\n",
    "        - Data can be FLOATING NUMBERS \n",
    "        - Examples: 1.23, -1.32, 3.3333,\n",
    "        \n",
    "        * A Random variable that holds continous data is called CONTINOUS RANDOM VARIABLE\n",
    "        * Probability of ranges of values are calculated as PROBILITY DENSITY FUNCTION (PDF)\n",
    "            - Examples: Distance travelled, volume, height of a person\n",
    "    \n",
    "    - Discrete\n",
    "        - Data that is countable, it could be finite or  countable infinite number of possible values\n",
    "            In a dice, there are finite number of outcome, that is 1,2,3,4,5,6\n",
    "        - Represented by an integer\n",
    "        - Example: 1,2,3,12,90000000000,\n",
    "        \n",
    "        * A Random variable that holds discrete data is called DISCRETE RANDOM VARIABLE\n",
    "        * Distribution of Probabilities of each outcome is called PROBABILITY MASS FUNCTION (PMF)\n",
    "            - Examples: Numbers on a dice, numbers of passengers in an airplane\n",
    "\n",
    "### Level of Measurement\n",
    "\n",
    "#### 1. Nominal\n",
    "    - Names and Labels\n",
    "    - Examples: Andazi, Paula, Tokyo, Orange\n",
    "\n",
    "#### 2. Ordinal\n",
    "    - Ranks Categories in order\n",
    "    - Examples: Star Rating (0 - 5 stars), height (tall, very tall), \n",
    "\n",
    "#### 3. Interval\n",
    "    - Has equal known interval\n",
    "    - Examples: 1991, 1993, 1995\n",
    "\n",
    "#### 4. Ratio\n",
    "    - Has true or meaningful zero\n",
    "    - Examples: 1.2, 0.5\n",
    "\n",
    "--------\n",
    "### Moments of Business Decision\n",
    "\n",
    "#### 1. Measures of Central Tendency\n",
    "    - Where a single value represent the entire Dataset\n",
    "        - Mean: This is the average of the Dataset( sum of dataset divided by number of dataset)\n",
    "        - Median: Middle value of a Dataset when sorted and if Middle value is two data, the mean of the two data is used as Median\n",
    "            - 1,2,3,4,5,6,7 = Median = 4\n",
    "            - 1,2,3,4,5,6,7,8 = Median = 4,5 = (4 + 5) / 2 = 9 / 2 = 4.5\n",
    "        - Mode: Most repeated value in a dataset\n",
    "            - 1,2,2,3,3,3,3,4 = Mode = 3\n",
    "\n",
    "#### 2. Measures of Dispersion\n",
    "    -  This descripes the spread of the data from the center\n",
    "        - Variance: Average Squared Distance of all the data points from the mean\n",
    "        - Standard Deviation: Square Root of Variance\n",
    "        - Range: Differance between the Maximum and Minimum value of the dataset\n",
    "\n",
    "#### 3. Skewness\n",
    "    - Measure of Assymmetry in a Distributon Curve from a Normal Dsitribution\n",
    "        - Negatively Skewed\n",
    "            - Mode > Median > Mean on the x-axis\n",
    "        - Normal (no skew)\n",
    "            - Mode,Median, Mean are same value on the x -axis\n",
    "        - Positively Skew\n",
    "            - Mean > Median > Mode on the X axis\n",
    "\n",
    "#### 4. Kurtosis\n",
    "    - Central Peakness of fat-ness of the tails of the data\n",
    "        - Positive: Sharp Peaks and lighter tails\n",
    "        - Mesokurtic: Normal Distribution\n",
    "        - Negative: Wide peaks and thicker tails\n",
    "\n",
    "\n",
    "\n",
    "\n",
    "\n",
    "\n",
    "\n"
   ]
  },
  {
   "cell_type": "markdown",
   "id": "f46fb241",
   "metadata": {},
   "source": [
    "## Need for Probability in data science\n",
    "\n",
    "- It provides the methematical foundation for statistical inference, including concept like,\n",
    "    - Probability Distribution\n",
    "    - Random variables\n",
    "    - stochastic processes\n",
    "\n",
    "-----\n",
    "\n",
    "### Introduction to Probability\n",
    "\n",
    "__Probability__ is numerical measurement of the likelihood of an event occuring,ranging from 0 to 1.\n",
    "\n",
    "\n",
    "\n",
    "Probability = Number of Outcomes that meet a specific or desired conditions / Total number of Outcomes\n",
    "\n",
    "----\n",
    "\n",
    "#### Sample space\n",
    "\n",
    "- The set of all possible outcomes of a random experiment\n",
    "----\n",
    "\n",
    "## Coin\n",
    "\n",
    "__Probability of getting a Head  when flipping a coin ?__\n",
    "\n",
    "__Total outcomes(Sample space)__\n",
    "- head\n",
    "- tail\n",
    "\n",
    "TOTAL 2\n",
    "\n",
    "__specific or Desired outcome__\n",
    "- head\n",
    "\n",
    "TOTAL 1\n",
    "\n",
    "The probability if getting a head is\n",
    "\n",
    "__Prob__(head) = 1/2 = 0.5\n"
   ]
  },
  {
   "cell_type": "code",
   "execution_count": 51,
   "id": "73ff376e",
   "metadata": {},
   "outputs": [
    {
     "name": "stdout",
     "output_type": "stream",
     "text": [
      "head\n"
     ]
    }
   ],
   "source": [
    "# code for probability foe geeting a head\n",
    "coin = ['head','tail']\n",
    "# random choice from given list\n",
    "choice = np.random.choice(coin)\n",
    "\n",
    "print(choice)\n",
    "# you can keep running the code"
   ]
  },
  {
   "cell_type": "markdown",
   "id": "089c64c1",
   "metadata": {},
   "source": [
    "__Probability of getting a head after flipping the coin n-times__"
   ]
  },
  {
   "cell_type": "code",
   "execution_count": 76,
   "id": "c137ceb5",
   "metadata": {},
   "outputs": [],
   "source": [
    "def prob_coin(n):\n",
    "    # possible outcomes\n",
    "    coin = ['head','tail']\n",
    "    # show rand_choice outcome\n",
    "    outcome = []\n",
    "    # counter\n",
    "    count = 0\n",
    "    # looping \n",
    "    for i in range(n):\n",
    "        # random choice\n",
    "        rand_choice = np.random.choice(coin)\n",
    "        # saving outcome\n",
    "        outcome.append(rand_choice)\n",
    "        # condition for head\n",
    "        if rand_choice == 'head':\n",
    "            count += 1\n",
    "    # calculationg probability\n",
    "    prob = count/n\n",
    "    print(outcome)\n",
    "    print(f'\\n\\nThe probality getting a head after {n} flip(s) is',prob)"
   ]
  },
  {
   "cell_type": "code",
   "execution_count": 77,
   "id": "ebc6360c",
   "metadata": {},
   "outputs": [
    {
     "name": "stdout",
     "output_type": "stream",
     "text": [
      "['head']\n",
      "\n",
      "\n",
      "The probality getting a head after 1 flip(s) is 1.0\n"
     ]
    }
   ],
   "source": [
    "prob_coin(1)"
   ]
  },
  {
   "cell_type": "code",
   "execution_count": 78,
   "id": "b3267a85",
   "metadata": {},
   "outputs": [
    {
     "name": "stdout",
     "output_type": "stream",
     "text": [
      "['tail', 'tail', 'tail', 'head', 'tail', 'head', 'head', 'tail', 'head', 'head', 'head', 'head', 'tail', 'head', 'head', 'head', 'head', 'tail', 'head', 'tail', 'head', 'head', 'tail', 'head', 'tail', 'head', 'head', 'tail', 'head', 'head', 'tail', 'head', 'head', 'head', 'tail', 'head', 'head', 'tail', 'head', 'head', 'head', 'tail', 'head', 'head', 'tail', 'tail', 'head', 'tail', 'tail', 'tail', 'tail', 'head', 'tail', 'head', 'head', 'tail', 'tail', 'tail', 'tail', 'head', 'head', 'tail', 'head', 'head', 'tail', 'head', 'tail', 'head', 'tail', 'tail', 'head', 'tail', 'head', 'head', 'tail', 'tail', 'tail', 'head', 'tail', 'tail', 'head', 'tail', 'tail', 'tail', 'tail', 'head', 'tail', 'head', 'head', 'tail', 'tail', 'head', 'tail', 'tail', 'head', 'tail', 'tail', 'tail', 'head', 'head']\n",
      "\n",
      "\n",
      "The probality getting a head after 100 flip(s) is 0.51\n"
     ]
    }
   ],
   "source": [
    "prob_coin(100)"
   ]
  },
  {
   "cell_type": "markdown",
   "id": "c90bd3ce",
   "metadata": {},
   "source": [
    "__You have 3 weighted coins. What is the probability of flipping all Heads or all Tails__\n",
    "\n",
    "__Possible outcomes(Sample space)__\n",
    "\n",
    "- HHH\n",
    "- HHT\n",
    "- HTT \n",
    "- TTT\n",
    "- TTH\n",
    "- THH\n",
    "- TTT\n",
    "- THT\n",
    "- HTH\n",
    "\n",
    "TOTAL = 8\n",
    "\n",
    "Desired or specific condition\n",
    "- HHH\n",
    "- TTT"
   ]
  },
  {
   "cell_type": "markdown",
   "id": "8c311c58",
   "metadata": {},
   "source": [
    "#### Let's flip the coin at n-times"
   ]
  },
  {
   "cell_type": "code",
   "execution_count": 83,
   "id": "e49cdf59",
   "metadata": {},
   "outputs": [],
   "source": [
    "def all_same(n):\n",
    "    # possible outcomes\n",
    "    coin = ['H','T']\n",
    "    # show rand_choice outcome\n",
    "    outcome = []\n",
    "    # counter\n",
    "    count = 0\n",
    "    # looping \n",
    "    for i in range(n):\n",
    "        # random choice\n",
    "        first_coin = np.random.choice(coin)\n",
    "        second_coin = np.random.choice(coin)\n",
    "        third_coin = np.random.choice(coin)\n",
    "        \n",
    "        # saving outcome\n",
    "        \n",
    "        rand_choice = first_coin+second_coin+third_coin\n",
    "        \n",
    "        outcome.append(rand_choice)\n",
    "        \n",
    "        # what makes it all same\n",
    "        # HHH or  TTT\n",
    "        # we use their index\n",
    "        # H+H+H = 0+0+0 = 0\n",
    "        # T+T+T = 1+1+1 = 3\n",
    "        # any other value is not same\n",
    "        \n",
    "        rand_choice = coin.index(first_coin) + coin.index(second_coin) + coin.index(third_coin)\n",
    "        \n",
    "        # condition for head\n",
    "        if rand_choice == 0 or rand_choice == 0:\n",
    "            count += 1\n",
    "    # calculationg probability\n",
    "    prob = count/n\n",
    "    print(outcome)\n",
    "    print(f'\\n\\nThe probality getting a head after {n} flip(s) is',prob)"
   ]
  },
  {
   "cell_type": "code",
   "execution_count": 85,
   "id": "9c1a8ef7",
   "metadata": {},
   "outputs": [
    {
     "name": "stdout",
     "output_type": "stream",
     "text": [
      "['HHT']\n",
      "\n",
      "\n",
      "The probality getting a head after 1 flip(s) is 0.0\n"
     ]
    }
   ],
   "source": [
    "all_same(1)"
   ]
  },
  {
   "cell_type": "code",
   "execution_count": 86,
   "id": "7e78e379",
   "metadata": {},
   "outputs": [
    {
     "name": "stdout",
     "output_type": "stream",
     "text": [
      "['TTH', 'HHH', 'TTT', 'TTH', 'HHH', 'HTT', 'HTT', 'HHT', 'THT', 'HTH', 'TTT', 'TTH', 'TTT', 'HHT', 'HHT', 'HTT', 'TTH', 'HHT', 'THT', 'HTT', 'THT', 'THH', 'HHH', 'HTH', 'HTT', 'THH', 'HTT', 'HHH', 'HTH', 'HHT', 'HTH', 'THH', 'HTT', 'THH', 'TTH', 'HHH', 'TTT', 'HHT', 'HTT', 'HTT', 'THH', 'TTH', 'TTT', 'TTH', 'HTH', 'HHT', 'THH', 'HHH', 'THH', 'HHT', 'HTH', 'TTT', 'THT', 'TTT', 'THT', 'HHT', 'TTT', 'HHT', 'HTH', 'TTT', 'HTH', 'THH', 'THT', 'HTT', 'HHH', 'HTT', 'HTT', 'HTT', 'HHT', 'HHT', 'HTH', 'HTT', 'TTT', 'HHH', 'HHH', 'HHH', 'TTT', 'HTH', 'TTH', 'TTH', 'TTT', 'TTH', 'HHH', 'TTH', 'THT', 'TTH', 'THH', 'TTH', 'TTT', 'THT', 'HHH', 'TTT', 'HHH', 'HTH', 'HTH', 'HHH', 'HTH', 'HHH', 'HTT', 'HHH']\n",
      "\n",
      "\n",
      "The probality getting a head after 100 flip(s) is 0.16\n"
     ]
    }
   ],
   "source": [
    "all_same(100)"
   ]
  },
  {
   "cell_type": "markdown",
   "id": "3bfa75de",
   "metadata": {},
   "source": [
    "## Dice\n",
    "\n",
    "Let work with a dice\n",
    "\n",
    "a die has 6 faces which are 1,2,3,4,5,6\n",
    "\n",
    "__Probability of getting a 6  when rolling a die ?__\n",
    "\n",
    "__Total outcomes(Sample space)__\n",
    "- 1\n",
    "- 2\n",
    "- 3\n",
    "- 4\n",
    "- 5\n",
    "- 6 \n",
    "\n",
    "TOTAL 6\n",
    "\n",
    "__specific or Desired outcome__\n",
    "- 6\n",
    "\n",
    "TOTAL 1\n",
    "\n",
    "The probability if getting a 6 is\n",
    "\n",
    "__Prob__(6) = 1/6 = 0.16666666666666666\n"
   ]
  },
  {
   "cell_type": "code",
   "execution_count": 53,
   "id": "d791878d",
   "metadata": {},
   "outputs": [
    {
     "name": "stdout",
     "output_type": "stream",
     "text": [
      "1\n"
     ]
    }
   ],
   "source": [
    "# code for probability foe geeting a head\n",
    "dice = [1,2,3,4,5,6]\n",
    "# random choice from given list\n",
    "choice = np.random.choice(dice)\n",
    "\n",
    "print(choice)\n",
    "# you can keep running the code"
   ]
  },
  {
   "cell_type": "markdown",
   "id": "806929bf",
   "metadata": {},
   "source": [
    "__Probability of getting a 6 after rolling a fair die n-times__"
   ]
  },
  {
   "cell_type": "code",
   "execution_count": 87,
   "id": "2fa11010",
   "metadata": {},
   "outputs": [],
   "source": [
    "def prob_dice(n):\n",
    "    # possible outcomes\n",
    "    dice = [1,2,3,4,5,6]\n",
    "    # show rand_choice outcome\n",
    "    outcome = []\n",
    "    # counter\n",
    "    count = 0\n",
    "    # looping \n",
    "    for i in range(n):\n",
    "        # random choice\n",
    "        rand_choice = np.random.choice(dice)\n",
    "        # saving outcome\n",
    "        outcome.append(rand_choice)\n",
    "        # condition for 6\n",
    "        if rand_choice == 6:\n",
    "            count += 1\n",
    "    # calculationg probability\n",
    "    prob = count/n\n",
    "    print(outcome)\n",
    "    print(f'\\n\\nThe probality getting a 6 after {n} flips is',prob)"
   ]
  },
  {
   "cell_type": "code",
   "execution_count": 88,
   "id": "c1bf5dcf",
   "metadata": {},
   "outputs": [
    {
     "name": "stdout",
     "output_type": "stream",
     "text": [
      "[5]\n",
      "\n",
      "\n",
      "The probality getting a head after 100 flips is 0.0\n"
     ]
    }
   ],
   "source": [
    "prob_dice(1)"
   ]
  },
  {
   "cell_type": "code",
   "execution_count": 89,
   "id": "d6cfc626",
   "metadata": {},
   "outputs": [
    {
     "name": "stdout",
     "output_type": "stream",
     "text": [
      "[6, 6, 5, 2, 2, 1, 4, 5, 4, 6, 3, 2, 2, 4, 6, 6, 6, 6, 4, 1, 5]\n",
      "\n",
      "\n",
      "The probality getting a head after 100 flips is 0.3333333333333333\n"
     ]
    }
   ],
   "source": [
    "prob_dice(21)"
   ]
  },
  {
   "cell_type": "markdown",
   "id": "87f8e0d4",
   "metadata": {},
   "source": [
    "__What is the probability of getting an even face and a 3 when a fiar die is rolled at n-times___\n",
    "\n",
    "__sample space__\n",
    "- 1\n",
    "- 2\n",
    "- 3\n",
    "- 4\n",
    "- 5\n",
    "- 6\n",
    "\n",
    "__specific outcome__\n",
    "\n",
    "- 2\n",
    "- 4\n",
    "- 6\n",
    "- 3"
   ]
  },
  {
   "cell_type": "code",
   "execution_count": 94,
   "id": "f34f0c64",
   "metadata": {},
   "outputs": [],
   "source": [
    "def all_even_three(n):\n",
    "    # possible outcomes\n",
    "    dice = [1,2,3,4,5,6]\n",
    "    # show rand_choice outcome\n",
    "    outcome = []\n",
    "    # counter\n",
    "    count = 0\n",
    "    # looping \n",
    "    for i in range(n):\n",
    "        # random choice\n",
    "        rand_choice = np.random.choice(dice)\n",
    "        # saving outcome\n",
    "        outcome.append(rand_choice)\n",
    "        # condition for even or 3\n",
    "        if rand_choice % 2 == 0 or rand_choice == 3:\n",
    "            count += 1\n",
    "    # calculationg probability\n",
    "    prob = count/n\n",
    "    print(outcome)\n",
    "    print(f'\\n\\nThe probality getting an even number or 3 after {n} flip(s) )is',prob)"
   ]
  },
  {
   "cell_type": "code",
   "execution_count": 95,
   "id": "9d9fc3d3",
   "metadata": {},
   "outputs": [
    {
     "name": "stdout",
     "output_type": "stream",
     "text": [
      "[6]\n",
      "\n",
      "\n",
      "The probality getting an even number or 3 after 1 flip(s) )is 1.0\n"
     ]
    }
   ],
   "source": [
    "all_even_three(1)"
   ]
  },
  {
   "cell_type": "code",
   "execution_count": 96,
   "id": "7c20b105",
   "metadata": {},
   "outputs": [
    {
     "name": "stdout",
     "output_type": "stream",
     "text": [
      "[6, 2, 1, 3, 2, 1, 5, 1, 3, 3, 3, 1, 3, 4, 5, 1, 6, 5, 3, 3, 4, 1, 5, 5, 1, 3, 4, 3, 4]\n",
      "\n",
      "\n",
      "The probality getting an even number or 3 after 29 flip(s) )is 0.5862068965517241\n"
     ]
    }
   ],
   "source": [
    "all_even_three(29)"
   ]
  },
  {
   "cell_type": "markdown",
   "id": "7bea7756",
   "metadata": {},
   "source": [
    "## Probability Distribution\n",
    "\n",
    "__Probability distribution__ is a mathematical function that describes the likelihood of a random variable taking on a particular value. \n",
    "\n",
    "It is a list or table that shows the probability of each possible value. The probability distribution can be discrete or continuous.\n",
    "\n",
    "\n",
    "\n",
    "__Type of Distribution__\n",
    "\n",
    "| Discrete Distribution | Continuous Distribution |\n",
    "|---|---|\n",
    "| Uniform Distribution | Normal Distribution \n",
    "| Binomial Distribution | Stardard Normal Distribution \n",
    "| Bernoulli Distribution | Student's T Distribution\n",
    "| Poisson Distribution | Chi-squared Distribution\n",
    "\n",
    "---"
   ]
  },
  {
   "cell_type": "markdown",
   "id": "3bfdf9b9",
   "metadata": {},
   "source": [
    "### Uniform Distribution\n",
    "\n",
    "A uniform distribution is a probability distribution in which all outcomes within a given range are equally likely. This means that each outcome has the same probability of occurring\n",
    "\n",
    "\n",
    "----\n",
    "\n",
    "For example, consider a uniform distribution over the range from 0 to 1. This means that each number between 0 and 1, inclusive, is equally likely to be drawn from the distribution.\n",
    "\n",
    "Uniform distributions are often used to model situations where there is no reason to believe that one outcome is more likely than another. For example, the time it takes for a light bulb to burn out could be modeled by a uniform distribution, since there is no reason to believe that one light bulb is more likely to burn out than another.\n",
    "\n",
    "____\n",
    "\n",
    "#### Dice\n",
    "\n",
    "__I roll a fair die once. how would the distributions of the outcome look like?__\n",
    "\n",
    "The outcome of rolling a fair die once would give an equak probability of getting face from 1 to 6\n",
    "\n",
    "The __Probabilty mass functio__ over the 6 values is defined as:\n",
    "\n",
    "\n",
    "\n",
    "| Outcome | Probability |\n",
    "|---|---|\n",
    "| 1 | 1/6 |\n",
    "| 2 | 1/6 |\n",
    "| 3 | 1/6 |\n",
    "| 4 | 1/6 |\n",
    "| 5 | 1/6 |\n",
    "| 6 | 1/6 |\n",
    "\n",
    "__The PMF can be represented mathematically as:___\n",
    "\n",
    "```\n",
    "P(X = x) = 1/6 for x = 1,2,3,4,5 or 6\n",
    "\n",
    "X is the Random variable representing the Outcome of the die roll\n",
    "```\n",
    "\n",
    "\n"
   ]
  },
  {
   "cell_type": "code",
   "execution_count": 4,
   "id": "bb5e7c22",
   "metadata": {},
   "outputs": [],
   "source": [
    "# creating a list of numbers or faces in a die [1,2,3,4,5,6]\n",
    "dice_sides = list(range(1,7))\n",
    "\n",
    "# create the probabililties of getting each side for a fair dice 1/6 per side\n",
    "dice_probability = [1/6]*6"
   ]
  },
  {
   "cell_type": "code",
   "execution_count": 5,
   "id": "d14318ab",
   "metadata": {},
   "outputs": [
    {
     "data": {
      "text/plain": [
       "([<matplotlib.axis.XTick at 0x7f3e46006f10>,\n",
       "  <matplotlib.axis.XTick at 0x7f3e46012350>,\n",
       "  <matplotlib.axis.XTick at 0x7f3e46012d50>,\n",
       "  <matplotlib.axis.XTick at 0x7f3e4605bdd0>,\n",
       "  <matplotlib.axis.XTick at 0x7f3e4606a0d0>,\n",
       "  <matplotlib.axis.XTick at 0x7f3e452f8290>],\n",
       " [Text(1, 0, 'one'),\n",
       "  Text(2, 0, 'two'),\n",
       "  Text(3, 0, 'three'),\n",
       "  Text(4, 0, 'four'),\n",
       "  Text(5, 0, 'five'),\n",
       "  Text(6, 0, 'six')])"
      ]
     },
     "execution_count": 5,
     "metadata": {},
     "output_type": "execute_result"
    },
    {
     "data": {
      "image/png": "[encoded data removed]",
      "text/plain": [
       "<Figure size 1200x800 with 1 Axes>"
      ]
     },
     "metadata": {},
     "output_type": "display_data"
    }
   ],
   "source": [
    "# plotting the PMF\n",
    "fig,axs = plt.subplots(figsize=(12,8))\n",
    "plt.bar(dice_sides, dice_probability)\n",
    "\n",
    "# rename axis\n",
    "axs.set_xlabel('Cice Outcome')\n",
    "axs.set_ylabel('Probability')\n",
    "\n",
    "# rename plot label\n",
    "\n",
    "axs.set_title('Uniform Distribution of a die')\n",
    "\n",
    "# rename labels\n",
    "plt.xticks(ticks=dice_sides,labels = ['one','two','three','four','five','six'])"
   ]
  },
  {
   "cell_type": "markdown",
   "id": "8c0e028d",
   "metadata": {},
   "source": [
    "#### Cummulative Distribution Function (CDF)\n",
    "\n",
    "The cumulative distribution function (CDF) of a random variable X is a function that gives the probability that X is less than or equal to a certain value x. It is denoted by F(x) and is defined as:\n",
    "\n",
    "```\n",
    "F(x) = P(X ≤ x)\n",
    "\n",
    "P(X ≤ x) is the probability theat X takes on a value less than or equal to x\n",
    "CDF is a non decreasing function, as x increases, F(x) also increases, because,\n",
    "\n",
    "The Probability of X being less than or equal to a larger value is always greater than equal to the Probabilty of X being less than or qual to a smaller value\n",
    "\n",
    "X is the real value\n",
    "\n",
    "```\n",
    "\n",
    "| Outcome (x) |\tProbability (P(X=x)) | CDF (F(x))|\n",
    "|---|---|---|\n",
    "|1\t|1/6\t|1/6\n",
    "|2\t|1/6\t|1/3\n",
    "|3\t|1/6\t|1/2\n",
    "|4\t|1/6\t|2/3\n",
    "|5\t|1/6\t|5/6\n",
    "|6\t|1/6\t|1"
   ]
  },
  {
   "cell_type": "code",
   "execution_count": 10,
   "id": "118d6914",
   "metadata": {},
   "outputs": [
    {
     "data": {
      "text/plain": [
       "Text(0.5, 1.0, 'Cummulative Distribution Function of a Uniform Distributio if a die')"
      ]
     },
     "execution_count": 10,
     "metadata": {},
     "output_type": "execute_result"
    },
    {
     "data": {
      "image/png": "[encoded data removed]",
      "text/plain": [
       "<Figure size 1200x800 with 1 Axes>"
      ]
     },
     "metadata": {},
     "output_type": "display_data"
    }
   ],
   "source": [
    "plt.figure(figsize=(12,8))\n",
    "# plotting the cummulative distribution functio of all the values from an eaual dice\n",
    "plt.step(dice_sides,np.cumsum(dice_probability))\n",
    "plt.xticks(ticks=dice_sides, labels=['one','two','three','four','five','six'])\n",
    "\n",
    "axs.set_title('Cummulative Distribution Function of a Uniform Distributio if a die')"
   ]
  },
  {
   "cell_type": "markdown",
   "id": "14bf8fab",
   "metadata": {},
   "source": [
    "### Bernoulli Distribution\n",
    "\n",
    "This Describes a fundamental probability distribution that the outcome of a __single event__ with __two__ possible outcome.\n",
    "\n",
    "- Rolling a fair coin: The probability of heads (success) is 1/2 and the probability of tails (failure) is 1/2.\n",
    "- Predicting if a customer will buy a product: p represents the probability of purchase and (1 - p) represents the probability of no purchase.\n",
    "- It describes the probability of a single en=vent, not multiple trials like binomial distribution. Each event is independent of the others\n",
    "\n",
    "- The probability of success is constant\n",
    "\n",
    "```    \n",
    "The probability mass function (PMF) of the Bernoulli distribution can be expressed as:\n",
    "\n",
    "P(X = k) = pk * (1 - p)^(1 - k)\n",
    "where:\n",
    "\n",
    "X is the random variable representing the outcome of the event (0 for failure and 1 for success).\n",
    "k is the value of the random variable (either 0 or 1).\n",
    "p is the probability of success.\n",
    "(1 - p) is the probability of failure.\n",
    "\n",
    "```\n",
    "----"
   ]
  },
  {
   "cell_type": "markdown",
   "id": "eadd9065",
   "metadata": {},
   "source": [
    "#### A coin\n",
    "___A rolling fair coin: The probability of success is (1/2) and that of failure is (1/2), It is either HEAD or TAIL__\n",
    "\n",
    "----\n"
   ]
  },
  {
   "cell_type": "code",
   "execution_count": 17,
   "id": "5d3bb77e",
   "metadata": {},
   "outputs": [
    {
     "data": {
      "text/plain": [
       "<BarContainer object of 2 artists>"
      ]
     },
     "execution_count": 17,
     "metadata": {},
     "output_type": "execute_result"
    },
    {
     "data": {
      "image/png": "[encoded data removed]",
      "text/plain": [
       "<Figure size 1200x800 with 1 Axes>"
      ]
     },
     "metadata": {},
     "output_type": "display_data"
    }
   ],
   "source": [
    "coin_outcomes = ['Heads', 'Tails']\n",
    "\n",
    "prob_heads = 0.5\n",
    "prob_tails = 1 - prob_heads\n",
    "\n",
    "coin_probability = [prob_heads, prob_tails]\n",
    "\n",
    "plt.figure(figsize=(12,8))\n",
    "plt.bar(coin_outcomes,coin_probability)"
   ]
  },
  {
   "cell_type": "code",
   "execution_count": null,
   "id": "93d6abf3",
   "metadata": {},
   "outputs": [],
   "source": []
  },
  {
   "cell_type": "markdown",
   "id": "b098a291",
   "metadata": {},
   "source": [
    "__Tossing an unfair coin gives you 70% probability of getting heads. Let's plot the PMF__"
   ]
  },
  {
   "cell_type": "code",
   "execution_count": 19,
   "id": "a3195bd1",
   "metadata": {},
   "outputs": [
    {
     "data": {
      "text/plain": [
       "<BarContainer object of 2 artists>"
      ]
     },
     "execution_count": 19,
     "metadata": {},
     "output_type": "execute_result"
    },
    {
     "data": {
      "image/png": "[encoded data removed]",
      "text/plain": [
       "<Figure size 1200x800 with 1 Axes>"
      ]
     },
     "metadata": {},
     "output_type": "display_data"
    }
   ],
   "source": [
    "coin_outcomes = ['Heads', 'Tails']\n",
    "\n",
    "prob_heads = 0.7\n",
    "prob_tails = 1 - prob_heads\n",
    "\n",
    "coin_probability = [prob_heads, prob_tails]\n",
    "\n",
    "plt.figure(figsize=(12,8))\n",
    "plt.bar(coin_outcomes,coin_probability)"
   ]
  },
  {
   "cell_type": "markdown",
   "id": "ba81d3af",
   "metadata": {},
   "source": [
    "### Binomial Distribution\n",
    "\n",
    "This describes the probability of getting a specific number of successes in a __fixed number of independent trials__, each with only __two possible outcomes: success or failure.__\n",
    "\n",
    "This is like __Bernoulli Dsitribution__ but independent __multiple events__\n",
    "\n",
    "- Flipping a coin 10 times\n",
    "- Testing a new drug on multiple candidate\n",
    "\n",
    "```\n",
    "\n",
    "The probability mass function (PMF) of the binomial distribution gives the probability of getting k successes in n trials:\n",
    "\n",
    "P(X = k) = nCk * pk * (1 - p)^(n - k)\n",
    "where:\n",
    "\n",
    "X is the random variable representing the number of successes.\n",
    "k is the number of successes (0 <= k <= n).\n",
    "nCk is the binomial coefficient, which represents the number of ways to get k successes in n trials.\n",
    "    nCk = n! / (k! * (n-k)!)\n",
    "        where:\n",
    "\n",
    "        n is the total number of objects or possibilities.\n",
    "        k is the number of successes or desired outcomes.\n",
    "        n! is the factorial of n, which means the product of all positive integers from 1 to n.\n",
    "        k! and (n-k)! are the factorials of k and n-k, respectively.\n",
    "        Example:\n",
    "\n",
    "        Suppose we have 5 coins and want to know the number of ways to choose 3 of them. In this case, n = 5 and k = 3.\n",
    "\n",
    "        5C3 = 5! / (3! * (5-3)!)\n",
    "                = 120 / (6 * 2)\n",
    "                = 10\n",
    "\n",
    "p is the probability of success.\n",
    "q is the probability of failure.\n",
    "\n",
    "```\n",
    "----\n",
    "\n",
    "__A common fair coin is flipped 10 times, Considering the following scenarios__\n",
    "\n",
    "```\n",
    "Experiment: Flipping the coins 5 times\n",
    "Random Variable : X : NUmber of Heads obtained in 10 flips\n",
    "Success for head : p :  0.5\n",
    "failure for head: q : 0.5\n",
    "\n",
    "\n",
    "P(X = k) = nCk * pk * (1 - p)^(n - k)\n",
    "where:\n",
    "\n",
    "n = number of trials (5)\n",
    "k = number of successes (heads)\n",
    "p = probability of success (0.5)\n",
    "q = probability of failure (0.5)\n",
    "```\n",
    "\n",
    "What is the probability of getting exactly 3 heads:\n",
    "\n",
    "solution:\n",
    "\n",
    "        5C3 = 5! / (3! * (5-3)!)\n",
    "                = 120 / (6 * 2)\n",
    "                = 10\n",
    "\n",
    "P(X = 3) = 10C3 * 0.5^3 * 0.5^2 = 10 * 0.125 * 0.25 = 0.3125"
   ]
  },
  {
   "cell_type": "code",
   "execution_count": null,
   "id": "6345bc2f",
   "metadata": {},
   "outputs": [],
   "source": []
  },
  {
   "cell_type": "code",
   "execution_count": 35,
   "id": "7ac52428",
   "metadata": {},
   "outputs": [
    {
     "data": {
      "text/plain": [
       "[1, 2, 3, 4]"
      ]
     },
     "execution_count": 35,
     "metadata": {},
     "output_type": "execute_result"
    }
   ],
   "source": [
    "x = [1,2,3,4]\n",
    "x"
   ]
  },
  {
   "cell_type": "code",
   "execution_count": 36,
   "id": "9cc01eb7",
   "metadata": {},
   "outputs": [
    {
     "data": {
      "text/plain": [
       "['1', '2', '3', '4']"
      ]
     },
     "execution_count": 36,
     "metadata": {},
     "output_type": "execute_result"
    }
   ],
   "source": []
  },
  {
   "cell_type": "code",
   "execution_count": 40,
   "id": "96f06e56",
   "metadata": {},
   "outputs": [
    {
     "data": {
      "text/plain": [
       "'1234'"
      ]
     },
     "execution_count": 40,
     "metadata": {},
     "output_type": "execute_result"
    }
   ],
   "source": []
  },
  {
   "cell_type": "code",
   "execution_count": 41,
   "id": "ec222608",
   "metadata": {},
   "outputs": [
    {
     "data": {
      "text/plain": [
       "1234"
      ]
     },
     "execution_count": 41,
     "metadata": {},
     "output_type": "execute_result"
    }
   ],
   "source": []
  },
  {
   "cell_type": "code",
   "execution_count": 44,
   "id": "5a37003b",
   "metadata": {},
   "outputs": [
    {
     "data": {
      "text/plain": [
       "1233"
      ]
     },
     "execution_count": 44,
     "metadata": {},
     "output_type": "execute_result"
    }
   ],
   "source": []
  },
  {
   "cell_type": "code",
   "execution_count": 45,
   "id": "d29a7b98",
   "metadata": {},
   "outputs": [
    {
     "data": {
      "text/plain": [
       "'1233'"
      ]
     },
     "execution_count": 45,
     "metadata": {},
     "output_type": "execute_result"
    }
   ],
   "source": []
  },
  {
   "cell_type": "code",
   "execution_count": 48,
   "id": "e263113d",
   "metadata": {},
   "outputs": [
    {
     "data": {
      "text/plain": [
       "[1, 2, 3, 3]"
      ]
     },
     "execution_count": 48,
     "metadata": {},
     "output_type": "execute_result"
    }
   ],
   "source": []
  },
  {
   "cell_type": "code",
   "execution_count": null,
   "id": "d072183e",
   "metadata": {},
   "outputs": [],
   "source": []
  },
  {
   "cell_type": "code",
   "execution_count": null,
   "id": "93382821",
   "metadata": {},
   "outputs": [],
   "source": []
  },
  {
   "cell_type": "code",
   "execution_count": 61,
   "id": "870fcae7",
   "metadata": {},
   "outputs": [],
   "source": []
  },
  {
   "cell_type": "code",
   "execution_count": 62,
   "id": "1e6d5381",
   "metadata": {},
   "outputs": [
    {
     "data": {
      "text/plain": [
       "[1, 2, 3, 4, 4]"
      ]
     },
     "execution_count": 62,
     "metadata": {},
     "output_type": "execute_result"
    }
   ],
   "source": [
    "substract_one([1,2,3,4,5])"
   ]
  },
  {
   "cell_type": "code",
   "execution_count": 63,
   "id": "61f11ece",
   "metadata": {},
   "outputs": [
    {
     "data": {
      "text/plain": [
       "[0]"
      ]
     },
     "execution_count": 63,
     "metadata": {},
     "output_type": "execute_result"
    }
   ],
   "source": [
    "substract_one([1])"
   ]
  },
  {
   "cell_type": "code",
   "execution_count": null,
   "id": "faa49ab4",
   "metadata": {},
   "outputs": [],
   "source": []
  }
 ],
 "metadata": {
  "kernelspec": {
   "display_name": "Python 3 (ipykernel)",
   "language": "python",
   "name": "python3"
  },
  "language_info": {
   "codemirror_mode": {
    "name": "ipython",
    "version": 3
   },
   "file_extension": ".py",
   "mimetype": "text/x-python",
   "name": "python",
   "nbconvert_exporter": "python",
   "pygments_lexer": "ipython3",
   "version": "3.11.5"
  }
 },
 "nbformat": 4,
 "nbformat_minor": 5
}
