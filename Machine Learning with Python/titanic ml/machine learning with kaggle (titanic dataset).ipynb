{
 "cells": [
  {
   "cell_type": "markdown",
   "id": "13bd6922",
   "metadata": {},
   "source": []
  },
  {
   "cell_type": "code",
   "execution_count": null,
   "id": "8277c93b",
   "metadata": {},
   "outputs": [],
   "source": []
  },
  {
   "cell_type": "code",
   "execution_count": null,
   "id": "6fd71744",
   "metadata": {},
   "outputs": [],
   "source": []
  },
  {
   "cell_type": "markdown",
   "id": "d80ce4f9",
   "metadata": {},
   "source": [
    "##### Why do ML competitions?\n",
    "\n",
    "- ML competitions in [kaggle](https://www.kaggle.com/competitions) are fun and structured way to practice\n",
    "    - The data has been cleaned for you to get ready to start modeling.\n",
    "    - It has been given descriptiion for easy understanding of the data\n",
    "\n",
    "- You get to familiarize yourself with the platform\n",
    "\n",
    "- Learn enough to lauch your Kaggle journey"
   ]
  },
  {
   "cell_type": "markdown",
   "id": "049e9709",
   "metadata": {},
   "source": [
    "What's the competition is all about?"
   ]
  },
  {
   "cell_type": "markdown",
   "id": "837a8d20",
   "metadata": {},
   "source": [
    "what should you do first?"
   ]
  },
  {
   "cell_type": "markdown",
   "id": "022bfd0e",
   "metadata": {},
   "source": [
    "How to improve?"
   ]
  },
  {
   "cell_type": "code",
   "execution_count": null,
   "id": "00705f44",
   "metadata": {},
   "outputs": [],
   "source": []
  },
  {
   "cell_type": "code",
   "execution_count": null,
   "id": "969ac5db",
   "metadata": {},
   "outputs": [],
   "source": []
  },
  {
   "cell_type": "markdown",
   "id": "9bff16f9",
   "metadata": {},
   "source": [
    "### The challenge\n",
    "\n",
    "Build a predictive model that aswers the question: __\"What sorts of people were more likely to survive the Titanic sinking?\"__"
   ]
  },
  {
   "cell_type": "code",
   "execution_count": null,
   "id": "606098ba",
   "metadata": {},
   "outputs": [],
   "source": []
  },
  {
   "cell_type": "code",
   "execution_count": null,
   "id": "5e5a4cad",
   "metadata": {},
   "outputs": [],
   "source": []
  },
  {
   "cell_type": "code",
   "execution_count": null,
   "id": "db0c0ede",
   "metadata": {},
   "outputs": [],
   "source": []
  },
  {
   "cell_type": "code",
   "execution_count": null,
   "id": "c75e3c9d",
   "metadata": {},
   "outputs": [],
   "source": []
  }
 ],
 "metadata": {
  "kernelspec": {
   "display_name": "Python 3 (ipykernel)",
   "language": "python",
   "name": "python3"
  },
  "language_info": {
   "codemirror_mode": {
    "name": "ipython",
    "version": 3
   },
   "file_extension": ".py",
   "mimetype": "text/x-python",
   "name": "python",
   "nbconvert_exporter": "python",
   "pygments_lexer": "ipython3",
   "version": "3.11.5"
  }
 },
 "nbformat": 4,
 "nbformat_minor": 5
}
