{
 "cells": [
  {
   "cell_type": "code",
   "execution_count": 164,
   "id": "418be906",
   "metadata": {},
   "outputs": [],
   "source": [
    "import pandas as pd # scraping AND MANIPULATION\n",
    "import re # REGULAR EXPRESSION"
   ]
  },
  {
   "cell_type": "code",
   "execution_count": 3,
   "id": "91290d12",
   "metadata": {},
   "outputs": [],
   "source": [
    "# LOADING WEB SOURCE\n",
    "data = pd.read_html('https://en.wikipedia.org/wiki/List_of_countries_and_dependencies_by_population')"
   ]
  },
  {
   "cell_type": "code",
   "execution_count": 5,
   "id": "24da0c9c",
   "metadata": {
    "collapsed": true
   },
   "outputs": [
    {
     "data": {
      "text/plain": [
       "[    Unnamed: 0                 Country / Dependency  Population % of world  \\\n",
       " 0            –                                World  8071066000       100%   \n",
       " 1            1                                China  1411750000        NaN   \n",
       " 2            2                                India  1392329000        NaN   \n",
       " 3            3                        United States   335614000        NaN   \n",
       " 4            4                            Indonesia   279118866        NaN   \n",
       " ..         ...                                  ...         ...        ...   \n",
       " 237          –                         Tokelau (NZ)        1647        NaN   \n",
       " 238          –                                 Niue        1549        NaN   \n",
       " 239        195                         Vatican City         764        NaN   \n",
       " 240          –  Cocos (Keeling) Islands (Australia)         593        NaN   \n",
       " 241          –                Pitcairn Islands (UK)          47        NaN   \n",
       " \n",
       "             Date Source (official or from the United Nations) Unnamed: 6  \n",
       " 0    11 Nov 2023                             UN projection[3]        NaN  \n",
       " 1    31 Dec 2022                         Official estimate[4]        [b]  \n",
       " 2     1 Mar 2023                       Official projection[5]        [c]  \n",
       " 3    11 Nov 2023                 National population clock[7]        [d]  \n",
       " 4     1 Jul 2023                National annual projection[8]        NaN  \n",
       " ..           ...                                          ...        ...  \n",
       " 237   1 Jan 2019                            2019 Census [231]        NaN  \n",
       " 238   1 Jul 2021              National annual projection[182]        NaN  \n",
       " 239  26 Jun 2023                         Official figure[232]       [af]  \n",
       " 240  30 Jun 2020                             2021 Census[233]        NaN  \n",
       " 241   1 Jul 2021                       Official estimate[234]        NaN  \n",
       " \n",
       " [242 rows x 7 columns],\n",
       "    .mw-parser-output .navbar{display:inline;font-size:88%;font-weight:normal}.mw-parser-output .navbar-collapse{float:left;text-align:left}.mw-parser-output .navbar-boxtext{word-spacing:0}.mw-parser-output .navbar ul{display:inline-block;white-space:nowrap;line-height:inherit}.mw-parser-output .navbar-brackets::before{margin-right:-0.125em;content:\"[ \"}.mw-parser-output .navbar-brackets::after{margin-left:-0.125em;content:\" ]\"}.mw-parser-output .navbar li{word-spacing:-0.125em}.mw-parser-output .navbar a>span,.mw-parser-output .navbar a>abbr{text-decoration:inherit}.mw-parser-output .navbar-mini abbr{font-variant:small-caps;border-bottom:none;text-decoration:none;cursor:inherit}.mw-parser-output .navbar-ct-full{font-size:114%;margin:0 7em}.mw-parser-output .navbar-ct-mini{font-size:114%;margin:0 4em}vteLists of countries by population statistics  \\\n",
       " 0                                              Global                                                                                                                                                                                                                                                                                                                                                                                                                                                                                                                                                                                                                                                                                                                                                                                                                                       \n",
       " 1                               Continents/subregions                                                                                                                                                                                                                                                                                                                                                                                                                                                                                                                                                                                                                                                                                                                                                                                                                                       \n",
       " 2                                    Intercontinental                                                                                                                                                                                                                                                                                                                                                                                                                                                                                                                                                                                                                                                                                                                                                                                                                                       \n",
       " 3                                  Cities/urban areas                                                                                                                                                                                                                                                                                                                                                                                                                                                                                                                                                                                                                                                                                                                                                                                                                                       \n",
       " 4                                     Past and future                                                                                                                                                                                                                                                                                                                                                                                                                                                                                                                                                                                                                                                                                                                                                                                                                                       \n",
       " 5                                  Population density                                                                                                                                                                                                                                                                                                                                                                                                                                                                                                                                                                                                                                                                                                                                                                                                                                       \n",
       " 6                                   Growth indicators                                                                                                                                                                                                                                                                                                                                                                                                                                                                                                                                                                                                                                                                                                                                                                                                                                       \n",
       " 7                                     Life expectancy                                                                                                                                                                                                                                                                                                                                                                                                                                                                                                                                                                                                                                                                                                                                                                                                                                       \n",
       " 8                                  Other demographics                                                                                                                                                                                                                                                                                                                                                                                                                                                                                                                                                                                                                                                                                                                                                                                                                                       \n",
       " 9                                              Health                                                                                                                                                                                                                                                                                                                                                                                                                                                                                                                                                                                                                                                                                                                                                                                                                                       \n",
       " 10                           Education and innovation                                                                                                                                                                                                                                                                                                                                                                                                                                                                                                                                                                                                                                                                                                                                                                                                                                       \n",
       " 11                                           Economic                                                                                                                                                                                                                                                                                                                                                                                                                                                                                                                                                                                                                                                                                                                                                                                                                                       \n",
       " 12    List of international rankings Lists by country                                                                                                                                                                                                                                                                                                                                                                                                                                                                                                                                                                                                                                                                                                                                                                                                                                       \n",
       " \n",
       "    .mw-parser-output .navbar{display:inline;font-size:88%;font-weight:normal}.mw-parser-output .navbar-collapse{float:left;text-align:left}.mw-parser-output .navbar-boxtext{word-spacing:0}.mw-parser-output .navbar ul{display:inline-block;white-space:nowrap;line-height:inherit}.mw-parser-output .navbar-brackets::before{margin-right:-0.125em;content:\"[ \"}.mw-parser-output .navbar-brackets::after{margin-left:-0.125em;content:\" ]\"}.mw-parser-output .navbar li{word-spacing:-0.125em}.mw-parser-output .navbar a>span,.mw-parser-output .navbar a>abbr{text-decoration:inherit}.mw-parser-output .navbar-mini abbr{font-variant:small-caps;border-bottom:none;text-decoration:none;cursor:inherit}.mw-parser-output .navbar-ct-full{font-size:114%;margin:0 7em}.mw-parser-output .navbar-ct-mini{font-size:114%;margin:0 4em}vteLists of countries by population statistics.1  \n",
       " 0   Current population United Nations Demographics...                                                                                                                                                                                                                                                                                                                                                                                                                                                                                                                                                                                                                                                                                                                                                                                                                                        \n",
       " 1   Africa Antarctica Asia Europe North America Ca...                                                                                                                                                                                                                                                                                                                                                                                                                                                                                                                                                                                                                                                                                                                                                                                                                                        \n",
       " 2   Americas Arab world Commonwealth of Nations Eu...                                                                                                                                                                                                                                                                                                                                                                                                                                                                                                                                                                                                                                                                                                                                                                                                                                        \n",
       " 3   World cities National capitals Megacities Mega...                                                                                                                                                                                                                                                                                                                                                                                                                                                                                                                                                                                                                                                                                                                                                                                                                                        \n",
       " 4   Past and future population World population es...                                                                                                                                                                                                                                                                                                                                                                                                                                                                                                                                                                                                                                                                                                                                                                                                                                        \n",
       " 5   Current density Past and future population den...                                                                                                                                                                                                                                                                                                                                                                                                                                                                                                                                                                                                                                                                                                                                                                                                                                        \n",
       " 6   Population growth rate Natural increase Net re...                                                                                                                                                                                                                                                                                                                                                                                                                                                                                                                                                                                                                                                                                                                                                                                                                                        \n",
       " 7   world Africa Asia Europe North America Oceania...                                                                                                                                                                                                                                                                                                                                                                                                                                                                                                                                                                                                                                                                                                                                                                                                                                        \n",
       " 8   Age at childbearing Age at first marriage Age ...                                                                                                                                                                                                                                                                                                                                                                                                                                                                                                                                                                                                                                                                                                                                                                                                                                        \n",
       " 9   Antidepressant consumption Antiviral medicatio...                                                                                                                                                                                                                                                                                                                                                                                                                                                                                                                                                                                                                                                                                                                                                                                                                                        \n",
       " 10  Bloomberg Innovation Index Education Index Int...                                                                                                                                                                                                                                                                                                                                                                                                                                                                                                                                                                                                                                                                                                                                                                                                                                        \n",
       " 11  Access to financial services Development aid d...                                                                                                                                                                                                                                                                                                                                                                                                                                                                                                                                                                                                                                                                                                                                                                                                                                        \n",
       " 12    List of international rankings Lists by country                                                                                                                                                                                                                                                                                                                                                                                                                                                                                                                                                                                                                                                                                                                                                                                                                                        ,\n",
       "                                             vteWorld  \\\n",
       " 0  AfghanistanAlbaniaAlgeriaAndorraAngolaAntigua ...   \n",
       " \n",
       "                                           vteWorld.1  \n",
       " 0  AfghanistanAlbaniaAlgeriaAndorraAngolaAntigua ...  ]"
      ]
     },
     "execution_count": 5,
     "metadata": {},
     "output_type": "execute_result"
    }
   ],
   "source": [
    "# CHECKING DATA\n",
    "data"
   ]
  },
  {
   "cell_type": "code",
   "execution_count": 8,
   "id": "fd865994",
   "metadata": {},
   "outputs": [
    {
     "data": {
      "text/plain": [
       "3"
      ]
     },
     "execution_count": 8,
     "metadata": {},
     "output_type": "execute_result"
    }
   ],
   "source": [
    "# LENGTH OF TABLE IN DATA\n",
    "len(data)"
   ]
  },
  {
   "cell_type": "code",
   "execution_count": 7,
   "id": "15cc0974",
   "metadata": {
    "collapsed": true
   },
   "outputs": [
    {
     "name": "stdout",
     "output_type": "stream",
     "text": [
      "__________________________________________________\n",
      "index => 0\n",
      "    Unnamed: 0                 Country / Dependency  Population % of world  \\\n",
      "0            –                                World  8071066000       100%   \n",
      "1            1                                China  1411750000        NaN   \n",
      "2            2                                India  1392329000        NaN   \n",
      "3            3                        United States   335614000        NaN   \n",
      "4            4                            Indonesia   279118866        NaN   \n",
      "..         ...                                  ...         ...        ...   \n",
      "237          –                         Tokelau (NZ)        1647        NaN   \n",
      "238          –                                 Niue        1549        NaN   \n",
      "239        195                         Vatican City         764        NaN   \n",
      "240          –  Cocos (Keeling) Islands (Australia)         593        NaN   \n",
      "241          –                Pitcairn Islands (UK)          47        NaN   \n",
      "\n",
      "            Date Source (official or from the United Nations) Unnamed: 6  \n",
      "0    11 Nov 2023                             UN projection[3]        NaN  \n",
      "1    31 Dec 2022                         Official estimate[4]        [b]  \n",
      "2     1 Mar 2023                       Official projection[5]        [c]  \n",
      "3    11 Nov 2023                 National population clock[7]        [d]  \n",
      "4     1 Jul 2023                National annual projection[8]        NaN  \n",
      "..           ...                                          ...        ...  \n",
      "237   1 Jan 2019                            2019 Census [231]        NaN  \n",
      "238   1 Jul 2021              National annual projection[182]        NaN  \n",
      "239  26 Jun 2023                         Official figure[232]       [af]  \n",
      "240  30 Jun 2020                             2021 Census[233]        NaN  \n",
      "241   1 Jul 2021                       Official estimate[234]        NaN  \n",
      "\n",
      "[242 rows x 7 columns]\n",
      "__________________________________________________\n",
      "index => 1\n",
      "   .mw-parser-output .navbar{display:inline;font-size:88%;font-weight:normal}.mw-parser-output .navbar-collapse{float:left;text-align:left}.mw-parser-output .navbar-boxtext{word-spacing:0}.mw-parser-output .navbar ul{display:inline-block;white-space:nowrap;line-height:inherit}.mw-parser-output .navbar-brackets::before{margin-right:-0.125em;content:\"[ \"}.mw-parser-output .navbar-brackets::after{margin-left:-0.125em;content:\" ]\"}.mw-parser-output .navbar li{word-spacing:-0.125em}.mw-parser-output .navbar a>span,.mw-parser-output .navbar a>abbr{text-decoration:inherit}.mw-parser-output .navbar-mini abbr{font-variant:small-caps;border-bottom:none;text-decoration:none;cursor:inherit}.mw-parser-output .navbar-ct-full{font-size:114%;margin:0 7em}.mw-parser-output .navbar-ct-mini{font-size:114%;margin:0 4em}vteLists of countries by population statistics  \\\n",
      "0                                              Global                                                                                                                                                                                                                                                                                                                                                                                                                                                                                                                                                                                                                                                                                                                                                                                                                                       \n",
      "1                               Continents/subregions                                                                                                                                                                                                                                                                                                                                                                                                                                                                                                                                                                                                                                                                                                                                                                                                                                       \n",
      "2                                    Intercontinental                                                                                                                                                                                                                                                                                                                                                                                                                                                                                                                                                                                                                                                                                                                                                                                                                                       \n",
      "3                                  Cities/urban areas                                                                                                                                                                                                                                                                                                                                                                                                                                                                                                                                                                                                                                                                                                                                                                                                                                       \n",
      "4                                     Past and future                                                                                                                                                                                                                                                                                                                                                                                                                                                                                                                                                                                                                                                                                                                                                                                                                                       \n",
      "5                                  Population density                                                                                                                                                                                                                                                                                                                                                                                                                                                                                                                                                                                                                                                                                                                                                                                                                                       \n",
      "6                                   Growth indicators                                                                                                                                                                                                                                                                                                                                                                                                                                                                                                                                                                                                                                                                                                                                                                                                                                       \n",
      "7                                     Life expectancy                                                                                                                                                                                                                                                                                                                                                                                                                                                                                                                                                                                                                                                                                                                                                                                                                                       \n",
      "8                                  Other demographics                                                                                                                                                                                                                                                                                                                                                                                                                                                                                                                                                                                                                                                                                                                                                                                                                                       \n",
      "9                                              Health                                                                                                                                                                                                                                                                                                                                                                                                                                                                                                                                                                                                                                                                                                                                                                                                                                       \n",
      "10                           Education and innovation                                                                                                                                                                                                                                                                                                                                                                                                                                                                                                                                                                                                                                                                                                                                                                                                                                       \n",
      "11                                           Economic                                                                                                                                                                                                                                                                                                                                                                                                                                                                                                                                                                                                                                                                                                                                                                                                                                       \n",
      "12    List of international rankings Lists by country                                                                                                                                                                                                                                                                                                                                                                                                                                                                                                                                                                                                                                                                                                                                                                                                                                       \n",
      "\n",
      "   .mw-parser-output .navbar{display:inline;font-size:88%;font-weight:normal}.mw-parser-output .navbar-collapse{float:left;text-align:left}.mw-parser-output .navbar-boxtext{word-spacing:0}.mw-parser-output .navbar ul{display:inline-block;white-space:nowrap;line-height:inherit}.mw-parser-output .navbar-brackets::before{margin-right:-0.125em;content:\"[ \"}.mw-parser-output .navbar-brackets::after{margin-left:-0.125em;content:\" ]\"}.mw-parser-output .navbar li{word-spacing:-0.125em}.mw-parser-output .navbar a>span,.mw-parser-output .navbar a>abbr{text-decoration:inherit}.mw-parser-output .navbar-mini abbr{font-variant:small-caps;border-bottom:none;text-decoration:none;cursor:inherit}.mw-parser-output .navbar-ct-full{font-size:114%;margin:0 7em}.mw-parser-output .navbar-ct-mini{font-size:114%;margin:0 4em}vteLists of countries by population statistics.1  \n",
      "0   Current population United Nations Demographics...                                                                                                                                                                                                                                                                                                                                                                                                                                                                                                                                                                                                                                                                                                                                                                                                                                        \n",
      "1   Africa Antarctica Asia Europe North America Ca...                                                                                                                                                                                                                                                                                                                                                                                                                                                                                                                                                                                                                                                                                                                                                                                                                                        \n",
      "2   Americas Arab world Commonwealth of Nations Eu...                                                                                                                                                                                                                                                                                                                                                                                                                                                                                                                                                                                                                                                                                                                                                                                                                                        \n",
      "3   World cities National capitals Megacities Mega...                                                                                                                                                                                                                                                                                                                                                                                                                                                                                                                                                                                                                                                                                                                                                                                                                                        \n",
      "4   Past and future population World population es...                                                                                                                                                                                                                                                                                                                                                                                                                                                                                                                                                                                                                                                                                                                                                                                                                                        \n",
      "5   Current density Past and future population den...                                                                                                                                                                                                                                                                                                                                                                                                                                                                                                                                                                                                                                                                                                                                                                                                                                        \n",
      "6   Population growth rate Natural increase Net re...                                                                                                                                                                                                                                                                                                                                                                                                                                                                                                                                                                                                                                                                                                                                                                                                                                        \n",
      "7   world Africa Asia Europe North America Oceania...                                                                                                                                                                                                                                                                                                                                                                                                                                                                                                                                                                                                                                                                                                                                                                                                                                        \n",
      "8   Age at childbearing Age at first marriage Age ...                                                                                                                                                                                                                                                                                                                                                                                                                                                                                                                                                                                                                                                                                                                                                                                                                                        \n",
      "9   Antidepressant consumption Antiviral medicatio...                                                                                                                                                                                                                                                                                                                                                                                                                                                                                                                                                                                                                                                                                                                                                                                                                                        \n",
      "10  Bloomberg Innovation Index Education Index Int...                                                                                                                                                                                                                                                                                                                                                                                                                                                                                                                                                                                                                                                                                                                                                                                                                                        \n",
      "11  Access to financial services Development aid d...                                                                                                                                                                                                                                                                                                                                                                                                                                                                                                                                                                                                                                                                                                                                                                                                                                        \n",
      "12    List of international rankings Lists by country                                                                                                                                                                                                                                                                                                                                                                                                                                                                                                                                                                                                                                                                                                                                                                                                                                        \n",
      "__________________________________________________\n",
      "index => 2\n",
      "                                            vteWorld  \\\n",
      "0  AfghanistanAlbaniaAlgeriaAndorraAngolaAntigua ...   \n",
      "\n",
      "                                          vteWorld.1  \n",
      "0  AfghanistanAlbaniaAlgeriaAndorraAngolaAntigua ...  \n"
     ]
    }
   ],
   "source": [
    "# SORTING AND DATA TABLE\n",
    "for ind,tab in enumerate(data):\n",
    "    print('_' * 50)\n",
    "    print('index =>', ind)\n",
    "    print(tab)\n",
    "    "
   ]
  },
  {
   "cell_type": "code",
   "execution_count": 10,
   "id": "97e23f39",
   "metadata": {},
   "outputs": [],
   "source": [
    "# data[0] IS WHAT WE NEED, SO WE ASSIGN IT TO A VARIABLE\n",
    "population = data[0]"
   ]
  },
  {
   "cell_type": "code",
   "execution_count": 12,
   "id": "cf709c18",
   "metadata": {
    "collapsed": true
   },
   "outputs": [
    {
     "data": {
      "text/plain": [
       "['Unnamed: 0',\n",
       " 'Country / Dependency',\n",
       " 'Population',\n",
       " '% of world',\n",
       " 'Date',\n",
       " 'Source (official or from the United Nations)',\n",
       " 'Unnamed: 6']"
      ]
     },
     "execution_count": 12,
     "metadata": {},
     "output_type": "execute_result"
    }
   ],
   "source": [
    "# READING TABLE HEAD\n",
    "list(population.columns)"
   ]
  },
  {
   "cell_type": "code",
   "execution_count": 16,
   "id": "eed43cc2",
   "metadata": {},
   "outputs": [
    {
     "data": {
      "text/plain": [
       "(242, 7)"
      ]
     },
     "execution_count": 16,
     "metadata": {},
     "output_type": "execute_result"
    }
   ],
   "source": [
    "# SHAPE OF DATA, 242 ROWS, 7 COLUMNS\n",
    "population.shape"
   ]
  },
  {
   "cell_type": "code",
   "execution_count": 14,
   "id": "c7c4f881",
   "metadata": {},
   "outputs": [
    {
     "data": {
      "text/plain": [
       "Unnamed: 0                                        0\n",
       "Country / Dependency                              0\n",
       "Population                                        0\n",
       "% of world                                      241\n",
       "Date                                              0\n",
       "Source (official or from the United Nations)      0\n",
       "Unnamed: 6                                      211\n",
       "dtype: int64"
      ]
     },
     "execution_count": 14,
     "metadata": {},
     "output_type": "execute_result"
    }
   ],
   "source": [
    "# CHECKING  FOR NULL \n",
    "population.isna().sum()"
   ]
  },
  {
   "cell_type": "code",
   "execution_count": 23,
   "id": "65a30d85",
   "metadata": {},
   "outputs": [],
   "source": [
    "# DROPPING THE NULL COLUMNS SINCE THEY ARE NOT NEEDED\n",
    "population = population.drop(['Unnamed: 0','Unnamed: 6'], axis=1)"
   ]
  },
  {
   "cell_type": "code",
   "execution_count": 154,
   "id": "c7816e69",
   "metadata": {},
   "outputs": [
    {
     "data": {
      "text/plain": [
       "['Country / Dependency',\n",
       " 'Population',\n",
       " '% of world',\n",
       " 'Date',\n",
       " 'Source (official or from the United Nations)']"
      ]
     },
     "execution_count": 154,
     "metadata": {},
     "output_type": "execute_result"
    }
   ],
   "source": [
    "# LISTING THE COLUMNS HEAD NAMES\n",
    "population.columns.values.tolist()"
   ]
  },
  {
   "cell_type": "code",
   "execution_count": 26,
   "id": "a7808715",
   "metadata": {},
   "outputs": [
    {
     "data": {
      "text/html": [
       "<div>\n",
       "<style scoped>\n",
       "    .dataframe tbody tr th:only-of-type {\n",
       "        vertical-align: middle;\n",
       "    }\n",
       "\n",
       "    .dataframe tbody tr th {\n",
       "        vertical-align: top;\n",
       "    }\n",
       "\n",
       "    .dataframe thead th {\n",
       "        text-align: right;\n",
       "    }\n",
       "</style>\n",
       "<table border=\"1\" class=\"dataframe\">\n",
       "  <thead>\n",
       "    <tr style=\"text-align: right;\">\n",
       "      <th></th>\n",
       "      <th>Country / Dependency</th>\n",
       "      <th>Population</th>\n",
       "      <th>% of world</th>\n",
       "      <th>Date</th>\n",
       "      <th>Source (official or from the United Nations)</th>\n",
       "    </tr>\n",
       "  </thead>\n",
       "  <tbody>\n",
       "    <tr>\n",
       "      <th>0</th>\n",
       "      <td>World</td>\n",
       "      <td>8071066000</td>\n",
       "      <td>100%</td>\n",
       "      <td>11 Nov 2023</td>\n",
       "      <td>UN projection[3]</td>\n",
       "    </tr>\n",
       "    <tr>\n",
       "      <th>1</th>\n",
       "      <td>China</td>\n",
       "      <td>1411750000</td>\n",
       "      <td>NaN</td>\n",
       "      <td>31 Dec 2022</td>\n",
       "      <td>Official estimate[4]</td>\n",
       "    </tr>\n",
       "    <tr>\n",
       "      <th>2</th>\n",
       "      <td>India</td>\n",
       "      <td>1392329000</td>\n",
       "      <td>NaN</td>\n",
       "      <td>1 Mar 2023</td>\n",
       "      <td>Official projection[5]</td>\n",
       "    </tr>\n",
       "    <tr>\n",
       "      <th>3</th>\n",
       "      <td>United States</td>\n",
       "      <td>335614000</td>\n",
       "      <td>NaN</td>\n",
       "      <td>11 Nov 2023</td>\n",
       "      <td>National population clock[7]</td>\n",
       "    </tr>\n",
       "    <tr>\n",
       "      <th>4</th>\n",
       "      <td>Indonesia</td>\n",
       "      <td>279118866</td>\n",
       "      <td>NaN</td>\n",
       "      <td>1 Jul 2023</td>\n",
       "      <td>National annual projection[8]</td>\n",
       "    </tr>\n",
       "  </tbody>\n",
       "</table>\n",
       "</div>"
      ],
      "text/plain": [
       "  Country / Dependency  Population % of world         Date  \\\n",
       "0                World  8071066000       100%  11 Nov 2023   \n",
       "1                China  1411750000        NaN  31 Dec 2022   \n",
       "2                India  1392329000        NaN   1 Mar 2023   \n",
       "3        United States   335614000        NaN  11 Nov 2023   \n",
       "4            Indonesia   279118866        NaN   1 Jul 2023   \n",
       "\n",
       "  Source (official or from the United Nations)  \n",
       "0                             UN projection[3]  \n",
       "1                         Official estimate[4]  \n",
       "2                       Official projection[5]  \n",
       "3                 National population clock[7]  \n",
       "4                National annual projection[8]  "
      ]
     },
     "execution_count": 26,
     "metadata": {},
     "output_type": "execute_result"
    }
   ],
   "source": [
    "# READING DATA\n",
    "population.head()"
   ]
  },
  {
   "cell_type": "code",
   "execution_count": null,
   "id": "1357ca21",
   "metadata": {},
   "outputs": [],
   "source": [
    "# we would be filling the column '% of world' with % of World population\n",
    "# percent = (population['Population'] * 100)/world_population"
   ]
  },
  {
   "cell_type": "code",
   "execution_count": 146,
   "id": "ea3a63b6",
   "metadata": {},
   "outputs": [
    {
     "data": {
      "text/plain": [
       "0    8071066000\n",
       "Name: Population, dtype: int64"
      ]
     },
     "execution_count": 146,
     "metadata": {},
     "output_type": "execute_result"
    }
   ],
   "source": [
    "# assign the world population value to world_population\n",
    "world_population = population.loc[population['Country / Dependency'] == 'World', 'Population']\n",
    "world_population"
   ]
  },
  {
   "cell_type": "code",
   "execution_count": 148,
   "id": "88cb5517",
   "metadata": {},
   "outputs": [],
   "source": [
    "# function to calculate % of world\n",
    "def percent_population(df):\n",
    "    df.percent = (df['Population'] * 100)/world_population\n",
    "    return df.percent"
   ]
  },
  {
   "cell_type": "code",
   "execution_count": 152,
   "id": "eb3a79dc",
   "metadata": {},
   "outputs": [],
   "source": [
    "# apply function to map through the '% of world' column and apply our percent_population function\n",
    "population['% of world'] = population.apply(percent_population, axis=1)"
   ]
  },
  {
   "cell_type": "code",
   "execution_count": 153,
   "id": "de932996",
   "metadata": {},
   "outputs": [
    {
     "data": {
      "text/html": [
       "<div>\n",
       "<style scoped>\n",
       "    .dataframe tbody tr th:only-of-type {\n",
       "        vertical-align: middle;\n",
       "    }\n",
       "\n",
       "    .dataframe tbody tr th {\n",
       "        vertical-align: top;\n",
       "    }\n",
       "\n",
       "    .dataframe thead th {\n",
       "        text-align: right;\n",
       "    }\n",
       "</style>\n",
       "<table border=\"1\" class=\"dataframe\">\n",
       "  <thead>\n",
       "    <tr style=\"text-align: right;\">\n",
       "      <th></th>\n",
       "      <th>Country / Dependency</th>\n",
       "      <th>Population</th>\n",
       "      <th>% of world</th>\n",
       "      <th>Date</th>\n",
       "      <th>Source (official or from the United Nations)</th>\n",
       "    </tr>\n",
       "  </thead>\n",
       "  <tbody>\n",
       "    <tr>\n",
       "      <th>0</th>\n",
       "      <td>World</td>\n",
       "      <td>8071066000</td>\n",
       "      <td>100.000000</td>\n",
       "      <td>11 Nov 2023</td>\n",
       "      <td>UN projection[3]</td>\n",
       "    </tr>\n",
       "    <tr>\n",
       "      <th>1</th>\n",
       "      <td>China</td>\n",
       "      <td>1411750000</td>\n",
       "      <td>17.491494</td>\n",
       "      <td>31 Dec 2022</td>\n",
       "      <td>Official estimate[4]</td>\n",
       "    </tr>\n",
       "    <tr>\n",
       "      <th>2</th>\n",
       "      <td>India</td>\n",
       "      <td>1392329000</td>\n",
       "      <td>17.250869</td>\n",
       "      <td>1 Mar 2023</td>\n",
       "      <td>Official projection[5]</td>\n",
       "    </tr>\n",
       "    <tr>\n",
       "      <th>3</th>\n",
       "      <td>United States</td>\n",
       "      <td>335614000</td>\n",
       "      <td>4.158236</td>\n",
       "      <td>11 Nov 2023</td>\n",
       "      <td>National population clock[7]</td>\n",
       "    </tr>\n",
       "    <tr>\n",
       "      <th>4</th>\n",
       "      <td>Indonesia</td>\n",
       "      <td>279118866</td>\n",
       "      <td>3.458265</td>\n",
       "      <td>1 Jul 2023</td>\n",
       "      <td>National annual projection[8]</td>\n",
       "    </tr>\n",
       "  </tbody>\n",
       "</table>\n",
       "</div>"
      ],
      "text/plain": [
       "  Country / Dependency  Population  % of world         Date  \\\n",
       "0                World  8071066000  100.000000  11 Nov 2023   \n",
       "1                China  1411750000   17.491494  31 Dec 2022   \n",
       "2                India  1392329000   17.250869   1 Mar 2023   \n",
       "3        United States   335614000    4.158236  11 Nov 2023   \n",
       "4            Indonesia   279118866    3.458265   1 Jul 2023   \n",
       "\n",
       "  Source (official or from the United Nations)  \n",
       "0                             UN projection[3]  \n",
       "1                         Official estimate[4]  \n",
       "2                       Official projection[5]  \n",
       "3                 National population clock[7]  \n",
       "4                National annual projection[8]  "
      ]
     },
     "execution_count": 153,
     "metadata": {},
     "output_type": "execute_result"
    }
   ],
   "source": [
    "# reading dataset\n",
    "population.head()"
   ]
  },
  {
   "cell_type": "code",
   "execution_count": 169,
   "id": "62a81827",
   "metadata": {},
   "outputs": [],
   "source": [
    "# defining our functions to remove [12] from whole dataset\n",
    "def remove_brackets_values(cell):\n",
    "    # checking if cell is an object of str\n",
    "    if isinstance(cell, str):\n",
    "        # if true, remove any pattern that follows below regex\n",
    "        return re.sub(r'\\[.*?\\]', '', cell)\n",
    "    # else return the exact cell value\n",
    "    return cell"
   ]
  },
  {
   "cell_type": "code",
   "execution_count": 180,
   "id": "1b8925b9",
   "metadata": {},
   "outputs": [],
   "source": [
    "# using the function to apply the custom function on each cell\n",
    "population = population.applymap(remove_brackets_values)"
   ]
  },
  {
   "cell_type": "code",
   "execution_count": 181,
   "id": "c0ae11e9",
   "metadata": {},
   "outputs": [
    {
     "data": {
      "text/html": [
       "<div>\n",
       "<style scoped>\n",
       "    .dataframe tbody tr th:only-of-type {\n",
       "        vertical-align: middle;\n",
       "    }\n",
       "\n",
       "    .dataframe tbody tr th {\n",
       "        vertical-align: top;\n",
       "    }\n",
       "\n",
       "    .dataframe thead th {\n",
       "        text-align: right;\n",
       "    }\n",
       "</style>\n",
       "<table border=\"1\" class=\"dataframe\">\n",
       "  <thead>\n",
       "    <tr style=\"text-align: right;\">\n",
       "      <th></th>\n",
       "      <th>Country / Dependency</th>\n",
       "      <th>Population</th>\n",
       "      <th>% of world</th>\n",
       "      <th>Date</th>\n",
       "      <th>Source (official or from the United Nations)</th>\n",
       "    </tr>\n",
       "  </thead>\n",
       "  <tbody>\n",
       "    <tr>\n",
       "      <th>0</th>\n",
       "      <td>World</td>\n",
       "      <td>8071066000</td>\n",
       "      <td>100.000000</td>\n",
       "      <td>11 Nov 2023</td>\n",
       "      <td>UN projection</td>\n",
       "    </tr>\n",
       "    <tr>\n",
       "      <th>1</th>\n",
       "      <td>China</td>\n",
       "      <td>1411750000</td>\n",
       "      <td>17.491494</td>\n",
       "      <td>31 Dec 2022</td>\n",
       "      <td>Official estimate</td>\n",
       "    </tr>\n",
       "    <tr>\n",
       "      <th>2</th>\n",
       "      <td>India</td>\n",
       "      <td>1392329000</td>\n",
       "      <td>17.250869</td>\n",
       "      <td>1 Mar 2023</td>\n",
       "      <td>Official projection</td>\n",
       "    </tr>\n",
       "    <tr>\n",
       "      <th>3</th>\n",
       "      <td>United States</td>\n",
       "      <td>335614000</td>\n",
       "      <td>4.158236</td>\n",
       "      <td>11 Nov 2023</td>\n",
       "      <td>National population clock</td>\n",
       "    </tr>\n",
       "    <tr>\n",
       "      <th>4</th>\n",
       "      <td>Indonesia</td>\n",
       "      <td>279118866</td>\n",
       "      <td>3.458265</td>\n",
       "      <td>1 Jul 2023</td>\n",
       "      <td>National annual projection</td>\n",
       "    </tr>\n",
       "  </tbody>\n",
       "</table>\n",
       "</div>"
      ],
      "text/plain": [
       "  Country / Dependency  Population  % of world         Date  \\\n",
       "0                World  8071066000  100.000000  11 Nov 2023   \n",
       "1                China  1411750000   17.491494  31 Dec 2022   \n",
       "2                India  1392329000   17.250869   1 Mar 2023   \n",
       "3        United States   335614000    4.158236  11 Nov 2023   \n",
       "4            Indonesia   279118866    3.458265   1 Jul 2023   \n",
       "\n",
       "  Source (official or from the United Nations)  \n",
       "0                                UN projection  \n",
       "1                            Official estimate  \n",
       "2                          Official projection  \n",
       "3                    National population clock  \n",
       "4                   National annual projection  "
      ]
     },
     "execution_count": 181,
     "metadata": {},
     "output_type": "execute_result"
    }
   ],
   "source": [
    "population.head()"
   ]
  },
  {
   "cell_type": "code",
   "execution_count": 182,
   "id": "5da4a6e7",
   "metadata": {},
   "outputs": [],
   "source": [
    "# saving our dataset\n",
    "population.to_csv('The World popultion from wikipedia.csv')"
   ]
  }
 ],
 "metadata": {
  "kernelspec": {
   "display_name": "Python 3 (ipykernel)",
   "language": "python",
   "name": "python3"
  },
  "language_info": {
   "codemirror_mode": {
    "name": "ipython",
    "version": 3
   },
   "file_extension": ".py",
   "mimetype": "text/x-python",
   "name": "python",
   "nbconvert_exporter": "python",
   "pygments_lexer": "ipython3",
   "version": "3.11.5"
  }
 },
 "nbformat": 4,
 "nbformat_minor": 5
}
