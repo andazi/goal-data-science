{
 "cells": [
  {
   "cell_type": "markdown",
   "id": "1693d428",
   "metadata": {},
   "source": [
    "__Write a function to substract 1__\n",
    "\n",
    "__From the digits, where digits a list representing a positive integer__\n",
    "\n",
    "```\n",
    "Example:\n",
    "    \n",
    "    [1,2,3,4] = [1,2,3,3]\n",
    "    [1,0,0,0] = [9,9,9]\n",
    "    \n",
    "```"
   ]
  },
  {
   "cell_type": "code",
   "execution_count": 1,
   "id": "269e2e14",
   "metadata": {},
   "outputs": [],
   "source": [
    "def substract_one(digits):\n",
    "    # to string\n",
    "    str_list = [str(i) for i in digits]\n",
    "    # extract form list\n",
    "    str_digits = \"\".join(str_list)\n",
    "    # to number\n",
    "    int_digits = int(str_digits)\n",
    "    # substrct 1\n",
    "    substract_one = int_digits - 1\n",
    "    # to string\n",
    "    str_one = str(substract_one)\n",
    "    # back to list\n",
    "    digits = [int(i) for i in str_one]\n",
    "    \n",
    "    return digits"
   ]
  },
  {
   "cell_type": "code",
   "execution_count": 2,
   "id": "c1195983",
   "metadata": {},
   "outputs": [
    {
     "data": {
      "text/plain": [
       "[9, 9, 9]"
      ]
     },
     "execution_count": 2,
     "metadata": {},
     "output_type": "execute_result"
    }
   ],
   "source": [
    "substract_one([1,0,0,0])"
   ]
  },
  {
   "cell_type": "code",
   "execution_count": 4,
   "id": "9cda6f50",
   "metadata": {},
   "outputs": [
    {
     "data": {
      "text/plain": [
       "[1, 2, 3, 4, 5, 6, 7, 8, 8, 9]"
      ]
     },
     "execution_count": 4,
     "metadata": {},
     "output_type": "execute_result"
    }
   ],
   "source": [
    "substract_one([1,2,3,4,5,6,7,8,9,0])"
   ]
  }
 ],
 "metadata": {
  "kernelspec": {
   "display_name": "Python 3 (ipykernel)",
   "language": "python",
   "name": "python3"
  },
  "language_info": {
   "codemirror_mode": {
    "name": "ipython",
    "version": 3
   },
   "file_extension": ".py",
   "mimetype": "text/x-python",
   "name": "python",
   "nbconvert_exporter": "python",
   "pygments_lexer": "ipython3",
   "version": "3.11.5"
  }
 },
 "nbformat": 4,
 "nbformat_minor": 5
}
