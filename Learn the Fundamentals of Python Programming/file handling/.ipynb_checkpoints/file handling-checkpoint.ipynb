{
 "cells": [
  {
   "cell_type": "markdown",
   "id": "3df3822f",
   "metadata": {},
   "source": [
    "### Creating a file\n",
    "\n",
    "We use the Method __open(parameter)__\n",
    "\n",
    "#### Parameters\n",
    "____\n",
    "\n",
    "`\"x\"` = Create\n",
    "\n",
    "`\"a\"` = Append\n",
    "\n",
    "`\"w\"` = Write\n",
    "\n",
    "`\"r\"` = Reads\n",
    "\n",
    "\n",
    "-----\n",
    "\n",
    "### Methods\n",
    "\n",
    "-----\n",
    "- read()\n",
    "- readlines()\n",
    "- close() - it is good practice to always close your file when you are done with it"
   ]
  },
  {
   "cell_type": "markdown",
   "id": "1388f285",
   "metadata": {},
   "source": [
    "__\"x\"__ will return an error if the file exist"
   ]
  },
  {
   "cell_type": "code",
   "execution_count": null,
   "id": "b4671e47",
   "metadata": {},
   "outputs": [],
   "source": []
  },
  {
   "cell_type": "code",
   "execution_count": 97,
   "id": "e6905e9f",
   "metadata": {},
   "outputs": [],
   "source": [
    "# create a file\n",
    "first = open(\"firstFile.txt\", \"x\")\n",
    "# 'first file.txt' as been created"
   ]
  },
  {
   "cell_type": "code",
   "execution_count": 98,
   "id": "f8d71db2",
   "metadata": {},
   "outputs": [],
   "source": [
    "# close file\n",
    "first.close()"
   ]
  },
  {
   "cell_type": "markdown",
   "id": "c1aeb2f4",
   "metadata": {},
   "source": [
    "__\"a\"__ will create a file if the file doesnt exist\n"
   ]
  },
  {
   "cell_type": "code",
   "execution_count": 99,
   "id": "00843d84",
   "metadata": {},
   "outputs": [],
   "source": [
    "second = open(\"secondFile.txt\", \"a\")"
   ]
  },
  {
   "cell_type": "markdown",
   "id": "3de13445",
   "metadata": {},
   "source": [
    "- \"a\" appends to the very end of the file"
   ]
  },
  {
   "cell_type": "code",
   "execution_count": 100,
   "id": "92ec4e50",
   "metadata": {},
   "outputs": [
    {
     "data": {
      "text/plain": [
       "42"
      ]
     },
     "execution_count": 100,
     "metadata": {},
     "output_type": "execute_result"
    }
   ],
   "source": [
    "second.write(\"This is a file that contains a second text\")"
   ]
  },
  {
   "cell_type": "code",
   "execution_count": null,
   "id": "9575031b",
   "metadata": {},
   "outputs": [],
   "source": []
  },
  {
   "cell_type": "markdown",
   "id": "5f261dd0",
   "metadata": {},
   "source": [
    "__\"r\"__ reads the whole content\n",
    "\n",
    "- __read(char=interger(optional)) Method__ returns the whole content\n",
    "\n",
    "char= any number of characters to read"
   ]
  },
  {
   "cell_type": "code",
   "execution_count": 101,
   "id": "3585ab03",
   "metadata": {},
   "outputs": [
    {
     "data": {
      "text/plain": [
       "'This is a file that contains a second textThis is a file that contains a second text'"
      ]
     },
     "execution_count": 101,
     "metadata": {},
     "output_type": "execute_result"
    }
   ],
   "source": [
    "second = open(\"secondFile.txt\", \"r\")\n",
    "second.read()"
   ]
  },
  {
   "cell_type": "markdown",
   "id": "823f979d",
   "metadata": {},
   "source": [
    "__\"w\"__ will create a file if the file exist\n",
    "\n",
    "- \"w\" overwrites the file content if any exist"
   ]
  },
  {
   "cell_type": "code",
   "execution_count": 102,
   "id": "b04e38d4",
   "metadata": {},
   "outputs": [],
   "source": [
    "second.close()"
   ]
  },
  {
   "cell_type": "code",
   "execution_count": 103,
   "id": "47cc698a",
   "metadata": {},
   "outputs": [],
   "source": [
    "third = open(\"ThirdFile.txt\", \"w\")"
   ]
  },
  {
   "cell_type": "code",
   "execution_count": 104,
   "id": "65cb764d",
   "metadata": {},
   "outputs": [],
   "source": [
    "third.write(\"This is a third trial form jude\")\n",
    "third.close()"
   ]
  },
  {
   "cell_type": "code",
   "execution_count": 105,
   "id": "f9ed66c7",
   "metadata": {},
   "outputs": [
    {
     "data": {
      "text/plain": [
       "'This is a third trial form jude'"
      ]
     },
     "execution_count": 105,
     "metadata": {},
     "output_type": "execute_result"
    }
   ],
   "source": [
    "third = open(\"ThirdFile.txt\", \"r\")\n",
    "third.read()"
   ]
  },
  {
   "cell_type": "code",
   "execution_count": 182,
   "id": "e8931076",
   "metadata": {},
   "outputs": [],
   "source": [
    "third = open(\"ThirdFile.txt\", \"w\")\n",
    "third.write(\"This is a third trial form harley\")\n",
    "third.close()"
   ]
  },
  {
   "cell_type": "code",
   "execution_count": 184,
   "id": "5580394f",
   "metadata": {},
   "outputs": [
    {
     "data": {
      "text/plain": [
       "'This is a third trial form harley'"
      ]
     },
     "execution_count": 184,
     "metadata": {},
     "output_type": "execute_result"
    }
   ],
   "source": [
    "third = open(\"ThirdFile.txt\", \"r\")\n",
    "third.read()"
   ]
  },
  {
   "cell_type": "code",
   "execution_count": 186,
   "id": "252ea8e0",
   "metadata": {},
   "outputs": [],
   "source": [
    "third.close()"
   ]
  },
  {
   "cell_type": "markdown",
   "id": "4d70beea",
   "metadata": {},
   "source": [
    "You would observe that the 'ThirdFile.txt content has been overridden'"
   ]
  },
  {
   "cell_type": "code",
   "execution_count": 190,
   "id": "d057a3f2",
   "metadata": {},
   "outputs": [
    {
     "data": {
      "text/plain": [
       "'Encapsulation is one of the core principles of object-oriented programming (OOP) and plays a crucial role in designing secure, maintainable, and reusable code. In Python, encapsulation refers to the practice of bundling data (attributes) and methods (functions) that operate on that data within a single unit, known as a class. This concept helps to hide the internal implementation details of the class and provides controlled access to its attributes and methods, promoting data protection and code organization.\\n\\nWhy Encapsulation is Important\\n\\nEncapsulation offers several benefits in software development, including:\\n\\nData Protection: Encapsulation safeguards sensitive data by preventing direct access to attributes from outside the class. This helps to prevent unauthorized modifications and ensures that data integrity is maintained.\\n\\nCode Reusability: By encapsulating data and methods within a class, we can create reusable components that can be easily integrated into different parts of the program. This promotes code modularity and reduces redundancy.\\n\\nMaintainability: Encapsulation enhances code maintainability by making it easier to understand and modify individual classes without affecting other parts of the program. This is particularly important for large and complex projects.\\n\\nInformation Hiding: Encapsulation promotes information hiding by restricting access to internal implementation details. This encourages developers to focus on the public interface of the class, making the code more user-friendly and reducing the risk of introducing errors.\\n\\nImplementing Encapsulation in Python\\n\\nEncapsulation in Python is primarily achieved through the use of classes and access modifiers. Classes define blueprints for creating objects, and access modifiers control the visibility of attributes and methods within a class.\\n\\nAccess Modifiers\\n\\nPython does not explicitly enforce access modifiers like other OOP languages, but it follows a naming convention to indicate access levels.\\n\\nPublic Members: Attributes and methods prefixed with an underscore (_) are considered public and can be accessed from both inside and outside the class.\\n\\nProtected Members: Attributes and methods prefixed with two underscores (__) are considered protected and can be accessed from within the class and its subclasses.\\n\\nPrivate Members: Attributes and methods prefixed with a single underscore (_) are considered private and can only be accessed from within the class.\\n'"
      ]
     },
     "execution_count": 190,
     "metadata": {},
     "output_type": "execute_result"
    }
   ],
   "source": [
    "encap = open(\"encapsulation.txt\", \"r\")\n",
    "encap.read()"
   ]
  },
  {
   "cell_type": "markdown",
   "id": "02f95aab",
   "metadata": {},
   "source": [
    "- __readline(x=in)__ Method reads the content, line by line, based on the newline given in the content (\\n)"
   ]
  },
  {
   "cell_type": "code",
   "execution_count": 191,
   "id": "4e0a41bf",
   "metadata": {},
   "outputs": [
    {
     "data": {
      "text/plain": [
       "'Encapsulation is one of the core principles of object-oriented programming (OOP) and plays a crucial role in designing secure, maintainable, and reusable code. In Python, encapsulation refers to the practice of bundling data (attributes) and methods (functions) that operate on that data within a single unit, known as a class. This concept helps to hide the internal implementation details of the class and provides controlled access to its attributes and methods, promoting data protection and code organization.\\n'"
      ]
     },
     "execution_count": 191,
     "metadata": {},
     "output_type": "execute_result"
    }
   ],
   "source": [
    "encap = open(\"encapsulation.txt\", \"r\")\n",
    "encap.readline()"
   ]
  },
  {
   "cell_type": "code",
   "execution_count": 5,
   "id": "8004f54b",
   "metadata": {},
   "outputs": [
    {
     "data": {
      "text/plain": [
       "'Encapsulation is one of the core principles of object-oriented programming (OOP) and plays a crucial'"
      ]
     },
     "execution_count": 5,
     "metadata": {},
     "output_type": "execute_result"
    }
   ],
   "source": [
    "encap = open(\"encapsulation.txt\", \"r\")\n",
    "\n",
    "encap.readline(100)"
   ]
  },
  {
   "cell_type": "code",
   "execution_count": 114,
   "id": "4589366c",
   "metadata": {},
   "outputs": [],
   "source": [
    "#### delete a file\n",
    "# import os\n",
    "# run os.remove(path/filename)\n",
    "# check if file exist"
   ]
  },
  {
   "cell_type": "code",
   "execution_count": null,
   "id": "7ba09387",
   "metadata": {},
   "outputs": [],
   "source": [
    "import os \n",
    "if os.path.exists(filename):\n",
    "    os.remove(filename)\n",
    "else:\n",
    "    print(\"Thie file does not exit\")"
   ]
  }
 ],
 "metadata": {
  "kernelspec": {
   "display_name": "Python 3 (ipykernel)",
   "language": "python",
   "name": "python3"
  },
  "language_info": {
   "codemirror_mode": {
    "name": "ipython",
    "version": 3
   },
   "file_extension": ".py",
   "mimetype": "text/x-python",
   "name": "python",
   "nbconvert_exporter": "python",
   "pygments_lexer": "ipython3",
   "version": "3.11.5"
  }
 },
 "nbformat": 4,
 "nbformat_minor": 5
}
