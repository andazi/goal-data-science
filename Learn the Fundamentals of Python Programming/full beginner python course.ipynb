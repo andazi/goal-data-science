{
 "cells": [
  {
   "cell_type": "markdown",
   "metadata": {
    "colab_type": "text",
    "id": "view-in-github"
   },
   "source": [
    "<a href=\"https://colab.research.google.com/github/andazi/Python-Programming-A-Comprehensive-Guide-for-Beginners/blob/main/learning_python.ipynb\" target=\"_parent\"><img src=\"https://colab.research.google.com/assets/colab-badge.svg\" alt=\"Open In Colab\"/></a>"
   ]
  },
  {
   "cell_type": "markdown",
   "metadata": {},
   "source": [
    "### check out the full code on my github [github](https://github.com/andazi/Python-Programming-A-Comprehensive-Guide-for-Beginners)\n"
   ]
  },
  {
   "cell_type": "markdown",
   "metadata": {
    "id": "tcC3uPjcQBoF"
   },
   "source": [
    "\n",
    "# **Python Programming: A Comprehensive Guide for Beginners**\n",
    "---\n",
    "### **PREREQUISITES**\n",
    "\n",
    "- No prior programming experience required.\n",
    "- Basic computer literacy and familiarity with using a text editor.\n",
    "- A strong willingness to learn and practice programming concepts."
   ]
  },
  {
   "cell_type": "markdown",
   "metadata": {
    "id": "jF4yPNJiNGrJ"
   },
   "source": [
    "\n",
    "\n",
    "## Table of Contents:\n",
    "### 1. Introduction to Python\n",
    "   - Why Python?\n",
    "   - Installing Python\n",
    "   - Running Python Programs\n",
    "   - Comment\n",
    "\n",
    "### 2. Python Basics\n",
    "   - Variables\n",
    "   - Basic Data Types\n",
    "   - Operators and Expressions\n",
    "   - Input and Output\n",
    "   - Control Flow (Conditionals and Loops)\n",
    "\n",
    "### 3. Functions and Modules\n",
    "   - Defining Functions\n",
    "   - Parameters and Return Values\n",
    "   - Modules and Libraries\n",
    "   - Working with External Libraries\n",
    "\n",
    "### 4. Data Structures\n",
    "   - Lists and Tuples\n",
    "   - Dictionaries\n",
    "   - Sets\n",
    "   - Strings and String Manipulation\n",
    "\n",
    "### 5. Object-Oriented Programming\n",
    "   - Introduction to OOP\n",
    "   - Classes and Objects\n",
    "   - Inheritance and Polymorphism\n",
    "   - Encapsulation and Abstraction\n",
    "\n",
    "### 6. File Handling\n",
    "   - Reading and Writing Files\n",
    "   - CSV and JSON Files\n",
    "   - Exception Handling\n",
    "\n",
    "### 7. Advanced Topics\n",
    "   - Regular Expressions\n",
    "   - Lambda Functions\n",
    "   - Decorators\n",
    "   - Generators\n",
    "\n",
    "### 8. Introduction to Data Science and Web Development\n",
    "   - Data Science with Python\n",
    "   - Machine Learning\n",
    "   - Web Development Basics with Python\n",
    "\n",
    "### 9. Final Project\n",
    "   - Applying Python Skills to a Real-World Project\n",
    "\n",
    "Appendices:\n",
    "   - Python Syntax Cheat Sheet [pythoncheatsheet](https://www.pythoncheatsheet.org)\n",
    "   - Additional Resources [freecodecamp](https://www.freecodecamp.org), [w3schools](https://www.w3schools.com/python/default.asp)\n",
    "   - Glossary of Key Terms\n",
    "\n",
    "---\n",
    "Guidelines for Teaching:\n",
    "- Emphasize hands-on practice and coding exercises to reinforce learning.\n",
    "- Use real-world examples and practical projects to engage learners.\n",
    "- Encourage experimentation and problem-solving skills.\n",
    "- Provide step-by-step explanations and code walkthroughs.\n",
    "- Use visual aids such as diagrams and flowcharts to illustrate concepts.\n",
    "---\n",
    "Goals:\n",
    "- Understand the basic principles of programming.\n",
    "- Learn Python syntax and core concepts.\n",
    "- Develop problem-solving skills and logical thinking.\n",
    "- Gain proficiency in writing efficient and readable Python code.\n",
    "- Explore advanced topics and applications of Python.\n",
    "---\n",
    "Notes:\n",
    "- Provide additional explanations and clarifications for complex concepts.\n",
    "- Include tips and common pitfalls to watch out for.\n",
    "- Encourage code documentation and best practices.\n",
    "- Offer insights into industry trends and practical use cases for Python.\n",
    "\n",
    "**Prerequisites:**\n",
    "- No prior programming experience required.\n",
    "- Basic computer literacy and familiarity with using a text editor.\n",
    "- A strong willingness to learn and practice programming concepts."
   ]
  },
  {
   "cell_type": "markdown",
   "metadata": {
    "id": "OPg3QxyPSOLX"
   },
   "source": [
    "# **1. Introduction to Python**\n",
    "---\n",
    "**Why Python?**\n",
    "Python is a popular high level language that offers numerous advantages. It is easy to learn for both children and adults.\n",
    ">*so why in details?*\n",
    "\n",
    "\n",
    "\n",
    "1.   Simplicity and Readability: Python is easy to read and understand. The codes is closer to human speech than any other language.\n",
    "\n",
    "The below code looks easy to understand\n",
    "```\n",
    "print(\"I love Python\")\n",
    "\n",
    "```\n",
    "Result\n",
    "```\n",
    "I love Python\n",
    "```\n",
    "1.   Beginner-Friendly: It is easy for all age groups to understand and begin lifes as a programmer.\n",
    "\n",
    "2.   Versatility: I call python **Jack of all trades** since it can be use in wide range of applications such as data science, machine learning, artificial intelligence, web development and many more.\n",
    "3.   Large Community: Python has a large and active community of developers. so many resources and support for easy coding life.\n",
    "4.   Cross-Platform: Python language can be run on any operating system such as Windows, Linus, Mac and others\n",
    "5.    High Demand and Job Opportunities: This is a language that can be use to do various task and the demand for it is high in the job market. Imagine you automating your daily 9 hours job with just few lines of code or writing a code to predict the stocks values.\n",
    "\n",
    "Overall, python's simplicity, versatility and supportive community make it an excellent choice for programming language to learn or teach since its provides a solid foundation to beginners and empowers learners to explore more.\n",
    "\n",
    "\n",
    "---\n",
    "\n",
    "**Installing Python**\n",
    "\n",
    "- To download Python, you need to visit www.python.org, which is the official Python website.\n",
    "- Download the latest version or a version of your choice based on your system requirement.\n",
    "- Install python\n",
    "---\n",
    "<b>We would be using google colab. You can Watch Introduction to Colab https://www.youtube.com/watch?v=inN8seMm7UI to understand the environment</b> but you can use any IDE that is convinient for you.\n",
    "\n",
    "\n",
    "\n",
    "---\n",
    "\n",
    "\n",
    "\n",
    "**Running Python Programs**\n",
    "\n",
    "We would be running python program by running a simple command.\n",
    "\n",
    "Run the codes below.\n",
    "\n"
   ]
  },
  {
   "cell_type": "code",
   "execution_count": null,
   "metadata": {
    "colab": {
     "base_uri": "https://localhost:8080/"
    },
    "id": "J3U7BnJwP-eR",
    "outputId": "422bc353-e163-4873-8d56-db2118c56ab5"
   },
   "outputs": [
    {
     "name": "stdout",
     "output_type": "stream",
     "text": [
      "Hello, World\n"
     ]
    }
   ],
   "source": [
    "print(\"Hello, World\")"
   ]
  },
  {
   "cell_type": "markdown",
   "metadata": {
    "id": "bOz-DvgmqoE5"
   },
   "source": [
    "**Comment**\n",
    "\n",
    "First below we start coding, let get use to commenting line or intructions\n",
    "\n",
    "A comment in Python is a line of text that is ignored by the Python interpreter. Comments are used to explain the code, provide notes for the programmer, or disable parts of the code without deleting them.\n",
    "\n",
    "\n",
    "To write a comment in Python, start the line with a hash mark (`#`). Everything on the line after the hash mark will be ignored by the Python interpreter.\n",
    "\n",
    "```\n",
    "# assign a code\n",
    "print(\"Hello Earth\")\n",
    "```\n",
    "this returns\n",
    "```\n",
    "> Hello, Earth\n",
    "```\n",
    "check this\n",
    "```\n",
    "my first python code, printing \"Hello Earth\"\n",
    "print(\"Hello Earth\")\n",
    "```\n",
    "This returns and error\n",
    "```\n",
    "> File \"<ipython-input-1-4b0d34c5f954>\", line 1\n",
    "    my first python code, printing \"Hello Earth\"\n",
    "       ^\n",
    "SyntaxError: invalid syntax\n",
    "```\n",
    "But we we comment, the intructions\n",
    "```\n",
    "# my first python code, printing \"Hello Earth\"\n",
    "print(\"Hello Earth\")\n",
    "```\n",
    "This returns\n",
    "```\n",
    "> Hello Earth\n",
    "```"
   ]
  },
  {
   "cell_type": "markdown",
   "metadata": {
    "id": "i2OponCDtPt5"
   },
   "source": [
    "comment the instructions to avoid an errors"
   ]
  },
  {
   "cell_type": "code",
   "execution_count": null,
   "metadata": {
    "id": "8YFmixaWtMRS"
   },
   "outputs": [],
   "source": [
    "Printing my Name\n",
    "print(\"Julius Patya\")"
   ]
  },
  {
   "cell_type": "code",
   "execution_count": null,
   "metadata": {
    "id": "nk9fdzi9toGn"
   },
   "outputs": [],
   "source": [
    "This line will not be executed.\n",
    "print(\"This line will not be executed.\")"
   ]
  },
  {
   "cell_type": "code",
   "execution_count": null,
   "metadata": {
    "id": "XynLivXJs_6N"
   },
   "outputs": [],
   "source": [
    "printing a number\n",
    "print(34)"
   ]
  },
  {
   "cell_type": "markdown",
   "metadata": {
    "id": "6NYwrXWmiUW5"
   },
   "source": [
    "You can be bold and edit some of the codes below and see the results"
   ]
  },
  {
   "cell_type": "code",
   "execution_count": null,
   "metadata": {
    "id": "xlI1qqkqh_zg"
   },
   "outputs": [],
   "source": [
    "# change the number 30 to any other age and then run\n",
    "age = 30\n",
    "\n",
    "if age < 13:\n",
    "    print(\"Hello Baby\")\n",
    "elif age < 20:\n",
    "    print(\"Welcome Teenager\")\n",
    "else:\n",
    "    print(\"Hello Adult\")"
   ]
  },
  {
   "cell_type": "markdown",
   "metadata": {
    "id": "ePcAEbubjPe-"
   },
   "source": [
    "### 2. Python Basics\n",
    "---\n",
    "\n",
    "**Variables and Data Types**\n",
    "\n",
    "*What are variable?*\n",
    "\n",
    "A variable is a container that can be use to store data or values. They can be use to store different types of data. These variables can then be used later in the program.\n",
    "\n",
    "We use the **=** sign to store values to a variable.\n",
    "\n",
    "For example, you can declare a variable named \"`my_name`\" and store the value \"`Andazi Boboye`\" in it:\n",
    "\n",
    "code:\n",
    "```\n",
    "my_name = \"Andazi Boboye\"\n",
    "print(my_name)\n",
    "```\n",
    "result:\n",
    "```\n",
    "Andazi Boboye\n",
    "```"
   ]
  },
  {
   "cell_type": "code",
   "execution_count": null,
   "metadata": {
    "id": "3eI0W0RkpvWu"
   },
   "outputs": [],
   "source": [
    "# we would create a variable called favorite_song and assign it to the string(value) \"Another love by Tom Odell\"\n",
    "# print favorite_song\n",
    "favorite_song = \"Another love by Tom Odell\""
   ]
  },
  {
   "cell_type": "markdown",
   "metadata": {
    "id": "qNeNI6bv5zXy"
   },
   "source": [
    "\n",
    "**Here are some tips for naming variables:**\n",
    "\n",
    "-   Use meaningful names that describe the data that the variable stores. This helps make code more readable and understandable.\n",
    "```\n",
    "# Good variable name\n",
    "name = \"JACK SPARROW\"\n",
    "age = 39\n",
    "is_pirate = True\n",
    "```\n",
    "-   Avoid using special characters or spaces in variable names.\n",
    "```\n",
    "# WRONG VARIABLE NAME\n",
    "first name = \"Andazi Ahmed\"\n",
    "percent% = 100\n",
    "```\n",
    "-   Use underscores to separate words in variable names.\n",
    "```\n",
    "first_name = \"Priya\"\n",
    "last_name = \"Andazi\"\n",
    "student_grades = \"A\"\n",
    "get_access_code = \"23sd89@3SA%$&W\"\n",
    "```\n",
    "-   Start variable names with a lowercase letter.\n",
    "```\n",
    "# wrong case\n",
    "My_name = \"Li Ming\"\n",
    "Age = 23\n",
    "FIRST_NAME = \"Pablo\"\n",
    "```\n",
    "```\n",
    "#correction\n",
    "my_name = \"Li Ming\"\n",
    "age = 23\n",
    "first_name = \"Pablo\"\n",
    "```\n",
    "-    Avoid reserved keywords: A reserved keyword is a word that has a special meaning such as:\n",
    "```\n",
    "and\n",
    "as\n",
    "assert\n",
    "break\n",
    "class\n",
    "continue\n",
    "def\n",
    "del\n",
    "elif\n",
    "else\n",
    "except\n",
    "finally\n",
    "for\n",
    "from\n",
    "global\n",
    "if\n",
    "import\n",
    "in\n",
    "is\n",
    "lambda\n",
    "nonlocal\n",
    "not\n",
    "or\n",
    "pass\n",
    "raise\n",
    "return\n",
    "try\n",
    "while\n",
    "with\n",
    "yield\n",
    "```\n",
    "As we keep coding we would uncover some of them.\n",
    "Dont worry, python would tell you if you are using a reserve keyword or not.\n",
    "\n",
    "Therefore you cant write and run the below codes\n",
    "\n",
    "You can run the code below to see the errors"
   ]
  },
  {
   "cell_type": "markdown",
   "metadata": {
    "id": "PKZSOG_z6RIe"
   },
   "source": [
    "Change the daclaration to `total_yield` and run the below `code`"
   ]
  },
  {
   "cell_type": "code",
   "execution_count": null,
   "metadata": {
    "colab": {
     "base_uri": "https://localhost:8080/",
     "height": 133
    },
    "id": "3xVdmHTQ5-sw",
    "outputId": "bb4c266e-da57-4b1e-9f09-77af4ea2d059"
   },
   "outputs": [
    {
     "ename": "SyntaxError",
     "evalue": "ignored",
     "output_type": "error",
     "traceback": [
      "\u001b[0;36m  File \u001b[0;32m\"<ipython-input-25-39551f6eb3ab>\"\u001b[0;36m, line \u001b[0;32m2\u001b[0m\n\u001b[0;31m    yield = 35\u001b[0m\n\u001b[0m    ^\u001b[0m\n\u001b[0;31mSyntaxError\u001b[0m\u001b[0;31m:\u001b[0m assignment to yield expression not possible\n"
     ]
    }
   ],
   "source": [
    "#reserved keyword\n",
    "yield = 35\n",
    "print(yield)"
   ]
  },
  {
   "cell_type": "markdown",
   "metadata": {
    "id": "D3UnwOtRqdSt"
   },
   "source": [
    "**EXERCISE**"
   ]
  },
  {
   "cell_type": "code",
   "execution_count": null,
   "metadata": {
    "id": "SYYLJu29pVXQ"
   },
   "outputs": [],
   "source": [
    "# edit the cell\n",
    "# declare a variable names birth_year and assign it to value 2000\n",
    "# print birth_year"
   ]
  },
  {
   "cell_type": "code",
   "execution_count": null,
   "metadata": {
    "id": "IpV5yuxkqm7V"
   },
   "outputs": [],
   "source": [
    "# edit the cell\n",
    "# declare a variable names current_year and assign it to value 2023\n",
    "# print current_year"
   ]
  },
  {
   "cell_type": "code",
   "execution_count": null,
   "metadata": {
    "id": "QQqk0hpzqlpy"
   },
   "outputs": [],
   "source": [
    "# edit the cell\n",
    "# declare a variable names best_course and assign it to value \"Python\"\n",
    "# print birth_year"
   ]
  },
  {
   "cell_type": "markdown",
   "metadata": {
    "id": "I91nJ1-YrNij"
   },
   "source": [
    "you should have completed the above exercise\n",
    "\n",
    "_Dont worry if it still confusing, I still reply bonjour to any sentence in my French class_"
   ]
  },
  {
   "cell_type": "markdown",
   "metadata": {
    "id": "iC-SjB8wytgo"
   },
   "source": [
    "---\n",
    "**Basic Data Types**\n",
    "\n",
    "\n",
    "In Python, data types represent the kind of data that can be stored and manipulated in a program. Python has several built-in data types that serve different purposes and allow you to work with various kinds of data. Understanding data types is crucial for writing effective and robust Python programs. Let's explore the commonly used data types:\n",
    "\n",
    "---"
   ]
  },
  {
   "cell_type": "markdown",
   "metadata": {
    "id": "-iXu9xUrxqWz"
   },
   "source": [
    "\n",
    "***Numeric Data Types***\n",
    "- **int**: Represents integer values without any decimal points. For example, `42`, `-10`, `0`.\n",
    "\n"
   ]
  },
  {
   "cell_type": "code",
   "execution_count": null,
   "metadata": {
    "id": "Y-TbadNY88e-"
   },
   "outputs": [],
   "source": [
    "# The below value is an integer\n",
    "age = 18\n",
    "\n",
    "# height in feet\n",
    "height = 6"
   ]
  },
  {
   "cell_type": "markdown",
   "metadata": {
    "id": "Pc2Gh0BD9XVE"
   },
   "source": [
    "**Exercise**"
   ]
  },
  {
   "cell_type": "code",
   "execution_count": null,
   "metadata": {
    "id": "6cxJZXGa9aVt"
   },
   "outputs": [],
   "source": [
    "# Create 10 different integers"
   ]
  },
  {
   "cell_type": "markdown",
   "metadata": {
    "id": "_QHjzjIh81DH"
   },
   "source": [
    "- **float**: Represents floating-point or decimal values with a fractional part. For example, `3.14`, `-0.5`, `2.0`."
   ]
  },
  {
   "cell_type": "code",
   "execution_count": null,
   "metadata": {
    "id": "Ck8pA2oT9O3g"
   },
   "outputs": [],
   "source": [
    "# The below value is an integer\n",
    "ratings = 4.5\n",
    "\n",
    "# height in feet\n",
    "height = 6.2"
   ]
  },
  {
   "cell_type": "markdown",
   "metadata": {
    "id": "iTeQZCBl9hhW"
   },
   "source": [
    "**Exercise**\n"
   ]
  },
  {
   "cell_type": "code",
   "execution_count": null,
   "metadata": {
    "id": "TIxPds1L9ksH"
   },
   "outputs": [],
   "source": [
    "# Create 10 different floats"
   ]
  },
  {
   "cell_type": "markdown",
   "metadata": {
    "id": "y_juYPEUwh1J"
   },
   "source": [
    "\n",
    "***Boolean Data Type***\n",
    "- **bool**: Represents Boolean values that can be either `True` or `False`. Booleans are commonly used in logical operations and conditional statements.\n",
    "\n",
    "Boolean represent when something or a result has to options only.\n",
    "\n",
    "```\n",
    "is_happy = True\n",
    "is_happy = False\n",
    "```\n",
    "They are commonly use in programming to make decisions and control the flow.\n",
    "\n",
    "control the flow, means if a condition is `True` then `do this` else `do that`\n",
    "\n"
   ]
  },
  {
   "cell_type": "code",
   "execution_count": null,
   "metadata": {
    "colab": {
     "base_uri": "https://localhost:8080/"
    },
    "id": "LYi3s5tqzkF1",
    "outputId": "7ecb93e9-4716-4e71-96aa-b7fc5e261251"
   },
   "outputs": [
    {
     "name": "stdout",
     "output_type": "stream",
     "text": [
      "Welcome to Netflix\n"
     ]
    }
   ],
   "source": [
    "# Boolean and controlling the flow\n",
    "# Run the below code\n",
    "is_adult = True\n",
    "if is_adult:\n",
    "    print(\"Welcome to Netflix\")\n",
    "else:\n",
    "    print(\"Please, Enter Parental pin\")"
   ]
  },
  {
   "cell_type": "markdown",
   "metadata": {
    "id": "YQ6PVmWr5gqj"
   },
   "source": [
    "**Exercise**"
   ]
  },
  {
   "cell_type": "code",
   "execution_count": null,
   "metadata": {
    "colab": {
     "base_uri": "https://localhost:8080/"
    },
    "id": "NqF8RhAH0KVF",
    "outputId": "2c2c046f-ed93-45ba-a441-e8a3b751810c"
   },
   "outputs": [
    {
     "name": "stdout",
     "output_type": "stream",
     "text": [
      "You are an adult\n",
      "You need to start paying Tax\n"
     ]
    }
   ],
   "source": [
    "# check this out\n",
    "\n",
    "# assign a value to age\n",
    "# change the value to random values of your choose\n",
    "age = 21\n",
    "\n",
    "#logical flow\n",
    "#checking if age is greater the 17\n",
    "\n",
    "if age > 17:\n",
    "    # do this\n",
    "    print(\"You are an adult\")\n",
    "    print(\"You need to start paying Tax\")\n",
    "else:\n",
    "    print(\"Come take your Allowance for the Week\")"
   ]
  },
  {
   "cell_type": "markdown",
   "metadata": {
    "id": "ZF6L-hEK1C5E"
   },
   "source": [
    "Like we concluded earliar, that `Booleans` can either be `True` or `False`\n",
    "\n",
    "Please note that `True` is not the same as `true` or `TRUE`\n",
    "`False` is not the same as `false` or `false`\n",
    "\n",
    "`True` and `False` is a `boolean`\n",
    "`true`, `TRUE`, `false`, `FALSE` or any form of variation that is not `True` is not a `boolean`\n",
    "\n",
    "---\n"
   ]
  },
  {
   "cell_type": "markdown",
   "metadata": {
    "id": "nPq-56bhxFC5"
   },
   "source": [
    "\n",
    "***Sequence Data Types***\n",
    "- **str**: Represents a sequence of characters enclosed in single quotes (`'`) or double quotes (`\"`). For example, `'Hello'`, `\"Python\"`.\n",
    "\n",
    "A value is a `String` if it is enclose in either single qoute `''`\n",
    "or double qoutes `\"\"`\n",
    "\n",
    "examples:\n",
    "\n",
    "`\"Andazi\"`, `'Andazi'` are both `string`\n",
    "\n",
    "`\"26\"`, `'90.45'`, `'-234.45'` are all strings due to the quotes enclosure\n",
    "\n",
    "just like `26`, `90.45`, `-234.45` are not `Strings`\n"
   ]
  },
  {
   "cell_type": "code",
   "execution_count": null,
   "metadata": {
    "id": "62BW7TLb285k"
   },
   "outputs": [],
   "source": [
    "a = \"23\""
   ]
  },
  {
   "cell_type": "markdown",
   "metadata": {
    "id": "2uIrIHHB44jl"
   },
   "source": [
    "**Exercise**"
   ]
  },
  {
   "cell_type": "code",
   "execution_count": null,
   "metadata": {
    "id": "dPGgwO3H4y8y"
   },
   "outputs": [],
   "source": [
    "# create a 10 diffrent strings"
   ]
  },
  {
   "cell_type": "markdown",
   "metadata": {
    "id": "-11x9aEo2cOd"
   },
   "source": [
    "- **list**: Represents an ordered collection of items enclosed in square brackets (`[]`).\n",
    "\n",
    "Lists can contain elements of different data types and can be modified (mutable). For example, `[1, 2, 'three', True]`."
   ]
  },
  {
   "cell_type": "markdown",
   "metadata": {
    "id": "a5PRZjVA6sCy"
   },
   "source": [
    "Lets create an empty List\n",
    "```\n",
    "names = []\n",
    "```"
   ]
  },
  {
   "cell_type": "code",
   "execution_count": null,
   "metadata": {
    "colab": {
     "base_uri": "https://localhost:8080/"
    },
    "id": "0WrBcQym6ymU",
    "outputId": "714a0998-7a44-4dd4-9fa6-59bfb7e45f8c"
   },
   "outputs": [
    {
     "name": "stdout",
     "output_type": "stream",
     "text": [
      "[]\n"
     ]
    }
   ],
   "source": [
    "# Run the below code\n",
    "names = []\n",
    "print(names)"
   ]
  },
  {
   "cell_type": "markdown",
   "metadata": {
    "id": "-OLz9za668Dk"
   },
   "source": [
    "Creating a List of Strings\n"
   ]
  },
  {
   "cell_type": "code",
   "execution_count": null,
   "metadata": {
    "colab": {
     "base_uri": "https://localhost:8080/"
    },
    "id": "9ngMt86A7c-K",
    "outputId": "5970d67a-b412-4602-f590-017e650a15b9"
   },
   "outputs": [
    {
     "name": "stdout",
     "output_type": "stream",
     "text": [
      "['anna', 'sinla', 'ebimo', 'ebi', 'india', 'maryjane', 'blessing', 'mary', 'precious', 'stella']\n"
     ]
    }
   ],
   "source": [
    "female_names = [\"anna\", \"sinla\", \"ebimo\", \"ebi\", \"india\", \"maryjane\", \"blessing\", \"mary\", \"precious\", \"stella\"]\n",
    "print(female_names)"
   ]
  },
  {
   "cell_type": "code",
   "execution_count": null,
   "metadata": {
    "colab": {
     "base_uri": "https://localhost:8080/"
    },
    "id": "txz63hxT66-E",
    "outputId": "96a3599a-43fe-4f65-d505-04ce894f08e8"
   },
   "outputs": [
    {
     "name": "stdout",
     "output_type": "stream",
     "text": [
      "['Real Madrid', 'FC Barcelona', 'Manchester United', 'Liverpool', 'Paris Saint-Germain', 'FC Bayern Munich', 'Arsenal', 'Tottenham Hotspur', 'Chelsea', 'Juventus', 'Club Atlético de Madrid', 'Borussia Dortmund', 'FC Internazionale Milano', 'AC Milan', 'Manchester City', 'Atlético Madrid', 'Sevilla FC', 'West Ham United', 'SSC Napoli', 'RasenBallsport Leipzig', 'Aston Villa', 'AS Roma', 'Eintracht Frankfurt', 'Everton', 'Olympique de Marseille', 'Valencia CF', 'Benfica', 'Porto', 'Ajax', 'Sporting CP', 'Shakhtar Donetsk', 'Dynamo Kyiv', 'Club América', 'Flamengo', 'Palmeiras', 'Santos', 'River Plate', 'Boca Juniors']\n"
     ]
    }
   ],
   "source": [
    "football_clubs = ['Real Madrid', 'FC Barcelona', 'Manchester United', 'Liverpool', 'Paris Saint-Germain', 'FC Bayern Munich', 'Arsenal', 'Tottenham Hotspur', 'Chelsea', 'Juventus', 'Club Atlético de Madrid', 'Borussia Dortmund', 'FC Internazionale Milano', 'AC Milan', 'Manchester City', 'Atlético Madrid', 'Sevilla FC', 'West Ham United', 'SSC Napoli', 'RasenBallsport Leipzig', 'Aston Villa', 'AS Roma', 'Eintracht Frankfurt', 'Everton', 'Olympique de Marseille', 'Valencia CF', 'Benfica', 'Porto', 'Ajax', 'Sporting CP', 'Shakhtar Donetsk', 'Dynamo Kyiv', 'Club América', 'Flamengo', 'Palmeiras', 'Santos', 'River Plate', 'Boca Juniors']\n",
    "print(football_clubs)"
   ]
  },
  {
   "cell_type": "markdown",
   "metadata": {
    "id": "XJ_2d4NZ8RTv"
   },
   "source": [
    "Creating a List of Numbers"
   ]
  },
  {
   "cell_type": "code",
   "execution_count": null,
   "metadata": {
    "colab": {
     "base_uri": "https://localhost:8080/"
    },
    "id": "g3gOXBRl8B_t",
    "outputId": "18ade51b-b4c0-4f36-d734-72709416bc77"
   },
   "outputs": [
    {
     "name": "stdout",
     "output_type": "stream",
     "text": [
      "[1810, 1867, 1982, 1917, 1943, 1815, 1749, 1975, 1892, 1976, 1968, 1866, 1888, 1920, 1777, 1858, 1911, 1999, 1802, 1904, 1997, 1848, 1993, 1742, 1956, 1790, 1959, 1963, 1952, 1835, 1863, 1957, 1899]\n"
     ]
    }
   ],
   "source": [
    "years = [1810, 1867, 1982, 1917, 1943, 1815, 1749, 1975, 1892, 1976, 1968, 1866, 1888, 1920, 1777, 1858, 1911, 1999, 1802, 1904, 1997, 1848, 1993, 1742, 1956, 1790, 1959, 1963, 1952, 1835, 1863, 1957, 1899]\n",
    "print(years)"
   ]
  },
  {
   "cell_type": "code",
   "execution_count": null,
   "metadata": {
    "colab": {
     "base_uri": "https://localhost:8080/"
    },
    "id": "NYfs2yko8XaE",
    "outputId": "83d77ef6-0dbf-4cdd-f636-074a2ad284d7"
   },
   "outputs": [
    {
     "name": "stdout",
     "output_type": "stream",
     "text": [
      "[1.0, 2.0, 3.0, 4.0, 50.7, 67.3]\n"
     ]
    }
   ],
   "source": [
    "percent = [1.0, 2.0, 3.0, 4.0, 50.7, 67.3]\n",
    "print(percent)"
   ]
  },
  {
   "cell_type": "markdown",
   "metadata": {
    "id": "ZnV5_S3wxL6x"
   },
   "source": [
    "\n",
    "***Mapping Data Type***\n",
    "- **dict**: Represents a collection of key-value pairs enclosed in curly braces (`{}`). Dictionaries are unordered, mutable, and use unique keys to access their values. For example, `{'name': 'John', 'age': 25, 'city': 'New York'}`.\n",
    "\n"
   ]
  },
  {
   "cell_type": "markdown",
   "metadata": {
    "id": "JFHg7ou1xP6z"
   },
   "source": [
    "***Set Data Type***\n",
    "- **set**: Represents an unordered collection of unique elements enclosed in curly braces (`{}`). Sets do not allow duplicate values. For example, `{1, 2, 3, 4, 5}`.\n"
   ]
  },
  {
   "cell_type": "markdown",
   "metadata": {
    "id": "IELY-XARxTKz"
   },
   "source": [
    "\n",
    "***Tuple Data Type***\n",
    "- **tuple**: Represents an ordered collection of elements enclosed in parentheses (`()`). Tuples are similar to lists but are immutable (cannot be modified). For example, `(1, 'two', True)`.\n"
   ]
  },
  {
   "cell_type": "markdown",
   "metadata": {
    "id": "EdmiY07LxV7R"
   },
   "source": [
    "\n",
    "***None Type***\n",
    "- **None**: Represents a special type that indicates the absence of a value or a null value. It is often used to represent variables that don't have a value assigned yet.\n",
    "\n"
   ]
  },
  {
   "cell_type": "markdown",
   "metadata": {
    "id": "wGAbQeTF3mAF"
   },
   "source": [
    "**Checking the datatypes**"
   ]
  },
  {
   "cell_type": "code",
   "execution_count": null,
   "metadata": {
    "id": "Z6gCAYRS3vA8"
   },
   "outputs": [],
   "source": [
    "# Examples of data types\n",
    "my_name = 'John'\n",
    "my_age = 30\n",
    "temperature = 25.5\n",
    "is_raining = True\n",
    "my_list = [1, 2, 3]\n",
    "my_dict = {'name': 'John', 'age': 30}\n",
    "my_set = {1, 2, 3}\n",
    "my_tuple = (1, 'two', True)\n",
    "nothing = None\n",
    "\n"
   ]
  },
  {
   "cell_type": "code",
   "execution_count": null,
   "metadata": {
    "colab": {
     "base_uri": "https://localhost:8080/"
    },
    "id": "pF4IhO4H37xa",
    "outputId": "6cd507fa-074e-4636-c981-cbc3fe665a02"
   },
   "outputs": [
    {
     "data": {
      "text/plain": [
       "str"
      ]
     },
     "execution_count": 36,
     "metadata": {},
     "output_type": "execute_result"
    }
   ],
   "source": [
    "# checking datatypes\n",
    "type(my_name)"
   ]
  },
  {
   "cell_type": "code",
   "execution_count": null,
   "metadata": {
    "colab": {
     "base_uri": "https://localhost:8080/"
    },
    "id": "IWhnnAc7sYMV",
    "outputId": "dd860507-79cc-473d-a03e-8931a921b5a7"
   },
   "outputs": [
    {
     "data": {
      "text/plain": [
       "dict"
      ]
     },
     "execution_count": 37,
     "metadata": {},
     "output_type": "execute_result"
    }
   ],
   "source": [
    "type(my_dict)"
   ]
  },
  {
   "cell_type": "code",
   "execution_count": null,
   "metadata": {
    "colab": {
     "base_uri": "https://localhost:8080/"
    },
    "id": "gXRZ0hyWsbJG",
    "outputId": "5eae3889-3bac-47aa-aa24-155e726f4c11"
   },
   "outputs": [
    {
     "data": {
      "text/plain": [
       "tuple"
      ]
     },
     "execution_count": 38,
     "metadata": {},
     "output_type": "execute_result"
    }
   ],
   "source": [
    "type(my_tuple)"
   ]
  },
  {
   "cell_type": "code",
   "execution_count": null,
   "metadata": {
    "colab": {
     "base_uri": "https://localhost:8080/"
    },
    "id": "MVPkAgqz4Gwl",
    "outputId": "4b432e5f-5cf1-4b0c-8e9c-029a9e6ee612"
   },
   "outputs": [
    {
     "data": {
      "text/plain": [
       "int"
      ]
     },
     "execution_count": 39,
     "metadata": {},
     "output_type": "execute_result"
    }
   ],
   "source": [
    "type(my_age)"
   ]
  },
  {
   "cell_type": "markdown",
   "metadata": {
    "id": "_VGCy3HV0vnP"
   },
   "source": [
    "Exercise\n",
    "\n",
    "Create 3 varialbes for each DataTypes"
   ]
  },
  {
   "cell_type": "markdown",
   "metadata": {
    "id": "vHip2TRk1dvM"
   },
   "source": [
    "**Converting from one DataType to another**\n",
    "\n",
    "We can convert from one data type to another very easily\n",
    "\n",
    "```\n",
    "# Convert from Integer to String\n",
    "age = 24\n",
    "\n",
    "# check the DataType\n",
    "type(age)\n",
    "```\n",
    "Result\n",
    "```\n",
    "int\n",
    "\n",
    "```\n",
    "\n",
    "```\n",
    "# convert to string and reassign to age\n",
    "age = str(age)\n",
    "\n",
    "type(age)\n",
    "```\n",
    "Result\n",
    "```\n",
    "str\n",
    "```"
   ]
  },
  {
   "cell_type": "code",
   "execution_count": null,
   "metadata": {
    "colab": {
     "base_uri": "https://localhost:8080/"
    },
    "id": "DZGAcwBU4aGF",
    "outputId": "3bd1c647-be85-4f31-ac54-d1d8e8bcdbb8"
   },
   "outputs": [
    {
     "name": "stdout",
     "output_type": "stream",
     "text": [
      "28\n",
      "<class 'int'>\n"
     ]
    }
   ],
   "source": [
    "# assigning a variable\n",
    "a = 28\n",
    "\n",
    "#checking\n",
    "print(a)\n",
    "print(type(a))"
   ]
  },
  {
   "cell_type": "code",
   "execution_count": null,
   "metadata": {
    "id": "T3_R57YJ9QPd"
   },
   "outputs": [],
   "source": [
    "# reassigning to a different data\n",
    "b = str(a)\n",
    "\n",
    "#checking\n",
    "print(b)\n",
    "print(type(b))"
   ]
  },
  {
   "cell_type": "code",
   "execution_count": null,
   "metadata": {
    "colab": {
     "base_uri": "https://localhost:8080/"
    },
    "id": "A0-GYAxm-E__",
    "outputId": "91e1de42-adc9-46db-ba6a-ef2d69ab33b0"
   },
   "outputs": [
    {
     "name": "stdout",
     "output_type": "stream",
     "text": [
      "6.11\n",
      "<class 'float'>\n"
     ]
    }
   ],
   "source": [
    "# converting Float to Integer\n",
    "\n",
    "height = 6.11\n",
    "\n",
    "# checking\n",
    "print(height)\n",
    "print(type(height))"
   ]
  },
  {
   "cell_type": "code",
   "execution_count": null,
   "metadata": {
    "colab": {
     "base_uri": "https://localhost:8080/"
    },
    "id": "ZeP55GgH-Wjd",
    "outputId": "e2c24653-546c-4214-ba80-23fccbbf05d1"
   },
   "outputs": [
    {
     "name": "stdout",
     "output_type": "stream",
     "text": [
      "6\n",
      "<class 'int'>\n"
     ]
    }
   ],
   "source": [
    "# reassigning to height but to an Integer DataType\n",
    "\n",
    "height = int(height)\n",
    "\n",
    "# checking\n",
    "print(height)\n",
    "print(type(height))"
   ]
  },
  {
   "cell_type": "markdown",
   "metadata": {
    "id": "qH8rmWkQ-ut2"
   },
   "source": [
    "**note:** converting from Float to Integer, kicks off the decimals"
   ]
  },
  {
   "cell_type": "code",
   "execution_count": null,
   "metadata": {
    "colab": {
     "base_uri": "https://localhost:8080/"
    },
    "id": "7pCsNJYO_BUJ",
    "outputId": "0d3478f0-7c5b-4b8a-e1f0-cb1b0453386c"
   },
   "outputs": [
    {
     "name": "stdout",
     "output_type": "stream",
     "text": [
      "69\n",
      "<class 'int'>\n"
     ]
    }
   ],
   "source": [
    "# converting from Integer to Float\n",
    "\n",
    "time = 69\n",
    "\n",
    "# checking\n",
    "print(time)\n",
    "print(type(time))"
   ]
  },
  {
   "cell_type": "code",
   "execution_count": null,
   "metadata": {
    "colab": {
     "base_uri": "https://localhost:8080/"
    },
    "id": "CDfbITdE_PGa",
    "outputId": "26eb8f9f-45ab-4c90-9afe-17fbaf9ec02d"
   },
   "outputs": [
    {
     "name": "stdout",
     "output_type": "stream",
     "text": [
      "69.0\n",
      "<class 'float'>\n"
     ]
    }
   ],
   "source": [
    "# converting from Integer to Float\n",
    "time = float(time)\n",
    "\n",
    "# checking\n",
    "print(time)\n",
    "print(type(time))"
   ]
  },
  {
   "cell_type": "markdown",
   "metadata": {
    "id": "LgNGHlQmDdSo"
   },
   "source": [
    "**note:** converting from integer to float, adds a `.0` at the end of the integer"
   ]
  },
  {
   "cell_type": "markdown",
   "metadata": {
    "id": "Z1sXaze4GPBN"
   },
   "source": [
    "converting from string to list"
   ]
  },
  {
   "cell_type": "code",
   "execution_count": null,
   "metadata": {
    "colab": {
     "base_uri": "https://localhost:8080/"
    },
    "id": "5AiRkMNtGUsm",
    "outputId": "d80854f9-b504-4229-9286-9e0918162835"
   },
   "outputs": [
    {
     "name": "stdout",
     "output_type": "stream",
     "text": [
      "HELLO, WORLD\n",
      "<class 'str'>\n"
     ]
    }
   ],
   "source": [
    "sentence = 'HELLO, WORLD'\n",
    "\n",
    "# checking\n",
    "print(sentence)\n",
    "print(type(sentence))"
   ]
  },
  {
   "cell_type": "code",
   "execution_count": null,
   "metadata": {
    "colab": {
     "base_uri": "https://localhost:8080/"
    },
    "id": "4ompI_aEGoxH",
    "outputId": "890a8cd8-0cea-4bba-890a-4b963c696984"
   },
   "outputs": [
    {
     "name": "stdout",
     "output_type": "stream",
     "text": [
      "['H', 'E', 'L', 'L', 'O', ',', ' ', 'W', 'O', 'R', 'L', 'D']\n",
      "<class 'list'>\n"
     ]
    }
   ],
   "source": [
    "# converting to list\n",
    "\n",
    "sentence = list(sentence)\n",
    "\n",
    "print(sentence)\n",
    "print(type(sentence))"
   ]
  },
  {
   "cell_type": "markdown",
   "metadata": {
    "id": "Ic-uRBI4HEYI"
   },
   "source": [
    "**note:** converting from string to list, iterates through all the characters in the string including the *white-space* and symbols.\n",
    "\n",
    "But can we convert a number to a List\n",
    "\n",
    "Below code returns an error"
   ]
  },
  {
   "cell_type": "code",
   "execution_count": null,
   "metadata": {
    "id": "tyyAkruUG2mI"
   },
   "outputs": [],
   "source": [
    "weight = 190\n",
    "print(list(weight))"
   ]
  },
  {
   "cell_type": "markdown",
   "metadata": {
    "id": "8LK-4e4LHrbz"
   },
   "source": [
    "To convert a number to List, we first convert the number to string then to list"
   ]
  },
  {
   "cell_type": "code",
   "execution_count": null,
   "metadata": {
    "colab": {
     "base_uri": "https://localhost:8080/"
    },
    "id": "uMQstKx4H02U",
    "outputId": "08b48634-5a86-49e4-871e-30b648bfd070"
   },
   "outputs": [
    {
     "name": "stdout",
     "output_type": "stream",
     "text": [
      "['1', '9', '0']\n",
      "<class 'list'>\n"
     ]
    }
   ],
   "source": [
    "weight = 190\n",
    "\n",
    "# to string\n",
    "weight = str(weight)\n",
    "\n",
    "# to list\n",
    "weight = list(weight)\n",
    "\n",
    "#confirmation\n",
    "\n",
    "print(weight)\n",
    "print(type(weight))"
   ]
  },
  {
   "cell_type": "markdown",
   "metadata": {
    "id": "yvSyRbq-IKGX"
   },
   "source": [
    "**Exercise**\n",
    "\n",
    "Convert from diffrent one Datatype to another DataType\n"
   ]
  },
  {
   "cell_type": "markdown",
   "metadata": {
    "id": "o0XvRiE_xZ6T"
   },
   "source": [
    "\n",
    "***Understanding and utilizing these data types will enable you to work with different kinds of data effectively. Python is a dynamically typed language, which means you don't need to explicitly declare the data type of a variable. The data type is inferred based on the value assigned to the variable.***\n"
   ]
  },
  {
   "cell_type": "markdown",
   "metadata": {
    "id": "ALs0mktmmZys"
   },
   "source": [
    "---\n",
    "\n",
    "**Operators and Expressions**\n",
    "\n",
    "---\n",
    "\n",
    "- Arithematic Operators\n",
    "- Comparison Operators\n",
    "- Logical Operators\n",
    "- Assignment Operators\n",
    "- Membership Operators\n",
    "- Identity Operators\n",
    "- Bitwise Operators"
   ]
  },
  {
   "cell_type": "markdown",
   "metadata": {
    "id": "8Dut0022LVkN"
   },
   "source": [
    "- **Arithematic Operators**\n",
    "\n",
    "These are operators use to perform basic Mathematical Operations. They are,\n",
    "\n",
    "```\n",
    "Addition                    +     Returns the sum of numbers\n",
    "Subtraction                 _     Returns the diffrence with numbers\n",
    "Multiplication              *     Returns the product between numbers\n",
    "Division                    /     Returns the Division of numbers but in Float DataType\n",
    "Floor Division              //    Returns the Division of numbers but in Integer DataType (it kicks off the remainder)\n",
    "Modulus                     %     Returns the remainder of the Division between numbers\n",
    "Exponentiation              **    Returns the a number to the power of the second number\n",
    "```"
   ]
  },
  {
   "cell_type": "markdown",
   "metadata": {
    "id": "31cQSG7mImzq"
   },
   "source": [
    "**Addition**\n",
    "\n",
    "Numbers\n",
    "\n",
    "Adding numbers returns the sum\n",
    "```\n",
    "a = 36\n",
    "b = 33\n",
    "c = a + b\n",
    "print(c)\n",
    "```\n",
    "result\n",
    "```\n",
    "69\n",
    "```"
   ]
  },
  {
   "cell_type": "code",
   "execution_count": null,
   "metadata": {
    "colab": {
     "base_uri": "https://localhost:8080/"
    },
    "id": "nvVfwxrOmdUJ",
    "outputId": "ab452e90-b07e-4494-b542-a6abacd943be"
   },
   "outputs": [
    {
     "name": "stdout",
     "output_type": "stream",
     "text": [
      "48\n",
      "32.5\n"
     ]
    }
   ],
   "source": [
    "print(23 + 25)\n",
    "print(23.5 + 9)"
   ]
  },
  {
   "cell_type": "markdown",
   "metadata": {
    "id": "ilAAMSLYJJsG"
   },
   "source": [
    "Strings\n",
    "\n",
    "The Question is, Can we add strings together? No, we can't but can only join string to another string.\n",
    "\n",
    "This is called **Concatenation**, in short **concat**\n",
    "\n",
    "```\n",
    "first_name = \"Adamu\"\n",
    "last_name = \"Peter\"\n",
    "\n",
    "fullname = first_name + last_name\n",
    "print(fullname)\n",
    "```\n",
    "Result\n",
    "```\n",
    "AdamuPeter\n",
    "```"
   ]
  },
  {
   "cell_type": "code",
   "execution_count": null,
   "metadata": {
    "id": "pb30HCK3J5oK"
   },
   "outputs": [],
   "source": []
  },
  {
   "cell_type": "markdown",
   "metadata": {
    "id": "dW0ZrHURmdx2"
   },
   "source": [
    "\n",
    "**Input and Output**\n",
    "\n",
    "---\n"
   ]
  },
  {
   "cell_type": "code",
   "execution_count": null,
   "metadata": {
    "id": "qIfHXC5Smf2r"
   },
   "outputs": [],
   "source": []
  },
  {
   "cell_type": "markdown",
   "metadata": {
    "id": "yx9CPi5ImgOp"
   },
   "source": [
    "\n",
    "**Control Flow (Conditionals and Loops)**"
   ]
  },
  {
   "cell_type": "markdown",
   "metadata": {
    "id": "L-jNnRnwnZno"
   },
   "source": [
    "**conditional**\n",
    "When we talk about conditonals in  python. We mean our daily activity of `WHAT ACTION SHOULD BE DONE WHEN A CERTAIN CONDITION IS MET`.\n",
    "\n",
    "The most basic syntax for a conditional statement is when there are only the outcomes, **either this or that**\n",
    "\n",
    "```\n",
    "if <condition>:\n",
    "    do this\n",
    "else:\n",
    "    do that\n",
    "```\n",
    "* examples\n",
    "\n"
   ]
  },
  {
   "cell_type": "markdown",
   "metadata": {
    "id": "wajfNLdpJB-h"
   },
   "source": [
    "1.   We want to check is a person is an adult or not\n",
    "\n",
    " - We know an adult's age is 18 and above (**greater than 17**)\n",
    " - A non adult is below 18 (**less than 18**)\n",
    " - so we write\n",
    "\n",
    "```\n",
    "age = 23\n",
    "if age > 17:\n",
    "    print('You are an adult')\n",
    "else:\n",
    "    print('You are not an adult')\n",
    "\n",
    "# take note, any age that is not greater than 17 has to be 17 or lesser\n",
    "```\n",
    "Result\n",
    "```\n",
    "You are an adult\n",
    "```\n"
   ]
  },
  {
   "cell_type": "code",
   "execution_count": 1,
   "metadata": {
    "colab": {
     "base_uri": "https://localhost:8080/"
    },
    "id": "FQt2kn_uFq5V",
    "outputId": "91128bf9-7e62-4208-a1a1-4e03ce5132ec"
   },
   "outputs": [
    {
     "name": "stdout",
     "output_type": "stream",
     "text": [
      "Enter Age: 34\n",
      "You are an adult\n"
     ]
    }
   ],
   "source": [
    "# we would be using the input() function\n",
    "\n",
    "age = input('Enter Age: ')\n",
    "\n",
    "# convert age to an integer and reassign\n",
    "age = int(age)\n",
    "\n",
    "# write your conditon\n",
    "if age > 17:\n",
    "    print('You are an adult')\n",
    "else:\n",
    "    print('You are not an adult')"
   ]
  },
  {
   "cell_type": "code",
   "execution_count": 3,
   "metadata": {
    "colab": {
     "base_uri": "https://localhost:8080/"
    },
    "id": "CBiwgEMPHImw",
    "outputId": "9cb0668c-f2b4-4ec4-ab34-ec2dab5fd155"
   },
   "outputs": [
    {
     "name": "stdout",
     "output_type": "stream",
     "text": [
      "you are license to drive\n"
     ]
    }
   ],
   "source": [
    "# using the age variable in the above cell\n",
    "license_age = 21\n",
    "\n",
    "if age >= 21:\n",
    "    print('you are license to drive')\n",
    "else:\n",
    "    print('Kindly come when you are 21 years old')"
   ]
  },
  {
   "cell_type": "markdown",
   "metadata": {
    "id": "UzeXQjMhIEdk"
   },
   "source": [
    "Another way to write conditional statement is when there are multiple conditons, like\n",
    "\n",
    "```\n",
    "if <condition 1>\n",
    "    do action 1\n",
    "elif <conditon 2>\n",
    "    do action 2\n",
    "elif <condition 3>\n",
    "    do action 3\n",
    "else:\n",
    "    do this\n",
    "```\n",
    "\n",
    "There can be as many conditions as possible\n",
    "\n",
    "examples\n"
   ]
  },
  {
   "cell_type": "markdown",
   "metadata": {
    "id": "rX3nceSJJJku"
   },
   "source": [
    "1. Lets check if a person is a `Baby` or `Pre-Teen` or `Teenager` or `adult` or `Elderly` or `Ancient vampire`\n",
    "\n",
    "- Baby: Birth to 5 years\n",
    "- Pre-Teen: 6 to 12 years\n",
    "- Teenager: 13 to 19 years\n",
    "- Young adulthood: 18 to 64 years\n",
    "- Elderly: 65 years and older\n",
    "- Ancient Vampire: 200 years above\n",
    "\n",
    "```\n",
    "# we can start by writing it backwards\n",
    "\n",
    "age = 100\n",
    "\n",
    "if age <= 5:\n",
    "  print(\"You are a baby.\")\n",
    "elif age <= 12:\n",
    "  print(\"You are a pre-teen.\")\n",
    "elif age <= 19:\n",
    "  print(\"You are a teenager.\")\n",
    "elif age <= 64:\n",
    "  print(\"You are a young adult.\")\n",
    "elif age <= 200:\n",
    "  print(\"You are an Elderly.\")\n",
    "else:\n",
    "  print(\"You are an ancient vampire.\")\n",
    "```\n",
    "Result\n",
    "```\n",
    "You are an Elderly\n",
    "\n",
    "```"
   ]
  },
  {
   "cell_type": "code",
   "execution_count": 4,
   "metadata": {
    "colab": {
     "base_uri": "https://localhost:8080/"
    },
    "id": "a0f0U1JvM13n",
    "outputId": "801e6114-e079-49d3-b838-e48d704bba1b"
   },
   "outputs": [
    {
     "name": "stdout",
     "output_type": "stream",
     "text": [
      "You are a young adult.\n"
     ]
    }
   ],
   "source": [
    "# still using the above age varible\n",
    "# You can go ahead and assign a diffrent value to age\n",
    "if age <= 5:\n",
    "    print(\"You are a baby.\")\n",
    "elif age <= 12:\n",
    "    print(\"You are a pre-teen.\")\n",
    "elif age <= 19:\n",
    "    print(\"You are a teenager.\")\n",
    "elif age <= 64:\n",
    "    print(\"You are a young adult.\")\n",
    "elif age <= 200:\n",
    "    print(\"You are an Elderly.\")\n",
    "else:\n",
    "    print(\"You are an ancient vampire.\")"
   ]
  },
  {
   "cell_type": "markdown",
   "metadata": {
    "id": "GLO-g6W4NNt5"
   },
   "source": [
    "Please note that, `else` means all the other conditions could not be meant, so do me"
   ]
  },
  {
   "cell_type": "markdown",
   "metadata": {
    "id": "D7U7vmpdNamt"
   },
   "source": [
    "**List comprehension**\n",
    "Allows us to create a list with one line of code from a given data\n",
    "\n",
    "\n",
    "```\n",
    "basic list\n",
    "\n",
    "list_result = [transform iteration]\n",
    "\n",
    "double_num = [i * 2 for i in numbers]\n",
    "\n",
    "print(double_num)\n",
    "\n",
    "```\n",
    "Result\n",
    "```\n",
    "[46, 24, 90, 132, 180, 24, 86]\n",
    "```\n",
    "```\n",
    "Further  List comprehension\n",
    "\n",
    "list_result = [transform iteration condition]\n",
    "\n",
    "even = [num for num in numbers if num % 2 == 0]\n",
    "print(even)\n",
    "```\n",
    "Result\n",
    "```\n",
    "[12, 66, 90, 12]\n",
    "```"
   ]
  },
  {
   "cell_type": "code",
   "execution_count": 1,
   "metadata": {},
   "outputs": [],
   "source": [
    "numbers = [23,12,45,66,90,12,43]"
   ]
  },
  {
   "cell_type": "code",
   "execution_count": 3,
   "metadata": {},
   "outputs": [
    {
     "name": "stdout",
     "output_type": "stream",
     "text": [
      "[46, 24, 90, 132, 180, 24, 86]\n"
     ]
    }
   ],
   "source": [
    "# basic \n",
    "# iterating through and multiplying it by 2\n",
    "\n",
    "numbers_by_2 = []\n",
    "\n",
    "for i in numbers:\n",
    "    numbers_by_2.append(i * 2)\n",
    "\n",
    "print(numbers_by_2)"
   ]
  },
  {
   "cell_type": "code",
   "execution_count": 4,
   "metadata": {},
   "outputs": [
    {
     "name": "stdout",
     "output_type": "stream",
     "text": [
      "[46, 24, 90, 132, 180, 24, 86]\n"
     ]
    }
   ],
   "source": [
    "# list comprehension\n",
    "\n",
    "numbers_by_2_list = [i * 2 for i in numbers]\n",
    "\n",
    "print(numbers_by_2_list)"
   ]
  },
  {
   "cell_type": "markdown",
   "metadata": {},
   "source": [
    "##### Adding a condition to list comprehension"
   ]
  },
  {
   "cell_type": "code",
   "execution_count": 5,
   "metadata": {},
   "outputs": [
    {
     "name": "stdout",
     "output_type": "stream",
     "text": [
      "[12, 66, 90, 12]\n"
     ]
    }
   ],
   "source": [
    "# basic\n",
    "even_num = []\n",
    "for i in numbers:\n",
    "    if i % 2 == 0:\n",
    "        even_num.append(i)\n",
    "print(even_num)"
   ]
  },
  {
   "cell_type": "code",
   "execution_count": null,
   "metadata": {
    "colab": {
     "base_uri": "https://localhost:8080/"
    },
    "id": "FNv8fzcSNhoo",
    "outputId": "86412223-0bc9-4652-9549-1c179d5829fd"
   },
   "outputs": [
    {
     "name": "stdout",
     "output_type": "stream",
     "text": [
      "[12, 66, 90, 12]\n"
     ]
    }
   ],
   "source": [
    "# with list comprehension\n",
    "even = [num for num in numbers if num % 2 == 0]\n",
    "print(even)"
   ]
  },
  {
   "cell_type": "markdown",
   "metadata": {},
   "source": [
    "##### Dictionary Comprehension\n",
    "\n",
    "make use of key value pairing where the value is the comprehension and the key is the assign variable.\n"
   ]
  },
  {
   "cell_type": "code",
   "execution_count": 61,
   "metadata": {},
   "outputs": [
    {
     "name": "stdout",
     "output_type": "stream",
     "text": [
      "{1: 1, 2: 4, 3: 9, 4: 16, 5: 25, 6: 36, 7: 49, 8: 64, 9: 81}\n"
     ]
    }
   ],
   "source": [
    "numbers = [1,2,3,4,5,6,7,8,9]\n",
    "\n",
    "squares = {num : num ** 2 for num in numbers}\n",
    "\n",
    "print(squares)"
   ]
  },
  {
   "cell_type": "code",
   "execution_count": 63,
   "metadata": {},
   "outputs": [
    {
     "name": "stdout",
     "output_type": "stream",
     "text": [
      "{'beans': 5, 'meat': 4, 'pawpaw': 6, 'avocado': 7, 'shrimp': 6}\n"
     ]
    }
   ],
   "source": [
    "# length of strings\n",
    "\n",
    "items = ['beans', 'meat', 'pawpaw', 'avocado', 'shrimp']\n",
    "\n",
    "len_items = {val: len(val) for val in items}\n",
    "\n",
    "print(len_items)"
   ]
  },
  {
   "cell_type": "code",
   "execution_count": null,
   "metadata": {},
   "outputs": [],
   "source": []
  },
  {
   "cell_type": "markdown",
   "metadata": {
    "id": "hgGEf6CrYtJ5"
   },
   "source": [
    "## 3. Functions and Modules"
   ]
  },
  {
   "cell_type": "markdown",
   "metadata": {
    "id": "wJhcm0zsdrWT"
   },
   "source": [
    "**Functions within a Function**"
   ]
  },
  {
   "cell_type": "code",
   "execution_count": 64,
   "metadata": {
    "id": "zl8RVK2SYxTR"
   },
   "outputs": [],
   "source": [
    "#  score grading\n",
    "def get_grade(score):\n",
    "    grades = \"\"\n",
    "    if score >= 90:\n",
    "        grades = \"A\"\n",
    "    elif score >= 80:\n",
    "        grades = \"B\"\n",
    "    elif score >= 70:\n",
    "        grades = \"C\"\n",
    "    elif score >= 60:\n",
    "        grades = \"D\"\n",
    "    else:\n",
    "        grades = \"F\"\n",
    "    return grades"
   ]
  },
  {
   "cell_type": "code",
   "execution_count": 66,
   "metadata": {},
   "outputs": [
    {
     "data": {
      "text/plain": [
       "'F'"
      ]
     },
     "execution_count": 66,
     "metadata": {},
     "output_type": "execute_result"
    }
   ],
   "source": [
    "get_grade(10)"
   ]
  },
  {
   "cell_type": "code",
   "execution_count": 67,
   "metadata": {},
   "outputs": [
    {
     "data": {
      "text/plain": [
       "'A'"
      ]
     },
     "execution_count": 67,
     "metadata": {},
     "output_type": "execute_result"
    }
   ],
   "source": [
    "get_grade(99)"
   ]
  },
  {
   "cell_type": "code",
   "execution_count": 69,
   "metadata": {
    "id": "zl8RVK2SYxTR"
   },
   "outputs": [],
   "source": [
    "def get_grades(math, english, science, art):\n",
    "    math_grade = get_grade(math) # get_grade(99)\n",
    "    english_grade = get_grade(english)\n",
    "    science_grade = get_grade(science)\n",
    "    art_grade = get_grade(art)\n",
    "    \n",
    "    avg = (math + english + science + art) / 4\n",
    "\n",
    "    report =  f'''\n",
    "    math    : {math_grade}\n",
    "    english : {english_grade}\n",
    "    science : {science_grade}\n",
    "    art     : {art_grade}\n",
    "    \n",
    "    Average score is {avg}\n",
    "    '''\n",
    "\n",
    "    print(report)\n",
    "    #return report"
   ]
  },
  {
   "cell_type": "code",
   "execution_count": 70,
   "metadata": {
    "colab": {
     "base_uri": "https://localhost:8080/"
    },
    "id": "TQF0q0CZZq-g",
    "outputId": "a782c36e-e21f-45a6-b765-2d2a21c71f6f"
   },
   "outputs": [
    {
     "name": "stdout",
     "output_type": "stream",
     "text": [
      "\n",
      "    math    : A\n",
      "    english : D\n",
      "    science : A\n",
      "    art     : C\n",
      "    \n",
      "    Average score is 82.0\n",
      "    \n"
     ]
    }
   ],
   "source": [
    "get_grades(99, 61, 98, 70)"
   ]
  },
  {
   "cell_type": "code",
   "execution_count": 1,
   "metadata": {
    "id": "MK0LhQnLZ355"
   },
   "outputs": [],
   "source": [
    "# fake millitary requirement\n",
    "\n",
    "# checking physical status\n",
    "def male_physical(height, weight):\n",
    "  msg = \"Your Passed the Physical Test\"\n",
    "  if height >= 1.67 and weight >= 80 or weight <= 110:\n",
    "    return msg\n",
    "  else:\n",
    "    return \"You failed the requirement\"\n",
    "\n",
    "def female_physical(height, weight):\n",
    "  msg = \"Your Passed the Physical Test\"\n",
    "  if height >= 1.53 and weight in range(40, 71):\n",
    "    return msg\n",
    "  else:\n",
    "    return \"You failed the requirement\"\n",
    "\n",
    "\n",
    "# checking sex status\n",
    "def physical_status(sex, height, weight):\n",
    "  #converting arguments to lowercase\n",
    "  sex = sex.lower()\n",
    "  if sex == 'male':\n",
    "    return male_physical(height, weight)\n",
    "  elif sex == 'female':\n",
    "    return female_physical(height, weight)\n",
    "  else:\n",
    "    return 'Sorry, We do not understand your Sex Status'\n"
   ]
  },
  {
   "cell_type": "code",
   "execution_count": 2,
   "metadata": {
    "colab": {
     "base_uri": "https://localhost:8080/",
     "height": 35
    },
    "id": "83Q-_8-wdcD7",
    "outputId": "5a4267db-afa7-41d3-ff0a-baaa8461377d"
   },
   "outputs": [
    {
     "data": {
      "text/plain": [
       "'Your Passed the Physical Test'"
      ]
     },
     "execution_count": 2,
     "metadata": {},
     "output_type": "execute_result"
    }
   ],
   "source": [
    "physical_status(\"female\", 1.70, 59)"
   ]
  },
  {
   "cell_type": "markdown",
   "metadata": {},
   "source": [
    "### 5. Object-Oriented Program"
   ]
  },
  {
   "cell_type": "markdown",
   "metadata": {},
   "source": [
    "####  Class\n",
    "\n",
    "Class is like a __blueprint__ of a building.\n",
    "\n",
    "We create __objects__ from classes and its flexible in its nature.\n",
    "\n",
    "Just imagine trying to create a company car collection showcasing the car name,color, model, engine, horsepower, made, type and others.\n",
    "\n",
    "We can create a class having those properties to which we can keep creating different collection list without breaking the code and making it clean.\n",
    "\n",
    "a class would have \n",
    "\n",
    "- name,color,year,....\n",
    "\n",
    "while an object would be \n",
    "- Tesla, black, 2023,....\n",
    "- Toyota, Green, 2009,....\n",
    "- Honda, White, 2022,....\n",
    "\n",
    "__you would notice the car collection(objects) is build on the blueprint(class)__"
   ]
  },
  {
   "cell_type": "markdown",
   "metadata": {},
   "source": [
    "#### Creating a class"
   ]
  },
  {
   "cell_type": "code",
   "execution_count": 6,
   "metadata": {},
   "outputs": [],
   "source": [
    "class Car0:\n",
    "    pass"
   ]
  },
  {
   "cell_type": "markdown",
   "metadata": {},
   "source": [
    "#### Instance\n",
    "\n",
    "an instance creates an bject from the class and stores it in a variable name"
   ]
  },
  {
   "cell_type": "markdown",
   "metadata": {},
   "source": [
    "#### creating instance"
   ]
  },
  {
   "cell_type": "code",
   "execution_count": null,
   "metadata": {},
   "outputs": [],
   "source": [
    "tesla = Car0() # instance"
   ]
  },
  {
   "cell_type": "code",
   "execution_count": 7,
   "metadata": {},
   "outputs": [],
   "source": [
    "toyota = Car0() # instance"
   ]
  },
  {
   "cell_type": "markdown",
   "metadata": {},
   "source": [
    "__initialization__\n",
    "\n",
    "`__init__ Method`\n",
    "\n",
    "When ever an object is called, the init method is run automatically\n",
    "\n",
    "```\n",
    "def __init__(self):\n",
    "```\n",
    "\n",
    "__self__ keyword means the current instance"
   ]
  },
  {
   "cell_type": "code",
   "execution_count": 10,
   "metadata": {},
   "outputs": [],
   "source": [
    "class Car1:\n",
    "    # define the init method => to start something\n",
    "    def __init__(self):\n",
    "        print('A car Object is created!')"
   ]
  },
  {
   "cell_type": "code",
   "execution_count": 11,
   "metadata": {},
   "outputs": [
    {
     "name": "stdout",
     "output_type": "stream",
     "text": [
      "A car Object is created!\n"
     ]
    }
   ],
   "source": [
    "spongeCar = Car1() # creates an instance of the Car class and stores it in newCar1"
   ]
  },
  {
   "cell_type": "markdown",
   "metadata": {},
   "source": [
    "#### confirming type"
   ]
  },
  {
   "cell_type": "code",
   "execution_count": 13,
   "metadata": {},
   "outputs": [
    {
     "data": {
      "text/plain": [
       "__main__.Car1"
      ]
     },
     "execution_count": 13,
     "metadata": {},
     "output_type": "execute_result"
    }
   ],
   "source": [
    "type(spongeCar)"
   ]
  },
  {
   "cell_type": "markdown",
   "metadata": {},
   "source": [
    "#### working with attribute\n",
    "\n",
    "We use the `.self` to give it attribute"
   ]
  },
  {
   "cell_type": "code",
   "execution_count": 14,
   "metadata": {},
   "outputs": [],
   "source": [
    "# model,color, size, fuel type, fuel capacity\n",
    "\n",
    "class Car2:\n",
    "    # define the init method => to start your model\n",
    "    def __init__(self):\n",
    "        self.model = 'Tesla'\n",
    "        self.color = 'Matte'\n",
    "        self.size = 1000\n",
    "        self.fuel_type = 'Electric'\n",
    "        self.fuel_capacity = 10000"
   ]
  },
  {
   "cell_type": "code",
   "execution_count": 15,
   "metadata": {},
   "outputs": [],
   "source": [
    "newCar2 = Car2()"
   ]
  },
  {
   "cell_type": "code",
   "execution_count": 17,
   "metadata": {},
   "outputs": [
    {
     "name": "stdout",
     "output_type": "stream",
     "text": [
      "Electric\n"
     ]
    }
   ],
   "source": [
    "print(newCar2.fuel_type)"
   ]
  },
  {
   "cell_type": "markdown",
   "metadata": {},
   "source": [
    "Lets call an attribute that does not exist\n",
    "\n",
    "__AttributeError: 'Car2' object has no attribute `height`__"
   ]
  },
  {
   "cell_type": "code",
   "execution_count": 18,
   "metadata": {},
   "outputs": [
    {
     "ename": "AttributeError",
     "evalue": "'Car2' object has no attribute 'height'",
     "output_type": "error",
     "traceback": [
      "\u001b[0;31m---------------------------------------------------------------------------\u001b[0m",
      "\u001b[0;31mAttributeError\u001b[0m                            Traceback (most recent call last)",
      "Cell \u001b[0;32mIn[18], line 1\u001b[0m\n\u001b[0;32m----> 1\u001b[0m \u001b[38;5;28mprint\u001b[39m(newCar2\u001b[38;5;241m.\u001b[39mheight)\n",
      "\u001b[0;31mAttributeError\u001b[0m: 'Car2' object has no attribute 'height'"
     ]
    }
   ],
   "source": [
    "print(newCar2.height)"
   ]
  },
  {
   "cell_type": "code",
   "execution_count": 19,
   "metadata": {},
   "outputs": [],
   "source": [
    "#### Method"
   ]
  },
  {
   "cell_type": "code",
   "execution_count": 20,
   "metadata": {
    "id": "_b83mWe0ddrk"
   },
   "outputs": [],
   "source": [
    "class Car3:\n",
    "    # define the init method => to start something\n",
    "    def __init__(self):\n",
    "        self.model = 'Tesla'\n",
    "        self.color = 'Matte'\n",
    "        self.size = 1000\n",
    "        self.fuel_type = 'Electric'\n",
    "        self.fuel_capacity = 10000\n",
    "        \n",
    "    def intro(self):\n",
    "        self.greet = f'I am {self.model}, The best among the best.....'\n",
    "        print(self.greet)   \n",
    "    def carColor(self):\n",
    "        print('My color is', self.color)\n",
    "        \n",
    "    # method that can modify our attribute\n",
    "    def fuel_used(self, fuelAmount):\n",
    "        self.fuel_capacity -= fuelAmount\n",
    "        \n",
    "        \n",
    "newCar3 = Car3()"
   ]
  },
  {
   "cell_type": "code",
   "execution_count": 21,
   "metadata": {},
   "outputs": [
    {
     "name": "stdout",
     "output_type": "stream",
     "text": [
      "I am Tesla, The best among the best.....\n"
     ]
    }
   ],
   "source": [
    "newCar3.intro()"
   ]
  },
  {
   "cell_type": "code",
   "execution_count": 22,
   "metadata": {},
   "outputs": [
    {
     "name": "stdout",
     "output_type": "stream",
     "text": [
      "My color is Matte\n"
     ]
    }
   ],
   "source": [
    "newCar3.carColor()"
   ]
  },
  {
   "cell_type": "code",
   "execution_count": 23,
   "metadata": {},
   "outputs": [
    {
     "data": {
      "text/plain": [
       "10000"
      ]
     },
     "execution_count": 23,
     "metadata": {},
     "output_type": "execute_result"
    }
   ],
   "source": [
    "newCar3.fuel_capacity"
   ]
  },
  {
   "cell_type": "code",
   "execution_count": 24,
   "metadata": {},
   "outputs": [],
   "source": [
    "newCar3.fuel_used(2500)"
   ]
  },
  {
   "cell_type": "code",
   "execution_count": 26,
   "metadata": {},
   "outputs": [
    {
     "data": {
      "text/plain": [
       "7500"
      ]
     },
     "execution_count": 26,
     "metadata": {},
     "output_type": "execute_result"
    }
   ],
   "source": [
    "newCar3.fuel_capacity"
   ]
  },
  {
   "cell_type": "markdown",
   "metadata": {},
   "source": [
    "#### instance variable"
   ]
  },
  {
   "cell_type": "code",
   "execution_count": 28,
   "metadata": {},
   "outputs": [],
   "source": [
    "class Car:\n",
    "    \n",
    "    def __init__(self,model,color,fuel_capacity):\n",
    "        self.model = model\n",
    "        self.color =color\n",
    "        self.fuel_capacity = fuel_capacity\n",
    "        \n",
    "    def intro(self):\n",
    "        self.greet = f'I am {self.model}, The best among the best.....'\n",
    "        print(self.greet)\n",
    "            \n",
    "    def carColor(self):\n",
    "        print('My color is', self.color)\n",
    "        \n",
    "    # method that can modify our attribute\n",
    "    def fuel_used(self, fuelAmount = 0):\n",
    "        self.fuel_capacity -= fuelAmount"
   ]
  },
  {
   "cell_type": "code",
   "execution_count": 29,
   "metadata": {},
   "outputs": [],
   "source": [
    "bmw = Car('BMW', 'Blue', 50000)"
   ]
  },
  {
   "cell_type": "code",
   "execution_count": 30,
   "metadata": {},
   "outputs": [],
   "source": [
    "tesla = Car('Tesla', 'Matte Black', 20000)"
   ]
  },
  {
   "cell_type": "code",
   "execution_count": 31,
   "metadata": {},
   "outputs": [
    {
     "name": "stdout",
     "output_type": "stream",
     "text": [
      "I am BMW, The best among the best.....\n"
     ]
    }
   ],
   "source": [
    "bmw.intro()"
   ]
  },
  {
   "cell_type": "code",
   "execution_count": 32,
   "metadata": {},
   "outputs": [
    {
     "name": "stdout",
     "output_type": "stream",
     "text": [
      "I am Tesla, The best among the best.....\n"
     ]
    }
   ],
   "source": [
    "tesla.intro()"
   ]
  },
  {
   "cell_type": "markdown",
   "metadata": {},
   "source": [
    "#### Magic Method\n",
    "\n",
    "These are the underlying of classes such as `__init__`. We also have `__str__` which returns string"
   ]
  },
  {
   "cell_type": "code",
   "execution_count": 33,
   "metadata": {},
   "outputs": [
    {
     "name": "stdout",
     "output_type": "stream",
     "text": [
      "<__main__.Cat object at 0x7f40c8284890>\n"
     ]
    }
   ],
   "source": [
    "class Cat:\n",
    "    def __init__(self,name):\n",
    "        self.name = name\n",
    "    def intro(self):\n",
    "        return f\"I am {self.name} from the planet of meowary\"\n",
    "\n",
    "    \n",
    "sam = Cat('Sam')\n",
    "print(sam)"
   ]
  },
  {
   "cell_type": "code",
   "execution_count": 34,
   "metadata": {},
   "outputs": [
    {
     "name": "stdout",
     "output_type": "stream",
     "text": [
      "I am Sam from the planet of meowary\n"
     ]
    }
   ],
   "source": [
    "class Cat:\n",
    "    def __init__(self,name):\n",
    "        self.name = name\n",
    "    def __str__(self):\n",
    "        return f\"I am {self.name} from the planet of meowary\"\n",
    "\n",
    "    \n",
    "sam = Cat('Sam')\n",
    "print(sam)"
   ]
  },
  {
   "cell_type": "markdown",
   "metadata": {},
   "source": [
    "`__str__` return a string rather than just the memory address"
   ]
  },
  {
   "cell_type": "code",
   "execution_count": 36,
   "metadata": {},
   "outputs": [
    {
     "data": {
      "text/plain": [
       "'feline'"
      ]
     },
     "execution_count": 36,
     "metadata": {},
     "output_type": "execute_result"
    }
   ],
   "source": [
    "class Animal:\n",
    "    def __init__(self):\n",
    "        self.species = 'unknown'\n",
    "    def __str__(self):\n",
    "        return self.species\n",
    "    def getSpecies(self):\n",
    "        return self.species\n",
    "    def setSpecies(self,species):\n",
    "        self.species = species\n",
    "        return species\n",
    "    \n",
    "\n",
    "lion = Animal()\n",
    "lion.setSpecies('feline')\n",
    "lion.getSpecies()"
   ]
  },
  {
   "cell_type": "code",
   "execution_count": null,
   "metadata": {},
   "outputs": [],
   "source": [
    "class Person:\n",
    "    def __init__(self):\n",
    "        self.age = 0\n",
    "    def setAge(self,age):\n",
    "        self.age = age\n",
    "    def getAge(self):\n",
    "        return f'You are {self.age} Years old'\n",
    "\n",
    "james = Person()"
   ]
  },
  {
   "cell_type": "code",
   "execution_count": null,
   "metadata": {},
   "outputs": [],
   "source": [
    "james.setAge(20)"
   ]
  },
  {
   "cell_type": "code",
   "execution_count": null,
   "metadata": {},
   "outputs": [],
   "source": [
    "print(james.getAge())"
   ]
  },
  {
   "cell_type": "markdown",
   "metadata": {},
   "source": [
    "#### Inheritance\n",
    "This allows for reusable methods for other class.\n",
    "\n",
    "Imagine Two or more classes inheriting the some or all the methods from a __superclass__.\n",
    "\n",
    "```\n",
    "class Animal:\n",
    "    def makeSound(self):\n",
    "        print('Hello in parrotish')\n",
    "\n",
    "class Parrot(Animal):\n",
    "     def legs(self):\n",
    "         print(2)\n",
    "         \n",
    "bud = Parrot() # bud is a parrot\n",
    "bud.makeSound() #  prints 'Hello in parrotish'\n",
    "```"
   ]
  },
  {
   "cell_type": "code",
   "execution_count": null,
   "metadata": {},
   "outputs": [],
   "source": [
    "class Animal: # superclass\n",
    "    def makeSound(self):\n",
    "        print('Hello in parrotish')\n",
    "\n",
    "class Parrot(Animal): # subclass\n",
    "     def legs(self):\n",
    "        print(2)\n",
    "         \n",
    "bud = Parrot() # bud is a parrot\n",
    "# notice we did not add the makeSound() Method to Parrot\n",
    "bud.makeSound() #  prints 'Hello in parrotish'"
   ]
  },
  {
   "cell_type": "markdown",
   "metadata": {},
   "source": [
    "#### super() Method\n",
    "\n",
    "Let say we want to make use of the Attributtes Defined in the __Super Class__,\n",
    "\n",
    "```\n",
    "class Animal():\n",
    "    def __init__(self,species):\n",
    "        self.species = species\n",
    "        \n",
    "class Dog(Animal):\n",
    "    def __init__(self, species, breed):\n",
    "        self.breed = breed\n",
    "        super().__init__(species)\n",
    "        \n",
    "white = Dog('Canine','bud')\n",
    "sam.species\n",
    "```"
   ]
  },
  {
   "cell_type": "code",
   "execution_count": 41,
   "metadata": {},
   "outputs": [],
   "source": [
    "class Animal:\n",
    "    def __init__(self,species):\n",
    "        self.species = species\n",
    "        \n",
    "class Dog(Animal):\n",
    "    def __init__(self, species, breed):\n",
    "        self.breed = breed\n",
    "        super().__init__(species)\n",
    "        \n",
    "class Vehicle:\n",
    "    def __init__(self,model):\n",
    "        self.model = model\n",
    "        \n",
    "white = Dog('Canine','bud')\n",
    "\n",
    "black = Vehicle('Tesla')"
   ]
  },
  {
   "cell_type": "markdown",
   "metadata": {},
   "source": [
    "#### checking if an object is an istance of a class\n",
    "\n",
    "`isinstance(obj, class)`"
   ]
  },
  {
   "cell_type": "code",
   "execution_count": 42,
   "metadata": {},
   "outputs": [
    {
     "data": {
      "text/plain": [
       "True"
      ]
     },
     "execution_count": 42,
     "metadata": {},
     "output_type": "execute_result"
    }
   ],
   "source": [
    "# check if the object white is an instance of class Dog\n",
    "isinstance(white, Dog)"
   ]
  },
  {
   "cell_type": "code",
   "execution_count": 43,
   "metadata": {},
   "outputs": [
    {
     "data": {
      "text/plain": [
       "True"
      ]
     },
     "execution_count": 43,
     "metadata": {},
     "output_type": "execute_result"
    }
   ],
   "source": [
    "# check if the object white is an instance of class Parent Class, Animal\n",
    "isinstance(white, Animal)"
   ]
  },
  {
   "cell_type": "code",
   "execution_count": 44,
   "metadata": {},
   "outputs": [
    {
     "data": {
      "text/plain": [
       "False"
      ]
     },
     "execution_count": 44,
     "metadata": {},
     "output_type": "execute_result"
    }
   ],
   "source": [
    "# object black is not an instance of Dog\n",
    "isinstance(black,Dog)"
   ]
  },
  {
   "cell_type": "markdown",
   "metadata": {},
   "source": [
    "### Encapsulation\n",
    "\n",
    "This involves restricting the access components with an object, which is private or protected...."
   ]
  },
  {
   "cell_type": "code",
   "execution_count": 45,
   "metadata": {},
   "outputs": [],
   "source": [
    "class BankAccount:\n",
    "    # Private attributes\n",
    "    _balance = 0\n",
    "\n",
    "    def __init__(self, name, initial_deposit):\n",
    "        self.name = name  # Public attribute\n",
    "        self._balance = initial_deposit  # Private attribute\n",
    "\n",
    "    def deposit(self, amount):\n",
    "        if amount > 0:\n",
    "            self._balance += amount\n",
    "            print(f\"Deposited ${amount}. Your new balance is ${self._balance}\")\n",
    "        else:\n",
    "            print(\"Invalid deposit amount.\")\n",
    "\n",
    "    def withdraw(self, amount):\n",
    "        if amount > 0 and amount <= self._balance:\n",
    "            self._balance -= amount\n",
    "            print(f\"Withdrawn ${amount}. Your new balance is ${self._balance}\")\n",
    "        else:\n",
    "            print(\"Invalid withdrawal amount.\")\n",
    "\n",
    "    def get_balance(self):\n",
    "        return f'Your balance is ${self._balance}'  # Public method to access private attribute"
   ]
  },
  {
   "cell_type": "code",
   "execution_count": 46,
   "metadata": {},
   "outputs": [],
   "source": [
    "bob = BankAccount('Bobo', 540000)"
   ]
  },
  {
   "cell_type": "code",
   "execution_count": 47,
   "metadata": {},
   "outputs": [
    {
     "name": "stdout",
     "output_type": "stream",
     "text": [
      "Deposited $120000. Your new balance is $660000\n"
     ]
    }
   ],
   "source": [
    "bob.deposit(120000)"
   ]
  },
  {
   "cell_type": "code",
   "execution_count": 48,
   "metadata": {},
   "outputs": [
    {
     "name": "stdout",
     "output_type": "stream",
     "text": [
      "Withdrawn $340000. Your new balance is $320000\n"
     ]
    }
   ],
   "source": [
    "bob.withdraw(340000)"
   ]
  },
  {
   "cell_type": "code",
   "execution_count": 49,
   "metadata": {},
   "outputs": [
    {
     "data": {
      "text/plain": [
       "'Your balance is $320000'"
      ]
     },
     "execution_count": 49,
     "metadata": {},
     "output_type": "execute_result"
    }
   ],
   "source": [
    "bob.get_balance()"
   ]
  },
  {
   "cell_type": "code",
   "execution_count": 50,
   "metadata": {},
   "outputs": [
    {
     "data": {
      "text/plain": [
       "320000"
      ]
     },
     "execution_count": 50,
     "metadata": {},
     "output_type": "execute_result"
    }
   ],
   "source": [
    "bob._balance"
   ]
  },
  {
   "cell_type": "code",
   "execution_count": 51,
   "metadata": {},
   "outputs": [],
   "source": [
    "class Student:\n",
    "    # Private attributes\n",
    "    _name = \"\"\n",
    "    _age = 0\n",
    "    _grades = []\n",
    "\n",
    "    def __init__(self, name, age):\n",
    "        self._name = name\n",
    "        self._age = age\n",
    "        self._grades = []  # Private attribute\n",
    "\n",
    "    def add_grade(self, grade):\n",
    "        self._grades.append(grade)  # Adding to private attribute\n",
    "\n",
    "    def get_average_grade(self):\n",
    "        total = 0\n",
    "        for grade in self._grades:\n",
    "            total += grade\n",
    "        average = total / len(self._grades)\n",
    "        return average  # Public method to access private attribute"
   ]
  },
  {
   "cell_type": "code",
   "execution_count": 52,
   "metadata": {},
   "outputs": [],
   "source": [
    "jude = Student('Jude', 12)\n",
    "jude.add_grade(78)\n",
    "jude.add_grade(98)\n",
    "jude.add_grade(58)"
   ]
  },
  {
   "cell_type": "code",
   "execution_count": 53,
   "metadata": {},
   "outputs": [
    {
     "data": {
      "text/plain": [
       "78.0"
      ]
     },
     "execution_count": 53,
     "metadata": {},
     "output_type": "execute_result"
    }
   ],
   "source": [
    "jude.get_average_grade()"
   ]
  },
  {
   "cell_type": "markdown",
   "metadata": {},
   "source": [
    "### Polymorphism\n",
    "\n",
    "This allows different classes to be treated as instances of the same parent class.\n",
    "\n",
    "It's often achieved through overiding the method"
   ]
  },
  {
   "cell_type": "code",
   "execution_count": 54,
   "metadata": {},
   "outputs": [],
   "source": [
    "class Animal:\n",
    "    def make_sound(self):\n",
    "        return \"Some generic sound\"\n",
    "\n",
    "class Dog(Animal):\n",
    "    def make_sound(self):\n",
    "        return \"Woof!\"\n",
    "\n",
    "class Cat(Animal):\n",
    "    def make_sound(self):\n",
    "        return \"Meow!\""
   ]
  },
  {
   "cell_type": "code",
   "execution_count": 55,
   "metadata": {},
   "outputs": [
    {
     "data": {
      "text/plain": [
       "'Woof!'"
      ]
     },
     "execution_count": 55,
     "metadata": {},
     "output_type": "execute_result"
    }
   ],
   "source": [
    "bruno = Dog()\n",
    "bruno.make_sound()"
   ]
  },
  {
   "cell_type": "code",
   "execution_count": 56,
   "metadata": {},
   "outputs": [
    {
     "data": {
      "text/plain": [
       "'Meow!'"
      ]
     },
     "execution_count": 56,
     "metadata": {},
     "output_type": "execute_result"
    }
   ],
   "source": [
    "harley = Cat()\n",
    "harley.make_sound()"
   ]
  },
  {
   "cell_type": "code",
   "execution_count": 57,
   "metadata": {},
   "outputs": [
    {
     "data": {
      "text/plain": [
       "'Some generic sound'"
      ]
     },
     "execution_count": 57,
     "metadata": {},
     "output_type": "execute_result"
    }
   ],
   "source": [
    "animal = Animal()\n",
    "animal.make_sound()"
   ]
  },
  {
   "cell_type": "markdown",
   "metadata": {
    "id": "sA5-o05U9D5m"
   },
   "source": [
    "## 6. File Handling\n",
    "\n",
    "import library you would need\n",
    "```\n",
    "from csv import reader\n",
    "```\n",
    "\n",
    "open the csv file with right file location\n",
    "```\n",
    "\n",
    "opened_file = open('/content/sample_data/california_housing_test.csv')\n",
    "```\n",
    "read the file\n",
    "```\n",
    "read_file = reader(opened_file)\n",
    "```\n",
    "you can also convert it to a list\n",
    "```\n",
    "housing_data = list(read_file)\n"
   ]
  },
  {
   "cell_type": "code",
   "execution_count": 5,
   "metadata": {
    "id": "B_8efrs4-nYT",
    "scrolled": true
   },
   "outputs": [],
   "source": [
    "from csv import reader\n",
    "\n",
    "opened_file = open('work-routine.csv')\n",
    "\n",
    "read_file = reader(opened_file)\n",
    "\n",
    "housing_data = list(read_file)\n",
    "\n"
   ]
  },
  {
   "cell_type": "code",
   "execution_count": 6,
   "metadata": {
    "colab": {
     "base_uri": "https://localhost:8080/"
    },
    "id": "hKAs9HFc-6Ad",
    "outputId": "185730ff-5354-40b1-d03c-690240e38b6a"
   },
   "outputs": [
    {
     "data": {
      "text/plain": [
       "59"
      ]
     },
     "execution_count": 6,
     "metadata": {},
     "output_type": "execute_result"
    }
   ],
   "source": [
    "len(housing_data)"
   ]
  },
  {
   "cell_type": "markdown",
   "metadata": {},
   "source": [
    "### 7. Advanced Topics¶"
   ]
  },
  {
   "cell_type": "markdown",
   "metadata": {},
   "source": [
    "#### Regular Expression"
   ]
  },
  {
   "cell_type": "markdown",
   "metadata": {},
   "source": [
    "#### Lambda Functions\n",
    "Also called as __Anonymous functions__, there are one line functions and works for simple expressions.\n",
    "\n",
    "```\n",
    "lambda arguments : expression\n",
    "\n",
    "or\n",
    "\n",
    "lambda arguments : value_to_return if condition else value_to_return\n",
    "```"
   ]
  },
  {
   "cell_type": "code",
   "execution_count": 73,
   "metadata": {},
   "outputs": [
    {
     "data": {
      "text/plain": [
       "25"
      ]
     },
     "execution_count": 73,
     "metadata": {},
     "output_type": "execute_result"
    }
   ],
   "source": [
    "# basic function syntax\n",
    "\n",
    "def square(num):\n",
    "    return num ** 2\n",
    "\n",
    "square(5)"
   ]
  },
  {
   "cell_type": "code",
   "execution_count": 72,
   "metadata": {},
   "outputs": [
    {
     "data": {
      "text/plain": [
       "25"
      ]
     },
     "execution_count": 72,
     "metadata": {},
     "output_type": "execute_result"
    }
   ],
   "source": [
    "# using lambda\n",
    "(lambda x : x ** 2)(5)"
   ]
  },
  {
   "cell_type": "code",
   "execution_count": 74,
   "metadata": {},
   "outputs": [
    {
     "data": {
      "text/plain": [
       "10"
      ]
     },
     "execution_count": 74,
     "metadata": {},
     "output_type": "execute_result"
    }
   ],
   "source": [
    "(lambda x,y : x * y)(5,2)"
   ]
  },
  {
   "cell_type": "markdown",
   "metadata": {},
   "source": [
    "__lamba function__ by default do not have a name but we can store it in a variable and call it\n",
    "\n",
    "##### using conditional statement with lambda\n",
    "always use both if and else\n"
   ]
  },
  {
   "cell_type": "code",
   "execution_count": 98,
   "metadata": {},
   "outputs": [],
   "source": [
    "# lets return the greater number between two digit\n",
    "is_greater = lambda x,y : x if x > y  else y"
   ]
  },
  {
   "cell_type": "code",
   "execution_count": 99,
   "metadata": {},
   "outputs": [
    {
     "data": {
      "text/plain": [
       "99"
      ]
     },
     "execution_count": 99,
     "metadata": {},
     "output_type": "execute_result"
    }
   ],
   "source": [
    "is_greater(99,9)"
   ]
  },
  {
   "cell_type": "code",
   "execution_count": 101,
   "metadata": {},
   "outputs": [
    {
     "data": {
      "text/plain": [
       "0"
      ]
     },
     "execution_count": 101,
     "metadata": {},
     "output_type": "execute_result"
    }
   ],
   "source": [
    "is_greater(0,-1)"
   ]
  },
  {
   "cell_type": "code",
   "execution_count": 103,
   "metadata": {},
   "outputs": [
    {
     "data": {
      "text/plain": [
       "1.1e-15"
      ]
     },
     "execution_count": 103,
     "metadata": {},
     "output_type": "execute_result"
    }
   ],
   "source": [
    "is_greater(0.0000000000000011,0.000000000000000001)"
   ]
  },
  {
   "cell_type": "markdown",
   "metadata": {},
   "source": [
    "The outstanding characteristics of __lambda__ is their ability to make other functions more modular"
   ]
  },
  {
   "cell_type": "code",
   "execution_count": 90,
   "metadata": {},
   "outputs": [],
   "source": [
    "def multiply(n):\n",
    "    return lambda x : x * n"
   ]
  },
  {
   "cell_type": "code",
   "execution_count": 96,
   "metadata": {},
   "outputs": [
    {
     "data": {
      "text/plain": [
       "6"
      ]
     },
     "execution_count": 96,
     "metadata": {},
     "output_type": "execute_result"
    }
   ],
   "source": [
    "by_two = multiply(2)\n",
    "by_two(3)"
   ]
  },
  {
   "cell_type": "code",
   "execution_count": 95,
   "metadata": {},
   "outputs": [
    {
     "data": {
      "text/plain": [
       "90"
      ]
     },
     "execution_count": 95,
     "metadata": {},
     "output_type": "execute_result"
    }
   ],
   "source": [
    "by_nine = multiply_by(9)\n",
    "by_nine(10)"
   ]
  }
 ],
 "metadata": {
  "colab": {
   "authorship_tag": "ABX9TyOnCoOHYHY6cdZFMUcYEESs",
   "include_colab_link": true,
   "provenance": []
  },
  "kernelspec": {
   "display_name": "Python 3 (ipykernel)",
   "language": "python",
   "name": "python3"
  },
  "language_info": {
   "codemirror_mode": {
    "name": "ipython",
    "version": 3
   },
   "file_extension": ".py",
   "mimetype": "text/x-python",
   "name": "python",
   "nbconvert_exporter": "python",
   "pygments_lexer": "ipython3",
   "version": "3.11.5"
  }
 },
 "nbformat": 4,
 "nbformat_minor": 1
}
