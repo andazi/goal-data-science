{
 "cells": [
  {
   "cell_type": "code",
   "execution_count": 1,
   "id": "fd25294a",
   "metadata": {},
   "outputs": [],
   "source": [
    "# datetime library\n",
    "# class\n",
    "# functions\n",
    "# read and write\n",
    "# create txt file\n",
    "# while loop"
   ]
  },
  {
   "cell_type": "code",
   "execution_count": 5,
   "id": "6f8ebff4",
   "metadata": {},
   "outputs": [],
   "source": [
    "import datetime\n",
    "import os"
   ]
  },
  {
   "cell_type": "code",
   "execution_count": 14,
   "id": "dbd367d0",
   "metadata": {},
   "outputs": [],
   "source": [
    "class Diary:\n",
    "    \n",
    "    \n",
    "    def __init__(self, filename):\n",
    "        self._filename = filename\n",
    "        # creates a file in basic-diary directory\n",
    "        self._diary =  open(f\"{self._filename}.txt\", \"a\")\n",
    "        \n",
    "    def add_entry(self,entry):\n",
    "        self.entry = entry\n",
    "        # read current time in format (year-month-day, hour:minute)\n",
    "        self.current_time = datetime.datetime.now().strftime(\"%Y-%m-%d, %H:%M\")\n",
    "        # opening diary file\n",
    "        self.diary_file = self._diary\n",
    "        \n",
    "        self.diary_file.write(f\"{self.current_time}\\n{self.entry}\\n\\n --- {self.entry}\")\n",
    "        # close file\n",
    "        self._diary.close()\n",
    "    def read_diary(self):\n",
    "        open(self._entry, \"r\")\n",
    "        \n",
    "        \n",
    "sam = Diary('samuel diary')\n",
    "sam.add_entry(\"I wrote 100 lines of cole today\")"
   ]
  },
  {
   "cell_type": "code",
   "execution_count": 15,
   "id": "2701e758",
   "metadata": {},
   "outputs": [
    {
     "ename": "ValueError",
     "evalue": "I/O operation on closed file.",
     "output_type": "error",
     "traceback": [
      "\u001b[0;31m---------------------------------------------------------------------------\u001b[0m",
      "\u001b[0;31mValueError\u001b[0m                                Traceback (most recent call last)",
      "Cell \u001b[0;32mIn[15], line 1\u001b[0m\n\u001b[0;32m----> 1\u001b[0m sam\u001b[38;5;241m.\u001b[39madd_entry(\u001b[38;5;124m\"\u001b[39m\u001b[38;5;124mI broke the code again\u001b[39m\u001b[38;5;124m\"\u001b[39m)\n",
      "Cell \u001b[0;32mIn[14], line 16\u001b[0m, in \u001b[0;36mDiary.add_entry\u001b[0;34m(self, entry)\u001b[0m\n\u001b[1;32m     13\u001b[0m \u001b[38;5;66;03m# opening diary file\u001b[39;00m\n\u001b[1;32m     14\u001b[0m \u001b[38;5;28mself\u001b[39m\u001b[38;5;241m.\u001b[39mdiary_file \u001b[38;5;241m=\u001b[39m \u001b[38;5;28mself\u001b[39m\u001b[38;5;241m.\u001b[39m_diary\n\u001b[0;32m---> 16\u001b[0m \u001b[38;5;28mself\u001b[39m\u001b[38;5;241m.\u001b[39mdiary_file\u001b[38;5;241m.\u001b[39mwrite(\u001b[38;5;124mf\u001b[39m\u001b[38;5;124m\"\u001b[39m\u001b[38;5;132;01m{\u001b[39;00m\u001b[38;5;28mself\u001b[39m\u001b[38;5;241m.\u001b[39mcurrent_time\u001b[38;5;132;01m}\u001b[39;00m\u001b[38;5;130;01m\\n\u001b[39;00m\u001b[38;5;132;01m{\u001b[39;00m\u001b[38;5;28mself\u001b[39m\u001b[38;5;241m.\u001b[39mentry\u001b[38;5;132;01m}\u001b[39;00m\u001b[38;5;130;01m\\n\u001b[39;00m\u001b[38;5;130;01m\\n\u001b[39;00m\u001b[38;5;124m --- \u001b[39m\u001b[38;5;132;01m{\u001b[39;00m\u001b[38;5;28mself\u001b[39m\u001b[38;5;241m.\u001b[39mentry\u001b[38;5;132;01m}\u001b[39;00m\u001b[38;5;124m\"\u001b[39m)\n\u001b[1;32m     17\u001b[0m \u001b[38;5;66;03m# close file\u001b[39;00m\n\u001b[1;32m     18\u001b[0m \u001b[38;5;28mself\u001b[39m\u001b[38;5;241m.\u001b[39m_diary\u001b[38;5;241m.\u001b[39mclose()\n",
      "\u001b[0;31mValueError\u001b[0m: I/O operation on closed file."
     ]
    }
   ],
   "source": [
    "sam.add_entry(\"I broke the code again\")"
   ]
  },
  {
   "cell_type": "code",
   "execution_count": null,
   "id": "5d6b1612",
   "metadata": {},
   "outputs": [],
   "source": []
  }
 ],
 "metadata": {
  "kernelspec": {
   "display_name": "Python 3 (ipykernel)",
   "language": "python",
   "name": "python3"
  },
  "language_info": {
   "codemirror_mode": {
    "name": "ipython",
    "version": 3
   },
   "file_extension": ".py",
   "mimetype": "text/x-python",
   "name": "python",
   "nbconvert_exporter": "python",
   "pygments_lexer": "ipython3",
   "version": "3.11.5"
  }
 },
 "nbformat": 4,
 "nbformat_minor": 5
}
