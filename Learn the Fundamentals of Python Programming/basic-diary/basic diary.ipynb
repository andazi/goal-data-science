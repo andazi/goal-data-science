{
 "cells": [
  {
   "cell_type": "code",
   "execution_count": 1,
   "id": "fd25294a",
   "metadata": {},
   "outputs": [],
   "source": [
    "# datetime library\n",
    "# class\n",
    "# functions\n",
    "# read and write\n",
    "# create txt file\n",
    "# while loop"
   ]
  },
  {
   "cell_type": "code",
   "execution_count": 5,
   "id": "6f8ebff4",
   "metadata": {},
   "outputs": [],
   "source": [
    "import datetime\n",
    "import os"
   ]
  },
  {
   "cell_type": "code",
   "execution_count": 159,
   "id": "dbd367d0",
   "metadata": {},
   "outputs": [
    {
     "name": "stdout",
     "output_type": "stream",
     "text": [
      "2023-11-18, 19:28 --- I wrote 100 lines of cole today\n",
      "\n",
      "\n"
     ]
    }
   ],
   "source": [
    "class Diary:\n",
    "    \n",
    "    \n",
    "    def __init__(self, filename):\n",
    "        self._filename = filename\n",
    "        # creates a file in basic-diary directory\n",
    "        self._diary =  open(f\"{self._filename}.txt\", \"a\")\n",
    "        \n",
    "    def add_entry(self,entry):\n",
    "        self.entry = entry\n",
    "        # read current time in format (year-month-day, hour:minute)\n",
    "        self.current_time = datetime.datetime.now().strftime(\"%Y-%m-%d, %H:%M\")\n",
    "        # opening diary file\n",
    "        self._diary\n",
    "\n",
    "        print(f\"{self.current_time} --- {self.entry}\\n\\n\")\n",
    "        \n",
    "        self._diary.write(f\"{self.current_time}\\t {self.entry}\\n\\n\")\n",
    "        # close file\n",
    "        #self._diary.close()\n",
    "    def read_diary(self):\n",
    "        open(self._entry, \"r\")\n",
    "        \n",
    "        \n",
    "sam = Diary('samuel diary')\n",
    "sam.add_entry(\"I wrote 100 lines of cole today\")"
   ]
  },
  {
   "cell_type": "code",
   "execution_count": 160,
   "id": "2701e758",
   "metadata": {},
   "outputs": [
    {
     "name": "stdout",
     "output_type": "stream",
     "text": [
      "2023-11-18, 19:28 --- I broke the code again\n",
      "\n",
      "\n"
     ]
    }
   ],
   "source": [
    "sam.add_entry(\"I broke the code again\")"
   ]
  },
  {
   "cell_type": "code",
   "execution_count": 423,
   "id": "37e913e8",
   "metadata": {},
   "outputs": [],
   "source": [
    "class Diary:\n",
    "    \n",
    "    \n",
    "    def __init__(self, filename):\n",
    "        self._filename = filename\n",
    "       \n",
    "        self.open_diary()\n",
    "\n",
    "        self._diary.write(f\"Date Time \\t\\t entry \\n\\n\")\n",
    "        \n",
    "        self.close_diary()\n",
    "        \n",
    "    def add_entry(self,entry):\n",
    "        self.entry = entry\n",
    "        # read current time in format (year-month-day, hour:minute)\n",
    "        self.current_time = datetime.datetime.now().strftime(\"%Y-%m-%d, %H:%M\")\n",
    "        # opening diary file\n",
    "        self.open_diary()\n",
    "\n",
    "        self._diary.write(f\"{self.current_time}\\t {self.entry}\\n\\n\")\n",
    "        # close file\n",
    "        self.close_diary()\n",
    "    def read_diary(self):\n",
    "        self._diary = open(f\"{self._filename}.txt\", \"r\")\n",
    "        print(self._diary.read())\n",
    "        #self.close_diary()\n",
    "        \n",
    "    def open_diary(self):\n",
    "        self._diary =  open(f\"{self._filename}.txt\", \"a\")\n",
    "    def close_diary(self):\n",
    "        self._diary.close()\n",
    "        \n",
    "        \n",
    "        \n",
    "sam = Diary('samuel diary')"
   ]
  },
  {
   "cell_type": "code",
   "execution_count": 426,
   "id": "22296248",
   "metadata": {},
   "outputs": [],
   "source": [
    "sam.add_entry(\"I wrote 100 lines of cole today\")"
   ]
  },
  {
   "cell_type": "code",
   "execution_count": 427,
   "id": "80662fb4",
   "metadata": {},
   "outputs": [
    {
     "name": "stdout",
     "output_type": "stream",
     "text": [
      "Date Time \t\t entry \n",
      "\n",
      "2023-11-18, 23:11\t I wrote 100 lines of cole today\n",
      "\n",
      "2023-11-18, 23:11\t I wrote 100 lines of cole today\n",
      "\n",
      "2023-11-18, 23:11\t I wrote 100 lines of cole today\n",
      "\n",
      "2023-11-18, 23:11\t I wrote 100 lines of cole today\n",
      "\n",
      "2023-11-18, 23:11\t I wrote 100 lines of cole today\n",
      "\n",
      "2023-11-18, 23:11\t I wrote 100 lines of cole today\n",
      "\n",
      "2023-11-18, 23:11\t I wrote 100 lines of cole today\n",
      "\n",
      "2023-11-18, 23:11\t I wrote 100 lines of cole today\n",
      "\n",
      "2023-11-18, 23:11\t I wrote 100 lines of cole today\n",
      "\n",
      "2023-11-18, 23:11\t I wrote 100 lines of cole today\n",
      "\n",
      "2023-11-18, 23:11\t I wrote 100 lines of cole today\n",
      "\n",
      "2023-11-18, 23:11\t I wrote 100 lines of cole today\n",
      "\n",
      "2023-11-18, 23:11\t I wrote 100 lines of cole today\n",
      "\n",
      "2023-11-18, 23:11\t I wrote 100 lines of cole today\n",
      "\n",
      "2023-11-18, 23:11\t I wrote 100 lines of cole today\n",
      "\n",
      "2023-11-18, 23:11\t I wrote 100 lines of cole today\n",
      "\n",
      "2023-11-18, 23:11\t I wrote 100 lines of cole today\n",
      "\n",
      "2023-11-18, 23:11\t I wrote 100 lines of cole today\n",
      "\n",
      "2023-11-18, 23:11\t I wrote 100 lines of cole today\n",
      "\n",
      "2023-11-18, 23:11\t I wrote 100 lines of cole today\n",
      "\n",
      "2023-11-18, 23:11\t I wrote 100 lines of cole today\n",
      "\n",
      "2023-11-18, 23:11\t I wrote 100 lines of cole today\n",
      "\n",
      "2023-11-18, 23:11\t I wrote 100 lines of cole today\n",
      "\n",
      "2023-11-18, 23:11\t I wrote 100 lines of cole today\n",
      "\n",
      "2023-11-18, 23:11\t I wrote 100 lines of cole today\n",
      "\n",
      "2023-11-18, 23:11\t I wrote 100 lines of cole today\n",
      "\n",
      "2023-11-18, 23:11\t I wrote 100 lines of cole today\n",
      "\n",
      "2023-11-18, 23:11\t I wrote 100 lines of cole today\n",
      "\n",
      "2023-11-18, 23:11\t I wrote 100 lines of cole today\n",
      "\n",
      "2023-11-18, 23:11\t I wrote 100 lines of cole today\n",
      "\n",
      "2023-11-18, 23:11\t I wrote 100 lines of cole today\n",
      "\n",
      "2023-11-18, 23:11\t I wrote 100 lines of cole today\n",
      "\n",
      "2023-11-18, 23:11\t I wrote 100 lines of cole today\n",
      "\n",
      "Date Time \t\t entry \n",
      "\n",
      "2023-11-18, 23:11\t I wrote 100 lines of cole today\n",
      "\n",
      "2023-11-18, 23:11\t I wrote 100 lines of cole today\n",
      "\n",
      "2023-11-18, 23:11\t I wrote 100 lines of cole today\n",
      "\n",
      "\n"
     ]
    }
   ],
   "source": [
    "sam.read_diary()"
   ]
  },
  {
   "cell_type": "code",
   "execution_count": null,
   "id": "6a00ba49",
   "metadata": {},
   "outputs": [],
   "source": []
  }
 ],
 "metadata": {
  "kernelspec": {
   "display_name": "Python 3 (ipykernel)",
   "language": "python",
   "name": "python3"
  },
  "language_info": {
   "codemirror_mode": {
    "name": "ipython",
    "version": 3
   },
   "file_extension": ".py",
   "mimetype": "text/x-python",
   "name": "python",
   "nbconvert_exporter": "python",
   "pygments_lexer": "ipython3",
   "version": "3.11.5"
  }
 },
 "nbformat": 4,
 "nbformat_minor": 5
}
