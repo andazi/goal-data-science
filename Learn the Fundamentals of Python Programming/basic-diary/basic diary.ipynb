{
 "cells": [
  {
   "cell_type": "code",
   "execution_count": 1,
   "id": "fd25294a",
   "metadata": {},
   "outputs": [],
   "source": [
    "# datetime library\n",
    "# class\n",
    "# functions\n",
    "# read and write\n",
    "# create txt file\n",
    "# while loop"
   ]
  },
  {
   "cell_type": "code",
   "execution_count": 5,
   "id": "6f8ebff4",
   "metadata": {},
   "outputs": [],
   "source": [
    "import datetime\n",
    "import os"
   ]
  },
  {
   "cell_type": "code",
   "execution_count": 159,
   "id": "dbd367d0",
   "metadata": {},
   "outputs": [
    {
     "name": "stdout",
     "output_type": "stream",
     "text": [
      "2023-11-18, 19:28 --- I wrote 100 lines of cole today\n",
      "\n",
      "\n"
     ]
    }
   ],
   "source": [
    "class Diary:\n",
    "    \n",
    "    \n",
    "    def __init__(self, filename):\n",
    "        self._filename = filename\n",
    "        # creates a file in basic-diary directory\n",
    "        self._diary =  open(f\"{self._filename}.txt\", \"a\")\n",
    "        \n",
    "    def add_entry(self,entry):\n",
    "        self.entry = entry\n",
    "        # read current time in format (year-month-day, hour:minute)\n",
    "        self.current_time = datetime.datetime.now().strftime(\"%Y-%m-%d, %H:%M\")\n",
    "        # opening diary file\n",
    "        self._diary\n",
    "\n",
    "        print(f\"{self.current_time} --- {self.entry}\\n\\n\")\n",
    "        \n",
    "        self._diary.write(f\"{self.current_time}\\t {self.entry}\\n\\n\")\n",
    "        # close file\n",
    "        #self._diary.close()\n",
    "    def read_diary(self):\n",
    "        open(self._entry, \"r\")\n",
    "        \n",
    "        \n",
    "sam = Diary('samuel diary')\n",
    "sam.add_entry(\"I wrote 100 lines of cole today\")"
   ]
  },
  {
   "cell_type": "code",
   "execution_count": 160,
   "id": "2701e758",
   "metadata": {},
   "outputs": [
    {
     "name": "stdout",
     "output_type": "stream",
     "text": [
      "2023-11-18, 19:28 --- I broke the code again\n",
      "\n",
      "\n"
     ]
    }
   ],
   "source": [
    "sam.add_entry(\"I broke the code again\")"
   ]
  },
  {
   "cell_type": "code",
   "execution_count": 505,
   "id": "ff2dccde",
   "metadata": {},
   "outputs": [],
   "source": [
    "class Diary:\n",
    "    \n",
    "    \n",
    "    def __init__(self, filename):\n",
    "        self._filename = filename\n",
    "        # create new file else overwrites current file\n",
    "        self._diary = open(f\"{self._filename}.txt\", \"w\")\n",
    "        # Title of Entries\n",
    "        self._diary.write(f\"\\n\\t\\t{self._filename}\\n\\n\")\n",
    "        self._diary.write(f\"Date Time \\t\\t entry \\n\\n\")\n",
    "        # always close file\n",
    "        self.close_diary()\n",
    "        \n",
    "    def add_entry(self,entry):\n",
    "        self.entry = entry\n",
    "        # read current time in format (year-month-day, hour:minute)\n",
    "        self.current_time = datetime.datetime.now().strftime(\"%Y-%m-%d, %H:%M\")\n",
    "        # opening diary file\n",
    "        self.open_diary()\n",
    "        # entries\n",
    "        self._diary.write(f\"{self.current_time}\\t {self.entry}\\n\\n\")\n",
    "        # close file\n",
    "        self.close_diary()\n",
    "    def read_diary(self):\n",
    "        # read file\n",
    "        self._diary = open(f\"{self._filename}.txt\", \"r\")\n",
    "        print(self._diary.read())\n",
    "        self.close_diary()\n",
    "        \n",
    "    def open_diary(self):\n",
    "        self._diary =  open(f\"{self._filename}.txt\", \"a\")\n",
    "    def close_diary(self):\n",
    "        self._diary.close()\n",
    "        "
   ]
  },
  {
   "cell_type": "code",
   "execution_count": 508,
   "id": "6e6d1499",
   "metadata": {},
   "outputs": [],
   "source": [
    "sam = Diary('samuel diary')"
   ]
  },
  {
   "cell_type": "code",
   "execution_count": 510,
   "id": "85190987",
   "metadata": {},
   "outputs": [],
   "source": [
    "sam.add_entry(\"I wrote 100 lines of cole today\")"
   ]
  },
  {
   "cell_type": "code",
   "execution_count": 511,
   "id": "7a728c2f",
   "metadata": {},
   "outputs": [],
   "source": [
    "sam.add_entry(\"Defeat Dracula\")"
   ]
  },
  {
   "cell_type": "code",
   "execution_count": 513,
   "id": "6b374e20",
   "metadata": {},
   "outputs": [],
   "source": [
    "sam.add_entry(\"Fall in love\")"
   ]
  },
  {
   "cell_type": "code",
   "execution_count": 514,
   "id": "011c498f",
   "metadata": {},
   "outputs": [
    {
     "name": "stdout",
     "output_type": "stream",
     "text": [
      "\n",
      "\t\tsamuel diary\n",
      "\n",
      "Date Time \t\t entry \n",
      "\n",
      "2023-11-18, 23:25\t I wrote 100 lines of cole today\n",
      "\n",
      "2023-11-18, 23:25\t I wrote 100 lines of cole today\n",
      "\n",
      "2023-11-18, 23:25\t Defeat Dracula\n",
      "\n",
      "2023-11-18, 23:26\t Fall in love\n",
      "\n",
      "\n"
     ]
    }
   ],
   "source": [
    "sam.read_diary()"
   ]
  },
  {
   "cell_type": "code",
   "execution_count": 485,
   "id": "3c93418d",
   "metadata": {},
   "outputs": [],
   "source": [
    "piece = Diary('Piece Diary')"
   ]
  },
  {
   "cell_type": "code",
   "execution_count": 500,
   "id": "01a7ea23",
   "metadata": {},
   "outputs": [],
   "source": [
    "piece.add_entry('My name is pierce')"
   ]
  },
  {
   "cell_type": "code",
   "execution_count": 501,
   "id": "3f85c66f",
   "metadata": {},
   "outputs": [
    {
     "name": "stdout",
     "output_type": "stream",
     "text": [
      "Date Time \t\t entry \n",
      "\n",
      "2023-11-18, 23:19\t My name is pierce\n",
      "\n",
      "2023-11-18, 23:19\t My name is pierce\n",
      "\n",
      "2023-11-18, 23:19\t My name is pierce\n",
      "\n",
      "2023-11-18, 23:19\t My name is pierce\n",
      "\n",
      "2023-11-18, 23:19\t My name is pierce\n",
      "\n",
      "2023-11-18, 23:19\t My name is pierce\n",
      "\n",
      "2023-11-18, 23:19\t My name is pierce\n",
      "\n",
      "2023-11-18, 23:19\t My name is pierce\n",
      "\n",
      "2023-11-18, 23:19\t My name is pierce\n",
      "\n",
      "2023-11-18, 23:19\t My name is pierce\n",
      "\n",
      "2023-11-18, 23:19\t My name is pierce\n",
      "\n",
      "2023-11-18, 23:19\t My name is pierce\n",
      "\n",
      "2023-11-18, 23:19\t My name is pierce\n",
      "\n",
      "2023-11-18, 23:19\t My name is pierce\n",
      "\n",
      "2023-11-18, 23:19\t My name is pierce\n",
      "\n",
      "\n"
     ]
    }
   ],
   "source": [
    "piece.read_diary()"
   ]
  },
  {
   "cell_type": "code",
   "execution_count": null,
   "id": "26523906",
   "metadata": {},
   "outputs": [],
   "source": [
    "# Todo\n",
    "# add input function\n",
    "\n",
    "class Diary:\n",
    "      \n",
    "    def __init__(self, filename):\n",
    "        self._filename = filename\n",
    "        # create new file if file does not exist or append to file\n",
    "        self._diary = open(f\"{self._filename}.txt\", \"a\")\n",
    "        # Title of Entries\n",
    "        self._diary.write(f\"\\n\\t\\t{self._filename}\\n\\n\")\n",
    "        self._diary.write(f\"Date Time \\t\\t entry \\n\\n\")\n",
    "        # always close file\n",
    "        self.close_diary()\n",
    "        \n",
    "        self.todos = True\n",
    "        # while loop that calls self.take_action function\n",
    "        while self.todos == True:\n",
    "            self.instruction = input('Enter instruction: add, read, close: \\t').lower()\n",
    "            self.take_action()\n",
    "            \n",
    "        \n",
    "    def add_entry(self,entry):\n",
    "        self.entry = entry\n",
    "        # read current time in format (year-month-day, hour:minute)\n",
    "        self.current_time = datetime.datetime.now().strftime(\"%Y-%m-%d, %H:%M\")\n",
    "        # opening diary file\n",
    "        self.open_diary()\n",
    "        # entries\n",
    "        self._diary.write(f\"{self.current_time}\\t {self.entry}\\n\\n\")\n",
    "        # close file\n",
    "        self.close_diary()\n",
    "    def read_diary(self):\n",
    "        # read file\n",
    "        self._diary = open(f\"{self._filename}.txt\", \"r\")\n",
    "        print(self._diary.read())\n",
    "        self.close_diary()\n",
    "        \n",
    "    def open_diary(self):\n",
    "        self._diary =  open(f\"{self._filename}.txt\", \"a\")\n",
    "    def close_diary(self):\n",
    "        self._diary.close()\n",
    "        \n",
    "    def take_action(self):\n",
    "        # conditonal statement\n",
    "        if self.instruction == 'add':\n",
    "            entry = input('Enter you entry: \\t')\n",
    "            self.add_entry(entry)\n",
    "        if self.instruction == 'read':\n",
    "            self.read_diary()\n",
    "        if self.instruction == 'close':\n",
    "            print(f\"\\n {self._filename} Diary closed\")\n",
    "            self.todos = False\n",
    "        #elif self.instruction != 'add' or self.instruction != 'read' or self.instruction != 'close':\n",
    "            #return 'Incorrect selection \\n\\n'"
   ]
  },
  {
   "cell_type": "code",
   "execution_count": 528,
   "id": "5c2f8431",
   "metadata": {},
   "outputs": [
    {
     "name": "stdout",
     "output_type": "stream",
     "text": [
      "Enter instruction: add, read, close: \tread\n",
      "\n",
      "\t\tJane's Diary\n",
      "\n",
      "Date Time \t\t entry \n",
      "\n",
      "\n",
      "Incorrect selection \n",
      "\n",
      " Select either add, read or close\n",
      "Enter instruction: add, read, close: \tadd\n",
      "Enter you entry: \tTotal 34 (delta 18), reused 0 (delta 0), pack-reused 0 remote: Resolving deltas: 100% (18/18), completed with 2 local objects. To github.com:andazi/goal-data-science.git    4136f19..7592aaf  main -> main\n",
      "Incorrect selection \n",
      "\n",
      " Select either add, read or close\n",
      "Enter instruction: add, read, close: \tread\n",
      "\n",
      "\t\tJane's Diary\n",
      "\n",
      "Date Time \t\t entry \n",
      "\n",
      "2023-11-19, 20:26\t Total 34 (delta 18), reused 0 (delta 0), pack-reused 0 remote: Resolving deltas: 100% (18/18), completed with 2 local objects. To github.com:andazi/goal-data-science.git    4136f19..7592aaf  main -> main\n",
      "\n",
      "\n",
      "Incorrect selection \n",
      "\n",
      " Select either add, read or close\n",
      "Enter instruction: add, read, close: \tclose\n",
      "\n",
      " Jane's Diary Diary closed\n"
     ]
    }
   ],
   "source": [
    "jane = Diary(\"Jane's Diary\")"
   ]
  },
  {
   "cell_type": "code",
   "execution_count": null,
   "id": "db08e8b9",
   "metadata": {},
   "outputs": [
    {
     "name": "stdout",
     "output_type": "stream",
     "text": [
      "Enter instruction: add, read, close: \tread\n",
      "\n",
      "\t\tJaja diary\n",
      "\n",
      "Date Time \t\t entry \n",
      "\n",
      "\n",
      "Incorrect selection \n",
      "\n",
      "\n"
     ]
    }
   ],
   "source": [
    "jamaica = Diary('Jaja diary')"
   ]
  }
 ],
 "metadata": {
  "kernelspec": {
   "display_name": "Python 3 (ipykernel)",
   "language": "python",
   "name": "python3"
  },
  "language_info": {
   "codemirror_mode": {
    "name": "ipython",
    "version": 3
   },
   "file_extension": ".py",
   "mimetype": "text/x-python",
   "name": "python",
   "nbconvert_exporter": "python",
   "pygments_lexer": "ipython3",
   "version": "3.11.5"
  }
 },
 "nbformat": 4,
 "nbformat_minor": 5
}
