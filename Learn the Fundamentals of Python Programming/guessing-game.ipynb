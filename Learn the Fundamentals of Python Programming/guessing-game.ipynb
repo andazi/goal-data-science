{
 "cells": [
  {
   "cell_type": "code",
   "execution_count": 41,
   "id": "5bd36c3c",
   "metadata": {},
   "outputs": [
    {
     "name": "stdout",
     "output_type": "stream",
     "text": [
      "17\n",
      "Guess a number between from 1 to 20?      11\n",
      "Number is too low\n",
      "Guess a number between from 1 to 20?      11\n",
      "Number is too low\n",
      "Guess a number between from 1 to 20?      11\n",
      "Number is too low\n",
      "GameOver, you LOSE\n"
     ]
    }
   ],
   "source": [
    "## import random\n",
    "\n",
    "trials = 3\n",
    "# generating random number between 1 and 20\n",
    "rand_number = random.randint(1,20)\n",
    "print(rand_number)\n",
    "while trials > 0:\n",
    "    guess = int(input('Guess a number between from 1 to 20?      '))\n",
    "    if guess == rand_number:\n",
    "        print('You have guessed correctly')\n",
    "        print('You WON')\n",
    "        # end while loop\n",
    "        trials = 0\n",
    "    else:\n",
    "        if guess > rand_number:\n",
    "            print('Number is too high')\n",
    "        else:\n",
    "            print('Number is too low')\n",
    "  \n",
    "    trials -= 1\n",
    "    if trials == 0:\n",
    "        print('GameOver, you LOSE')\n",
    "\n"
   ]
  },
  {
   "cell_type": "code",
   "execution_count": null,
   "id": "b4a0bf3c",
   "metadata": {},
   "outputs": [],
   "source": []
  }
 ],
 "metadata": {
  "kernelspec": {
   "display_name": "Python 3 (ipykernel)",
   "language": "python",
   "name": "python3"
  },
  "language_info": {
   "codemirror_mode": {
    "name": "ipython",
    "version": 3
   },
   "file_extension": ".py",
   "mimetype": "text/x-python",
   "name": "python",
   "nbconvert_exporter": "python",
   "pygments_lexer": "ipython3",
   "version": "3.11.5"
  }
 },
 "nbformat": 4,
 "nbformat_minor": 5
}
