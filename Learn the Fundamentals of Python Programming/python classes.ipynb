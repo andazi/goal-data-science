{
 "cells": [
  {
   "cell_type": "markdown",
   "id": "0e5f1cab",
   "metadata": {},
   "source": [
    "### Class\n",
    "\n",
    "Class is like a __blueprint__ of a building.\n",
    "\n",
    "We create __objects__ from classes and its flexible in its nature.\n",
    "\n",
    "Just imagine trying to create a company car collection showcasing the car name,color, model, engine, horsepower, made, type and others.\n",
    "\n",
    "We can create a class having those properties to which we can keep creating different collection list without breaking the code and making it clean.\n",
    "\n",
    "a class would have \n",
    "\n",
    "- name,color,year,....\n",
    "\n",
    "while an object would be \n",
    "- Tesla, black, 2023,....\n",
    "- Toyota, Green, 2009,....\n",
    "- Honda, White, 2022,....\n",
    "\n",
    "__you would notice the car collection(objects) is build on the blueprint(class)__"
   ]
  },
  {
   "cell_type": "markdown",
   "id": "5ff8e9a2",
   "metadata": {},
   "source": [
    "### Creating a class \n"
   ]
  },
  {
   "cell_type": "code",
   "execution_count": 6,
   "id": "8610cc5c",
   "metadata": {},
   "outputs": [],
   "source": [
    "class Car0:\n",
    "    pass"
   ]
  },
  {
   "cell_type": "markdown",
   "id": "2773abd5",
   "metadata": {},
   "source": [
    "#### Instance\n",
    "\n",
    "an instance creates an bject from the class and stores it in a variable name"
   ]
  },
  {
   "cell_type": "markdown",
   "id": "13c47253",
   "metadata": {},
   "source": [
    "#### creating instance"
   ]
  },
  {
   "cell_type": "code",
   "execution_count": 9,
   "id": "da7cd757",
   "metadata": {},
   "outputs": [],
   "source": [
    "tesla = Car0() # instance "
   ]
  },
  {
   "cell_type": "code",
   "execution_count": 10,
   "id": "fb928554",
   "metadata": {},
   "outputs": [],
   "source": [
    "toyota = Car0() # instance "
   ]
  },
  {
   "cell_type": "code",
   "execution_count": 11,
   "id": "846e8de9",
   "metadata": {},
   "outputs": [],
   "source": [
    "honda = Car0() # instance "
   ]
  },
  {
   "cell_type": "markdown",
   "id": "8b8774da",
   "metadata": {},
   "source": [
    "__initialization__\n",
    "\n",
    "`__init__ Method`\n",
    "\n",
    "When ever an object is called, the init method is run automatically\n",
    "\n",
    "```\n",
    "def __init__(self):\n",
    "```\n",
    "\n",
    "__self__ keyword means the current instance"
   ]
  },
  {
   "cell_type": "code",
   "execution_count": 7,
   "id": "fe7b57c0",
   "metadata": {},
   "outputs": [],
   "source": [
    "class Car1:\n",
    "    # define the init method => to start something\n",
    "    def __init__(self):\n",
    "        print('A car is created!')"
   ]
  },
  {
   "cell_type": "code",
   "execution_count": 12,
   "id": "f238c346",
   "metadata": {},
   "outputs": [
    {
     "name": "stdout",
     "output_type": "stream",
     "text": [
      "A car is created!\n"
     ]
    }
   ],
   "source": [
    "spongeCar = Car1() # creates an instance of the Car class and stores it in newCar1"
   ]
  },
  {
   "cell_type": "markdown",
   "id": "fa39360c",
   "metadata": {},
   "source": [
    "#### confirming type"
   ]
  },
  {
   "cell_type": "code",
   "execution_count": 9,
   "id": "d8ead703",
   "metadata": {},
   "outputs": [
    {
     "data": {
      "text/plain": [
       "__main__.Car"
      ]
     },
     "execution_count": 9,
     "metadata": {},
     "output_type": "execute_result"
    }
   ],
   "source": [
    "type(newCar)"
   ]
  },
  {
   "cell_type": "markdown",
   "id": "c9335c16",
   "metadata": {},
   "source": [
    "#### working with attribute\n",
    "\n",
    "We use the .self to give it attribute"
   ]
  },
  {
   "cell_type": "code",
   "execution_count": null,
   "id": "0e72ca99",
   "metadata": {},
   "outputs": [],
   "source": [
    "# model,color, size, fuel type, fuel capacity"
   ]
  },
  {
   "cell_type": "code",
   "execution_count": 15,
   "id": "620dda22",
   "metadata": {},
   "outputs": [],
   "source": [
    "class Car2:\n",
    "    # define the init method => to start your model\n",
    "    def __init__(self):\n",
    "        self.model = 'Tesla'\n",
    "        self.color = 'Matte'\n",
    "        self.size = 1000\n",
    "        self.fuel_type = 'Electric'\n",
    "        self.fuel_capacity = 10000"
   ]
  },
  {
   "cell_type": "code",
   "execution_count": 16,
   "id": "d7f6260e",
   "metadata": {},
   "outputs": [],
   "source": [
    "newCar2 = Car2()"
   ]
  },
  {
   "cell_type": "code",
   "execution_count": 19,
   "id": "4ad43917",
   "metadata": {},
   "outputs": [
    {
     "data": {
      "text/plain": [
       "'Tesla'"
      ]
     },
     "execution_count": 19,
     "metadata": {},
     "output_type": "execute_result"
    }
   ],
   "source": [
    "newCar2.model"
   ]
  },
  {
   "cell_type": "markdown",
   "id": "e8a31194",
   "metadata": {},
   "source": [
    "Lets call an attribute that does not exist\n",
    "\n",
    "__AttributeError: 'Car2' object has no attribute 'height'__"
   ]
  },
  {
   "cell_type": "code",
   "execution_count": 33,
   "id": "8522003a",
   "metadata": {},
   "outputs": [
    {
     "ename": "AttributeError",
     "evalue": "'Car2' object has no attribute 'height'",
     "output_type": "error",
     "traceback": [
      "\u001b[0;31m---------------------------------------------------------------------------\u001b[0m",
      "\u001b[0;31mAttributeError\u001b[0m                            Traceback (most recent call last)",
      "Cell \u001b[0;32mIn[33], line 1\u001b[0m\n\u001b[0;32m----> 1\u001b[0m newCar2\u001b[38;5;241m.\u001b[39mheight\n",
      "\u001b[0;31mAttributeError\u001b[0m: 'Car2' object has no attribute 'height'"
     ]
    }
   ],
   "source": [
    "newCar2.height"
   ]
  },
  {
   "cell_type": "code",
   "execution_count": 34,
   "id": "c5c5ec56",
   "metadata": {},
   "outputs": [
    {
     "data": {
      "text/plain": [
       "'Tesla'"
      ]
     },
     "execution_count": 34,
     "metadata": {},
     "output_type": "execute_result"
    }
   ],
   "source": [
    "newCar2.model"
   ]
  },
  {
   "cell_type": "code",
   "execution_count": 35,
   "id": "b4d5cbdf",
   "metadata": {},
   "outputs": [
    {
     "data": {
      "text/plain": [
       "'Matte'"
      ]
     },
     "execution_count": 35,
     "metadata": {},
     "output_type": "execute_result"
    }
   ],
   "source": [
    "newCar2.color"
   ]
  },
  {
   "cell_type": "markdown",
   "id": "d68b6ec2",
   "metadata": {},
   "source": [
    "#### Method"
   ]
  },
  {
   "cell_type": "code",
   "execution_count": 23,
   "id": "ae65976b",
   "metadata": {},
   "outputs": [],
   "source": [
    "class Car3:\n",
    "    # define the init method => to start something\n",
    "    def __init__(self):\n",
    "        self.model = 'Tesla'\n",
    "        self.color = 'Matte'\n",
    "        self.size = 1000\n",
    "        self.fuel_type = 'Electric'\n",
    "        self.fuel_capacity = 10000\n",
    "        \n",
    "    def intro(self):\n",
    "        self.greet = f'I am {self.model}, The best among the best.....'\n",
    "        print(self.greet)   \n",
    "    def carColor(self):\n",
    "        print('My color is', self.color)\n",
    "        \n",
    "    # method that can modify our attribute\n",
    "    def fuel_used(self, fuelAmount):\n",
    "        self.fuel_capacity -= fuelAmount\n",
    "        \n",
    "        \n",
    "newCar3 = Car3()"
   ]
  },
  {
   "cell_type": "code",
   "execution_count": 24,
   "id": "61a94728",
   "metadata": {},
   "outputs": [
    {
     "name": "stdout",
     "output_type": "stream",
     "text": [
      "I am Tesla, The best among the best.....\n"
     ]
    }
   ],
   "source": [
    "newCar3.intro()"
   ]
  },
  {
   "cell_type": "code",
   "execution_count": 75,
   "id": "c9806252",
   "metadata": {},
   "outputs": [
    {
     "name": "stdout",
     "output_type": "stream",
     "text": [
      "My color is Matte\n"
     ]
    }
   ],
   "source": [
    "newCar3.carColor()"
   ]
  },
  {
   "cell_type": "code",
   "execution_count": 80,
   "id": "66b4d1a2",
   "metadata": {},
   "outputs": [
    {
     "data": {
      "text/plain": [
       "10000"
      ]
     },
     "execution_count": 80,
     "metadata": {},
     "output_type": "execute_result"
    }
   ],
   "source": [
    "newCar3.fuel_capacity"
   ]
  },
  {
   "cell_type": "code",
   "execution_count": 81,
   "id": "6c98c968",
   "metadata": {},
   "outputs": [],
   "source": [
    "newCar3.fuel_used(2500)"
   ]
  },
  {
   "cell_type": "code",
   "execution_count": 83,
   "id": "978dbe1e",
   "metadata": {},
   "outputs": [
    {
     "data": {
      "text/plain": [
       "7500"
      ]
     },
     "execution_count": 83,
     "metadata": {},
     "output_type": "execute_result"
    }
   ],
   "source": [
    "newCar3.fuel_capacity"
   ]
  },
  {
   "cell_type": "code",
   "execution_count": null,
   "id": "d13fc908",
   "metadata": {},
   "outputs": [],
   "source": []
  },
  {
   "cell_type": "markdown",
   "id": "0933d64f",
   "metadata": {},
   "source": [
    "### instance variable"
   ]
  },
  {
   "cell_type": "code",
   "execution_count": 26,
   "id": "9b84020e",
   "metadata": {},
   "outputs": [],
   "source": [
    "class Car:\n",
    "    \n",
    "    def __init__(self,model,color,fuel_capacity):\n",
    "        self.model = model\n",
    "        self.color =color\n",
    "        self.fuel_capacity = fuel_capacity\n",
    "        \n",
    "    def intro(self):\n",
    "        self.greet = f'I am {self.model}, The best among the best.....'\n",
    "        print(self.greet)\n",
    "            \n",
    "    def carColor(self):\n",
    "        print('My color is', self.color)\n",
    "        \n",
    "    # method that can modify our attribute\n",
    "    def fuel_used(self, fuelAmount = 0):\n",
    "        self.fuel_capacity -= fuelAmount\n",
    "        "
   ]
  },
  {
   "cell_type": "code",
   "execution_count": 27,
   "id": "067bf316",
   "metadata": {},
   "outputs": [],
   "source": [
    "bmw = Car('BMW', 'Blue', 50000)"
   ]
  },
  {
   "cell_type": "code",
   "execution_count": 28,
   "id": "ed92bac1",
   "metadata": {},
   "outputs": [
    {
     "data": {
      "text/plain": [
       "'BMW'"
      ]
     },
     "execution_count": 28,
     "metadata": {},
     "output_type": "execute_result"
    }
   ],
   "source": [
    "bmw.model"
   ]
  },
  {
   "cell_type": "code",
   "execution_count": 29,
   "id": "b6f9daca",
   "metadata": {},
   "outputs": [
    {
     "name": "stdout",
     "output_type": "stream",
     "text": [
      "I am BMW, The best among the best.....\n"
     ]
    }
   ],
   "source": [
    "bmw.intro()"
   ]
  },
  {
   "cell_type": "code",
   "execution_count": 30,
   "id": "abef00ac",
   "metadata": {},
   "outputs": [],
   "source": [
    "tesla = Car('Tesla', 'Matte Black', 20000)"
   ]
  },
  {
   "cell_type": "code",
   "execution_count": 31,
   "id": "d9aa50c4",
   "metadata": {},
   "outputs": [
    {
     "name": "stdout",
     "output_type": "stream",
     "text": [
      "I am Tesla, The best among the best.....\n"
     ]
    }
   ],
   "source": [
    "tesla.intro()"
   ]
  },
  {
   "cell_type": "code",
   "execution_count": 33,
   "id": "1534ab61",
   "metadata": {},
   "outputs": [],
   "source": [
    "tesla.fuel_used(14000)"
   ]
  },
  {
   "cell_type": "code",
   "execution_count": 34,
   "id": "9700965c",
   "metadata": {},
   "outputs": [
    {
     "data": {
      "text/plain": [
       "6000"
      ]
     },
     "execution_count": 34,
     "metadata": {},
     "output_type": "execute_result"
    }
   ],
   "source": [
    "tesla.fuel_capacity"
   ]
  },
  {
   "cell_type": "code",
   "execution_count": null,
   "id": "ce0c8764",
   "metadata": {},
   "outputs": [],
   "source": []
  },
  {
   "cell_type": "markdown",
   "id": "af88b278",
   "metadata": {},
   "source": [
    "#### Method scope"
   ]
  },
  {
   "cell_type": "code",
   "execution_count": 36,
   "id": "7c65222b",
   "metadata": {},
   "outputs": [
    {
     "name": "stdout",
     "output_type": "stream",
     "text": [
      "2\n"
     ]
    }
   ],
   "source": [
    "class Dog():\n",
    "    def showAge(self,age):\n",
    "        print(age)\n",
    "        \n",
    "sam = Dog()\n",
    "sam.showAge(2)"
   ]
  },
  {
   "cell_type": "code",
   "execution_count": null,
   "id": "094f0a86",
   "metadata": {},
   "outputs": [],
   "source": [
    "class Employee:\n",
    "    def __init__(self):\n",
    "    def add_employee(self):"
   ]
  },
  {
   "cell_type": "code",
   "execution_count": null,
   "id": "566837a2",
   "metadata": {},
   "outputs": [],
   "source": []
  }
 ],
 "metadata": {
  "kernelspec": {
   "display_name": "Python 3 (ipykernel)",
   "language": "python",
   "name": "python3"
  },
  "language_info": {
   "codemirror_mode": {
    "name": "ipython",
    "version": 3
   },
   "file_extension": ".py",
   "mimetype": "text/x-python",
   "name": "python",
   "nbconvert_exporter": "python",
   "pygments_lexer": "ipython3",
   "version": "3.11.5"
  }
 },
 "nbformat": 4,
 "nbformat_minor": 5
}
