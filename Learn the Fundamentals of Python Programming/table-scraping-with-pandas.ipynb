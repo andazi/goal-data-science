{
 "cells": [
  {
   "cell_type": "markdown",
   "metadata": {},
   "source": [
    "# WEB SCRAPING WITH PANDAS"
   ]
  },
  {
   "cell_type": "markdown",
   "metadata": {},
   "source": [
    "Web scraping with pandas is quite restricted and simple.\n",
    "\n",
    "We can only extract tables, specifically HTML tables from the web"
   ]
  },
  {
   "cell_type": "code",
   "execution_count": 8,
   "metadata": {},
   "outputs": [],
   "source": [
    "# import the pandas library as pd\n",
    "import pandas as pd\n",
    "# import regular expression\n",
    "import re"
   ]
  },
  {
   "cell_type": "code",
   "execution_count": 11,
   "metadata": {},
   "outputs": [],
   "source": [
    "# read the html on the provided url\n",
    "flower = pd.read_html('https://en.wikipedia.org/wiki/List_of_plants_with_symbolism')"
   ]
  },
  {
   "cell_type": "code",
   "execution_count": 13,
   "metadata": {},
   "outputs": [
    {
     "data": {
      "text/plain": [
       "[    0                                                  1\n",
       " 0 NaN  This article includes a list of general refere...,\n",
       "                    0                                                  1  \\\n",
       " 0              Plant                                            Meaning   \n",
       " 1  Asparagus foliage                                        Fascination   \n",
       " 2             Bamboo                     Longevity, strength, and grace   \n",
       " 3       Green willow                                         False love   \n",
       " 4          Mistletoe  Used to signify a meeting place where no viole...   \n",
       " 5  Maple Tree/leaves             balance, love, longevity and abundance   \n",
       " \n",
       "                    2  \n",
       " 0  Region or culture  \n",
       " 1             Europe  \n",
       " 2              China  \n",
       " 3            Britain  \n",
       " 4             Druids  \n",
       " 5            Various  ,\n",
       "                                                      0  \\\n",
       " 0    Flower Meaning Acacia rose or white Secret Lov...   \n",
       " 1                                               Flower   \n",
       " 2                                               Acacia   \n",
       " 3                                               Acacia   \n",
       " 4                                          Abatina [1]   \n",
       " ..                                                 ...   \n",
       " 287                                          Wolfsbane   \n",
       " 288                                           Wormwood   \n",
       " 289                                             Yarrow   \n",
       " 290                                        Ylang-Ylang   \n",
       " 291                                             Zinnia   \n",
       " \n",
       "                                                      1  \\\n",
       " 0    Flower Meaning Ivy Dependence, endurance, fait...   \n",
       " 1                                               Flower   \n",
       " 2                                        rose or white   \n",
       " 3                                               yellow   \n",
       " 4                                          Abatina [1]   \n",
       " ..                                                 ...   \n",
       " 287                                          Wolfsbane   \n",
       " 288                                           Wormwood   \n",
       " 289                                             Yarrow   \n",
       " 290                                        Ylang-Ylang   \n",
       " 291                                             Zinnia   \n",
       " \n",
       "                                                      2  \n",
       " 0                                                  NaN  \n",
       " 1                                              Meaning  \n",
       " 2                                          Secret Love  \n",
       " 3                                             Elegance  \n",
       " 4                                        Fickleness[2]  \n",
       " ..                                                 ...  \n",
       " 287                                        Misanthropy  \n",
       " 288                             Absence, bitter sorrow  \n",
       " 289                               Healing, inspiration  \n",
       " 290                                  Never-ending love  \n",
       " 291  Thinking of you; remembering absent friends, s...  \n",
       " \n",
       " [292 rows x 3 columns],\n",
       "           Flower       Flower.1                    Meaning\n",
       " 0         Acacia  rose or white                Secret Love\n",
       " 1         Acacia         yellow                   Elegance\n",
       " 2    Abatina [1]    Abatina [1]              Fickleness[2]\n",
       " 3       Acanthus       Acanthus  Art, Immortality, Rebirth\n",
       " 4      Agrimonia      Agrimonia    Thankfulness, gratitude\n",
       " ..           ...            ...                        ...\n",
       " 141         Iris        general       Eloquence, good news\n",
       " 142         Iris           blue                Faith, hope\n",
       " 143         Iris         purple        Wisdom, compliments\n",
       " 144         Iris         yellow                    Passion\n",
       " 145         Iris          white                     Purity\n",
       " \n",
       " [146 rows x 3 columns],\n",
       "                 Flower           Flower.1  \\\n",
       " 0                  Ivy                Ivy   \n",
       " 1              Jasmine            Jasmine   \n",
       " 2              Jonquil            Jonquil   \n",
       " 3    Kerria 棣棠 Dì táng  Kerria 棣棠 Dì táng   \n",
       " 4             Larkspur           Larkspur   \n",
       " ..                 ...                ...   \n",
       " 138          Wolfsbane          Wolfsbane   \n",
       " 139           Wormwood           Wormwood   \n",
       " 140             Yarrow             Yarrow   \n",
       " 141        Ylang-Ylang        Ylang-Ylang   \n",
       " 142             Zinnia             Zinnia   \n",
       " \n",
       "                                                Meaning  \n",
       " 0                  Dependence, endurance, faithfulness  \n",
       " 1    Unconditional and eternal love, monetary wealt...  \n",
       " 2                                  Return my affection  \n",
       " 3                (China) Royalty, Nobility of heart[8]  \n",
       " 4           Levity, lightness; fickleness, haughtiness  \n",
       " ..                                                 ...  \n",
       " 138                                        Misanthropy  \n",
       " 139                             Absence, bitter sorrow  \n",
       " 140                               Healing, inspiration  \n",
       " 141                                  Never-ending love  \n",
       " 142  Thinking of you; remembering absent friends, s...  \n",
       " \n",
       " [143 rows x 3 columns],\n",
       "   Authority control databases  \\\n",
       " 0               International   \n",
       " 1                    National   \n",
       " 2                       Other   \n",
       " \n",
       "                        Authority control databases.1  \n",
       " 0                                               FAST  \n",
       " 1  Spain France BnF data Germany Israel United St...  \n",
       " 2                                              IdRef  ]"
      ]
     },
     "execution_count": 13,
     "metadata": {},
     "output_type": "execute_result"
    }
   ],
   "source": [
    "# check our output\n",
    "flower"
   ]
  },
  {
   "cell_type": "code",
   "execution_count": 14,
   "metadata": {},
   "outputs": [
    {
     "name": "stdout",
     "output_type": "stream",
     "text": [
      "****************************************************************************************************\n",
      "====> 0\n",
      "    0                                                  1\n",
      "0 NaN  This article includes a list of general refere...\n",
      "****************************************************************************************************\n",
      "====> 1\n",
      "                   0                                                  1  \\\n",
      "0              Plant                                            Meaning   \n",
      "1  Asparagus foliage                                        Fascination   \n",
      "2             Bamboo                     Longevity, strength, and grace   \n",
      "3       Green willow                                         False love   \n",
      "4          Mistletoe  Used to signify a meeting place where no viole...   \n",
      "5  Maple Tree/leaves             balance, love, longevity and abundance   \n",
      "\n",
      "                   2  \n",
      "0  Region or culture  \n",
      "1             Europe  \n",
      "2              China  \n",
      "3            Britain  \n",
      "4             Druids  \n",
      "5            Various  \n",
      "****************************************************************************************************\n",
      "====> 2\n",
      "                                                     0  \\\n",
      "0    Flower Meaning Acacia rose or white Secret Lov...   \n",
      "1                                               Flower   \n",
      "2                                               Acacia   \n",
      "3                                               Acacia   \n",
      "4                                          Abatina [1]   \n",
      "..                                                 ...   \n",
      "287                                          Wolfsbane   \n",
      "288                                           Wormwood   \n",
      "289                                             Yarrow   \n",
      "290                                        Ylang-Ylang   \n",
      "291                                             Zinnia   \n",
      "\n",
      "                                                     1  \\\n",
      "0    Flower Meaning Ivy Dependence, endurance, fait...   \n",
      "1                                               Flower   \n",
      "2                                        rose or white   \n",
      "3                                               yellow   \n",
      "4                                          Abatina [1]   \n",
      "..                                                 ...   \n",
      "287                                          Wolfsbane   \n",
      "288                                           Wormwood   \n",
      "289                                             Yarrow   \n",
      "290                                        Ylang-Ylang   \n",
      "291                                             Zinnia   \n",
      "\n",
      "                                                     2  \n",
      "0                                                  NaN  \n",
      "1                                              Meaning  \n",
      "2                                          Secret Love  \n",
      "3                                             Elegance  \n",
      "4                                        Fickleness[2]  \n",
      "..                                                 ...  \n",
      "287                                        Misanthropy  \n",
      "288                             Absence, bitter sorrow  \n",
      "289                               Healing, inspiration  \n",
      "290                                  Never-ending love  \n",
      "291  Thinking of you; remembering absent friends, s...  \n",
      "\n",
      "[292 rows x 3 columns]\n",
      "****************************************************************************************************\n",
      "====> 3\n",
      "          Flower       Flower.1                    Meaning\n",
      "0         Acacia  rose or white                Secret Love\n",
      "1         Acacia         yellow                   Elegance\n",
      "2    Abatina [1]    Abatina [1]              Fickleness[2]\n",
      "3       Acanthus       Acanthus  Art, Immortality, Rebirth\n",
      "4      Agrimonia      Agrimonia    Thankfulness, gratitude\n",
      "..           ...            ...                        ...\n",
      "141         Iris        general       Eloquence, good news\n",
      "142         Iris           blue                Faith, hope\n",
      "143         Iris         purple        Wisdom, compliments\n",
      "144         Iris         yellow                    Passion\n",
      "145         Iris          white                     Purity\n",
      "\n",
      "[146 rows x 3 columns]\n",
      "****************************************************************************************************\n",
      "====> 4\n",
      "                Flower           Flower.1  \\\n",
      "0                  Ivy                Ivy   \n",
      "1              Jasmine            Jasmine   \n",
      "2              Jonquil            Jonquil   \n",
      "3    Kerria 棣棠 Dì táng  Kerria 棣棠 Dì táng   \n",
      "4             Larkspur           Larkspur   \n",
      "..                 ...                ...   \n",
      "138          Wolfsbane          Wolfsbane   \n",
      "139           Wormwood           Wormwood   \n",
      "140             Yarrow             Yarrow   \n",
      "141        Ylang-Ylang        Ylang-Ylang   \n",
      "142             Zinnia             Zinnia   \n",
      "\n",
      "                                               Meaning  \n",
      "0                  Dependence, endurance, faithfulness  \n",
      "1    Unconditional and eternal love, monetary wealt...  \n",
      "2                                  Return my affection  \n",
      "3                (China) Royalty, Nobility of heart[8]  \n",
      "4           Levity, lightness; fickleness, haughtiness  \n",
      "..                                                 ...  \n",
      "138                                        Misanthropy  \n",
      "139                             Absence, bitter sorrow  \n",
      "140                               Healing, inspiration  \n",
      "141                                  Never-ending love  \n",
      "142  Thinking of you; remembering absent friends, s...  \n",
      "\n",
      "[143 rows x 3 columns]\n",
      "****************************************************************************************************\n",
      "====> 5\n",
      "  Authority control databases  \\\n",
      "0               International   \n",
      "1                    National   \n",
      "2                       Other   \n",
      "\n",
      "                       Authority control databases.1  \n",
      "0                                               FAST  \n",
      "1  Spain France BnF data Germany Israel United St...  \n",
      "2                                              IdRef  \n"
     ]
    }
   ],
   "source": [
    "# view all the tables wjile assigning their index to know the excat table to extract\n",
    "for idx,val in enumerate(flower):\n",
    "    print('*' * 100)\n",
    "    print('====>',idx)\n",
    "    print(val)"
   ]
  },
  {
   "cell_type": "code",
   "execution_count": 15,
   "metadata": {},
   "outputs": [
    {
     "data": {
      "text/plain": [
       "6"
      ]
     },
     "execution_count": 15,
     "metadata": {},
     "output_type": "execute_result"
    }
   ],
   "source": [
    "# there are six tables\n",
    "len(flower)"
   ]
  },
  {
   "cell_type": "code",
   "execution_count": 16,
   "metadata": {},
   "outputs": [
    {
     "data": {
      "text/html": [
       "<div>\n",
       "<style scoped>\n",
       "    .dataframe tbody tr th:only-of-type {\n",
       "        vertical-align: middle;\n",
       "    }\n",
       "\n",
       "    .dataframe tbody tr th {\n",
       "        vertical-align: top;\n",
       "    }\n",
       "\n",
       "    .dataframe thead th {\n",
       "        text-align: right;\n",
       "    }\n",
       "</style>\n",
       "<table border=\"1\" class=\"dataframe\">\n",
       "  <thead>\n",
       "    <tr style=\"text-align: right;\">\n",
       "      <th></th>\n",
       "      <th>0</th>\n",
       "      <th>1</th>\n",
       "    </tr>\n",
       "  </thead>\n",
       "  <tbody>\n",
       "    <tr>\n",
       "      <th>0</th>\n",
       "      <td>NaN</td>\n",
       "      <td>This article includes a list of general refere...</td>\n",
       "    </tr>\n",
       "  </tbody>\n",
       "</table>\n",
       "</div>"
      ],
      "text/plain": [
       "    0                                                  1\n",
       "0 NaN  This article includes a list of general refere..."
      ]
     },
     "execution_count": 16,
     "metadata": {},
     "output_type": "execute_result"
    }
   ],
   "source": [
    "# we wont be using index 0\n",
    "flower[0]"
   ]
  },
  {
   "cell_type": "code",
   "execution_count": 17,
   "metadata": {},
   "outputs": [
    {
     "data": {
      "text/html": [
       "<div>\n",
       "<style scoped>\n",
       "    .dataframe tbody tr th:only-of-type {\n",
       "        vertical-align: middle;\n",
       "    }\n",
       "\n",
       "    .dataframe tbody tr th {\n",
       "        vertical-align: top;\n",
       "    }\n",
       "\n",
       "    .dataframe thead th {\n",
       "        text-align: right;\n",
       "    }\n",
       "</style>\n",
       "<table border=\"1\" class=\"dataframe\">\n",
       "  <thead>\n",
       "    <tr style=\"text-align: right;\">\n",
       "      <th></th>\n",
       "      <th>0</th>\n",
       "      <th>1</th>\n",
       "      <th>2</th>\n",
       "    </tr>\n",
       "  </thead>\n",
       "  <tbody>\n",
       "    <tr>\n",
       "      <th>0</th>\n",
       "      <td>Plant</td>\n",
       "      <td>Meaning</td>\n",
       "      <td>Region or culture</td>\n",
       "    </tr>\n",
       "    <tr>\n",
       "      <th>1</th>\n",
       "      <td>Asparagus foliage</td>\n",
       "      <td>Fascination</td>\n",
       "      <td>Europe</td>\n",
       "    </tr>\n",
       "    <tr>\n",
       "      <th>2</th>\n",
       "      <td>Bamboo</td>\n",
       "      <td>Longevity, strength, and grace</td>\n",
       "      <td>China</td>\n",
       "    </tr>\n",
       "    <tr>\n",
       "      <th>3</th>\n",
       "      <td>Green willow</td>\n",
       "      <td>False love</td>\n",
       "      <td>Britain</td>\n",
       "    </tr>\n",
       "    <tr>\n",
       "      <th>4</th>\n",
       "      <td>Mistletoe</td>\n",
       "      <td>Used to signify a meeting place where no viole...</td>\n",
       "      <td>Druids</td>\n",
       "    </tr>\n",
       "    <tr>\n",
       "      <th>5</th>\n",
       "      <td>Maple Tree/leaves</td>\n",
       "      <td>balance, love, longevity and abundance</td>\n",
       "      <td>Various</td>\n",
       "    </tr>\n",
       "  </tbody>\n",
       "</table>\n",
       "</div>"
      ],
      "text/plain": [
       "                   0                                                  1  \\\n",
       "0              Plant                                            Meaning   \n",
       "1  Asparagus foliage                                        Fascination   \n",
       "2             Bamboo                     Longevity, strength, and grace   \n",
       "3       Green willow                                         False love   \n",
       "4          Mistletoe  Used to signify a meeting place where no viole...   \n",
       "5  Maple Tree/leaves             balance, love, longevity and abundance   \n",
       "\n",
       "                   2  \n",
       "0  Region or culture  \n",
       "1             Europe  \n",
       "2              China  \n",
       "3            Britain  \n",
       "4             Druids  \n",
       "5            Various  "
      ]
     },
     "execution_count": 17,
     "metadata": {},
     "output_type": "execute_result"
    }
   ],
   "source": [
    "flower[1] # this table contains plant and not specifically flower\n",
    "# we rename the variable for better understanding\n",
    "plant = flower[1]\n",
    "plant"
   ]
  },
  {
   "cell_type": "markdown",
   "metadata": {},
   "source": [
    "We would be using __row 1__ as our table head "
   ]
  },
  {
   "cell_type": "markdown",
   "metadata": {},
   "source": [
    "### we have extracted our table, why dont we clean it "
   ]
  },
  {
   "cell_type": "markdown",
   "metadata": {},
   "source": [
    "From the table above, we notice the columns head named as 0,1,2 while the correct column names is in row 1"
   ]
  },
  {
   "cell_type": "markdown",
   "metadata": {},
   "source": [
    "#### we use __iloc__ to extract just row 1 to a Series"
   ]
  },
  {
   "cell_type": "code",
   "execution_count": 18,
   "metadata": {},
   "outputs": [
    {
     "data": {
      "text/plain": [
       "0                Plant\n",
       "1              Meaning\n",
       "2    Region or culture\n",
       "Name: 0, dtype: object"
      ]
     },
     "execution_count": 18,
     "metadata": {},
     "output_type": "execute_result"
    }
   ],
   "source": [
    "plant.iloc[0]"
   ]
  },
  {
   "cell_type": "markdown",
   "metadata": {},
   "source": [
    "#### we then extract their values from the series to a numpy array"
   ]
  },
  {
   "cell_type": "code",
   "execution_count": 19,
   "metadata": {},
   "outputs": [
    {
     "data": {
      "text/plain": [
       "numpy.ndarray"
      ]
     },
     "execution_count": 19,
     "metadata": {},
     "output_type": "execute_result"
    }
   ],
   "source": [
    "type(plant.iloc[0].values)"
   ]
  },
  {
   "cell_type": "markdown",
   "metadata": {},
   "source": [
    "#### convert array to list type"
   ]
  },
  {
   "cell_type": "code",
   "execution_count": 20,
   "metadata": {},
   "outputs": [
    {
     "data": {
      "text/plain": [
       "['Plant', 'Meaning', 'Region or culture']"
      ]
     },
     "execution_count": 20,
     "metadata": {},
     "output_type": "execute_result"
    }
   ],
   "source": [
    "plant.iloc[0].values.tolist()"
   ]
  },
  {
   "cell_type": "code",
   "execution_count": 21,
   "metadata": {},
   "outputs": [],
   "source": [
    "# assign it to new_plant_column\n",
    "new_plant_column = plant.iloc[0].values.tolist()"
   ]
  },
  {
   "cell_type": "code",
   "execution_count": 22,
   "metadata": {},
   "outputs": [],
   "source": [
    "# assign the new column names to column heads\n",
    "plant.columns = new_plant_column"
   ]
  },
  {
   "cell_type": "code",
   "execution_count": 23,
   "metadata": {},
   "outputs": [
    {
     "data": {
      "text/html": [
       "<div>\n",
       "<style scoped>\n",
       "    .dataframe tbody tr th:only-of-type {\n",
       "        vertical-align: middle;\n",
       "    }\n",
       "\n",
       "    .dataframe tbody tr th {\n",
       "        vertical-align: top;\n",
       "    }\n",
       "\n",
       "    .dataframe thead th {\n",
       "        text-align: right;\n",
       "    }\n",
       "</style>\n",
       "<table border=\"1\" class=\"dataframe\">\n",
       "  <thead>\n",
       "    <tr style=\"text-align: right;\">\n",
       "      <th></th>\n",
       "      <th>Plant</th>\n",
       "      <th>Meaning</th>\n",
       "      <th>Region or culture</th>\n",
       "    </tr>\n",
       "  </thead>\n",
       "  <tbody>\n",
       "    <tr>\n",
       "      <th>0</th>\n",
       "      <td>Plant</td>\n",
       "      <td>Meaning</td>\n",
       "      <td>Region or culture</td>\n",
       "    </tr>\n",
       "    <tr>\n",
       "      <th>1</th>\n",
       "      <td>Asparagus foliage</td>\n",
       "      <td>Fascination</td>\n",
       "      <td>Europe</td>\n",
       "    </tr>\n",
       "    <tr>\n",
       "      <th>2</th>\n",
       "      <td>Bamboo</td>\n",
       "      <td>Longevity, strength, and grace</td>\n",
       "      <td>China</td>\n",
       "    </tr>\n",
       "    <tr>\n",
       "      <th>3</th>\n",
       "      <td>Green willow</td>\n",
       "      <td>False love</td>\n",
       "      <td>Britain</td>\n",
       "    </tr>\n",
       "    <tr>\n",
       "      <th>4</th>\n",
       "      <td>Mistletoe</td>\n",
       "      <td>Used to signify a meeting place where no viole...</td>\n",
       "      <td>Druids</td>\n",
       "    </tr>\n",
       "    <tr>\n",
       "      <th>5</th>\n",
       "      <td>Maple Tree/leaves</td>\n",
       "      <td>balance, love, longevity and abundance</td>\n",
       "      <td>Various</td>\n",
       "    </tr>\n",
       "  </tbody>\n",
       "</table>\n",
       "</div>"
      ],
      "text/plain": [
       "               Plant                                            Meaning  \\\n",
       "0              Plant                                            Meaning   \n",
       "1  Asparagus foliage                                        Fascination   \n",
       "2             Bamboo                     Longevity, strength, and grace   \n",
       "3       Green willow                                         False love   \n",
       "4          Mistletoe  Used to signify a meeting place where no viole...   \n",
       "5  Maple Tree/leaves             balance, love, longevity and abundance   \n",
       "\n",
       "   Region or culture  \n",
       "0  Region or culture  \n",
       "1             Europe  \n",
       "2              China  \n",
       "3            Britain  \n",
       "4             Druids  \n",
       "5            Various  "
      ]
     },
     "execution_count": 23,
     "metadata": {},
     "output_type": "execute_result"
    }
   ],
   "source": [
    "plant"
   ]
  },
  {
   "cell_type": "code",
   "execution_count": 24,
   "metadata": {
    "scrolled": true
   },
   "outputs": [
    {
     "data": {
      "text/html": [
       "<div>\n",
       "<style scoped>\n",
       "    .dataframe tbody tr th:only-of-type {\n",
       "        vertical-align: middle;\n",
       "    }\n",
       "\n",
       "    .dataframe tbody tr th {\n",
       "        vertical-align: top;\n",
       "    }\n",
       "\n",
       "    .dataframe thead th {\n",
       "        text-align: right;\n",
       "    }\n",
       "</style>\n",
       "<table border=\"1\" class=\"dataframe\">\n",
       "  <thead>\n",
       "    <tr style=\"text-align: right;\">\n",
       "      <th></th>\n",
       "      <th>Plant</th>\n",
       "      <th>Meaning</th>\n",
       "      <th>Region or culture</th>\n",
       "    </tr>\n",
       "  </thead>\n",
       "  <tbody>\n",
       "    <tr>\n",
       "      <th>1</th>\n",
       "      <td>Asparagus foliage</td>\n",
       "      <td>Fascination</td>\n",
       "      <td>Europe</td>\n",
       "    </tr>\n",
       "    <tr>\n",
       "      <th>2</th>\n",
       "      <td>Bamboo</td>\n",
       "      <td>Longevity, strength, and grace</td>\n",
       "      <td>China</td>\n",
       "    </tr>\n",
       "    <tr>\n",
       "      <th>3</th>\n",
       "      <td>Green willow</td>\n",
       "      <td>False love</td>\n",
       "      <td>Britain</td>\n",
       "    </tr>\n",
       "    <tr>\n",
       "      <th>4</th>\n",
       "      <td>Mistletoe</td>\n",
       "      <td>Used to signify a meeting place where no viole...</td>\n",
       "      <td>Druids</td>\n",
       "    </tr>\n",
       "    <tr>\n",
       "      <th>5</th>\n",
       "      <td>Maple Tree/leaves</td>\n",
       "      <td>balance, love, longevity and abundance</td>\n",
       "      <td>Various</td>\n",
       "    </tr>\n",
       "  </tbody>\n",
       "</table>\n",
       "</div>"
      ],
      "text/plain": [
       "               Plant                                            Meaning  \\\n",
       "1  Asparagus foliage                                        Fascination   \n",
       "2             Bamboo                     Longevity, strength, and grace   \n",
       "3       Green willow                                         False love   \n",
       "4          Mistletoe  Used to signify a meeting place where no viole...   \n",
       "5  Maple Tree/leaves             balance, love, longevity and abundance   \n",
       "\n",
       "  Region or culture  \n",
       "1            Europe  \n",
       "2             China  \n",
       "3           Britain  \n",
       "4            Druids  \n",
       "5           Various  "
      ]
     },
     "execution_count": 24,
     "metadata": {},
     "output_type": "execute_result"
    }
   ],
   "source": [
    "plant = plant.drop(0, axis=0)\n",
    "plant"
   ]
  },
  {
   "cell_type": "markdown",
   "metadata": {},
   "source": [
    "__Exporting our plant table to csv file and storing it in a folder called plant-flower-meaning__"
   ]
  },
  {
   "cell_type": "code",
   "execution_count": 25,
   "metadata": {},
   "outputs": [],
   "source": [
    "# plant.to_csv('plant-flower-meaning/plant and their meaning.csv')"
   ]
  },
  {
   "cell_type": "code",
   "execution_count": null,
   "metadata": {},
   "outputs": [],
   "source": []
  },
  {
   "cell_type": "code",
   "execution_count": null,
   "metadata": {},
   "outputs": [],
   "source": []
  },
  {
   "cell_type": "code",
   "execution_count": null,
   "metadata": {},
   "outputs": [],
   "source": []
  },
  {
   "cell_type": "code",
   "execution_count": 26,
   "metadata": {},
   "outputs": [
    {
     "data": {
      "text/html": [
       "<div>\n",
       "<style scoped>\n",
       "    .dataframe tbody tr th:only-of-type {\n",
       "        vertical-align: middle;\n",
       "    }\n",
       "\n",
       "    .dataframe tbody tr th {\n",
       "        vertical-align: top;\n",
       "    }\n",
       "\n",
       "    .dataframe thead th {\n",
       "        text-align: right;\n",
       "    }\n",
       "</style>\n",
       "<table border=\"1\" class=\"dataframe\">\n",
       "  <thead>\n",
       "    <tr style=\"text-align: right;\">\n",
       "      <th></th>\n",
       "      <th>0</th>\n",
       "      <th>1</th>\n",
       "      <th>2</th>\n",
       "    </tr>\n",
       "  </thead>\n",
       "  <tbody>\n",
       "    <tr>\n",
       "      <th>0</th>\n",
       "      <td>Flower Meaning Acacia rose or white Secret Lov...</td>\n",
       "      <td>Flower Meaning Ivy Dependence, endurance, fait...</td>\n",
       "      <td>NaN</td>\n",
       "    </tr>\n",
       "    <tr>\n",
       "      <th>1</th>\n",
       "      <td>Flower</td>\n",
       "      <td>Flower</td>\n",
       "      <td>Meaning</td>\n",
       "    </tr>\n",
       "    <tr>\n",
       "      <th>2</th>\n",
       "      <td>Acacia</td>\n",
       "      <td>rose or white</td>\n",
       "      <td>Secret Love</td>\n",
       "    </tr>\n",
       "    <tr>\n",
       "      <th>3</th>\n",
       "      <td>Acacia</td>\n",
       "      <td>yellow</td>\n",
       "      <td>Elegance</td>\n",
       "    </tr>\n",
       "    <tr>\n",
       "      <th>4</th>\n",
       "      <td>Abatina [1]</td>\n",
       "      <td>Abatina [1]</td>\n",
       "      <td>Fickleness[2]</td>\n",
       "    </tr>\n",
       "    <tr>\n",
       "      <th>...</th>\n",
       "      <td>...</td>\n",
       "      <td>...</td>\n",
       "      <td>...</td>\n",
       "    </tr>\n",
       "    <tr>\n",
       "      <th>287</th>\n",
       "      <td>Wolfsbane</td>\n",
       "      <td>Wolfsbane</td>\n",
       "      <td>Misanthropy</td>\n",
       "    </tr>\n",
       "    <tr>\n",
       "      <th>288</th>\n",
       "      <td>Wormwood</td>\n",
       "      <td>Wormwood</td>\n",
       "      <td>Absence, bitter sorrow</td>\n",
       "    </tr>\n",
       "    <tr>\n",
       "      <th>289</th>\n",
       "      <td>Yarrow</td>\n",
       "      <td>Yarrow</td>\n",
       "      <td>Healing, inspiration</td>\n",
       "    </tr>\n",
       "    <tr>\n",
       "      <th>290</th>\n",
       "      <td>Ylang-Ylang</td>\n",
       "      <td>Ylang-Ylang</td>\n",
       "      <td>Never-ending love</td>\n",
       "    </tr>\n",
       "    <tr>\n",
       "      <th>291</th>\n",
       "      <td>Zinnia</td>\n",
       "      <td>Zinnia</td>\n",
       "      <td>Thinking of you; remembering absent friends, s...</td>\n",
       "    </tr>\n",
       "  </tbody>\n",
       "</table>\n",
       "<p>292 rows × 3 columns</p>\n",
       "</div>"
      ],
      "text/plain": [
       "                                                     0  \\\n",
       "0    Flower Meaning Acacia rose or white Secret Lov...   \n",
       "1                                               Flower   \n",
       "2                                               Acacia   \n",
       "3                                               Acacia   \n",
       "4                                          Abatina [1]   \n",
       "..                                                 ...   \n",
       "287                                          Wolfsbane   \n",
       "288                                           Wormwood   \n",
       "289                                             Yarrow   \n",
       "290                                        Ylang-Ylang   \n",
       "291                                             Zinnia   \n",
       "\n",
       "                                                     1  \\\n",
       "0    Flower Meaning Ivy Dependence, endurance, fait...   \n",
       "1                                               Flower   \n",
       "2                                        rose or white   \n",
       "3                                               yellow   \n",
       "4                                          Abatina [1]   \n",
       "..                                                 ...   \n",
       "287                                          Wolfsbane   \n",
       "288                                           Wormwood   \n",
       "289                                             Yarrow   \n",
       "290                                        Ylang-Ylang   \n",
       "291                                             Zinnia   \n",
       "\n",
       "                                                     2  \n",
       "0                                                  NaN  \n",
       "1                                              Meaning  \n",
       "2                                          Secret Love  \n",
       "3                                             Elegance  \n",
       "4                                        Fickleness[2]  \n",
       "..                                                 ...  \n",
       "287                                        Misanthropy  \n",
       "288                             Absence, bitter sorrow  \n",
       "289                               Healing, inspiration  \n",
       "290                                  Never-ending love  \n",
       "291  Thinking of you; remembering absent friends, s...  \n",
       "\n",
       "[292 rows x 3 columns]"
      ]
     },
     "execution_count": 26,
     "metadata": {},
     "output_type": "execute_result"
    }
   ],
   "source": [
    "flowers = flower[2]\n",
    "flowers"
   ]
  },
  {
   "cell_type": "markdown",
   "metadata": {},
   "source": [
    "### for the above table, we notice the correct column names in the second row row[1]"
   ]
  },
  {
   "cell_type": "code",
   "execution_count": 27,
   "metadata": {},
   "outputs": [],
   "source": [
    "# we can go ahead to repeat same procedure\n",
    "flowers.columns = flowers.iloc[1].values.tolist()"
   ]
  },
  {
   "cell_type": "markdown",
   "metadata": {},
   "source": [
    "#### we would be removing the first two rows because we do not need them"
   ]
  },
  {
   "cell_type": "code",
   "execution_count": 28,
   "metadata": {},
   "outputs": [
    {
     "data": {
      "text/html": [
       "<div>\n",
       "<style scoped>\n",
       "    .dataframe tbody tr th:only-of-type {\n",
       "        vertical-align: middle;\n",
       "    }\n",
       "\n",
       "    .dataframe tbody tr th {\n",
       "        vertical-align: top;\n",
       "    }\n",
       "\n",
       "    .dataframe thead th {\n",
       "        text-align: right;\n",
       "    }\n",
       "</style>\n",
       "<table border=\"1\" class=\"dataframe\">\n",
       "  <thead>\n",
       "    <tr style=\"text-align: right;\">\n",
       "      <th></th>\n",
       "      <th>Flower</th>\n",
       "      <th>Flower</th>\n",
       "      <th>Meaning</th>\n",
       "    </tr>\n",
       "  </thead>\n",
       "  <tbody>\n",
       "    <tr>\n",
       "      <th>2</th>\n",
       "      <td>Acacia</td>\n",
       "      <td>rose or white</td>\n",
       "      <td>Secret Love</td>\n",
       "    </tr>\n",
       "    <tr>\n",
       "      <th>3</th>\n",
       "      <td>Acacia</td>\n",
       "      <td>yellow</td>\n",
       "      <td>Elegance</td>\n",
       "    </tr>\n",
       "    <tr>\n",
       "      <th>4</th>\n",
       "      <td>Abatina [1]</td>\n",
       "      <td>Abatina [1]</td>\n",
       "      <td>Fickleness[2]</td>\n",
       "    </tr>\n",
       "    <tr>\n",
       "      <th>5</th>\n",
       "      <td>Acanthus</td>\n",
       "      <td>Acanthus</td>\n",
       "      <td>Art, Immortality, Rebirth</td>\n",
       "    </tr>\n",
       "    <tr>\n",
       "      <th>6</th>\n",
       "      <td>Agrimonia</td>\n",
       "      <td>Agrimonia</td>\n",
       "      <td>Thankfulness, gratitude</td>\n",
       "    </tr>\n",
       "    <tr>\n",
       "      <th>...</th>\n",
       "      <td>...</td>\n",
       "      <td>...</td>\n",
       "      <td>...</td>\n",
       "    </tr>\n",
       "    <tr>\n",
       "      <th>287</th>\n",
       "      <td>Wolfsbane</td>\n",
       "      <td>Wolfsbane</td>\n",
       "      <td>Misanthropy</td>\n",
       "    </tr>\n",
       "    <tr>\n",
       "      <th>288</th>\n",
       "      <td>Wormwood</td>\n",
       "      <td>Wormwood</td>\n",
       "      <td>Absence, bitter sorrow</td>\n",
       "    </tr>\n",
       "    <tr>\n",
       "      <th>289</th>\n",
       "      <td>Yarrow</td>\n",
       "      <td>Yarrow</td>\n",
       "      <td>Healing, inspiration</td>\n",
       "    </tr>\n",
       "    <tr>\n",
       "      <th>290</th>\n",
       "      <td>Ylang-Ylang</td>\n",
       "      <td>Ylang-Ylang</td>\n",
       "      <td>Never-ending love</td>\n",
       "    </tr>\n",
       "    <tr>\n",
       "      <th>291</th>\n",
       "      <td>Zinnia</td>\n",
       "      <td>Zinnia</td>\n",
       "      <td>Thinking of you; remembering absent friends, s...</td>\n",
       "    </tr>\n",
       "  </tbody>\n",
       "</table>\n",
       "<p>290 rows × 3 columns</p>\n",
       "</div>"
      ],
      "text/plain": [
       "          Flower         Flower  \\\n",
       "2         Acacia  rose or white   \n",
       "3         Acacia         yellow   \n",
       "4    Abatina [1]    Abatina [1]   \n",
       "5       Acanthus       Acanthus   \n",
       "6      Agrimonia      Agrimonia   \n",
       "..           ...            ...   \n",
       "287    Wolfsbane      Wolfsbane   \n",
       "288     Wormwood       Wormwood   \n",
       "289       Yarrow         Yarrow   \n",
       "290  Ylang-Ylang    Ylang-Ylang   \n",
       "291       Zinnia         Zinnia   \n",
       "\n",
       "                                               Meaning  \n",
       "2                                          Secret Love  \n",
       "3                                             Elegance  \n",
       "4                                        Fickleness[2]  \n",
       "5                            Art, Immortality, Rebirth  \n",
       "6                              Thankfulness, gratitude  \n",
       "..                                                 ...  \n",
       "287                                        Misanthropy  \n",
       "288                             Absence, bitter sorrow  \n",
       "289                               Healing, inspiration  \n",
       "290                                  Never-ending love  \n",
       "291  Thinking of you; remembering absent friends, s...  \n",
       "\n",
       "[290 rows x 3 columns]"
      ]
     },
     "execution_count": 28,
     "metadata": {},
     "output_type": "execute_result"
    }
   ],
   "source": [
    "flowers = flowers.drop([0,1], axis=0)\n",
    "flowers"
   ]
  },
  {
   "cell_type": "markdown",
   "metadata": {},
   "source": [
    "#### we have notice wikipedia pattern of html reference link\n",
    "\n",
    "This patterns are most numbers enclosed in square brackets such as [2], [4], [1]\n",
    "\n",
    "- our goal is to use __regular expression to remove such patterns__"
   ]
  },
  {
   "cell_type": "markdown",
   "metadata": {},
   "source": [
    "#### we would be using the __apply__ method in pandas by writing a function "
   ]
  },
  {
   "cell_type": "code",
   "execution_count": 29,
   "metadata": {},
   "outputs": [],
   "source": [
    "# defining our functions\n",
    "def remove_brackets_values(cell):\n",
    "    if isinstance(cell, str):\n",
    "        return re.sub(r'\\[.*?\\]', '', cell)\n",
    "    return cell"
   ]
  },
  {
   "cell_type": "code",
   "execution_count": 30,
   "metadata": {},
   "outputs": [],
   "source": [
    "# using the apply function to apply the custom function on each cell\n",
    "flowers = flowers.applymap(remove_brackets_values)"
   ]
  },
  {
   "cell_type": "code",
   "execution_count": 31,
   "metadata": {},
   "outputs": [],
   "source": [
    "# resetting the index\n",
    "flowers.reset_index(drop=True, inplace=True)"
   ]
  },
  {
   "cell_type": "code",
   "execution_count": 32,
   "metadata": {},
   "outputs": [
    {
     "data": {
      "text/html": [
       "<div>\n",
       "<style scoped>\n",
       "    .dataframe tbody tr th:only-of-type {\n",
       "        vertical-align: middle;\n",
       "    }\n",
       "\n",
       "    .dataframe tbody tr th {\n",
       "        vertical-align: top;\n",
       "    }\n",
       "\n",
       "    .dataframe thead th {\n",
       "        text-align: right;\n",
       "    }\n",
       "</style>\n",
       "<table border=\"1\" class=\"dataframe\">\n",
       "  <thead>\n",
       "    <tr style=\"text-align: right;\">\n",
       "      <th></th>\n",
       "      <th>Flower</th>\n",
       "      <th>Flower</th>\n",
       "      <th>Meaning</th>\n",
       "    </tr>\n",
       "  </thead>\n",
       "  <tbody>\n",
       "    <tr>\n",
       "      <th>0</th>\n",
       "      <td>Acacia</td>\n",
       "      <td>rose or white</td>\n",
       "      <td>Secret Love</td>\n",
       "    </tr>\n",
       "    <tr>\n",
       "      <th>1</th>\n",
       "      <td>Acacia</td>\n",
       "      <td>yellow</td>\n",
       "      <td>Elegance</td>\n",
       "    </tr>\n",
       "    <tr>\n",
       "      <th>2</th>\n",
       "      <td>Abatina</td>\n",
       "      <td>Abatina</td>\n",
       "      <td>Fickleness</td>\n",
       "    </tr>\n",
       "    <tr>\n",
       "      <th>3</th>\n",
       "      <td>Acanthus</td>\n",
       "      <td>Acanthus</td>\n",
       "      <td>Art, Immortality, Rebirth</td>\n",
       "    </tr>\n",
       "    <tr>\n",
       "      <th>4</th>\n",
       "      <td>Agrimonia</td>\n",
       "      <td>Agrimonia</td>\n",
       "      <td>Thankfulness, gratitude</td>\n",
       "    </tr>\n",
       "    <tr>\n",
       "      <th>...</th>\n",
       "      <td>...</td>\n",
       "      <td>...</td>\n",
       "      <td>...</td>\n",
       "    </tr>\n",
       "    <tr>\n",
       "      <th>285</th>\n",
       "      <td>Wolfsbane</td>\n",
       "      <td>Wolfsbane</td>\n",
       "      <td>Misanthropy</td>\n",
       "    </tr>\n",
       "    <tr>\n",
       "      <th>286</th>\n",
       "      <td>Wormwood</td>\n",
       "      <td>Wormwood</td>\n",
       "      <td>Absence, bitter sorrow</td>\n",
       "    </tr>\n",
       "    <tr>\n",
       "      <th>287</th>\n",
       "      <td>Yarrow</td>\n",
       "      <td>Yarrow</td>\n",
       "      <td>Healing, inspiration</td>\n",
       "    </tr>\n",
       "    <tr>\n",
       "      <th>288</th>\n",
       "      <td>Ylang-Ylang</td>\n",
       "      <td>Ylang-Ylang</td>\n",
       "      <td>Never-ending love</td>\n",
       "    </tr>\n",
       "    <tr>\n",
       "      <th>289</th>\n",
       "      <td>Zinnia</td>\n",
       "      <td>Zinnia</td>\n",
       "      <td>Thinking of you; remembering absent friends, s...</td>\n",
       "    </tr>\n",
       "  </tbody>\n",
       "</table>\n",
       "<p>290 rows × 3 columns</p>\n",
       "</div>"
      ],
      "text/plain": [
       "          Flower         Flower  \\\n",
       "0         Acacia  rose or white   \n",
       "1         Acacia         yellow   \n",
       "2       Abatina        Abatina    \n",
       "3       Acanthus       Acanthus   \n",
       "4      Agrimonia      Agrimonia   \n",
       "..           ...            ...   \n",
       "285    Wolfsbane      Wolfsbane   \n",
       "286     Wormwood       Wormwood   \n",
       "287       Yarrow         Yarrow   \n",
       "288  Ylang-Ylang    Ylang-Ylang   \n",
       "289       Zinnia         Zinnia   \n",
       "\n",
       "                                               Meaning  \n",
       "0                                          Secret Love  \n",
       "1                                             Elegance  \n",
       "2                                           Fickleness  \n",
       "3                            Art, Immortality, Rebirth  \n",
       "4                              Thankfulness, gratitude  \n",
       "..                                                 ...  \n",
       "285                                        Misanthropy  \n",
       "286                             Absence, bitter sorrow  \n",
       "287                               Healing, inspiration  \n",
       "288                                  Never-ending love  \n",
       "289  Thinking of you; remembering absent friends, s...  \n",
       "\n",
       "[290 rows x 3 columns]"
      ]
     },
     "execution_count": 32,
     "metadata": {},
     "output_type": "execute_result"
    }
   ],
   "source": [
    "flowers"
   ]
  },
  {
   "cell_type": "code",
   "execution_count": 33,
   "metadata": {},
   "outputs": [
    {
     "data": {
      "text/html": [
       "<div>\n",
       "<style scoped>\n",
       "    .dataframe tbody tr th:only-of-type {\n",
       "        vertical-align: middle;\n",
       "    }\n",
       "\n",
       "    .dataframe tbody tr th {\n",
       "        vertical-align: top;\n",
       "    }\n",
       "\n",
       "    .dataframe thead th {\n",
       "        text-align: right;\n",
       "    }\n",
       "</style>\n",
       "<table border=\"1\" class=\"dataframe\">\n",
       "  <thead>\n",
       "    <tr style=\"text-align: right;\">\n",
       "      <th></th>\n",
       "      <th>Flower</th>\n",
       "      <th>Flower</th>\n",
       "    </tr>\n",
       "  </thead>\n",
       "  <tbody>\n",
       "    <tr>\n",
       "      <th>0</th>\n",
       "      <td>Acacia</td>\n",
       "      <td>rose or white</td>\n",
       "    </tr>\n",
       "    <tr>\n",
       "      <th>1</th>\n",
       "      <td>Acacia</td>\n",
       "      <td>yellow</td>\n",
       "    </tr>\n",
       "    <tr>\n",
       "      <th>2</th>\n",
       "      <td>Abatina</td>\n",
       "      <td>Abatina</td>\n",
       "    </tr>\n",
       "    <tr>\n",
       "      <th>3</th>\n",
       "      <td>Acanthus</td>\n",
       "      <td>Acanthus</td>\n",
       "    </tr>\n",
       "    <tr>\n",
       "      <th>4</th>\n",
       "      <td>Agrimonia</td>\n",
       "      <td>Agrimonia</td>\n",
       "    </tr>\n",
       "    <tr>\n",
       "      <th>...</th>\n",
       "      <td>...</td>\n",
       "      <td>...</td>\n",
       "    </tr>\n",
       "    <tr>\n",
       "      <th>285</th>\n",
       "      <td>Wolfsbane</td>\n",
       "      <td>Wolfsbane</td>\n",
       "    </tr>\n",
       "    <tr>\n",
       "      <th>286</th>\n",
       "      <td>Wormwood</td>\n",
       "      <td>Wormwood</td>\n",
       "    </tr>\n",
       "    <tr>\n",
       "      <th>287</th>\n",
       "      <td>Yarrow</td>\n",
       "      <td>Yarrow</td>\n",
       "    </tr>\n",
       "    <tr>\n",
       "      <th>288</th>\n",
       "      <td>Ylang-Ylang</td>\n",
       "      <td>Ylang-Ylang</td>\n",
       "    </tr>\n",
       "    <tr>\n",
       "      <th>289</th>\n",
       "      <td>Zinnia</td>\n",
       "      <td>Zinnia</td>\n",
       "    </tr>\n",
       "  </tbody>\n",
       "</table>\n",
       "<p>290 rows × 2 columns</p>\n",
       "</div>"
      ],
      "text/plain": [
       "          Flower         Flower\n",
       "0         Acacia  rose or white\n",
       "1         Acacia         yellow\n",
       "2       Abatina        Abatina \n",
       "3       Acanthus       Acanthus\n",
       "4      Agrimonia      Agrimonia\n",
       "..           ...            ...\n",
       "285    Wolfsbane      Wolfsbane\n",
       "286     Wormwood       Wormwood\n",
       "287       Yarrow         Yarrow\n",
       "288  Ylang-Ylang    Ylang-Ylang\n",
       "289       Zinnia         Zinnia\n",
       "\n",
       "[290 rows x 2 columns]"
      ]
     },
     "execution_count": 33,
     "metadata": {},
     "output_type": "execute_result"
    }
   ],
   "source": [
    "flowers['Flower']"
   ]
  },
  {
   "cell_type": "code",
   "execution_count": 34,
   "metadata": {},
   "outputs": [
    {
     "data": {
      "text/plain": [
       "Index(['Flower', 'Flower', 'Meaning'], dtype='object')"
      ]
     },
     "execution_count": 34,
     "metadata": {},
     "output_type": "execute_result"
    }
   ],
   "source": [
    "flowers.columns"
   ]
  },
  {
   "cell_type": "markdown",
   "metadata": {},
   "source": [
    "### we would be changing the value of the second column to 'Attribute'\n"
   ]
  },
  {
   "cell_type": "code",
   "execution_count": 35,
   "metadata": {},
   "outputs": [],
   "source": [
    "# we pick the second index of the columns and reassign it \n",
    "flowers.columns.values[1] = 'Attribute'"
   ]
  },
  {
   "cell_type": "code",
   "execution_count": 36,
   "metadata": {},
   "outputs": [
    {
     "data": {
      "text/plain": [
       "Index(['Flower', 'Attribute', 'Meaning'], dtype='object')"
      ]
     },
     "execution_count": 36,
     "metadata": {},
     "output_type": "execute_result"
    }
   ],
   "source": [
    "flowers.columns"
   ]
  },
  {
   "cell_type": "code",
   "execution_count": 37,
   "metadata": {},
   "outputs": [
    {
     "data": {
      "text/html": [
       "<div>\n",
       "<style scoped>\n",
       "    .dataframe tbody tr th:only-of-type {\n",
       "        vertical-align: middle;\n",
       "    }\n",
       "\n",
       "    .dataframe tbody tr th {\n",
       "        vertical-align: top;\n",
       "    }\n",
       "\n",
       "    .dataframe thead th {\n",
       "        text-align: right;\n",
       "    }\n",
       "</style>\n",
       "<table border=\"1\" class=\"dataframe\">\n",
       "  <thead>\n",
       "    <tr style=\"text-align: right;\">\n",
       "      <th></th>\n",
       "      <th>Flower</th>\n",
       "      <th>Attribute</th>\n",
       "      <th>Meaning</th>\n",
       "    </tr>\n",
       "  </thead>\n",
       "  <tbody>\n",
       "    <tr>\n",
       "      <th>0</th>\n",
       "      <td>Acacia</td>\n",
       "      <td>rose or white</td>\n",
       "      <td>Secret Love</td>\n",
       "    </tr>\n",
       "    <tr>\n",
       "      <th>1</th>\n",
       "      <td>Acacia</td>\n",
       "      <td>yellow</td>\n",
       "      <td>Elegance</td>\n",
       "    </tr>\n",
       "    <tr>\n",
       "      <th>2</th>\n",
       "      <td>Abatina</td>\n",
       "      <td>Abatina</td>\n",
       "      <td>Fickleness</td>\n",
       "    </tr>\n",
       "    <tr>\n",
       "      <th>3</th>\n",
       "      <td>Acanthus</td>\n",
       "      <td>Acanthus</td>\n",
       "      <td>Art, Immortality, Rebirth</td>\n",
       "    </tr>\n",
       "    <tr>\n",
       "      <th>4</th>\n",
       "      <td>Agrimonia</td>\n",
       "      <td>Agrimonia</td>\n",
       "      <td>Thankfulness, gratitude</td>\n",
       "    </tr>\n",
       "    <tr>\n",
       "      <th>...</th>\n",
       "      <td>...</td>\n",
       "      <td>...</td>\n",
       "      <td>...</td>\n",
       "    </tr>\n",
       "    <tr>\n",
       "      <th>285</th>\n",
       "      <td>Wolfsbane</td>\n",
       "      <td>Wolfsbane</td>\n",
       "      <td>Misanthropy</td>\n",
       "    </tr>\n",
       "    <tr>\n",
       "      <th>286</th>\n",
       "      <td>Wormwood</td>\n",
       "      <td>Wormwood</td>\n",
       "      <td>Absence, bitter sorrow</td>\n",
       "    </tr>\n",
       "    <tr>\n",
       "      <th>287</th>\n",
       "      <td>Yarrow</td>\n",
       "      <td>Yarrow</td>\n",
       "      <td>Healing, inspiration</td>\n",
       "    </tr>\n",
       "    <tr>\n",
       "      <th>288</th>\n",
       "      <td>Ylang-Ylang</td>\n",
       "      <td>Ylang-Ylang</td>\n",
       "      <td>Never-ending love</td>\n",
       "    </tr>\n",
       "    <tr>\n",
       "      <th>289</th>\n",
       "      <td>Zinnia</td>\n",
       "      <td>Zinnia</td>\n",
       "      <td>Thinking of you; remembering absent friends, s...</td>\n",
       "    </tr>\n",
       "  </tbody>\n",
       "</table>\n",
       "<p>290 rows × 3 columns</p>\n",
       "</div>"
      ],
      "text/plain": [
       "          Flower      Attribute  \\\n",
       "0         Acacia  rose or white   \n",
       "1         Acacia         yellow   \n",
       "2       Abatina        Abatina    \n",
       "3       Acanthus       Acanthus   \n",
       "4      Agrimonia      Agrimonia   \n",
       "..           ...            ...   \n",
       "285    Wolfsbane      Wolfsbane   \n",
       "286     Wormwood       Wormwood   \n",
       "287       Yarrow         Yarrow   \n",
       "288  Ylang-Ylang    Ylang-Ylang   \n",
       "289       Zinnia         Zinnia   \n",
       "\n",
       "                                               Meaning  \n",
       "0                                          Secret Love  \n",
       "1                                             Elegance  \n",
       "2                                           Fickleness  \n",
       "3                            Art, Immortality, Rebirth  \n",
       "4                              Thankfulness, gratitude  \n",
       "..                                                 ...  \n",
       "285                                        Misanthropy  \n",
       "286                             Absence, bitter sorrow  \n",
       "287                               Healing, inspiration  \n",
       "288                                  Never-ending love  \n",
       "289  Thinking of you; remembering absent friends, s...  \n",
       "\n",
       "[290 rows x 3 columns]"
      ]
     },
     "execution_count": 37,
     "metadata": {},
     "output_type": "execute_result"
    }
   ],
   "source": [
    "# confirming\n",
    "flowers"
   ]
  },
  {
   "cell_type": "markdown",
   "metadata": {},
   "source": [
    "#### At the end of the this course\n",
    "\n",
    "- we import the pandas library\n",
    "- we extracted table from the given url\n",
    "- we loop through each table to understand and know the needed table for our goal\n",
    "- we extracted a table for plant and flower\n",
    "- we rename the column\n",
    "- we remove or drop useless or wrong data from our table\n",
    "- we further clean our values to remove unnessary values like [9]\n",
    "- we rename duplicated columns head\n",
    "- we export our files"
   ]
  },
  {
   "cell_type": "code",
   "execution_count": 38,
   "metadata": {},
   "outputs": [],
   "source": [
    "# flowers.to_csv('plant-flower-meaning/flowers and their meaning.csv')"
   ]
  },
  {
   "cell_type": "code",
   "execution_count": null,
   "metadata": {},
   "outputs": [],
   "source": []
  },
  {
   "cell_type": "code",
   "execution_count": null,
   "metadata": {},
   "outputs": [],
   "source": []
  },
  {
   "cell_type": "code",
   "execution_count": null,
   "metadata": {},
   "outputs": [],
   "source": []
  },
  {
   "cell_type": "code",
   "execution_count": null,
   "metadata": {},
   "outputs": [],
   "source": []
  },
  {
   "cell_type": "code",
   "execution_count": null,
   "metadata": {},
   "outputs": [],
   "source": []
  },
  {
   "cell_type": "code",
   "execution_count": null,
   "metadata": {},
   "outputs": [],
   "source": []
  },
  {
   "cell_type": "code",
   "execution_count": null,
   "metadata": {},
   "outputs": [],
   "source": []
  },
  {
   "cell_type": "code",
   "execution_count": null,
   "metadata": {},
   "outputs": [],
   "source": []
  },
  {
   "cell_type": "code",
   "execution_count": null,
   "metadata": {},
   "outputs": [],
   "source": []
  },
  {
   "cell_type": "code",
   "execution_count": null,
   "metadata": {},
   "outputs": [],
   "source": []
  },
  {
   "cell_type": "code",
   "execution_count": null,
   "metadata": {},
   "outputs": [],
   "source": []
  }
 ],
 "metadata": {
  "kernelspec": {
   "display_name": "Python 3 (ipykernel)",
   "language": "python",
   "name": "python3"
  },
  "language_info": {
   "codemirror_mode": {
    "name": "ipython",
    "version": 3
   },
   "file_extension": ".py",
   "mimetype": "text/x-python",
   "name": "python",
   "nbconvert_exporter": "python",
   "pygments_lexer": "ipython3",
   "version": "3.11.5"
  }
 },
 "nbformat": 4,
 "nbformat_minor": 2
}
