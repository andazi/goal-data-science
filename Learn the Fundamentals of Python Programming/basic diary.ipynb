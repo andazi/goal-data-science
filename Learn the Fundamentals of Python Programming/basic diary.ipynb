{
 "cells": [
  {
   "cell_type": "code",
   "execution_count": 1,
   "id": "59a36cee",
   "metadata": {},
   "outputs": [],
   "source": [
    "# datetime library\n",
    "# class\n",
    "# functions\n",
    "# read and write\n",
    "# create txt file\n",
    "# while loop"
   ]
  },
  {
   "cell_type": "code",
   "execution_count": 2,
   "id": "7e0d219f",
   "metadata": {},
   "outputs": [],
   "source": [
    "import datetime"
   ]
  },
  {
   "cell_type": "code",
   "execution_count": 10,
   "id": "28427d9d",
   "metadata": {},
   "outputs": [
    {
     "ename": "SyntaxError",
     "evalue": "invalid syntax (3615709754.py, line 5)",
     "output_type": "error",
     "traceback": [
      "\u001b[0;36m  Cell \u001b[0;32mIn[10], line 5\u001b[0;36m\u001b[0m\n\u001b[0;31m    write open('basic-diary.txt', 'a') as diary_file:\u001b[0m\n\u001b[0m          ^\u001b[0m\n\u001b[0;31mSyntaxError\u001b[0m\u001b[0;31m:\u001b[0m invalid syntax\n"
     ]
    }
   ],
   "source": [
    "def add_entry(entry):\n",
    "    # read current time in format (year-month-day, hour:minute)\n",
    "    current_time = datetime.datetime.now().strftime(\"%Y-%m-%d, %H:%M\")\n",
    "    # read diary file\n",
    "    write open('basic-diary.txt', 'a') as diary_file:\n",
    "        diary_file.write(f'{current_time}\\n{entry}\\n\\n')\n",
    "    return current_time\n",
    "add_entry('what is up')"
   ]
  },
  {
   "cell_type": "code",
   "execution_count": 16,
   "id": "28134a6b",
   "metadata": {},
   "outputs": [
    {
     "data": {
      "text/plain": [
       "<__main__.Diary at 0x7f0264190450>"
      ]
     },
     "execution_count": 16,
     "metadata": {},
     "output_type": "execute_result"
    }
   ],
   "source": [
    "class Diary:\n",
    "    _diary = open(\"wrong file.txt\", \"x\")\n",
    "    \n",
    "    def __init__(self, filename):\n",
    "        self._diary = filename\n",
    "        \n",
    "        \n",
    "sam = Diary(\"Andazi entry.txt\")\n",
    "sam"
   ]
  }
 ],
 "metadata": {
  "kernelspec": {
   "display_name": "Python 3 (ipykernel)",
   "language": "python",
   "name": "python3"
  },
  "language_info": {
   "codemirror_mode": {
    "name": "ipython",
    "version": 3
   },
   "file_extension": ".py",
   "mimetype": "text/x-python",
   "name": "python",
   "nbconvert_exporter": "python",
   "pygments_lexer": "ipython3",
   "version": "3.11.5"
  }
 },
 "nbformat": 4,
 "nbformat_minor": 5
}
