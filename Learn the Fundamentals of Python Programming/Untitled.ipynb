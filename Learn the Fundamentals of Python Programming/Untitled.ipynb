{
 "cells": [
  {
   "cell_type": "code",
   "execution_count": 39,
   "id": "ed1d0f9e",
   "metadata": {},
   "outputs": [
    {
     "name": "stdout",
     "output_type": "stream",
     "text": [
      "19\n",
      "Guess a number between from 1 to 20?      1\n",
      "Number is too low\n",
      "Gameover, you LOSE\n",
      "Guess a number between from 1 to 20?      1\n",
      "Number is too low\n",
      "Gameover, you LOSE\n",
      "Guess a number between from 1 to 20?      1\n",
      "Number is too low\n",
      "Gameover, you LOSE\n",
      "GameOver\n"
     ]
    }
   ],
   "source": [
    "## import random\n",
    "\n",
    "trials = 3\n",
    "# generating random number between 1 and 20\n",
    "rand_number = random.randint(1,20)\n",
    "print(rand_number)\n",
    "while trials > 0:\n",
    "    guess = int(input('Guess a number between from 1 to 20?      '))\n",
    "    if guess == rand_number:\n",
    "        print('You have guessed correctly')\n",
    "        print('You WON')\n",
    "        # end while loop\n",
    "        trials = 0\n",
    "    else:\n",
    "        if guess > rand_number:\n",
    "            print('Number is too high')\n",
    "        else:\n",
    "            print('Number is too low')\n",
    "  \n",
    "    trials -= 1\n",
    "    if trials == 0:\n",
    "        print('GameOver')\n",
    "\n"
   ]
  },
  {
   "cell_type": "code",
   "execution_count": 32,
   "id": "4f5fb064",
   "metadata": {},
   "outputs": [
    {
     "name": "stdout",
     "output_type": "stream",
     "text": [
      "4\n",
      "Guess a number between from 1 to 20?      4\n",
      "You have guessed correctly\n",
      "You WON\n",
      "Guess a number between from 1 to 20?      4\n",
      "You have guessed correctly\n",
      "You WON\n",
      "Guess a number between from 1 to 20?      5\n",
      "2 0\n",
      "Number is too high\n",
      "Gameover, you LOSE\n"
     ]
    }
   ],
   "source": [
    "import random\n",
    "\n",
    "trials = 3\n",
    "\n",
    "while trials > 0:\n",
    "    # generating random number between 1 and 20\n",
    "    rand_number = random.randint(1,20)\n",
    "    print(rand_number)\n",
    "    # giving player 3 trials\n",
    "    for i in range(trials):\n",
    "        # input by default is a string\n",
    "        guess = int(input('Guess a number between from 1 to 20?      '))\n",
    "        if guess == rand_number:\n",
    "            print('You have guessed correctly')\n",
    "            print('You WON')\n",
    "            # end while loop\n",
    "            trials = 0\n",
    "        else:\n",
    "            print(i,trials)\n",
    "            if guess > rand_number:\n",
    "                print('Number is too high')\n",
    "            else:\n",
    "                print('Number is too low')\n",
    "    # message\n",
    "    print('Gameover, you LOSE')        \n",
    "    trials = 0\n"
   ]
  },
  {
   "cell_type": "code",
   "execution_count": 25,
   "id": "30f0a8f4",
   "metadata": {},
   "outputs": [
    {
     "name": "stdout",
     "output_type": "stream",
     "text": [
      "0 3\n",
      "1 2\n",
      "failed\n",
      "2 1\n"
     ]
    }
   ],
   "source": [
    "trials = 3\n",
    "for i in range(trials):\n",
    "    print(i,trials)\n",
    "    \n",
    "    if i == (trials - 1):\n",
    "        print('failed')\n",
    "    trials -= 1"
   ]
  },
  {
   "cell_type": "code",
   "execution_count": null,
   "id": "0000e89f",
   "metadata": {},
   "outputs": [],
   "source": []
  }
 ],
 "metadata": {
  "kernelspec": {
   "display_name": "Python 3 (ipykernel)",
   "language": "python",
   "name": "python3"
  },
  "language_info": {
   "codemirror_mode": {
    "name": "ipython",
    "version": 3
   },
   "file_extension": ".py",
   "mimetype": "text/x-python",
   "name": "python",
   "nbconvert_exporter": "python",
   "pygments_lexer": "ipython3",
   "version": "3.11.5"
  }
 },
 "nbformat": 4,
 "nbformat_minor": 5
}
