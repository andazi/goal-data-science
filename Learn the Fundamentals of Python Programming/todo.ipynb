{
 "cells": [
  {
   "cell_type": "code",
   "execution_count": 153,
   "id": "7ac54ecd",
   "metadata": {},
   "outputs": [],
   "source": [
    "# create a list to contain the todos\n",
    "# create a function that shows uncompleted todos and their index \n",
    "# create a function to add todos\n",
    "# create a function to remove todos\n",
    "# create a function to complete todos\n",
    "# create a list to show completed todos"
   ]
  },
  {
   "cell_type": "code",
   "execution_count": 154,
   "id": "e7dcbc0b",
   "metadata": {},
   "outputs": [],
   "source": [
    "# create a list to contain the todos\n",
    "todos = []"
   ]
  },
  {
   "cell_type": "code",
   "execution_count": 155,
   "id": "dfce5678",
   "metadata": {},
   "outputs": [],
   "source": [
    "# create a function to add todos"
   ]
  },
  {
   "cell_type": "code",
   "execution_count": 156,
   "id": "0d18e2cb",
   "metadata": {},
   "outputs": [],
   "source": [
    "def add_todo(todo):\n",
    "    todos.append(todo)"
   ]
  },
  {
   "cell_type": "code",
   "execution_count": 187,
   "id": "d618961f",
   "metadata": {},
   "outputs": [],
   "source": [
    "add_todo('Wash dishes')"
   ]
  },
  {
   "cell_type": "code",
   "execution_count": 175,
   "id": "40cdf121",
   "metadata": {},
   "outputs": [
    {
     "data": {
      "text/plain": [
       "['Wash dishes']"
      ]
     },
     "execution_count": 175,
     "metadata": {},
     "output_type": "execute_result"
    }
   ],
   "source": [
    "todos"
   ]
  },
  {
   "cell_type": "code",
   "execution_count": 176,
   "id": "ad4ecfe5",
   "metadata": {},
   "outputs": [],
   "source": [
    "# create a function that shows uncompleted todos and their index \n",
    "def show_todo():\n",
    "    print('*' * 100)\n",
    "    for ind,todo in enumerate(todos):\n",
    "        ind += 1\n",
    "        print(ind, '=>', todo)\n",
    "    print('*' * 100)"
   ]
  },
  {
   "cell_type": "code",
   "execution_count": 177,
   "id": "3b582225",
   "metadata": {},
   "outputs": [
    {
     "name": "stdout",
     "output_type": "stream",
     "text": [
      "****************************************************************************************************\n",
      "1 => Wash dishes\n",
      "****************************************************************************************************\n"
     ]
    }
   ],
   "source": [
    "show_todo()"
   ]
  },
  {
   "cell_type": "code",
   "execution_count": 178,
   "id": "ea07dc0a",
   "metadata": {},
   "outputs": [],
   "source": [
    "# create a function to remove todos\n",
    "def remove_todo(ind):\n",
    "    if (ind <= len(todos)) and (ind >= 0):\n",
    "        ind -= 1\n",
    "        todos.pop(ind)\n",
    "    else:\n",
    "        print('Todo does not exist')"
   ]
  },
  {
   "cell_type": "code",
   "execution_count": 179,
   "id": "41223418",
   "metadata": {},
   "outputs": [
    {
     "name": "stdout",
     "output_type": "stream",
     "text": [
      "Todo does not exist\n"
     ]
    }
   ],
   "source": [
    "remove_todo(-1)"
   ]
  },
  {
   "cell_type": "code",
   "execution_count": 188,
   "id": "5945838f",
   "metadata": {},
   "outputs": [
    {
     "name": "stdout",
     "output_type": "stream",
     "text": [
      "****************************************************************************************************\n",
      "1 => Wash dishes\n",
      "2 => Wash dishes\n",
      "3 => Wash dishes\n",
      "4 => Wash dishes\n",
      "5 => Wash dishes\n",
      "****************************************************************************************************\n"
     ]
    }
   ],
   "source": [
    "show_todo()"
   ]
  },
  {
   "cell_type": "code",
   "execution_count": 181,
   "id": "12e2f064",
   "metadata": {},
   "outputs": [],
   "source": [
    "# create a list to show completed todos\n",
    "completed_todos = []"
   ]
  },
  {
   "cell_type": "code",
   "execution_count": 191,
   "id": "252bf0e2",
   "metadata": {},
   "outputs": [],
   "source": [
    "# create a function to complete todos\n",
    "def complete_todo(ind):\n",
    "        if (ind <= len(todos)) and (ind >= 0):\n",
    "            ind -= 1\n",
    "            completed_todos.append(todos[ind])\n",
    "            todos.pop(ind)\n",
    "        else:\n",
    "            print('Todo does not exist')"
   ]
  },
  {
   "cell_type": "code",
   "execution_count": 193,
   "id": "4b829792",
   "metadata": {},
   "outputs": [],
   "source": [
    "complete_todo(1)"
   ]
  },
  {
   "cell_type": "code",
   "execution_count": 194,
   "id": "f736b5af",
   "metadata": {},
   "outputs": [
    {
     "data": {
      "text/plain": [
       "['Wash dishes', 'Wash dishes']"
      ]
     },
     "execution_count": 194,
     "metadata": {},
     "output_type": "execute_result"
    }
   ],
   "source": [
    "completed_todos"
   ]
  },
  {
   "cell_type": "code",
   "execution_count": 196,
   "id": "ebce82b0",
   "metadata": {},
   "outputs": [],
   "source": [
    "# create a list to show completed todos\n",
    "# create a function that shows uncompleted todos and their index \n",
    "def show_completed_todo():\n",
    "    print('*' * 100)\n",
    "    for ind,todo in enumerate(completed_todos):\n",
    "        ind += 1\n",
    "        print(ind, '=>', todo)\n",
    "    print('*' * 100)"
   ]
  },
  {
   "cell_type": "code",
   "execution_count": 197,
   "id": "b3eef226",
   "metadata": {},
   "outputs": [
    {
     "name": "stdout",
     "output_type": "stream",
     "text": [
      "****************************************************************************************************\n",
      "1 => Wash dishes\n",
      "2 => Wash dishes\n",
      "****************************************************************************************************\n"
     ]
    }
   ],
   "source": [
    "show_completed_todo()"
   ]
  },
  {
   "cell_type": "code",
   "execution_count": null,
   "id": "e4e9430d",
   "metadata": {},
   "outputs": [],
   "source": []
  },
  {
   "cell_type": "code",
   "execution_count": 372,
   "id": "d6ef1a23",
   "metadata": {},
   "outputs": [],
   "source": [
    "class Todos():\n",
    "    \n",
    "    def __init__(self):\n",
    "        self.todo_list = []\n",
    "        self.completed_list = []\n",
    "        \n",
    "    # create a function that shows uncompleted todos and their index \n",
    "    def show(self):\n",
    "        print('Todo List')\n",
    "        print('*' * 100)\n",
    "        for ind,todo in enumerate(self.todo_list):\n",
    "            ind += 1\n",
    "            print(ind, '=>', todo)\n",
    "        print('*' * 100)    \n",
    "    # create a function to add todos\n",
    "    def add(self,todo):\n",
    "        self.todo = todo\n",
    "        self.todo_list.append(self.todo)  \n",
    "        \n",
    "        # alway show Todo list\n",
    "       # show()\n",
    "    \n",
    "    # create a function to remove todos\n",
    "    def remove(self,ind):\n",
    "        self.ind = ind\n",
    "        if (self.ind <= len(self.todo_list)) and (self.ind >= 0):\n",
    "            ind -= 1\n",
    "            self.todo_list.pop(self.ind)\n",
    "        else:\n",
    "            print('Todo does not exist')  \n",
    "            \n",
    "    # create a function to complete todos\n",
    "    def complete(self,ind):\n",
    "        self.ind = ind\n",
    "        if (self.ind <= len(self.todo_list)) and (self.ind >= 0):\n",
    "            self.ind -= 1\n",
    "            self.completed_list.append(self.todo_list[self.ind])\n",
    "            self.todo_list.pop(self.ind)\n",
    "        else:\n",
    "            print('Todo does not exist')\n",
    "            \n",
    "    # create a list to show completed todos\n",
    "    # create a function that shows uncompleted todos and their index \n",
    "    def show_complete_todo(self):\n",
    "        print('Completed Todos')\n",
    "        print('*' * 100)\n",
    "        for ind,todo in enumerate(self.completed_list):\n",
    "            ind += 1\n",
    "            print(ind, '=>', todo)\n",
    "        print('*' * 100)\n",
    "        \n"
   ]
  },
  {
   "cell_type": "code",
   "execution_count": 379,
   "id": "64d9d522",
   "metadata": {},
   "outputs": [],
   "source": [
    "newt = Todos()"
   ]
  },
  {
   "cell_type": "code",
   "execution_count": 374,
   "id": "9ee3415e",
   "metadata": {},
   "outputs": [],
   "source": [
    "newt.add('sweep the room')"
   ]
  },
  {
   "cell_type": "code",
   "execution_count": 375,
   "id": "de4305fa",
   "metadata": {},
   "outputs": [],
   "source": [
    "newt.add('Take bath')"
   ]
  },
  {
   "cell_type": "code",
   "execution_count": 376,
   "id": "a7d6f66f",
   "metadata": {},
   "outputs": [],
   "source": [
    "newt.add('Cook Breakfast')"
   ]
  },
  {
   "cell_type": "code",
   "execution_count": 377,
   "id": "a4c64154",
   "metadata": {
    "scrolled": true
   },
   "outputs": [
    {
     "name": "stdout",
     "output_type": "stream",
     "text": [
      "Todo List\n",
      "****************************************************************************************************\n",
      "1 => sweep the room\n",
      "2 => Take bath\n",
      "3 => Cook Breakfast\n",
      "****************************************************************************************************\n"
     ]
    }
   ],
   "source": [
    "newt.show()"
   ]
  },
  {
   "cell_type": "code",
   "execution_count": 378,
   "id": "12e6c164",
   "metadata": {},
   "outputs": [],
   "source": [
    "newt.remove(2)"
   ]
  },
  {
   "cell_type": "code",
   "execution_count": 354,
   "id": "18ba714c",
   "metadata": {},
   "outputs": [
    {
     "name": "stdout",
     "output_type": "stream",
     "text": [
      "Todo List\n",
      "****************************************************************************************************\n",
      "1 => sweep the room\n",
      "2 => Take bath\n",
      "****************************************************************************************************\n"
     ]
    }
   ],
   "source": [
    "newt.show()"
   ]
  },
  {
   "cell_type": "code",
   "execution_count": 355,
   "id": "ce552110",
   "metadata": {},
   "outputs": [],
   "source": [
    "newt.add('Dress up for Work')"
   ]
  },
  {
   "cell_type": "code",
   "execution_count": 356,
   "id": "28af1c92",
   "metadata": {},
   "outputs": [
    {
     "name": "stdout",
     "output_type": "stream",
     "text": [
      "Todo List\n",
      "****************************************************************************************************\n",
      "1 => sweep the room\n",
      "2 => Take bath\n",
      "3 => Dress up for Work\n",
      "****************************************************************************************************\n"
     ]
    }
   ],
   "source": [
    "newt.show()"
   ]
  },
  {
   "cell_type": "code",
   "execution_count": 357,
   "id": "ae462932",
   "metadata": {},
   "outputs": [],
   "source": [
    "newt.complete(1)"
   ]
  },
  {
   "cell_type": "code",
   "execution_count": 358,
   "id": "c70d630b",
   "metadata": {},
   "outputs": [
    {
     "name": "stdout",
     "output_type": "stream",
     "text": [
      "Completed Todos\n",
      "****************************************************************************************************\n",
      "1 => sweep the room\n",
      "****************************************************************************************************\n"
     ]
    }
   ],
   "source": [
    "newt.show_complete_todo()"
   ]
  },
  {
   "cell_type": "code",
   "execution_count": 359,
   "id": "39c08d0f",
   "metadata": {},
   "outputs": [
    {
     "data": {
      "text/plain": [
       "['sweep the room']"
      ]
     },
     "execution_count": 359,
     "metadata": {},
     "output_type": "execute_result"
    }
   ],
   "source": [
    "newt.completed_list"
   ]
  },
  {
   "cell_type": "code",
   "execution_count": 424,
   "id": "6f232ae3",
   "metadata": {},
   "outputs": [],
   "source": [
    "class Todos():\n",
    "    \n",
    "    def __init__(self):\n",
    "        self.todo_list = []\n",
    "        self.completed_list = []\n",
    "        print(\"Todo List ==> choose from various options below\")\n",
    "        print(\"1 to 'add', 2 to 'remove', 3 to 'complete todo', 4 to 'show todos', 5 to 'show completed todo'\")\n",
    "        \n",
    "        actions = {\n",
    "            \"1\" : 'add',\n",
    "            \"2\" : 'remove',\n",
    "            \"3\" : 'complete todo',\n",
    "            \"4\" : 'show todos',\n",
    "            \"5\" : 'show completed todo'\n",
    "        }\n",
    "        \n",
    "        for i in actions:\n",
    "            print(i, actions[i])\n",
    "        \n",
    "        action = actions[input(\"Enter action    \")]\n",
    "\n",
    "        self.choice = action\n",
    "        \n",
    "        # issue here, need to read more on classed on how to call a method inside a class\n",
    "        #if self.choice == 1:\n",
    "       #     show()\n",
    "        \n",
    "    # create a function that shows uncompleted todos and their index \n",
    "    def show(self):\n",
    "        print(\"Todo List ==> choose from various options below\")\n",
    "        print(\"1 to 'add', 2 to 'remove', 3 to 'complete todo', 4 to 'show todos', 5 to 'show completed todo'\")\n",
    "        print('*' * 100)\n",
    "        for ind,todo in enumerate(self.todo_list):\n",
    "            ind += 1\n",
    "            print(ind, '=>', todo)\n",
    "        print('*' * 100)    \n",
    "    # create a function to add todos\n",
    "    def add(self,todo):\n",
    "        self.todo = todo\n",
    "        self.todo_list.append(self.todo)  \n",
    "        \n",
    "        # alway show Todo list\n",
    "       # show()\n",
    "    \n",
    "    # create a function to remove todos\n",
    "    def remove(self,ind):\n",
    "        self.ind = ind\n",
    "        if (self.ind <= len(self.todo_list)) and (self.ind >= 0):\n",
    "            ind -= 1\n",
    "            self.todo_list.pop(self.ind)\n",
    "        else:\n",
    "            print('Todo does not exist')  \n",
    "            \n",
    "    # create a function to complete todos\n",
    "    def complete(self,ind):\n",
    "        self.ind = ind\n",
    "        if (self.ind <= len(self.todo_list)) and (self.ind >= 0):\n",
    "            self.ind -= 1\n",
    "            self.completed_list.append(self.todo_list[self.ind])\n",
    "            self.todo_list.pop(self.ind)\n",
    "        else:\n",
    "            print('Todo does not exist')\n",
    "            \n",
    "    # create a list to show completed todos\n",
    "    # create a function that shows uncompleted todos and their index \n",
    "    def show_complete_todo(self):\n",
    "        print('Completed Todos')\n",
    "        print('*' * 100)\n",
    "        for ind,todo in enumerate(self.completed_list):\n",
    "            ind += 1\n",
    "            print(ind, '=>', todo)\n",
    "        print('*' * 100)\n",
    "        \n"
   ]
  },
  {
   "cell_type": "code",
   "execution_count": 425,
   "id": "c3ca4569",
   "metadata": {},
   "outputs": [
    {
     "name": "stdout",
     "output_type": "stream",
     "text": [
      "Todo List ==> choose from various options below\n",
      "1 to 'add', 2 to 'remove', 3 to 'complete todo', 4 to 'show todos', 5 to 'show completed todo'\n",
      "1 add\n",
      "2 remove\n",
      "3 complete todo\n",
      "4 show todos\n",
      "5 show completed todo\n",
      "Enter action    4\n"
     ]
    }
   ],
   "source": [
    "james = Todos()"
   ]
  },
  {
   "cell_type": "code",
   "execution_count": null,
   "id": "500b9281",
   "metadata": {},
   "outputs": [],
   "source": []
  }
 ],
 "metadata": {
  "kernelspec": {
   "display_name": "Python 3 (ipykernel)",
   "language": "python",
   "name": "python3"
  },
  "language_info": {
   "codemirror_mode": {
    "name": "ipython",
    "version": 3
   },
   "file_extension": ".py",
   "mimetype": "text/x-python",
   "name": "python",
   "nbconvert_exporter": "python",
   "pygments_lexer": "ipython3",
   "version": "3.11.5"
  }
 },
 "nbformat": 4,
 "nbformat_minor": 5
}
