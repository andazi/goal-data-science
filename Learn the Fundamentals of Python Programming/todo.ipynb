{
 "cells": [
  {
   "cell_type": "code",
   "execution_count": 153,
   "id": "e9906dbe",
   "metadata": {},
   "outputs": [],
   "source": [
    "# create a list to contain the todos\n",
    "# create a function that shows uncompleted todos and their index \n",
    "# create a function to add todos\n",
    "# create a function to remove todos\n",
    "# create a function to complete todos\n",
    "# create a list to show completed todos"
   ]
  },
  {
   "cell_type": "code",
   "execution_count": 154,
   "id": "c44540f3",
   "metadata": {},
   "outputs": [],
   "source": [
    "# create a list to contain the todos\n",
    "todos = []"
   ]
  },
  {
   "cell_type": "code",
   "execution_count": 155,
   "id": "3137947e",
   "metadata": {},
   "outputs": [],
   "source": [
    "# create a function to add todos"
   ]
  },
  {
   "cell_type": "code",
   "execution_count": 156,
   "id": "999a0fd0",
   "metadata": {},
   "outputs": [],
   "source": [
    "def add_todo(todo):\n",
    "    todos.append(todo)"
   ]
  },
  {
   "cell_type": "code",
   "execution_count": 187,
   "id": "b4f467dd",
   "metadata": {},
   "outputs": [],
   "source": [
    "add_todo('Wash dishes')"
   ]
  },
  {
   "cell_type": "code",
   "execution_count": 175,
   "id": "fc5616b2",
   "metadata": {},
   "outputs": [
    {
     "data": {
      "text/plain": [
       "['Wash dishes']"
      ]
     },
     "execution_count": 175,
     "metadata": {},
     "output_type": "execute_result"
    }
   ],
   "source": [
    "todos"
   ]
  },
  {
   "cell_type": "code",
   "execution_count": 176,
   "id": "213cde5b",
   "metadata": {},
   "outputs": [],
   "source": [
    "# create a function that shows uncompleted todos and their index \n",
    "def show_todo():\n",
    "    print('*' * 100)\n",
    "    for ind,todo in enumerate(todos):\n",
    "        ind += 1\n",
    "        print(ind, '=>', todo)\n",
    "    print('*' * 100)"
   ]
  },
  {
   "cell_type": "code",
   "execution_count": 177,
   "id": "ff218e3e",
   "metadata": {},
   "outputs": [
    {
     "name": "stdout",
     "output_type": "stream",
     "text": [
      "****************************************************************************************************\n",
      "1 => Wash dishes\n",
      "****************************************************************************************************\n"
     ]
    }
   ],
   "source": [
    "show_todo()"
   ]
  },
  {
   "cell_type": "code",
   "execution_count": 178,
   "id": "3bae8560",
   "metadata": {},
   "outputs": [],
   "source": [
    "# create a function to remove todos\n",
    "def remove_todo(ind):\n",
    "    if (ind <= len(todos)) and (ind >= 0):\n",
    "        ind -= 1\n",
    "        todos.pop(ind)\n",
    "    else:\n",
    "        print('Todo does not exist')"
   ]
  },
  {
   "cell_type": "code",
   "execution_count": 179,
   "id": "e319cf8b",
   "metadata": {},
   "outputs": [
    {
     "name": "stdout",
     "output_type": "stream",
     "text": [
      "Todo does not exist\n"
     ]
    }
   ],
   "source": [
    "remove_todo(-1)"
   ]
  },
  {
   "cell_type": "code",
   "execution_count": 188,
   "id": "8ea5e258",
   "metadata": {},
   "outputs": [
    {
     "name": "stdout",
     "output_type": "stream",
     "text": [
      "****************************************************************************************************\n",
      "1 => Wash dishes\n",
      "2 => Wash dishes\n",
      "3 => Wash dishes\n",
      "4 => Wash dishes\n",
      "5 => Wash dishes\n",
      "****************************************************************************************************\n"
     ]
    }
   ],
   "source": [
    "show_todo()"
   ]
  },
  {
   "cell_type": "code",
   "execution_count": 181,
   "id": "ed7e835d",
   "metadata": {},
   "outputs": [],
   "source": [
    "# create a list to show completed todos\n",
    "completed_todos = []"
   ]
  },
  {
   "cell_type": "code",
   "execution_count": 191,
   "id": "d6d53580",
   "metadata": {},
   "outputs": [],
   "source": [
    "# create a function to complete todos\n",
    "def complete_todo(ind):\n",
    "        if (ind <= len(todos)) and (ind >= 0):\n",
    "            ind -= 1\n",
    "            completed_todos.append(todos[ind])\n",
    "            todos.pop(ind)\n",
    "        else:\n",
    "            print('Todo does not exist')"
   ]
  },
  {
   "cell_type": "code",
   "execution_count": 193,
   "id": "0a7d0c8a",
   "metadata": {},
   "outputs": [],
   "source": [
    "complete_todo(1)"
   ]
  },
  {
   "cell_type": "code",
   "execution_count": 194,
   "id": "4a0c660d",
   "metadata": {},
   "outputs": [
    {
     "data": {
      "text/plain": [
       "['Wash dishes', 'Wash dishes']"
      ]
     },
     "execution_count": 194,
     "metadata": {},
     "output_type": "execute_result"
    }
   ],
   "source": [
    "completed_todos"
   ]
  },
  {
   "cell_type": "code",
   "execution_count": 196,
   "id": "6c0cdc9f",
   "metadata": {},
   "outputs": [],
   "source": [
    "# create a list to show completed todos\n",
    "# create a function that shows uncompleted todos and their index \n",
    "def show_completed_todo():\n",
    "    print('*' * 100)\n",
    "    for ind,todo in enumerate(completed_todos):\n",
    "        ind += 1\n",
    "        print(ind, '=>', todo)\n",
    "    print('*' * 100)"
   ]
  },
  {
   "cell_type": "code",
   "execution_count": 197,
   "id": "d4777ecd",
   "metadata": {},
   "outputs": [
    {
     "name": "stdout",
     "output_type": "stream",
     "text": [
      "****************************************************************************************************\n",
      "1 => Wash dishes\n",
      "2 => Wash dishes\n",
      "****************************************************************************************************\n"
     ]
    }
   ],
   "source": [
    "show_completed_todo()"
   ]
  },
  {
   "cell_type": "code",
   "execution_count": null,
   "id": "44f46029",
   "metadata": {},
   "outputs": [],
   "source": []
  },
  {
   "cell_type": "code",
   "execution_count": 347,
   "id": "c61c5f7a",
   "metadata": {},
   "outputs": [],
   "source": [
    "class Todos():\n",
    "    \n",
    "    def __init__(self):\n",
    "        self.todo_list = []\n",
    "        self.completed_list = []\n",
    "        \n",
    "    # create a function that shows uncompleted todos and their index \n",
    "    def show(self):\n",
    "        print('Todo List')\n",
    "        print('*' * 100)\n",
    "        for ind,todo in enumerate(self.todo_list):\n",
    "            ind += 1\n",
    "            print(ind, '=>', todo)\n",
    "        print('*' * 100)    \n",
    "    # create a function to add todos\n",
    "    def add(self,todo):\n",
    "        self.todo = todo\n",
    "        self.todo_list.append(self.todo)  \n",
    "        \n",
    "        # alway show Todo list\n",
    "       # show()\n",
    "    \n",
    "    # create a function to remove todos\n",
    "    def remove(self,ind):\n",
    "        self.ind = ind\n",
    "        if (self.ind <= len(self.todo_list)) and (self.ind >= 0):\n",
    "            ind -= 1\n",
    "            self.todo_list.pop(self.ind)\n",
    "        else:\n",
    "            print('Todo does not exist')  \n",
    "            \n",
    "    # create a function to complete todos\n",
    "    def complete(self,ind):\n",
    "        self.ind = ind\n",
    "        if (self.ind <= len(self.todo_list)) and (self.ind >= 0):\n",
    "            self.ind -= 1\n",
    "            self.completed_list.append(self.todo_list[self.ind])\n",
    "            self.todo_list.pop(self.ind)\n",
    "        else:\n",
    "            print('Todo does not exist')\n",
    "            \n",
    "    # create a list to show completed todos\n",
    "    # create a function that shows uncompleted todos and their index \n",
    "    def show_complete_todo(self):\n",
    "        print('Completed Todos')\n",
    "        print('*' * 100)\n",
    "        for ind,todo in enumerate(self.completed_list):\n",
    "            ind += 1\n",
    "            print(ind, '=>', todo)\n",
    "        print('*' * 100)\n",
    "        \n"
   ]
  },
  {
   "cell_type": "code",
   "execution_count": 348,
   "id": "44660a10",
   "metadata": {},
   "outputs": [],
   "source": [
    "newt = Todos()"
   ]
  },
  {
   "cell_type": "code",
   "execution_count": 349,
   "id": "b2c924dd",
   "metadata": {},
   "outputs": [],
   "source": [
    "newt.add('sweep the room')"
   ]
  },
  {
   "cell_type": "code",
   "execution_count": 350,
   "id": "b61ce3a5",
   "metadata": {},
   "outputs": [],
   "source": [
    "newt.add('Take bath')"
   ]
  },
  {
   "cell_type": "code",
   "execution_count": 351,
   "id": "3f697b6d",
   "metadata": {},
   "outputs": [],
   "source": [
    "newt.add('Cook Breakfast')"
   ]
  },
  {
   "cell_type": "code",
   "execution_count": 352,
   "id": "854a810a",
   "metadata": {},
   "outputs": [
    {
     "name": "stdout",
     "output_type": "stream",
     "text": [
      "Todo List\n",
      "****************************************************************************************************\n",
      "1 => sweep the room\n",
      "2 => Take bath\n",
      "3 => Cook Breakfast\n",
      "****************************************************************************************************\n"
     ]
    }
   ],
   "source": [
    "newt.show()"
   ]
  },
  {
   "cell_type": "code",
   "execution_count": 353,
   "id": "9edeb5c6",
   "metadata": {},
   "outputs": [],
   "source": [
    "newt.remove(2)"
   ]
  },
  {
   "cell_type": "code",
   "execution_count": 354,
   "id": "a860b505",
   "metadata": {},
   "outputs": [
    {
     "name": "stdout",
     "output_type": "stream",
     "text": [
      "Todo List\n",
      "****************************************************************************************************\n",
      "1 => sweep the room\n",
      "2 => Take bath\n",
      "****************************************************************************************************\n"
     ]
    }
   ],
   "source": [
    "newt.show()"
   ]
  },
  {
   "cell_type": "code",
   "execution_count": 355,
   "id": "a41ece6d",
   "metadata": {},
   "outputs": [],
   "source": [
    "newt.add('Dress up for Work')"
   ]
  },
  {
   "cell_type": "code",
   "execution_count": 356,
   "id": "7c1b98e8",
   "metadata": {},
   "outputs": [
    {
     "name": "stdout",
     "output_type": "stream",
     "text": [
      "Todo List\n",
      "****************************************************************************************************\n",
      "1 => sweep the room\n",
      "2 => Take bath\n",
      "3 => Dress up for Work\n",
      "****************************************************************************************************\n"
     ]
    }
   ],
   "source": [
    "newt.show()"
   ]
  },
  {
   "cell_type": "code",
   "execution_count": 357,
   "id": "f4533477",
   "metadata": {},
   "outputs": [],
   "source": [
    "newt.complete(1)"
   ]
  },
  {
   "cell_type": "code",
   "execution_count": 358,
   "id": "044e600e",
   "metadata": {},
   "outputs": [
    {
     "name": "stdout",
     "output_type": "stream",
     "text": [
      "Completed Todos\n",
      "****************************************************************************************************\n",
      "1 => sweep the room\n",
      "****************************************************************************************************\n"
     ]
    }
   ],
   "source": [
    "newt.show_complete_todo()"
   ]
  },
  {
   "cell_type": "code",
   "execution_count": 359,
   "id": "1364e88a",
   "metadata": {},
   "outputs": [
    {
     "data": {
      "text/plain": [
       "['sweep the room']"
      ]
     },
     "execution_count": 359,
     "metadata": {},
     "output_type": "execute_result"
    }
   ],
   "source": [
    "newt.completed_list"
   ]
  },
  {
   "cell_type": "code",
   "execution_count": null,
   "id": "d41fef7d",
   "metadata": {},
   "outputs": [],
   "source": []
  }
 ],
 "metadata": {
  "kernelspec": {
   "display_name": "Python 3 (ipykernel)",
   "language": "python",
   "name": "python3"
  },
  "language_info": {
   "codemirror_mode": {
    "name": "ipython",
    "version": 3
   },
   "file_extension": ".py",
   "mimetype": "text/x-python",
   "name": "python",
   "nbconvert_exporter": "python",
   "pygments_lexer": "ipython3",
   "version": "3.11.5"
  }
 },
 "nbformat": 4,
 "nbformat_minor": 5
}
