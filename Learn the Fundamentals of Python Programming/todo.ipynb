{
 "cells": [
  {
   "cell_type": "code",
   "execution_count": 153,
   "id": "7f989a5e",
   "metadata": {},
   "outputs": [],
   "source": [
    "# create a list to contain the todos\n",
    "# create a function that shows uncompleted todos and their index \n",
    "# create a function to add todos\n",
    "# create a function to remove todos\n",
    "# create a function to complete todos\n",
    "# create a list to show completed todos"
   ]
  },
  {
   "cell_type": "code",
   "execution_count": 154,
   "id": "a5e986e2",
   "metadata": {},
   "outputs": [],
   "source": [
    "# create a list to contain the todos\n",
    "todos = []"
   ]
  },
  {
   "cell_type": "code",
   "execution_count": 155,
   "id": "500132e1",
   "metadata": {},
   "outputs": [],
   "source": [
    "# create a function to add todos"
   ]
  },
  {
   "cell_type": "code",
   "execution_count": 156,
   "id": "b0a910b9",
   "metadata": {},
   "outputs": [],
   "source": [
    "def add_todo(todo):\n",
    "    todos.append(todo)"
   ]
  },
  {
   "cell_type": "code",
   "execution_count": 187,
   "id": "657f3c7e",
   "metadata": {},
   "outputs": [],
   "source": [
    "add_todo('Wash dishes')"
   ]
  },
  {
   "cell_type": "code",
   "execution_count": 175,
   "id": "a5d714b7",
   "metadata": {},
   "outputs": [
    {
     "data": {
      "text/plain": [
       "['Wash dishes']"
      ]
     },
     "execution_count": 175,
     "metadata": {},
     "output_type": "execute_result"
    }
   ],
   "source": [
    "todos"
   ]
  },
  {
   "cell_type": "code",
   "execution_count": 176,
   "id": "af53f7fd",
   "metadata": {},
   "outputs": [],
   "source": [
    "# create a function that shows uncompleted todos and their index \n",
    "def show_todo():\n",
    "    print('*' * 100)\n",
    "    for ind,todo in enumerate(todos):\n",
    "        ind += 1\n",
    "        print(ind, '=>', todo)\n",
    "    print('*' * 100)"
   ]
  },
  {
   "cell_type": "code",
   "execution_count": 177,
   "id": "ed308d93",
   "metadata": {},
   "outputs": [
    {
     "name": "stdout",
     "output_type": "stream",
     "text": [
      "****************************************************************************************************\n",
      "1 => Wash dishes\n",
      "****************************************************************************************************\n"
     ]
    }
   ],
   "source": [
    "show_todo()"
   ]
  },
  {
   "cell_type": "code",
   "execution_count": 178,
   "id": "78310224",
   "metadata": {},
   "outputs": [],
   "source": [
    "# create a function to remove todos\n",
    "def remove_todo(ind):\n",
    "    if (ind <= len(todos)) and (ind >= 0):\n",
    "        ind -= 1\n",
    "        todos.pop(ind)\n",
    "    else:\n",
    "        print('Todo does not exist')"
   ]
  },
  {
   "cell_type": "code",
   "execution_count": 179,
   "id": "23564737",
   "metadata": {},
   "outputs": [
    {
     "name": "stdout",
     "output_type": "stream",
     "text": [
      "Todo does not exist\n"
     ]
    }
   ],
   "source": [
    "remove_todo(-1)"
   ]
  },
  {
   "cell_type": "code",
   "execution_count": 188,
   "id": "74ed5c5f",
   "metadata": {},
   "outputs": [
    {
     "name": "stdout",
     "output_type": "stream",
     "text": [
      "****************************************************************************************************\n",
      "1 => Wash dishes\n",
      "2 => Wash dishes\n",
      "3 => Wash dishes\n",
      "4 => Wash dishes\n",
      "5 => Wash dishes\n",
      "****************************************************************************************************\n"
     ]
    }
   ],
   "source": [
    "show_todo()"
   ]
  },
  {
   "cell_type": "code",
   "execution_count": 181,
   "id": "e69543b2",
   "metadata": {},
   "outputs": [],
   "source": [
    "# create a list to show completed todos\n",
    "completed_todos = []"
   ]
  },
  {
   "cell_type": "code",
   "execution_count": 191,
   "id": "0f3794b9",
   "metadata": {},
   "outputs": [],
   "source": [
    "# create a function to complete todos\n",
    "def complete_todo(ind):\n",
    "        if (ind <= len(todos)) and (ind >= 0):\n",
    "            ind -= 1\n",
    "            completed_todos.append(todos[ind])\n",
    "            todos.pop(ind)\n",
    "        else:\n",
    "            print('Todo does not exist')"
   ]
  },
  {
   "cell_type": "code",
   "execution_count": 193,
   "id": "a02e2ca6",
   "metadata": {},
   "outputs": [],
   "source": [
    "complete_todo(1)"
   ]
  },
  {
   "cell_type": "code",
   "execution_count": 194,
   "id": "d5a6911b",
   "metadata": {},
   "outputs": [
    {
     "data": {
      "text/plain": [
       "['Wash dishes', 'Wash dishes']"
      ]
     },
     "execution_count": 194,
     "metadata": {},
     "output_type": "execute_result"
    }
   ],
   "source": [
    "completed_todos"
   ]
  },
  {
   "cell_type": "code",
   "execution_count": 196,
   "id": "67a98c97",
   "metadata": {},
   "outputs": [],
   "source": [
    "# create a list to show completed todos\n",
    "# create a function that shows uncompleted todos and their index \n",
    "def show_completed_todo():\n",
    "    print('*' * 100)\n",
    "    for ind,todo in enumerate(completed_todos):\n",
    "        ind += 1\n",
    "        print(ind, '=>', todo)\n",
    "    print('*' * 100)"
   ]
  },
  {
   "cell_type": "code",
   "execution_count": 197,
   "id": "5e1f7bf7",
   "metadata": {},
   "outputs": [
    {
     "name": "stdout",
     "output_type": "stream",
     "text": [
      "****************************************************************************************************\n",
      "1 => Wash dishes\n",
      "2 => Wash dishes\n",
      "****************************************************************************************************\n"
     ]
    }
   ],
   "source": [
    "show_completed_todo()"
   ]
  },
  {
   "cell_type": "code",
   "execution_count": null,
   "id": "2f06d850",
   "metadata": {},
   "outputs": [],
   "source": []
  },
  {
   "cell_type": "code",
   "execution_count": 372,
   "id": "6b8d404a",
   "metadata": {},
   "outputs": [],
   "source": [
    "class Todos():\n",
    "    \n",
    "    def __init__(self):\n",
    "        self.todo_list = []\n",
    "        self.completed_list = []\n",
    "        \n",
    "    # create a function that shows uncompleted todos and their index \n",
    "    def show(self):\n",
    "        print('Todo List')\n",
    "        print('*' * 100)\n",
    "        for ind,todo in enumerate(self.todo_list):\n",
    "            ind += 1\n",
    "            print(ind, '=>', todo)\n",
    "        print('*' * 100)    \n",
    "    # create a function to add todos\n",
    "    def add(self,todo):\n",
    "        self.todo = todo\n",
    "        self.todo_list.append(self.todo)  \n",
    "        \n",
    "        # alway show Todo list\n",
    "       # show()\n",
    "    \n",
    "    # create a function to remove todos\n",
    "    def remove(self,ind):\n",
    "        self.ind = ind\n",
    "        if (self.ind <= len(self.todo_list)) and (self.ind >= 0):\n",
    "            ind -= 1\n",
    "            self.todo_list.pop(self.ind)\n",
    "        else:\n",
    "            print('Todo does not exist')  \n",
    "            \n",
    "    # create a function to complete todos\n",
    "    def complete(self,ind):\n",
    "        self.ind = ind\n",
    "        if (self.ind <= len(self.todo_list)) and (self.ind >= 0):\n",
    "            self.ind -= 1\n",
    "            self.completed_list.append(self.todo_list[self.ind])\n",
    "            self.todo_list.pop(self.ind)\n",
    "        else:\n",
    "            print('Todo does not exist')\n",
    "            \n",
    "    # create a list to show completed todos\n",
    "    # create a function that shows uncompleted todos and their index \n",
    "    def show_complete_todo(self):\n",
    "        print('Completed Todos')\n",
    "        print('*' * 100)\n",
    "        for ind,todo in enumerate(self.completed_list):\n",
    "            ind += 1\n",
    "            print(ind, '=>', todo)\n",
    "        print('*' * 100)\n",
    "        \n"
   ]
  },
  {
   "cell_type": "code",
   "execution_count": 379,
   "id": "68c765ee",
   "metadata": {},
   "outputs": [],
   "source": [
    "newt = Todos()"
   ]
  },
  {
   "cell_type": "code",
   "execution_count": 374,
   "id": "8d9ff2a6",
   "metadata": {},
   "outputs": [],
   "source": [
    "newt.add('sweep the room')"
   ]
  },
  {
   "cell_type": "code",
   "execution_count": 375,
   "id": "f4bfb95e",
   "metadata": {},
   "outputs": [],
   "source": [
    "newt.add('Take bath')"
   ]
  },
  {
   "cell_type": "code",
   "execution_count": 376,
   "id": "9c528144",
   "metadata": {},
   "outputs": [],
   "source": [
    "newt.add('Cook Breakfast')"
   ]
  },
  {
   "cell_type": "code",
   "execution_count": 377,
   "id": "c08cee10",
   "metadata": {
    "scrolled": true
   },
   "outputs": [
    {
     "name": "stdout",
     "output_type": "stream",
     "text": [
      "Todo List\n",
      "****************************************************************************************************\n",
      "1 => sweep the room\n",
      "2 => Take bath\n",
      "3 => Cook Breakfast\n",
      "****************************************************************************************************\n"
     ]
    }
   ],
   "source": [
    "newt.show()"
   ]
  },
  {
   "cell_type": "code",
   "execution_count": 378,
   "id": "49d35af7",
   "metadata": {},
   "outputs": [],
   "source": [
    "newt.remove(2)"
   ]
  },
  {
   "cell_type": "code",
   "execution_count": 354,
   "id": "995ab9a4",
   "metadata": {},
   "outputs": [
    {
     "name": "stdout",
     "output_type": "stream",
     "text": [
      "Todo List\n",
      "****************************************************************************************************\n",
      "1 => sweep the room\n",
      "2 => Take bath\n",
      "****************************************************************************************************\n"
     ]
    }
   ],
   "source": [
    "newt.show()"
   ]
  },
  {
   "cell_type": "code",
   "execution_count": 355,
   "id": "1aa9b2c8",
   "metadata": {},
   "outputs": [],
   "source": [
    "newt.add('Dress up for Work')"
   ]
  },
  {
   "cell_type": "code",
   "execution_count": 356,
   "id": "0716ced2",
   "metadata": {},
   "outputs": [
    {
     "name": "stdout",
     "output_type": "stream",
     "text": [
      "Todo List\n",
      "****************************************************************************************************\n",
      "1 => sweep the room\n",
      "2 => Take bath\n",
      "3 => Dress up for Work\n",
      "****************************************************************************************************\n"
     ]
    }
   ],
   "source": [
    "newt.show()"
   ]
  },
  {
   "cell_type": "code",
   "execution_count": 357,
   "id": "6de04b49",
   "metadata": {},
   "outputs": [],
   "source": [
    "newt.complete(1)"
   ]
  },
  {
   "cell_type": "code",
   "execution_count": 358,
   "id": "a7d7727c",
   "metadata": {},
   "outputs": [
    {
     "name": "stdout",
     "output_type": "stream",
     "text": [
      "Completed Todos\n",
      "****************************************************************************************************\n",
      "1 => sweep the room\n",
      "****************************************************************************************************\n"
     ]
    }
   ],
   "source": [
    "newt.show_complete_todo()"
   ]
  },
  {
   "cell_type": "code",
   "execution_count": 359,
   "id": "29254163",
   "metadata": {},
   "outputs": [
    {
     "data": {
      "text/plain": [
       "['sweep the room']"
      ]
     },
     "execution_count": 359,
     "metadata": {},
     "output_type": "execute_result"
    }
   ],
   "source": [
    "newt.completed_list"
   ]
  },
  {
   "cell_type": "code",
   "execution_count": 489,
   "id": "cce96161",
   "metadata": {},
   "outputs": [],
   "source": [
    "class Todos():\n",
    "    \n",
    "    def __init__(self):\n",
    "        self.todo_list = []\n",
    "        self.completed_list = []\n",
    "        print(\"Todo List ==> choose from various options below\")\n",
    "\n",
    "        self.actions = {\n",
    "            \"1\" : 'add',\n",
    "            \"2\" : 'remove',\n",
    "            \"3\" : 'completed',\n",
    "            \"4\" : 'show todos',\n",
    "            \"5\" : 'show completed todo',\n",
    "            \"6\" : 'exit'\n",
    "        }\n",
    "        print(\"Select specific number for action\")\n",
    "        for i in self.actions:\n",
    "            print(i, self.actions[i])\n",
    "        \n",
    "        self.action = input(\"Enter action    \")\n",
    "        \n",
    "        # setActions loop\n",
    "        while self.action != \"6\":\n",
    "            \n",
    "            self.setActions()\n",
    "            for i in self.actions:\n",
    "                print(i, self.actions[i])\n",
    "            self.action = input(\"Enter action    \")\n",
    "        \n",
    "    # create a function that shows uncompleted todos and their index \n",
    "    def show(self):\n",
    "        \n",
    "        print('______TODO LISTS______')\n",
    "        print('*' * 100)\n",
    "        for ind,todo in enumerate(self.todo_list):\n",
    "            ind += 1\n",
    "            print(ind, '=>', todo)\n",
    "        print('*' * 100)    \n",
    "    # create a function to add todos\n",
    "    def add(self,todo):\n",
    "        self.todo = todo\n",
    "        self.todo_list.append(self.todo)  \n",
    "        \n",
    "        # alway show Todo list\n",
    "        self.show()\n",
    "    \n",
    "    # create a function to remove todos\n",
    "    def remove(self,ind):\n",
    "        self.ind = ind\n",
    "        if (self.ind <= len(self.todo_list)) and (self.ind >= 0):\n",
    "            ind -= 1\n",
    "            self.todo_list.pop(self.ind)\n",
    "        else:\n",
    "            print('Todo does not exist')  \n",
    "        \n",
    "        # show Todo List\n",
    "        self.show()\n",
    "            \n",
    "    # create a function to complete todos\n",
    "    def complete(self,ind):\n",
    "        self.ind = ind\n",
    "        if (self.ind <= len(self.todo_list)) and (self.ind >= 0):\n",
    "            self.ind -= 1\n",
    "            print(self.todo_list[self.ind], \" => Mark as complete\")\n",
    "            self.completed_list.append(self.todo_list[self.ind])\n",
    "            self.todo_list.pop(self.ind)\n",
    "        else:\n",
    "            print('Todo does not exist')\n",
    "            \n",
    "    # create a list to show completed todos\n",
    "    # create a function that shows uncompleted todos and their index \n",
    "    def show_complete_todo(self):\n",
    "        print('____Completed Todos_____')\n",
    "        print('*' * 100)\n",
    "        if len(self.completed_list) > 0:\n",
    "            for ind,todo in enumerate(self.completed_list):\n",
    "                ind += 1\n",
    "                print(ind, '=>', todo)\n",
    "        else:\n",
    "            print('NO COMPLETED TODOS')\n",
    "        print('*' * 100)\n",
    "        \n",
    "    def setActions(self):\n",
    "     \n",
    "        self.choice = self.actions[self.action]\n",
    "\n",
    "        # issue here, need to read more on class on how to call a method inside a class\n",
    "        if self.choice == self.actions['1']:\n",
    "            addTodo = input('Write Todo:  ')\n",
    "            self.add(addTodo)\n",
    "        elif self.choice == self.actions['2']:\n",
    "            self.show()\n",
    "            removeTodo = int(input('Enter index of Todo to remove:    '))\n",
    "            self.remove(removeTodo)\n",
    "        elif self.choice == self.actions['3']:\n",
    "            completeTodo = int(input('Enter index of todo you have completed:   '))\n",
    "            self.complete(completeTodo)\n",
    "        elif self.choice == self.actions['4']:\n",
    "            self.show()\n",
    "        elif self.choice == self.actions['5']:    \n",
    "            self.show_complete_todo()\n",
    "        else:\n",
    "            print('Choose from 1 to 5')\n",
    "        \n"
   ]
  },
  {
   "cell_type": "code",
   "execution_count": 490,
   "id": "40dbf11c",
   "metadata": {},
   "outputs": [
    {
     "name": "stdout",
     "output_type": "stream",
     "text": [
      "Todo List ==> choose from various options below\n",
      "Select specific number for action\n",
      "1 add\n",
      "2 remove\n",
      "3 completed\n",
      "4 show todos\n",
      "5 show completed todo\n",
      "6 exit\n",
      "Enter action    1\n",
      "Write Todo:  WRITE A NEWSPAPER\n",
      "______TODO LISTS______\n",
      "****************************************************************************************************\n",
      "1 => WRITE A NEWSPAPER\n",
      "****************************************************************************************************\n",
      "1 add\n",
      "2 remove\n",
      "3 completed\n",
      "4 show todos\n",
      "5 show completed todo\n",
      "6 exit\n",
      "Enter action    1\n",
      "Write Todo:  drink from the tap\n",
      "______TODO LISTS______\n",
      "****************************************************************************************************\n",
      "1 => WRITE A NEWSPAPER\n",
      "2 => drink from the tap\n",
      "****************************************************************************************************\n",
      "1 add\n",
      "2 remove\n",
      "3 completed\n",
      "4 show todos\n",
      "5 show completed todo\n",
      "6 exit\n",
      "Enter action    4\n",
      "______TODO LISTS______\n",
      "****************************************************************************************************\n",
      "1 => WRITE A NEWSPAPER\n",
      "2 => drink from the tap\n",
      "****************************************************************************************************\n",
      "1 add\n",
      "2 remove\n",
      "3 completed\n",
      "4 show todos\n",
      "5 show completed todo\n",
      "6 exit\n",
      "Enter action    5\n",
      "____Completed Todos_____\n",
      "****************************************************************************************************\n",
      "****************************************************************************************************\n",
      "1 add\n",
      "2 remove\n",
      "3 completed\n",
      "4 show todos\n",
      "5 show completed todo\n",
      "6 exit\n",
      "Enter action    6\n"
     ]
    }
   ],
   "source": [
    "james = Todos()"
   ]
  },
  {
   "cell_type": "code",
   "execution_count": null,
   "id": "2f348d59",
   "metadata": {},
   "outputs": [],
   "source": []
  }
 ],
 "metadata": {
  "kernelspec": {
   "display_name": "Python 3 (ipykernel)",
   "language": "python",
   "name": "python3"
  },
  "language_info": {
   "codemirror_mode": {
    "name": "ipython",
    "version": 3
   },
   "file_extension": ".py",
   "mimetype": "text/x-python",
   "name": "python",
   "nbconvert_exporter": "python",
   "pygments_lexer": "ipython3",
   "version": "3.11.5"
  }
 },
 "nbformat": 4,
 "nbformat_minor": 5
}
